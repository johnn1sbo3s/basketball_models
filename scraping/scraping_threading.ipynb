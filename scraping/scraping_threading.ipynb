{
 "cells": [
  {
   "cell_type": "code",
   "execution_count": null,
   "metadata": {},
   "outputs": [],
   "source": [
    "from scripts.SeasonUpdater import *\n",
    "import threading"
   ]
  },
  {
   "cell_type": "code",
   "execution_count": null,
   "metadata": {},
   "outputs": [],
   "source": [
    "# Função para chamar atualiza_temporada com diferentes parâmetros\n",
    "def rodar_atualizacoes_concorrentes():\n",
    "    urls = [\n",
    "        'https://www.flashscore.com.br/basquete/eua/nba-2019-2020/resultados/',\n",
    "        'https://www.flashscore.com.br/basquete/eua/nba-2020-2021/resultados/',\n",
    "        'https://www.flashscore.com.br/basquete/eua/nba-2021-2022/resultados/',\n",
    "        'https://www.flashscore.com.br/basquete/eua/nba-2022-2023/resultados/',\n",
    "    ]\n",
    "\n",
    "    arquivos_csv = [\n",
    "        'data/nba_2019_2020.csv',\n",
    "        'data/nba_2020_2021.csv',\n",
    "        'data/nba_2021_2022.csv',\n",
    "        'data/nba_2022_2023.csv',\n",
    "    ]\n",
    "    limite = 3000\n",
    "\n",
    "    # Criar as threads\n",
    "    threads = []\n",
    "    for url, arquivo_csv in zip(urls, arquivos_csv):\n",
    "        thread = threading.Thread(target=atualiza_temporada, args=(url, arquivo_csv, limite))\n",
    "        threads.append(thread)\n",
    "\n",
    "    # Iniciar as threads\n",
    "    for thread in threads:\n",
    "        thread.start()\n",
    "\n",
    "    # Esperar todas as threads terminarem\n",
    "    for thread in threads:\n",
    "        thread.join()\n",
    "\n",
    "# Chamar a função que executa as atualizações em threads\n",
    "rodar_atualizacoes_concorrentes()"
   ]
  }
 ],
 "metadata": {
  "kernelspec": {
   "display_name": "venv",
   "language": "python",
   "name": "python3"
  },
  "language_info": {
   "codemirror_mode": {
    "name": "ipython",
    "version": 3
   },
   "file_extension": ".py",
   "mimetype": "text/x-python",
   "name": "python",
   "nbconvert_exporter": "python",
   "pygments_lexer": "ipython3",
   "version": "3.10.7"
  },
  "orig_nbformat": 4
 },
 "nbformat": 4,
 "nbformat_minor": 2
}
