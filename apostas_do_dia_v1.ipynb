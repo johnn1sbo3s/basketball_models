{
 "cells": [
  {
   "cell_type": "code",
   "execution_count": 1,
   "id": "d690e842",
   "metadata": {
    "execution": {
     "iopub.execute_input": "2024-08-04T14:19:29.235747Z",
     "iopub.status.busy": "2024-08-04T14:19:29.235747Z",
     "iopub.status.idle": "2024-08-04T14:19:29.247773Z",
     "shell.execute_reply": "2024-08-04T14:19:29.246768Z"
    },
    "papermill": {
     "duration": 0.01855,
     "end_time": "2024-08-04T14:19:29.249782",
     "exception": false,
     "start_time": "2024-08-04T14:19:29.231232",
     "status": "completed"
    },
    "tags": [
     "parameters"
    ]
   },
   "outputs": [],
   "source": [
    "data_var = ''"
   ]
  },
  {
   "cell_type": "code",
   "execution_count": 2,
   "id": "6afe3599",
   "metadata": {
    "execution": {
     "iopub.execute_input": "2024-08-04T14:19:29.255791Z",
     "iopub.status.busy": "2024-08-04T14:19:29.255292Z",
     "iopub.status.idle": "2024-08-04T14:19:29.263448Z",
     "shell.execute_reply": "2024-08-04T14:19:29.262297Z"
    },
    "papermill": {
     "duration": 0.012556,
     "end_time": "2024-08-04T14:19:29.264837",
     "exception": false,
     "start_time": "2024-08-04T14:19:29.252281",
     "status": "completed"
    },
    "tags": [
     "injected-parameters"
    ]
   },
   "outputs": [],
   "source": [
    "# Parameters\n",
    "data_var = \"2024-08-04\"\n"
   ]
  },
  {
   "cell_type": "code",
   "execution_count": 3,
   "id": "25b97174",
   "metadata": {
    "execution": {
     "iopub.execute_input": "2024-08-04T14:19:29.271336Z",
     "iopub.status.busy": "2024-08-04T14:19:29.271336Z",
     "iopub.status.idle": "2024-08-04T14:19:37.537408Z",
     "shell.execute_reply": "2024-08-04T14:19:37.536908Z"
    },
    "papermill": {
     "duration": 8.27157,
     "end_time": "2024-08-04T14:19:37.538906",
     "exception": false,
     "start_time": "2024-08-04T14:19:29.267336",
     "status": "completed"
    },
    "tags": []
   },
   "outputs": [],
   "source": [
    "import pandas as pd; pd.set_option('display.max_columns', None)\n",
    "import os\n",
    "from pycaret.classification import *\n",
    "from scripts.PreparaDataset import *\n",
    "from scripts.TeoriaRetornos import *"
   ]
  },
  {
   "attachments": {},
   "cell_type": "markdown",
   "id": "ffa9b361",
   "metadata": {
    "papermill": {
     "duration": 0.003567,
     "end_time": "2024-08-04T14:19:37.544977",
     "exception": false,
     "start_time": "2024-08-04T14:19:37.541410",
     "status": "completed"
    },
    "tags": []
   },
   "source": [
    "### Funções"
   ]
  },
  {
   "cell_type": "code",
   "execution_count": 4,
   "id": "cb6eea9b",
   "metadata": {
    "execution": {
     "iopub.execute_input": "2024-08-04T14:19:37.553248Z",
     "iopub.status.busy": "2024-08-04T14:19:37.552751Z",
     "iopub.status.idle": "2024-08-04T14:19:37.568284Z",
     "shell.execute_reply": "2024-08-04T14:19:37.567785Z"
    },
    "papermill": {
     "duration": 0.021546,
     "end_time": "2024-08-04T14:19:37.569782",
     "exception": false,
     "start_time": "2024-08-04T14:19:37.548236",
     "status": "completed"
    },
    "tags": []
   },
   "outputs": [],
   "source": [
    "def atualiza_dia(_jogos):\n",
    "    _jogos = prepara_df(_jogos)\n",
    "\n",
    "    _jogos = _jogos.reset_index(drop=True)\n",
    "\n",
    "    return _jogos"
   ]
  },
  {
   "attachments": {},
   "cell_type": "markdown",
   "id": "26b16874",
   "metadata": {
    "papermill": {
     "duration": 0.001999,
     "end_time": "2024-08-04T14:19:37.573782",
     "exception": false,
     "start_time": "2024-08-04T14:19:37.571783",
     "status": "completed"
    },
    "tags": []
   },
   "source": [
    "### Pegando os jogos do dia"
   ]
  },
  {
   "cell_type": "code",
   "execution_count": 5,
   "id": "5ddb2ecb",
   "metadata": {
    "execution": {
     "iopub.execute_input": "2024-08-04T14:19:37.579795Z",
     "iopub.status.busy": "2024-08-04T14:19:37.579795Z",
     "iopub.status.idle": "2024-08-04T14:19:37.599822Z",
     "shell.execute_reply": "2024-08-04T14:19:37.598823Z"
    },
    "papermill": {
     "duration": 0.025025,
     "end_time": "2024-08-04T14:19:37.601320",
     "exception": false,
     "start_time": "2024-08-04T14:19:37.576295",
     "status": "completed"
    },
    "tags": []
   },
   "outputs": [],
   "source": [
    "df_today = pd.read_csv(f'jogos_do_dia/{data_var}.csv')"
   ]
  },
  {
   "cell_type": "markdown",
   "id": "19a2214d",
   "metadata": {
    "papermill": {
     "duration": 0.003005,
     "end_time": "2024-08-04T14:19:37.607829",
     "exception": false,
     "start_time": "2024-08-04T14:19:37.604824",
     "status": "completed"
    },
    "tags": []
   },
   "source": [
    "### Atualizando os datasets que tem jogo hoje"
   ]
  },
  {
   "cell_type": "code",
   "execution_count": 6,
   "id": "68bd72ae",
   "metadata": {
    "execution": {
     "iopub.execute_input": "2024-08-04T14:19:37.616041Z",
     "iopub.status.busy": "2024-08-04T14:19:37.615390Z",
     "iopub.status.idle": "2024-08-04T14:19:37.692697Z",
     "shell.execute_reply": "2024-08-04T14:19:37.692197Z"
    },
    "papermill": {
     "duration": 0.082865,
     "end_time": "2024-08-04T14:19:37.693696",
     "exception": false,
     "start_time": "2024-08-04T14:19:37.610831",
     "status": "completed"
    },
    "tags": []
   },
   "outputs": [],
   "source": [
    "temporada = pd.read_csv('data/Entire_Season.csv')\n",
    "temporada = temporada[temporada['Date'] < data_var]\n",
    "temporada = pd.concat([temporada, df_today])\n",
    "ligas = df_today['League'].unique().tolist()\n",
    "temporada = temporada[temporada['League'].isin(ligas)]\n",
    "temporada.reset_index(drop=True, inplace=True)"
   ]
  },
  {
   "cell_type": "markdown",
   "id": "0d8018ca",
   "metadata": {
    "papermill": {
     "duration": 0.002,
     "end_time": "2024-08-04T14:19:37.699214",
     "exception": false,
     "start_time": "2024-08-04T14:19:37.697214",
     "status": "completed"
    },
    "tags": []
   },
   "source": [
    "### Cria variáveis na temporada e nos jogos do dia"
   ]
  },
  {
   "cell_type": "code",
   "execution_count": 7,
   "id": "d3b06cb1",
   "metadata": {
    "execution": {
     "iopub.execute_input": "2024-08-04T14:19:37.703713Z",
     "iopub.status.busy": "2024-08-04T14:19:37.703713Z",
     "iopub.status.idle": "2024-08-04T14:19:38.175890Z",
     "shell.execute_reply": "2024-08-04T14:19:38.174885Z"
    },
    "papermill": {
     "duration": 0.476182,
     "end_time": "2024-08-04T14:19:38.176895",
     "exception": false,
     "start_time": "2024-08-04T14:19:37.700713",
     "status": "completed"
    },
    "tags": []
   },
   "outputs": [],
   "source": [
    "games = atualiza_dia(temporada)\n",
    "temporada = games[games['Date'] < data_var]\n",
    "os.makedirs(f'apostas_do_dia/{data_var}', exist_ok=True)"
   ]
  },
  {
   "cell_type": "code",
   "execution_count": 8,
   "id": "16aa533f",
   "metadata": {
    "execution": {
     "iopub.execute_input": "2024-08-04T14:19:38.183895Z",
     "iopub.status.busy": "2024-08-04T14:19:38.183895Z",
     "iopub.status.idle": "2024-08-04T14:19:38.222005Z",
     "shell.execute_reply": "2024-08-04T14:19:38.221502Z"
    },
    "papermill": {
     "duration": 0.043108,
     "end_time": "2024-08-04T14:19:38.223502",
     "exception": false,
     "start_time": "2024-08-04T14:19:38.180394",
     "status": "completed"
    },
    "tags": []
   },
   "outputs": [
    {
     "data": {
      "text/html": [
       "<div>\n",
       "<style scoped>\n",
       "    .dataframe tbody tr th:only-of-type {\n",
       "        vertical-align: middle;\n",
       "    }\n",
       "\n",
       "    .dataframe tbody tr th {\n",
       "        vertical-align: top;\n",
       "    }\n",
       "\n",
       "    .dataframe thead th {\n",
       "        text-align: right;\n",
       "    }\n",
       "</style>\n",
       "<table border=\"1\" class=\"dataframe\">\n",
       "  <thead>\n",
       "    <tr style=\"text-align: right;\">\n",
       "      <th></th>\n",
       "      <th>Date</th>\n",
       "      <th>League</th>\n",
       "      <th>Time</th>\n",
       "      <th>Home</th>\n",
       "      <th>Away</th>\n",
       "      <th>Odds_H</th>\n",
       "      <th>Odds_A</th>\n",
       "      <th>Over_Line</th>\n",
       "      <th>Odds_Over</th>\n",
       "      <th>Odds_Under</th>\n",
       "      <th>HA_Line</th>\n",
       "      <th>HA_Odds_H</th>\n",
       "      <th>HA_Odds_A</th>\n",
       "      <th>Fixture ID</th>\n",
       "      <th>P(H)</th>\n",
       "      <th>P(A)</th>\n",
       "      <th>P(O)</th>\n",
       "      <th>P(U)</th>\n",
       "      <th>P_Diff</th>\n",
       "      <th>Porc_Over_Home</th>\n",
       "      <th>Porc_Over_Away</th>\n",
       "      <th>CustoGolHome</th>\n",
       "      <th>CustoGolAway</th>\n",
       "      <th>Avg_CG_H</th>\n",
       "      <th>DP_CG_H</th>\n",
       "      <th>CV_CG_H</th>\n",
       "      <th>Avg_CG_A</th>\n",
       "      <th>DP_CG_A</th>\n",
       "      <th>CV_CG_A</th>\n",
       "      <th>MediaCustoGolHome</th>\n",
       "      <th>MediaCustoGolAway</th>\n",
       "      <th>Last_CG_H</th>\n",
       "      <th>Last_CG_A</th>\n",
       "      <th>Acima_Last_CG_H</th>\n",
       "      <th>Acima_Last_CG_A</th>\n",
       "      <th>Abaixo_Last_CG_H</th>\n",
       "      <th>Abaixo_Last_CG_A</th>\n",
       "      <th>CV_ML</th>\n",
       "      <th>CV_Over</th>\n",
       "      <th>CV_HA</th>\n",
       "      <th>Retornos_BH_Acu</th>\n",
       "      <th>Avg_Retornos_BH</th>\n",
       "      <th>Custo_Retorno_BH</th>\n",
       "      <th>Avg_Porc_BH_Bookie</th>\n",
       "      <th>Avg_Porc_BH_Real</th>\n",
       "      <th>Dist_Porc_BH</th>\n",
       "      <th>Retornos_BA_Acu</th>\n",
       "      <th>Avg_Retornos_BA</th>\n",
       "      <th>Custo_Retorno_BA</th>\n",
       "      <th>Avg_Porc_BA_Bookie</th>\n",
       "      <th>Avg_Porc_BA_Real</th>\n",
       "      <th>Dist_Porc_BA</th>\n",
       "    </tr>\n",
       "  </thead>\n",
       "  <tbody>\n",
       "    <tr>\n",
       "      <th>227</th>\n",
       "      <td>2024-08-04</td>\n",
       "      <td>Mundo Jogos Olímpicos</td>\n",
       "      <td>06:00</td>\n",
       "      <td>Japão F</td>\n",
       "      <td>Bélgica F</td>\n",
       "      <td>3.51</td>\n",
       "      <td>1.30</td>\n",
       "      <td>144.5</td>\n",
       "      <td>1.88</td>\n",
       "      <td>1.90</td>\n",
       "      <td>6.5</td>\n",
       "      <td>2.02</td>\n",
       "      <td>1.17</td>\n",
       "      <td>UXRJ0uVe</td>\n",
       "      <td>0.284900</td>\n",
       "      <td>0.769231</td>\n",
       "      <td>0.531915</td>\n",
       "      <td>0.526316</td>\n",
       "      <td>0.054131</td>\n",
       "      <td>0.0</td>\n",
       "      <td>0.0</td>\n",
       "      <td>NaN</td>\n",
       "      <td>NaN</td>\n",
       "      <td>NaN</td>\n",
       "      <td>NaN</td>\n",
       "      <td>NaN</td>\n",
       "      <td>NaN</td>\n",
       "      <td>NaN</td>\n",
       "      <td>NaN</td>\n",
       "      <td>0.00</td>\n",
       "      <td>0.0</td>\n",
       "      <td>96.75</td>\n",
       "      <td>687.3</td>\n",
       "      <td>0.0</td>\n",
       "      <td>1.0</td>\n",
       "      <td>0.0</td>\n",
       "      <td>0.0</td>\n",
       "      <td>0.649774</td>\n",
       "      <td>0.007483</td>\n",
       "      <td>0.376828</td>\n",
       "      <td>0.00</td>\n",
       "      <td>0.00</td>\n",
       "      <td>inf</td>\n",
       "      <td>0.0</td>\n",
       "      <td>0.0</td>\n",
       "      <td>0.0</td>\n",
       "      <td>0.0</td>\n",
       "      <td>0.0</td>\n",
       "      <td>inf</td>\n",
       "      <td>0.0</td>\n",
       "      <td>0.0</td>\n",
       "      <td>0.0</td>\n",
       "    </tr>\n",
       "    <tr>\n",
       "      <th>228</th>\n",
       "      <td>2024-08-04</td>\n",
       "      <td>Indonésia Ibl</td>\n",
       "      <td>09:00</td>\n",
       "      <td>Pelita Jaya</td>\n",
       "      <td>Satria Muda</td>\n",
       "      <td>2.02</td>\n",
       "      <td>1.67</td>\n",
       "      <td>161.5</td>\n",
       "      <td>1.83</td>\n",
       "      <td>1.83</td>\n",
       "      <td>1.5</td>\n",
       "      <td>1.91</td>\n",
       "      <td>1.58</td>\n",
       "      <td>fTvYpwF8</td>\n",
       "      <td>0.495050</td>\n",
       "      <td>0.598802</td>\n",
       "      <td>0.546448</td>\n",
       "      <td>0.546448</td>\n",
       "      <td>0.093852</td>\n",
       "      <td>0.0</td>\n",
       "      <td>0.0</td>\n",
       "      <td>NaN</td>\n",
       "      <td>NaN</td>\n",
       "      <td>142.318</td>\n",
       "      <td>63.526017</td>\n",
       "      <td>0.446367</td>\n",
       "      <td>150.230</td>\n",
       "      <td>53.979873</td>\n",
       "      <td>0.359315</td>\n",
       "      <td>0.00</td>\n",
       "      <td>0.0</td>\n",
       "      <td>167.28</td>\n",
       "      <td>116.2</td>\n",
       "      <td>0.0</td>\n",
       "      <td>0.0</td>\n",
       "      <td>0.0</td>\n",
       "      <td>0.0</td>\n",
       "      <td>0.134139</td>\n",
       "      <td>0.000000</td>\n",
       "      <td>0.133722</td>\n",
       "      <td>0.00</td>\n",
       "      <td>0.00</td>\n",
       "      <td>inf</td>\n",
       "      <td>0.0</td>\n",
       "      <td>0.0</td>\n",
       "      <td>0.0</td>\n",
       "      <td>0.0</td>\n",
       "      <td>0.0</td>\n",
       "      <td>inf</td>\n",
       "      <td>0.0</td>\n",
       "      <td>0.0</td>\n",
       "      <td>0.0</td>\n",
       "    </tr>\n",
       "    <tr>\n",
       "      <th>229</th>\n",
       "      <td>2024-08-04</td>\n",
       "      <td>México Lnbp</td>\n",
       "      <td>21:00</td>\n",
       "      <td>Abejas</td>\n",
       "      <td>Soles</td>\n",
       "      <td>1.59</td>\n",
       "      <td>2.15</td>\n",
       "      <td>168.5</td>\n",
       "      <td>1.85</td>\n",
       "      <td>1.81</td>\n",
       "      <td>-3.5</td>\n",
       "      <td>1.88</td>\n",
       "      <td>2.08</td>\n",
       "      <td>CAjKVfUa</td>\n",
       "      <td>0.628931</td>\n",
       "      <td>0.465116</td>\n",
       "      <td>0.540541</td>\n",
       "      <td>0.552486</td>\n",
       "      <td>0.094047</td>\n",
       "      <td>0.6</td>\n",
       "      <td>0.0</td>\n",
       "      <td>NaN</td>\n",
       "      <td>NaN</td>\n",
       "      <td>163.968</td>\n",
       "      <td>32.610258</td>\n",
       "      <td>0.198882</td>\n",
       "      <td>NaN</td>\n",
       "      <td>NaN</td>\n",
       "      <td>NaN</td>\n",
       "      <td>135.46</td>\n",
       "      <td>0.0</td>\n",
       "      <td>127.20</td>\n",
       "      <td>226.0</td>\n",
       "      <td>0.0</td>\n",
       "      <td>0.0</td>\n",
       "      <td>0.0</td>\n",
       "      <td>0.0</td>\n",
       "      <td>0.211754</td>\n",
       "      <td>0.015456</td>\n",
       "      <td>0.071425</td>\n",
       "      <td>-2.25</td>\n",
       "      <td>-0.45</td>\n",
       "      <td>-1.311111</td>\n",
       "      <td>0.0</td>\n",
       "      <td>0.0</td>\n",
       "      <td>0.0</td>\n",
       "      <td>0.0</td>\n",
       "      <td>0.0</td>\n",
       "      <td>inf</td>\n",
       "      <td>0.0</td>\n",
       "      <td>0.0</td>\n",
       "      <td>0.0</td>\n",
       "    </tr>\n",
       "    <tr>\n",
       "      <th>230</th>\n",
       "      <td>2024-08-04</td>\n",
       "      <td>México Lnbp</td>\n",
       "      <td>21:00</td>\n",
       "      <td>Mineros</td>\n",
       "      <td>Panteras</td>\n",
       "      <td>1.71</td>\n",
       "      <td>1.97</td>\n",
       "      <td>165.5</td>\n",
       "      <td>1.88</td>\n",
       "      <td>1.78</td>\n",
       "      <td>-2.5</td>\n",
       "      <td>1.93</td>\n",
       "      <td>2.03</td>\n",
       "      <td>KzfSTYbC</td>\n",
       "      <td>0.584795</td>\n",
       "      <td>0.507614</td>\n",
       "      <td>0.531915</td>\n",
       "      <td>0.561798</td>\n",
       "      <td>0.092410</td>\n",
       "      <td>0.0</td>\n",
       "      <td>0.0</td>\n",
       "      <td>NaN</td>\n",
       "      <td>NaN</td>\n",
       "      <td>NaN</td>\n",
       "      <td>NaN</td>\n",
       "      <td>NaN</td>\n",
       "      <td>178.206</td>\n",
       "      <td>45.180420</td>\n",
       "      <td>0.253529</td>\n",
       "      <td>0.00</td>\n",
       "      <td>0.0</td>\n",
       "      <td>0.00</td>\n",
       "      <td>202.5</td>\n",
       "      <td>0.0</td>\n",
       "      <td>0.0</td>\n",
       "      <td>0.0</td>\n",
       "      <td>0.0</td>\n",
       "      <td>0.099917</td>\n",
       "      <td>0.038640</td>\n",
       "      <td>0.035712</td>\n",
       "      <td>0.00</td>\n",
       "      <td>0.00</td>\n",
       "      <td>inf</td>\n",
       "      <td>0.0</td>\n",
       "      <td>0.0</td>\n",
       "      <td>0.0</td>\n",
       "      <td>0.0</td>\n",
       "      <td>0.0</td>\n",
       "      <td>inf</td>\n",
       "      <td>0.0</td>\n",
       "      <td>0.0</td>\n",
       "      <td>0.0</td>\n",
       "    </tr>\n",
       "  </tbody>\n",
       "</table>\n",
       "</div>"
      ],
      "text/plain": [
       "           Date                 League   Time         Home         Away  \\\n",
       "227  2024-08-04  Mundo Jogos Olímpicos  06:00      Japão F    Bélgica F   \n",
       "228  2024-08-04          Indonésia Ibl  09:00  Pelita Jaya  Satria Muda   \n",
       "229  2024-08-04            México Lnbp  21:00       Abejas        Soles   \n",
       "230  2024-08-04            México Lnbp  21:00      Mineros     Panteras   \n",
       "\n",
       "     Odds_H  Odds_A  Over_Line  Odds_Over  Odds_Under  HA_Line  HA_Odds_H  \\\n",
       "227    3.51    1.30      144.5       1.88        1.90      6.5       2.02   \n",
       "228    2.02    1.67      161.5       1.83        1.83      1.5       1.91   \n",
       "229    1.59    2.15      168.5       1.85        1.81     -3.5       1.88   \n",
       "230    1.71    1.97      165.5       1.88        1.78     -2.5       1.93   \n",
       "\n",
       "     HA_Odds_A Fixture ID      P(H)      P(A)      P(O)      P(U)    P_Diff  \\\n",
       "227       1.17   UXRJ0uVe  0.284900  0.769231  0.531915  0.526316  0.054131   \n",
       "228       1.58   fTvYpwF8  0.495050  0.598802  0.546448  0.546448  0.093852   \n",
       "229       2.08   CAjKVfUa  0.628931  0.465116  0.540541  0.552486  0.094047   \n",
       "230       2.03   KzfSTYbC  0.584795  0.507614  0.531915  0.561798  0.092410   \n",
       "\n",
       "     Porc_Over_Home  Porc_Over_Away  CustoGolHome  CustoGolAway  Avg_CG_H  \\\n",
       "227             0.0             0.0           NaN           NaN       NaN   \n",
       "228             0.0             0.0           NaN           NaN   142.318   \n",
       "229             0.6             0.0           NaN           NaN   163.968   \n",
       "230             0.0             0.0           NaN           NaN       NaN   \n",
       "\n",
       "       DP_CG_H   CV_CG_H  Avg_CG_A    DP_CG_A   CV_CG_A  MediaCustoGolHome  \\\n",
       "227        NaN       NaN       NaN        NaN       NaN               0.00   \n",
       "228  63.526017  0.446367   150.230  53.979873  0.359315               0.00   \n",
       "229  32.610258  0.198882       NaN        NaN       NaN             135.46   \n",
       "230        NaN       NaN   178.206  45.180420  0.253529               0.00   \n",
       "\n",
       "     MediaCustoGolAway  Last_CG_H  Last_CG_A  Acima_Last_CG_H  \\\n",
       "227                0.0      96.75      687.3              0.0   \n",
       "228                0.0     167.28      116.2              0.0   \n",
       "229                0.0     127.20      226.0              0.0   \n",
       "230                0.0       0.00      202.5              0.0   \n",
       "\n",
       "     Acima_Last_CG_A  Abaixo_Last_CG_H  Abaixo_Last_CG_A     CV_ML   CV_Over  \\\n",
       "227              1.0               0.0               0.0  0.649774  0.007483   \n",
       "228              0.0               0.0               0.0  0.134139  0.000000   \n",
       "229              0.0               0.0               0.0  0.211754  0.015456   \n",
       "230              0.0               0.0               0.0  0.099917  0.038640   \n",
       "\n",
       "        CV_HA  Retornos_BH_Acu  Avg_Retornos_BH  Custo_Retorno_BH  \\\n",
       "227  0.376828             0.00             0.00               inf   \n",
       "228  0.133722             0.00             0.00               inf   \n",
       "229  0.071425            -2.25            -0.45         -1.311111   \n",
       "230  0.035712             0.00             0.00               inf   \n",
       "\n",
       "     Avg_Porc_BH_Bookie  Avg_Porc_BH_Real  Dist_Porc_BH  Retornos_BA_Acu  \\\n",
       "227                 0.0               0.0           0.0              0.0   \n",
       "228                 0.0               0.0           0.0              0.0   \n",
       "229                 0.0               0.0           0.0              0.0   \n",
       "230                 0.0               0.0           0.0              0.0   \n",
       "\n",
       "     Avg_Retornos_BA  Custo_Retorno_BA  Avg_Porc_BA_Bookie  Avg_Porc_BA_Real  \\\n",
       "227              0.0               inf                 0.0               0.0   \n",
       "228              0.0               inf                 0.0               0.0   \n",
       "229              0.0               inf                 0.0               0.0   \n",
       "230              0.0               inf                 0.0               0.0   \n",
       "\n",
       "     Dist_Porc_BA  \n",
       "227           0.0  \n",
       "228           0.0  \n",
       "229           0.0  \n",
       "230           0.0  "
      ]
     },
     "execution_count": 8,
     "metadata": {},
     "output_type": "execute_result"
    }
   ],
   "source": [
    "jogos = games[games['Date'] == data_var]\n",
    "\n",
    "jogos = jogos.drop(columns=['Home_Pts', 'Away_Pts',\n",
    "       'Back_Home', 'PL_Home', 'Back_Away',\n",
    "       'PL_Away', 'Back_Over', 'PL_Over', 'PL_Under', 'Back_HA_H', 'PL_HA_H',\n",
    "       'PL_HA_A', ])\n",
    "\n",
    "jogos"
   ]
  },
  {
   "attachments": {},
   "cell_type": "markdown",
   "id": "08aa1c88",
   "metadata": {
    "papermill": {
     "duration": 0.002002,
     "end_time": "2024-08-04T14:19:38.228017",
     "exception": false,
     "start_time": "2024-08-04T14:19:38.226015",
     "status": "completed"
    },
    "tags": []
   },
   "source": [
    "## Apostas do dia"
   ]
  },
  {
   "cell_type": "markdown",
   "id": "b24569b1",
   "metadata": {
    "papermill": {
     "duration": 0.002,
     "end_time": "2024-08-04T14:19:38.232516",
     "exception": false,
     "start_time": "2024-08-04T14:19:38.230516",
     "status": "completed"
    },
    "tags": []
   },
   "source": [
    "### Over v0 (LDA)"
   ]
  },
  {
   "cell_type": "code",
   "execution_count": 9,
   "id": "6f144103",
   "metadata": {
    "execution": {
     "iopub.execute_input": "2024-08-04T14:19:38.238150Z",
     "iopub.status.busy": "2024-08-04T14:19:38.238150Z",
     "iopub.status.idle": "2024-08-04T14:19:38.439733Z",
     "shell.execute_reply": "2024-08-04T14:19:38.439233Z"
    },
    "papermill": {
     "duration": 0.207216,
     "end_time": "2024-08-04T14:19:38.441234",
     "exception": false,
     "start_time": "2024-08-04T14:19:38.234018",
     "status": "completed"
    },
    "tags": []
   },
   "outputs": [
    {
     "name": "stdout",
     "output_type": "stream",
     "text": [
      "------------ MÉTODO OVER V0 (LDA) ------------\n",
      "\n"
     ]
    },
    {
     "data": {
      "text/html": [
       "<div>\n",
       "<style scoped>\n",
       "    .dataframe tbody tr th:only-of-type {\n",
       "        vertical-align: middle;\n",
       "    }\n",
       "\n",
       "    .dataframe tbody tr th {\n",
       "        vertical-align: top;\n",
       "    }\n",
       "\n",
       "    .dataframe thead th {\n",
       "        text-align: right;\n",
       "    }\n",
       "</style>\n",
       "<table border=\"1\" class=\"dataframe\">\n",
       "  <thead>\n",
       "    <tr style=\"text-align: right;\">\n",
       "      <th></th>\n",
       "      <th>Time</th>\n",
       "      <th>League</th>\n",
       "      <th>Home</th>\n",
       "      <th>Away</th>\n",
       "      <th>Over_Line</th>\n",
       "      <th>Odds_Over</th>\n",
       "      <th>prediction_score</th>\n",
       "      <th>Bet</th>\n",
       "    </tr>\n",
       "  </thead>\n",
       "  <tbody>\n",
       "    <tr>\n",
       "      <th>0</th>\n",
       "      <td>21:00</td>\n",
       "      <td>México Lnbp</td>\n",
       "      <td>Abejas</td>\n",
       "      <td>Soles</td>\n",
       "      <td>168.5</td>\n",
       "      <td>1.85</td>\n",
       "      <td>0.9999</td>\n",
       "      <td>Over</td>\n",
       "    </tr>\n",
       "    <tr>\n",
       "      <th>1</th>\n",
       "      <td>21:00</td>\n",
       "      <td>México Lnbp</td>\n",
       "      <td>Mineros</td>\n",
       "      <td>Panteras</td>\n",
       "      <td>165.5</td>\n",
       "      <td>1.88</td>\n",
       "      <td>1.0000</td>\n",
       "      <td>Over</td>\n",
       "    </tr>\n",
       "  </tbody>\n",
       "</table>\n",
       "</div>"
      ],
      "text/plain": [
       "    Time       League     Home      Away  Over_Line  Odds_Over  \\\n",
       "0  21:00  México Lnbp   Abejas     Soles      168.5       1.85   \n",
       "1  21:00  México Lnbp  Mineros  Panteras      165.5       1.88   \n",
       "\n",
       "   prediction_score   Bet  \n",
       "0            0.9999  Over  \n",
       "1            1.0000  Over  "
      ]
     },
     "metadata": {},
     "output_type": "display_data"
    },
    {
     "name": "stdout",
     "output_type": "stream",
     "text": [
      "\n"
     ]
    }
   ],
   "source": [
    "# Duplicando o dataset\n",
    "df_over_v0 = jogos.copy()\n",
    "\n",
    "df_over_v0.reset_index(drop=True, inplace=True)\n",
    "df_over_v0.replace([np.inf, -np.inf], 0, inplace=True)\n",
    "\n",
    "if not df_over_v0.empty:\n",
    "    mdl_over_v0 = load_model('ML/over/v1/v1_over', verbose=False)\n",
    "    prev = predict_model(mdl_over_v0, df_over_v0)\n",
    "    prev = prev[prev['prediction_label'] ==  1]\n",
    "    prev.reset_index(drop=True, inplace=True)\n",
    "    \n",
    "    # Filtros pós modelo\n",
    "\n",
    "    if not prev.empty:\n",
    "        prev.to_csv(f'apostas_do_dia/{data_var}/over_v0_{data_var}.csv', index=False)\n",
    "\n",
    "        print('------------ MÉTODO OVER V0 (LDA) ------------')\n",
    "        print()\n",
    "\n",
    "        prev['Bet'] = 'Over'\n",
    "        ligs = prev['League'].unique().tolist()\n",
    "\n",
    "        display(prev[['Time', 'League', 'Home', 'Away', 'Over_Line', 'Odds_Over', 'prediction_score', 'Bet']])\n",
    "        print()\n",
    "    else: print('Sem jogos')\n",
    "else: print('Sem jogos')"
   ]
  }
 ],
 "metadata": {
  "kernelspec": {
   "display_name": "modelos_futebol",
   "language": "python",
   "name": "python3"
  },
  "language_info": {
   "codemirror_mode": {
    "name": "ipython",
    "version": 3
   },
   "file_extension": ".py",
   "mimetype": "text/x-python",
   "name": "python",
   "nbconvert_exporter": "python",
   "pygments_lexer": "ipython3",
   "version": "3.10.7"
  },
  "papermill": {
   "default_parameters": {},
   "duration": 11.07176,
   "end_time": "2024-08-04T14:19:39.016149",
   "environment_variables": {},
   "exception": null,
   "input_path": "apostas_do_dia_v1.ipynb",
   "output_path": "apostas_do_dia_v1.ipynb",
   "parameters": {
    "data_var": "2024-08-04"
   },
   "start_time": "2024-08-04T14:19:27.944389",
   "version": "2.5.0"
  }
 },
 "nbformat": 4,
 "nbformat_minor": 5
}