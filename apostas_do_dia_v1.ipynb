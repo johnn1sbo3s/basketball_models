{
 "cells": [
  {
   "cell_type": "code",
   "execution_count": 1,
   "id": "d690e842",
   "metadata": {
    "execution": {
     "iopub.execute_input": "2024-06-20T13:01:36.936512Z",
     "iopub.status.busy": "2024-06-20T13:01:36.936013Z",
     "iopub.status.idle": "2024-06-20T13:01:36.964642Z",
     "shell.execute_reply": "2024-06-20T13:01:36.964122Z"
    },
    "papermill": {
     "duration": 0.033129,
     "end_time": "2024-06-20T13:01:36.966138",
     "exception": false,
     "start_time": "2024-06-20T13:01:36.933009",
     "status": "completed"
    },
    "tags": [
     "parameters"
    ]
   },
   "outputs": [],
   "source": [
    "data_var = ''"
   ]
  },
  {
   "cell_type": "code",
   "execution_count": 2,
   "id": "e83d85ef",
   "metadata": {
    "execution": {
     "iopub.execute_input": "2024-06-20T13:01:36.971137Z",
     "iopub.status.busy": "2024-06-20T13:01:36.970641Z",
     "iopub.status.idle": "2024-06-20T13:01:36.980156Z",
     "shell.execute_reply": "2024-06-20T13:01:36.979651Z"
    },
    "papermill": {
     "duration": 0.013509,
     "end_time": "2024-06-20T13:01:36.981650",
     "exception": false,
     "start_time": "2024-06-20T13:01:36.968141",
     "status": "completed"
    },
    "tags": [
     "injected-parameters"
    ]
   },
   "outputs": [],
   "source": [
    "# Parameters\n",
    "data_var = \"2024-06-20\"\n"
   ]
  },
  {
   "cell_type": "code",
   "execution_count": 3,
   "id": "25b97174",
   "metadata": {
    "execution": {
     "iopub.execute_input": "2024-06-20T13:01:36.986152Z",
     "iopub.status.busy": "2024-06-20T13:01:36.985655Z",
     "iopub.status.idle": "2024-06-20T13:01:42.861417Z",
     "shell.execute_reply": "2024-06-20T13:01:42.860912Z"
    },
    "papermill": {
     "duration": 5.879764,
     "end_time": "2024-06-20T13:01:42.862914",
     "exception": false,
     "start_time": "2024-06-20T13:01:36.983150",
     "status": "completed"
    },
    "tags": []
   },
   "outputs": [],
   "source": [
    "import pandas as pd; pd.set_option('display.max_columns', None)\n",
    "import os\n",
    "from pycaret.classification import *\n",
    "from scripts.PreparaDataset import *\n",
    "from scripts.TeoriaRetornos import *"
   ]
  },
  {
   "attachments": {},
   "cell_type": "markdown",
   "id": "ffa9b361",
   "metadata": {
    "papermill": {
     "duration": 0.001995,
     "end_time": "2024-06-20T13:01:42.867411",
     "exception": false,
     "start_time": "2024-06-20T13:01:42.865416",
     "status": "completed"
    },
    "tags": []
   },
   "source": [
    "### Funções"
   ]
  },
  {
   "cell_type": "code",
   "execution_count": 4,
   "id": "cb6eea9b",
   "metadata": {
    "execution": {
     "iopub.execute_input": "2024-06-20T13:01:42.871916Z",
     "iopub.status.busy": "2024-06-20T13:01:42.871415Z",
     "iopub.status.idle": "2024-06-20T13:01:42.876930Z",
     "shell.execute_reply": "2024-06-20T13:01:42.876428Z"
    },
    "papermill": {
     "duration": 0.00902,
     "end_time": "2024-06-20T13:01:42.877931",
     "exception": false,
     "start_time": "2024-06-20T13:01:42.868911",
     "status": "completed"
    },
    "tags": []
   },
   "outputs": [],
   "source": [
    "def atualiza_dia(_jogos):\n",
    "    _jogos = prepara_df(_jogos)\n",
    "\n",
    "    _jogos = _jogos.reset_index(drop=True)\n",
    "\n",
    "    return _jogos"
   ]
  },
  {
   "attachments": {},
   "cell_type": "markdown",
   "id": "26b16874",
   "metadata": {
    "papermill": {
     "duration": 0.0015,
     "end_time": "2024-06-20T13:01:42.881429",
     "exception": false,
     "start_time": "2024-06-20T13:01:42.879929",
     "status": "completed"
    },
    "tags": []
   },
   "source": [
    "### Pegando os jogos do dia"
   ]
  },
  {
   "cell_type": "code",
   "execution_count": 5,
   "id": "5ddb2ecb",
   "metadata": {
    "execution": {
     "iopub.execute_input": "2024-06-20T13:01:42.885932Z",
     "iopub.status.busy": "2024-06-20T13:01:42.885432Z",
     "iopub.status.idle": "2024-06-20T13:01:42.908060Z",
     "shell.execute_reply": "2024-06-20T13:01:42.907557Z"
    },
    "papermill": {
     "duration": 0.026128,
     "end_time": "2024-06-20T13:01:42.909557",
     "exception": false,
     "start_time": "2024-06-20T13:01:42.883429",
     "status": "completed"
    },
    "tags": []
   },
   "outputs": [],
   "source": [
    "df_today = pd.read_csv(f'jogos_do_dia/{data_var}.csv')"
   ]
  },
  {
   "cell_type": "markdown",
   "id": "19a2214d",
   "metadata": {
    "papermill": {
     "duration": 0.001999,
     "end_time": "2024-06-20T13:01:42.913557",
     "exception": false,
     "start_time": "2024-06-20T13:01:42.911558",
     "status": "completed"
    },
    "tags": []
   },
   "source": [
    "### Atualizando os datasets que tem jogo hoje"
   ]
  },
  {
   "cell_type": "code",
   "execution_count": 6,
   "id": "68bd72ae",
   "metadata": {
    "execution": {
     "iopub.execute_input": "2024-06-20T13:01:42.917560Z",
     "iopub.status.busy": "2024-06-20T13:01:42.917560Z",
     "iopub.status.idle": "2024-06-20T13:01:42.985675Z",
     "shell.execute_reply": "2024-06-20T13:01:42.985166Z"
    },
    "papermill": {
     "duration": 0.072112,
     "end_time": "2024-06-20T13:01:42.987169",
     "exception": false,
     "start_time": "2024-06-20T13:01:42.915057",
     "status": "completed"
    },
    "tags": []
   },
   "outputs": [],
   "source": [
    "temporada = pd.read_csv('data/Entire_Season.csv')\n",
    "temporada = temporada[temporada['Date'] < data_var]\n",
    "temporada = pd.concat([temporada, df_today])\n",
    "ligas = df_today['League'].unique().tolist()\n",
    "temporada = temporada[temporada['League'].isin(ligas)]\n",
    "temporada.reset_index(drop=True, inplace=True)"
   ]
  },
  {
   "cell_type": "markdown",
   "id": "0d8018ca",
   "metadata": {
    "papermill": {
     "duration": 0.002502,
     "end_time": "2024-06-20T13:01:42.991667",
     "exception": false,
     "start_time": "2024-06-20T13:01:42.989165",
     "status": "completed"
    },
    "tags": []
   },
   "source": [
    "### Cria variáveis na temporada e nos jogos do dia"
   ]
  },
  {
   "cell_type": "code",
   "execution_count": 7,
   "id": "d3b06cb1",
   "metadata": {
    "execution": {
     "iopub.execute_input": "2024-06-20T13:01:42.996169Z",
     "iopub.status.busy": "2024-06-20T13:01:42.996169Z",
     "iopub.status.idle": "2024-06-20T13:01:43.326413Z",
     "shell.execute_reply": "2024-06-20T13:01:43.325908Z"
    },
    "papermill": {
     "duration": 0.334243,
     "end_time": "2024-06-20T13:01:43.327910",
     "exception": false,
     "start_time": "2024-06-20T13:01:42.993667",
     "status": "completed"
    },
    "tags": []
   },
   "outputs": [],
   "source": [
    "games = atualiza_dia(temporada)\n",
    "temporada = games[games['Date'] < data_var]\n",
    "os.makedirs(f'apostas_do_dia/{data_var}', exist_ok=True)"
   ]
  },
  {
   "cell_type": "code",
   "execution_count": 8,
   "id": "16aa533f",
   "metadata": {
    "execution": {
     "iopub.execute_input": "2024-06-20T13:01:43.332911Z",
     "iopub.status.busy": "2024-06-20T13:01:43.332409Z",
     "iopub.status.idle": "2024-06-20T13:01:43.357433Z",
     "shell.execute_reply": "2024-06-20T13:01:43.356911Z"
    },
    "papermill": {
     "duration": 0.029027,
     "end_time": "2024-06-20T13:01:43.358934",
     "exception": false,
     "start_time": "2024-06-20T13:01:43.329907",
     "status": "completed"
    },
    "tags": []
   },
   "outputs": [
    {
     "data": {
      "text/html": [
       "<div>\n",
       "<style scoped>\n",
       "    .dataframe tbody tr th:only-of-type {\n",
       "        vertical-align: middle;\n",
       "    }\n",
       "\n",
       "    .dataframe tbody tr th {\n",
       "        vertical-align: top;\n",
       "    }\n",
       "\n",
       "    .dataframe thead th {\n",
       "        text-align: right;\n",
       "    }\n",
       "</style>\n",
       "<table border=\"1\" class=\"dataframe\">\n",
       "  <thead>\n",
       "    <tr style=\"text-align: right;\">\n",
       "      <th></th>\n",
       "      <th>Date</th>\n",
       "      <th>League</th>\n",
       "      <th>Time</th>\n",
       "      <th>Home</th>\n",
       "      <th>Away</th>\n",
       "      <th>Odds_H</th>\n",
       "      <th>Odds_A</th>\n",
       "      <th>Over_Line</th>\n",
       "      <th>Odds_Over</th>\n",
       "      <th>Odds_Under</th>\n",
       "      <th>HA_Line</th>\n",
       "      <th>HA_Odds_H</th>\n",
       "      <th>HA_Odds_A</th>\n",
       "      <th>Fixture ID</th>\n",
       "      <th>P(H)</th>\n",
       "      <th>P(A)</th>\n",
       "      <th>P(O)</th>\n",
       "      <th>P(U)</th>\n",
       "      <th>P_Diff</th>\n",
       "      <th>Porc_Over_Home</th>\n",
       "      <th>Porc_Over_Away</th>\n",
       "      <th>CustoGolHome</th>\n",
       "      <th>CustoGolAway</th>\n",
       "      <th>Avg_CG_H</th>\n",
       "      <th>DP_CG_H</th>\n",
       "      <th>CV_CG_H</th>\n",
       "      <th>Avg_CG_A</th>\n",
       "      <th>DP_CG_A</th>\n",
       "      <th>CV_CG_A</th>\n",
       "      <th>MediaCustoGolHome</th>\n",
       "      <th>MediaCustoGolAway</th>\n",
       "      <th>Last_CG_H</th>\n",
       "      <th>Last_CG_A</th>\n",
       "      <th>Acima_Last_CG_H</th>\n",
       "      <th>Acima_Last_CG_A</th>\n",
       "      <th>Abaixo_Last_CG_H</th>\n",
       "      <th>Abaixo_Last_CG_A</th>\n",
       "      <th>CV_ML</th>\n",
       "      <th>CV_Over</th>\n",
       "      <th>CV_HA</th>\n",
       "      <th>Retornos_BH_Acu</th>\n",
       "      <th>Avg_Retornos_BH</th>\n",
       "      <th>Custo_Retorno_BH</th>\n",
       "      <th>Avg_Porc_BH_Bookie</th>\n",
       "      <th>Avg_Porc_BH_Real</th>\n",
       "      <th>Dist_Porc_BH</th>\n",
       "      <th>Retornos_BA_Acu</th>\n",
       "      <th>Avg_Retornos_BA</th>\n",
       "      <th>Custo_Retorno_BA</th>\n",
       "      <th>Avg_Porc_BA_Bookie</th>\n",
       "      <th>Avg_Porc_BA_Real</th>\n",
       "      <th>Dist_Porc_BA</th>\n",
       "    </tr>\n",
       "  </thead>\n",
       "  <tbody>\n",
       "    <tr>\n",
       "      <th>168</th>\n",
       "      <td>2024-06-20</td>\n",
       "      <td>Porto Rico Bsn</td>\n",
       "      <td>21:00</td>\n",
       "      <td>Piratas de Quebradillas</td>\n",
       "      <td>Aguada Santeros</td>\n",
       "      <td>1.69</td>\n",
       "      <td>2.09</td>\n",
       "      <td>174.5</td>\n",
       "      <td>1.84</td>\n",
       "      <td>1.86</td>\n",
       "      <td>-2.5</td>\n",
       "      <td>1.88</td>\n",
       "      <td>2.37</td>\n",
       "      <td>CKoIpjuJ</td>\n",
       "      <td>0.591716</td>\n",
       "      <td>0.478469</td>\n",
       "      <td>0.543478</td>\n",
       "      <td>0.537634</td>\n",
       "      <td>0.070185</td>\n",
       "      <td>0.0</td>\n",
       "      <td>0.0</td>\n",
       "      <td>NaN</td>\n",
       "      <td>NaN</td>\n",
       "      <td>161.21</td>\n",
       "      <td>33.766042</td>\n",
       "      <td>0.209454</td>\n",
       "      <td>158.308</td>\n",
       "      <td>28.562792</td>\n",
       "      <td>0.180425</td>\n",
       "      <td>0.0</td>\n",
       "      <td>0.0</td>\n",
       "      <td>141.96</td>\n",
       "      <td>194.04</td>\n",
       "      <td>0.0</td>\n",
       "      <td>0.0</td>\n",
       "      <td>0.0</td>\n",
       "      <td>0.0</td>\n",
       "      <td>0.149652</td>\n",
       "      <td>0.007644</td>\n",
       "      <td>0.163051</td>\n",
       "      <td>0.0</td>\n",
       "      <td>0.0</td>\n",
       "      <td>inf</td>\n",
       "      <td>0.0</td>\n",
       "      <td>0.0</td>\n",
       "      <td>0.0</td>\n",
       "      <td>0.0</td>\n",
       "      <td>0.0</td>\n",
       "      <td>inf</td>\n",
       "      <td>0.0</td>\n",
       "      <td>0.0</td>\n",
       "      <td>0.0</td>\n",
       "    </tr>\n",
       "  </tbody>\n",
       "</table>\n",
       "</div>"
      ],
      "text/plain": [
       "           Date          League   Time                     Home  \\\n",
       "168  2024-06-20  Porto Rico Bsn  21:00  Piratas de Quebradillas   \n",
       "\n",
       "                Away  Odds_H  Odds_A  Over_Line  Odds_Over  Odds_Under  \\\n",
       "168  Aguada Santeros    1.69    2.09      174.5       1.84        1.86   \n",
       "\n",
       "     HA_Line  HA_Odds_H  HA_Odds_A Fixture ID      P(H)      P(A)      P(O)  \\\n",
       "168     -2.5       1.88       2.37   CKoIpjuJ  0.591716  0.478469  0.543478   \n",
       "\n",
       "         P(U)    P_Diff  Porc_Over_Home  Porc_Over_Away  CustoGolHome  \\\n",
       "168  0.537634  0.070185             0.0             0.0           NaN   \n",
       "\n",
       "     CustoGolAway  Avg_CG_H    DP_CG_H   CV_CG_H  Avg_CG_A    DP_CG_A  \\\n",
       "168           NaN    161.21  33.766042  0.209454   158.308  28.562792   \n",
       "\n",
       "      CV_CG_A  MediaCustoGolHome  MediaCustoGolAway  Last_CG_H  Last_CG_A  \\\n",
       "168  0.180425                0.0                0.0     141.96     194.04   \n",
       "\n",
       "     Acima_Last_CG_H  Acima_Last_CG_A  Abaixo_Last_CG_H  Abaixo_Last_CG_A  \\\n",
       "168              0.0              0.0               0.0               0.0   \n",
       "\n",
       "        CV_ML   CV_Over     CV_HA  Retornos_BH_Acu  Avg_Retornos_BH  \\\n",
       "168  0.149652  0.007644  0.163051              0.0              0.0   \n",
       "\n",
       "     Custo_Retorno_BH  Avg_Porc_BH_Bookie  Avg_Porc_BH_Real  Dist_Porc_BH  \\\n",
       "168               inf                 0.0               0.0           0.0   \n",
       "\n",
       "     Retornos_BA_Acu  Avg_Retornos_BA  Custo_Retorno_BA  Avg_Porc_BA_Bookie  \\\n",
       "168              0.0              0.0               inf                 0.0   \n",
       "\n",
       "     Avg_Porc_BA_Real  Dist_Porc_BA  \n",
       "168               0.0           0.0  "
      ]
     },
     "execution_count": 8,
     "metadata": {},
     "output_type": "execute_result"
    }
   ],
   "source": [
    "jogos = games[games['Date'] == data_var]\n",
    "\n",
    "jogos = jogos.drop(columns=['Home_Pts', 'Away_Pts',\n",
    "       'Back_Home', 'PL_Home', 'Back_Away',\n",
    "       'PL_Away', 'Back_Over', 'PL_Over', 'PL_Under', 'Back_HA_H', 'PL_HA_H',\n",
    "       'PL_HA_A', ])\n",
    "\n",
    "jogos"
   ]
  },
  {
   "attachments": {},
   "cell_type": "markdown",
   "id": "08aa1c88",
   "metadata": {
    "papermill": {
     "duration": 0.001996,
     "end_time": "2024-06-20T13:01:43.362930",
     "exception": false,
     "start_time": "2024-06-20T13:01:43.360934",
     "status": "completed"
    },
    "tags": []
   },
   "source": [
    "## Apostas do dia"
   ]
  },
  {
   "cell_type": "markdown",
   "id": "b24569b1",
   "metadata": {
    "papermill": {
     "duration": 0.002,
     "end_time": "2024-06-20T13:01:43.366929",
     "exception": false,
     "start_time": "2024-06-20T13:01:43.364929",
     "status": "completed"
    },
    "tags": []
   },
   "source": [
    "### Over v0 (LDA)"
   ]
  },
  {
   "cell_type": "code",
   "execution_count": 9,
   "id": "6f144103",
   "metadata": {
    "execution": {
     "iopub.execute_input": "2024-06-20T13:01:43.371433Z",
     "iopub.status.busy": "2024-06-20T13:01:43.371433Z",
     "iopub.status.idle": "2024-06-20T13:01:43.558477Z",
     "shell.execute_reply": "2024-06-20T13:01:43.557970Z"
    },
    "papermill": {
     "duration": 0.19104,
     "end_time": "2024-06-20T13:01:43.559472",
     "exception": false,
     "start_time": "2024-06-20T13:01:43.368432",
     "status": "completed"
    },
    "tags": []
   },
   "outputs": [
    {
     "name": "stdout",
     "output_type": "stream",
     "text": [
      "------------ MÉTODO OVER V0 (LDA) ------------\n",
      "\n"
     ]
    },
    {
     "data": {
      "text/html": [
       "<div>\n",
       "<style scoped>\n",
       "    .dataframe tbody tr th:only-of-type {\n",
       "        vertical-align: middle;\n",
       "    }\n",
       "\n",
       "    .dataframe tbody tr th {\n",
       "        vertical-align: top;\n",
       "    }\n",
       "\n",
       "    .dataframe thead th {\n",
       "        text-align: right;\n",
       "    }\n",
       "</style>\n",
       "<table border=\"1\" class=\"dataframe\">\n",
       "  <thead>\n",
       "    <tr style=\"text-align: right;\">\n",
       "      <th></th>\n",
       "      <th>Time</th>\n",
       "      <th>League</th>\n",
       "      <th>Home</th>\n",
       "      <th>Away</th>\n",
       "      <th>Over_Line</th>\n",
       "      <th>Odds_Over</th>\n",
       "      <th>prediction_score</th>\n",
       "      <th>Bet</th>\n",
       "    </tr>\n",
       "  </thead>\n",
       "  <tbody>\n",
       "    <tr>\n",
       "      <th>0</th>\n",
       "      <td>21:00</td>\n",
       "      <td>Porto Rico Bsn</td>\n",
       "      <td>Piratas de Quebradillas</td>\n",
       "      <td>Aguada Santeros</td>\n",
       "      <td>174.5</td>\n",
       "      <td>1.84</td>\n",
       "      <td>1.0</td>\n",
       "      <td>Over</td>\n",
       "    </tr>\n",
       "  </tbody>\n",
       "</table>\n",
       "</div>"
      ],
      "text/plain": [
       "    Time          League                     Home             Away  Over_Line  \\\n",
       "0  21:00  Porto Rico Bsn  Piratas de Quebradillas  Aguada Santeros      174.5   \n",
       "\n",
       "   Odds_Over  prediction_score   Bet  \n",
       "0       1.84               1.0  Over  "
      ]
     },
     "metadata": {},
     "output_type": "display_data"
    },
    {
     "name": "stdout",
     "output_type": "stream",
     "text": [
      "\n"
     ]
    }
   ],
   "source": [
    "# Duplicando o dataset\n",
    "df_over_v0 = jogos.copy()\n",
    "\n",
    "df_over_v0.reset_index(drop=True, inplace=True)\n",
    "df_over_v0.replace([np.inf, -np.inf], 0, inplace=True)\n",
    "\n",
    "if not df_over_v0.empty:\n",
    "    mdl_over_v0 = load_model('ML/over/v1/v1_over', verbose=False)\n",
    "    prev = predict_model(mdl_over_v0, df_over_v0)\n",
    "    prev = prev[prev['prediction_label'] ==  1]\n",
    "    prev.reset_index(drop=True, inplace=True)\n",
    "    \n",
    "    # Filtros pós modelo\n",
    "\n",
    "    if not prev.empty:\n",
    "        prev.to_csv(f'apostas_do_dia/{data_var}/over_v0_{data_var}.csv', index=False)\n",
    "\n",
    "        print('------------ MÉTODO OVER V0 (LDA) ------------')\n",
    "        print()\n",
    "\n",
    "        prev['Bet'] = 'Over'\n",
    "        ligs = prev['League'].unique().tolist()\n",
    "\n",
    "        display(prev[['Time', 'League', 'Home', 'Away', 'Over_Line', 'Odds_Over', 'prediction_score', 'Bet']])\n",
    "        print()\n",
    "    else: print('Sem jogos')\n",
    "else: print('Sem jogos')"
   ]
  }
 ],
 "metadata": {
  "kernelspec": {
   "display_name": "modelos_futebol",
   "language": "python",
   "name": "python3"
  },
  "language_info": {
   "codemirror_mode": {
    "name": "ipython",
    "version": 3
   },
   "file_extension": ".py",
   "mimetype": "text/x-python",
   "name": "python",
   "nbconvert_exporter": "python",
   "pygments_lexer": "ipython3",
   "version": "3.10.7"
  },
  "papermill": {
   "default_parameters": {},
   "duration": 8.386707,
   "end_time": "2024-06-20T13:01:44.008243",
   "environment_variables": {},
   "exception": null,
   "input_path": "apostas_do_dia_v1.ipynb",
   "output_path": "apostas_do_dia_v1.ipynb",
   "parameters": {
    "data_var": "2024-06-20"
   },
   "start_time": "2024-06-20T13:01:35.621536",
   "version": "2.5.0"
  }
 },
 "nbformat": 4,
 "nbformat_minor": 5
}