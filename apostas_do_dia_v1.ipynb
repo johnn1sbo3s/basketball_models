{
 "cells": [
  {
   "cell_type": "code",
   "execution_count": 1,
   "id": "d690e842",
   "metadata": {
    "execution": {
     "iopub.execute_input": "2024-07-10T13:02:14.132319Z",
     "iopub.status.busy": "2024-07-10T13:02:14.131827Z",
     "iopub.status.idle": "2024-07-10T13:02:14.144587Z",
     "shell.execute_reply": "2024-07-10T13:02:14.144056Z"
    },
    "papermill": {
     "duration": 0.017818,
     "end_time": "2024-07-10T13:02:14.146105",
     "exception": false,
     "start_time": "2024-07-10T13:02:14.128287",
     "status": "completed"
    },
    "tags": [
     "parameters"
    ]
   },
   "outputs": [],
   "source": [
    "data_var = ''"
   ]
  },
  {
   "cell_type": "code",
   "execution_count": 2,
   "id": "07b0ecfc",
   "metadata": {
    "execution": {
     "iopub.execute_input": "2024-07-10T13:02:14.151107Z",
     "iopub.status.busy": "2024-07-10T13:02:14.150608Z",
     "iopub.status.idle": "2024-07-10T13:02:14.160417Z",
     "shell.execute_reply": "2024-07-10T13:02:14.159411Z"
    },
    "papermill": {
     "duration": 0.0133,
     "end_time": "2024-07-10T13:02:14.161407",
     "exception": false,
     "start_time": "2024-07-10T13:02:14.148107",
     "status": "completed"
    },
    "tags": [
     "injected-parameters"
    ]
   },
   "outputs": [],
   "source": [
    "# Parameters\n",
    "data_var = \"2024-07-10\"\n"
   ]
  },
  {
   "cell_type": "code",
   "execution_count": 3,
   "id": "25b97174",
   "metadata": {
    "execution": {
     "iopub.execute_input": "2024-07-10T13:02:14.166395Z",
     "iopub.status.busy": "2024-07-10T13:02:14.165893Z",
     "iopub.status.idle": "2024-07-10T13:02:19.995507Z",
     "shell.execute_reply": "2024-07-10T13:02:19.994967Z"
    },
    "papermill": {
     "duration": 5.833592,
     "end_time": "2024-07-10T13:02:19.997000",
     "exception": false,
     "start_time": "2024-07-10T13:02:14.163408",
     "status": "completed"
    },
    "tags": []
   },
   "outputs": [],
   "source": [
    "import pandas as pd; pd.set_option('display.max_columns', None)\n",
    "import os\n",
    "from pycaret.classification import *\n",
    "from scripts.PreparaDataset import *\n",
    "from scripts.TeoriaRetornos import *"
   ]
  },
  {
   "attachments": {},
   "cell_type": "markdown",
   "id": "ffa9b361",
   "metadata": {
    "papermill": {
     "duration": 0.001501,
     "end_time": "2024-07-10T13:02:20.001001",
     "exception": false,
     "start_time": "2024-07-10T13:02:19.999500",
     "status": "completed"
    },
    "tags": []
   },
   "source": [
    "### Funções"
   ]
  },
  {
   "cell_type": "code",
   "execution_count": 4,
   "id": "cb6eea9b",
   "metadata": {
    "execution": {
     "iopub.execute_input": "2024-07-10T13:02:20.006005Z",
     "iopub.status.busy": "2024-07-10T13:02:20.005506Z",
     "iopub.status.idle": "2024-07-10T13:02:20.010813Z",
     "shell.execute_reply": "2024-07-10T13:02:20.010289Z"
    },
    "papermill": {
     "duration": 0.009307,
     "end_time": "2024-07-10T13:02:20.012307",
     "exception": false,
     "start_time": "2024-07-10T13:02:20.003000",
     "status": "completed"
    },
    "tags": []
   },
   "outputs": [],
   "source": [
    "def atualiza_dia(_jogos):\n",
    "    _jogos = prepara_df(_jogos)\n",
    "\n",
    "    _jogos = _jogos.reset_index(drop=True)\n",
    "\n",
    "    return _jogos"
   ]
  },
  {
   "attachments": {},
   "cell_type": "markdown",
   "id": "26b16874",
   "metadata": {
    "papermill": {
     "duration": 0.002,
     "end_time": "2024-07-10T13:02:20.015807",
     "exception": false,
     "start_time": "2024-07-10T13:02:20.013807",
     "status": "completed"
    },
    "tags": []
   },
   "source": [
    "### Pegando os jogos do dia"
   ]
  },
  {
   "cell_type": "code",
   "execution_count": 5,
   "id": "5ddb2ecb",
   "metadata": {
    "execution": {
     "iopub.execute_input": "2024-07-10T13:02:20.019813Z",
     "iopub.status.busy": "2024-07-10T13:02:20.019813Z",
     "iopub.status.idle": "2024-07-10T13:02:20.041894Z",
     "shell.execute_reply": "2024-07-10T13:02:20.041371Z"
    },
    "papermill": {
     "duration": 0.026079,
     "end_time": "2024-07-10T13:02:20.043386",
     "exception": false,
     "start_time": "2024-07-10T13:02:20.017307",
     "status": "completed"
    },
    "tags": []
   },
   "outputs": [],
   "source": [
    "df_today = pd.read_csv(f'jogos_do_dia/{data_var}.csv')"
   ]
  },
  {
   "cell_type": "markdown",
   "id": "19a2214d",
   "metadata": {
    "papermill": {
     "duration": 0.002004,
     "end_time": "2024-07-10T13:02:20.047390",
     "exception": false,
     "start_time": "2024-07-10T13:02:20.045386",
     "status": "completed"
    },
    "tags": []
   },
   "source": [
    "### Atualizando os datasets que tem jogo hoje"
   ]
  },
  {
   "cell_type": "code",
   "execution_count": 6,
   "id": "68bd72ae",
   "metadata": {
    "execution": {
     "iopub.execute_input": "2024-07-10T13:02:20.051388Z",
     "iopub.status.busy": "2024-07-10T13:02:20.051388Z",
     "iopub.status.idle": "2024-07-10T13:02:20.118737Z",
     "shell.execute_reply": "2024-07-10T13:02:20.118208Z"
    },
    "papermill": {
     "duration": 0.071371,
     "end_time": "2024-07-10T13:02:20.120257",
     "exception": false,
     "start_time": "2024-07-10T13:02:20.048886",
     "status": "completed"
    },
    "tags": []
   },
   "outputs": [],
   "source": [
    "temporada = pd.read_csv('data/Entire_Season.csv')\n",
    "temporada = temporada[temporada['Date'] < data_var]\n",
    "temporada = pd.concat([temporada, df_today])\n",
    "ligas = df_today['League'].unique().tolist()\n",
    "temporada = temporada[temporada['League'].isin(ligas)]\n",
    "temporada.reset_index(drop=True, inplace=True)"
   ]
  },
  {
   "cell_type": "markdown",
   "id": "0d8018ca",
   "metadata": {
    "papermill": {
     "duration": 0.001995,
     "end_time": "2024-07-10T13:02:20.124756",
     "exception": false,
     "start_time": "2024-07-10T13:02:20.122761",
     "status": "completed"
    },
    "tags": []
   },
   "source": [
    "### Cria variáveis na temporada e nos jogos do dia"
   ]
  },
  {
   "cell_type": "code",
   "execution_count": 7,
   "id": "d3b06cb1",
   "metadata": {
    "execution": {
     "iopub.execute_input": "2024-07-10T13:02:20.129242Z",
     "iopub.status.busy": "2024-07-10T13:02:20.129242Z",
     "iopub.status.idle": "2024-07-10T13:02:20.335687Z",
     "shell.execute_reply": "2024-07-10T13:02:20.335174Z"
    },
    "papermill": {
     "duration": 0.210924,
     "end_time": "2024-07-10T13:02:20.337181",
     "exception": false,
     "start_time": "2024-07-10T13:02:20.126257",
     "status": "completed"
    },
    "tags": []
   },
   "outputs": [],
   "source": [
    "games = atualiza_dia(temporada)\n",
    "temporada = games[games['Date'] < data_var]\n",
    "os.makedirs(f'apostas_do_dia/{data_var}', exist_ok=True)"
   ]
  },
  {
   "cell_type": "code",
   "execution_count": 8,
   "id": "16aa533f",
   "metadata": {
    "execution": {
     "iopub.execute_input": "2024-07-10T13:02:20.342185Z",
     "iopub.status.busy": "2024-07-10T13:02:20.341686Z",
     "iopub.status.idle": "2024-07-10T13:02:20.381480Z",
     "shell.execute_reply": "2024-07-10T13:02:20.380975Z"
    },
    "papermill": {
     "duration": 0.043794,
     "end_time": "2024-07-10T13:02:20.382975",
     "exception": false,
     "start_time": "2024-07-10T13:02:20.339181",
     "status": "completed"
    },
    "tags": []
   },
   "outputs": [
    {
     "data": {
      "text/html": [
       "<div>\n",
       "<style scoped>\n",
       "    .dataframe tbody tr th:only-of-type {\n",
       "        vertical-align: middle;\n",
       "    }\n",
       "\n",
       "    .dataframe tbody tr th {\n",
       "        vertical-align: top;\n",
       "    }\n",
       "\n",
       "    .dataframe thead th {\n",
       "        text-align: right;\n",
       "    }\n",
       "</style>\n",
       "<table border=\"1\" class=\"dataframe\">\n",
       "  <thead>\n",
       "    <tr style=\"text-align: right;\">\n",
       "      <th></th>\n",
       "      <th>Date</th>\n",
       "      <th>League</th>\n",
       "      <th>Time</th>\n",
       "      <th>Home</th>\n",
       "      <th>Away</th>\n",
       "      <th>Odds_H</th>\n",
       "      <th>Odds_A</th>\n",
       "      <th>Over_Line</th>\n",
       "      <th>Odds_Over</th>\n",
       "      <th>Odds_Under</th>\n",
       "      <th>HA_Line</th>\n",
       "      <th>HA_Odds_H</th>\n",
       "      <th>HA_Odds_A</th>\n",
       "      <th>Fixture ID</th>\n",
       "      <th>P(H)</th>\n",
       "      <th>P(A)</th>\n",
       "      <th>P(O)</th>\n",
       "      <th>P(U)</th>\n",
       "      <th>P_Diff</th>\n",
       "      <th>Porc_Over_Home</th>\n",
       "      <th>Porc_Over_Away</th>\n",
       "      <th>CustoGolHome</th>\n",
       "      <th>CustoGolAway</th>\n",
       "      <th>Avg_CG_H</th>\n",
       "      <th>DP_CG_H</th>\n",
       "      <th>CV_CG_H</th>\n",
       "      <th>Avg_CG_A</th>\n",
       "      <th>DP_CG_A</th>\n",
       "      <th>CV_CG_A</th>\n",
       "      <th>MediaCustoGolHome</th>\n",
       "      <th>MediaCustoGolAway</th>\n",
       "      <th>Last_CG_H</th>\n",
       "      <th>Last_CG_A</th>\n",
       "      <th>Acima_Last_CG_H</th>\n",
       "      <th>Acima_Last_CG_A</th>\n",
       "      <th>Abaixo_Last_CG_H</th>\n",
       "      <th>Abaixo_Last_CG_A</th>\n",
       "      <th>CV_ML</th>\n",
       "      <th>CV_Over</th>\n",
       "      <th>CV_HA</th>\n",
       "      <th>Retornos_BH_Acu</th>\n",
       "      <th>Avg_Retornos_BH</th>\n",
       "      <th>Custo_Retorno_BH</th>\n",
       "      <th>Avg_Porc_BH_Bookie</th>\n",
       "      <th>Avg_Porc_BH_Real</th>\n",
       "      <th>Dist_Porc_BH</th>\n",
       "      <th>Retornos_BA_Acu</th>\n",
       "      <th>Avg_Retornos_BA</th>\n",
       "      <th>Custo_Retorno_BA</th>\n",
       "      <th>Avg_Porc_BA_Bookie</th>\n",
       "      <th>Avg_Porc_BA_Real</th>\n",
       "      <th>Dist_Porc_BA</th>\n",
       "    </tr>\n",
       "  </thead>\n",
       "  <tbody>\n",
       "    <tr>\n",
       "      <th>121</th>\n",
       "      <td>2024-07-10</td>\n",
       "      <td>Eua Wnba</td>\n",
       "      <td>12:00</td>\n",
       "      <td>Connecticut Sun F</td>\n",
       "      <td>New York Liberty F</td>\n",
       "      <td>2.24</td>\n",
       "      <td>1.66</td>\n",
       "      <td>156.5</td>\n",
       "      <td>1.83</td>\n",
       "      <td>1.91</td>\n",
       "      <td>1.5</td>\n",
       "      <td>2.02</td>\n",
       "      <td>1.52</td>\n",
       "      <td>GGOMaa1a</td>\n",
       "      <td>0.446429</td>\n",
       "      <td>0.602410</td>\n",
       "      <td>0.546448</td>\n",
       "      <td>0.523560</td>\n",
       "      <td>0.048838</td>\n",
       "      <td>0.0</td>\n",
       "      <td>0.0</td>\n",
       "      <td>NaN</td>\n",
       "      <td>NaN</td>\n",
       "      <td>126.694</td>\n",
       "      <td>21.757782</td>\n",
       "      <td>0.171735</td>\n",
       "      <td>NaN</td>\n",
       "      <td>NaN</td>\n",
       "      <td>NaN</td>\n",
       "      <td>0.0</td>\n",
       "      <td>0.0</td>\n",
       "      <td>148.5</td>\n",
       "      <td>189.9</td>\n",
       "      <td>0.0</td>\n",
       "      <td>0.0</td>\n",
       "      <td>0.0</td>\n",
       "      <td>0.0</td>\n",
       "      <td>0.210319</td>\n",
       "      <td>0.030251</td>\n",
       "      <td>0.199748</td>\n",
       "      <td>0.0</td>\n",
       "      <td>0.0</td>\n",
       "      <td>inf</td>\n",
       "      <td>0.0</td>\n",
       "      <td>0.0</td>\n",
       "      <td>0.0</td>\n",
       "      <td>0.0</td>\n",
       "      <td>0.0</td>\n",
       "      <td>inf</td>\n",
       "      <td>0.0</td>\n",
       "      <td>0.0</td>\n",
       "      <td>0.0</td>\n",
       "    </tr>\n",
       "    <tr>\n",
       "      <th>122</th>\n",
       "      <td>2024-07-10</td>\n",
       "      <td>Europa Eurobasket Sub</td>\n",
       "      <td>09:30</td>\n",
       "      <td>Irlanda U20 F</td>\n",
       "      <td>Ucrânia U20 F</td>\n",
       "      <td>1.81</td>\n",
       "      <td>1.91</td>\n",
       "      <td>130.5</td>\n",
       "      <td>1.88</td>\n",
       "      <td>1.79</td>\n",
       "      <td>-1.5</td>\n",
       "      <td>1.94</td>\n",
       "      <td>2.08</td>\n",
       "      <td>OdnuP8yK</td>\n",
       "      <td>0.552486</td>\n",
       "      <td>0.523560</td>\n",
       "      <td>0.531915</td>\n",
       "      <td>0.558659</td>\n",
       "      <td>0.076046</td>\n",
       "      <td>0.0</td>\n",
       "      <td>0.0</td>\n",
       "      <td>NaN</td>\n",
       "      <td>NaN</td>\n",
       "      <td>NaN</td>\n",
       "      <td>NaN</td>\n",
       "      <td>NaN</td>\n",
       "      <td>NaN</td>\n",
       "      <td>NaN</td>\n",
       "      <td>NaN</td>\n",
       "      <td>0.0</td>\n",
       "      <td>0.0</td>\n",
       "      <td>0.0</td>\n",
       "      <td>0.0</td>\n",
       "      <td>0.0</td>\n",
       "      <td>0.0</td>\n",
       "      <td>0.0</td>\n",
       "      <td>0.0</td>\n",
       "      <td>0.038016</td>\n",
       "      <td>0.034681</td>\n",
       "      <td>0.049251</td>\n",
       "      <td>0.0</td>\n",
       "      <td>0.0</td>\n",
       "      <td>inf</td>\n",
       "      <td>0.0</td>\n",
       "      <td>0.0</td>\n",
       "      <td>0.0</td>\n",
       "      <td>0.0</td>\n",
       "      <td>0.0</td>\n",
       "      <td>inf</td>\n",
       "      <td>0.0</td>\n",
       "      <td>0.0</td>\n",
       "      <td>0.0</td>\n",
       "    </tr>\n",
       "    <tr>\n",
       "      <th>123</th>\n",
       "      <td>2024-07-10</td>\n",
       "      <td>Europa Eurobasket Sub</td>\n",
       "      <td>14:30</td>\n",
       "      <td>Croácia U20 F</td>\n",
       "      <td>Países Baixos U20 F</td>\n",
       "      <td>1.91</td>\n",
       "      <td>1.81</td>\n",
       "      <td>133.5</td>\n",
       "      <td>1.87</td>\n",
       "      <td>1.83</td>\n",
       "      <td>-2.5</td>\n",
       "      <td>1.95</td>\n",
       "      <td>2.01</td>\n",
       "      <td>pQabu943</td>\n",
       "      <td>0.523560</td>\n",
       "      <td>0.552486</td>\n",
       "      <td>0.534759</td>\n",
       "      <td>0.546448</td>\n",
       "      <td>0.076046</td>\n",
       "      <td>0.0</td>\n",
       "      <td>0.0</td>\n",
       "      <td>NaN</td>\n",
       "      <td>NaN</td>\n",
       "      <td>NaN</td>\n",
       "      <td>NaN</td>\n",
       "      <td>NaN</td>\n",
       "      <td>NaN</td>\n",
       "      <td>NaN</td>\n",
       "      <td>NaN</td>\n",
       "      <td>0.0</td>\n",
       "      <td>0.0</td>\n",
       "      <td>0.0</td>\n",
       "      <td>0.0</td>\n",
       "      <td>0.0</td>\n",
       "      <td>0.0</td>\n",
       "      <td>0.0</td>\n",
       "      <td>0.0</td>\n",
       "      <td>0.038016</td>\n",
       "      <td>0.015289</td>\n",
       "      <td>0.021427</td>\n",
       "      <td>0.0</td>\n",
       "      <td>0.0</td>\n",
       "      <td>inf</td>\n",
       "      <td>0.0</td>\n",
       "      <td>0.0</td>\n",
       "      <td>0.0</td>\n",
       "      <td>0.0</td>\n",
       "      <td>0.0</td>\n",
       "      <td>inf</td>\n",
       "      <td>0.0</td>\n",
       "      <td>0.0</td>\n",
       "      <td>0.0</td>\n",
       "    </tr>\n",
       "  </tbody>\n",
       "</table>\n",
       "</div>"
      ],
      "text/plain": [
       "           Date                 League   Time               Home  \\\n",
       "121  2024-07-10               Eua Wnba  12:00  Connecticut Sun F   \n",
       "122  2024-07-10  Europa Eurobasket Sub  09:30      Irlanda U20 F   \n",
       "123  2024-07-10  Europa Eurobasket Sub  14:30      Croácia U20 F   \n",
       "\n",
       "                    Away  Odds_H  Odds_A  Over_Line  Odds_Over  Odds_Under  \\\n",
       "121   New York Liberty F    2.24    1.66      156.5       1.83        1.91   \n",
       "122        Ucrânia U20 F    1.81    1.91      130.5       1.88        1.79   \n",
       "123  Países Baixos U20 F    1.91    1.81      133.5       1.87        1.83   \n",
       "\n",
       "     HA_Line  HA_Odds_H  HA_Odds_A Fixture ID      P(H)      P(A)      P(O)  \\\n",
       "121      1.5       2.02       1.52   GGOMaa1a  0.446429  0.602410  0.546448   \n",
       "122     -1.5       1.94       2.08   OdnuP8yK  0.552486  0.523560  0.531915   \n",
       "123     -2.5       1.95       2.01   pQabu943  0.523560  0.552486  0.534759   \n",
       "\n",
       "         P(U)    P_Diff  Porc_Over_Home  Porc_Over_Away  CustoGolHome  \\\n",
       "121  0.523560  0.048838             0.0             0.0           NaN   \n",
       "122  0.558659  0.076046             0.0             0.0           NaN   \n",
       "123  0.546448  0.076046             0.0             0.0           NaN   \n",
       "\n",
       "     CustoGolAway  Avg_CG_H    DP_CG_H   CV_CG_H  Avg_CG_A  DP_CG_A  CV_CG_A  \\\n",
       "121           NaN   126.694  21.757782  0.171735       NaN      NaN      NaN   \n",
       "122           NaN       NaN        NaN       NaN       NaN      NaN      NaN   \n",
       "123           NaN       NaN        NaN       NaN       NaN      NaN      NaN   \n",
       "\n",
       "     MediaCustoGolHome  MediaCustoGolAway  Last_CG_H  Last_CG_A  \\\n",
       "121                0.0                0.0      148.5      189.9   \n",
       "122                0.0                0.0        0.0        0.0   \n",
       "123                0.0                0.0        0.0        0.0   \n",
       "\n",
       "     Acima_Last_CG_H  Acima_Last_CG_A  Abaixo_Last_CG_H  Abaixo_Last_CG_A  \\\n",
       "121              0.0              0.0               0.0               0.0   \n",
       "122              0.0              0.0               0.0               0.0   \n",
       "123              0.0              0.0               0.0               0.0   \n",
       "\n",
       "        CV_ML   CV_Over     CV_HA  Retornos_BH_Acu  Avg_Retornos_BH  \\\n",
       "121  0.210319  0.030251  0.199748              0.0              0.0   \n",
       "122  0.038016  0.034681  0.049251              0.0              0.0   \n",
       "123  0.038016  0.015289  0.021427              0.0              0.0   \n",
       "\n",
       "     Custo_Retorno_BH  Avg_Porc_BH_Bookie  Avg_Porc_BH_Real  Dist_Porc_BH  \\\n",
       "121               inf                 0.0               0.0           0.0   \n",
       "122               inf                 0.0               0.0           0.0   \n",
       "123               inf                 0.0               0.0           0.0   \n",
       "\n",
       "     Retornos_BA_Acu  Avg_Retornos_BA  Custo_Retorno_BA  Avg_Porc_BA_Bookie  \\\n",
       "121              0.0              0.0               inf                 0.0   \n",
       "122              0.0              0.0               inf                 0.0   \n",
       "123              0.0              0.0               inf                 0.0   \n",
       "\n",
       "     Avg_Porc_BA_Real  Dist_Porc_BA  \n",
       "121               0.0           0.0  \n",
       "122               0.0           0.0  \n",
       "123               0.0           0.0  "
      ]
     },
     "execution_count": 8,
     "metadata": {},
     "output_type": "execute_result"
    }
   ],
   "source": [
    "jogos = games[games['Date'] == data_var]\n",
    "\n",
    "jogos = jogos.drop(columns=['Home_Pts', 'Away_Pts',\n",
    "       'Back_Home', 'PL_Home', 'Back_Away',\n",
    "       'PL_Away', 'Back_Over', 'PL_Over', 'PL_Under', 'Back_HA_H', 'PL_HA_H',\n",
    "       'PL_HA_A', ])\n",
    "\n",
    "jogos"
   ]
  },
  {
   "attachments": {},
   "cell_type": "markdown",
   "id": "08aa1c88",
   "metadata": {
    "papermill": {
     "duration": 0.002,
     "end_time": "2024-07-10T13:02:20.387475",
     "exception": false,
     "start_time": "2024-07-10T13:02:20.385475",
     "status": "completed"
    },
    "tags": []
   },
   "source": [
    "## Apostas do dia"
   ]
  },
  {
   "cell_type": "markdown",
   "id": "b24569b1",
   "metadata": {
    "papermill": {
     "duration": 0.002,
     "end_time": "2024-07-10T13:02:20.391474",
     "exception": false,
     "start_time": "2024-07-10T13:02:20.389474",
     "status": "completed"
    },
    "tags": []
   },
   "source": [
    "### Over v0 (LDA)"
   ]
  },
  {
   "cell_type": "code",
   "execution_count": 9,
   "id": "6f144103",
   "metadata": {
    "execution": {
     "iopub.execute_input": "2024-07-10T13:02:20.396480Z",
     "iopub.status.busy": "2024-07-10T13:02:20.395976Z",
     "iopub.status.idle": "2024-07-10T13:02:20.566992Z",
     "shell.execute_reply": "2024-07-10T13:02:20.566488Z"
    },
    "papermill": {
     "duration": 0.175008,
     "end_time": "2024-07-10T13:02:20.568486",
     "exception": false,
     "start_time": "2024-07-10T13:02:20.393478",
     "status": "completed"
    },
    "tags": []
   },
   "outputs": [
    {
     "name": "stdout",
     "output_type": "stream",
     "text": [
      "------------ MÉTODO OVER V0 (LDA) ------------\n",
      "\n"
     ]
    },
    {
     "data": {
      "text/html": [
       "<div>\n",
       "<style scoped>\n",
       "    .dataframe tbody tr th:only-of-type {\n",
       "        vertical-align: middle;\n",
       "    }\n",
       "\n",
       "    .dataframe tbody tr th {\n",
       "        vertical-align: top;\n",
       "    }\n",
       "\n",
       "    .dataframe thead th {\n",
       "        text-align: right;\n",
       "    }\n",
       "</style>\n",
       "<table border=\"1\" class=\"dataframe\">\n",
       "  <thead>\n",
       "    <tr style=\"text-align: right;\">\n",
       "      <th></th>\n",
       "      <th>Time</th>\n",
       "      <th>League</th>\n",
       "      <th>Home</th>\n",
       "      <th>Away</th>\n",
       "      <th>Over_Line</th>\n",
       "      <th>Odds_Over</th>\n",
       "      <th>prediction_score</th>\n",
       "      <th>Bet</th>\n",
       "    </tr>\n",
       "  </thead>\n",
       "  <tbody>\n",
       "    <tr>\n",
       "      <th>0</th>\n",
       "      <td>09:30</td>\n",
       "      <td>Europa Eurobasket Sub</td>\n",
       "      <td>Irlanda U20 F</td>\n",
       "      <td>Ucrânia U20 F</td>\n",
       "      <td>130.5</td>\n",
       "      <td>1.88</td>\n",
       "      <td>1.0</td>\n",
       "      <td>Over</td>\n",
       "    </tr>\n",
       "    <tr>\n",
       "      <th>1</th>\n",
       "      <td>14:30</td>\n",
       "      <td>Europa Eurobasket Sub</td>\n",
       "      <td>Croácia U20 F</td>\n",
       "      <td>Países Baixos U20 F</td>\n",
       "      <td>133.5</td>\n",
       "      <td>1.87</td>\n",
       "      <td>1.0</td>\n",
       "      <td>Over</td>\n",
       "    </tr>\n",
       "  </tbody>\n",
       "</table>\n",
       "</div>"
      ],
      "text/plain": [
       "    Time                 League           Home                 Away  \\\n",
       "0  09:30  Europa Eurobasket Sub  Irlanda U20 F        Ucrânia U20 F   \n",
       "1  14:30  Europa Eurobasket Sub  Croácia U20 F  Países Baixos U20 F   \n",
       "\n",
       "   Over_Line  Odds_Over  prediction_score   Bet  \n",
       "0      130.5       1.88               1.0  Over  \n",
       "1      133.5       1.87               1.0  Over  "
      ]
     },
     "metadata": {},
     "output_type": "display_data"
    },
    {
     "name": "stdout",
     "output_type": "stream",
     "text": [
      "\n"
     ]
    }
   ],
   "source": [
    "# Duplicando o dataset\n",
    "df_over_v0 = jogos.copy()\n",
    "\n",
    "df_over_v0.reset_index(drop=True, inplace=True)\n",
    "df_over_v0.replace([np.inf, -np.inf], 0, inplace=True)\n",
    "\n",
    "if not df_over_v0.empty:\n",
    "    mdl_over_v0 = load_model('ML/over/v1/v1_over', verbose=False)\n",
    "    prev = predict_model(mdl_over_v0, df_over_v0)\n",
    "    prev = prev[prev['prediction_label'] ==  1]\n",
    "    prev.reset_index(drop=True, inplace=True)\n",
    "    \n",
    "    # Filtros pós modelo\n",
    "\n",
    "    if not prev.empty:\n",
    "        prev.to_csv(f'apostas_do_dia/{data_var}/over_v0_{data_var}.csv', index=False)\n",
    "\n",
    "        print('------------ MÉTODO OVER V0 (LDA) ------------')\n",
    "        print()\n",
    "\n",
    "        prev['Bet'] = 'Over'\n",
    "        ligs = prev['League'].unique().tolist()\n",
    "\n",
    "        display(prev[['Time', 'League', 'Home', 'Away', 'Over_Line', 'Odds_Over', 'prediction_score', 'Bet']])\n",
    "        print()\n",
    "    else: print('Sem jogos')\n",
    "else: print('Sem jogos')"
   ]
  }
 ],
 "metadata": {
  "kernelspec": {
   "display_name": "modelos_futebol",
   "language": "python",
   "name": "python3"
  },
  "language_info": {
   "codemirror_mode": {
    "name": "ipython",
    "version": 3
   },
   "file_extension": ".py",
   "mimetype": "text/x-python",
   "name": "python",
   "nbconvert_exporter": "python",
   "pygments_lexer": "ipython3",
   "version": "3.10.7"
  },
  "papermill": {
   "default_parameters": {},
   "duration": 8.087041,
   "end_time": "2024-07-10T13:02:20.908503",
   "environment_variables": {},
   "exception": null,
   "input_path": "apostas_do_dia_v1.ipynb",
   "output_path": "apostas_do_dia_v1.ipynb",
   "parameters": {
    "data_var": "2024-07-10"
   },
   "start_time": "2024-07-10T13:02:12.821462",
   "version": "2.5.0"
  }
 },
 "nbformat": 4,
 "nbformat_minor": 5
}