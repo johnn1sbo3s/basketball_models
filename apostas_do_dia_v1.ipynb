{
 "cells": [
  {
   "cell_type": "code",
   "execution_count": 1,
   "id": "d690e842",
   "metadata": {
    "execution": {
     "iopub.execute_input": "2024-06-11T13:01:11.760411Z",
     "iopub.status.busy": "2024-06-11T13:01:11.760411Z",
     "iopub.status.idle": "2024-06-11T13:01:11.789023Z",
     "shell.execute_reply": "2024-06-11T13:01:11.788017Z"
    },
    "papermill": {
     "duration": 0.032602,
     "end_time": "2024-06-11T13:01:11.790017",
     "exception": false,
     "start_time": "2024-06-11T13:01:11.757415",
     "status": "completed"
    },
    "tags": [
     "parameters"
    ]
   },
   "outputs": [],
   "source": [
    "data_var = ''"
   ]
  },
  {
   "cell_type": "code",
   "execution_count": 2,
   "id": "934c4471",
   "metadata": {
    "execution": {
     "iopub.execute_input": "2024-06-11T13:01:11.794519Z",
     "iopub.status.busy": "2024-06-11T13:01:11.794519Z",
     "iopub.status.idle": "2024-06-11T13:01:11.804858Z",
     "shell.execute_reply": "2024-06-11T13:01:11.803826Z"
    },
    "papermill": {
     "duration": 0.014317,
     "end_time": "2024-06-11T13:01:11.806352",
     "exception": false,
     "start_time": "2024-06-11T13:01:11.792035",
     "status": "completed"
    },
    "tags": [
     "injected-parameters"
    ]
   },
   "outputs": [],
   "source": [
    "# Parameters\n",
    "data_var = \"2024-06-11\"\n"
   ]
  },
  {
   "cell_type": "code",
   "execution_count": 3,
   "id": "25b97174",
   "metadata": {
    "execution": {
     "iopub.execute_input": "2024-06-11T13:01:11.810855Z",
     "iopub.status.busy": "2024-06-11T13:01:11.810355Z",
     "iopub.status.idle": "2024-06-11T13:01:13.392155Z",
     "shell.execute_reply": "2024-06-11T13:01:13.391651Z"
    },
    "papermill": {
     "duration": 1.585299,
     "end_time": "2024-06-11T13:01:13.393651",
     "exception": false,
     "start_time": "2024-06-11T13:01:11.808352",
     "status": "completed"
    },
    "tags": []
   },
   "outputs": [],
   "source": [
    "import pandas as pd; pd.set_option('display.max_columns', None)\n",
    "import os\n",
    "from pycaret.classification import *\n",
    "from scripts.PreparaDataset import *\n",
    "from scripts.TeoriaRetornos import *"
   ]
  },
  {
   "attachments": {},
   "cell_type": "markdown",
   "id": "ffa9b361",
   "metadata": {
    "papermill": {
     "duration": 0.0025,
     "end_time": "2024-06-11T13:01:13.398151",
     "exception": false,
     "start_time": "2024-06-11T13:01:13.395651",
     "status": "completed"
    },
    "tags": []
   },
   "source": [
    "### Funções"
   ]
  },
  {
   "cell_type": "code",
   "execution_count": 4,
   "id": "cb6eea9b",
   "metadata": {
    "execution": {
     "iopub.execute_input": "2024-06-11T13:01:13.402654Z",
     "iopub.status.busy": "2024-06-11T13:01:13.402153Z",
     "iopub.status.idle": "2024-06-11T13:01:13.407464Z",
     "shell.execute_reply": "2024-06-11T13:01:13.406943Z"
    },
    "papermill": {
     "duration": 0.00931,
     "end_time": "2024-06-11T13:01:13.408961",
     "exception": false,
     "start_time": "2024-06-11T13:01:13.399651",
     "status": "completed"
    },
    "tags": []
   },
   "outputs": [],
   "source": [
    "def atualiza_dia(_jogos):\n",
    "    _jogos = prepara_df(_jogos)\n",
    "\n",
    "    _jogos = _jogos.reset_index(drop=True)\n",
    "\n",
    "    return _jogos"
   ]
  },
  {
   "attachments": {},
   "cell_type": "markdown",
   "id": "26b16874",
   "metadata": {
    "papermill": {
     "duration": 0.002,
     "end_time": "2024-06-11T13:01:13.412461",
     "exception": false,
     "start_time": "2024-06-11T13:01:13.410461",
     "status": "completed"
    },
    "tags": []
   },
   "source": [
    "### Pegando os jogos do dia"
   ]
  },
  {
   "cell_type": "code",
   "execution_count": 5,
   "id": "5ddb2ecb",
   "metadata": {
    "execution": {
     "iopub.execute_input": "2024-06-11T13:01:13.416465Z",
     "iopub.status.busy": "2024-06-11T13:01:13.416465Z",
     "iopub.status.idle": "2024-06-11T13:01:13.438843Z",
     "shell.execute_reply": "2024-06-11T13:01:13.438309Z"
    },
    "papermill": {
     "duration": 0.026364,
     "end_time": "2024-06-11T13:01:13.440325",
     "exception": false,
     "start_time": "2024-06-11T13:01:13.413961",
     "status": "completed"
    },
    "tags": []
   },
   "outputs": [],
   "source": [
    "df_today = pd.read_csv(f'jogos_do_dia/{data_var}.csv')"
   ]
  },
  {
   "cell_type": "markdown",
   "id": "19a2214d",
   "metadata": {
    "papermill": {
     "duration": 0.0015,
     "end_time": "2024-06-11T13:01:13.443825",
     "exception": false,
     "start_time": "2024-06-11T13:01:13.442325",
     "status": "completed"
    },
    "tags": []
   },
   "source": [
    "### Atualizando os datasets que tem jogo hoje"
   ]
  },
  {
   "cell_type": "code",
   "execution_count": 6,
   "id": "68bd72ae",
   "metadata": {
    "execution": {
     "iopub.execute_input": "2024-06-11T13:01:13.448328Z",
     "iopub.status.busy": "2024-06-11T13:01:13.447827Z",
     "iopub.status.idle": "2024-06-11T13:01:13.516210Z",
     "shell.execute_reply": "2024-06-11T13:01:13.515228Z"
    },
    "papermill": {
     "duration": 0.071404,
     "end_time": "2024-06-11T13:01:13.517229",
     "exception": false,
     "start_time": "2024-06-11T13:01:13.445825",
     "status": "completed"
    },
    "tags": []
   },
   "outputs": [],
   "source": [
    "temporada = pd.read_csv('data/Entire_Season.csv')\n",
    "temporada = temporada[temporada['Date'] < data_var]\n",
    "temporada = pd.concat([temporada, df_today])\n",
    "ligas = df_today['League'].unique().tolist()\n",
    "temporada = temporada[temporada['League'].isin(ligas)]\n",
    "temporada.reset_index(drop=True, inplace=True)"
   ]
  },
  {
   "cell_type": "markdown",
   "id": "0d8018ca",
   "metadata": {
    "papermill": {
     "duration": 0.0025,
     "end_time": "2024-06-11T13:01:13.522217",
     "exception": false,
     "start_time": "2024-06-11T13:01:13.519717",
     "status": "completed"
    },
    "tags": []
   },
   "source": [
    "### Cria variáveis na temporada e nos jogos do dia"
   ]
  },
  {
   "cell_type": "code",
   "execution_count": 7,
   "id": "d3b06cb1",
   "metadata": {
    "execution": {
     "iopub.execute_input": "2024-06-11T13:01:13.526717Z",
     "iopub.status.busy": "2024-06-11T13:01:13.526221Z",
     "iopub.status.idle": "2024-06-11T13:01:14.786272Z",
     "shell.execute_reply": "2024-06-11T13:01:14.785771Z"
    },
    "papermill": {
     "duration": 1.264054,
     "end_time": "2024-06-11T13:01:14.787771",
     "exception": false,
     "start_time": "2024-06-11T13:01:13.523717",
     "status": "completed"
    },
    "tags": []
   },
   "outputs": [],
   "source": [
    "games = atualiza_dia(temporada)\n",
    "temporada = games[games['Date'] < data_var]\n",
    "os.makedirs(f'apostas_do_dia/{data_var}', exist_ok=True)"
   ]
  },
  {
   "cell_type": "code",
   "execution_count": 8,
   "id": "16aa533f",
   "metadata": {
    "execution": {
     "iopub.execute_input": "2024-06-11T13:01:14.792271Z",
     "iopub.status.busy": "2024-06-11T13:01:14.792271Z",
     "iopub.status.idle": "2024-06-11T13:01:14.817162Z",
     "shell.execute_reply": "2024-06-11T13:01:14.816641Z"
    },
    "papermill": {
     "duration": 0.02889,
     "end_time": "2024-06-11T13:01:14.818661",
     "exception": false,
     "start_time": "2024-06-11T13:01:14.789771",
     "status": "completed"
    },
    "tags": []
   },
   "outputs": [
    {
     "data": {
      "text/html": [
       "<div>\n",
       "<style scoped>\n",
       "    .dataframe tbody tr th:only-of-type {\n",
       "        vertical-align: middle;\n",
       "    }\n",
       "\n",
       "    .dataframe tbody tr th {\n",
       "        vertical-align: top;\n",
       "    }\n",
       "\n",
       "    .dataframe thead th {\n",
       "        text-align: right;\n",
       "    }\n",
       "</style>\n",
       "<table border=\"1\" class=\"dataframe\">\n",
       "  <thead>\n",
       "    <tr style=\"text-align: right;\">\n",
       "      <th></th>\n",
       "      <th>Date</th>\n",
       "      <th>League</th>\n",
       "      <th>Time</th>\n",
       "      <th>Home</th>\n",
       "      <th>Away</th>\n",
       "      <th>Odds_H</th>\n",
       "      <th>Odds_A</th>\n",
       "      <th>Over_Line</th>\n",
       "      <th>Odds_Over</th>\n",
       "      <th>Odds_Under</th>\n",
       "      <th>HA_Line</th>\n",
       "      <th>HA_Odds_H</th>\n",
       "      <th>HA_Odds_A</th>\n",
       "      <th>Fixture ID</th>\n",
       "      <th>P(H)</th>\n",
       "      <th>P(A)</th>\n",
       "      <th>P(O)</th>\n",
       "      <th>P(U)</th>\n",
       "      <th>P_Diff</th>\n",
       "      <th>Porc_Over_Home</th>\n",
       "      <th>Porc_Over_Away</th>\n",
       "      <th>CustoGolHome</th>\n",
       "      <th>CustoGolAway</th>\n",
       "      <th>Avg_CG_H</th>\n",
       "      <th>DP_CG_H</th>\n",
       "      <th>CV_CG_H</th>\n",
       "      <th>Avg_CG_A</th>\n",
       "      <th>DP_CG_A</th>\n",
       "      <th>CV_CG_A</th>\n",
       "      <th>MediaCustoGolHome</th>\n",
       "      <th>MediaCustoGolAway</th>\n",
       "      <th>Last_CG_H</th>\n",
       "      <th>Last_CG_A</th>\n",
       "      <th>Acima_Last_CG_H</th>\n",
       "      <th>Acima_Last_CG_A</th>\n",
       "      <th>Abaixo_Last_CG_H</th>\n",
       "      <th>Abaixo_Last_CG_A</th>\n",
       "      <th>CV_ML</th>\n",
       "      <th>CV_Over</th>\n",
       "      <th>CV_HA</th>\n",
       "      <th>Retornos_BH_Acu</th>\n",
       "      <th>Avg_Retornos_BH</th>\n",
       "      <th>Custo_Retorno_BH</th>\n",
       "      <th>Avg_Porc_BH_Bookie</th>\n",
       "      <th>Avg_Porc_BH_Real</th>\n",
       "      <th>Dist_Porc_BH</th>\n",
       "      <th>Retornos_BA_Acu</th>\n",
       "      <th>Avg_Retornos_BA</th>\n",
       "      <th>Custo_Retorno_BA</th>\n",
       "      <th>Avg_Porc_BA_Bookie</th>\n",
       "      <th>Avg_Porc_BA_Real</th>\n",
       "      <th>Dist_Porc_BA</th>\n",
       "    </tr>\n",
       "  </thead>\n",
       "  <tbody>\n",
       "    <tr>\n",
       "      <th>522</th>\n",
       "      <td>2024-06-11</td>\n",
       "      <td>Venezuela Superliga</td>\n",
       "      <td>20:00</td>\n",
       "      <td>Centauros</td>\n",
       "      <td>Heroes de Falcon</td>\n",
       "      <td>1.81</td>\n",
       "      <td>1.91</td>\n",
       "      <td>147.5</td>\n",
       "      <td>1.85</td>\n",
       "      <td>1.85</td>\n",
       "      <td>-1.5</td>\n",
       "      <td>1.92</td>\n",
       "      <td>2.10</td>\n",
       "      <td>A3N50Ic2</td>\n",
       "      <td>0.552486</td>\n",
       "      <td>0.523560</td>\n",
       "      <td>0.540541</td>\n",
       "      <td>0.540541</td>\n",
       "      <td>0.076046</td>\n",
       "      <td>0.0</td>\n",
       "      <td>0.0</td>\n",
       "      <td>NaN</td>\n",
       "      <td>NaN</td>\n",
       "      <td>NaN</td>\n",
       "      <td>NaN</td>\n",
       "      <td>NaN</td>\n",
       "      <td>NaN</td>\n",
       "      <td>NaN</td>\n",
       "      <td>NaN</td>\n",
       "      <td>0.0</td>\n",
       "      <td>0.0</td>\n",
       "      <td>126.08</td>\n",
       "      <td>0.00</td>\n",
       "      <td>0.0</td>\n",
       "      <td>0.0</td>\n",
       "      <td>0.0</td>\n",
       "      <td>0.0</td>\n",
       "      <td>0.038016</td>\n",
       "      <td>0.0</td>\n",
       "      <td>0.063323</td>\n",
       "      <td>0.0</td>\n",
       "      <td>0.0</td>\n",
       "      <td>inf</td>\n",
       "      <td>0.0</td>\n",
       "      <td>0.0</td>\n",
       "      <td>0.0</td>\n",
       "      <td>0.0</td>\n",
       "      <td>0.0</td>\n",
       "      <td>inf</td>\n",
       "      <td>0.0</td>\n",
       "      <td>0.0</td>\n",
       "      <td>0.0</td>\n",
       "    </tr>\n",
       "    <tr>\n",
       "      <th>523</th>\n",
       "      <td>2024-06-11</td>\n",
       "      <td>Venezuela Superliga</td>\n",
       "      <td>21:00</td>\n",
       "      <td>Broncos</td>\n",
       "      <td>Trotamundos</td>\n",
       "      <td>1.83</td>\n",
       "      <td>1.89</td>\n",
       "      <td>156.5</td>\n",
       "      <td>1.85</td>\n",
       "      <td>1.85</td>\n",
       "      <td>-1.5</td>\n",
       "      <td>1.94</td>\n",
       "      <td>2.07</td>\n",
       "      <td>AuuJ9MzG</td>\n",
       "      <td>0.546448</td>\n",
       "      <td>0.529101</td>\n",
       "      <td>0.540541</td>\n",
       "      <td>0.540541</td>\n",
       "      <td>0.075549</td>\n",
       "      <td>0.0</td>\n",
       "      <td>0.0</td>\n",
       "      <td>NaN</td>\n",
       "      <td>NaN</td>\n",
       "      <td>NaN</td>\n",
       "      <td>NaN</td>\n",
       "      <td>NaN</td>\n",
       "      <td>NaN</td>\n",
       "      <td>NaN</td>\n",
       "      <td>NaN</td>\n",
       "      <td>0.0</td>\n",
       "      <td>0.0</td>\n",
       "      <td>0.00</td>\n",
       "      <td>107.73</td>\n",
       "      <td>0.0</td>\n",
       "      <td>0.0</td>\n",
       "      <td>0.0</td>\n",
       "      <td>0.0</td>\n",
       "      <td>0.022810</td>\n",
       "      <td>0.0</td>\n",
       "      <td>0.045847</td>\n",
       "      <td>0.0</td>\n",
       "      <td>0.0</td>\n",
       "      <td>inf</td>\n",
       "      <td>0.0</td>\n",
       "      <td>0.0</td>\n",
       "      <td>0.0</td>\n",
       "      <td>0.0</td>\n",
       "      <td>0.0</td>\n",
       "      <td>inf</td>\n",
       "      <td>0.0</td>\n",
       "      <td>0.0</td>\n",
       "      <td>0.0</td>\n",
       "    </tr>\n",
       "  </tbody>\n",
       "</table>\n",
       "</div>"
      ],
      "text/plain": [
       "           Date               League   Time       Home              Away  \\\n",
       "522  2024-06-11  Venezuela Superliga  20:00  Centauros  Heroes de Falcon   \n",
       "523  2024-06-11  Venezuela Superliga  21:00    Broncos       Trotamundos   \n",
       "\n",
       "     Odds_H  Odds_A  Over_Line  Odds_Over  Odds_Under  HA_Line  HA_Odds_H  \\\n",
       "522    1.81    1.91      147.5       1.85        1.85     -1.5       1.92   \n",
       "523    1.83    1.89      156.5       1.85        1.85     -1.5       1.94   \n",
       "\n",
       "     HA_Odds_A Fixture ID      P(H)      P(A)      P(O)      P(U)    P_Diff  \\\n",
       "522       2.10   A3N50Ic2  0.552486  0.523560  0.540541  0.540541  0.076046   \n",
       "523       2.07   AuuJ9MzG  0.546448  0.529101  0.540541  0.540541  0.075549   \n",
       "\n",
       "     Porc_Over_Home  Porc_Over_Away  CustoGolHome  CustoGolAway  Avg_CG_H  \\\n",
       "522             0.0             0.0           NaN           NaN       NaN   \n",
       "523             0.0             0.0           NaN           NaN       NaN   \n",
       "\n",
       "     DP_CG_H  CV_CG_H  Avg_CG_A  DP_CG_A  CV_CG_A  MediaCustoGolHome  \\\n",
       "522      NaN      NaN       NaN      NaN      NaN                0.0   \n",
       "523      NaN      NaN       NaN      NaN      NaN                0.0   \n",
       "\n",
       "     MediaCustoGolAway  Last_CG_H  Last_CG_A  Acima_Last_CG_H  \\\n",
       "522                0.0     126.08       0.00              0.0   \n",
       "523                0.0       0.00     107.73              0.0   \n",
       "\n",
       "     Acima_Last_CG_A  Abaixo_Last_CG_H  Abaixo_Last_CG_A     CV_ML  CV_Over  \\\n",
       "522              0.0               0.0               0.0  0.038016      0.0   \n",
       "523              0.0               0.0               0.0  0.022810      0.0   \n",
       "\n",
       "        CV_HA  Retornos_BH_Acu  Avg_Retornos_BH  Custo_Retorno_BH  \\\n",
       "522  0.063323              0.0              0.0               inf   \n",
       "523  0.045847              0.0              0.0               inf   \n",
       "\n",
       "     Avg_Porc_BH_Bookie  Avg_Porc_BH_Real  Dist_Porc_BH  Retornos_BA_Acu  \\\n",
       "522                 0.0               0.0           0.0              0.0   \n",
       "523                 0.0               0.0           0.0              0.0   \n",
       "\n",
       "     Avg_Retornos_BA  Custo_Retorno_BA  Avg_Porc_BA_Bookie  Avg_Porc_BA_Real  \\\n",
       "522              0.0               inf                 0.0               0.0   \n",
       "523              0.0               inf                 0.0               0.0   \n",
       "\n",
       "     Dist_Porc_BA  \n",
       "522           0.0  \n",
       "523           0.0  "
      ]
     },
     "execution_count": 8,
     "metadata": {},
     "output_type": "execute_result"
    }
   ],
   "source": [
    "jogos = games[games['Date'] == data_var]\n",
    "\n",
    "jogos = jogos.drop(columns=['Home_Pts', 'Away_Pts',\n",
    "       'Back_Home', 'PL_Home', 'Back_Away',\n",
    "       'PL_Away', 'Back_Over', 'PL_Over', 'PL_Under', 'Back_HA_H', 'PL_HA_H',\n",
    "       'PL_HA_A', ])\n",
    "\n",
    "jogos"
   ]
  },
  {
   "attachments": {},
   "cell_type": "markdown",
   "id": "08aa1c88",
   "metadata": {
    "papermill": {
     "duration": 0.0025,
     "end_time": "2024-06-11T13:01:14.823161",
     "exception": false,
     "start_time": "2024-06-11T13:01:14.820661",
     "status": "completed"
    },
    "tags": []
   },
   "source": [
    "## Apostas do dia"
   ]
  },
  {
   "cell_type": "markdown",
   "id": "b24569b1",
   "metadata": {
    "papermill": {
     "duration": 0.002001,
     "end_time": "2024-06-11T13:01:14.826660",
     "exception": false,
     "start_time": "2024-06-11T13:01:14.824659",
     "status": "completed"
    },
    "tags": []
   },
   "source": [
    "### Over v0 (LDA)"
   ]
  },
  {
   "cell_type": "code",
   "execution_count": 9,
   "id": "6f144103",
   "metadata": {
    "execution": {
     "iopub.execute_input": "2024-06-11T13:01:14.831664Z",
     "iopub.status.busy": "2024-06-11T13:01:14.831163Z",
     "iopub.status.idle": "2024-06-11T13:01:15.002121Z",
     "shell.execute_reply": "2024-06-11T13:01:15.001610Z"
    },
    "papermill": {
     "duration": 0.174957,
     "end_time": "2024-06-11T13:01:15.003616",
     "exception": false,
     "start_time": "2024-06-11T13:01:14.828659",
     "status": "completed"
    },
    "tags": []
   },
   "outputs": [
    {
     "name": "stdout",
     "output_type": "stream",
     "text": [
      "------------ MÉTODO OVER V0 (LDA) ------------\n",
      "\n"
     ]
    },
    {
     "data": {
      "text/html": [
       "<div>\n",
       "<style scoped>\n",
       "    .dataframe tbody tr th:only-of-type {\n",
       "        vertical-align: middle;\n",
       "    }\n",
       "\n",
       "    .dataframe tbody tr th {\n",
       "        vertical-align: top;\n",
       "    }\n",
       "\n",
       "    .dataframe thead th {\n",
       "        text-align: right;\n",
       "    }\n",
       "</style>\n",
       "<table border=\"1\" class=\"dataframe\">\n",
       "  <thead>\n",
       "    <tr style=\"text-align: right;\">\n",
       "      <th></th>\n",
       "      <th>Time</th>\n",
       "      <th>League</th>\n",
       "      <th>Home</th>\n",
       "      <th>Away</th>\n",
       "      <th>Over_Line</th>\n",
       "      <th>Odds_Over</th>\n",
       "      <th>prediction_score</th>\n",
       "      <th>Bet</th>\n",
       "    </tr>\n",
       "  </thead>\n",
       "  <tbody>\n",
       "    <tr>\n",
       "      <th>0</th>\n",
       "      <td>20:00</td>\n",
       "      <td>Venezuela Superliga</td>\n",
       "      <td>Centauros</td>\n",
       "      <td>Heroes de Falcon</td>\n",
       "      <td>147.5</td>\n",
       "      <td>1.85</td>\n",
       "      <td>1.0</td>\n",
       "      <td>Over</td>\n",
       "    </tr>\n",
       "    <tr>\n",
       "      <th>1</th>\n",
       "      <td>21:00</td>\n",
       "      <td>Venezuela Superliga</td>\n",
       "      <td>Broncos</td>\n",
       "      <td>Trotamundos</td>\n",
       "      <td>156.5</td>\n",
       "      <td>1.85</td>\n",
       "      <td>1.0</td>\n",
       "      <td>Over</td>\n",
       "    </tr>\n",
       "  </tbody>\n",
       "</table>\n",
       "</div>"
      ],
      "text/plain": [
       "    Time               League       Home              Away  Over_Line  \\\n",
       "0  20:00  Venezuela Superliga  Centauros  Heroes de Falcon      147.5   \n",
       "1  21:00  Venezuela Superliga    Broncos       Trotamundos      156.5   \n",
       "\n",
       "   Odds_Over  prediction_score   Bet  \n",
       "0       1.85               1.0  Over  \n",
       "1       1.85               1.0  Over  "
      ]
     },
     "metadata": {},
     "output_type": "display_data"
    },
    {
     "name": "stdout",
     "output_type": "stream",
     "text": [
      "\n"
     ]
    }
   ],
   "source": [
    "# Duplicando o dataset\n",
    "df_over_v0 = jogos.copy()\n",
    "\n",
    "df_over_v0.reset_index(drop=True, inplace=True)\n",
    "df_over_v0.replace([np.inf, -np.inf], 0, inplace=True)\n",
    "\n",
    "if not df_over_v0.empty:\n",
    "    mdl_over_v0 = load_model('ML/over/v1/v1_over', verbose=False)\n",
    "    prev = predict_model(mdl_over_v0, df_over_v0)\n",
    "    prev = prev[prev['prediction_label'] ==  1]\n",
    "    prev.reset_index(drop=True, inplace=True)\n",
    "    \n",
    "    # Filtros pós modelo\n",
    "\n",
    "    if not prev.empty:\n",
    "        prev.to_csv(f'apostas_do_dia/{data_var}/over_v0_{data_var}.csv', index=False)\n",
    "\n",
    "        print('------------ MÉTODO OVER V0 (LDA) ------------')\n",
    "        print()\n",
    "\n",
    "        prev['Bet'] = 'Over'\n",
    "        ligs = prev['League'].unique().tolist()\n",
    "\n",
    "        display(prev[['Time', 'League', 'Home', 'Away', 'Over_Line', 'Odds_Over', 'prediction_score', 'Bet']])\n",
    "        print()\n",
    "    else: print('Sem jogos')\n",
    "else: print('Sem jogos')"
   ]
  }
 ],
 "metadata": {
  "kernelspec": {
   "display_name": "modelos_futebol",
   "language": "python",
   "name": "python3"
  },
  "language_info": {
   "codemirror_mode": {
    "name": "ipython",
    "version": 3
   },
   "file_extension": ".py",
   "mimetype": "text/x-python",
   "name": "python",
   "nbconvert_exporter": "python",
   "pygments_lexer": "ipython3",
   "version": "3.10.7"
  },
  "papermill": {
   "default_parameters": {},
   "duration": 4.977741,
   "end_time": "2024-06-11T13:01:15.453422",
   "environment_variables": {},
   "exception": null,
   "input_path": "apostas_do_dia_v1.ipynb",
   "output_path": "apostas_do_dia_v1.ipynb",
   "parameters": {
    "data_var": "2024-06-11"
   },
   "start_time": "2024-06-11T13:01:10.475681",
   "version": "2.5.0"
  }
 },
 "nbformat": 4,
 "nbformat_minor": 5
}