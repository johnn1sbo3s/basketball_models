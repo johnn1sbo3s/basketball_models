{
 "cells": [
  {
   "cell_type": "code",
   "execution_count": 1,
   "id": "d690e842",
   "metadata": {
    "execution": {
     "iopub.execute_input": "2024-08-13T12:26:54.674688Z",
     "iopub.status.busy": "2024-08-13T12:26:54.674186Z",
     "iopub.status.idle": "2024-08-13T12:26:54.685716Z",
     "shell.execute_reply": "2024-08-13T12:26:54.685213Z"
    },
    "papermill": {
     "duration": 0.017525,
     "end_time": "2024-08-13T12:26:54.687212",
     "exception": false,
     "start_time": "2024-08-13T12:26:54.669687",
     "status": "completed"
    },
    "tags": [
     "parameters"
    ]
   },
   "outputs": [],
   "source": [
    "data_var = ''"
   ]
  },
  {
   "cell_type": "code",
   "execution_count": 2,
   "id": "c39da780",
   "metadata": {
    "execution": {
     "iopub.execute_input": "2024-08-13T12:26:54.692717Z",
     "iopub.status.busy": "2024-08-13T12:26:54.692213Z",
     "iopub.status.idle": "2024-08-13T12:26:54.701216Z",
     "shell.execute_reply": "2024-08-13T12:26:54.700713Z"
    },
    "papermill": {
     "duration": 0.014006,
     "end_time": "2024-08-13T12:26:54.703218",
     "exception": false,
     "start_time": "2024-08-13T12:26:54.689212",
     "status": "completed"
    },
    "tags": [
     "injected-parameters"
    ]
   },
   "outputs": [],
   "source": [
    "# Parameters\n",
    "data_var = \"2024-08-13\"\n"
   ]
  },
  {
   "cell_type": "code",
   "execution_count": 3,
   "id": "25b97174",
   "metadata": {
    "execution": {
     "iopub.execute_input": "2024-08-13T12:26:54.708717Z",
     "iopub.status.busy": "2024-08-13T12:26:54.708717Z",
     "iopub.status.idle": "2024-08-13T12:27:01.628782Z",
     "shell.execute_reply": "2024-08-13T12:27:01.628279Z"
    },
    "papermill": {
     "duration": 6.924566,
     "end_time": "2024-08-13T12:27:01.630279",
     "exception": false,
     "start_time": "2024-08-13T12:26:54.705713",
     "status": "completed"
    },
    "tags": []
   },
   "outputs": [],
   "source": [
    "import pandas as pd; pd.set_option('display.max_columns', None)\n",
    "import os\n",
    "from pycaret.classification import *\n",
    "from scripts.PreparaDataset import *\n",
    "from scripts.TeoriaRetornos import *"
   ]
  },
  {
   "attachments": {},
   "cell_type": "markdown",
   "id": "ffa9b361",
   "metadata": {
    "papermill": {
     "duration": 0.001997,
     "end_time": "2024-08-13T12:27:01.634779",
     "exception": false,
     "start_time": "2024-08-13T12:27:01.632782",
     "status": "completed"
    },
    "tags": []
   },
   "source": [
    "### Funções"
   ]
  },
  {
   "cell_type": "code",
   "execution_count": 4,
   "id": "cb6eea9b",
   "metadata": {
    "execution": {
     "iopub.execute_input": "2024-08-13T12:27:01.639782Z",
     "iopub.status.busy": "2024-08-13T12:27:01.639281Z",
     "iopub.status.idle": "2024-08-13T12:27:01.644282Z",
     "shell.execute_reply": "2024-08-13T12:27:01.643778Z"
    },
    "papermill": {
     "duration": 0.008999,
     "end_time": "2024-08-13T12:27:01.645780",
     "exception": false,
     "start_time": "2024-08-13T12:27:01.636781",
     "status": "completed"
    },
    "tags": []
   },
   "outputs": [],
   "source": [
    "def atualiza_dia(_jogos):\n",
    "    _jogos = prepara_df(_jogos)\n",
    "\n",
    "    _jogos = _jogos.reset_index(drop=True)\n",
    "\n",
    "    return _jogos"
   ]
  },
  {
   "attachments": {},
   "cell_type": "markdown",
   "id": "26b16874",
   "metadata": {
    "papermill": {
     "duration": 0.001502,
     "end_time": "2024-08-13T12:27:01.649281",
     "exception": false,
     "start_time": "2024-08-13T12:27:01.647779",
     "status": "completed"
    },
    "tags": []
   },
   "source": [
    "### Pegando os jogos do dia"
   ]
  },
  {
   "cell_type": "code",
   "execution_count": 5,
   "id": "5ddb2ecb",
   "metadata": {
    "execution": {
     "iopub.execute_input": "2024-08-13T12:27:01.653781Z",
     "iopub.status.busy": "2024-08-13T12:27:01.653781Z",
     "iopub.status.idle": "2024-08-13T12:27:01.675101Z",
     "shell.execute_reply": "2024-08-13T12:27:01.674600Z"
    },
    "papermill": {
     "duration": 0.025325,
     "end_time": "2024-08-13T12:27:01.676604",
     "exception": false,
     "start_time": "2024-08-13T12:27:01.651279",
     "status": "completed"
    },
    "tags": []
   },
   "outputs": [],
   "source": [
    "df_today = pd.read_csv(f'jogos_do_dia/{data_var}.csv')"
   ]
  },
  {
   "cell_type": "markdown",
   "id": "19a2214d",
   "metadata": {
    "papermill": {
     "duration": 0.00202,
     "end_time": "2024-08-13T12:27:01.681124",
     "exception": false,
     "start_time": "2024-08-13T12:27:01.679104",
     "status": "completed"
    },
    "tags": []
   },
   "source": [
    "### Atualizando os datasets que tem jogo hoje"
   ]
  },
  {
   "cell_type": "code",
   "execution_count": 6,
   "id": "68bd72ae",
   "metadata": {
    "execution": {
     "iopub.execute_input": "2024-08-13T12:27:01.686120Z",
     "iopub.status.busy": "2024-08-13T12:27:01.685622Z",
     "iopub.status.idle": "2024-08-13T12:27:01.752670Z",
     "shell.execute_reply": "2024-08-13T12:27:01.752172Z"
    },
    "papermill": {
     "duration": 0.071546,
     "end_time": "2024-08-13T12:27:01.754167",
     "exception": false,
     "start_time": "2024-08-13T12:27:01.682621",
     "status": "completed"
    },
    "tags": []
   },
   "outputs": [],
   "source": [
    "temporada = pd.read_csv('data/Entire_Season.csv')\n",
    "temporada = temporada[temporada['Date'] < data_var]\n",
    "temporada = pd.concat([temporada, df_today])\n",
    "ligas = df_today['League'].unique().tolist()\n",
    "temporada = temporada[temporada['League'].isin(ligas)]\n",
    "temporada.reset_index(drop=True, inplace=True)"
   ]
  },
  {
   "cell_type": "markdown",
   "id": "0d8018ca",
   "metadata": {
    "papermill": {
     "duration": 0.001998,
     "end_time": "2024-08-13T12:27:01.758669",
     "exception": false,
     "start_time": "2024-08-13T12:27:01.756671",
     "status": "completed"
    },
    "tags": []
   },
   "source": [
    "### Cria variáveis na temporada e nos jogos do dia"
   ]
  },
  {
   "cell_type": "code",
   "execution_count": 7,
   "id": "d3b06cb1",
   "metadata": {
    "execution": {
     "iopub.execute_input": "2024-08-13T12:27:01.764172Z",
     "iopub.status.busy": "2024-08-13T12:27:01.763669Z",
     "iopub.status.idle": "2024-08-13T12:27:01.830776Z",
     "shell.execute_reply": "2024-08-13T12:27:01.829775Z"
    },
    "papermill": {
     "duration": 0.071604,
     "end_time": "2024-08-13T12:27:01.832276",
     "exception": false,
     "start_time": "2024-08-13T12:27:01.760672",
     "status": "completed"
    },
    "tags": []
   },
   "outputs": [],
   "source": [
    "games = atualiza_dia(temporada)\n",
    "temporada = games[games['Date'] < data_var]\n",
    "os.makedirs(f'apostas_do_dia/{data_var}', exist_ok=True)"
   ]
  },
  {
   "cell_type": "code",
   "execution_count": 8,
   "id": "16aa533f",
   "metadata": {
    "execution": {
     "iopub.execute_input": "2024-08-13T12:27:01.837279Z",
     "iopub.status.busy": "2024-08-13T12:27:01.837279Z",
     "iopub.status.idle": "2024-08-13T12:27:01.861277Z",
     "shell.execute_reply": "2024-08-13T12:27:01.860776Z"
    },
    "papermill": {
     "duration": 0.028503,
     "end_time": "2024-08-13T12:27:01.862778",
     "exception": false,
     "start_time": "2024-08-13T12:27:01.834275",
     "status": "completed"
    },
    "tags": []
   },
   "outputs": [
    {
     "data": {
      "text/html": [
       "<div>\n",
       "<style scoped>\n",
       "    .dataframe tbody tr th:only-of-type {\n",
       "        vertical-align: middle;\n",
       "    }\n",
       "\n",
       "    .dataframe tbody tr th {\n",
       "        vertical-align: top;\n",
       "    }\n",
       "\n",
       "    .dataframe thead th {\n",
       "        text-align: right;\n",
       "    }\n",
       "</style>\n",
       "<table border=\"1\" class=\"dataframe\">\n",
       "  <thead>\n",
       "    <tr style=\"text-align: right;\">\n",
       "      <th></th>\n",
       "      <th>Date</th>\n",
       "      <th>League</th>\n",
       "      <th>Time</th>\n",
       "      <th>Home</th>\n",
       "      <th>Away</th>\n",
       "      <th>Odds_H</th>\n",
       "      <th>Odds_A</th>\n",
       "      <th>Over_Line</th>\n",
       "      <th>Odds_Over</th>\n",
       "      <th>Odds_Under</th>\n",
       "      <th>HA_Line</th>\n",
       "      <th>HA_Odds_H</th>\n",
       "      <th>HA_Odds_A</th>\n",
       "      <th>Fixture ID</th>\n",
       "      <th>P(H)</th>\n",
       "      <th>P(A)</th>\n",
       "      <th>P(O)</th>\n",
       "      <th>P(U)</th>\n",
       "      <th>P_Diff</th>\n",
       "      <th>Porc_Over_Home</th>\n",
       "      <th>Porc_Over_Away</th>\n",
       "      <th>CustoGolHome</th>\n",
       "      <th>CustoGolAway</th>\n",
       "      <th>Avg_CG_H</th>\n",
       "      <th>DP_CG_H</th>\n",
       "      <th>CV_CG_H</th>\n",
       "      <th>Avg_CG_A</th>\n",
       "      <th>DP_CG_A</th>\n",
       "      <th>CV_CG_A</th>\n",
       "      <th>MediaCustoGolHome</th>\n",
       "      <th>MediaCustoGolAway</th>\n",
       "      <th>Last_CG_H</th>\n",
       "      <th>Last_CG_A</th>\n",
       "      <th>Acima_Last_CG_H</th>\n",
       "      <th>Acima_Last_CG_A</th>\n",
       "      <th>Abaixo_Last_CG_H</th>\n",
       "      <th>Abaixo_Last_CG_A</th>\n",
       "      <th>CV_ML</th>\n",
       "      <th>CV_Over</th>\n",
       "      <th>CV_HA</th>\n",
       "      <th>Retornos_BH_Acu</th>\n",
       "      <th>Avg_Retornos_BH</th>\n",
       "      <th>Custo_Retorno_BH</th>\n",
       "      <th>Avg_Porc_BH_Bookie</th>\n",
       "      <th>Avg_Porc_BH_Real</th>\n",
       "      <th>Dist_Porc_BH</th>\n",
       "      <th>Retornos_BA_Acu</th>\n",
       "      <th>Avg_Retornos_BA</th>\n",
       "      <th>Custo_Retorno_BA</th>\n",
       "      <th>Avg_Porc_BA_Bookie</th>\n",
       "      <th>Avg_Porc_BA_Real</th>\n",
       "      <th>Dist_Porc_BA</th>\n",
       "    </tr>\n",
       "  </thead>\n",
       "  <tbody>\n",
       "  </tbody>\n",
       "</table>\n",
       "</div>"
      ],
      "text/plain": [
       "Empty DataFrame\n",
       "Columns: [Date, League, Time, Home, Away, Odds_H, Odds_A, Over_Line, Odds_Over, Odds_Under, HA_Line, HA_Odds_H, HA_Odds_A, Fixture ID, P(H), P(A), P(O), P(U), P_Diff, Porc_Over_Home, Porc_Over_Away, CustoGolHome, CustoGolAway, Avg_CG_H, DP_CG_H, CV_CG_H, Avg_CG_A, DP_CG_A, CV_CG_A, MediaCustoGolHome, MediaCustoGolAway, Last_CG_H, Last_CG_A, Acima_Last_CG_H, Acima_Last_CG_A, Abaixo_Last_CG_H, Abaixo_Last_CG_A, CV_ML, CV_Over, CV_HA, Retornos_BH_Acu, Avg_Retornos_BH, Custo_Retorno_BH, Avg_Porc_BH_Bookie, Avg_Porc_BH_Real, Dist_Porc_BH, Retornos_BA_Acu, Avg_Retornos_BA, Custo_Retorno_BA, Avg_Porc_BA_Bookie, Avg_Porc_BA_Real, Dist_Porc_BA]\n",
       "Index: []"
      ]
     },
     "execution_count": 8,
     "metadata": {},
     "output_type": "execute_result"
    }
   ],
   "source": [
    "jogos = games[games['Date'] == data_var]\n",
    "\n",
    "jogos = jogos.drop(columns=['Home_Pts', 'Away_Pts',\n",
    "       'Back_Home', 'PL_Home', 'Back_Away',\n",
    "       'PL_Away', 'Back_Over', 'PL_Over', 'PL_Under', 'Back_HA_H', 'PL_HA_H',\n",
    "       'PL_HA_A', ])\n",
    "\n",
    "jogos"
   ]
  },
  {
   "attachments": {},
   "cell_type": "markdown",
   "id": "08aa1c88",
   "metadata": {
    "papermill": {
     "duration": 0.001998,
     "end_time": "2024-08-13T12:27:01.867782",
     "exception": false,
     "start_time": "2024-08-13T12:27:01.865784",
     "status": "completed"
    },
    "tags": []
   },
   "source": [
    "## Apostas do dia"
   ]
  },
  {
   "cell_type": "markdown",
   "id": "b24569b1",
   "metadata": {
    "papermill": {
     "duration": 0.002004,
     "end_time": "2024-08-13T12:27:01.871786",
     "exception": false,
     "start_time": "2024-08-13T12:27:01.869782",
     "status": "completed"
    },
    "tags": []
   },
   "source": [
    "### Over v0 (LDA)"
   ]
  },
  {
   "cell_type": "code",
   "execution_count": 9,
   "id": "6f144103",
   "metadata": {
    "execution": {
     "iopub.execute_input": "2024-08-13T12:27:01.877283Z",
     "iopub.status.busy": "2024-08-13T12:27:01.876787Z",
     "iopub.status.idle": "2024-08-13T12:27:01.892394Z",
     "shell.execute_reply": "2024-08-13T12:27:01.891892Z"
    },
    "papermill": {
     "duration": 0.020111,
     "end_time": "2024-08-13T12:27:01.893894",
     "exception": false,
     "start_time": "2024-08-13T12:27:01.873783",
     "status": "completed"
    },
    "tags": []
   },
   "outputs": [
    {
     "name": "stdout",
     "output_type": "stream",
     "text": [
      "Sem jogos\n"
     ]
    }
   ],
   "source": [
    "# Duplicando o dataset\n",
    "df_over_v0 = jogos.copy()\n",
    "\n",
    "df_over_v0.reset_index(drop=True, inplace=True)\n",
    "df_over_v0.replace([np.inf, -np.inf], 0, inplace=True)\n",
    "\n",
    "if not df_over_v0.empty:\n",
    "    mdl_over_v0 = load_model('ML/over/v1/v1_over', verbose=False)\n",
    "    prev = predict_model(mdl_over_v0, df_over_v0)\n",
    "    prev = prev[prev['prediction_label'] ==  1]\n",
    "    prev.reset_index(drop=True, inplace=True)\n",
    "    \n",
    "    # Filtros pós modelo\n",
    "\n",
    "    if not prev.empty:\n",
    "        prev.to_csv(f'apostas_do_dia/{data_var}/over_v0_{data_var}.csv', index=False)\n",
    "\n",
    "        print('------------ MÉTODO OVER V0 (LDA) ------------')\n",
    "        print()\n",
    "\n",
    "        prev['Bet'] = 'Over'\n",
    "        ligs = prev['League'].unique().tolist()\n",
    "\n",
    "        display(prev[['Time', 'League', 'Home', 'Away', 'Over_Line', 'Odds_Over', 'prediction_score', 'Bet']])\n",
    "        print()\n",
    "    else: print('Sem jogos')\n",
    "else: print('Sem jogos')"
   ]
  }
 ],
 "metadata": {
  "kernelspec": {
   "display_name": "modelos_futebol",
   "language": "python",
   "name": "python3"
  },
  "language_info": {
   "codemirror_mode": {
    "name": "ipython",
    "version": 3
   },
   "file_extension": ".py",
   "mimetype": "text/x-python",
   "name": "python",
   "nbconvert_exporter": "python",
   "pygments_lexer": "ipython3",
   "version": "3.10.7"
  },
  "papermill": {
   "default_parameters": {},
   "duration": 8.968127,
   "end_time": "2024-08-13T12:27:02.357135",
   "environment_variables": {},
   "exception": null,
   "input_path": "apostas_do_dia_v1.ipynb",
   "output_path": "apostas_do_dia_v1.ipynb",
   "parameters": {
    "data_var": "2024-08-13"
   },
   "start_time": "2024-08-13T12:26:53.389008",
   "version": "2.5.0"
  }
 },
 "nbformat": 4,
 "nbformat_minor": 5
}