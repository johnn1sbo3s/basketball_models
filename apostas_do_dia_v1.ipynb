{
 "cells": [
  {
   "cell_type": "code",
   "execution_count": 1,
   "id": "d690e842",
   "metadata": {
    "execution": {
     "iopub.execute_input": "2024-07-28T14:36:28.460811Z",
     "iopub.status.busy": "2024-07-28T14:36:28.460311Z",
     "iopub.status.idle": "2024-07-28T14:36:28.473315Z",
     "shell.execute_reply": "2024-07-28T14:36:28.472810Z"
    },
    "papermill": {
     "duration": 0.017499,
     "end_time": "2024-07-28T14:36:28.474813",
     "exception": false,
     "start_time": "2024-07-28T14:36:28.457314",
     "status": "completed"
    },
    "tags": [
     "parameters"
    ]
   },
   "outputs": [],
   "source": [
    "data_var = ''"
   ]
  },
  {
   "cell_type": "code",
   "execution_count": 2,
   "id": "46395e2e",
   "metadata": {
    "execution": {
     "iopub.execute_input": "2024-07-28T14:36:28.481815Z",
     "iopub.status.busy": "2024-07-28T14:36:28.481815Z",
     "iopub.status.idle": "2024-07-28T14:36:28.488811Z",
     "shell.execute_reply": "2024-07-28T14:36:28.488314Z"
    },
    "papermill": {
     "duration": 0.0135,
     "end_time": "2024-07-28T14:36:28.490314",
     "exception": false,
     "start_time": "2024-07-28T14:36:28.476814",
     "status": "completed"
    },
    "tags": [
     "injected-parameters"
    ]
   },
   "outputs": [],
   "source": [
    "# Parameters\n",
    "data_var = \"2024-07-28\"\n"
   ]
  },
  {
   "cell_type": "code",
   "execution_count": 3,
   "id": "25b97174",
   "metadata": {
    "execution": {
     "iopub.execute_input": "2024-07-28T14:36:28.494812Z",
     "iopub.status.busy": "2024-07-28T14:36:28.494812Z",
     "iopub.status.idle": "2024-07-28T14:36:34.664265Z",
     "shell.execute_reply": "2024-07-28T14:36:34.663764Z"
    },
    "papermill": {
     "duration": 6.172956,
     "end_time": "2024-07-28T14:36:34.665266",
     "exception": false,
     "start_time": "2024-07-28T14:36:28.492310",
     "status": "completed"
    },
    "tags": []
   },
   "outputs": [],
   "source": [
    "import pandas as pd; pd.set_option('display.max_columns', None)\n",
    "import os\n",
    "from pycaret.classification import *\n",
    "from scripts.PreparaDataset import *\n",
    "from scripts.TeoriaRetornos import *"
   ]
  },
  {
   "attachments": {},
   "cell_type": "markdown",
   "id": "ffa9b361",
   "metadata": {
    "papermill": {
     "duration": 0.002001,
     "end_time": "2024-07-28T14:36:34.669766",
     "exception": false,
     "start_time": "2024-07-28T14:36:34.667765",
     "status": "completed"
    },
    "tags": []
   },
   "source": [
    "### Funções"
   ]
  },
  {
   "cell_type": "code",
   "execution_count": 4,
   "id": "cb6eea9b",
   "metadata": {
    "execution": {
     "iopub.execute_input": "2024-07-28T14:36:34.674266Z",
     "iopub.status.busy": "2024-07-28T14:36:34.673767Z",
     "iopub.status.idle": "2024-07-28T14:36:34.679712Z",
     "shell.execute_reply": "2024-07-28T14:36:34.679211Z"
    },
    "papermill": {
     "duration": 0.009946,
     "end_time": "2024-07-28T14:36:34.681210",
     "exception": false,
     "start_time": "2024-07-28T14:36:34.671264",
     "status": "completed"
    },
    "tags": []
   },
   "outputs": [],
   "source": [
    "def atualiza_dia(_jogos):\n",
    "    _jogos = prepara_df(_jogos)\n",
    "\n",
    "    _jogos = _jogos.reset_index(drop=True)\n",
    "\n",
    "    return _jogos"
   ]
  },
  {
   "attachments": {},
   "cell_type": "markdown",
   "id": "26b16874",
   "metadata": {
    "papermill": {
     "duration": 0.002,
     "end_time": "2024-07-28T14:36:34.685210",
     "exception": false,
     "start_time": "2024-07-28T14:36:34.683210",
     "status": "completed"
    },
    "tags": []
   },
   "source": [
    "### Pegando os jogos do dia"
   ]
  },
  {
   "cell_type": "code",
   "execution_count": 5,
   "id": "5ddb2ecb",
   "metadata": {
    "execution": {
     "iopub.execute_input": "2024-07-28T14:36:34.690211Z",
     "iopub.status.busy": "2024-07-28T14:36:34.689712Z",
     "iopub.status.idle": "2024-07-28T14:36:34.710713Z",
     "shell.execute_reply": "2024-07-28T14:36:34.710212Z"
    },
    "papermill": {
     "duration": 0.025004,
     "end_time": "2024-07-28T14:36:34.712213",
     "exception": false,
     "start_time": "2024-07-28T14:36:34.687209",
     "status": "completed"
    },
    "tags": []
   },
   "outputs": [],
   "source": [
    "df_today = pd.read_csv(f'jogos_do_dia/{data_var}.csv')"
   ]
  },
  {
   "cell_type": "markdown",
   "id": "19a2214d",
   "metadata": {
    "papermill": {
     "duration": 0.001498,
     "end_time": "2024-07-28T14:36:34.716210",
     "exception": false,
     "start_time": "2024-07-28T14:36:34.714712",
     "status": "completed"
    },
    "tags": []
   },
   "source": [
    "### Atualizando os datasets que tem jogo hoje"
   ]
  },
  {
   "cell_type": "code",
   "execution_count": 6,
   "id": "68bd72ae",
   "metadata": {
    "execution": {
     "iopub.execute_input": "2024-07-28T14:36:34.720714Z",
     "iopub.status.busy": "2024-07-28T14:36:34.720714Z",
     "iopub.status.idle": "2024-07-28T14:36:34.788730Z",
     "shell.execute_reply": "2024-07-28T14:36:34.787727Z"
    },
    "papermill": {
     "duration": 0.071517,
     "end_time": "2024-07-28T14:36:34.789728",
     "exception": false,
     "start_time": "2024-07-28T14:36:34.718211",
     "status": "completed"
    },
    "tags": []
   },
   "outputs": [],
   "source": [
    "temporada = pd.read_csv('data/Entire_Season.csv')\n",
    "temporada = temporada[temporada['Date'] < data_var]\n",
    "temporada = pd.concat([temporada, df_today])\n",
    "ligas = df_today['League'].unique().tolist()\n",
    "temporada = temporada[temporada['League'].isin(ligas)]\n",
    "temporada.reset_index(drop=True, inplace=True)"
   ]
  },
  {
   "cell_type": "markdown",
   "id": "0d8018ca",
   "metadata": {
    "papermill": {
     "duration": 0.004499,
     "end_time": "2024-07-28T14:36:34.797227",
     "exception": false,
     "start_time": "2024-07-28T14:36:34.792728",
     "status": "completed"
    },
    "tags": []
   },
   "source": [
    "### Cria variáveis na temporada e nos jogos do dia"
   ]
  },
  {
   "cell_type": "code",
   "execution_count": 7,
   "id": "d3b06cb1",
   "metadata": {
    "execution": {
     "iopub.execute_input": "2024-07-28T14:36:34.804411Z",
     "iopub.status.busy": "2024-07-28T14:36:34.803729Z",
     "iopub.status.idle": "2024-07-28T14:36:34.958729Z",
     "shell.execute_reply": "2024-07-28T14:36:34.958227Z"
    },
    "papermill": {
     "duration": 0.159499,
     "end_time": "2024-07-28T14:36:34.960228",
     "exception": false,
     "start_time": "2024-07-28T14:36:34.800729",
     "status": "completed"
    },
    "tags": []
   },
   "outputs": [],
   "source": [
    "games = atualiza_dia(temporada)\n",
    "temporada = games[games['Date'] < data_var]\n",
    "os.makedirs(f'apostas_do_dia/{data_var}', exist_ok=True)"
   ]
  },
  {
   "cell_type": "code",
   "execution_count": 8,
   "id": "16aa533f",
   "metadata": {
    "execution": {
     "iopub.execute_input": "2024-07-28T14:36:34.965227Z",
     "iopub.status.busy": "2024-07-28T14:36:34.965227Z",
     "iopub.status.idle": "2024-07-28T14:36:34.989732Z",
     "shell.execute_reply": "2024-07-28T14:36:34.989230Z"
    },
    "papermill": {
     "duration": 0.029003,
     "end_time": "2024-07-28T14:36:34.991230",
     "exception": false,
     "start_time": "2024-07-28T14:36:34.962227",
     "status": "completed"
    },
    "tags": []
   },
   "outputs": [
    {
     "data": {
      "text/html": [
       "<div>\n",
       "<style scoped>\n",
       "    .dataframe tbody tr th:only-of-type {\n",
       "        vertical-align: middle;\n",
       "    }\n",
       "\n",
       "    .dataframe tbody tr th {\n",
       "        vertical-align: top;\n",
       "    }\n",
       "\n",
       "    .dataframe thead th {\n",
       "        text-align: right;\n",
       "    }\n",
       "</style>\n",
       "<table border=\"1\" class=\"dataframe\">\n",
       "  <thead>\n",
       "    <tr style=\"text-align: right;\">\n",
       "      <th></th>\n",
       "      <th>Date</th>\n",
       "      <th>League</th>\n",
       "      <th>Time</th>\n",
       "      <th>Home</th>\n",
       "      <th>Away</th>\n",
       "      <th>Odds_H</th>\n",
       "      <th>Odds_A</th>\n",
       "      <th>Over_Line</th>\n",
       "      <th>Odds_Over</th>\n",
       "      <th>Odds_Under</th>\n",
       "      <th>HA_Line</th>\n",
       "      <th>HA_Odds_H</th>\n",
       "      <th>HA_Odds_A</th>\n",
       "      <th>Fixture ID</th>\n",
       "      <th>P(H)</th>\n",
       "      <th>P(A)</th>\n",
       "      <th>P(O)</th>\n",
       "      <th>P(U)</th>\n",
       "      <th>P_Diff</th>\n",
       "      <th>Porc_Over_Home</th>\n",
       "      <th>Porc_Over_Away</th>\n",
       "      <th>CustoGolHome</th>\n",
       "      <th>CustoGolAway</th>\n",
       "      <th>Avg_CG_H</th>\n",
       "      <th>DP_CG_H</th>\n",
       "      <th>CV_CG_H</th>\n",
       "      <th>Avg_CG_A</th>\n",
       "      <th>DP_CG_A</th>\n",
       "      <th>CV_CG_A</th>\n",
       "      <th>MediaCustoGolHome</th>\n",
       "      <th>MediaCustoGolAway</th>\n",
       "      <th>Last_CG_H</th>\n",
       "      <th>Last_CG_A</th>\n",
       "      <th>Acima_Last_CG_H</th>\n",
       "      <th>Acima_Last_CG_A</th>\n",
       "      <th>Abaixo_Last_CG_H</th>\n",
       "      <th>Abaixo_Last_CG_A</th>\n",
       "      <th>CV_ML</th>\n",
       "      <th>CV_Over</th>\n",
       "      <th>CV_HA</th>\n",
       "      <th>Retornos_BH_Acu</th>\n",
       "      <th>Avg_Retornos_BH</th>\n",
       "      <th>Custo_Retorno_BH</th>\n",
       "      <th>Avg_Porc_BH_Bookie</th>\n",
       "      <th>Avg_Porc_BH_Real</th>\n",
       "      <th>Dist_Porc_BH</th>\n",
       "      <th>Retornos_BA_Acu</th>\n",
       "      <th>Avg_Retornos_BA</th>\n",
       "      <th>Custo_Retorno_BA</th>\n",
       "      <th>Avg_Porc_BA_Bookie</th>\n",
       "      <th>Avg_Porc_BA_Real</th>\n",
       "      <th>Dist_Porc_BA</th>\n",
       "    </tr>\n",
       "  </thead>\n",
       "  <tbody>\n",
       "    <tr>\n",
       "      <th>65</th>\n",
       "      <td>2024-07-28</td>\n",
       "      <td>Mundo Jogos Olímpicos</td>\n",
       "      <td>06:00</td>\n",
       "      <td>Sudão do Sul</td>\n",
       "      <td>Porto Rico</td>\n",
       "      <td>1.82</td>\n",
       "      <td>2.03</td>\n",
       "      <td>170.5</td>\n",
       "      <td>1.86</td>\n",
       "      <td>1.92</td>\n",
       "      <td>-2.5</td>\n",
       "      <td>2.0</td>\n",
       "      <td>2.27</td>\n",
       "      <td>6Vn5P4hA</td>\n",
       "      <td>0.549451</td>\n",
       "      <td>0.492611</td>\n",
       "      <td>0.537634</td>\n",
       "      <td>0.520833</td>\n",
       "      <td>0.042061</td>\n",
       "      <td>0.0</td>\n",
       "      <td>0.0</td>\n",
       "      <td>NaN</td>\n",
       "      <td>NaN</td>\n",
       "      <td>NaN</td>\n",
       "      <td>NaN</td>\n",
       "      <td>NaN</td>\n",
       "      <td>NaN</td>\n",
       "      <td>NaN</td>\n",
       "      <td>NaN</td>\n",
       "      <td>0.0</td>\n",
       "      <td>0.0</td>\n",
       "      <td>0.0</td>\n",
       "      <td>0.0</td>\n",
       "      <td>0.0</td>\n",
       "      <td>0.0</td>\n",
       "      <td>0.0</td>\n",
       "      <td>0.0</td>\n",
       "      <td>0.077139</td>\n",
       "      <td>0.022448</td>\n",
       "      <td>0.089423</td>\n",
       "      <td>0.0</td>\n",
       "      <td>0.0</td>\n",
       "      <td>inf</td>\n",
       "      <td>0.0</td>\n",
       "      <td>0.0</td>\n",
       "      <td>0.0</td>\n",
       "      <td>0.0</td>\n",
       "      <td>0.0</td>\n",
       "      <td>inf</td>\n",
       "      <td>0.0</td>\n",
       "      <td>0.0</td>\n",
       "      <td>0.0</td>\n",
       "    </tr>\n",
       "  </tbody>\n",
       "</table>\n",
       "</div>"
      ],
      "text/plain": [
       "          Date                 League   Time          Home        Away  \\\n",
       "65  2024-07-28  Mundo Jogos Olímpicos  06:00  Sudão do Sul  Porto Rico   \n",
       "\n",
       "    Odds_H  Odds_A  Over_Line  Odds_Over  Odds_Under  HA_Line  HA_Odds_H  \\\n",
       "65    1.82    2.03      170.5       1.86        1.92     -2.5        2.0   \n",
       "\n",
       "    HA_Odds_A Fixture ID      P(H)      P(A)      P(O)      P(U)    P_Diff  \\\n",
       "65       2.27   6Vn5P4hA  0.549451  0.492611  0.537634  0.520833  0.042061   \n",
       "\n",
       "    Porc_Over_Home  Porc_Over_Away  CustoGolHome  CustoGolAway  Avg_CG_H  \\\n",
       "65             0.0             0.0           NaN           NaN       NaN   \n",
       "\n",
       "    DP_CG_H  CV_CG_H  Avg_CG_A  DP_CG_A  CV_CG_A  MediaCustoGolHome  \\\n",
       "65      NaN      NaN       NaN      NaN      NaN                0.0   \n",
       "\n",
       "    MediaCustoGolAway  Last_CG_H  Last_CG_A  Acima_Last_CG_H  Acima_Last_CG_A  \\\n",
       "65                0.0        0.0        0.0              0.0              0.0   \n",
       "\n",
       "    Abaixo_Last_CG_H  Abaixo_Last_CG_A     CV_ML   CV_Over     CV_HA  \\\n",
       "65               0.0               0.0  0.077139  0.022448  0.089423   \n",
       "\n",
       "    Retornos_BH_Acu  Avg_Retornos_BH  Custo_Retorno_BH  Avg_Porc_BH_Bookie  \\\n",
       "65              0.0              0.0               inf                 0.0   \n",
       "\n",
       "    Avg_Porc_BH_Real  Dist_Porc_BH  Retornos_BA_Acu  Avg_Retornos_BA  \\\n",
       "65               0.0           0.0              0.0              0.0   \n",
       "\n",
       "    Custo_Retorno_BA  Avg_Porc_BA_Bookie  Avg_Porc_BA_Real  Dist_Porc_BA  \n",
       "65               inf                 0.0               0.0           0.0  "
      ]
     },
     "execution_count": 8,
     "metadata": {},
     "output_type": "execute_result"
    }
   ],
   "source": [
    "jogos = games[games['Date'] == data_var]\n",
    "\n",
    "jogos = jogos.drop(columns=['Home_Pts', 'Away_Pts',\n",
    "       'Back_Home', 'PL_Home', 'Back_Away',\n",
    "       'PL_Away', 'Back_Over', 'PL_Over', 'PL_Under', 'Back_HA_H', 'PL_HA_H',\n",
    "       'PL_HA_A', ])\n",
    "\n",
    "jogos"
   ]
  },
  {
   "attachments": {},
   "cell_type": "markdown",
   "id": "08aa1c88",
   "metadata": {
    "papermill": {
     "duration": 0.0025,
     "end_time": "2024-07-28T14:36:34.996729",
     "exception": false,
     "start_time": "2024-07-28T14:36:34.994229",
     "status": "completed"
    },
    "tags": []
   },
   "source": [
    "## Apostas do dia"
   ]
  },
  {
   "cell_type": "markdown",
   "id": "b24569b1",
   "metadata": {
    "papermill": {
     "duration": 0.003001,
     "end_time": "2024-07-28T14:36:35.002730",
     "exception": false,
     "start_time": "2024-07-28T14:36:34.999729",
     "status": "completed"
    },
    "tags": []
   },
   "source": [
    "### Over v0 (LDA)"
   ]
  },
  {
   "cell_type": "code",
   "execution_count": 9,
   "id": "6f144103",
   "metadata": {
    "execution": {
     "iopub.execute_input": "2024-07-28T14:36:35.009731Z",
     "iopub.status.busy": "2024-07-28T14:36:35.009229Z",
     "iopub.status.idle": "2024-07-28T14:36:35.206635Z",
     "shell.execute_reply": "2024-07-28T14:36:35.206140Z"
    },
    "papermill": {
     "duration": 0.202906,
     "end_time": "2024-07-28T14:36:35.208134",
     "exception": false,
     "start_time": "2024-07-28T14:36:35.005228",
     "status": "completed"
    },
    "tags": []
   },
   "outputs": [
    {
     "name": "stdout",
     "output_type": "stream",
     "text": [
      "------------ MÉTODO OVER V0 (LDA) ------------\n",
      "\n"
     ]
    },
    {
     "data": {
      "text/html": [
       "<div>\n",
       "<style scoped>\n",
       "    .dataframe tbody tr th:only-of-type {\n",
       "        vertical-align: middle;\n",
       "    }\n",
       "\n",
       "    .dataframe tbody tr th {\n",
       "        vertical-align: top;\n",
       "    }\n",
       "\n",
       "    .dataframe thead th {\n",
       "        text-align: right;\n",
       "    }\n",
       "</style>\n",
       "<table border=\"1\" class=\"dataframe\">\n",
       "  <thead>\n",
       "    <tr style=\"text-align: right;\">\n",
       "      <th></th>\n",
       "      <th>Time</th>\n",
       "      <th>League</th>\n",
       "      <th>Home</th>\n",
       "      <th>Away</th>\n",
       "      <th>Over_Line</th>\n",
       "      <th>Odds_Over</th>\n",
       "      <th>prediction_score</th>\n",
       "      <th>Bet</th>\n",
       "    </tr>\n",
       "  </thead>\n",
       "  <tbody>\n",
       "    <tr>\n",
       "      <th>0</th>\n",
       "      <td>06:00</td>\n",
       "      <td>Mundo Jogos Olímpicos</td>\n",
       "      <td>Sudão do Sul</td>\n",
       "      <td>Porto Rico</td>\n",
       "      <td>170.5</td>\n",
       "      <td>1.86</td>\n",
       "      <td>1.0</td>\n",
       "      <td>Over</td>\n",
       "    </tr>\n",
       "  </tbody>\n",
       "</table>\n",
       "</div>"
      ],
      "text/plain": [
       "    Time                 League          Home        Away  Over_Line  \\\n",
       "0  06:00  Mundo Jogos Olímpicos  Sudão do Sul  Porto Rico      170.5   \n",
       "\n",
       "   Odds_Over  prediction_score   Bet  \n",
       "0       1.86               1.0  Over  "
      ]
     },
     "metadata": {},
     "output_type": "display_data"
    },
    {
     "name": "stdout",
     "output_type": "stream",
     "text": [
      "\n"
     ]
    }
   ],
   "source": [
    "# Duplicando o dataset\n",
    "df_over_v0 = jogos.copy()\n",
    "\n",
    "df_over_v0.reset_index(drop=True, inplace=True)\n",
    "df_over_v0.replace([np.inf, -np.inf], 0, inplace=True)\n",
    "\n",
    "if not df_over_v0.empty:\n",
    "    mdl_over_v0 = load_model('ML/over/v1/v1_over', verbose=False)\n",
    "    prev = predict_model(mdl_over_v0, df_over_v0)\n",
    "    prev = prev[prev['prediction_label'] ==  1]\n",
    "    prev.reset_index(drop=True, inplace=True)\n",
    "    \n",
    "    # Filtros pós modelo\n",
    "\n",
    "    if not prev.empty:\n",
    "        prev.to_csv(f'apostas_do_dia/{data_var}/over_v0_{data_var}.csv', index=False)\n",
    "\n",
    "        print('------------ MÉTODO OVER V0 (LDA) ------------')\n",
    "        print()\n",
    "\n",
    "        prev['Bet'] = 'Over'\n",
    "        ligs = prev['League'].unique().tolist()\n",
    "\n",
    "        display(prev[['Time', 'League', 'Home', 'Away', 'Over_Line', 'Odds_Over', 'prediction_score', 'Bet']])\n",
    "        print()\n",
    "    else: print('Sem jogos')\n",
    "else: print('Sem jogos')"
   ]
  }
 ],
 "metadata": {
  "kernelspec": {
   "display_name": "modelos_futebol",
   "language": "python",
   "name": "python3"
  },
  "language_info": {
   "codemirror_mode": {
    "name": "ipython",
    "version": 3
   },
   "file_extension": ".py",
   "mimetype": "text/x-python",
   "name": "python",
   "nbconvert_exporter": "python",
   "pygments_lexer": "ipython3",
   "version": "3.10.7"
  },
  "papermill": {
   "default_parameters": {},
   "duration": 8.48391,
   "end_time": "2024-07-28T14:36:35.641233",
   "environment_variables": {},
   "exception": null,
   "input_path": "apostas_do_dia_v1.ipynb",
   "output_path": "apostas_do_dia_v1.ipynb",
   "parameters": {
    "data_var": "2024-07-28"
   },
   "start_time": "2024-07-28T14:36:27.157323",
   "version": "2.5.0"
  }
 },
 "nbformat": 4,
 "nbformat_minor": 5
}