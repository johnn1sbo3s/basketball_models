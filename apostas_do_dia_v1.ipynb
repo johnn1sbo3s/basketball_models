{
 "cells": [
  {
   "cell_type": "code",
   "execution_count": 1,
   "id": "d690e842",
   "metadata": {
    "execution": {
     "iopub.execute_input": "2024-06-04T13:01:21.564860Z",
     "iopub.status.busy": "2024-06-04T13:01:21.564860Z",
     "iopub.status.idle": "2024-06-04T13:01:21.576355Z",
     "shell.execute_reply": "2024-06-04T13:01:21.575833Z"
    },
    "papermill": {
     "duration": 0.017538,
     "end_time": "2024-06-04T13:01:21.577365",
     "exception": false,
     "start_time": "2024-06-04T13:01:21.559827",
     "status": "completed"
    },
    "tags": [
     "parameters"
    ]
   },
   "outputs": [],
   "source": [
    "data_var = ''"
   ]
  },
  {
   "cell_type": "code",
   "execution_count": 2,
   "id": "a740d50e",
   "metadata": {
    "execution": {
     "iopub.execute_input": "2024-06-04T13:01:21.582364Z",
     "iopub.status.busy": "2024-06-04T13:01:21.582364Z",
     "iopub.status.idle": "2024-06-04T13:01:21.591864Z",
     "shell.execute_reply": "2024-06-04T13:01:21.590862Z"
    },
    "papermill": {
     "duration": 0.013504,
     "end_time": "2024-06-04T13:01:21.592865",
     "exception": false,
     "start_time": "2024-06-04T13:01:21.579361",
     "status": "completed"
    },
    "tags": [
     "injected-parameters"
    ]
   },
   "outputs": [],
   "source": [
    "# Parameters\n",
    "data_var = \"2024-06-04\"\n"
   ]
  },
  {
   "cell_type": "code",
   "execution_count": 3,
   "id": "25b97174",
   "metadata": {
    "execution": {
     "iopub.execute_input": "2024-06-04T13:01:21.597365Z",
     "iopub.status.busy": "2024-06-04T13:01:21.597365Z",
     "iopub.status.idle": "2024-06-04T13:01:27.336906Z",
     "shell.execute_reply": "2024-06-04T13:01:27.336407Z"
    },
    "papermill": {
     "duration": 5.743542,
     "end_time": "2024-06-04T13:01:27.338403",
     "exception": false,
     "start_time": "2024-06-04T13:01:21.594861",
     "status": "completed"
    },
    "tags": []
   },
   "outputs": [],
   "source": [
    "import pandas as pd; pd.set_option('display.max_columns', None)\n",
    "import os\n",
    "from pycaret.classification import *\n",
    "from scripts.PreparaDataset import *\n",
    "from scripts.TeoriaRetornos import *"
   ]
  },
  {
   "attachments": {},
   "cell_type": "markdown",
   "id": "ffa9b361",
   "metadata": {
    "papermill": {
     "duration": 0.003,
     "end_time": "2024-06-04T13:01:27.344907",
     "exception": false,
     "start_time": "2024-06-04T13:01:27.341907",
     "status": "completed"
    },
    "tags": []
   },
   "source": [
    "### Funções"
   ]
  },
  {
   "cell_type": "code",
   "execution_count": 4,
   "id": "cb6eea9b",
   "metadata": {
    "execution": {
     "iopub.execute_input": "2024-06-04T13:01:27.349907Z",
     "iopub.status.busy": "2024-06-04T13:01:27.349907Z",
     "iopub.status.idle": "2024-06-04T13:01:27.368404Z",
     "shell.execute_reply": "2024-06-04T13:01:27.367406Z"
    },
    "papermill": {
     "duration": 0.022997,
     "end_time": "2024-06-04T13:01:27.369902",
     "exception": false,
     "start_time": "2024-06-04T13:01:27.346905",
     "status": "completed"
    },
    "tags": []
   },
   "outputs": [],
   "source": [
    "def atualiza_dia(_jogos):\n",
    "    _jogos = prepara_df(_jogos)\n",
    "\n",
    "    _jogos = _jogos.reset_index(drop=True)\n",
    "\n",
    "    return _jogos"
   ]
  },
  {
   "attachments": {},
   "cell_type": "markdown",
   "id": "26b16874",
   "metadata": {
    "papermill": {
     "duration": 0.002504,
     "end_time": "2024-06-04T13:01:27.374407",
     "exception": false,
     "start_time": "2024-06-04T13:01:27.371903",
     "status": "completed"
    },
    "tags": []
   },
   "source": [
    "### Pegando os jogos do dia"
   ]
  },
  {
   "cell_type": "code",
   "execution_count": 5,
   "id": "5ddb2ecb",
   "metadata": {
    "execution": {
     "iopub.execute_input": "2024-06-04T13:01:27.379407Z",
     "iopub.status.busy": "2024-06-04T13:01:27.379407Z",
     "iopub.status.idle": "2024-06-04T13:01:27.398907Z",
     "shell.execute_reply": "2024-06-04T13:01:27.398408Z"
    },
    "papermill": {
     "duration": 0.0245,
     "end_time": "2024-06-04T13:01:27.400407",
     "exception": false,
     "start_time": "2024-06-04T13:01:27.375907",
     "status": "completed"
    },
    "tags": []
   },
   "outputs": [],
   "source": [
    "df_today = pd.read_csv(f'jogos_do_dia/{data_var}.csv')"
   ]
  },
  {
   "cell_type": "markdown",
   "id": "19a2214d",
   "metadata": {
    "papermill": {
     "duration": 0.002001,
     "end_time": "2024-06-04T13:01:27.404407",
     "exception": false,
     "start_time": "2024-06-04T13:01:27.402406",
     "status": "completed"
    },
    "tags": []
   },
   "source": [
    "### Atualizando os datasets que tem jogo hoje"
   ]
  },
  {
   "cell_type": "code",
   "execution_count": 6,
   "id": "68bd72ae",
   "metadata": {
    "execution": {
     "iopub.execute_input": "2024-06-04T13:01:27.409406Z",
     "iopub.status.busy": "2024-06-04T13:01:27.409406Z",
     "iopub.status.idle": "2024-06-04T13:01:27.476405Z",
     "shell.execute_reply": "2024-06-04T13:01:27.475905Z"
    },
    "papermill": {
     "duration": 0.071497,
     "end_time": "2024-06-04T13:01:27.477904",
     "exception": false,
     "start_time": "2024-06-04T13:01:27.406407",
     "status": "completed"
    },
    "tags": []
   },
   "outputs": [],
   "source": [
    "temporada = pd.read_csv('data/Entire_Season.csv')\n",
    "temporada = temporada[temporada['Date'] < data_var]\n",
    "temporada = pd.concat([temporada, df_today])\n",
    "ligas = df_today['League'].unique().tolist()\n",
    "temporada = temporada[temporada['League'].isin(ligas)]\n",
    "temporada.reset_index(drop=True, inplace=True)"
   ]
  },
  {
   "cell_type": "markdown",
   "id": "0d8018ca",
   "metadata": {
    "papermill": {
     "duration": 0.001999,
     "end_time": "2024-06-04T13:01:27.482407",
     "exception": false,
     "start_time": "2024-06-04T13:01:27.480408",
     "status": "completed"
    },
    "tags": []
   },
   "source": [
    "### Cria variáveis na temporada e nos jogos do dia"
   ]
  },
  {
   "cell_type": "code",
   "execution_count": 7,
   "id": "d3b06cb1",
   "metadata": {
    "execution": {
     "iopub.execute_input": "2024-06-04T13:01:27.487404Z",
     "iopub.status.busy": "2024-06-04T13:01:27.486906Z",
     "iopub.status.idle": "2024-06-04T13:01:29.692883Z",
     "shell.execute_reply": "2024-06-04T13:01:29.691876Z"
    },
    "papermill": {
     "duration": 2.209973,
     "end_time": "2024-06-04T13:01:29.694381",
     "exception": false,
     "start_time": "2024-06-04T13:01:27.484408",
     "status": "completed"
    },
    "tags": []
   },
   "outputs": [],
   "source": [
    "games = atualiza_dia(temporada)\n",
    "temporada = games[games['Date'] < data_var]\n",
    "os.makedirs(f'apostas_do_dia/{data_var}', exist_ok=True)"
   ]
  },
  {
   "cell_type": "code",
   "execution_count": 8,
   "id": "16aa533f",
   "metadata": {
    "execution": {
     "iopub.execute_input": "2024-06-04T13:01:29.698881Z",
     "iopub.status.busy": "2024-06-04T13:01:29.698881Z",
     "iopub.status.idle": "2024-06-04T13:01:29.723037Z",
     "shell.execute_reply": "2024-06-04T13:01:29.722518Z"
    },
    "papermill": {
     "duration": 0.028152,
     "end_time": "2024-06-04T13:01:29.724533",
     "exception": false,
     "start_time": "2024-06-04T13:01:29.696381",
     "status": "completed"
    },
    "tags": []
   },
   "outputs": [
    {
     "data": {
      "text/html": [
       "<div>\n",
       "<style scoped>\n",
       "    .dataframe tbody tr th:only-of-type {\n",
       "        vertical-align: middle;\n",
       "    }\n",
       "\n",
       "    .dataframe tbody tr th {\n",
       "        vertical-align: top;\n",
       "    }\n",
       "\n",
       "    .dataframe thead th {\n",
       "        text-align: right;\n",
       "    }\n",
       "</style>\n",
       "<table border=\"1\" class=\"dataframe\">\n",
       "  <thead>\n",
       "    <tr style=\"text-align: right;\">\n",
       "      <th></th>\n",
       "      <th>Date</th>\n",
       "      <th>League</th>\n",
       "      <th>Time</th>\n",
       "      <th>Home</th>\n",
       "      <th>Away</th>\n",
       "      <th>Odds_H</th>\n",
       "      <th>Odds_A</th>\n",
       "      <th>Over_Line</th>\n",
       "      <th>Odds_Over</th>\n",
       "      <th>Odds_Under</th>\n",
       "      <th>HA_Line</th>\n",
       "      <th>HA_Odds_H</th>\n",
       "      <th>HA_Odds_A</th>\n",
       "      <th>Fixture ID</th>\n",
       "      <th>P(H)</th>\n",
       "      <th>P(A)</th>\n",
       "      <th>P(O)</th>\n",
       "      <th>P(U)</th>\n",
       "      <th>P_Diff</th>\n",
       "      <th>Porc_Over_Home</th>\n",
       "      <th>Porc_Over_Away</th>\n",
       "      <th>CustoGolHome</th>\n",
       "      <th>CustoGolAway</th>\n",
       "      <th>Avg_CG_H</th>\n",
       "      <th>DP_CG_H</th>\n",
       "      <th>CV_CG_H</th>\n",
       "      <th>Avg_CG_A</th>\n",
       "      <th>DP_CG_A</th>\n",
       "      <th>CV_CG_A</th>\n",
       "      <th>MediaCustoGolHome</th>\n",
       "      <th>MediaCustoGolAway</th>\n",
       "      <th>Last_CG_H</th>\n",
       "      <th>Last_CG_A</th>\n",
       "      <th>Acima_Last_CG_H</th>\n",
       "      <th>Acima_Last_CG_A</th>\n",
       "      <th>Abaixo_Last_CG_H</th>\n",
       "      <th>Abaixo_Last_CG_A</th>\n",
       "      <th>CV_ML</th>\n",
       "      <th>CV_Over</th>\n",
       "      <th>CV_HA</th>\n",
       "      <th>Retornos_BH_Acu</th>\n",
       "      <th>Avg_Retornos_BH</th>\n",
       "      <th>Custo_Retorno_BH</th>\n",
       "      <th>Avg_Porc_BH_Bookie</th>\n",
       "      <th>Avg_Porc_BH_Real</th>\n",
       "      <th>Dist_Porc_BH</th>\n",
       "      <th>Retornos_BA_Acu</th>\n",
       "      <th>Avg_Retornos_BA</th>\n",
       "      <th>Custo_Retorno_BA</th>\n",
       "      <th>Avg_Porc_BA_Bookie</th>\n",
       "      <th>Avg_Porc_BA_Real</th>\n",
       "      <th>Dist_Porc_BA</th>\n",
       "    </tr>\n",
       "  </thead>\n",
       "  <tbody>\n",
       "    <tr>\n",
       "      <th>877</th>\n",
       "      <td>2024-06-04</td>\n",
       "      <td>Alemanha Bbl</td>\n",
       "      <td>13:30</td>\n",
       "      <td>Chemnitz</td>\n",
       "      <td>Alba Berlin</td>\n",
       "      <td>2.27</td>\n",
       "      <td>1.64</td>\n",
       "      <td>161.5</td>\n",
       "      <td>1.86</td>\n",
       "      <td>1.92</td>\n",
       "      <td>1.5</td>\n",
       "      <td>1.97</td>\n",
       "      <td>1.59</td>\n",
       "      <td>8WAK1tFU</td>\n",
       "      <td>0.440529</td>\n",
       "      <td>0.609756</td>\n",
       "      <td>0.537634</td>\n",
       "      <td>0.520833</td>\n",
       "      <td>0.050285</td>\n",
       "      <td>0.0</td>\n",
       "      <td>0.6</td>\n",
       "      <td>NaN</td>\n",
       "      <td>NaN</td>\n",
       "      <td>141.542</td>\n",
       "      <td>23.35382</td>\n",
       "      <td>0.164996</td>\n",
       "      <td>139.498</td>\n",
       "      <td>24.345091</td>\n",
       "      <td>0.174519</td>\n",
       "      <td>136.03</td>\n",
       "      <td>146.232</td>\n",
       "      <td>154.56</td>\n",
       "      <td>141.84</td>\n",
       "      <td>0.0</td>\n",
       "      <td>0.0</td>\n",
       "      <td>0.0</td>\n",
       "      <td>0.0</td>\n",
       "      <td>0.227866</td>\n",
       "      <td>0.022448</td>\n",
       "      <td>0.150955</td>\n",
       "      <td>-0.56</td>\n",
       "      <td>-0.112</td>\n",
       "      <td>-11.339286</td>\n",
       "      <td>0.731822</td>\n",
       "      <td>0.8</td>\n",
       "      <td>0.068178</td>\n",
       "      <td>0.29</td>\n",
       "      <td>0.058</td>\n",
       "      <td>11.034483</td>\n",
       "      <td>0.640884</td>\n",
       "      <td>0.6</td>\n",
       "      <td>-0.040884</td>\n",
       "    </tr>\n",
       "    <tr>\n",
       "      <th>878</th>\n",
       "      <td>2024-06-04</td>\n",
       "      <td>Países Baixos Dbl</td>\n",
       "      <td>15:00</td>\n",
       "      <td>Leiden</td>\n",
       "      <td>Den Bosch</td>\n",
       "      <td>1.99</td>\n",
       "      <td>1.74</td>\n",
       "      <td>150.5</td>\n",
       "      <td>1.85</td>\n",
       "      <td>1.85</td>\n",
       "      <td>1.5</td>\n",
       "      <td>1.85</td>\n",
       "      <td>1.61</td>\n",
       "      <td>hn1fPZI7</td>\n",
       "      <td>0.502513</td>\n",
       "      <td>0.574713</td>\n",
       "      <td>0.540541</td>\n",
       "      <td>0.540541</td>\n",
       "      <td>0.077225</td>\n",
       "      <td>0.0</td>\n",
       "      <td>0.0</td>\n",
       "      <td>NaN</td>\n",
       "      <td>NaN</td>\n",
       "      <td>NaN</td>\n",
       "      <td>NaN</td>\n",
       "      <td>NaN</td>\n",
       "      <td>NaN</td>\n",
       "      <td>NaN</td>\n",
       "      <td>NaN</td>\n",
       "      <td>0.00</td>\n",
       "      <td>0.000</td>\n",
       "      <td>151.89</td>\n",
       "      <td>122.85</td>\n",
       "      <td>0.0</td>\n",
       "      <td>0.0</td>\n",
       "      <td>0.0</td>\n",
       "      <td>0.0</td>\n",
       "      <td>0.094786</td>\n",
       "      <td>0.000000</td>\n",
       "      <td>0.098096</td>\n",
       "      <td>0.00</td>\n",
       "      <td>0.000</td>\n",
       "      <td>inf</td>\n",
       "      <td>0.000000</td>\n",
       "      <td>0.0</td>\n",
       "      <td>0.000000</td>\n",
       "      <td>0.00</td>\n",
       "      <td>0.000</td>\n",
       "      <td>inf</td>\n",
       "      <td>0.000000</td>\n",
       "      <td>0.0</td>\n",
       "      <td>0.000000</td>\n",
       "    </tr>\n",
       "  </tbody>\n",
       "</table>\n",
       "</div>"
      ],
      "text/plain": [
       "           Date             League   Time      Home         Away  Odds_H  \\\n",
       "877  2024-06-04       Alemanha Bbl  13:30  Chemnitz  Alba Berlin    2.27   \n",
       "878  2024-06-04  Países Baixos Dbl  15:00    Leiden    Den Bosch    1.99   \n",
       "\n",
       "     Odds_A  Over_Line  Odds_Over  Odds_Under  HA_Line  HA_Odds_H  HA_Odds_A  \\\n",
       "877    1.64      161.5       1.86        1.92      1.5       1.97       1.59   \n",
       "878    1.74      150.5       1.85        1.85      1.5       1.85       1.61   \n",
       "\n",
       "    Fixture ID      P(H)      P(A)      P(O)      P(U)    P_Diff  \\\n",
       "877   8WAK1tFU  0.440529  0.609756  0.537634  0.520833  0.050285   \n",
       "878   hn1fPZI7  0.502513  0.574713  0.540541  0.540541  0.077225   \n",
       "\n",
       "     Porc_Over_Home  Porc_Over_Away  CustoGolHome  CustoGolAway  Avg_CG_H  \\\n",
       "877             0.0             0.6           NaN           NaN   141.542   \n",
       "878             0.0             0.0           NaN           NaN       NaN   \n",
       "\n",
       "      DP_CG_H   CV_CG_H  Avg_CG_A    DP_CG_A   CV_CG_A  MediaCustoGolHome  \\\n",
       "877  23.35382  0.164996   139.498  24.345091  0.174519             136.03   \n",
       "878       NaN       NaN       NaN        NaN       NaN               0.00   \n",
       "\n",
       "     MediaCustoGolAway  Last_CG_H  Last_CG_A  Acima_Last_CG_H  \\\n",
       "877            146.232     154.56     141.84              0.0   \n",
       "878              0.000     151.89     122.85              0.0   \n",
       "\n",
       "     Acima_Last_CG_A  Abaixo_Last_CG_H  Abaixo_Last_CG_A     CV_ML   CV_Over  \\\n",
       "877              0.0               0.0               0.0  0.227866  0.022448   \n",
       "878              0.0               0.0               0.0  0.094786  0.000000   \n",
       "\n",
       "        CV_HA  Retornos_BH_Acu  Avg_Retornos_BH  Custo_Retorno_BH  \\\n",
       "877  0.150955            -0.56           -0.112        -11.339286   \n",
       "878  0.098096             0.00            0.000               inf   \n",
       "\n",
       "     Avg_Porc_BH_Bookie  Avg_Porc_BH_Real  Dist_Porc_BH  Retornos_BA_Acu  \\\n",
       "877            0.731822               0.8      0.068178             0.29   \n",
       "878            0.000000               0.0      0.000000             0.00   \n",
       "\n",
       "     Avg_Retornos_BA  Custo_Retorno_BA  Avg_Porc_BA_Bookie  Avg_Porc_BA_Real  \\\n",
       "877            0.058         11.034483            0.640884               0.6   \n",
       "878            0.000               inf            0.000000               0.0   \n",
       "\n",
       "     Dist_Porc_BA  \n",
       "877     -0.040884  \n",
       "878      0.000000  "
      ]
     },
     "execution_count": 8,
     "metadata": {},
     "output_type": "execute_result"
    }
   ],
   "source": [
    "jogos = games[games['Date'] == data_var]\n",
    "\n",
    "jogos = jogos.drop(columns=['Home_Pts', 'Away_Pts',\n",
    "       'Back_Home', 'PL_Home', 'Back_Away',\n",
    "       'PL_Away', 'Back_Over', 'PL_Over', 'PL_Under', 'Back_HA_H', 'PL_HA_H',\n",
    "       'PL_HA_A', ])\n",
    "\n",
    "jogos"
   ]
  },
  {
   "attachments": {},
   "cell_type": "markdown",
   "id": "08aa1c88",
   "metadata": {
    "papermill": {
     "duration": 0.002015,
     "end_time": "2024-06-04T13:01:29.729289",
     "exception": false,
     "start_time": "2024-06-04T13:01:29.727274",
     "status": "completed"
    },
    "tags": []
   },
   "source": [
    "## Apostas do dia"
   ]
  },
  {
   "cell_type": "markdown",
   "id": "b24569b1",
   "metadata": {
    "papermill": {
     "duration": 0.002,
     "end_time": "2024-06-04T13:01:29.733289",
     "exception": false,
     "start_time": "2024-06-04T13:01:29.731289",
     "status": "completed"
    },
    "tags": []
   },
   "source": [
    "### Over v0 (LDA)"
   ]
  },
  {
   "cell_type": "code",
   "execution_count": 9,
   "id": "6f144103",
   "metadata": {
    "execution": {
     "iopub.execute_input": "2024-06-04T13:01:29.738298Z",
     "iopub.status.busy": "2024-06-04T13:01:29.737789Z",
     "iopub.status.idle": "2024-06-04T13:01:29.893574Z",
     "shell.execute_reply": "2024-06-04T13:01:29.892513Z"
    },
    "papermill": {
     "duration": 0.159284,
     "end_time": "2024-06-04T13:01:29.894573",
     "exception": false,
     "start_time": "2024-06-04T13:01:29.735289",
     "status": "completed"
    },
    "tags": []
   },
   "outputs": [
    {
     "name": "stdout",
     "output_type": "stream",
     "text": [
      "Sem jogos\n"
     ]
    }
   ],
   "source": [
    "# Duplicando o dataset\n",
    "df_over_v0 = jogos.copy()\n",
    "\n",
    "df_over_v0.reset_index(drop=True, inplace=True)\n",
    "df_over_v0.replace([np.inf, -np.inf], 0, inplace=True)\n",
    "\n",
    "if not df_over_v0.empty:\n",
    "    mdl_over_v0 = load_model('ML/over/v1/v1_over', verbose=False)\n",
    "    prev = predict_model(mdl_over_v0, df_over_v0)\n",
    "    prev = prev[prev['prediction_label'] ==  1]\n",
    "    prev.reset_index(drop=True, inplace=True)\n",
    "    \n",
    "    # Filtros pós modelo\n",
    "\n",
    "    if not prev.empty:\n",
    "        prev.to_csv(f'apostas_do_dia/{data_var}/over_v0_{data_var}.csv', index=False)\n",
    "\n",
    "        print('------------ MÉTODO OVER V0 (LDA) ------------')\n",
    "        print()\n",
    "\n",
    "        prev['Bet'] = 'Over'\n",
    "        ligs = prev['League'].unique().tolist()\n",
    "\n",
    "        display(prev[['Time', 'League', 'Home', 'Away', 'Over_Line', 'Odds_Over', 'prediction_score', 'Bet']])\n",
    "        print()\n",
    "    else: print('Sem jogos')\n",
    "else: print('Sem jogos')"
   ]
  }
 ],
 "metadata": {
  "kernelspec": {
   "display_name": "modelos_futebol",
   "language": "python",
   "name": "python3"
  },
  "language_info": {
   "codemirror_mode": {
    "name": "ipython",
    "version": 3
   },
   "file_extension": ".py",
   "mimetype": "text/x-python",
   "name": "python",
   "nbconvert_exporter": "python",
   "pygments_lexer": "ipython3",
   "version": "3.10.7"
  },
  "papermill": {
   "default_parameters": {},
   "duration": 10.011808,
   "end_time": "2024-06-04T13:01:30.250229",
   "environment_variables": {},
   "exception": null,
   "input_path": "apostas_do_dia_v1.ipynb",
   "output_path": "apostas_do_dia_v1.ipynb",
   "parameters": {
    "data_var": "2024-06-04"
   },
   "start_time": "2024-06-04T13:01:20.238421",
   "version": "2.5.0"
  }
 },
 "nbformat": 4,
 "nbformat_minor": 5
}