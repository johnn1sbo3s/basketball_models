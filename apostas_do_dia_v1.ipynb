{
 "cells": [
  {
   "cell_type": "code",
   "execution_count": 1,
   "id": "d690e842",
   "metadata": {
    "execution": {
     "iopub.execute_input": "2024-06-21T13:01:51.309266Z",
     "iopub.status.busy": "2024-06-21T13:01:51.308760Z",
     "iopub.status.idle": "2024-06-21T13:01:51.321770Z",
     "shell.execute_reply": "2024-06-21T13:01:51.321265Z"
    },
    "papermill": {
     "duration": 0.017088,
     "end_time": "2024-06-21T13:01:51.322768",
     "exception": false,
     "start_time": "2024-06-21T13:01:51.305680",
     "status": "completed"
    },
    "tags": [
     "parameters"
    ]
   },
   "outputs": [],
   "source": [
    "data_var = ''"
   ]
  },
  {
   "cell_type": "code",
   "execution_count": 2,
   "id": "e27ea635",
   "metadata": {
    "execution": {
     "iopub.execute_input": "2024-06-21T13:01:51.327767Z",
     "iopub.status.busy": "2024-06-21T13:01:51.327767Z",
     "iopub.status.idle": "2024-06-21T13:01:51.337269Z",
     "shell.execute_reply": "2024-06-21T13:01:51.336768Z"
    },
    "papermill": {
     "duration": 0.013,
     "end_time": "2024-06-21T13:01:51.338266",
     "exception": false,
     "start_time": "2024-06-21T13:01:51.325266",
     "status": "completed"
    },
    "tags": [
     "injected-parameters"
    ]
   },
   "outputs": [],
   "source": [
    "# Parameters\n",
    "data_var = \"2024-06-21\"\n"
   ]
  },
  {
   "cell_type": "code",
   "execution_count": 3,
   "id": "25b97174",
   "metadata": {
    "execution": {
     "iopub.execute_input": "2024-06-21T13:01:51.343266Z",
     "iopub.status.busy": "2024-06-21T13:01:51.342769Z",
     "iopub.status.idle": "2024-06-21T13:01:52.981686Z",
     "shell.execute_reply": "2024-06-21T13:01:52.981186Z"
    },
    "papermill": {
     "duration": 1.642916,
     "end_time": "2024-06-21T13:01:52.983185",
     "exception": false,
     "start_time": "2024-06-21T13:01:51.340269",
     "status": "completed"
    },
    "tags": []
   },
   "outputs": [],
   "source": [
    "import pandas as pd; pd.set_option('display.max_columns', None)\n",
    "import os\n",
    "from pycaret.classification import *\n",
    "from scripts.PreparaDataset import *\n",
    "from scripts.TeoriaRetornos import *"
   ]
  },
  {
   "attachments": {},
   "cell_type": "markdown",
   "id": "ffa9b361",
   "metadata": {
    "papermill": {
     "duration": 0.002,
     "end_time": "2024-06-21T13:01:52.987186",
     "exception": false,
     "start_time": "2024-06-21T13:01:52.985186",
     "status": "completed"
    },
    "tags": []
   },
   "source": [
    "### Funções"
   ]
  },
  {
   "cell_type": "code",
   "execution_count": 4,
   "id": "cb6eea9b",
   "metadata": {
    "execution": {
     "iopub.execute_input": "2024-06-21T13:01:52.991685Z",
     "iopub.status.busy": "2024-06-21T13:01:52.991186Z",
     "iopub.status.idle": "2024-06-21T13:01:52.997201Z",
     "shell.execute_reply": "2024-06-21T13:01:52.996685Z"
    },
    "papermill": {
     "duration": 0.009501,
     "end_time": "2024-06-21T13:01:52.998185",
     "exception": false,
     "start_time": "2024-06-21T13:01:52.988684",
     "status": "completed"
    },
    "tags": []
   },
   "outputs": [],
   "source": [
    "def atualiza_dia(_jogos):\n",
    "    _jogos = prepara_df(_jogos)\n",
    "\n",
    "    _jogos = _jogos.reset_index(drop=True)\n",
    "\n",
    "    return _jogos"
   ]
  },
  {
   "attachments": {},
   "cell_type": "markdown",
   "id": "26b16874",
   "metadata": {
    "papermill": {
     "duration": 0.0015,
     "end_time": "2024-06-21T13:01:53.001685",
     "exception": false,
     "start_time": "2024-06-21T13:01:53.000185",
     "status": "completed"
    },
    "tags": []
   },
   "source": [
    "### Pegando os jogos do dia"
   ]
  },
  {
   "cell_type": "code",
   "execution_count": 5,
   "id": "5ddb2ecb",
   "metadata": {
    "execution": {
     "iopub.execute_input": "2024-06-21T13:01:53.006685Z",
     "iopub.status.busy": "2024-06-21T13:01:53.006185Z",
     "iopub.status.idle": "2024-06-21T13:01:53.028186Z",
     "shell.execute_reply": "2024-06-21T13:01:53.027686Z"
    },
    "papermill": {
     "duration": 0.025999,
     "end_time": "2024-06-21T13:01:53.029685",
     "exception": false,
     "start_time": "2024-06-21T13:01:53.003686",
     "status": "completed"
    },
    "tags": []
   },
   "outputs": [],
   "source": [
    "df_today = pd.read_csv(f'jogos_do_dia/{data_var}.csv')"
   ]
  },
  {
   "cell_type": "markdown",
   "id": "19a2214d",
   "metadata": {
    "papermill": {
     "duration": 0.001499,
     "end_time": "2024-06-21T13:01:53.033185",
     "exception": false,
     "start_time": "2024-06-21T13:01:53.031686",
     "status": "completed"
    },
    "tags": []
   },
   "source": [
    "### Atualizando os datasets que tem jogo hoje"
   ]
  },
  {
   "cell_type": "code",
   "execution_count": 6,
   "id": "68bd72ae",
   "metadata": {
    "execution": {
     "iopub.execute_input": "2024-06-21T13:01:53.038185Z",
     "iopub.status.busy": "2024-06-21T13:01:53.037686Z",
     "iopub.status.idle": "2024-06-21T13:01:53.105713Z",
     "shell.execute_reply": "2024-06-21T13:01:53.105207Z"
    },
    "papermill": {
     "duration": 0.072025,
     "end_time": "2024-06-21T13:01:53.107210",
     "exception": false,
     "start_time": "2024-06-21T13:01:53.035185",
     "status": "completed"
    },
    "tags": []
   },
   "outputs": [],
   "source": [
    "temporada = pd.read_csv('data/Entire_Season.csv')\n",
    "temporada = temporada[temporada['Date'] < data_var]\n",
    "temporada = pd.concat([temporada, df_today])\n",
    "ligas = df_today['League'].unique().tolist()\n",
    "temporada = temporada[temporada['League'].isin(ligas)]\n",
    "temporada.reset_index(drop=True, inplace=True)"
   ]
  },
  {
   "cell_type": "markdown",
   "id": "0d8018ca",
   "metadata": {
    "papermill": {
     "duration": 0.0025,
     "end_time": "2024-06-21T13:01:53.111710",
     "exception": false,
     "start_time": "2024-06-21T13:01:53.109210",
     "status": "completed"
    },
    "tags": []
   },
   "source": [
    "### Cria variáveis na temporada e nos jogos do dia"
   ]
  },
  {
   "cell_type": "code",
   "execution_count": 7,
   "id": "d3b06cb1",
   "metadata": {
    "execution": {
     "iopub.execute_input": "2024-06-21T13:01:53.116711Z",
     "iopub.status.busy": "2024-06-21T13:01:53.116210Z",
     "iopub.status.idle": "2024-06-21T13:01:53.508265Z",
     "shell.execute_reply": "2024-06-21T13:01:53.507765Z"
    },
    "papermill": {
     "duration": 0.396053,
     "end_time": "2024-06-21T13:01:53.509762",
     "exception": false,
     "start_time": "2024-06-21T13:01:53.113709",
     "status": "completed"
    },
    "tags": []
   },
   "outputs": [],
   "source": [
    "games = atualiza_dia(temporada)\n",
    "temporada = games[games['Date'] < data_var]\n",
    "os.makedirs(f'apostas_do_dia/{data_var}', exist_ok=True)"
   ]
  },
  {
   "cell_type": "code",
   "execution_count": 8,
   "id": "16aa533f",
   "metadata": {
    "execution": {
     "iopub.execute_input": "2024-06-21T13:01:53.514764Z",
     "iopub.status.busy": "2024-06-21T13:01:53.514263Z",
     "iopub.status.idle": "2024-06-21T13:01:53.554773Z",
     "shell.execute_reply": "2024-06-21T13:01:53.554269Z"
    },
    "papermill": {
     "duration": 0.04401,
     "end_time": "2024-06-21T13:01:53.555772",
     "exception": false,
     "start_time": "2024-06-21T13:01:53.511762",
     "status": "completed"
    },
    "tags": []
   },
   "outputs": [
    {
     "data": {
      "text/html": [
       "<div>\n",
       "<style scoped>\n",
       "    .dataframe tbody tr th:only-of-type {\n",
       "        vertical-align: middle;\n",
       "    }\n",
       "\n",
       "    .dataframe tbody tr th {\n",
       "        vertical-align: top;\n",
       "    }\n",
       "\n",
       "    .dataframe thead th {\n",
       "        text-align: right;\n",
       "    }\n",
       "</style>\n",
       "<table border=\"1\" class=\"dataframe\">\n",
       "  <thead>\n",
       "    <tr style=\"text-align: right;\">\n",
       "      <th></th>\n",
       "      <th>Date</th>\n",
       "      <th>League</th>\n",
       "      <th>Time</th>\n",
       "      <th>Home</th>\n",
       "      <th>Away</th>\n",
       "      <th>Odds_H</th>\n",
       "      <th>Odds_A</th>\n",
       "      <th>Over_Line</th>\n",
       "      <th>Odds_Over</th>\n",
       "      <th>Odds_Under</th>\n",
       "      <th>HA_Line</th>\n",
       "      <th>HA_Odds_H</th>\n",
       "      <th>HA_Odds_A</th>\n",
       "      <th>Fixture ID</th>\n",
       "      <th>P(H)</th>\n",
       "      <th>P(A)</th>\n",
       "      <th>P(O)</th>\n",
       "      <th>P(U)</th>\n",
       "      <th>P_Diff</th>\n",
       "      <th>Porc_Over_Home</th>\n",
       "      <th>Porc_Over_Away</th>\n",
       "      <th>CustoGolHome</th>\n",
       "      <th>CustoGolAway</th>\n",
       "      <th>Avg_CG_H</th>\n",
       "      <th>DP_CG_H</th>\n",
       "      <th>CV_CG_H</th>\n",
       "      <th>Avg_CG_A</th>\n",
       "      <th>DP_CG_A</th>\n",
       "      <th>CV_CG_A</th>\n",
       "      <th>MediaCustoGolHome</th>\n",
       "      <th>MediaCustoGolAway</th>\n",
       "      <th>Last_CG_H</th>\n",
       "      <th>Last_CG_A</th>\n",
       "      <th>Acima_Last_CG_H</th>\n",
       "      <th>Acima_Last_CG_A</th>\n",
       "      <th>Abaixo_Last_CG_H</th>\n",
       "      <th>Abaixo_Last_CG_A</th>\n",
       "      <th>CV_ML</th>\n",
       "      <th>CV_Over</th>\n",
       "      <th>CV_HA</th>\n",
       "      <th>Retornos_BH_Acu</th>\n",
       "      <th>Avg_Retornos_BH</th>\n",
       "      <th>Custo_Retorno_BH</th>\n",
       "      <th>Avg_Porc_BH_Bookie</th>\n",
       "      <th>Avg_Porc_BH_Real</th>\n",
       "      <th>Dist_Porc_BH</th>\n",
       "      <th>Retornos_BA_Acu</th>\n",
       "      <th>Avg_Retornos_BA</th>\n",
       "      <th>Custo_Retorno_BA</th>\n",
       "      <th>Avg_Porc_BA_Bookie</th>\n",
       "      <th>Avg_Porc_BA_Real</th>\n",
       "      <th>Dist_Porc_BA</th>\n",
       "    </tr>\n",
       "  </thead>\n",
       "  <tbody>\n",
       "    <tr>\n",
       "      <th>247</th>\n",
       "      <td>2024-06-21</td>\n",
       "      <td>Austrália Nbl1 Oeste</td>\n",
       "      <td>07:30</td>\n",
       "      <td>Perth Redbacks F</td>\n",
       "      <td>Warwick Senators F</td>\n",
       "      <td>3.77</td>\n",
       "      <td>1.24</td>\n",
       "      <td>167.5</td>\n",
       "      <td>1.86</td>\n",
       "      <td>1.84</td>\n",
       "      <td>1.5</td>\n",
       "      <td>1.95</td>\n",
       "      <td>1.51</td>\n",
       "      <td>AcS3Bl76</td>\n",
       "      <td>0.265252</td>\n",
       "      <td>0.806452</td>\n",
       "      <td>0.537634</td>\n",
       "      <td>0.543478</td>\n",
       "      <td>0.071704</td>\n",
       "      <td>0.0</td>\n",
       "      <td>0.0</td>\n",
       "      <td>NaN</td>\n",
       "      <td>NaN</td>\n",
       "      <td>NaN</td>\n",
       "      <td>NaN</td>\n",
       "      <td>NaN</td>\n",
       "      <td>NaN</td>\n",
       "      <td>NaN</td>\n",
       "      <td>NaN</td>\n",
       "      <td>0.0</td>\n",
       "      <td>0.0</td>\n",
       "      <td>0.00</td>\n",
       "      <td>0.00</td>\n",
       "      <td>0.0</td>\n",
       "      <td>0.0</td>\n",
       "      <td>0.0</td>\n",
       "      <td>0.0</td>\n",
       "      <td>0.714164</td>\n",
       "      <td>0.007644</td>\n",
       "      <td>0.179842</td>\n",
       "      <td>0.0</td>\n",
       "      <td>0.0</td>\n",
       "      <td>inf</td>\n",
       "      <td>0.0</td>\n",
       "      <td>0.0</td>\n",
       "      <td>0.0</td>\n",
       "      <td>0.0</td>\n",
       "      <td>0.0</td>\n",
       "      <td>inf</td>\n",
       "      <td>0.0</td>\n",
       "      <td>0.0</td>\n",
       "      <td>0.0</td>\n",
       "    </tr>\n",
       "    <tr>\n",
       "      <th>248</th>\n",
       "      <td>2024-06-21</td>\n",
       "      <td>Eua Wnba</td>\n",
       "      <td>20:30</td>\n",
       "      <td>Atlanta Dream F</td>\n",
       "      <td>Indiana Fever F</td>\n",
       "      <td>2.12</td>\n",
       "      <td>1.73</td>\n",
       "      <td>161.5</td>\n",
       "      <td>1.84</td>\n",
       "      <td>1.94</td>\n",
       "      <td>1.5</td>\n",
       "      <td>1.97</td>\n",
       "      <td>1.57</td>\n",
       "      <td>b3GpAnKr</td>\n",
       "      <td>0.471698</td>\n",
       "      <td>0.578035</td>\n",
       "      <td>0.543478</td>\n",
       "      <td>0.515464</td>\n",
       "      <td>0.049733</td>\n",
       "      <td>0.0</td>\n",
       "      <td>0.0</td>\n",
       "      <td>NaN</td>\n",
       "      <td>NaN</td>\n",
       "      <td>NaN</td>\n",
       "      <td>NaN</td>\n",
       "      <td>NaN</td>\n",
       "      <td>173.486</td>\n",
       "      <td>19.978626</td>\n",
       "      <td>0.115160</td>\n",
       "      <td>0.0</td>\n",
       "      <td>0.0</td>\n",
       "      <td>111.00</td>\n",
       "      <td>159.80</td>\n",
       "      <td>0.0</td>\n",
       "      <td>0.0</td>\n",
       "      <td>0.0</td>\n",
       "      <td>0.0</td>\n",
       "      <td>0.143258</td>\n",
       "      <td>0.037413</td>\n",
       "      <td>0.159798</td>\n",
       "      <td>0.0</td>\n",
       "      <td>0.0</td>\n",
       "      <td>inf</td>\n",
       "      <td>0.0</td>\n",
       "      <td>0.0</td>\n",
       "      <td>0.0</td>\n",
       "      <td>0.0</td>\n",
       "      <td>0.0</td>\n",
       "      <td>inf</td>\n",
       "      <td>0.0</td>\n",
       "      <td>0.0</td>\n",
       "      <td>0.0</td>\n",
       "    </tr>\n",
       "    <tr>\n",
       "      <th>249</th>\n",
       "      <td>2024-06-21</td>\n",
       "      <td>Venezuela Superliga</td>\n",
       "      <td>19:30</td>\n",
       "      <td>Frontinos</td>\n",
       "      <td>Broncos</td>\n",
       "      <td>1.90</td>\n",
       "      <td>1.82</td>\n",
       "      <td>157.5</td>\n",
       "      <td>1.86</td>\n",
       "      <td>1.84</td>\n",
       "      <td>3.5</td>\n",
       "      <td>1.55</td>\n",
       "      <td>1.48</td>\n",
       "      <td>bFp5tczS</td>\n",
       "      <td>0.526316</td>\n",
       "      <td>0.549451</td>\n",
       "      <td>0.537634</td>\n",
       "      <td>0.543478</td>\n",
       "      <td>0.075766</td>\n",
       "      <td>0.0</td>\n",
       "      <td>0.0</td>\n",
       "      <td>NaN</td>\n",
       "      <td>NaN</td>\n",
       "      <td>NaN</td>\n",
       "      <td>NaN</td>\n",
       "      <td>NaN</td>\n",
       "      <td>NaN</td>\n",
       "      <td>NaN</td>\n",
       "      <td>NaN</td>\n",
       "      <td>0.0</td>\n",
       "      <td>0.0</td>\n",
       "      <td>0.00</td>\n",
       "      <td>131.60</td>\n",
       "      <td>0.0</td>\n",
       "      <td>0.0</td>\n",
       "      <td>0.0</td>\n",
       "      <td>0.0</td>\n",
       "      <td>0.030413</td>\n",
       "      <td>0.007644</td>\n",
       "      <td>0.032672</td>\n",
       "      <td>0.0</td>\n",
       "      <td>0.0</td>\n",
       "      <td>inf</td>\n",
       "      <td>0.0</td>\n",
       "      <td>0.0</td>\n",
       "      <td>0.0</td>\n",
       "      <td>0.0</td>\n",
       "      <td>0.0</td>\n",
       "      <td>inf</td>\n",
       "      <td>0.0</td>\n",
       "      <td>0.0</td>\n",
       "      <td>0.0</td>\n",
       "    </tr>\n",
       "    <tr>\n",
       "      <th>250</th>\n",
       "      <td>2024-06-21</td>\n",
       "      <td>Porto Rico Bsn</td>\n",
       "      <td>21:00</td>\n",
       "      <td>Mets de Guaynabo</td>\n",
       "      <td>Cangrejeros</td>\n",
       "      <td>1.78</td>\n",
       "      <td>1.94</td>\n",
       "      <td>176.5</td>\n",
       "      <td>1.83</td>\n",
       "      <td>1.83</td>\n",
       "      <td>-1.5</td>\n",
       "      <td>1.88</td>\n",
       "      <td>1.90</td>\n",
       "      <td>2kAz3Xfm</td>\n",
       "      <td>0.561798</td>\n",
       "      <td>0.515464</td>\n",
       "      <td>0.546448</td>\n",
       "      <td>0.546448</td>\n",
       "      <td>0.077262</td>\n",
       "      <td>0.0</td>\n",
       "      <td>0.0</td>\n",
       "      <td>NaN</td>\n",
       "      <td>NaN</td>\n",
       "      <td>NaN</td>\n",
       "      <td>NaN</td>\n",
       "      <td>NaN</td>\n",
       "      <td>184.644</td>\n",
       "      <td>18.963313</td>\n",
       "      <td>0.102702</td>\n",
       "      <td>0.0</td>\n",
       "      <td>0.0</td>\n",
       "      <td>194.25</td>\n",
       "      <td>185.18</td>\n",
       "      <td>0.0</td>\n",
       "      <td>0.0</td>\n",
       "      <td>0.0</td>\n",
       "      <td>0.0</td>\n",
       "      <td>0.060826</td>\n",
       "      <td>0.000000</td>\n",
       "      <td>0.007483</td>\n",
       "      <td>0.0</td>\n",
       "      <td>0.0</td>\n",
       "      <td>inf</td>\n",
       "      <td>0.0</td>\n",
       "      <td>0.0</td>\n",
       "      <td>0.0</td>\n",
       "      <td>0.0</td>\n",
       "      <td>0.0</td>\n",
       "      <td>inf</td>\n",
       "      <td>0.0</td>\n",
       "      <td>0.0</td>\n",
       "      <td>0.0</td>\n",
       "    </tr>\n",
       "  </tbody>\n",
       "</table>\n",
       "</div>"
      ],
      "text/plain": [
       "           Date                League   Time              Home  \\\n",
       "247  2024-06-21  Austrália Nbl1 Oeste  07:30  Perth Redbacks F   \n",
       "248  2024-06-21              Eua Wnba  20:30   Atlanta Dream F   \n",
       "249  2024-06-21   Venezuela Superliga  19:30         Frontinos   \n",
       "250  2024-06-21        Porto Rico Bsn  21:00  Mets de Guaynabo   \n",
       "\n",
       "                   Away  Odds_H  Odds_A  Over_Line  Odds_Over  Odds_Under  \\\n",
       "247  Warwick Senators F    3.77    1.24      167.5       1.86        1.84   \n",
       "248     Indiana Fever F    2.12    1.73      161.5       1.84        1.94   \n",
       "249             Broncos    1.90    1.82      157.5       1.86        1.84   \n",
       "250         Cangrejeros    1.78    1.94      176.5       1.83        1.83   \n",
       "\n",
       "     HA_Line  HA_Odds_H  HA_Odds_A Fixture ID      P(H)      P(A)      P(O)  \\\n",
       "247      1.5       1.95       1.51   AcS3Bl76  0.265252  0.806452  0.537634   \n",
       "248      1.5       1.97       1.57   b3GpAnKr  0.471698  0.578035  0.543478   \n",
       "249      3.5       1.55       1.48   bFp5tczS  0.526316  0.549451  0.537634   \n",
       "250     -1.5       1.88       1.90   2kAz3Xfm  0.561798  0.515464  0.546448   \n",
       "\n",
       "         P(U)    P_Diff  Porc_Over_Home  Porc_Over_Away  CustoGolHome  \\\n",
       "247  0.543478  0.071704             0.0             0.0           NaN   \n",
       "248  0.515464  0.049733             0.0             0.0           NaN   \n",
       "249  0.543478  0.075766             0.0             0.0           NaN   \n",
       "250  0.546448  0.077262             0.0             0.0           NaN   \n",
       "\n",
       "     CustoGolAway  Avg_CG_H  DP_CG_H  CV_CG_H  Avg_CG_A    DP_CG_A   CV_CG_A  \\\n",
       "247           NaN       NaN      NaN      NaN       NaN        NaN       NaN   \n",
       "248           NaN       NaN      NaN      NaN   173.486  19.978626  0.115160   \n",
       "249           NaN       NaN      NaN      NaN       NaN        NaN       NaN   \n",
       "250           NaN       NaN      NaN      NaN   184.644  18.963313  0.102702   \n",
       "\n",
       "     MediaCustoGolHome  MediaCustoGolAway  Last_CG_H  Last_CG_A  \\\n",
       "247                0.0                0.0       0.00       0.00   \n",
       "248                0.0                0.0     111.00     159.80   \n",
       "249                0.0                0.0       0.00     131.60   \n",
       "250                0.0                0.0     194.25     185.18   \n",
       "\n",
       "     Acima_Last_CG_H  Acima_Last_CG_A  Abaixo_Last_CG_H  Abaixo_Last_CG_A  \\\n",
       "247              0.0              0.0               0.0               0.0   \n",
       "248              0.0              0.0               0.0               0.0   \n",
       "249              0.0              0.0               0.0               0.0   \n",
       "250              0.0              0.0               0.0               0.0   \n",
       "\n",
       "        CV_ML   CV_Over     CV_HA  Retornos_BH_Acu  Avg_Retornos_BH  \\\n",
       "247  0.714164  0.007644  0.179842              0.0              0.0   \n",
       "248  0.143258  0.037413  0.159798              0.0              0.0   \n",
       "249  0.030413  0.007644  0.032672              0.0              0.0   \n",
       "250  0.060826  0.000000  0.007483              0.0              0.0   \n",
       "\n",
       "     Custo_Retorno_BH  Avg_Porc_BH_Bookie  Avg_Porc_BH_Real  Dist_Porc_BH  \\\n",
       "247               inf                 0.0               0.0           0.0   \n",
       "248               inf                 0.0               0.0           0.0   \n",
       "249               inf                 0.0               0.0           0.0   \n",
       "250               inf                 0.0               0.0           0.0   \n",
       "\n",
       "     Retornos_BA_Acu  Avg_Retornos_BA  Custo_Retorno_BA  Avg_Porc_BA_Bookie  \\\n",
       "247              0.0              0.0               inf                 0.0   \n",
       "248              0.0              0.0               inf                 0.0   \n",
       "249              0.0              0.0               inf                 0.0   \n",
       "250              0.0              0.0               inf                 0.0   \n",
       "\n",
       "     Avg_Porc_BA_Real  Dist_Porc_BA  \n",
       "247               0.0           0.0  \n",
       "248               0.0           0.0  \n",
       "249               0.0           0.0  \n",
       "250               0.0           0.0  "
      ]
     },
     "execution_count": 8,
     "metadata": {},
     "output_type": "execute_result"
    }
   ],
   "source": [
    "jogos = games[games['Date'] == data_var]\n",
    "\n",
    "jogos = jogos.drop(columns=['Home_Pts', 'Away_Pts',\n",
    "       'Back_Home', 'PL_Home', 'Back_Away',\n",
    "       'PL_Away', 'Back_Over', 'PL_Over', 'PL_Under', 'Back_HA_H', 'PL_HA_H',\n",
    "       'PL_HA_A', ])\n",
    "\n",
    "jogos"
   ]
  },
  {
   "attachments": {},
   "cell_type": "markdown",
   "id": "08aa1c88",
   "metadata": {
    "papermill": {
     "duration": 0.002502,
     "end_time": "2024-06-21T13:01:53.560770",
     "exception": false,
     "start_time": "2024-06-21T13:01:53.558268",
     "status": "completed"
    },
    "tags": []
   },
   "source": [
    "## Apostas do dia"
   ]
  },
  {
   "cell_type": "markdown",
   "id": "b24569b1",
   "metadata": {
    "papermill": {
     "duration": 0.002,
     "end_time": "2024-06-21T13:01:53.564784",
     "exception": false,
     "start_time": "2024-06-21T13:01:53.562784",
     "status": "completed"
    },
    "tags": []
   },
   "source": [
    "### Over v0 (LDA)"
   ]
  },
  {
   "cell_type": "code",
   "execution_count": 9,
   "id": "6f144103",
   "metadata": {
    "execution": {
     "iopub.execute_input": "2024-06-21T13:01:53.569784Z",
     "iopub.status.busy": "2024-06-21T13:01:53.569784Z",
     "iopub.status.idle": "2024-06-21T13:01:53.725305Z",
     "shell.execute_reply": "2024-06-21T13:01:53.724804Z"
    },
    "papermill": {
     "duration": 0.159521,
     "end_time": "2024-06-21T13:01:53.726305",
     "exception": false,
     "start_time": "2024-06-21T13:01:53.566784",
     "status": "completed"
    },
    "tags": []
   },
   "outputs": [
    {
     "name": "stdout",
     "output_type": "stream",
     "text": [
      "Sem jogos\n"
     ]
    }
   ],
   "source": [
    "# Duplicando o dataset\n",
    "df_over_v0 = jogos.copy()\n",
    "\n",
    "df_over_v0.reset_index(drop=True, inplace=True)\n",
    "df_over_v0.replace([np.inf, -np.inf], 0, inplace=True)\n",
    "\n",
    "if not df_over_v0.empty:\n",
    "    mdl_over_v0 = load_model('ML/over/v1/v1_over', verbose=False)\n",
    "    prev = predict_model(mdl_over_v0, df_over_v0)\n",
    "    prev = prev[prev['prediction_label'] ==  1]\n",
    "    prev.reset_index(drop=True, inplace=True)\n",
    "    \n",
    "    # Filtros pós modelo\n",
    "\n",
    "    if not prev.empty:\n",
    "        prev.to_csv(f'apostas_do_dia/{data_var}/over_v0_{data_var}.csv', index=False)\n",
    "\n",
    "        print('------------ MÉTODO OVER V0 (LDA) ------------')\n",
    "        print()\n",
    "\n",
    "        prev['Bet'] = 'Over'\n",
    "        ligs = prev['League'].unique().tolist()\n",
    "\n",
    "        display(prev[['Time', 'League', 'Home', 'Away', 'Over_Line', 'Odds_Over', 'prediction_score', 'Bet']])\n",
    "        print()\n",
    "    else: print('Sem jogos')\n",
    "else: print('Sem jogos')"
   ]
  }
 ],
 "metadata": {
  "kernelspec": {
   "display_name": "modelos_futebol",
   "language": "python",
   "name": "python3"
  },
  "language_info": {
   "codemirror_mode": {
    "name": "ipython",
    "version": 3
   },
   "file_extension": ".py",
   "mimetype": "text/x-python",
   "name": "python",
   "nbconvert_exporter": "python",
   "pygments_lexer": "ipython3",
   "version": "3.10.7"
  },
  "papermill": {
   "default_parameters": {},
   "duration": 4.208726,
   "end_time": "2024-06-21T13:01:54.191077",
   "environment_variables": {},
   "exception": null,
   "input_path": "apostas_do_dia_v1.ipynb",
   "output_path": "apostas_do_dia_v1.ipynb",
   "parameters": {
    "data_var": "2024-06-21"
   },
   "start_time": "2024-06-21T13:01:49.982351",
   "version": "2.5.0"
  }
 },
 "nbformat": 4,
 "nbformat_minor": 5
}