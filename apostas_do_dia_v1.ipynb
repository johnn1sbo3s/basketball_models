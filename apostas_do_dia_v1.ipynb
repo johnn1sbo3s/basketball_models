{
 "cells": [
  {
   "cell_type": "code",
   "execution_count": 1,
   "id": "d690e842",
   "metadata": {
    "execution": {
     "iopub.execute_input": "2024-05-13T13:02:58.835354Z",
     "iopub.status.busy": "2024-05-13T13:02:58.835354Z",
     "iopub.status.idle": "2024-05-13T13:02:58.848381Z",
     "shell.execute_reply": "2024-05-13T13:02:58.847881Z"
    },
    "papermill": {
     "duration": 0.017538,
     "end_time": "2024-05-13T13:02:58.849889",
     "exception": false,
     "start_time": "2024-05-13T13:02:58.832351",
     "status": "completed"
    },
    "tags": [
     "parameters"
    ]
   },
   "outputs": [],
   "source": [
    "data_var = ''"
   ]
  },
  {
   "cell_type": "code",
   "execution_count": 2,
   "id": "4effe2c7",
   "metadata": {
    "execution": {
     "iopub.execute_input": "2024-05-13T13:02:58.855889Z",
     "iopub.status.busy": "2024-05-13T13:02:58.855391Z",
     "iopub.status.idle": "2024-05-13T13:02:58.863907Z",
     "shell.execute_reply": "2024-05-13T13:02:58.863403Z"
    },
    "papermill": {
     "duration": 0.013517,
     "end_time": "2024-05-13T13:02:58.865905",
     "exception": false,
     "start_time": "2024-05-13T13:02:58.852388",
     "status": "completed"
    },
    "tags": [
     "injected-parameters"
    ]
   },
   "outputs": [],
   "source": [
    "# Parameters\n",
    "data_var = \"2024-05-13\"\n"
   ]
  },
  {
   "cell_type": "code",
   "execution_count": 3,
   "id": "25b97174",
   "metadata": {
    "execution": {
     "iopub.execute_input": "2024-05-13T13:02:58.870928Z",
     "iopub.status.busy": "2024-05-13T13:02:58.870427Z",
     "iopub.status.idle": "2024-05-13T13:03:00.809220Z",
     "shell.execute_reply": "2024-05-13T13:03:00.808713Z"
    },
    "papermill": {
     "duration": 1.942801,
     "end_time": "2024-05-13T13:03:00.810719",
     "exception": false,
     "start_time": "2024-05-13T13:02:58.867918",
     "status": "completed"
    },
    "tags": []
   },
   "outputs": [],
   "source": [
    "import pandas as pd; pd.set_option('display.max_columns', None)\n",
    "import os\n",
    "from pycaret.classification import *\n",
    "from scripts.PreparaDataset import *\n",
    "from scripts.TeoriaRetornos import *"
   ]
  },
  {
   "attachments": {},
   "cell_type": "markdown",
   "id": "ffa9b361",
   "metadata": {
    "papermill": {
     "duration": 0.002504,
     "end_time": "2024-05-13T13:03:00.815723",
     "exception": false,
     "start_time": "2024-05-13T13:03:00.813219",
     "status": "completed"
    },
    "tags": []
   },
   "source": [
    "### Funções"
   ]
  },
  {
   "cell_type": "code",
   "execution_count": 4,
   "id": "cb6eea9b",
   "metadata": {
    "execution": {
     "iopub.execute_input": "2024-05-13T13:03:00.821236Z",
     "iopub.status.busy": "2024-05-13T13:03:00.820736Z",
     "iopub.status.idle": "2024-05-13T13:03:00.840750Z",
     "shell.execute_reply": "2024-05-13T13:03:00.839870Z"
    },
    "papermill": {
     "duration": 0.025019,
     "end_time": "2024-05-13T13:03:00.842248",
     "exception": false,
     "start_time": "2024-05-13T13:03:00.817229",
     "status": "completed"
    },
    "tags": []
   },
   "outputs": [],
   "source": [
    "def atualiza_dia(_jogos):\n",
    "    _jogos = prepara_df(_jogos)\n",
    "\n",
    "    _jogos = _jogos.reset_index(drop=True)\n",
    "\n",
    "    return _jogos"
   ]
  },
  {
   "attachments": {},
   "cell_type": "markdown",
   "id": "26b16874",
   "metadata": {
    "papermill": {
     "duration": 0.001502,
     "end_time": "2024-05-13T13:03:00.845749",
     "exception": false,
     "start_time": "2024-05-13T13:03:00.844247",
     "status": "completed"
    },
    "tags": []
   },
   "source": [
    "### Pegando os jogos do dia"
   ]
  },
  {
   "cell_type": "code",
   "execution_count": 5,
   "id": "5ddb2ecb",
   "metadata": {
    "execution": {
     "iopub.execute_input": "2024-05-13T13:03:00.851768Z",
     "iopub.status.busy": "2024-05-13T13:03:00.851768Z",
     "iopub.status.idle": "2024-05-13T13:03:00.871295Z",
     "shell.execute_reply": "2024-05-13T13:03:00.870792Z"
    },
    "papermill": {
     "duration": 0.025533,
     "end_time": "2024-05-13T13:03:00.873794",
     "exception": false,
     "start_time": "2024-05-13T13:03:00.848261",
     "status": "completed"
    },
    "tags": []
   },
   "outputs": [],
   "source": [
    "df_today = pd.read_csv(f'jogos_do_dia/{data_var}.csv')"
   ]
  },
  {
   "cell_type": "markdown",
   "id": "19a2214d",
   "metadata": {
    "papermill": {
     "duration": 0.002513,
     "end_time": "2024-05-13T13:03:00.878306",
     "exception": false,
     "start_time": "2024-05-13T13:03:00.875793",
     "status": "completed"
    },
    "tags": []
   },
   "source": [
    "### Atualizando os datasets que tem jogo hoje"
   ]
  },
  {
   "cell_type": "code",
   "execution_count": 6,
   "id": "68bd72ae",
   "metadata": {
    "execution": {
     "iopub.execute_input": "2024-05-13T13:03:00.884305Z",
     "iopub.status.busy": "2024-05-13T13:03:00.884305Z",
     "iopub.status.idle": "2024-05-13T13:03:00.949702Z",
     "shell.execute_reply": "2024-05-13T13:03:00.948697Z"
    },
    "papermill": {
     "duration": 0.070395,
     "end_time": "2024-05-13T13:03:00.951200",
     "exception": false,
     "start_time": "2024-05-13T13:03:00.880805",
     "status": "completed"
    },
    "tags": []
   },
   "outputs": [],
   "source": [
    "temporada = pd.read_csv('data/Entire_Season.csv')\n",
    "temporada = temporada[temporada['Date'] < data_var]\n",
    "temporada = pd.concat([temporada, df_today])\n",
    "ligas = df_today['League'].unique().tolist()\n",
    "temporada = temporada[temporada['League'].isin(ligas)]\n",
    "temporada.reset_index(drop=True, inplace=True)"
   ]
  },
  {
   "cell_type": "markdown",
   "id": "0d8018ca",
   "metadata": {
    "papermill": {
     "duration": 0.002,
     "end_time": "2024-05-13T13:03:00.956199",
     "exception": false,
     "start_time": "2024-05-13T13:03:00.954199",
     "status": "completed"
    },
    "tags": []
   },
   "source": [
    "### Cria variáveis na temporada e nos jogos do dia"
   ]
  },
  {
   "cell_type": "code",
   "execution_count": 7,
   "id": "d3b06cb1",
   "metadata": {
    "execution": {
     "iopub.execute_input": "2024-05-13T13:03:00.961721Z",
     "iopub.status.busy": "2024-05-13T13:03:00.961222Z",
     "iopub.status.idle": "2024-05-13T13:03:42.971771Z",
     "shell.execute_reply": "2024-05-13T13:03:42.971273Z"
    },
    "papermill": {
     "duration": 42.015055,
     "end_time": "2024-05-13T13:03:42.973270",
     "exception": false,
     "start_time": "2024-05-13T13:03:00.958215",
     "status": "completed"
    },
    "tags": []
   },
   "outputs": [],
   "source": [
    "games = atualiza_dia(temporada)\n",
    "temporada = games[games['Date'] < data_var]\n",
    "os.makedirs(f'apostas_do_dia/{data_var}', exist_ok=True)"
   ]
  },
  {
   "cell_type": "code",
   "execution_count": 8,
   "id": "16aa533f",
   "metadata": {
    "execution": {
     "iopub.execute_input": "2024-05-13T13:03:42.978783Z",
     "iopub.status.busy": "2024-05-13T13:03:42.978783Z",
     "iopub.status.idle": "2024-05-13T13:03:43.017184Z",
     "shell.execute_reply": "2024-05-13T13:03:43.017184Z"
    },
    "papermill": {
     "duration": 0.043933,
     "end_time": "2024-05-13T13:03:43.019703",
     "exception": false,
     "start_time": "2024-05-13T13:03:42.975770",
     "status": "completed"
    },
    "tags": []
   },
   "outputs": [
    {
     "data": {
      "text/html": [
       "<div>\n",
       "<style scoped>\n",
       "    .dataframe tbody tr th:only-of-type {\n",
       "        vertical-align: middle;\n",
       "    }\n",
       "\n",
       "    .dataframe tbody tr th {\n",
       "        vertical-align: top;\n",
       "    }\n",
       "\n",
       "    .dataframe thead th {\n",
       "        text-align: right;\n",
       "    }\n",
       "</style>\n",
       "<table border=\"1\" class=\"dataframe\">\n",
       "  <thead>\n",
       "    <tr style=\"text-align: right;\">\n",
       "      <th></th>\n",
       "      <th>Date</th>\n",
       "      <th>League</th>\n",
       "      <th>Time</th>\n",
       "      <th>Home</th>\n",
       "      <th>Away</th>\n",
       "      <th>Odds_H</th>\n",
       "      <th>Odds_A</th>\n",
       "      <th>Over_Line</th>\n",
       "      <th>Odds_Over</th>\n",
       "      <th>Odds_Under</th>\n",
       "      <th>HA_Line</th>\n",
       "      <th>HA_Odds_H</th>\n",
       "      <th>HA_Odds_A</th>\n",
       "      <th>Fixture ID</th>\n",
       "      <th>P(H)</th>\n",
       "      <th>P(A)</th>\n",
       "      <th>P(O)</th>\n",
       "      <th>P(U)</th>\n",
       "      <th>P_Diff</th>\n",
       "      <th>Porc_Over_Home</th>\n",
       "      <th>Porc_Over_Away</th>\n",
       "      <th>CustoGolHome</th>\n",
       "      <th>CustoGolAway</th>\n",
       "      <th>Avg_CG_H</th>\n",
       "      <th>DP_CG_H</th>\n",
       "      <th>CV_CG_H</th>\n",
       "      <th>Avg_CG_A</th>\n",
       "      <th>DP_CG_A</th>\n",
       "      <th>CV_CG_A</th>\n",
       "      <th>MediaCustoGolHome</th>\n",
       "      <th>MediaCustoGolAway</th>\n",
       "      <th>Last_CG_H</th>\n",
       "      <th>Last_CG_A</th>\n",
       "      <th>Acima_Last_CG_H</th>\n",
       "      <th>Acima_Last_CG_A</th>\n",
       "      <th>Abaixo_Last_CG_H</th>\n",
       "      <th>Abaixo_Last_CG_A</th>\n",
       "      <th>CV_ML</th>\n",
       "      <th>CV_Over</th>\n",
       "      <th>CV_HA</th>\n",
       "      <th>Retornos_BH_Acu</th>\n",
       "      <th>Avg_Retornos_BH</th>\n",
       "      <th>Custo_Retorno_BH</th>\n",
       "      <th>Avg_Porc_BH_Bookie</th>\n",
       "      <th>Avg_Porc_BH_Real</th>\n",
       "      <th>Dist_Porc_BH</th>\n",
       "      <th>Retornos_BA_Acu</th>\n",
       "      <th>Avg_Retornos_BA</th>\n",
       "      <th>Custo_Retorno_BA</th>\n",
       "      <th>Avg_Porc_BA_Bookie</th>\n",
       "      <th>Avg_Porc_BA_Real</th>\n",
       "      <th>Dist_Porc_BA</th>\n",
       "    </tr>\n",
       "  </thead>\n",
       "  <tbody>\n",
       "    <tr>\n",
       "      <th>8433</th>\n",
       "      <td>2024-05-13</td>\n",
       "      <td>Eua Nba</td>\n",
       "      <td>20:00</td>\n",
       "      <td>Cleveland Cavaliers</td>\n",
       "      <td>Boston Celtics</td>\n",
       "      <td>3.67</td>\n",
       "      <td>1.31</td>\n",
       "      <td>207.5</td>\n",
       "      <td>1.80</td>\n",
       "      <td>1.95</td>\n",
       "      <td>6.5</td>\n",
       "      <td>2.05</td>\n",
       "      <td>1.08</td>\n",
       "      <td>vcMXAHxR</td>\n",
       "      <td>0.272480</td>\n",
       "      <td>0.763359</td>\n",
       "      <td>0.555556</td>\n",
       "      <td>0.512821</td>\n",
       "      <td>0.035838</td>\n",
       "      <td>0.8</td>\n",
       "      <td>0.2</td>\n",
       "      <td>NaN</td>\n",
       "      <td>NaN</td>\n",
       "      <td>221.336</td>\n",
       "      <td>78.571467</td>\n",
       "      <td>0.354987</td>\n",
       "      <td>150.016</td>\n",
       "      <td>20.449877</td>\n",
       "      <td>0.136318</td>\n",
       "      <td>208.020</td>\n",
       "      <td>155.544</td>\n",
       "      <td>351.54</td>\n",
       "      <td>137.80</td>\n",
       "      <td>1.0</td>\n",
       "      <td>0.0</td>\n",
       "      <td>0.0</td>\n",
       "      <td>0.0</td>\n",
       "      <td>0.670190</td>\n",
       "      <td>0.056569</td>\n",
       "      <td>0.438271</td>\n",
       "      <td>-0.30</td>\n",
       "      <td>-0.060</td>\n",
       "      <td>-44.500000</td>\n",
       "      <td>0.604518</td>\n",
       "      <td>0.6</td>\n",
       "      <td>-0.004518</td>\n",
       "      <td>-1.01</td>\n",
       "      <td>-0.202</td>\n",
       "      <td>-1.534653</td>\n",
       "      <td>0.693725</td>\n",
       "      <td>0.8</td>\n",
       "      <td>0.106275</td>\n",
       "    </tr>\n",
       "    <tr>\n",
       "      <th>8434</th>\n",
       "      <td>2024-05-13</td>\n",
       "      <td>Eua Nba</td>\n",
       "      <td>22:30</td>\n",
       "      <td>Dallas Mavericks</td>\n",
       "      <td>Oklahoma City Thunder</td>\n",
       "      <td>1.85</td>\n",
       "      <td>2.02</td>\n",
       "      <td>214.5</td>\n",
       "      <td>1.80</td>\n",
       "      <td>1.95</td>\n",
       "      <td>-2.5</td>\n",
       "      <td>2.00</td>\n",
       "      <td>2.30</td>\n",
       "      <td>Io2yKiA5</td>\n",
       "      <td>0.540541</td>\n",
       "      <td>0.495050</td>\n",
       "      <td>0.555556</td>\n",
       "      <td>0.512821</td>\n",
       "      <td>0.035590</td>\n",
       "      <td>0.2</td>\n",
       "      <td>0.4</td>\n",
       "      <td>NaN</td>\n",
       "      <td>NaN</td>\n",
       "      <td>181.574</td>\n",
       "      <td>32.952212</td>\n",
       "      <td>0.181481</td>\n",
       "      <td>191.066</td>\n",
       "      <td>30.669919</td>\n",
       "      <td>0.160520</td>\n",
       "      <td>178.092</td>\n",
       "      <td>222.122</td>\n",
       "      <td>174.30</td>\n",
       "      <td>233.31</td>\n",
       "      <td>0.0</td>\n",
       "      <td>0.0</td>\n",
       "      <td>0.0</td>\n",
       "      <td>0.0</td>\n",
       "      <td>0.062123</td>\n",
       "      <td>0.056569</td>\n",
       "      <td>0.098666</td>\n",
       "      <td>3.34</td>\n",
       "      <td>0.668</td>\n",
       "      <td>1.272455</td>\n",
       "      <td>0.672556</td>\n",
       "      <td>1.0</td>\n",
       "      <td>0.327444</td>\n",
       "      <td>0.57</td>\n",
       "      <td>0.114</td>\n",
       "      <td>8.947368</td>\n",
       "      <td>0.533459</td>\n",
       "      <td>0.6</td>\n",
       "      <td>0.066541</td>\n",
       "    </tr>\n",
       "    <tr>\n",
       "      <th>8435</th>\n",
       "      <td>2024-05-13</td>\n",
       "      <td>Colômbia Lbp</td>\n",
       "      <td>21:40</td>\n",
       "      <td>Corsarios Cartagena</td>\n",
       "      <td>Cimarrones del Choco</td>\n",
       "      <td>1.83</td>\n",
       "      <td>1.89</td>\n",
       "      <td>145.5</td>\n",
       "      <td>1.85</td>\n",
       "      <td>1.85</td>\n",
       "      <td>-1.5</td>\n",
       "      <td>1.97</td>\n",
       "      <td>2.05</td>\n",
       "      <td>U74C8mrf</td>\n",
       "      <td>0.546448</td>\n",
       "      <td>0.529101</td>\n",
       "      <td>0.540541</td>\n",
       "      <td>0.540541</td>\n",
       "      <td>0.075549</td>\n",
       "      <td>0.0</td>\n",
       "      <td>0.0</td>\n",
       "      <td>NaN</td>\n",
       "      <td>NaN</td>\n",
       "      <td>NaN</td>\n",
       "      <td>NaN</td>\n",
       "      <td>NaN</td>\n",
       "      <td>NaN</td>\n",
       "      <td>NaN</td>\n",
       "      <td>NaN</td>\n",
       "      <td>0.000</td>\n",
       "      <td>0.000</td>\n",
       "      <td>0.00</td>\n",
       "      <td>0.00</td>\n",
       "      <td>0.0</td>\n",
       "      <td>0.0</td>\n",
       "      <td>0.0</td>\n",
       "      <td>0.0</td>\n",
       "      <td>0.022810</td>\n",
       "      <td>0.000000</td>\n",
       "      <td>0.028144</td>\n",
       "      <td>0.00</td>\n",
       "      <td>0.000</td>\n",
       "      <td>inf</td>\n",
       "      <td>0.000000</td>\n",
       "      <td>0.0</td>\n",
       "      <td>0.000000</td>\n",
       "      <td>0.00</td>\n",
       "      <td>0.000</td>\n",
       "      <td>inf</td>\n",
       "      <td>0.000000</td>\n",
       "      <td>0.0</td>\n",
       "      <td>0.000000</td>\n",
       "    </tr>\n",
       "    <tr>\n",
       "      <th>8436</th>\n",
       "      <td>2024-05-13</td>\n",
       "      <td>Estônia Korvpalli Meistriliiga</td>\n",
       "      <td>13:00</td>\n",
       "      <td>Pärnu</td>\n",
       "      <td>Tartu Ulikool</td>\n",
       "      <td>2.29</td>\n",
       "      <td>1.58</td>\n",
       "      <td>153.5</td>\n",
       "      <td>1.85</td>\n",
       "      <td>1.85</td>\n",
       "      <td>2.5</td>\n",
       "      <td>1.97</td>\n",
       "      <td>1.63</td>\n",
       "      <td>hhEH4aOp</td>\n",
       "      <td>0.436681</td>\n",
       "      <td>0.632911</td>\n",
       "      <td>0.540541</td>\n",
       "      <td>0.540541</td>\n",
       "      <td>0.069593</td>\n",
       "      <td>0.0</td>\n",
       "      <td>0.0</td>\n",
       "      <td>NaN</td>\n",
       "      <td>NaN</td>\n",
       "      <td>NaN</td>\n",
       "      <td>NaN</td>\n",
       "      <td>NaN</td>\n",
       "      <td>NaN</td>\n",
       "      <td>NaN</td>\n",
       "      <td>NaN</td>\n",
       "      <td>0.000</td>\n",
       "      <td>0.000</td>\n",
       "      <td>159.90</td>\n",
       "      <td>146.20</td>\n",
       "      <td>0.0</td>\n",
       "      <td>0.0</td>\n",
       "      <td>0.0</td>\n",
       "      <td>0.0</td>\n",
       "      <td>0.259455</td>\n",
       "      <td>0.000000</td>\n",
       "      <td>0.133565</td>\n",
       "      <td>0.00</td>\n",
       "      <td>0.000</td>\n",
       "      <td>inf</td>\n",
       "      <td>0.000000</td>\n",
       "      <td>0.0</td>\n",
       "      <td>0.000000</td>\n",
       "      <td>0.00</td>\n",
       "      <td>0.000</td>\n",
       "      <td>inf</td>\n",
       "      <td>0.000000</td>\n",
       "      <td>0.0</td>\n",
       "      <td>0.000000</td>\n",
       "    </tr>\n",
       "  </tbody>\n",
       "</table>\n",
       "</div>"
      ],
      "text/plain": [
       "            Date                          League   Time                 Home  \\\n",
       "8433  2024-05-13                         Eua Nba  20:00  Cleveland Cavaliers   \n",
       "8434  2024-05-13                         Eua Nba  22:30     Dallas Mavericks   \n",
       "8435  2024-05-13                    Colômbia Lbp  21:40  Corsarios Cartagena   \n",
       "8436  2024-05-13  Estônia Korvpalli Meistriliiga  13:00                Pärnu   \n",
       "\n",
       "                       Away  Odds_H  Odds_A  Over_Line  Odds_Over  Odds_Under  \\\n",
       "8433         Boston Celtics    3.67    1.31      207.5       1.80        1.95   \n",
       "8434  Oklahoma City Thunder    1.85    2.02      214.5       1.80        1.95   \n",
       "8435   Cimarrones del Choco    1.83    1.89      145.5       1.85        1.85   \n",
       "8436          Tartu Ulikool    2.29    1.58      153.5       1.85        1.85   \n",
       "\n",
       "      HA_Line  HA_Odds_H  HA_Odds_A Fixture ID      P(H)      P(A)      P(O)  \\\n",
       "8433      6.5       2.05       1.08   vcMXAHxR  0.272480  0.763359  0.555556   \n",
       "8434     -2.5       2.00       2.30   Io2yKiA5  0.540541  0.495050  0.555556   \n",
       "8435     -1.5       1.97       2.05   U74C8mrf  0.546448  0.529101  0.540541   \n",
       "8436      2.5       1.97       1.63   hhEH4aOp  0.436681  0.632911  0.540541   \n",
       "\n",
       "          P(U)    P_Diff  Porc_Over_Home  Porc_Over_Away  CustoGolHome  \\\n",
       "8433  0.512821  0.035838             0.8             0.2           NaN   \n",
       "8434  0.512821  0.035590             0.2             0.4           NaN   \n",
       "8435  0.540541  0.075549             0.0             0.0           NaN   \n",
       "8436  0.540541  0.069593             0.0             0.0           NaN   \n",
       "\n",
       "      CustoGolAway  Avg_CG_H    DP_CG_H   CV_CG_H  Avg_CG_A    DP_CG_A  \\\n",
       "8433           NaN   221.336  78.571467  0.354987   150.016  20.449877   \n",
       "8434           NaN   181.574  32.952212  0.181481   191.066  30.669919   \n",
       "8435           NaN       NaN        NaN       NaN       NaN        NaN   \n",
       "8436           NaN       NaN        NaN       NaN       NaN        NaN   \n",
       "\n",
       "       CV_CG_A  MediaCustoGolHome  MediaCustoGolAway  Last_CG_H  Last_CG_A  \\\n",
       "8433  0.136318            208.020            155.544     351.54     137.80   \n",
       "8434  0.160520            178.092            222.122     174.30     233.31   \n",
       "8435       NaN              0.000              0.000       0.00       0.00   \n",
       "8436       NaN              0.000              0.000     159.90     146.20   \n",
       "\n",
       "      Acima_Last_CG_H  Acima_Last_CG_A  Abaixo_Last_CG_H  Abaixo_Last_CG_A  \\\n",
       "8433              1.0              0.0               0.0               0.0   \n",
       "8434              0.0              0.0               0.0               0.0   \n",
       "8435              0.0              0.0               0.0               0.0   \n",
       "8436              0.0              0.0               0.0               0.0   \n",
       "\n",
       "         CV_ML   CV_Over     CV_HA  Retornos_BH_Acu  Avg_Retornos_BH  \\\n",
       "8433  0.670190  0.056569  0.438271            -0.30           -0.060   \n",
       "8434  0.062123  0.056569  0.098666             3.34            0.668   \n",
       "8435  0.022810  0.000000  0.028144             0.00            0.000   \n",
       "8436  0.259455  0.000000  0.133565             0.00            0.000   \n",
       "\n",
       "      Custo_Retorno_BH  Avg_Porc_BH_Bookie  Avg_Porc_BH_Real  Dist_Porc_BH  \\\n",
       "8433        -44.500000            0.604518               0.6     -0.004518   \n",
       "8434          1.272455            0.672556               1.0      0.327444   \n",
       "8435               inf            0.000000               0.0      0.000000   \n",
       "8436               inf            0.000000               0.0      0.000000   \n",
       "\n",
       "      Retornos_BA_Acu  Avg_Retornos_BA  Custo_Retorno_BA  Avg_Porc_BA_Bookie  \\\n",
       "8433            -1.01           -0.202         -1.534653            0.693725   \n",
       "8434             0.57            0.114          8.947368            0.533459   \n",
       "8435             0.00            0.000               inf            0.000000   \n",
       "8436             0.00            0.000               inf            0.000000   \n",
       "\n",
       "      Avg_Porc_BA_Real  Dist_Porc_BA  \n",
       "8433               0.8      0.106275  \n",
       "8434               0.6      0.066541  \n",
       "8435               0.0      0.000000  \n",
       "8436               0.0      0.000000  "
      ]
     },
     "execution_count": 8,
     "metadata": {},
     "output_type": "execute_result"
    }
   ],
   "source": [
    "jogos = games[games['Date'] == data_var]\n",
    "\n",
    "jogos = jogos.drop(columns=['Home_Pts', 'Away_Pts',\n",
    "       'Back_Home', 'PL_Home', 'Back_Away',\n",
    "       'PL_Away', 'Back_Over', 'PL_Over', 'PL_Under', 'Back_HA_H', 'PL_HA_H',\n",
    "       'PL_HA_A', ])\n",
    "\n",
    "jogos"
   ]
  },
  {
   "attachments": {},
   "cell_type": "markdown",
   "id": "08aa1c88",
   "metadata": {
    "papermill": {
     "duration": 0.001997,
     "end_time": "2024-05-13T13:03:43.024200",
     "exception": false,
     "start_time": "2024-05-13T13:03:43.022203",
     "status": "completed"
    },
    "tags": []
   },
   "source": [
    "## Apostas do dia"
   ]
  },
  {
   "cell_type": "markdown",
   "id": "b24569b1",
   "metadata": {
    "papermill": {
     "duration": 0.00201,
     "end_time": "2024-05-13T13:03:43.028710",
     "exception": false,
     "start_time": "2024-05-13T13:03:43.026700",
     "status": "completed"
    },
    "tags": []
   },
   "source": [
    "### Over v0 (LDA)"
   ]
  },
  {
   "cell_type": "code",
   "execution_count": 9,
   "id": "6f144103",
   "metadata": {
    "execution": {
     "iopub.execute_input": "2024-05-13T13:03:43.034710Z",
     "iopub.status.busy": "2024-05-13T13:03:43.034213Z",
     "iopub.status.idle": "2024-05-13T13:03:43.233979Z",
     "shell.execute_reply": "2024-05-13T13:03:43.233478Z"
    },
    "papermill": {
     "duration": 0.204766,
     "end_time": "2024-05-13T13:03:43.235478",
     "exception": false,
     "start_time": "2024-05-13T13:03:43.030712",
     "status": "completed"
    },
    "tags": []
   },
   "outputs": [
    {
     "name": "stdout",
     "output_type": "stream",
     "text": [
      "------------ MÉTODO OVER V0 (LDA) ------------\n",
      "\n"
     ]
    },
    {
     "data": {
      "text/html": [
       "<div>\n",
       "<style scoped>\n",
       "    .dataframe tbody tr th:only-of-type {\n",
       "        vertical-align: middle;\n",
       "    }\n",
       "\n",
       "    .dataframe tbody tr th {\n",
       "        vertical-align: top;\n",
       "    }\n",
       "\n",
       "    .dataframe thead th {\n",
       "        text-align: right;\n",
       "    }\n",
       "</style>\n",
       "<table border=\"1\" class=\"dataframe\">\n",
       "  <thead>\n",
       "    <tr style=\"text-align: right;\">\n",
       "      <th></th>\n",
       "      <th>Time</th>\n",
       "      <th>League</th>\n",
       "      <th>Home</th>\n",
       "      <th>Away</th>\n",
       "      <th>Over_Line</th>\n",
       "      <th>Odds_Over</th>\n",
       "      <th>prediction_score</th>\n",
       "      <th>Bet</th>\n",
       "    </tr>\n",
       "  </thead>\n",
       "  <tbody>\n",
       "    <tr>\n",
       "      <th>0</th>\n",
       "      <td>22:30</td>\n",
       "      <td>Eua Nba</td>\n",
       "      <td>Dallas Mavericks</td>\n",
       "      <td>Oklahoma City Thunder</td>\n",
       "      <td>214.5</td>\n",
       "      <td>1.80</td>\n",
       "      <td>1.0</td>\n",
       "      <td>Over</td>\n",
       "    </tr>\n",
       "    <tr>\n",
       "      <th>1</th>\n",
       "      <td>21:40</td>\n",
       "      <td>Colômbia Lbp</td>\n",
       "      <td>Corsarios Cartagena</td>\n",
       "      <td>Cimarrones del Choco</td>\n",
       "      <td>145.5</td>\n",
       "      <td>1.85</td>\n",
       "      <td>1.0</td>\n",
       "      <td>Over</td>\n",
       "    </tr>\n",
       "  </tbody>\n",
       "</table>\n",
       "</div>"
      ],
      "text/plain": [
       "    Time        League                 Home                   Away  Over_Line  \\\n",
       "0  22:30       Eua Nba     Dallas Mavericks  Oklahoma City Thunder      214.5   \n",
       "1  21:40  Colômbia Lbp  Corsarios Cartagena   Cimarrones del Choco      145.5   \n",
       "\n",
       "   Odds_Over  prediction_score   Bet  \n",
       "0       1.80               1.0  Over  \n",
       "1       1.85               1.0  Over  "
      ]
     },
     "metadata": {},
     "output_type": "display_data"
    },
    {
     "name": "stdout",
     "output_type": "stream",
     "text": [
      "\n"
     ]
    }
   ],
   "source": [
    "# Duplicando o dataset\n",
    "df_over_v0 = jogos.copy()\n",
    "\n",
    "df_over_v0.reset_index(drop=True, inplace=True)\n",
    "df_over_v0.replace([np.inf, -np.inf], 0, inplace=True)\n",
    "\n",
    "if not df_over_v0.empty:\n",
    "    mdl_over_v0 = load_model('ML/over/v1/v1_over', verbose=False)\n",
    "    prev = predict_model(mdl_over_v0, df_over_v0)\n",
    "    prev = prev[prev['prediction_label'] ==  1]\n",
    "    prev.reset_index(drop=True, inplace=True)\n",
    "    \n",
    "    # Filtros pós modelo\n",
    "\n",
    "    if not prev.empty:\n",
    "        prev.to_csv(f'apostas_do_dia/{data_var}/over_v0_{data_var}.csv', index=False)\n",
    "\n",
    "        print('------------ MÉTODO OVER V0 (LDA) ------------')\n",
    "        print()\n",
    "\n",
    "        prev['Bet'] = 'Over'\n",
    "        ligs = prev['League'].unique().tolist()\n",
    "\n",
    "        display(prev[['Time', 'League', 'Home', 'Away', 'Over_Line', 'Odds_Over', 'prediction_score', 'Bet']])\n",
    "        print()\n",
    "    else: print('Sem jogos')\n",
    "else: print('Sem jogos')"
   ]
  }
 ],
 "metadata": {
  "kernelspec": {
   "display_name": "modelos_futebol",
   "language": "python",
   "name": "python3"
  },
  "language_info": {
   "codemirror_mode": {
    "name": "ipython",
    "version": 3
   },
   "file_extension": ".py",
   "mimetype": "text/x-python",
   "name": "python",
   "nbconvert_exporter": "python",
   "pygments_lexer": "ipython3",
   "version": "3.10.7"
  },
  "papermill": {
   "default_parameters": {},
   "duration": 46.149843,
   "end_time": "2024-05-13T13:03:43.700949",
   "environment_variables": {},
   "exception": null,
   "input_path": "apostas_do_dia_v1.ipynb",
   "output_path": "apostas_do_dia_v1.ipynb",
   "parameters": {
    "data_var": "2024-05-13"
   },
   "start_time": "2024-05-13T13:02:57.551106",
   "version": "2.5.0"
  }
 },
 "nbformat": 4,
 "nbformat_minor": 5
}