{
 "cells": [
  {
   "cell_type": "code",
   "execution_count": 1,
   "id": "d690e842",
   "metadata": {
    "execution": {
     "iopub.execute_input": "2024-07-01T13:03:08.281457Z",
     "iopub.status.busy": "2024-07-01T13:03:08.281457Z",
     "iopub.status.idle": "2024-07-01T13:03:08.294772Z",
     "shell.execute_reply": "2024-07-01T13:03:08.293725Z"
    },
    "papermill": {
     "duration": 0.018336,
     "end_time": "2024-07-01T13:03:08.296253",
     "exception": false,
     "start_time": "2024-07-01T13:03:08.277917",
     "status": "completed"
    },
    "tags": [
     "parameters"
    ]
   },
   "outputs": [],
   "source": [
    "data_var = ''"
   ]
  },
  {
   "cell_type": "code",
   "execution_count": 2,
   "id": "087b759b",
   "metadata": {
    "execution": {
     "iopub.execute_input": "2024-07-01T13:03:08.301256Z",
     "iopub.status.busy": "2024-07-01T13:03:08.301256Z",
     "iopub.status.idle": "2024-07-01T13:03:08.310092Z",
     "shell.execute_reply": "2024-07-01T13:03:08.309563Z"
    },
    "papermill": {
     "duration": 0.012856,
     "end_time": "2024-07-01T13:03:08.311109",
     "exception": false,
     "start_time": "2024-07-01T13:03:08.298253",
     "status": "completed"
    },
    "tags": [
     "injected-parameters"
    ]
   },
   "outputs": [],
   "source": [
    "# Parameters\n",
    "data_var = \"2024-07-01\"\n"
   ]
  },
  {
   "cell_type": "code",
   "execution_count": 3,
   "id": "25b97174",
   "metadata": {
    "execution": {
     "iopub.execute_input": "2024-07-01T13:03:08.315597Z",
     "iopub.status.busy": "2024-07-01T13:03:08.315098Z",
     "iopub.status.idle": "2024-07-01T13:03:14.060045Z",
     "shell.execute_reply": "2024-07-01T13:03:14.059527Z"
    },
    "papermill": {
     "duration": 5.748445,
     "end_time": "2024-07-01T13:03:14.061543",
     "exception": false,
     "start_time": "2024-07-01T13:03:08.313098",
     "status": "completed"
    },
    "tags": []
   },
   "outputs": [],
   "source": [
    "import pandas as pd; pd.set_option('display.max_columns', None)\n",
    "import os\n",
    "from pycaret.classification import *\n",
    "from scripts.PreparaDataset import *\n",
    "from scripts.TeoriaRetornos import *"
   ]
  },
  {
   "attachments": {},
   "cell_type": "markdown",
   "id": "ffa9b361",
   "metadata": {
    "papermill": {
     "duration": 0.002,
     "end_time": "2024-07-01T13:03:14.065543",
     "exception": false,
     "start_time": "2024-07-01T13:03:14.063543",
     "status": "completed"
    },
    "tags": []
   },
   "source": [
    "### Funções"
   ]
  },
  {
   "cell_type": "code",
   "execution_count": 4,
   "id": "cb6eea9b",
   "metadata": {
    "execution": {
     "iopub.execute_input": "2024-07-01T13:03:14.070546Z",
     "iopub.status.busy": "2024-07-01T13:03:14.070045Z",
     "iopub.status.idle": "2024-07-01T13:03:14.075423Z",
     "shell.execute_reply": "2024-07-01T13:03:14.074898Z"
    },
    "papermill": {
     "duration": 0.009372,
     "end_time": "2024-07-01T13:03:14.076916",
     "exception": false,
     "start_time": "2024-07-01T13:03:14.067544",
     "status": "completed"
    },
    "tags": []
   },
   "outputs": [],
   "source": [
    "def atualiza_dia(_jogos):\n",
    "    _jogos = prepara_df(_jogos)\n",
    "\n",
    "    _jogos = _jogos.reset_index(drop=True)\n",
    "\n",
    "    return _jogos"
   ]
  },
  {
   "attachments": {},
   "cell_type": "markdown",
   "id": "26b16874",
   "metadata": {
    "papermill": {
     "duration": 0.002,
     "end_time": "2024-07-01T13:03:14.080416",
     "exception": false,
     "start_time": "2024-07-01T13:03:14.078416",
     "status": "completed"
    },
    "tags": []
   },
   "source": [
    "### Pegando os jogos do dia"
   ]
  },
  {
   "cell_type": "code",
   "execution_count": 5,
   "id": "5ddb2ecb",
   "metadata": {
    "execution": {
     "iopub.execute_input": "2024-07-01T13:03:14.084420Z",
     "iopub.status.busy": "2024-07-01T13:03:14.084420Z",
     "iopub.status.idle": "2024-07-01T13:03:14.106223Z",
     "shell.execute_reply": "2024-07-01T13:03:14.105704Z"
    },
    "papermill": {
     "duration": 0.025808,
     "end_time": "2024-07-01T13:03:14.107724",
     "exception": false,
     "start_time": "2024-07-01T13:03:14.081916",
     "status": "completed"
    },
    "tags": []
   },
   "outputs": [],
   "source": [
    "df_today = pd.read_csv(f'jogos_do_dia/{data_var}.csv')"
   ]
  },
  {
   "cell_type": "markdown",
   "id": "19a2214d",
   "metadata": {
    "papermill": {
     "duration": 0.001498,
     "end_time": "2024-07-01T13:03:14.111222",
     "exception": false,
     "start_time": "2024-07-01T13:03:14.109724",
     "status": "completed"
    },
    "tags": []
   },
   "source": [
    "### Atualizando os datasets que tem jogo hoje"
   ]
  },
  {
   "cell_type": "code",
   "execution_count": 6,
   "id": "68bd72ae",
   "metadata": {
    "execution": {
     "iopub.execute_input": "2024-07-01T13:03:14.116229Z",
     "iopub.status.busy": "2024-07-01T13:03:14.115722Z",
     "iopub.status.idle": "2024-07-01T13:03:14.183885Z",
     "shell.execute_reply": "2024-07-01T13:03:14.182862Z"
    },
    "papermill": {
     "duration": 0.07216,
     "end_time": "2024-07-01T13:03:14.185382",
     "exception": false,
     "start_time": "2024-07-01T13:03:14.113222",
     "status": "completed"
    },
    "tags": []
   },
   "outputs": [],
   "source": [
    "temporada = pd.read_csv('data/Entire_Season.csv')\n",
    "temporada = temporada[temporada['Date'] < data_var]\n",
    "temporada = pd.concat([temporada, df_today])\n",
    "ligas = df_today['League'].unique().tolist()\n",
    "temporada = temporada[temporada['League'].isin(ligas)]\n",
    "temporada.reset_index(drop=True, inplace=True)"
   ]
  },
  {
   "cell_type": "markdown",
   "id": "0d8018ca",
   "metadata": {
    "papermill": {
     "duration": 0.001543,
     "end_time": "2024-07-01T13:03:14.189896",
     "exception": false,
     "start_time": "2024-07-01T13:03:14.188353",
     "status": "completed"
    },
    "tags": []
   },
   "source": [
    "### Cria variáveis na temporada e nos jogos do dia"
   ]
  },
  {
   "cell_type": "code",
   "execution_count": 7,
   "id": "d3b06cb1",
   "metadata": {
    "execution": {
     "iopub.execute_input": "2024-07-01T13:03:14.194389Z",
     "iopub.status.busy": "2024-07-01T13:03:14.194389Z",
     "iopub.status.idle": "2024-07-01T13:03:14.431219Z",
     "shell.execute_reply": "2024-07-01T13:03:14.430715Z"
    },
    "papermill": {
     "duration": 0.24083,
     "end_time": "2024-07-01T13:03:14.432715",
     "exception": false,
     "start_time": "2024-07-01T13:03:14.191885",
     "status": "completed"
    },
    "tags": []
   },
   "outputs": [],
   "source": [
    "games = atualiza_dia(temporada)\n",
    "temporada = games[games['Date'] < data_var]\n",
    "os.makedirs(f'apostas_do_dia/{data_var}', exist_ok=True)"
   ]
  },
  {
   "cell_type": "code",
   "execution_count": 8,
   "id": "16aa533f",
   "metadata": {
    "execution": {
     "iopub.execute_input": "2024-07-01T13:03:14.437716Z",
     "iopub.status.busy": "2024-07-01T13:03:14.437220Z",
     "iopub.status.idle": "2024-07-01T13:03:14.478266Z",
     "shell.execute_reply": "2024-07-01T13:03:14.477231Z"
    },
    "papermill": {
     "duration": 0.044551,
     "end_time": "2024-07-01T13:03:14.479266",
     "exception": false,
     "start_time": "2024-07-01T13:03:14.434715",
     "status": "completed"
    },
    "tags": []
   },
   "outputs": [
    {
     "data": {
      "text/html": [
       "<div>\n",
       "<style scoped>\n",
       "    .dataframe tbody tr th:only-of-type {\n",
       "        vertical-align: middle;\n",
       "    }\n",
       "\n",
       "    .dataframe tbody tr th {\n",
       "        vertical-align: top;\n",
       "    }\n",
       "\n",
       "    .dataframe thead th {\n",
       "        text-align: right;\n",
       "    }\n",
       "</style>\n",
       "<table border=\"1\" class=\"dataframe\">\n",
       "  <thead>\n",
       "    <tr style=\"text-align: right;\">\n",
       "      <th></th>\n",
       "      <th>Date</th>\n",
       "      <th>League</th>\n",
       "      <th>Time</th>\n",
       "      <th>Home</th>\n",
       "      <th>Away</th>\n",
       "      <th>Odds_H</th>\n",
       "      <th>Odds_A</th>\n",
       "      <th>Over_Line</th>\n",
       "      <th>Odds_Over</th>\n",
       "      <th>Odds_Under</th>\n",
       "      <th>HA_Line</th>\n",
       "      <th>HA_Odds_H</th>\n",
       "      <th>HA_Odds_A</th>\n",
       "      <th>Fixture ID</th>\n",
       "      <th>P(H)</th>\n",
       "      <th>P(A)</th>\n",
       "      <th>P(O)</th>\n",
       "      <th>P(U)</th>\n",
       "      <th>P_Diff</th>\n",
       "      <th>Porc_Over_Home</th>\n",
       "      <th>Porc_Over_Away</th>\n",
       "      <th>CustoGolHome</th>\n",
       "      <th>CustoGolAway</th>\n",
       "      <th>Avg_CG_H</th>\n",
       "      <th>DP_CG_H</th>\n",
       "      <th>CV_CG_H</th>\n",
       "      <th>Avg_CG_A</th>\n",
       "      <th>DP_CG_A</th>\n",
       "      <th>CV_CG_A</th>\n",
       "      <th>MediaCustoGolHome</th>\n",
       "      <th>MediaCustoGolAway</th>\n",
       "      <th>Last_CG_H</th>\n",
       "      <th>Last_CG_A</th>\n",
       "      <th>Acima_Last_CG_H</th>\n",
       "      <th>Acima_Last_CG_A</th>\n",
       "      <th>Abaixo_Last_CG_H</th>\n",
       "      <th>Abaixo_Last_CG_A</th>\n",
       "      <th>CV_ML</th>\n",
       "      <th>CV_Over</th>\n",
       "      <th>CV_HA</th>\n",
       "      <th>Retornos_BH_Acu</th>\n",
       "      <th>Avg_Retornos_BH</th>\n",
       "      <th>Custo_Retorno_BH</th>\n",
       "      <th>Avg_Porc_BH_Bookie</th>\n",
       "      <th>Avg_Porc_BH_Real</th>\n",
       "      <th>Dist_Porc_BH</th>\n",
       "      <th>Retornos_BA_Acu</th>\n",
       "      <th>Avg_Retornos_BA</th>\n",
       "      <th>Custo_Retorno_BA</th>\n",
       "      <th>Avg_Porc_BA_Bookie</th>\n",
       "      <th>Avg_Porc_BA_Real</th>\n",
       "      <th>Dist_Porc_BA</th>\n",
       "    </tr>\n",
       "  </thead>\n",
       "  <tbody>\n",
       "    <tr>\n",
       "      <th>142</th>\n",
       "      <td>2024-07-01</td>\n",
       "      <td>Austrália Nbl1 Sul</td>\n",
       "      <td>07:00</td>\n",
       "      <td>Ringwood</td>\n",
       "      <td>Waverley</td>\n",
       "      <td>2.20</td>\n",
       "      <td>1.62</td>\n",
       "      <td>177.5</td>\n",
       "      <td>1.81</td>\n",
       "      <td>1.98</td>\n",
       "      <td>1.5</td>\n",
       "      <td>2.01</td>\n",
       "      <td>1.65</td>\n",
       "      <td>fikK7mfI</td>\n",
       "      <td>0.454545</td>\n",
       "      <td>0.617284</td>\n",
       "      <td>0.552486</td>\n",
       "      <td>0.505051</td>\n",
       "      <td>0.071829</td>\n",
       "      <td>0.0</td>\n",
       "      <td>0.0</td>\n",
       "      <td>NaN</td>\n",
       "      <td>NaN</td>\n",
       "      <td>NaN</td>\n",
       "      <td>NaN</td>\n",
       "      <td>NaN</td>\n",
       "      <td>NaN</td>\n",
       "      <td>NaN</td>\n",
       "      <td>NaN</td>\n",
       "      <td>0.0</td>\n",
       "      <td>0.0</td>\n",
       "      <td>171.38</td>\n",
       "      <td>192.40</td>\n",
       "      <td>0.0</td>\n",
       "      <td>0.0</td>\n",
       "      <td>0.0</td>\n",
       "      <td>0.0</td>\n",
       "      <td>0.214724</td>\n",
       "      <td>0.063434</td>\n",
       "      <td>0.139103</td>\n",
       "      <td>0.0</td>\n",
       "      <td>0.0</td>\n",
       "      <td>inf</td>\n",
       "      <td>0.0</td>\n",
       "      <td>0.0</td>\n",
       "      <td>0.0</td>\n",
       "      <td>0.0</td>\n",
       "      <td>0.0</td>\n",
       "      <td>inf</td>\n",
       "      <td>0.0</td>\n",
       "      <td>0.0</td>\n",
       "      <td>0.0</td>\n",
       "    </tr>\n",
       "    <tr>\n",
       "      <th>143</th>\n",
       "      <td>2024-07-01</td>\n",
       "      <td>Austrália Nbl1 Sul</td>\n",
       "      <td>05:00</td>\n",
       "      <td>Ringwood F</td>\n",
       "      <td>Waverley F</td>\n",
       "      <td>2.26</td>\n",
       "      <td>1.59</td>\n",
       "      <td>149.5</td>\n",
       "      <td>1.80</td>\n",
       "      <td>1.88</td>\n",
       "      <td>-2.5</td>\n",
       "      <td>1.95</td>\n",
       "      <td>1.92</td>\n",
       "      <td>lOXYADHD</td>\n",
       "      <td>0.442478</td>\n",
       "      <td>0.628931</td>\n",
       "      <td>0.555556</td>\n",
       "      <td>0.531915</td>\n",
       "      <td>0.071409</td>\n",
       "      <td>0.0</td>\n",
       "      <td>0.0</td>\n",
       "      <td>NaN</td>\n",
       "      <td>NaN</td>\n",
       "      <td>133.912</td>\n",
       "      <td>41.303573</td>\n",
       "      <td>0.308438</td>\n",
       "      <td>NaN</td>\n",
       "      <td>NaN</td>\n",
       "      <td>NaN</td>\n",
       "      <td>0.0</td>\n",
       "      <td>0.0</td>\n",
       "      <td>126.72</td>\n",
       "      <td>0.00</td>\n",
       "      <td>0.0</td>\n",
       "      <td>0.0</td>\n",
       "      <td>0.0</td>\n",
       "      <td>0.0</td>\n",
       "      <td>0.246110</td>\n",
       "      <td>0.030744</td>\n",
       "      <td>0.010963</td>\n",
       "      <td>0.0</td>\n",
       "      <td>0.0</td>\n",
       "      <td>inf</td>\n",
       "      <td>0.0</td>\n",
       "      <td>0.0</td>\n",
       "      <td>0.0</td>\n",
       "      <td>0.0</td>\n",
       "      <td>0.0</td>\n",
       "      <td>inf</td>\n",
       "      <td>0.0</td>\n",
       "      <td>0.0</td>\n",
       "      <td>0.0</td>\n",
       "    </tr>\n",
       "    <tr>\n",
       "      <th>144</th>\n",
       "      <td>2024-07-01</td>\n",
       "      <td>Eua Wnba</td>\n",
       "      <td>23:00</td>\n",
       "      <td>Phoenix Mercury F</td>\n",
       "      <td>Connecticut Sun F</td>\n",
       "      <td>1.98</td>\n",
       "      <td>1.83</td>\n",
       "      <td>168.5</td>\n",
       "      <td>1.88</td>\n",
       "      <td>1.92</td>\n",
       "      <td>-2.5</td>\n",
       "      <td>1.85</td>\n",
       "      <td>2.60</td>\n",
       "      <td>63z2Z2mf</td>\n",
       "      <td>0.505051</td>\n",
       "      <td>0.546448</td>\n",
       "      <td>0.531915</td>\n",
       "      <td>0.520833</td>\n",
       "      <td>0.051499</td>\n",
       "      <td>0.0</td>\n",
       "      <td>0.0</td>\n",
       "      <td>NaN</td>\n",
       "      <td>NaN</td>\n",
       "      <td>NaN</td>\n",
       "      <td>NaN</td>\n",
       "      <td>NaN</td>\n",
       "      <td>123.948</td>\n",
       "      <td>18.388396</td>\n",
       "      <td>0.148356</td>\n",
       "      <td>0.0</td>\n",
       "      <td>0.0</td>\n",
       "      <td>187.05</td>\n",
       "      <td>110.92</td>\n",
       "      <td>0.0</td>\n",
       "      <td>0.0</td>\n",
       "      <td>0.0</td>\n",
       "      <td>1.0</td>\n",
       "      <td>0.055678</td>\n",
       "      <td>0.014886</td>\n",
       "      <td>0.238351</td>\n",
       "      <td>0.0</td>\n",
       "      <td>0.0</td>\n",
       "      <td>inf</td>\n",
       "      <td>0.0</td>\n",
       "      <td>0.0</td>\n",
       "      <td>0.0</td>\n",
       "      <td>0.0</td>\n",
       "      <td>0.0</td>\n",
       "      <td>inf</td>\n",
       "      <td>0.0</td>\n",
       "      <td>0.0</td>\n",
       "      <td>0.0</td>\n",
       "    </tr>\n",
       "    <tr>\n",
       "      <th>145</th>\n",
       "      <td>2024-07-01</td>\n",
       "      <td>Porto Rico Bsn</td>\n",
       "      <td>21:00</td>\n",
       "      <td>Leones De Ponce</td>\n",
       "      <td>Cangrejeros</td>\n",
       "      <td>2.15</td>\n",
       "      <td>1.65</td>\n",
       "      <td>173.5</td>\n",
       "      <td>1.84</td>\n",
       "      <td>1.86</td>\n",
       "      <td>1.5</td>\n",
       "      <td>2.00</td>\n",
       "      <td>1.51</td>\n",
       "      <td>b1mXKyth</td>\n",
       "      <td>0.465116</td>\n",
       "      <td>0.606061</td>\n",
       "      <td>0.543478</td>\n",
       "      <td>0.537634</td>\n",
       "      <td>0.071177</td>\n",
       "      <td>0.0</td>\n",
       "      <td>0.0</td>\n",
       "      <td>NaN</td>\n",
       "      <td>NaN</td>\n",
       "      <td>NaN</td>\n",
       "      <td>NaN</td>\n",
       "      <td>NaN</td>\n",
       "      <td>179.628</td>\n",
       "      <td>29.268049</td>\n",
       "      <td>0.162937</td>\n",
       "      <td>0.0</td>\n",
       "      <td>0.0</td>\n",
       "      <td>207.58</td>\n",
       "      <td>143.56</td>\n",
       "      <td>0.0</td>\n",
       "      <td>0.0</td>\n",
       "      <td>0.0</td>\n",
       "      <td>0.0</td>\n",
       "      <td>0.186081</td>\n",
       "      <td>0.007644</td>\n",
       "      <td>0.197426</td>\n",
       "      <td>0.0</td>\n",
       "      <td>0.0</td>\n",
       "      <td>inf</td>\n",
       "      <td>0.0</td>\n",
       "      <td>0.0</td>\n",
       "      <td>0.0</td>\n",
       "      <td>0.0</td>\n",
       "      <td>0.0</td>\n",
       "      <td>inf</td>\n",
       "      <td>0.0</td>\n",
       "      <td>0.0</td>\n",
       "      <td>0.0</td>\n",
       "    </tr>\n",
       "  </tbody>\n",
       "</table>\n",
       "</div>"
      ],
      "text/plain": [
       "           Date              League   Time               Home  \\\n",
       "142  2024-07-01  Austrália Nbl1 Sul  07:00           Ringwood   \n",
       "143  2024-07-01  Austrália Nbl1 Sul  05:00         Ringwood F   \n",
       "144  2024-07-01            Eua Wnba  23:00  Phoenix Mercury F   \n",
       "145  2024-07-01      Porto Rico Bsn  21:00    Leones De Ponce   \n",
       "\n",
       "                  Away  Odds_H  Odds_A  Over_Line  Odds_Over  Odds_Under  \\\n",
       "142           Waverley    2.20    1.62      177.5       1.81        1.98   \n",
       "143         Waverley F    2.26    1.59      149.5       1.80        1.88   \n",
       "144  Connecticut Sun F    1.98    1.83      168.5       1.88        1.92   \n",
       "145        Cangrejeros    2.15    1.65      173.5       1.84        1.86   \n",
       "\n",
       "     HA_Line  HA_Odds_H  HA_Odds_A Fixture ID      P(H)      P(A)      P(O)  \\\n",
       "142      1.5       2.01       1.65   fikK7mfI  0.454545  0.617284  0.552486   \n",
       "143     -2.5       1.95       1.92   lOXYADHD  0.442478  0.628931  0.555556   \n",
       "144     -2.5       1.85       2.60   63z2Z2mf  0.505051  0.546448  0.531915   \n",
       "145      1.5       2.00       1.51   b1mXKyth  0.465116  0.606061  0.543478   \n",
       "\n",
       "         P(U)    P_Diff  Porc_Over_Home  Porc_Over_Away  CustoGolHome  \\\n",
       "142  0.505051  0.071829             0.0             0.0           NaN   \n",
       "143  0.531915  0.071409             0.0             0.0           NaN   \n",
       "144  0.520833  0.051499             0.0             0.0           NaN   \n",
       "145  0.537634  0.071177             0.0             0.0           NaN   \n",
       "\n",
       "     CustoGolAway  Avg_CG_H    DP_CG_H   CV_CG_H  Avg_CG_A    DP_CG_A  \\\n",
       "142           NaN       NaN        NaN       NaN       NaN        NaN   \n",
       "143           NaN   133.912  41.303573  0.308438       NaN        NaN   \n",
       "144           NaN       NaN        NaN       NaN   123.948  18.388396   \n",
       "145           NaN       NaN        NaN       NaN   179.628  29.268049   \n",
       "\n",
       "      CV_CG_A  MediaCustoGolHome  MediaCustoGolAway  Last_CG_H  Last_CG_A  \\\n",
       "142       NaN                0.0                0.0     171.38     192.40   \n",
       "143       NaN                0.0                0.0     126.72       0.00   \n",
       "144  0.148356                0.0                0.0     187.05     110.92   \n",
       "145  0.162937                0.0                0.0     207.58     143.56   \n",
       "\n",
       "     Acima_Last_CG_H  Acima_Last_CG_A  Abaixo_Last_CG_H  Abaixo_Last_CG_A  \\\n",
       "142              0.0              0.0               0.0               0.0   \n",
       "143              0.0              0.0               0.0               0.0   \n",
       "144              0.0              0.0               0.0               1.0   \n",
       "145              0.0              0.0               0.0               0.0   \n",
       "\n",
       "        CV_ML   CV_Over     CV_HA  Retornos_BH_Acu  Avg_Retornos_BH  \\\n",
       "142  0.214724  0.063434  0.139103              0.0              0.0   \n",
       "143  0.246110  0.030744  0.010963              0.0              0.0   \n",
       "144  0.055678  0.014886  0.238351              0.0              0.0   \n",
       "145  0.186081  0.007644  0.197426              0.0              0.0   \n",
       "\n",
       "     Custo_Retorno_BH  Avg_Porc_BH_Bookie  Avg_Porc_BH_Real  Dist_Porc_BH  \\\n",
       "142               inf                 0.0               0.0           0.0   \n",
       "143               inf                 0.0               0.0           0.0   \n",
       "144               inf                 0.0               0.0           0.0   \n",
       "145               inf                 0.0               0.0           0.0   \n",
       "\n",
       "     Retornos_BA_Acu  Avg_Retornos_BA  Custo_Retorno_BA  Avg_Porc_BA_Bookie  \\\n",
       "142              0.0              0.0               inf                 0.0   \n",
       "143              0.0              0.0               inf                 0.0   \n",
       "144              0.0              0.0               inf                 0.0   \n",
       "145              0.0              0.0               inf                 0.0   \n",
       "\n",
       "     Avg_Porc_BA_Real  Dist_Porc_BA  \n",
       "142               0.0           0.0  \n",
       "143               0.0           0.0  \n",
       "144               0.0           0.0  \n",
       "145               0.0           0.0  "
      ]
     },
     "execution_count": 8,
     "metadata": {},
     "output_type": "execute_result"
    }
   ],
   "source": [
    "jogos = games[games['Date'] == data_var]\n",
    "\n",
    "jogos = jogos.drop(columns=['Home_Pts', 'Away_Pts',\n",
    "       'Back_Home', 'PL_Home', 'Back_Away',\n",
    "       'PL_Away', 'Back_Over', 'PL_Over', 'PL_Under', 'Back_HA_H', 'PL_HA_H',\n",
    "       'PL_HA_A', ])\n",
    "\n",
    "jogos"
   ]
  },
  {
   "attachments": {},
   "cell_type": "markdown",
   "id": "08aa1c88",
   "metadata": {
    "papermill": {
     "duration": 0.002002,
     "end_time": "2024-07-01T13:03:14.483754",
     "exception": false,
     "start_time": "2024-07-01T13:03:14.481752",
     "status": "completed"
    },
    "tags": []
   },
   "source": [
    "## Apostas do dia"
   ]
  },
  {
   "cell_type": "markdown",
   "id": "b24569b1",
   "metadata": {
    "papermill": {
     "duration": 0.002,
     "end_time": "2024-07-01T13:03:14.487751",
     "exception": false,
     "start_time": "2024-07-01T13:03:14.485751",
     "status": "completed"
    },
    "tags": []
   },
   "source": [
    "### Over v0 (LDA)"
   ]
  },
  {
   "cell_type": "code",
   "execution_count": 9,
   "id": "6f144103",
   "metadata": {
    "execution": {
     "iopub.execute_input": "2024-07-01T13:03:14.493262Z",
     "iopub.status.busy": "2024-07-01T13:03:14.492756Z",
     "iopub.status.idle": "2024-07-01T13:03:14.647780Z",
     "shell.execute_reply": "2024-07-01T13:03:14.647258Z"
    },
    "papermill": {
     "duration": 0.159523,
     "end_time": "2024-07-01T13:03:14.649275",
     "exception": false,
     "start_time": "2024-07-01T13:03:14.489752",
     "status": "completed"
    },
    "tags": []
   },
   "outputs": [
    {
     "name": "stdout",
     "output_type": "stream",
     "text": [
      "------------ MÉTODO OVER V0 (LDA) ------------\n",
      "\n"
     ]
    },
    {
     "data": {
      "text/html": [
       "<div>\n",
       "<style scoped>\n",
       "    .dataframe tbody tr th:only-of-type {\n",
       "        vertical-align: middle;\n",
       "    }\n",
       "\n",
       "    .dataframe tbody tr th {\n",
       "        vertical-align: top;\n",
       "    }\n",
       "\n",
       "    .dataframe thead th {\n",
       "        text-align: right;\n",
       "    }\n",
       "</style>\n",
       "<table border=\"1\" class=\"dataframe\">\n",
       "  <thead>\n",
       "    <tr style=\"text-align: right;\">\n",
       "      <th></th>\n",
       "      <th>Time</th>\n",
       "      <th>League</th>\n",
       "      <th>Home</th>\n",
       "      <th>Away</th>\n",
       "      <th>Over_Line</th>\n",
       "      <th>Odds_Over</th>\n",
       "      <th>prediction_score</th>\n",
       "      <th>Bet</th>\n",
       "    </tr>\n",
       "  </thead>\n",
       "  <tbody>\n",
       "    <tr>\n",
       "      <th>0</th>\n",
       "      <td>23:00</td>\n",
       "      <td>Eua Wnba</td>\n",
       "      <td>Phoenix Mercury F</td>\n",
       "      <td>Connecticut Sun F</td>\n",
       "      <td>168.5</td>\n",
       "      <td>1.88</td>\n",
       "      <td>1.0</td>\n",
       "      <td>Over</td>\n",
       "    </tr>\n",
       "  </tbody>\n",
       "</table>\n",
       "</div>"
      ],
      "text/plain": [
       "    Time    League               Home               Away  Over_Line  \\\n",
       "0  23:00  Eua Wnba  Phoenix Mercury F  Connecticut Sun F      168.5   \n",
       "\n",
       "   Odds_Over  prediction_score   Bet  \n",
       "0       1.88               1.0  Over  "
      ]
     },
     "metadata": {},
     "output_type": "display_data"
    },
    {
     "name": "stdout",
     "output_type": "stream",
     "text": [
      "\n"
     ]
    }
   ],
   "source": [
    "# Duplicando o dataset\n",
    "df_over_v0 = jogos.copy()\n",
    "\n",
    "df_over_v0.reset_index(drop=True, inplace=True)\n",
    "df_over_v0.replace([np.inf, -np.inf], 0, inplace=True)\n",
    "\n",
    "if not df_over_v0.empty:\n",
    "    mdl_over_v0 = load_model('ML/over/v1/v1_over', verbose=False)\n",
    "    prev = predict_model(mdl_over_v0, df_over_v0)\n",
    "    prev = prev[prev['prediction_label'] ==  1]\n",
    "    prev.reset_index(drop=True, inplace=True)\n",
    "    \n",
    "    # Filtros pós modelo\n",
    "\n",
    "    if not prev.empty:\n",
    "        prev.to_csv(f'apostas_do_dia/{data_var}/over_v0_{data_var}.csv', index=False)\n",
    "\n",
    "        print('------------ MÉTODO OVER V0 (LDA) ------------')\n",
    "        print()\n",
    "\n",
    "        prev['Bet'] = 'Over'\n",
    "        ligs = prev['League'].unique().tolist()\n",
    "\n",
    "        display(prev[['Time', 'League', 'Home', 'Away', 'Over_Line', 'Odds_Over', 'prediction_score', 'Bet']])\n",
    "        print()\n",
    "    else: print('Sem jogos')\n",
    "else: print('Sem jogos')"
   ]
  }
 ],
 "metadata": {
  "kernelspec": {
   "display_name": "modelos_futebol",
   "language": "python",
   "name": "python3"
  },
  "language_info": {
   "codemirror_mode": {
    "name": "ipython",
    "version": 3
   },
   "file_extension": ".py",
   "mimetype": "text/x-python",
   "name": "python",
   "nbconvert_exporter": "python",
   "pygments_lexer": "ipython3",
   "version": "3.10.7"
  },
  "papermill": {
   "default_parameters": {},
   "duration": 8.012236,
   "end_time": "2024-07-01T13:03:14.988774",
   "environment_variables": {},
   "exception": null,
   "input_path": "apostas_do_dia_v1.ipynb",
   "output_path": "apostas_do_dia_v1.ipynb",
   "parameters": {
    "data_var": "2024-07-01"
   },
   "start_time": "2024-07-01T13:03:06.976538",
   "version": "2.5.0"
  }
 },
 "nbformat": 4,
 "nbformat_minor": 5
}