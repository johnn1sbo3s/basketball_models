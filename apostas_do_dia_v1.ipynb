{
 "cells": [
  {
   "cell_type": "code",
   "execution_count": 1,
   "id": "d690e842",
   "metadata": {
    "execution": {
     "iopub.execute_input": "2024-08-21T11:31:29.178810Z",
     "iopub.status.busy": "2024-08-21T11:31:29.178810Z",
     "iopub.status.idle": "2024-08-21T11:31:29.192129Z",
     "shell.execute_reply": "2024-08-21T11:31:29.191623Z"
    },
    "papermill": {
     "duration": 0.017661,
     "end_time": "2024-08-21T11:31:29.193287",
     "exception": false,
     "start_time": "2024-08-21T11:31:29.175626",
     "status": "completed"
    },
    "tags": [
     "parameters"
    ]
   },
   "outputs": [],
   "source": [
    "data_var = ''"
   ]
  },
  {
   "cell_type": "code",
   "execution_count": 2,
   "id": "bf5b7784",
   "metadata": {
    "execution": {
     "iopub.execute_input": "2024-08-21T11:31:29.198613Z",
     "iopub.status.busy": "2024-08-21T11:31:29.198485Z",
     "iopub.status.idle": "2024-08-21T11:31:29.208178Z",
     "shell.execute_reply": "2024-08-21T11:31:29.207612Z"
    },
    "papermill": {
     "duration": 0.013479,
     "end_time": "2024-08-21T11:31:29.209283",
     "exception": false,
     "start_time": "2024-08-21T11:31:29.195804",
     "status": "completed"
    },
    "tags": [
     "injected-parameters"
    ]
   },
   "outputs": [],
   "source": [
    "# Parameters\n",
    "data_var = \"2024-08-21\"\n"
   ]
  },
  {
   "cell_type": "code",
   "execution_count": 3,
   "id": "25b97174",
   "metadata": {
    "execution": {
     "iopub.execute_input": "2024-08-21T11:31:29.213479Z",
     "iopub.status.busy": "2024-08-21T11:31:29.213479Z",
     "iopub.status.idle": "2024-08-21T11:31:35.641463Z",
     "shell.execute_reply": "2024-08-21T11:31:35.641300Z"
    },
    "papermill": {
     "duration": 6.432177,
     "end_time": "2024-08-21T11:31:35.642975",
     "exception": false,
     "start_time": "2024-08-21T11:31:29.210798",
     "status": "completed"
    },
    "tags": []
   },
   "outputs": [],
   "source": [
    "import pandas as pd; pd.set_option('display.max_columns', None)\n",
    "import os\n",
    "from pycaret.classification import *\n",
    "from scripts.PreparaDataset import *\n",
    "from scripts.TeoriaRetornos import *"
   ]
  },
  {
   "attachments": {},
   "cell_type": "markdown",
   "id": "ffa9b361",
   "metadata": {
    "papermill": {
     "duration": 0.002642,
     "end_time": "2024-08-21T11:31:35.647782",
     "exception": false,
     "start_time": "2024-08-21T11:31:35.645140",
     "status": "completed"
    },
    "tags": []
   },
   "source": [
    "### Funções"
   ]
  },
  {
   "cell_type": "code",
   "execution_count": 4,
   "id": "cb6eea9b",
   "metadata": {
    "execution": {
     "iopub.execute_input": "2024-08-21T11:31:35.652123Z",
     "iopub.status.busy": "2024-08-21T11:31:35.652123Z",
     "iopub.status.idle": "2024-08-21T11:31:35.657463Z",
     "shell.execute_reply": "2024-08-21T11:31:35.656795Z"
    },
    "papermill": {
     "duration": 0.00901,
     "end_time": "2024-08-21T11:31:35.658470",
     "exception": false,
     "start_time": "2024-08-21T11:31:35.649460",
     "status": "completed"
    },
    "tags": []
   },
   "outputs": [],
   "source": [
    "def atualiza_dia(_jogos):\n",
    "    _jogos = prepara_df(_jogos)\n",
    "\n",
    "    _jogos = _jogos.reset_index(drop=True)\n",
    "\n",
    "    return _jogos"
   ]
  },
  {
   "attachments": {},
   "cell_type": "markdown",
   "id": "26b16874",
   "metadata": {
    "papermill": {
     "duration": 0.001511,
     "end_time": "2024-08-21T11:31:35.661651",
     "exception": false,
     "start_time": "2024-08-21T11:31:35.660140",
     "status": "completed"
    },
    "tags": []
   },
   "source": [
    "### Pegando os jogos do dia"
   ]
  },
  {
   "cell_type": "code",
   "execution_count": 5,
   "id": "5ddb2ecb",
   "metadata": {
    "execution": {
     "iopub.execute_input": "2024-08-21T11:31:35.666474Z",
     "iopub.status.busy": "2024-08-21T11:31:35.666474Z",
     "iopub.status.idle": "2024-08-21T11:31:35.688296Z",
     "shell.execute_reply": "2024-08-21T11:31:35.687789Z"
    },
    "papermill": {
     "duration": 0.025683,
     "end_time": "2024-08-21T11:31:35.689464",
     "exception": false,
     "start_time": "2024-08-21T11:31:35.663781",
     "status": "completed"
    },
    "tags": []
   },
   "outputs": [],
   "source": [
    "df_today = pd.read_csv(f'jogos_do_dia/{data_var}.csv')"
   ]
  },
  {
   "cell_type": "markdown",
   "id": "19a2214d",
   "metadata": {
    "papermill": {
     "duration": 0.00151,
     "end_time": "2024-08-21T11:31:35.693630",
     "exception": false,
     "start_time": "2024-08-21T11:31:35.692120",
     "status": "completed"
    },
    "tags": []
   },
   "source": [
    "### Atualizando os datasets que tem jogo hoje"
   ]
  },
  {
   "cell_type": "code",
   "execution_count": 6,
   "id": "68bd72ae",
   "metadata": {
    "execution": {
     "iopub.execute_input": "2024-08-21T11:31:35.698468Z",
     "iopub.status.busy": "2024-08-21T11:31:35.697463Z",
     "iopub.status.idle": "2024-08-21T11:31:35.768314Z",
     "shell.execute_reply": "2024-08-21T11:31:35.767805Z"
    },
    "papermill": {
     "duration": 0.073668,
     "end_time": "2024-08-21T11:31:35.769468",
     "exception": false,
     "start_time": "2024-08-21T11:31:35.695800",
     "status": "completed"
    },
    "tags": []
   },
   "outputs": [],
   "source": [
    "temporada = pd.read_csv('data/Entire_Season.csv')\n",
    "temporada = temporada[temporada['Date'] < data_var]\n",
    "temporada = pd.concat([temporada, df_today])\n",
    "ligas = df_today['League'].unique().tolist()\n",
    "temporada = temporada[temporada['League'].isin(ligas)]\n",
    "temporada.reset_index(drop=True, inplace=True)"
   ]
  },
  {
   "cell_type": "markdown",
   "id": "0d8018ca",
   "metadata": {
    "papermill": {
     "duration": 0.002018,
     "end_time": "2024-08-21T11:31:35.774157",
     "exception": false,
     "start_time": "2024-08-21T11:31:35.772139",
     "status": "completed"
    },
    "tags": []
   },
   "source": [
    "### Cria variáveis na temporada e nos jogos do dia"
   ]
  },
  {
   "cell_type": "code",
   "execution_count": 7,
   "id": "d3b06cb1",
   "metadata": {
    "execution": {
     "iopub.execute_input": "2024-08-21T11:31:35.778988Z",
     "iopub.status.busy": "2024-08-21T11:31:35.778481Z",
     "iopub.status.idle": "2024-08-21T11:31:36.040314Z",
     "shell.execute_reply": "2024-08-21T11:31:36.039806Z"
    },
    "papermill": {
     "duration": 0.267207,
     "end_time": "2024-08-21T11:31:36.043013",
     "exception": false,
     "start_time": "2024-08-21T11:31:35.775806",
     "status": "completed"
    },
    "tags": []
   },
   "outputs": [],
   "source": [
    "games = atualiza_dia(temporada)\n",
    "temporada = games[games['Date'] < data_var]\n",
    "os.makedirs(f'apostas_do_dia/{data_var}', exist_ok=True)"
   ]
  },
  {
   "cell_type": "code",
   "execution_count": 8,
   "id": "16aa533f",
   "metadata": {
    "execution": {
     "iopub.execute_input": "2024-08-21T11:31:36.049475Z",
     "iopub.status.busy": "2024-08-21T11:31:36.049475Z",
     "iopub.status.idle": "2024-08-21T11:31:36.088310Z",
     "shell.execute_reply": "2024-08-21T11:31:36.087801Z"
    },
    "papermill": {
     "duration": 0.043792,
     "end_time": "2024-08-21T11:31:36.089471",
     "exception": false,
     "start_time": "2024-08-21T11:31:36.045679",
     "status": "completed"
    },
    "tags": []
   },
   "outputs": [
    {
     "data": {
      "text/html": [
       "<div>\n",
       "<style scoped>\n",
       "    .dataframe tbody tr th:only-of-type {\n",
       "        vertical-align: middle;\n",
       "    }\n",
       "\n",
       "    .dataframe tbody tr th {\n",
       "        vertical-align: top;\n",
       "    }\n",
       "\n",
       "    .dataframe thead th {\n",
       "        text-align: right;\n",
       "    }\n",
       "</style>\n",
       "<table border=\"1\" class=\"dataframe\">\n",
       "  <thead>\n",
       "    <tr style=\"text-align: right;\">\n",
       "      <th></th>\n",
       "      <th>Date</th>\n",
       "      <th>League</th>\n",
       "      <th>Time</th>\n",
       "      <th>Home</th>\n",
       "      <th>Away</th>\n",
       "      <th>Odds_H</th>\n",
       "      <th>Odds_A</th>\n",
       "      <th>Over_Line</th>\n",
       "      <th>Odds_Over</th>\n",
       "      <th>Odds_Under</th>\n",
       "      <th>HA_Line</th>\n",
       "      <th>HA_Odds_H</th>\n",
       "      <th>HA_Odds_A</th>\n",
       "      <th>Fixture ID</th>\n",
       "      <th>P(H)</th>\n",
       "      <th>P(A)</th>\n",
       "      <th>P(O)</th>\n",
       "      <th>P(U)</th>\n",
       "      <th>P_Diff</th>\n",
       "      <th>Porc_Over_Home</th>\n",
       "      <th>Porc_Over_Away</th>\n",
       "      <th>CustoGolHome</th>\n",
       "      <th>CustoGolAway</th>\n",
       "      <th>Avg_CG_H</th>\n",
       "      <th>DP_CG_H</th>\n",
       "      <th>CV_CG_H</th>\n",
       "      <th>Avg_CG_A</th>\n",
       "      <th>DP_CG_A</th>\n",
       "      <th>CV_CG_A</th>\n",
       "      <th>MediaCustoGolHome</th>\n",
       "      <th>MediaCustoGolAway</th>\n",
       "      <th>Last_CG_H</th>\n",
       "      <th>Last_CG_A</th>\n",
       "      <th>Acima_Last_CG_H</th>\n",
       "      <th>Acima_Last_CG_A</th>\n",
       "      <th>Abaixo_Last_CG_H</th>\n",
       "      <th>Abaixo_Last_CG_A</th>\n",
       "      <th>CV_ML</th>\n",
       "      <th>CV_Over</th>\n",
       "      <th>CV_HA</th>\n",
       "      <th>Retornos_BH_Acu</th>\n",
       "      <th>Avg_Retornos_BH</th>\n",
       "      <th>Custo_Retorno_BH</th>\n",
       "      <th>Avg_Porc_BH_Bookie</th>\n",
       "      <th>Avg_Porc_BH_Real</th>\n",
       "      <th>Dist_Porc_BH</th>\n",
       "      <th>Retornos_BA_Acu</th>\n",
       "      <th>Avg_Retornos_BA</th>\n",
       "      <th>Custo_Retorno_BA</th>\n",
       "      <th>Avg_Porc_BA_Bookie</th>\n",
       "      <th>Avg_Porc_BA_Real</th>\n",
       "      <th>Dist_Porc_BA</th>\n",
       "    </tr>\n",
       "  </thead>\n",
       "  <tbody>\n",
       "    <tr>\n",
       "      <th>106</th>\n",
       "      <td>2024-08-21</td>\n",
       "      <td>Eua Wnba</td>\n",
       "      <td>20:30</td>\n",
       "      <td>Atlanta Dream F</td>\n",
       "      <td>Phoenix Mercury F</td>\n",
       "      <td>2.10</td>\n",
       "      <td>1.74</td>\n",
       "      <td>163.5</td>\n",
       "      <td>1.85</td>\n",
       "      <td>1.93</td>\n",
       "      <td>1.5</td>\n",
       "      <td>1.94</td>\n",
       "      <td>1.61</td>\n",
       "      <td>67d2GQcE</td>\n",
       "      <td>0.476190</td>\n",
       "      <td>0.574713</td>\n",
       "      <td>0.540541</td>\n",
       "      <td>0.518135</td>\n",
       "      <td>0.050903</td>\n",
       "      <td>0.0</td>\n",
       "      <td>0.0</td>\n",
       "      <td>NaN</td>\n",
       "      <td>NaN</td>\n",
       "      <td>142.65</td>\n",
       "      <td>21.340019</td>\n",
       "      <td>0.149597</td>\n",
       "      <td>152.516</td>\n",
       "      <td>21.410416</td>\n",
       "      <td>0.140381</td>\n",
       "      <td>0.0</td>\n",
       "      <td>0.0</td>\n",
       "      <td>137.06</td>\n",
       "      <td>154.56</td>\n",
       "      <td>0.0</td>\n",
       "      <td>0.0</td>\n",
       "      <td>0.0</td>\n",
       "      <td>0.0</td>\n",
       "      <td>0.132583</td>\n",
       "      <td>0.02993</td>\n",
       "      <td>0.131462</td>\n",
       "      <td>0.0</td>\n",
       "      <td>0.0</td>\n",
       "      <td>inf</td>\n",
       "      <td>0.0</td>\n",
       "      <td>0.0</td>\n",
       "      <td>0.0</td>\n",
       "      <td>0.0</td>\n",
       "      <td>0.0</td>\n",
       "      <td>inf</td>\n",
       "      <td>0.0</td>\n",
       "      <td>0.0</td>\n",
       "      <td>0.0</td>\n",
       "    </tr>\n",
       "    <tr>\n",
       "      <th>107</th>\n",
       "      <td>2024-08-21</td>\n",
       "      <td>Mundo Copa Do Mundo Feminina</td>\n",
       "      <td>23:30</td>\n",
       "      <td>Nova Zelândia F</td>\n",
       "      <td>México F</td>\n",
       "      <td>1.97</td>\n",
       "      <td>1.81</td>\n",
       "      <td>136.5</td>\n",
       "      <td>1.89</td>\n",
       "      <td>1.89</td>\n",
       "      <td>1.5</td>\n",
       "      <td>1.82</td>\n",
       "      <td>1.67</td>\n",
       "      <td>AVLopBdE</td>\n",
       "      <td>0.507614</td>\n",
       "      <td>0.552486</td>\n",
       "      <td>0.529101</td>\n",
       "      <td>0.529101</td>\n",
       "      <td>0.060100</td>\n",
       "      <td>0.0</td>\n",
       "      <td>0.0</td>\n",
       "      <td>NaN</td>\n",
       "      <td>NaN</td>\n",
       "      <td>NaN</td>\n",
       "      <td>NaN</td>\n",
       "      <td>NaN</td>\n",
       "      <td>NaN</td>\n",
       "      <td>NaN</td>\n",
       "      <td>NaN</td>\n",
       "      <td>0.0</td>\n",
       "      <td>0.0</td>\n",
       "      <td>0.00</td>\n",
       "      <td>0.00</td>\n",
       "      <td>0.0</td>\n",
       "      <td>0.0</td>\n",
       "      <td>0.0</td>\n",
       "      <td>0.0</td>\n",
       "      <td>0.059861</td>\n",
       "      <td>0.00000</td>\n",
       "      <td>0.060783</td>\n",
       "      <td>0.0</td>\n",
       "      <td>0.0</td>\n",
       "      <td>inf</td>\n",
       "      <td>0.0</td>\n",
       "      <td>0.0</td>\n",
       "      <td>0.0</td>\n",
       "      <td>0.0</td>\n",
       "      <td>0.0</td>\n",
       "      <td>inf</td>\n",
       "      <td>0.0</td>\n",
       "      <td>0.0</td>\n",
       "      <td>0.0</td>\n",
       "    </tr>\n",
       "  </tbody>\n",
       "</table>\n",
       "</div>"
      ],
      "text/plain": [
       "           Date                        League   Time             Home  \\\n",
       "106  2024-08-21                      Eua Wnba  20:30  Atlanta Dream F   \n",
       "107  2024-08-21  Mundo Copa Do Mundo Feminina  23:30  Nova Zelândia F   \n",
       "\n",
       "                  Away  Odds_H  Odds_A  Over_Line  Odds_Over  Odds_Under  \\\n",
       "106  Phoenix Mercury F    2.10    1.74      163.5       1.85        1.93   \n",
       "107           México F    1.97    1.81      136.5       1.89        1.89   \n",
       "\n",
       "     HA_Line  HA_Odds_H  HA_Odds_A Fixture ID      P(H)      P(A)      P(O)  \\\n",
       "106      1.5       1.94       1.61   67d2GQcE  0.476190  0.574713  0.540541   \n",
       "107      1.5       1.82       1.67   AVLopBdE  0.507614  0.552486  0.529101   \n",
       "\n",
       "         P(U)    P_Diff  Porc_Over_Home  Porc_Over_Away  CustoGolHome  \\\n",
       "106  0.518135  0.050903             0.0             0.0           NaN   \n",
       "107  0.529101  0.060100             0.0             0.0           NaN   \n",
       "\n",
       "     CustoGolAway  Avg_CG_H    DP_CG_H   CV_CG_H  Avg_CG_A    DP_CG_A  \\\n",
       "106           NaN    142.65  21.340019  0.149597   152.516  21.410416   \n",
       "107           NaN       NaN        NaN       NaN       NaN        NaN   \n",
       "\n",
       "      CV_CG_A  MediaCustoGolHome  MediaCustoGolAway  Last_CG_H  Last_CG_A  \\\n",
       "106  0.140381                0.0                0.0     137.06     154.56   \n",
       "107       NaN                0.0                0.0       0.00       0.00   \n",
       "\n",
       "     Acima_Last_CG_H  Acima_Last_CG_A  Abaixo_Last_CG_H  Abaixo_Last_CG_A  \\\n",
       "106              0.0              0.0               0.0               0.0   \n",
       "107              0.0              0.0               0.0               0.0   \n",
       "\n",
       "        CV_ML  CV_Over     CV_HA  Retornos_BH_Acu  Avg_Retornos_BH  \\\n",
       "106  0.132583  0.02993  0.131462              0.0              0.0   \n",
       "107  0.059861  0.00000  0.060783              0.0              0.0   \n",
       "\n",
       "     Custo_Retorno_BH  Avg_Porc_BH_Bookie  Avg_Porc_BH_Real  Dist_Porc_BH  \\\n",
       "106               inf                 0.0               0.0           0.0   \n",
       "107               inf                 0.0               0.0           0.0   \n",
       "\n",
       "     Retornos_BA_Acu  Avg_Retornos_BA  Custo_Retorno_BA  Avg_Porc_BA_Bookie  \\\n",
       "106              0.0              0.0               inf                 0.0   \n",
       "107              0.0              0.0               inf                 0.0   \n",
       "\n",
       "     Avg_Porc_BA_Real  Dist_Porc_BA  \n",
       "106               0.0           0.0  \n",
       "107               0.0           0.0  "
      ]
     },
     "execution_count": 8,
     "metadata": {},
     "output_type": "execute_result"
    }
   ],
   "source": [
    "jogos = games[games['Date'] == data_var]\n",
    "\n",
    "jogos = jogos.drop(columns=['Home_Pts', 'Away_Pts',\n",
    "       'Back_Home', 'PL_Home', 'Back_Away',\n",
    "       'PL_Away', 'Back_Over', 'PL_Over', 'PL_Under', 'Back_HA_H', 'PL_HA_H',\n",
    "       'PL_HA_A', ])\n",
    "\n",
    "jogos"
   ]
  },
  {
   "attachments": {},
   "cell_type": "markdown",
   "id": "08aa1c88",
   "metadata": {
    "papermill": {
     "duration": 0.001509,
     "end_time": "2024-08-21T11:31:36.093650",
     "exception": false,
     "start_time": "2024-08-21T11:31:36.092141",
     "status": "completed"
    },
    "tags": []
   },
   "source": [
    "## Apostas do dia"
   ]
  },
  {
   "cell_type": "markdown",
   "id": "b24569b1",
   "metadata": {
    "papermill": {
     "duration": 0.001165,
     "end_time": "2024-08-21T11:31:36.097473",
     "exception": false,
     "start_time": "2024-08-21T11:31:36.096308",
     "status": "completed"
    },
    "tags": []
   },
   "source": [
    "### Over v0 (LDA)"
   ]
  },
  {
   "cell_type": "code",
   "execution_count": 9,
   "id": "6f144103",
   "metadata": {
    "execution": {
     "iopub.execute_input": "2024-08-21T11:31:36.102793Z",
     "iopub.status.busy": "2024-08-21T11:31:36.102793Z",
     "iopub.status.idle": "2024-08-21T11:31:36.264317Z",
     "shell.execute_reply": "2024-08-21T11:31:36.263812Z"
    },
    "papermill": {
     "duration": 0.165341,
     "end_time": "2024-08-21T11:31:36.265478",
     "exception": false,
     "start_time": "2024-08-21T11:31:36.100137",
     "status": "completed"
    },
    "tags": []
   },
   "outputs": [
    {
     "name": "stdout",
     "output_type": "stream",
     "text": [
      "Sem jogos\n"
     ]
    }
   ],
   "source": [
    "# Duplicando o dataset\n",
    "df_over_v0 = jogos.copy()\n",
    "\n",
    "df_over_v0.reset_index(drop=True, inplace=True)\n",
    "df_over_v0.replace([np.inf, -np.inf], 0, inplace=True)\n",
    "\n",
    "if not df_over_v0.empty:\n",
    "    mdl_over_v0 = load_model('ML/over/v1/v1_over', verbose=False)\n",
    "    prev = predict_model(mdl_over_v0, df_over_v0)\n",
    "    prev = prev[prev['prediction_label'] ==  1]\n",
    "    prev.reset_index(drop=True, inplace=True)\n",
    "    \n",
    "    # Filtros pós modelo\n",
    "\n",
    "    if not prev.empty:\n",
    "        prev.to_csv(f'apostas_do_dia/{data_var}/over_v0_{data_var}.csv', index=False)\n",
    "\n",
    "        print('------------ MÉTODO OVER V0 (LDA) ------------')\n",
    "        print()\n",
    "\n",
    "        prev['Bet'] = 'Over'\n",
    "        ligs = prev['League'].unique().tolist()\n",
    "\n",
    "        display(prev[['Time', 'League', 'Home', 'Away', 'Over_Line', 'Odds_Over', 'prediction_score', 'Bet']])\n",
    "        print()\n",
    "    else: print('Sem jogos')\n",
    "else: print('Sem jogos')"
   ]
  }
 ],
 "metadata": {
  "kernelspec": {
   "display_name": "modelos_futebol",
   "language": "python",
   "name": "python3"
  },
  "language_info": {
   "codemirror_mode": {
    "name": "ipython",
    "version": 3
   },
   "file_extension": ".py",
   "mimetype": "text/x-python",
   "name": "python",
   "nbconvert_exporter": "python",
   "pygments_lexer": "ipython3",
   "version": "3.10.7"
  },
  "papermill": {
   "default_parameters": {},
   "duration": 8.834904,
   "end_time": "2024-08-21T11:31:36.727822",
   "environment_variables": {},
   "exception": null,
   "input_path": "apostas_do_dia_v1.ipynb",
   "output_path": "apostas_do_dia_v1.ipynb",
   "parameters": {
    "data_var": "2024-08-21"
   },
   "start_time": "2024-08-21T11:31:27.892918",
   "version": "2.5.0"
  }
 },
 "nbformat": 4,
 "nbformat_minor": 5
}