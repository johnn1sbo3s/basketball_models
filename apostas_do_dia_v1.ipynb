{
 "cells": [
  {
   "cell_type": "code",
   "execution_count": 1,
   "id": "d690e842",
   "metadata": {
    "execution": {
     "iopub.execute_input": "2024-08-08T11:31:15.655768Z",
     "iopub.status.busy": "2024-08-08T11:31:15.655768Z",
     "iopub.status.idle": "2024-08-08T11:31:15.668267Z",
     "shell.execute_reply": "2024-08-08T11:31:15.667767Z"
    },
    "papermill": {
     "duration": 0.016985,
     "end_time": "2024-08-08T11:31:15.669266",
     "exception": false,
     "start_time": "2024-08-08T11:31:15.652281",
     "status": "completed"
    },
    "tags": [
     "parameters"
    ]
   },
   "outputs": [],
   "source": [
    "data_var = ''"
   ]
  },
  {
   "cell_type": "code",
   "execution_count": 2,
   "id": "cabbf44c",
   "metadata": {
    "execution": {
     "iopub.execute_input": "2024-08-08T11:31:15.674764Z",
     "iopub.status.busy": "2024-08-08T11:31:15.674764Z",
     "iopub.status.idle": "2024-08-08T11:31:15.683738Z",
     "shell.execute_reply": "2024-08-08T11:31:15.683235Z"
    },
    "papermill": {
     "duration": 0.013969,
     "end_time": "2024-08-08T11:31:15.685236",
     "exception": false,
     "start_time": "2024-08-08T11:31:15.671267",
     "status": "completed"
    },
    "tags": [
     "injected-parameters"
    ]
   },
   "outputs": [],
   "source": [
    "# Parameters\n",
    "data_var = \"2024-08-08\"\n"
   ]
  },
  {
   "cell_type": "code",
   "execution_count": 3,
   "id": "25b97174",
   "metadata": {
    "execution": {
     "iopub.execute_input": "2024-08-08T11:31:15.689734Z",
     "iopub.status.busy": "2024-08-08T11:31:15.689734Z",
     "iopub.status.idle": "2024-08-08T11:31:18.507629Z",
     "shell.execute_reply": "2024-08-08T11:31:18.506604Z"
    },
    "papermill": {
     "duration": 2.822396,
     "end_time": "2024-08-08T11:31:18.509632",
     "exception": false,
     "start_time": "2024-08-08T11:31:15.687236",
     "status": "completed"
    },
    "tags": []
   },
   "outputs": [],
   "source": [
    "import pandas as pd; pd.set_option('display.max_columns', None)\n",
    "import os\n",
    "from pycaret.classification import *\n",
    "from scripts.PreparaDataset import *\n",
    "from scripts.TeoriaRetornos import *"
   ]
  },
  {
   "attachments": {},
   "cell_type": "markdown",
   "id": "ffa9b361",
   "metadata": {
    "papermill": {
     "duration": 0.001993,
     "end_time": "2024-08-08T11:31:18.514624",
     "exception": false,
     "start_time": "2024-08-08T11:31:18.512631",
     "status": "completed"
    },
    "tags": []
   },
   "source": [
    "### Funções"
   ]
  },
  {
   "cell_type": "code",
   "execution_count": 4,
   "id": "cb6eea9b",
   "metadata": {
    "execution": {
     "iopub.execute_input": "2024-08-08T11:31:18.519130Z",
     "iopub.status.busy": "2024-08-08T11:31:18.519130Z",
     "iopub.status.idle": "2024-08-08T11:31:18.522644Z",
     "shell.execute_reply": "2024-08-08T11:31:18.522135Z"
    },
    "papermill": {
     "duration": 0.007017,
     "end_time": "2024-08-08T11:31:18.523640",
     "exception": false,
     "start_time": "2024-08-08T11:31:18.516623",
     "status": "completed"
    },
    "tags": []
   },
   "outputs": [],
   "source": [
    "def atualiza_dia(_jogos):\n",
    "    _jogos = prepara_df(_jogos)\n",
    "\n",
    "    _jogos = _jogos.reset_index(drop=True)\n",
    "\n",
    "    return _jogos"
   ]
  },
  {
   "attachments": {},
   "cell_type": "markdown",
   "id": "26b16874",
   "metadata": {
    "papermill": {
     "duration": 0.001501,
     "end_time": "2024-08-08T11:31:18.527145",
     "exception": false,
     "start_time": "2024-08-08T11:31:18.525644",
     "status": "completed"
    },
    "tags": []
   },
   "source": [
    "### Pegando os jogos do dia"
   ]
  },
  {
   "cell_type": "code",
   "execution_count": 5,
   "id": "5ddb2ecb",
   "metadata": {
    "execution": {
     "iopub.execute_input": "2024-08-08T11:31:18.532141Z",
     "iopub.status.busy": "2024-08-08T11:31:18.531643Z",
     "iopub.status.idle": "2024-08-08T11:31:18.538003Z",
     "shell.execute_reply": "2024-08-08T11:31:18.537499Z"
    },
    "papermill": {
     "duration": 0.009856,
     "end_time": "2024-08-08T11:31:18.538999",
     "exception": false,
     "start_time": "2024-08-08T11:31:18.529143",
     "status": "completed"
    },
    "tags": []
   },
   "outputs": [],
   "source": [
    "df_today = pd.read_csv(f'jogos_do_dia/{data_var}.csv')"
   ]
  },
  {
   "cell_type": "markdown",
   "id": "19a2214d",
   "metadata": {
    "papermill": {
     "duration": 0.001504,
     "end_time": "2024-08-08T11:31:18.542503",
     "exception": false,
     "start_time": "2024-08-08T11:31:18.540999",
     "status": "completed"
    },
    "tags": []
   },
   "source": [
    "### Atualizando os datasets que tem jogo hoje"
   ]
  },
  {
   "cell_type": "code",
   "execution_count": 6,
   "id": "68bd72ae",
   "metadata": {
    "execution": {
     "iopub.execute_input": "2024-08-08T11:31:18.546999Z",
     "iopub.status.busy": "2024-08-08T11:31:18.546503Z",
     "iopub.status.idle": "2024-08-08T11:31:18.615331Z",
     "shell.execute_reply": "2024-08-08T11:31:18.614831Z"
    },
    "papermill": {
     "duration": 0.072331,
     "end_time": "2024-08-08T11:31:18.616831",
     "exception": false,
     "start_time": "2024-08-08T11:31:18.544500",
     "status": "completed"
    },
    "tags": []
   },
   "outputs": [],
   "source": [
    "temporada = pd.read_csv('data/Entire_Season.csv')\n",
    "temporada = temporada[temporada['Date'] < data_var]\n",
    "temporada = pd.concat([temporada, df_today])\n",
    "ligas = df_today['League'].unique().tolist()\n",
    "temporada = temporada[temporada['League'].isin(ligas)]\n",
    "temporada.reset_index(drop=True, inplace=True)"
   ]
  },
  {
   "cell_type": "markdown",
   "id": "0d8018ca",
   "metadata": {
    "papermill": {
     "duration": 0.002002,
     "end_time": "2024-08-08T11:31:18.621333",
     "exception": false,
     "start_time": "2024-08-08T11:31:18.619331",
     "status": "completed"
    },
    "tags": []
   },
   "source": [
    "### Cria variáveis na temporada e nos jogos do dia"
   ]
  },
  {
   "cell_type": "code",
   "execution_count": 7,
   "id": "d3b06cb1",
   "metadata": {
    "execution": {
     "iopub.execute_input": "2024-08-08T11:31:18.626848Z",
     "iopub.status.busy": "2024-08-08T11:31:18.625847Z",
     "iopub.status.idle": "2024-08-08T11:31:18.801283Z",
     "shell.execute_reply": "2024-08-08T11:31:18.800780Z"
    },
    "papermill": {
     "duration": 0.179935,
     "end_time": "2024-08-08T11:31:18.802780",
     "exception": false,
     "start_time": "2024-08-08T11:31:18.622845",
     "status": "completed"
    },
    "tags": []
   },
   "outputs": [],
   "source": [
    "games = atualiza_dia(temporada)\n",
    "temporada = games[games['Date'] < data_var]\n",
    "os.makedirs(f'apostas_do_dia/{data_var}', exist_ok=True)"
   ]
  },
  {
   "cell_type": "code",
   "execution_count": 8,
   "id": "16aa533f",
   "metadata": {
    "execution": {
     "iopub.execute_input": "2024-08-08T11:31:18.807282Z",
     "iopub.status.busy": "2024-08-08T11:31:18.807282Z",
     "iopub.status.idle": "2024-08-08T11:31:18.832314Z",
     "shell.execute_reply": "2024-08-08T11:31:18.831810Z"
    },
    "papermill": {
     "duration": 0.029033,
     "end_time": "2024-08-08T11:31:18.833812",
     "exception": false,
     "start_time": "2024-08-08T11:31:18.804779",
     "status": "completed"
    },
    "tags": []
   },
   "outputs": [
    {
     "data": {
      "text/html": [
       "<div>\n",
       "<style scoped>\n",
       "    .dataframe tbody tr th:only-of-type {\n",
       "        vertical-align: middle;\n",
       "    }\n",
       "\n",
       "    .dataframe tbody tr th {\n",
       "        vertical-align: top;\n",
       "    }\n",
       "\n",
       "    .dataframe thead th {\n",
       "        text-align: right;\n",
       "    }\n",
       "</style>\n",
       "<table border=\"1\" class=\"dataframe\">\n",
       "  <thead>\n",
       "    <tr style=\"text-align: right;\">\n",
       "      <th></th>\n",
       "      <th>Date</th>\n",
       "      <th>League</th>\n",
       "      <th>Time</th>\n",
       "      <th>Home</th>\n",
       "      <th>Away</th>\n",
       "      <th>Odds_H</th>\n",
       "      <th>Odds_A</th>\n",
       "      <th>Over_Line</th>\n",
       "      <th>Odds_Over</th>\n",
       "      <th>Odds_Under</th>\n",
       "      <th>HA_Line</th>\n",
       "      <th>HA_Odds_H</th>\n",
       "      <th>HA_Odds_A</th>\n",
       "      <th>Fixture ID</th>\n",
       "      <th>P(H)</th>\n",
       "      <th>P(A)</th>\n",
       "      <th>P(O)</th>\n",
       "      <th>P(U)</th>\n",
       "      <th>P_Diff</th>\n",
       "      <th>Porc_Over_Home</th>\n",
       "      <th>Porc_Over_Away</th>\n",
       "      <th>CustoGolHome</th>\n",
       "      <th>CustoGolAway</th>\n",
       "      <th>Avg_CG_H</th>\n",
       "      <th>DP_CG_H</th>\n",
       "      <th>CV_CG_H</th>\n",
       "      <th>Avg_CG_A</th>\n",
       "      <th>DP_CG_A</th>\n",
       "      <th>CV_CG_A</th>\n",
       "      <th>MediaCustoGolHome</th>\n",
       "      <th>MediaCustoGolAway</th>\n",
       "      <th>Last_CG_H</th>\n",
       "      <th>Last_CG_A</th>\n",
       "      <th>Acima_Last_CG_H</th>\n",
       "      <th>Acima_Last_CG_A</th>\n",
       "      <th>Abaixo_Last_CG_H</th>\n",
       "      <th>Abaixo_Last_CG_A</th>\n",
       "      <th>CV_ML</th>\n",
       "      <th>CV_Over</th>\n",
       "      <th>CV_HA</th>\n",
       "      <th>Retornos_BH_Acu</th>\n",
       "      <th>Avg_Retornos_BH</th>\n",
       "      <th>Custo_Retorno_BH</th>\n",
       "      <th>Avg_Porc_BH_Bookie</th>\n",
       "      <th>Avg_Porc_BH_Real</th>\n",
       "      <th>Dist_Porc_BH</th>\n",
       "      <th>Retornos_BA_Acu</th>\n",
       "      <th>Avg_Retornos_BA</th>\n",
       "      <th>Custo_Retorno_BA</th>\n",
       "      <th>Avg_Porc_BA_Bookie</th>\n",
       "      <th>Avg_Porc_BA_Real</th>\n",
       "      <th>Dist_Porc_BA</th>\n",
       "    </tr>\n",
       "  </thead>\n",
       "  <tbody>\n",
       "    <tr>\n",
       "      <th>90</th>\n",
       "      <td>2024-08-08</td>\n",
       "      <td>Venezuela Superliga</td>\n",
       "      <td>20:00</td>\n",
       "      <td>Pioneros</td>\n",
       "      <td>Marinos</td>\n",
       "      <td>1.77</td>\n",
       "      <td>1.91</td>\n",
       "      <td>141.5</td>\n",
       "      <td>1.88</td>\n",
       "      <td>1.79</td>\n",
       "      <td>-2.5</td>\n",
       "      <td>2.01</td>\n",
       "      <td>2.4</td>\n",
       "      <td>nLvmpXhS</td>\n",
       "      <td>0.564972</td>\n",
       "      <td>0.52356</td>\n",
       "      <td>0.531915</td>\n",
       "      <td>0.558659</td>\n",
       "      <td>0.088532</td>\n",
       "      <td>0.0</td>\n",
       "      <td>0.0</td>\n",
       "      <td>NaN</td>\n",
       "      <td>NaN</td>\n",
       "      <td>NaN</td>\n",
       "      <td>NaN</td>\n",
       "      <td>NaN</td>\n",
       "      <td>NaN</td>\n",
       "      <td>NaN</td>\n",
       "      <td>NaN</td>\n",
       "      <td>0.0</td>\n",
       "      <td>0.0</td>\n",
       "      <td>150.52</td>\n",
       "      <td>136.92</td>\n",
       "      <td>0.0</td>\n",
       "      <td>0.0</td>\n",
       "      <td>0.0</td>\n",
       "      <td>0.0</td>\n",
       "      <td>0.053802</td>\n",
       "      <td>0.034681</td>\n",
       "      <td>0.125067</td>\n",
       "      <td>0.0</td>\n",
       "      <td>0.0</td>\n",
       "      <td>inf</td>\n",
       "      <td>0.0</td>\n",
       "      <td>0.0</td>\n",
       "      <td>0.0</td>\n",
       "      <td>0.0</td>\n",
       "      <td>0.0</td>\n",
       "      <td>inf</td>\n",
       "      <td>0.0</td>\n",
       "      <td>0.0</td>\n",
       "      <td>0.0</td>\n",
       "    </tr>\n",
       "  </tbody>\n",
       "</table>\n",
       "</div>"
      ],
      "text/plain": [
       "          Date               League   Time      Home     Away  Odds_H  Odds_A  \\\n",
       "90  2024-08-08  Venezuela Superliga  20:00  Pioneros  Marinos    1.77    1.91   \n",
       "\n",
       "    Over_Line  Odds_Over  Odds_Under  HA_Line  HA_Odds_H  HA_Odds_A  \\\n",
       "90      141.5       1.88        1.79     -2.5       2.01        2.4   \n",
       "\n",
       "   Fixture ID      P(H)     P(A)      P(O)      P(U)    P_Diff  \\\n",
       "90   nLvmpXhS  0.564972  0.52356  0.531915  0.558659  0.088532   \n",
       "\n",
       "    Porc_Over_Home  Porc_Over_Away  CustoGolHome  CustoGolAway  Avg_CG_H  \\\n",
       "90             0.0             0.0           NaN           NaN       NaN   \n",
       "\n",
       "    DP_CG_H  CV_CG_H  Avg_CG_A  DP_CG_A  CV_CG_A  MediaCustoGolHome  \\\n",
       "90      NaN      NaN       NaN      NaN      NaN                0.0   \n",
       "\n",
       "    MediaCustoGolAway  Last_CG_H  Last_CG_A  Acima_Last_CG_H  Acima_Last_CG_A  \\\n",
       "90                0.0     150.52     136.92              0.0              0.0   \n",
       "\n",
       "    Abaixo_Last_CG_H  Abaixo_Last_CG_A     CV_ML   CV_Over     CV_HA  \\\n",
       "90               0.0               0.0  0.053802  0.034681  0.125067   \n",
       "\n",
       "    Retornos_BH_Acu  Avg_Retornos_BH  Custo_Retorno_BH  Avg_Porc_BH_Bookie  \\\n",
       "90              0.0              0.0               inf                 0.0   \n",
       "\n",
       "    Avg_Porc_BH_Real  Dist_Porc_BH  Retornos_BA_Acu  Avg_Retornos_BA  \\\n",
       "90               0.0           0.0              0.0              0.0   \n",
       "\n",
       "    Custo_Retorno_BA  Avg_Porc_BA_Bookie  Avg_Porc_BA_Real  Dist_Porc_BA  \n",
       "90               inf                 0.0               0.0           0.0  "
      ]
     },
     "execution_count": 8,
     "metadata": {},
     "output_type": "execute_result"
    }
   ],
   "source": [
    "jogos = games[games['Date'] == data_var]\n",
    "\n",
    "jogos = jogos.drop(columns=['Home_Pts', 'Away_Pts',\n",
    "       'Back_Home', 'PL_Home', 'Back_Away',\n",
    "       'PL_Away', 'Back_Over', 'PL_Over', 'PL_Under', 'Back_HA_H', 'PL_HA_H',\n",
    "       'PL_HA_A', ])\n",
    "\n",
    "jogos"
   ]
  },
  {
   "attachments": {},
   "cell_type": "markdown",
   "id": "08aa1c88",
   "metadata": {
    "papermill": {
     "duration": 0.002,
     "end_time": "2024-08-08T11:31:18.838308",
     "exception": false,
     "start_time": "2024-08-08T11:31:18.836308",
     "status": "completed"
    },
    "tags": []
   },
   "source": [
    "## Apostas do dia"
   ]
  },
  {
   "cell_type": "markdown",
   "id": "b24569b1",
   "metadata": {
    "papermill": {
     "duration": 0.001503,
     "end_time": "2024-08-08T11:31:18.841811",
     "exception": false,
     "start_time": "2024-08-08T11:31:18.840308",
     "status": "completed"
    },
    "tags": []
   },
   "source": [
    "### Over v0 (LDA)"
   ]
  },
  {
   "cell_type": "code",
   "execution_count": 9,
   "id": "6f144103",
   "metadata": {
    "execution": {
     "iopub.execute_input": "2024-08-08T11:31:18.846814Z",
     "iopub.status.busy": "2024-08-08T11:31:18.846814Z",
     "iopub.status.idle": "2024-08-08T11:31:18.987025Z",
     "shell.execute_reply": "2024-08-08T11:31:18.986524Z"
    },
    "papermill": {
     "duration": 0.14422,
     "end_time": "2024-08-08T11:31:18.988028",
     "exception": false,
     "start_time": "2024-08-08T11:31:18.843808",
     "status": "completed"
    },
    "tags": []
   },
   "outputs": [
    {
     "name": "stdout",
     "output_type": "stream",
     "text": [
      "------------ MÉTODO OVER V0 (LDA) ------------\n",
      "\n"
     ]
    },
    {
     "data": {
      "text/html": [
       "<div>\n",
       "<style scoped>\n",
       "    .dataframe tbody tr th:only-of-type {\n",
       "        vertical-align: middle;\n",
       "    }\n",
       "\n",
       "    .dataframe tbody tr th {\n",
       "        vertical-align: top;\n",
       "    }\n",
       "\n",
       "    .dataframe thead th {\n",
       "        text-align: right;\n",
       "    }\n",
       "</style>\n",
       "<table border=\"1\" class=\"dataframe\">\n",
       "  <thead>\n",
       "    <tr style=\"text-align: right;\">\n",
       "      <th></th>\n",
       "      <th>Time</th>\n",
       "      <th>League</th>\n",
       "      <th>Home</th>\n",
       "      <th>Away</th>\n",
       "      <th>Over_Line</th>\n",
       "      <th>Odds_Over</th>\n",
       "      <th>prediction_score</th>\n",
       "      <th>Bet</th>\n",
       "    </tr>\n",
       "  </thead>\n",
       "  <tbody>\n",
       "    <tr>\n",
       "      <th>0</th>\n",
       "      <td>20:00</td>\n",
       "      <td>Venezuela Superliga</td>\n",
       "      <td>Pioneros</td>\n",
       "      <td>Marinos</td>\n",
       "      <td>141.5</td>\n",
       "      <td>1.88</td>\n",
       "      <td>1.0</td>\n",
       "      <td>Over</td>\n",
       "    </tr>\n",
       "  </tbody>\n",
       "</table>\n",
       "</div>"
      ],
      "text/plain": [
       "    Time               League      Home     Away  Over_Line  Odds_Over  \\\n",
       "0  20:00  Venezuela Superliga  Pioneros  Marinos      141.5       1.88   \n",
       "\n",
       "   prediction_score   Bet  \n",
       "0               1.0  Over  "
      ]
     },
     "metadata": {},
     "output_type": "display_data"
    },
    {
     "name": "stdout",
     "output_type": "stream",
     "text": [
      "\n"
     ]
    }
   ],
   "source": [
    "# Duplicando o dataset\n",
    "df_over_v0 = jogos.copy()\n",
    "\n",
    "df_over_v0.reset_index(drop=True, inplace=True)\n",
    "df_over_v0.replace([np.inf, -np.inf], 0, inplace=True)\n",
    "\n",
    "if not df_over_v0.empty:\n",
    "    mdl_over_v0 = load_model('ML/over/v1/v1_over', verbose=False)\n",
    "    prev = predict_model(mdl_over_v0, df_over_v0)\n",
    "    prev = prev[prev['prediction_label'] ==  1]\n",
    "    prev.reset_index(drop=True, inplace=True)\n",
    "    \n",
    "    # Filtros pós modelo\n",
    "\n",
    "    if not prev.empty:\n",
    "        prev.to_csv(f'apostas_do_dia/{data_var}/over_v0_{data_var}.csv', index=False)\n",
    "\n",
    "        print('------------ MÉTODO OVER V0 (LDA) ------------')\n",
    "        print()\n",
    "\n",
    "        prev['Bet'] = 'Over'\n",
    "        ligs = prev['League'].unique().tolist()\n",
    "\n",
    "        display(prev[['Time', 'League', 'Home', 'Away', 'Over_Line', 'Odds_Over', 'prediction_score', 'Bet']])\n",
    "        print()\n",
    "    else: print('Sem jogos')\n",
    "else: print('Sem jogos')"
   ]
  }
 ],
 "metadata": {
  "kernelspec": {
   "display_name": "modelos_futebol",
   "language": "python",
   "name": "python3"
  },
  "language_info": {
   "codemirror_mode": {
    "name": "ipython",
    "version": 3
   },
   "file_extension": ".py",
   "mimetype": "text/x-python",
   "name": "python",
   "nbconvert_exporter": "python",
   "pygments_lexer": "ipython3",
   "version": "3.10.7"
  },
  "papermill": {
   "default_parameters": {},
   "duration": 5.076235,
   "end_time": "2024-08-08T11:31:19.452504",
   "environment_variables": {},
   "exception": null,
   "input_path": "apostas_do_dia_v1.ipynb",
   "output_path": "apostas_do_dia_v1.ipynb",
   "parameters": {
    "data_var": "2024-08-08"
   },
   "start_time": "2024-08-08T11:31:14.376269",
   "version": "2.5.0"
  }
 },
 "nbformat": 4,
 "nbformat_minor": 5
}