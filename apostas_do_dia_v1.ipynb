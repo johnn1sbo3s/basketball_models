{
 "cells": [
  {
   "cell_type": "code",
   "execution_count": 1,
   "id": "d690e842",
   "metadata": {
    "execution": {
     "iopub.execute_input": "2024-07-03T13:01:58.210087Z",
     "iopub.status.busy": "2024-07-03T13:01:58.209587Z",
     "iopub.status.idle": "2024-07-03T13:01:58.222333Z",
     "shell.execute_reply": "2024-07-03T13:01:58.221817Z"
    },
    "papermill": {
     "duration": 0.017782,
     "end_time": "2024-07-03T13:01:58.223838",
     "exception": false,
     "start_time": "2024-07-03T13:01:58.206056",
     "status": "completed"
    },
    "tags": [
     "parameters"
    ]
   },
   "outputs": [],
   "source": [
    "data_var = ''"
   ]
  },
  {
   "cell_type": "code",
   "execution_count": 2,
   "id": "5de4081d",
   "metadata": {
    "execution": {
     "iopub.execute_input": "2024-07-03T13:01:58.228842Z",
     "iopub.status.busy": "2024-07-03T13:01:58.228342Z",
     "iopub.status.idle": "2024-07-03T13:01:58.237969Z",
     "shell.execute_reply": "2024-07-03T13:01:58.237437Z"
    },
    "papermill": {
     "duration": 0.013151,
     "end_time": "2024-07-03T13:01:58.238989",
     "exception": false,
     "start_time": "2024-07-03T13:01:58.225838",
     "status": "completed"
    },
    "tags": [
     "injected-parameters"
    ]
   },
   "outputs": [],
   "source": [
    "# Parameters\n",
    "data_var = \"2024-07-03\"\n"
   ]
  },
  {
   "cell_type": "code",
   "execution_count": 3,
   "id": "25b97174",
   "metadata": {
    "execution": {
     "iopub.execute_input": "2024-07-03T13:01:58.243479Z",
     "iopub.status.busy": "2024-07-03T13:01:58.242976Z",
     "iopub.status.idle": "2024-07-03T13:02:04.202108Z",
     "shell.execute_reply": "2024-07-03T13:02:04.201577Z"
    },
    "papermill": {
     "duration": 5.962626,
     "end_time": "2024-07-03T13:02:04.203615",
     "exception": false,
     "start_time": "2024-07-03T13:01:58.240989",
     "status": "completed"
    },
    "tags": []
   },
   "outputs": [],
   "source": [
    "import pandas as pd; pd.set_option('display.max_columns', None)\n",
    "import os\n",
    "from pycaret.classification import *\n",
    "from scripts.PreparaDataset import *\n",
    "from scripts.TeoriaRetornos import *"
   ]
  },
  {
   "attachments": {},
   "cell_type": "markdown",
   "id": "ffa9b361",
   "metadata": {
    "papermill": {
     "duration": 0.001499,
     "end_time": "2024-07-03T13:02:04.207614",
     "exception": false,
     "start_time": "2024-07-03T13:02:04.206115",
     "status": "completed"
    },
    "tags": []
   },
   "source": [
    "### Funções"
   ]
  },
  {
   "cell_type": "code",
   "execution_count": 4,
   "id": "cb6eea9b",
   "metadata": {
    "execution": {
     "iopub.execute_input": "2024-07-03T13:02:04.212614Z",
     "iopub.status.busy": "2024-07-03T13:02:04.212114Z",
     "iopub.status.idle": "2024-07-03T13:02:04.217138Z",
     "shell.execute_reply": "2024-07-03T13:02:04.216617Z"
    },
    "papermill": {
     "duration": 0.008519,
     "end_time": "2024-07-03T13:02:04.218133",
     "exception": false,
     "start_time": "2024-07-03T13:02:04.209614",
     "status": "completed"
    },
    "tags": []
   },
   "outputs": [],
   "source": [
    "def atualiza_dia(_jogos):\n",
    "    _jogos = prepara_df(_jogos)\n",
    "\n",
    "    _jogos = _jogos.reset_index(drop=True)\n",
    "\n",
    "    return _jogos"
   ]
  },
  {
   "attachments": {},
   "cell_type": "markdown",
   "id": "26b16874",
   "metadata": {
    "papermill": {
     "duration": 0.0015,
     "end_time": "2024-07-03T13:02:04.221633",
     "exception": false,
     "start_time": "2024-07-03T13:02:04.220133",
     "status": "completed"
    },
    "tags": []
   },
   "source": [
    "### Pegando os jogos do dia"
   ]
  },
  {
   "cell_type": "code",
   "execution_count": 5,
   "id": "5ddb2ecb",
   "metadata": {
    "execution": {
     "iopub.execute_input": "2024-07-03T13:02:04.226133Z",
     "iopub.status.busy": "2024-07-03T13:02:04.226133Z",
     "iopub.status.idle": "2024-07-03T13:02:04.248633Z",
     "shell.execute_reply": "2024-07-03T13:02:04.247633Z"
    },
    "papermill": {
     "duration": 0.026004,
     "end_time": "2024-07-03T13:02:04.249637",
     "exception": false,
     "start_time": "2024-07-03T13:02:04.223633",
     "status": "completed"
    },
    "tags": []
   },
   "outputs": [],
   "source": [
    "df_today = pd.read_csv(f'jogos_do_dia/{data_var}.csv')"
   ]
  },
  {
   "cell_type": "markdown",
   "id": "19a2214d",
   "metadata": {
    "papermill": {
     "duration": 0.0015,
     "end_time": "2024-07-03T13:02:04.253638",
     "exception": false,
     "start_time": "2024-07-03T13:02:04.252138",
     "status": "completed"
    },
    "tags": []
   },
   "source": [
    "### Atualizando os datasets que tem jogo hoje"
   ]
  },
  {
   "cell_type": "code",
   "execution_count": 6,
   "id": "68bd72ae",
   "metadata": {
    "execution": {
     "iopub.execute_input": "2024-07-03T13:02:04.258136Z",
     "iopub.status.busy": "2024-07-03T13:02:04.258136Z",
     "iopub.status.idle": "2024-07-03T13:02:04.325693Z",
     "shell.execute_reply": "2024-07-03T13:02:04.324691Z"
    },
    "papermill": {
     "duration": 0.071055,
     "end_time": "2024-07-03T13:02:04.326693",
     "exception": false,
     "start_time": "2024-07-03T13:02:04.255638",
     "status": "completed"
    },
    "tags": []
   },
   "outputs": [],
   "source": [
    "temporada = pd.read_csv('data/Entire_Season.csv')\n",
    "temporada = temporada[temporada['Date'] < data_var]\n",
    "temporada = pd.concat([temporada, df_today])\n",
    "ligas = df_today['League'].unique().tolist()\n",
    "temporada = temporada[temporada['League'].isin(ligas)]\n",
    "temporada.reset_index(drop=True, inplace=True)"
   ]
  },
  {
   "cell_type": "markdown",
   "id": "0d8018ca",
   "metadata": {
    "papermill": {
     "duration": 0.0025,
     "end_time": "2024-07-03T13:02:04.331690",
     "exception": false,
     "start_time": "2024-07-03T13:02:04.329190",
     "status": "completed"
    },
    "tags": []
   },
   "source": [
    "### Cria variáveis na temporada e nos jogos do dia"
   ]
  },
  {
   "cell_type": "code",
   "execution_count": 7,
   "id": "d3b06cb1",
   "metadata": {
    "execution": {
     "iopub.execute_input": "2024-07-03T13:02:04.336195Z",
     "iopub.status.busy": "2024-07-03T13:02:04.335695Z",
     "iopub.status.idle": "2024-07-03T13:02:05.255521Z",
     "shell.execute_reply": "2024-07-03T13:02:05.254998Z"
    },
    "papermill": {
     "duration": 0.923827,
     "end_time": "2024-07-03T13:02:05.257017",
     "exception": false,
     "start_time": "2024-07-03T13:02:04.333190",
     "status": "completed"
    },
    "tags": []
   },
   "outputs": [],
   "source": [
    "games = atualiza_dia(temporada)\n",
    "temporada = games[games['Date'] < data_var]\n",
    "os.makedirs(f'apostas_do_dia/{data_var}', exist_ok=True)"
   ]
  },
  {
   "cell_type": "code",
   "execution_count": 8,
   "id": "16aa533f",
   "metadata": {
    "execution": {
     "iopub.execute_input": "2024-07-03T13:02:05.262515Z",
     "iopub.status.busy": "2024-07-03T13:02:05.262017Z",
     "iopub.status.idle": "2024-07-03T13:02:05.302090Z",
     "shell.execute_reply": "2024-07-03T13:02:05.301556Z"
    },
    "papermill": {
     "duration": 0.04457,
     "end_time": "2024-07-03T13:02:05.303586",
     "exception": false,
     "start_time": "2024-07-03T13:02:05.259016",
     "status": "completed"
    },
    "tags": []
   },
   "outputs": [
    {
     "data": {
      "text/html": [
       "<div>\n",
       "<style scoped>\n",
       "    .dataframe tbody tr th:only-of-type {\n",
       "        vertical-align: middle;\n",
       "    }\n",
       "\n",
       "    .dataframe tbody tr th {\n",
       "        vertical-align: top;\n",
       "    }\n",
       "\n",
       "    .dataframe thead th {\n",
       "        text-align: right;\n",
       "    }\n",
       "</style>\n",
       "<table border=\"1\" class=\"dataframe\">\n",
       "  <thead>\n",
       "    <tr style=\"text-align: right;\">\n",
       "      <th></th>\n",
       "      <th>Date</th>\n",
       "      <th>League</th>\n",
       "      <th>Time</th>\n",
       "      <th>Home</th>\n",
       "      <th>Away</th>\n",
       "      <th>Odds_H</th>\n",
       "      <th>Odds_A</th>\n",
       "      <th>Over_Line</th>\n",
       "      <th>Odds_Over</th>\n",
       "      <th>Odds_Under</th>\n",
       "      <th>HA_Line</th>\n",
       "      <th>HA_Odds_H</th>\n",
       "      <th>HA_Odds_A</th>\n",
       "      <th>Fixture ID</th>\n",
       "      <th>P(H)</th>\n",
       "      <th>P(A)</th>\n",
       "      <th>P(O)</th>\n",
       "      <th>P(U)</th>\n",
       "      <th>P_Diff</th>\n",
       "      <th>Porc_Over_Home</th>\n",
       "      <th>Porc_Over_Away</th>\n",
       "      <th>CustoGolHome</th>\n",
       "      <th>CustoGolAway</th>\n",
       "      <th>Avg_CG_H</th>\n",
       "      <th>DP_CG_H</th>\n",
       "      <th>CV_CG_H</th>\n",
       "      <th>Avg_CG_A</th>\n",
       "      <th>DP_CG_A</th>\n",
       "      <th>CV_CG_A</th>\n",
       "      <th>MediaCustoGolHome</th>\n",
       "      <th>MediaCustoGolAway</th>\n",
       "      <th>Last_CG_H</th>\n",
       "      <th>Last_CG_A</th>\n",
       "      <th>Acima_Last_CG_H</th>\n",
       "      <th>Acima_Last_CG_A</th>\n",
       "      <th>Abaixo_Last_CG_H</th>\n",
       "      <th>Abaixo_Last_CG_A</th>\n",
       "      <th>CV_ML</th>\n",
       "      <th>CV_Over</th>\n",
       "      <th>CV_HA</th>\n",
       "      <th>Retornos_BH_Acu</th>\n",
       "      <th>Avg_Retornos_BH</th>\n",
       "      <th>Custo_Retorno_BH</th>\n",
       "      <th>Avg_Porc_BH_Bookie</th>\n",
       "      <th>Avg_Porc_BH_Real</th>\n",
       "      <th>Dist_Porc_BH</th>\n",
       "      <th>Retornos_BA_Acu</th>\n",
       "      <th>Avg_Retornos_BA</th>\n",
       "      <th>Custo_Retorno_BA</th>\n",
       "      <th>Avg_Porc_BA_Bookie</th>\n",
       "      <th>Avg_Porc_BA_Real</th>\n",
       "      <th>Dist_Porc_BA</th>\n",
       "    </tr>\n",
       "  </thead>\n",
       "  <tbody>\n",
       "    <tr>\n",
       "      <th>430</th>\n",
       "      <td>2024-07-03</td>\n",
       "      <td>Brasil Lbf Feminina</td>\n",
       "      <td>21:00</td>\n",
       "      <td>Ituano F</td>\n",
       "      <td>SESI Araraquara F</td>\n",
       "      <td>1.82</td>\n",
       "      <td>1.90</td>\n",
       "      <td>131.5</td>\n",
       "      <td>1.82</td>\n",
       "      <td>1.88</td>\n",
       "      <td>-3.5</td>\n",
       "      <td>1.95</td>\n",
       "      <td>2.08</td>\n",
       "      <td>8AagihcT</td>\n",
       "      <td>0.549451</td>\n",
       "      <td>0.526316</td>\n",
       "      <td>0.549451</td>\n",
       "      <td>0.531915</td>\n",
       "      <td>0.075766</td>\n",
       "      <td>0.0</td>\n",
       "      <td>0.0</td>\n",
       "      <td>NaN</td>\n",
       "      <td>NaN</td>\n",
       "      <td>NaN</td>\n",
       "      <td>NaN</td>\n",
       "      <td>NaN</td>\n",
       "      <td>NaN</td>\n",
       "      <td>NaN</td>\n",
       "      <td>NaN</td>\n",
       "      <td>0.000</td>\n",
       "      <td>0.000</td>\n",
       "      <td>0.00</td>\n",
       "      <td>0.00</td>\n",
       "      <td>0.0</td>\n",
       "      <td>0.0</td>\n",
       "      <td>0.0</td>\n",
       "      <td>0.0</td>\n",
       "      <td>0.030413</td>\n",
       "      <td>0.022933</td>\n",
       "      <td>0.045620</td>\n",
       "      <td>0.00</td>\n",
       "      <td>0.000</td>\n",
       "      <td>inf</td>\n",
       "      <td>0.000000</td>\n",
       "      <td>0.0</td>\n",
       "      <td>0.000000</td>\n",
       "      <td>0.00</td>\n",
       "      <td>0.000</td>\n",
       "      <td>inf</td>\n",
       "      <td>0.000000</td>\n",
       "      <td>0.0</td>\n",
       "      <td>0.000000</td>\n",
       "    </tr>\n",
       "    <tr>\n",
       "      <th>431</th>\n",
       "      <td>2024-07-03</td>\n",
       "      <td>Argentina Liga A</td>\n",
       "      <td>22:00</td>\n",
       "      <td>Instituto de Cordoba</td>\n",
       "      <td>Olimpico</td>\n",
       "      <td>1.48</td>\n",
       "      <td>2.57</td>\n",
       "      <td>157.5</td>\n",
       "      <td>1.80</td>\n",
       "      <td>1.87</td>\n",
       "      <td>-4.5</td>\n",
       "      <td>1.85</td>\n",
       "      <td>3.50</td>\n",
       "      <td>xUVQr7rm</td>\n",
       "      <td>0.675676</td>\n",
       "      <td>0.389105</td>\n",
       "      <td>0.555556</td>\n",
       "      <td>0.534759</td>\n",
       "      <td>0.064781</td>\n",
       "      <td>0.0</td>\n",
       "      <td>0.2</td>\n",
       "      <td>NaN</td>\n",
       "      <td>NaN</td>\n",
       "      <td>143.556</td>\n",
       "      <td>24.168490</td>\n",
       "      <td>0.168356</td>\n",
       "      <td>105.502</td>\n",
       "      <td>19.914309</td>\n",
       "      <td>0.188758</td>\n",
       "      <td>89.428</td>\n",
       "      <td>132.604</td>\n",
       "      <td>87.32</td>\n",
       "      <td>123.84</td>\n",
       "      <td>0.0</td>\n",
       "      <td>0.0</td>\n",
       "      <td>0.0</td>\n",
       "      <td>0.0</td>\n",
       "      <td>0.380616</td>\n",
       "      <td>0.026974</td>\n",
       "      <td>0.436159</td>\n",
       "      <td>-0.18</td>\n",
       "      <td>-0.036</td>\n",
       "      <td>-13.333333</td>\n",
       "      <td>0.792999</td>\n",
       "      <td>0.8</td>\n",
       "      <td>0.007001</td>\n",
       "      <td>0.36</td>\n",
       "      <td>0.072</td>\n",
       "      <td>21.805556</td>\n",
       "      <td>0.624896</td>\n",
       "      <td>0.6</td>\n",
       "      <td>-0.024896</td>\n",
       "    </tr>\n",
       "    <tr>\n",
       "      <th>432</th>\n",
       "      <td>2024-07-03</td>\n",
       "      <td>Canadá Cebl</td>\n",
       "      <td>21:00</td>\n",
       "      <td>Winnipeg Sea Bears</td>\n",
       "      <td>Edmonton Stingers</td>\n",
       "      <td>1.85</td>\n",
       "      <td>1.87</td>\n",
       "      <td>182.5</td>\n",
       "      <td>1.85</td>\n",
       "      <td>1.85</td>\n",
       "      <td>-1.5</td>\n",
       "      <td>1.89</td>\n",
       "      <td>1.92</td>\n",
       "      <td>2g004SCp</td>\n",
       "      <td>0.540541</td>\n",
       "      <td>0.534759</td>\n",
       "      <td>0.540541</td>\n",
       "      <td>0.540541</td>\n",
       "      <td>0.075300</td>\n",
       "      <td>0.0</td>\n",
       "      <td>0.0</td>\n",
       "      <td>NaN</td>\n",
       "      <td>NaN</td>\n",
       "      <td>NaN</td>\n",
       "      <td>NaN</td>\n",
       "      <td>NaN</td>\n",
       "      <td>NaN</td>\n",
       "      <td>NaN</td>\n",
       "      <td>NaN</td>\n",
       "      <td>0.000</td>\n",
       "      <td>0.000</td>\n",
       "      <td>180.40</td>\n",
       "      <td>181.39</td>\n",
       "      <td>0.0</td>\n",
       "      <td>0.0</td>\n",
       "      <td>0.0</td>\n",
       "      <td>0.0</td>\n",
       "      <td>0.007603</td>\n",
       "      <td>0.000000</td>\n",
       "      <td>0.011136</td>\n",
       "      <td>0.00</td>\n",
       "      <td>0.000</td>\n",
       "      <td>inf</td>\n",
       "      <td>0.000000</td>\n",
       "      <td>0.0</td>\n",
       "      <td>0.000000</td>\n",
       "      <td>0.00</td>\n",
       "      <td>0.000</td>\n",
       "      <td>inf</td>\n",
       "      <td>0.000000</td>\n",
       "      <td>0.0</td>\n",
       "      <td>0.000000</td>\n",
       "    </tr>\n",
       "    <tr>\n",
       "      <th>433</th>\n",
       "      <td>2024-07-03</td>\n",
       "      <td>Colômbia Lbp</td>\n",
       "      <td>21:30</td>\n",
       "      <td>Titanes de Barranquilla</td>\n",
       "      <td>Bucaros</td>\n",
       "      <td>1.54</td>\n",
       "      <td>2.37</td>\n",
       "      <td>155.5</td>\n",
       "      <td>1.84</td>\n",
       "      <td>1.86</td>\n",
       "      <td>-4.5</td>\n",
       "      <td>1.94</td>\n",
       "      <td>1.92</td>\n",
       "      <td>jDcRpc9N</td>\n",
       "      <td>0.649351</td>\n",
       "      <td>0.421941</td>\n",
       "      <td>0.543478</td>\n",
       "      <td>0.537634</td>\n",
       "      <td>0.071292</td>\n",
       "      <td>0.0</td>\n",
       "      <td>0.0</td>\n",
       "      <td>NaN</td>\n",
       "      <td>NaN</td>\n",
       "      <td>114.054</td>\n",
       "      <td>33.311619</td>\n",
       "      <td>0.292069</td>\n",
       "      <td>NaN</td>\n",
       "      <td>NaN</td>\n",
       "      <td>NaN</td>\n",
       "      <td>0.000</td>\n",
       "      <td>0.000</td>\n",
       "      <td>97.58</td>\n",
       "      <td>0.00</td>\n",
       "      <td>0.0</td>\n",
       "      <td>0.0</td>\n",
       "      <td>0.0</td>\n",
       "      <td>0.0</td>\n",
       "      <td>0.300204</td>\n",
       "      <td>0.007644</td>\n",
       "      <td>0.007328</td>\n",
       "      <td>0.00</td>\n",
       "      <td>0.000</td>\n",
       "      <td>inf</td>\n",
       "      <td>0.000000</td>\n",
       "      <td>0.0</td>\n",
       "      <td>0.000000</td>\n",
       "      <td>0.00</td>\n",
       "      <td>0.000</td>\n",
       "      <td>inf</td>\n",
       "      <td>0.000000</td>\n",
       "      <td>0.0</td>\n",
       "      <td>0.000000</td>\n",
       "    </tr>\n",
       "  </tbody>\n",
       "</table>\n",
       "</div>"
      ],
      "text/plain": [
       "           Date               League   Time                     Home  \\\n",
       "430  2024-07-03  Brasil Lbf Feminina  21:00                 Ituano F   \n",
       "431  2024-07-03     Argentina Liga A  22:00     Instituto de Cordoba   \n",
       "432  2024-07-03          Canadá Cebl  21:00       Winnipeg Sea Bears   \n",
       "433  2024-07-03         Colômbia Lbp  21:30  Titanes de Barranquilla   \n",
       "\n",
       "                  Away  Odds_H  Odds_A  Over_Line  Odds_Over  Odds_Under  \\\n",
       "430  SESI Araraquara F    1.82    1.90      131.5       1.82        1.88   \n",
       "431           Olimpico    1.48    2.57      157.5       1.80        1.87   \n",
       "432  Edmonton Stingers    1.85    1.87      182.5       1.85        1.85   \n",
       "433            Bucaros    1.54    2.37      155.5       1.84        1.86   \n",
       "\n",
       "     HA_Line  HA_Odds_H  HA_Odds_A Fixture ID      P(H)      P(A)      P(O)  \\\n",
       "430     -3.5       1.95       2.08   8AagihcT  0.549451  0.526316  0.549451   \n",
       "431     -4.5       1.85       3.50   xUVQr7rm  0.675676  0.389105  0.555556   \n",
       "432     -1.5       1.89       1.92   2g004SCp  0.540541  0.534759  0.540541   \n",
       "433     -4.5       1.94       1.92   jDcRpc9N  0.649351  0.421941  0.543478   \n",
       "\n",
       "         P(U)    P_Diff  Porc_Over_Home  Porc_Over_Away  CustoGolHome  \\\n",
       "430  0.531915  0.075766             0.0             0.0           NaN   \n",
       "431  0.534759  0.064781             0.0             0.2           NaN   \n",
       "432  0.540541  0.075300             0.0             0.0           NaN   \n",
       "433  0.537634  0.071292             0.0             0.0           NaN   \n",
       "\n",
       "     CustoGolAway  Avg_CG_H    DP_CG_H   CV_CG_H  Avg_CG_A    DP_CG_A  \\\n",
       "430           NaN       NaN        NaN       NaN       NaN        NaN   \n",
       "431           NaN   143.556  24.168490  0.168356   105.502  19.914309   \n",
       "432           NaN       NaN        NaN       NaN       NaN        NaN   \n",
       "433           NaN   114.054  33.311619  0.292069       NaN        NaN   \n",
       "\n",
       "      CV_CG_A  MediaCustoGolHome  MediaCustoGolAway  Last_CG_H  Last_CG_A  \\\n",
       "430       NaN              0.000              0.000       0.00       0.00   \n",
       "431  0.188758             89.428            132.604      87.32     123.84   \n",
       "432       NaN              0.000              0.000     180.40     181.39   \n",
       "433       NaN              0.000              0.000      97.58       0.00   \n",
       "\n",
       "     Acima_Last_CG_H  Acima_Last_CG_A  Abaixo_Last_CG_H  Abaixo_Last_CG_A  \\\n",
       "430              0.0              0.0               0.0               0.0   \n",
       "431              0.0              0.0               0.0               0.0   \n",
       "432              0.0              0.0               0.0               0.0   \n",
       "433              0.0              0.0               0.0               0.0   \n",
       "\n",
       "        CV_ML   CV_Over     CV_HA  Retornos_BH_Acu  Avg_Retornos_BH  \\\n",
       "430  0.030413  0.022933  0.045620             0.00            0.000   \n",
       "431  0.380616  0.026974  0.436159            -0.18           -0.036   \n",
       "432  0.007603  0.000000  0.011136             0.00            0.000   \n",
       "433  0.300204  0.007644  0.007328             0.00            0.000   \n",
       "\n",
       "     Custo_Retorno_BH  Avg_Porc_BH_Bookie  Avg_Porc_BH_Real  Dist_Porc_BH  \\\n",
       "430               inf            0.000000               0.0      0.000000   \n",
       "431        -13.333333            0.792999               0.8      0.007001   \n",
       "432               inf            0.000000               0.0      0.000000   \n",
       "433               inf            0.000000               0.0      0.000000   \n",
       "\n",
       "     Retornos_BA_Acu  Avg_Retornos_BA  Custo_Retorno_BA  Avg_Porc_BA_Bookie  \\\n",
       "430             0.00            0.000               inf            0.000000   \n",
       "431             0.36            0.072         21.805556            0.624896   \n",
       "432             0.00            0.000               inf            0.000000   \n",
       "433             0.00            0.000               inf            0.000000   \n",
       "\n",
       "     Avg_Porc_BA_Real  Dist_Porc_BA  \n",
       "430               0.0      0.000000  \n",
       "431               0.6     -0.024896  \n",
       "432               0.0      0.000000  \n",
       "433               0.0      0.000000  "
      ]
     },
     "execution_count": 8,
     "metadata": {},
     "output_type": "execute_result"
    }
   ],
   "source": [
    "jogos = games[games['Date'] == data_var]\n",
    "\n",
    "jogos = jogos.drop(columns=['Home_Pts', 'Away_Pts',\n",
    "       'Back_Home', 'PL_Home', 'Back_Away',\n",
    "       'PL_Away', 'Back_Over', 'PL_Over', 'PL_Under', 'Back_HA_H', 'PL_HA_H',\n",
    "       'PL_HA_A', ])\n",
    "\n",
    "jogos"
   ]
  },
  {
   "attachments": {},
   "cell_type": "markdown",
   "id": "08aa1c88",
   "metadata": {
    "papermill": {
     "duration": 0.001902,
     "end_time": "2024-07-03T13:02:05.308072",
     "exception": false,
     "start_time": "2024-07-03T13:02:05.306170",
     "status": "completed"
    },
    "tags": []
   },
   "source": [
    "## Apostas do dia"
   ]
  },
  {
   "cell_type": "markdown",
   "id": "b24569b1",
   "metadata": {
    "papermill": {
     "duration": 0.002001,
     "end_time": "2024-07-03T13:02:05.312072",
     "exception": false,
     "start_time": "2024-07-03T13:02:05.310071",
     "status": "completed"
    },
    "tags": []
   },
   "source": [
    "### Over v0 (LDA)"
   ]
  },
  {
   "cell_type": "code",
   "execution_count": 9,
   "id": "6f144103",
   "metadata": {
    "execution": {
     "iopub.execute_input": "2024-07-03T13:02:05.317076Z",
     "iopub.status.busy": "2024-07-03T13:02:05.316571Z",
     "iopub.status.idle": "2024-07-03T13:02:05.487852Z",
     "shell.execute_reply": "2024-07-03T13:02:05.487347Z"
    },
    "papermill": {
     "duration": 0.174775,
     "end_time": "2024-07-03T13:02:05.488847",
     "exception": false,
     "start_time": "2024-07-03T13:02:05.314072",
     "status": "completed"
    },
    "tags": []
   },
   "outputs": [
    {
     "name": "stdout",
     "output_type": "stream",
     "text": [
      "------------ MÉTODO OVER V0 (LDA) ------------\n",
      "\n"
     ]
    },
    {
     "data": {
      "text/html": [
       "<div>\n",
       "<style scoped>\n",
       "    .dataframe tbody tr th:only-of-type {\n",
       "        vertical-align: middle;\n",
       "    }\n",
       "\n",
       "    .dataframe tbody tr th {\n",
       "        vertical-align: top;\n",
       "    }\n",
       "\n",
       "    .dataframe thead th {\n",
       "        text-align: right;\n",
       "    }\n",
       "</style>\n",
       "<table border=\"1\" class=\"dataframe\">\n",
       "  <thead>\n",
       "    <tr style=\"text-align: right;\">\n",
       "      <th></th>\n",
       "      <th>Time</th>\n",
       "      <th>League</th>\n",
       "      <th>Home</th>\n",
       "      <th>Away</th>\n",
       "      <th>Over_Line</th>\n",
       "      <th>Odds_Over</th>\n",
       "      <th>prediction_score</th>\n",
       "      <th>Bet</th>\n",
       "    </tr>\n",
       "  </thead>\n",
       "  <tbody>\n",
       "    <tr>\n",
       "      <th>0</th>\n",
       "      <td>21:00</td>\n",
       "      <td>Brasil Lbf Feminina</td>\n",
       "      <td>Ituano F</td>\n",
       "      <td>SESI Araraquara F</td>\n",
       "      <td>131.5</td>\n",
       "      <td>1.82</td>\n",
       "      <td>0.9998</td>\n",
       "      <td>Over</td>\n",
       "    </tr>\n",
       "    <tr>\n",
       "      <th>1</th>\n",
       "      <td>22:00</td>\n",
       "      <td>Argentina Liga A</td>\n",
       "      <td>Instituto de Cordoba</td>\n",
       "      <td>Olimpico</td>\n",
       "      <td>157.5</td>\n",
       "      <td>1.80</td>\n",
       "      <td>1.0000</td>\n",
       "      <td>Over</td>\n",
       "    </tr>\n",
       "    <tr>\n",
       "      <th>2</th>\n",
       "      <td>21:30</td>\n",
       "      <td>Colômbia Lbp</td>\n",
       "      <td>Titanes de Barranquilla</td>\n",
       "      <td>Bucaros</td>\n",
       "      <td>155.5</td>\n",
       "      <td>1.84</td>\n",
       "      <td>0.7982</td>\n",
       "      <td>Over</td>\n",
       "    </tr>\n",
       "  </tbody>\n",
       "</table>\n",
       "</div>"
      ],
      "text/plain": [
       "    Time               League                     Home               Away  \\\n",
       "0  21:00  Brasil Lbf Feminina                 Ituano F  SESI Araraquara F   \n",
       "1  22:00     Argentina Liga A     Instituto de Cordoba           Olimpico   \n",
       "2  21:30         Colômbia Lbp  Titanes de Barranquilla            Bucaros   \n",
       "\n",
       "   Over_Line  Odds_Over  prediction_score   Bet  \n",
       "0      131.5       1.82            0.9998  Over  \n",
       "1      157.5       1.80            1.0000  Over  \n",
       "2      155.5       1.84            0.7982  Over  "
      ]
     },
     "metadata": {},
     "output_type": "display_data"
    },
    {
     "name": "stdout",
     "output_type": "stream",
     "text": [
      "\n"
     ]
    }
   ],
   "source": [
    "# Duplicando o dataset\n",
    "df_over_v0 = jogos.copy()\n",
    "\n",
    "df_over_v0.reset_index(drop=True, inplace=True)\n",
    "df_over_v0.replace([np.inf, -np.inf], 0, inplace=True)\n",
    "\n",
    "if not df_over_v0.empty:\n",
    "    mdl_over_v0 = load_model('ML/over/v1/v1_over', verbose=False)\n",
    "    prev = predict_model(mdl_over_v0, df_over_v0)\n",
    "    prev = prev[prev['prediction_label'] ==  1]\n",
    "    prev.reset_index(drop=True, inplace=True)\n",
    "    \n",
    "    # Filtros pós modelo\n",
    "\n",
    "    if not prev.empty:\n",
    "        prev.to_csv(f'apostas_do_dia/{data_var}/over_v0_{data_var}.csv', index=False)\n",
    "\n",
    "        print('------------ MÉTODO OVER V0 (LDA) ------------')\n",
    "        print()\n",
    "\n",
    "        prev['Bet'] = 'Over'\n",
    "        ligs = prev['League'].unique().tolist()\n",
    "\n",
    "        display(prev[['Time', 'League', 'Home', 'Away', 'Over_Line', 'Odds_Over', 'prediction_score', 'Bet']])\n",
    "        print()\n",
    "    else: print('Sem jogos')\n",
    "else: print('Sem jogos')"
   ]
  }
 ],
 "metadata": {
  "kernelspec": {
   "display_name": "modelos_futebol",
   "language": "python",
   "name": "python3"
  },
  "language_info": {
   "codemirror_mode": {
    "name": "ipython",
    "version": 3
   },
   "file_extension": ".py",
   "mimetype": "text/x-python",
   "name": "python",
   "nbconvert_exporter": "python",
   "pygments_lexer": "ipython3",
   "version": "3.10.7"
  },
  "papermill": {
   "default_parameters": {},
   "duration": 9.025273,
   "end_time": "2024-07-03T13:02:05.938311",
   "environment_variables": {},
   "exception": null,
   "input_path": "apostas_do_dia_v1.ipynb",
   "output_path": "apostas_do_dia_v1.ipynb",
   "parameters": {
    "data_var": "2024-07-03"
   },
   "start_time": "2024-07-03T13:01:56.913038",
   "version": "2.5.0"
  }
 },
 "nbformat": 4,
 "nbformat_minor": 5
}