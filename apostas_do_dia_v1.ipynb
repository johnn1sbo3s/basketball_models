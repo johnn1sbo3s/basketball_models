{
 "cells": [
  {
   "cell_type": "code",
   "execution_count": 1,
   "id": "d690e842",
   "metadata": {
    "execution": {
     "iopub.execute_input": "2024-06-28T13:01:41.003177Z",
     "iopub.status.busy": "2024-06-28T13:01:41.003177Z",
     "iopub.status.idle": "2024-06-28T13:01:41.016096Z",
     "shell.execute_reply": "2024-06-28T13:01:41.015051Z"
    },
    "papermill": {
     "duration": 0.017447,
     "end_time": "2024-06-28T13:01:41.017092",
     "exception": false,
     "start_time": "2024-06-28T13:01:40.999645",
     "status": "completed"
    },
    "tags": [
     "parameters"
    ]
   },
   "outputs": [],
   "source": [
    "data_var = ''"
   ]
  },
  {
   "cell_type": "code",
   "execution_count": 2,
   "id": "66020c77",
   "metadata": {
    "execution": {
     "iopub.execute_input": "2024-06-28T13:01:41.022583Z",
     "iopub.status.busy": "2024-06-28T13:01:41.022082Z",
     "iopub.status.idle": "2024-06-28T13:01:41.031090Z",
     "shell.execute_reply": "2024-06-28T13:01:41.030556Z"
    },
    "papermill": {
     "duration": 0.012501,
     "end_time": "2024-06-28T13:01:41.032091",
     "exception": false,
     "start_time": "2024-06-28T13:01:41.019590",
     "status": "completed"
    },
    "tags": [
     "injected-parameters"
    ]
   },
   "outputs": [],
   "source": [
    "# Parameters\n",
    "data_var = \"2024-06-28\"\n"
   ]
  },
  {
   "cell_type": "code",
   "execution_count": 3,
   "id": "25b97174",
   "metadata": {
    "execution": {
     "iopub.execute_input": "2024-06-28T13:01:41.036591Z",
     "iopub.status.busy": "2024-06-28T13:01:41.036090Z",
     "iopub.status.idle": "2024-06-28T13:01:46.729781Z",
     "shell.execute_reply": "2024-06-28T13:01:46.729256Z"
    },
    "papermill": {
     "duration": 5.69719,
     "end_time": "2024-06-28T13:01:46.731276",
     "exception": false,
     "start_time": "2024-06-28T13:01:41.034086",
     "status": "completed"
    },
    "tags": []
   },
   "outputs": [],
   "source": [
    "import pandas as pd; pd.set_option('display.max_columns', None)\n",
    "import os\n",
    "from pycaret.classification import *\n",
    "from scripts.PreparaDataset import *\n",
    "from scripts.TeoriaRetornos import *"
   ]
  },
  {
   "attachments": {},
   "cell_type": "markdown",
   "id": "ffa9b361",
   "metadata": {
    "papermill": {
     "duration": 0.002,
     "end_time": "2024-06-28T13:01:46.735774",
     "exception": false,
     "start_time": "2024-06-28T13:01:46.733774",
     "status": "completed"
    },
    "tags": []
   },
   "source": [
    "### Funções"
   ]
  },
  {
   "cell_type": "code",
   "execution_count": 4,
   "id": "cb6eea9b",
   "metadata": {
    "execution": {
     "iopub.execute_input": "2024-06-28T13:01:46.740775Z",
     "iopub.status.busy": "2024-06-28T13:01:46.740275Z",
     "iopub.status.idle": "2024-06-28T13:01:46.744767Z",
     "shell.execute_reply": "2024-06-28T13:01:46.744249Z"
    },
    "papermill": {
     "duration": 0.008991,
     "end_time": "2024-06-28T13:01:46.746264",
     "exception": false,
     "start_time": "2024-06-28T13:01:46.737273",
     "status": "completed"
    },
    "tags": []
   },
   "outputs": [],
   "source": [
    "def atualiza_dia(_jogos):\n",
    "    _jogos = prepara_df(_jogos)\n",
    "\n",
    "    _jogos = _jogos.reset_index(drop=True)\n",
    "\n",
    "    return _jogos"
   ]
  },
  {
   "attachments": {},
   "cell_type": "markdown",
   "id": "26b16874",
   "metadata": {
    "papermill": {
     "duration": 0.002006,
     "end_time": "2024-06-28T13:01:46.750768",
     "exception": false,
     "start_time": "2024-06-28T13:01:46.748762",
     "status": "completed"
    },
    "tags": []
   },
   "source": [
    "### Pegando os jogos do dia"
   ]
  },
  {
   "cell_type": "code",
   "execution_count": 5,
   "id": "5ddb2ecb",
   "metadata": {
    "execution": {
     "iopub.execute_input": "2024-06-28T13:01:46.755265Z",
     "iopub.status.busy": "2024-06-28T13:01:46.755265Z",
     "iopub.status.idle": "2024-06-28T13:01:46.775525Z",
     "shell.execute_reply": "2024-06-28T13:01:46.775024Z"
    },
    "papermill": {
     "duration": 0.02476,
     "end_time": "2024-06-28T13:01:46.777025",
     "exception": false,
     "start_time": "2024-06-28T13:01:46.752265",
     "status": "completed"
    },
    "tags": []
   },
   "outputs": [],
   "source": [
    "df_today = pd.read_csv(f'jogos_do_dia/{data_var}.csv')"
   ]
  },
  {
   "cell_type": "markdown",
   "id": "19a2214d",
   "metadata": {
    "papermill": {
     "duration": 0.001499,
     "end_time": "2024-06-28T13:01:46.780524",
     "exception": false,
     "start_time": "2024-06-28T13:01:46.779025",
     "status": "completed"
    },
    "tags": []
   },
   "source": [
    "### Atualizando os datasets que tem jogo hoje"
   ]
  },
  {
   "cell_type": "code",
   "execution_count": 6,
   "id": "68bd72ae",
   "metadata": {
    "execution": {
     "iopub.execute_input": "2024-06-28T13:01:46.785029Z",
     "iopub.status.busy": "2024-06-28T13:01:46.785029Z",
     "iopub.status.idle": "2024-06-28T13:01:46.852980Z",
     "shell.execute_reply": "2024-06-28T13:01:46.852445Z"
    },
    "papermill": {
     "duration": 0.071936,
     "end_time": "2024-06-28T13:01:46.854461",
     "exception": false,
     "start_time": "2024-06-28T13:01:46.782525",
     "status": "completed"
    },
    "tags": []
   },
   "outputs": [],
   "source": [
    "temporada = pd.read_csv('data/Entire_Season.csv')\n",
    "temporada = temporada[temporada['Date'] < data_var]\n",
    "temporada = pd.concat([temporada, df_today])\n",
    "ligas = df_today['League'].unique().tolist()\n",
    "temporada = temporada[temporada['League'].isin(ligas)]\n",
    "temporada.reset_index(drop=True, inplace=True)"
   ]
  },
  {
   "cell_type": "markdown",
   "id": "0d8018ca",
   "metadata": {
    "papermill": {
     "duration": 0.001997,
     "end_time": "2024-06-28T13:01:46.859461",
     "exception": false,
     "start_time": "2024-06-28T13:01:46.857464",
     "status": "completed"
    },
    "tags": []
   },
   "source": [
    "### Cria variáveis na temporada e nos jogos do dia"
   ]
  },
  {
   "cell_type": "code",
   "execution_count": 7,
   "id": "d3b06cb1",
   "metadata": {
    "execution": {
     "iopub.execute_input": "2024-06-28T13:01:46.863963Z",
     "iopub.status.busy": "2024-06-28T13:01:46.863465Z",
     "iopub.status.idle": "2024-06-28T13:01:47.922556Z",
     "shell.execute_reply": "2024-06-28T13:01:47.922016Z"
    },
    "papermill": {
     "duration": 1.063583,
     "end_time": "2024-06-28T13:01:47.924544",
     "exception": false,
     "start_time": "2024-06-28T13:01:46.860961",
     "status": "completed"
    },
    "tags": []
   },
   "outputs": [],
   "source": [
    "games = atualiza_dia(temporada)\n",
    "temporada = games[games['Date'] < data_var]\n",
    "os.makedirs(f'apostas_do_dia/{data_var}', exist_ok=True)"
   ]
  },
  {
   "cell_type": "code",
   "execution_count": 8,
   "id": "16aa533f",
   "metadata": {
    "execution": {
     "iopub.execute_input": "2024-06-28T13:01:47.929467Z",
     "iopub.status.busy": "2024-06-28T13:01:47.929467Z",
     "iopub.status.idle": "2024-06-28T13:01:47.970058Z",
     "shell.execute_reply": "2024-06-28T13:01:47.968549Z"
    },
    "papermill": {
     "duration": 0.044518,
     "end_time": "2024-06-28T13:01:47.971060",
     "exception": false,
     "start_time": "2024-06-28T13:01:47.926542",
     "status": "completed"
    },
    "tags": []
   },
   "outputs": [
    {
     "data": {
      "text/html": [
       "<div>\n",
       "<style scoped>\n",
       "    .dataframe tbody tr th:only-of-type {\n",
       "        vertical-align: middle;\n",
       "    }\n",
       "\n",
       "    .dataframe tbody tr th {\n",
       "        vertical-align: top;\n",
       "    }\n",
       "\n",
       "    .dataframe thead th {\n",
       "        text-align: right;\n",
       "    }\n",
       "</style>\n",
       "<table border=\"1\" class=\"dataframe\">\n",
       "  <thead>\n",
       "    <tr style=\"text-align: right;\">\n",
       "      <th></th>\n",
       "      <th>Date</th>\n",
       "      <th>League</th>\n",
       "      <th>Time</th>\n",
       "      <th>Home</th>\n",
       "      <th>Away</th>\n",
       "      <th>Odds_H</th>\n",
       "      <th>Odds_A</th>\n",
       "      <th>Over_Line</th>\n",
       "      <th>Odds_Over</th>\n",
       "      <th>Odds_Under</th>\n",
       "      <th>HA_Line</th>\n",
       "      <th>HA_Odds_H</th>\n",
       "      <th>HA_Odds_A</th>\n",
       "      <th>Fixture ID</th>\n",
       "      <th>P(H)</th>\n",
       "      <th>P(A)</th>\n",
       "      <th>P(O)</th>\n",
       "      <th>P(U)</th>\n",
       "      <th>P_Diff</th>\n",
       "      <th>Porc_Over_Home</th>\n",
       "      <th>Porc_Over_Away</th>\n",
       "      <th>CustoGolHome</th>\n",
       "      <th>CustoGolAway</th>\n",
       "      <th>Avg_CG_H</th>\n",
       "      <th>DP_CG_H</th>\n",
       "      <th>CV_CG_H</th>\n",
       "      <th>Avg_CG_A</th>\n",
       "      <th>DP_CG_A</th>\n",
       "      <th>CV_CG_A</th>\n",
       "      <th>MediaCustoGolHome</th>\n",
       "      <th>MediaCustoGolAway</th>\n",
       "      <th>Last_CG_H</th>\n",
       "      <th>Last_CG_A</th>\n",
       "      <th>Acima_Last_CG_H</th>\n",
       "      <th>Acima_Last_CG_A</th>\n",
       "      <th>Abaixo_Last_CG_H</th>\n",
       "      <th>Abaixo_Last_CG_A</th>\n",
       "      <th>CV_ML</th>\n",
       "      <th>CV_Over</th>\n",
       "      <th>CV_HA</th>\n",
       "      <th>Retornos_BH_Acu</th>\n",
       "      <th>Avg_Retornos_BH</th>\n",
       "      <th>Custo_Retorno_BH</th>\n",
       "      <th>Avg_Porc_BH_Bookie</th>\n",
       "      <th>Avg_Porc_BH_Real</th>\n",
       "      <th>Dist_Porc_BH</th>\n",
       "      <th>Retornos_BA_Acu</th>\n",
       "      <th>Avg_Retornos_BA</th>\n",
       "      <th>Custo_Retorno_BA</th>\n",
       "      <th>Avg_Porc_BA_Bookie</th>\n",
       "      <th>Avg_Porc_BA_Real</th>\n",
       "      <th>Dist_Porc_BA</th>\n",
       "    </tr>\n",
       "  </thead>\n",
       "  <tbody>\n",
       "    <tr>\n",
       "      <th>517</th>\n",
       "      <td>2024-06-28</td>\n",
       "      <td>Austrália Nbl1 Norte</td>\n",
       "      <td>07:00</td>\n",
       "      <td>Gold Coast Rollers</td>\n",
       "      <td>Rockhampton Rockets</td>\n",
       "      <td>1.56</td>\n",
       "      <td>2.32</td>\n",
       "      <td>197.5</td>\n",
       "      <td>1.85</td>\n",
       "      <td>1.85</td>\n",
       "      <td>-3.5</td>\n",
       "      <td>1.85</td>\n",
       "      <td>2.63</td>\n",
       "      <td>Ob3Yli15</td>\n",
       "      <td>0.641026</td>\n",
       "      <td>0.431034</td>\n",
       "      <td>0.540541</td>\n",
       "      <td>0.540541</td>\n",
       "      <td>0.072060</td>\n",
       "      <td>0.0</td>\n",
       "      <td>0.0</td>\n",
       "      <td>NaN</td>\n",
       "      <td>NaN</td>\n",
       "      <td>NaN</td>\n",
       "      <td>NaN</td>\n",
       "      <td>NaN</td>\n",
       "      <td>NaN</td>\n",
       "      <td>NaN</td>\n",
       "      <td>NaN</td>\n",
       "      <td>0.0</td>\n",
       "      <td>0.0</td>\n",
       "      <td>156.42</td>\n",
       "      <td>0.00</td>\n",
       "      <td>0.0</td>\n",
       "      <td>0.0</td>\n",
       "      <td>0.0</td>\n",
       "      <td>0.0</td>\n",
       "      <td>0.277011</td>\n",
       "      <td>0.000000</td>\n",
       "      <td>0.246225</td>\n",
       "      <td>0.0</td>\n",
       "      <td>0.0</td>\n",
       "      <td>inf</td>\n",
       "      <td>0.0</td>\n",
       "      <td>0.0</td>\n",
       "      <td>0.0</td>\n",
       "      <td>0.0</td>\n",
       "      <td>0.0</td>\n",
       "      <td>inf</td>\n",
       "      <td>0.0</td>\n",
       "      <td>0.0</td>\n",
       "      <td>0.0</td>\n",
       "    </tr>\n",
       "    <tr>\n",
       "      <th>518</th>\n",
       "      <td>2024-06-28</td>\n",
       "      <td>Austrália Nbl1 Sul</td>\n",
       "      <td>06:30</td>\n",
       "      <td>NW Tasmania</td>\n",
       "      <td>Diamond Valley</td>\n",
       "      <td>1.61</td>\n",
       "      <td>2.22</td>\n",
       "      <td>174.5</td>\n",
       "      <td>1.84</td>\n",
       "      <td>1.86</td>\n",
       "      <td>-3.5</td>\n",
       "      <td>1.99</td>\n",
       "      <td>2.08</td>\n",
       "      <td>t0cJFPUs</td>\n",
       "      <td>0.621118</td>\n",
       "      <td>0.450450</td>\n",
       "      <td>0.543478</td>\n",
       "      <td>0.537634</td>\n",
       "      <td>0.071568</td>\n",
       "      <td>0.0</td>\n",
       "      <td>0.0</td>\n",
       "      <td>NaN</td>\n",
       "      <td>NaN</td>\n",
       "      <td>NaN</td>\n",
       "      <td>NaN</td>\n",
       "      <td>NaN</td>\n",
       "      <td>NaN</td>\n",
       "      <td>NaN</td>\n",
       "      <td>NaN</td>\n",
       "      <td>0.0</td>\n",
       "      <td>0.0</td>\n",
       "      <td>125.06</td>\n",
       "      <td>0.00</td>\n",
       "      <td>0.0</td>\n",
       "      <td>0.0</td>\n",
       "      <td>0.0</td>\n",
       "      <td>0.0</td>\n",
       "      <td>0.225240</td>\n",
       "      <td>0.007644</td>\n",
       "      <td>0.031273</td>\n",
       "      <td>0.0</td>\n",
       "      <td>0.0</td>\n",
       "      <td>inf</td>\n",
       "      <td>0.0</td>\n",
       "      <td>0.0</td>\n",
       "      <td>0.0</td>\n",
       "      <td>0.0</td>\n",
       "      <td>0.0</td>\n",
       "      <td>inf</td>\n",
       "      <td>0.0</td>\n",
       "      <td>0.0</td>\n",
       "      <td>0.0</td>\n",
       "    </tr>\n",
       "    <tr>\n",
       "      <th>519</th>\n",
       "      <td>2024-06-28</td>\n",
       "      <td>Nova Zelândia Nbl</td>\n",
       "      <td>04:30</td>\n",
       "      <td>Taranaki Airs</td>\n",
       "      <td>Canterbury Rams</td>\n",
       "      <td>1.61</td>\n",
       "      <td>2.22</td>\n",
       "      <td>182.5</td>\n",
       "      <td>1.85</td>\n",
       "      <td>1.85</td>\n",
       "      <td>-3.5</td>\n",
       "      <td>1.93</td>\n",
       "      <td>2.18</td>\n",
       "      <td>CdFZIXsc</td>\n",
       "      <td>0.621118</td>\n",
       "      <td>0.450450</td>\n",
       "      <td>0.540541</td>\n",
       "      <td>0.540541</td>\n",
       "      <td>0.071568</td>\n",
       "      <td>0.0</td>\n",
       "      <td>0.0</td>\n",
       "      <td>NaN</td>\n",
       "      <td>NaN</td>\n",
       "      <td>NaN</td>\n",
       "      <td>NaN</td>\n",
       "      <td>NaN</td>\n",
       "      <td>NaN</td>\n",
       "      <td>NaN</td>\n",
       "      <td>NaN</td>\n",
       "      <td>0.0</td>\n",
       "      <td>0.0</td>\n",
       "      <td>0.00</td>\n",
       "      <td>227.76</td>\n",
       "      <td>0.0</td>\n",
       "      <td>0.0</td>\n",
       "      <td>0.0</td>\n",
       "      <td>0.0</td>\n",
       "      <td>0.225240</td>\n",
       "      <td>0.000000</td>\n",
       "      <td>0.086023</td>\n",
       "      <td>0.0</td>\n",
       "      <td>0.0</td>\n",
       "      <td>inf</td>\n",
       "      <td>0.0</td>\n",
       "      <td>0.0</td>\n",
       "      <td>0.0</td>\n",
       "      <td>0.0</td>\n",
       "      <td>0.0</td>\n",
       "      <td>inf</td>\n",
       "      <td>0.0</td>\n",
       "      <td>0.0</td>\n",
       "      <td>0.0</td>\n",
       "    </tr>\n",
       "    <tr>\n",
       "      <th>520</th>\n",
       "      <td>2024-06-28</td>\n",
       "      <td>Venezuela Superliga</td>\n",
       "      <td>19:45</td>\n",
       "      <td>Piratas de La Guaira</td>\n",
       "      <td>Guaiqueries</td>\n",
       "      <td>2.06</td>\n",
       "      <td>1.69</td>\n",
       "      <td>148.5</td>\n",
       "      <td>1.85</td>\n",
       "      <td>1.85</td>\n",
       "      <td>1.5</td>\n",
       "      <td>1.92</td>\n",
       "      <td>1.55</td>\n",
       "      <td>UTu7W4kT</td>\n",
       "      <td>0.485437</td>\n",
       "      <td>0.591716</td>\n",
       "      <td>0.540541</td>\n",
       "      <td>0.540541</td>\n",
       "      <td>0.077153</td>\n",
       "      <td>0.0</td>\n",
       "      <td>0.0</td>\n",
       "      <td>NaN</td>\n",
       "      <td>NaN</td>\n",
       "      <td>NaN</td>\n",
       "      <td>NaN</td>\n",
       "      <td>NaN</td>\n",
       "      <td>NaN</td>\n",
       "      <td>NaN</td>\n",
       "      <td>NaN</td>\n",
       "      <td>0.0</td>\n",
       "      <td>0.0</td>\n",
       "      <td>158.41</td>\n",
       "      <td>139.04</td>\n",
       "      <td>0.0</td>\n",
       "      <td>0.0</td>\n",
       "      <td>0.0</td>\n",
       "      <td>0.0</td>\n",
       "      <td>0.139536</td>\n",
       "      <td>0.000000</td>\n",
       "      <td>0.150795</td>\n",
       "      <td>0.0</td>\n",
       "      <td>0.0</td>\n",
       "      <td>inf</td>\n",
       "      <td>0.0</td>\n",
       "      <td>0.0</td>\n",
       "      <td>0.0</td>\n",
       "      <td>0.0</td>\n",
       "      <td>0.0</td>\n",
       "      <td>inf</td>\n",
       "      <td>0.0</td>\n",
       "      <td>0.0</td>\n",
       "      <td>0.0</td>\n",
       "    </tr>\n",
       "  </tbody>\n",
       "</table>\n",
       "</div>"
      ],
      "text/plain": [
       "           Date                League   Time                  Home  \\\n",
       "517  2024-06-28  Austrália Nbl1 Norte  07:00    Gold Coast Rollers   \n",
       "518  2024-06-28    Austrália Nbl1 Sul  06:30           NW Tasmania   \n",
       "519  2024-06-28     Nova Zelândia Nbl  04:30         Taranaki Airs   \n",
       "520  2024-06-28   Venezuela Superliga  19:45  Piratas de La Guaira   \n",
       "\n",
       "                    Away  Odds_H  Odds_A  Over_Line  Odds_Over  Odds_Under  \\\n",
       "517  Rockhampton Rockets    1.56    2.32      197.5       1.85        1.85   \n",
       "518       Diamond Valley    1.61    2.22      174.5       1.84        1.86   \n",
       "519      Canterbury Rams    1.61    2.22      182.5       1.85        1.85   \n",
       "520          Guaiqueries    2.06    1.69      148.5       1.85        1.85   \n",
       "\n",
       "     HA_Line  HA_Odds_H  HA_Odds_A Fixture ID      P(H)      P(A)      P(O)  \\\n",
       "517     -3.5       1.85       2.63   Ob3Yli15  0.641026  0.431034  0.540541   \n",
       "518     -3.5       1.99       2.08   t0cJFPUs  0.621118  0.450450  0.543478   \n",
       "519     -3.5       1.93       2.18   CdFZIXsc  0.621118  0.450450  0.540541   \n",
       "520      1.5       1.92       1.55   UTu7W4kT  0.485437  0.591716  0.540541   \n",
       "\n",
       "         P(U)    P_Diff  Porc_Over_Home  Porc_Over_Away  CustoGolHome  \\\n",
       "517  0.540541  0.072060             0.0             0.0           NaN   \n",
       "518  0.537634  0.071568             0.0             0.0           NaN   \n",
       "519  0.540541  0.071568             0.0             0.0           NaN   \n",
       "520  0.540541  0.077153             0.0             0.0           NaN   \n",
       "\n",
       "     CustoGolAway  Avg_CG_H  DP_CG_H  CV_CG_H  Avg_CG_A  DP_CG_A  CV_CG_A  \\\n",
       "517           NaN       NaN      NaN      NaN       NaN      NaN      NaN   \n",
       "518           NaN       NaN      NaN      NaN       NaN      NaN      NaN   \n",
       "519           NaN       NaN      NaN      NaN       NaN      NaN      NaN   \n",
       "520           NaN       NaN      NaN      NaN       NaN      NaN      NaN   \n",
       "\n",
       "     MediaCustoGolHome  MediaCustoGolAway  Last_CG_H  Last_CG_A  \\\n",
       "517                0.0                0.0     156.42       0.00   \n",
       "518                0.0                0.0     125.06       0.00   \n",
       "519                0.0                0.0       0.00     227.76   \n",
       "520                0.0                0.0     158.41     139.04   \n",
       "\n",
       "     Acima_Last_CG_H  Acima_Last_CG_A  Abaixo_Last_CG_H  Abaixo_Last_CG_A  \\\n",
       "517              0.0              0.0               0.0               0.0   \n",
       "518              0.0              0.0               0.0               0.0   \n",
       "519              0.0              0.0               0.0               0.0   \n",
       "520              0.0              0.0               0.0               0.0   \n",
       "\n",
       "        CV_ML   CV_Over     CV_HA  Retornos_BH_Acu  Avg_Retornos_BH  \\\n",
       "517  0.277011  0.000000  0.246225              0.0              0.0   \n",
       "518  0.225240  0.007644  0.031273              0.0              0.0   \n",
       "519  0.225240  0.000000  0.086023              0.0              0.0   \n",
       "520  0.139536  0.000000  0.150795              0.0              0.0   \n",
       "\n",
       "     Custo_Retorno_BH  Avg_Porc_BH_Bookie  Avg_Porc_BH_Real  Dist_Porc_BH  \\\n",
       "517               inf                 0.0               0.0           0.0   \n",
       "518               inf                 0.0               0.0           0.0   \n",
       "519               inf                 0.0               0.0           0.0   \n",
       "520               inf                 0.0               0.0           0.0   \n",
       "\n",
       "     Retornos_BA_Acu  Avg_Retornos_BA  Custo_Retorno_BA  Avg_Porc_BA_Bookie  \\\n",
       "517              0.0              0.0               inf                 0.0   \n",
       "518              0.0              0.0               inf                 0.0   \n",
       "519              0.0              0.0               inf                 0.0   \n",
       "520              0.0              0.0               inf                 0.0   \n",
       "\n",
       "     Avg_Porc_BA_Real  Dist_Porc_BA  \n",
       "517               0.0           0.0  \n",
       "518               0.0           0.0  \n",
       "519               0.0           0.0  \n",
       "520               0.0           0.0  "
      ]
     },
     "execution_count": 8,
     "metadata": {},
     "output_type": "execute_result"
    }
   ],
   "source": [
    "jogos = games[games['Date'] == data_var]\n",
    "\n",
    "jogos = jogos.drop(columns=['Home_Pts', 'Away_Pts',\n",
    "       'Back_Home', 'PL_Home', 'Back_Away',\n",
    "       'PL_Away', 'Back_Over', 'PL_Over', 'PL_Under', 'Back_HA_H', 'PL_HA_H',\n",
    "       'PL_HA_A', ])\n",
    "\n",
    "jogos"
   ]
  },
  {
   "attachments": {},
   "cell_type": "markdown",
   "id": "08aa1c88",
   "metadata": {
    "papermill": {
     "duration": 0.0025,
     "end_time": "2024-06-28T13:01:47.975555",
     "exception": false,
     "start_time": "2024-06-28T13:01:47.973055",
     "status": "completed"
    },
    "tags": []
   },
   "source": [
    "## Apostas do dia"
   ]
  },
  {
   "cell_type": "markdown",
   "id": "b24569b1",
   "metadata": {
    "papermill": {
     "duration": 0.002001,
     "end_time": "2024-06-28T13:01:47.979556",
     "exception": false,
     "start_time": "2024-06-28T13:01:47.977555",
     "status": "completed"
    },
    "tags": []
   },
   "source": [
    "### Over v0 (LDA)"
   ]
  },
  {
   "cell_type": "code",
   "execution_count": 9,
   "id": "6f144103",
   "metadata": {
    "execution": {
     "iopub.execute_input": "2024-06-28T13:01:47.984559Z",
     "iopub.status.busy": "2024-06-28T13:01:47.984056Z",
     "iopub.status.idle": "2024-06-28T13:01:48.139489Z",
     "shell.execute_reply": "2024-06-28T13:01:48.138986Z"
    },
    "papermill": {
     "duration": 0.15943,
     "end_time": "2024-06-28T13:01:48.140985",
     "exception": false,
     "start_time": "2024-06-28T13:01:47.981555",
     "status": "completed"
    },
    "tags": []
   },
   "outputs": [
    {
     "name": "stdout",
     "output_type": "stream",
     "text": [
      "------------ MÉTODO OVER V0 (LDA) ------------\n",
      "\n"
     ]
    },
    {
     "data": {
      "text/html": [
       "<div>\n",
       "<style scoped>\n",
       "    .dataframe tbody tr th:only-of-type {\n",
       "        vertical-align: middle;\n",
       "    }\n",
       "\n",
       "    .dataframe tbody tr th {\n",
       "        vertical-align: top;\n",
       "    }\n",
       "\n",
       "    .dataframe thead th {\n",
       "        text-align: right;\n",
       "    }\n",
       "</style>\n",
       "<table border=\"1\" class=\"dataframe\">\n",
       "  <thead>\n",
       "    <tr style=\"text-align: right;\">\n",
       "      <th></th>\n",
       "      <th>Time</th>\n",
       "      <th>League</th>\n",
       "      <th>Home</th>\n",
       "      <th>Away</th>\n",
       "      <th>Over_Line</th>\n",
       "      <th>Odds_Over</th>\n",
       "      <th>prediction_score</th>\n",
       "      <th>Bet</th>\n",
       "    </tr>\n",
       "  </thead>\n",
       "  <tbody>\n",
       "    <tr>\n",
       "      <th>0</th>\n",
       "      <td>07:00</td>\n",
       "      <td>Austrália Nbl1 Norte</td>\n",
       "      <td>Gold Coast Rollers</td>\n",
       "      <td>Rockhampton Rockets</td>\n",
       "      <td>197.5</td>\n",
       "      <td>1.85</td>\n",
       "      <td>1.0</td>\n",
       "      <td>Over</td>\n",
       "    </tr>\n",
       "    <tr>\n",
       "      <th>1</th>\n",
       "      <td>06:30</td>\n",
       "      <td>Austrália Nbl1 Sul</td>\n",
       "      <td>NW Tasmania</td>\n",
       "      <td>Diamond Valley</td>\n",
       "      <td>174.5</td>\n",
       "      <td>1.84</td>\n",
       "      <td>1.0</td>\n",
       "      <td>Over</td>\n",
       "    </tr>\n",
       "    <tr>\n",
       "      <th>2</th>\n",
       "      <td>04:30</td>\n",
       "      <td>Nova Zelândia Nbl</td>\n",
       "      <td>Taranaki Airs</td>\n",
       "      <td>Canterbury Rams</td>\n",
       "      <td>182.5</td>\n",
       "      <td>1.85</td>\n",
       "      <td>1.0</td>\n",
       "      <td>Over</td>\n",
       "    </tr>\n",
       "  </tbody>\n",
       "</table>\n",
       "</div>"
      ],
      "text/plain": [
       "    Time                League                Home                 Away  \\\n",
       "0  07:00  Austrália Nbl1 Norte  Gold Coast Rollers  Rockhampton Rockets   \n",
       "1  06:30    Austrália Nbl1 Sul         NW Tasmania       Diamond Valley   \n",
       "2  04:30     Nova Zelândia Nbl       Taranaki Airs      Canterbury Rams   \n",
       "\n",
       "   Over_Line  Odds_Over  prediction_score   Bet  \n",
       "0      197.5       1.85               1.0  Over  \n",
       "1      174.5       1.84               1.0  Over  \n",
       "2      182.5       1.85               1.0  Over  "
      ]
     },
     "metadata": {},
     "output_type": "display_data"
    },
    {
     "name": "stdout",
     "output_type": "stream",
     "text": [
      "\n"
     ]
    }
   ],
   "source": [
    "# Duplicando o dataset\n",
    "df_over_v0 = jogos.copy()\n",
    "\n",
    "df_over_v0.reset_index(drop=True, inplace=True)\n",
    "df_over_v0.replace([np.inf, -np.inf], 0, inplace=True)\n",
    "\n",
    "if not df_over_v0.empty:\n",
    "    mdl_over_v0 = load_model('ML/over/v1/v1_over', verbose=False)\n",
    "    prev = predict_model(mdl_over_v0, df_over_v0)\n",
    "    prev = prev[prev['prediction_label'] ==  1]\n",
    "    prev.reset_index(drop=True, inplace=True)\n",
    "    \n",
    "    # Filtros pós modelo\n",
    "\n",
    "    if not prev.empty:\n",
    "        prev.to_csv(f'apostas_do_dia/{data_var}/over_v0_{data_var}.csv', index=False)\n",
    "\n",
    "        print('------------ MÉTODO OVER V0 (LDA) ------------')\n",
    "        print()\n",
    "\n",
    "        prev['Bet'] = 'Over'\n",
    "        ligs = prev['League'].unique().tolist()\n",
    "\n",
    "        display(prev[['Time', 'League', 'Home', 'Away', 'Over_Line', 'Odds_Over', 'prediction_score', 'Bet']])\n",
    "        print()\n",
    "    else: print('Sem jogos')\n",
    "else: print('Sem jogos')"
   ]
  }
 ],
 "metadata": {
  "kernelspec": {
   "display_name": "modelos_futebol",
   "language": "python",
   "name": "python3"
  },
  "language_info": {
   "codemirror_mode": {
    "name": "ipython",
    "version": 3
   },
   "file_extension": ".py",
   "mimetype": "text/x-python",
   "name": "python",
   "nbconvert_exporter": "python",
   "pygments_lexer": "ipython3",
   "version": "3.10.7"
  },
  "papermill": {
   "default_parameters": {},
   "duration": 8.771799,
   "end_time": "2024-06-28T13:01:48.481351",
   "environment_variables": {},
   "exception": null,
   "input_path": "apostas_do_dia_v1.ipynb",
   "output_path": "apostas_do_dia_v1.ipynb",
   "parameters": {
    "data_var": "2024-06-28"
   },
   "start_time": "2024-06-28T13:01:39.709552",
   "version": "2.5.0"
  }
 },
 "nbformat": 4,
 "nbformat_minor": 5
}