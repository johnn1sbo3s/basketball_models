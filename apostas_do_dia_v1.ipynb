{
 "cells": [
  {
   "cell_type": "code",
   "execution_count": 1,
   "id": "d690e842",
   "metadata": {
    "execution": {
     "iopub.execute_input": "2024-06-26T13:01:40.677964Z",
     "iopub.status.busy": "2024-06-26T13:01:40.677466Z",
     "iopub.status.idle": "2024-06-26T13:01:40.690262Z",
     "shell.execute_reply": "2024-06-26T13:01:40.689729Z"
    },
    "papermill": {
     "duration": 0.017852,
     "end_time": "2024-06-26T13:01:40.691782",
     "exception": false,
     "start_time": "2024-06-26T13:01:40.673930",
     "status": "completed"
    },
    "tags": [
     "parameters"
    ]
   },
   "outputs": [],
   "source": [
    "data_var = ''"
   ]
  },
  {
   "cell_type": "code",
   "execution_count": 2,
   "id": "4a9d74d5",
   "metadata": {
    "execution": {
     "iopub.execute_input": "2024-06-26T13:01:40.696282Z",
     "iopub.status.busy": "2024-06-26T13:01:40.696282Z",
     "iopub.status.idle": "2024-06-26T13:01:40.705273Z",
     "shell.execute_reply": "2024-06-26T13:01:40.704768Z"
    },
    "papermill": {
     "duration": 0.012986,
     "end_time": "2024-06-26T13:01:40.706768",
     "exception": false,
     "start_time": "2024-06-26T13:01:40.693782",
     "status": "completed"
    },
    "tags": [
     "injected-parameters"
    ]
   },
   "outputs": [],
   "source": [
    "# Parameters\n",
    "data_var = \"2024-06-26\"\n"
   ]
  },
  {
   "cell_type": "code",
   "execution_count": 3,
   "id": "25b97174",
   "metadata": {
    "execution": {
     "iopub.execute_input": "2024-06-26T13:01:40.710768Z",
     "iopub.status.busy": "2024-06-26T13:01:40.710768Z",
     "iopub.status.idle": "2024-06-26T13:01:46.487439Z",
     "shell.execute_reply": "2024-06-26T13:01:46.486936Z"
    },
    "papermill": {
     "duration": 5.780675,
     "end_time": "2024-06-26T13:01:46.488943",
     "exception": false,
     "start_time": "2024-06-26T13:01:40.708268",
     "status": "completed"
    },
    "tags": []
   },
   "outputs": [],
   "source": [
    "import pandas as pd; pd.set_option('display.max_columns', None)\n",
    "import os\n",
    "from pycaret.classification import *\n",
    "from scripts.PreparaDataset import *\n",
    "from scripts.TeoriaRetornos import *"
   ]
  },
  {
   "attachments": {},
   "cell_type": "markdown",
   "id": "ffa9b361",
   "metadata": {
    "papermill": {
     "duration": 0.001497,
     "end_time": "2024-06-26T13:01:46.492938",
     "exception": false,
     "start_time": "2024-06-26T13:01:46.491441",
     "status": "completed"
    },
    "tags": []
   },
   "source": [
    "### Funções"
   ]
  },
  {
   "cell_type": "code",
   "execution_count": 4,
   "id": "cb6eea9b",
   "metadata": {
    "execution": {
     "iopub.execute_input": "2024-06-26T13:01:46.497936Z",
     "iopub.status.busy": "2024-06-26T13:01:46.497440Z",
     "iopub.status.idle": "2024-06-26T13:01:46.502939Z",
     "shell.execute_reply": "2024-06-26T13:01:46.502436Z"
    },
    "papermill": {
     "duration": 0.009003,
     "end_time": "2024-06-26T13:01:46.503944",
     "exception": false,
     "start_time": "2024-06-26T13:01:46.494941",
     "status": "completed"
    },
    "tags": []
   },
   "outputs": [],
   "source": [
    "def atualiza_dia(_jogos):\n",
    "    _jogos = prepara_df(_jogos)\n",
    "\n",
    "    _jogos = _jogos.reset_index(drop=True)\n",
    "\n",
    "    return _jogos"
   ]
  },
  {
   "attachments": {},
   "cell_type": "markdown",
   "id": "26b16874",
   "metadata": {
    "papermill": {
     "duration": 0.001497,
     "end_time": "2024-06-26T13:01:46.507438",
     "exception": false,
     "start_time": "2024-06-26T13:01:46.505941",
     "status": "completed"
    },
    "tags": []
   },
   "source": [
    "### Pegando os jogos do dia"
   ]
  },
  {
   "cell_type": "code",
   "execution_count": 5,
   "id": "5ddb2ecb",
   "metadata": {
    "execution": {
     "iopub.execute_input": "2024-06-26T13:01:46.511939Z",
     "iopub.status.busy": "2024-06-26T13:01:46.511939Z",
     "iopub.status.idle": "2024-06-26T13:01:46.534263Z",
     "shell.execute_reply": "2024-06-26T13:01:46.533744Z"
    },
    "papermill": {
     "duration": 0.026318,
     "end_time": "2024-06-26T13:01:46.535759",
     "exception": false,
     "start_time": "2024-06-26T13:01:46.509441",
     "status": "completed"
    },
    "tags": []
   },
   "outputs": [],
   "source": [
    "df_today = pd.read_csv(f'jogos_do_dia/{data_var}.csv')"
   ]
  },
  {
   "cell_type": "markdown",
   "id": "19a2214d",
   "metadata": {
    "papermill": {
     "duration": 0.0015,
     "end_time": "2024-06-26T13:01:46.539259",
     "exception": false,
     "start_time": "2024-06-26T13:01:46.537759",
     "status": "completed"
    },
    "tags": []
   },
   "source": [
    "### Atualizando os datasets que tem jogo hoje"
   ]
  },
  {
   "cell_type": "code",
   "execution_count": 6,
   "id": "68bd72ae",
   "metadata": {
    "execution": {
     "iopub.execute_input": "2024-06-26T13:01:46.544275Z",
     "iopub.status.busy": "2024-06-26T13:01:46.543763Z",
     "iopub.status.idle": "2024-06-26T13:01:46.611962Z",
     "shell.execute_reply": "2024-06-26T13:01:46.610928Z"
    },
    "papermill": {
     "duration": 0.072197,
     "end_time": "2024-06-26T13:01:46.613456",
     "exception": false,
     "start_time": "2024-06-26T13:01:46.541259",
     "status": "completed"
    },
    "tags": []
   },
   "outputs": [],
   "source": [
    "temporada = pd.read_csv('data/Entire_Season.csv')\n",
    "temporada = temporada[temporada['Date'] < data_var]\n",
    "temporada = pd.concat([temporada, df_today])\n",
    "ligas = df_today['League'].unique().tolist()\n",
    "temporada = temporada[temporada['League'].isin(ligas)]\n",
    "temporada.reset_index(drop=True, inplace=True)"
   ]
  },
  {
   "cell_type": "markdown",
   "id": "0d8018ca",
   "metadata": {
    "papermill": {
     "duration": 0.001986,
     "end_time": "2024-06-26T13:01:46.617444",
     "exception": false,
     "start_time": "2024-06-26T13:01:46.615458",
     "status": "completed"
    },
    "tags": []
   },
   "source": [
    "### Cria variáveis na temporada e nos jogos do dia"
   ]
  },
  {
   "cell_type": "code",
   "execution_count": 7,
   "id": "d3b06cb1",
   "metadata": {
    "execution": {
     "iopub.execute_input": "2024-06-26T13:01:46.622448Z",
     "iopub.status.busy": "2024-06-26T13:01:46.621944Z",
     "iopub.status.idle": "2024-06-26T13:01:46.889693Z",
     "shell.execute_reply": "2024-06-26T13:01:46.889161Z"
    },
    "papermill": {
     "duration": 0.272239,
     "end_time": "2024-06-26T13:01:46.891183",
     "exception": false,
     "start_time": "2024-06-26T13:01:46.618944",
     "status": "completed"
    },
    "tags": []
   },
   "outputs": [],
   "source": [
    "games = atualiza_dia(temporada)\n",
    "temporada = games[games['Date'] < data_var]\n",
    "os.makedirs(f'apostas_do_dia/{data_var}', exist_ok=True)"
   ]
  },
  {
   "cell_type": "code",
   "execution_count": 8,
   "id": "16aa533f",
   "metadata": {
    "execution": {
     "iopub.execute_input": "2024-06-26T13:01:46.896179Z",
     "iopub.status.busy": "2024-06-26T13:01:46.895695Z",
     "iopub.status.idle": "2024-06-26T13:01:46.920649Z",
     "shell.execute_reply": "2024-06-26T13:01:46.920147Z"
    },
    "papermill": {
     "duration": 0.028468,
     "end_time": "2024-06-26T13:01:46.921650",
     "exception": false,
     "start_time": "2024-06-26T13:01:46.893182",
     "status": "completed"
    },
    "tags": []
   },
   "outputs": [
    {
     "data": {
      "text/html": [
       "<div>\n",
       "<style scoped>\n",
       "    .dataframe tbody tr th:only-of-type {\n",
       "        vertical-align: middle;\n",
       "    }\n",
       "\n",
       "    .dataframe tbody tr th {\n",
       "        vertical-align: top;\n",
       "    }\n",
       "\n",
       "    .dataframe thead th {\n",
       "        text-align: right;\n",
       "    }\n",
       "</style>\n",
       "<table border=\"1\" class=\"dataframe\">\n",
       "  <thead>\n",
       "    <tr style=\"text-align: right;\">\n",
       "      <th></th>\n",
       "      <th>Date</th>\n",
       "      <th>League</th>\n",
       "      <th>Time</th>\n",
       "      <th>Home</th>\n",
       "      <th>Away</th>\n",
       "      <th>Odds_H</th>\n",
       "      <th>Odds_A</th>\n",
       "      <th>Over_Line</th>\n",
       "      <th>Odds_Over</th>\n",
       "      <th>Odds_Under</th>\n",
       "      <th>HA_Line</th>\n",
       "      <th>HA_Odds_H</th>\n",
       "      <th>HA_Odds_A</th>\n",
       "      <th>Fixture ID</th>\n",
       "      <th>P(H)</th>\n",
       "      <th>P(A)</th>\n",
       "      <th>P(O)</th>\n",
       "      <th>P(U)</th>\n",
       "      <th>P_Diff</th>\n",
       "      <th>Porc_Over_Home</th>\n",
       "      <th>Porc_Over_Away</th>\n",
       "      <th>CustoGolHome</th>\n",
       "      <th>CustoGolAway</th>\n",
       "      <th>Avg_CG_H</th>\n",
       "      <th>DP_CG_H</th>\n",
       "      <th>CV_CG_H</th>\n",
       "      <th>Avg_CG_A</th>\n",
       "      <th>DP_CG_A</th>\n",
       "      <th>CV_CG_A</th>\n",
       "      <th>MediaCustoGolHome</th>\n",
       "      <th>MediaCustoGolAway</th>\n",
       "      <th>Last_CG_H</th>\n",
       "      <th>Last_CG_A</th>\n",
       "      <th>Acima_Last_CG_H</th>\n",
       "      <th>Acima_Last_CG_A</th>\n",
       "      <th>Abaixo_Last_CG_H</th>\n",
       "      <th>Abaixo_Last_CG_A</th>\n",
       "      <th>CV_ML</th>\n",
       "      <th>CV_Over</th>\n",
       "      <th>CV_HA</th>\n",
       "      <th>Retornos_BH_Acu</th>\n",
       "      <th>Avg_Retornos_BH</th>\n",
       "      <th>Custo_Retorno_BH</th>\n",
       "      <th>Avg_Porc_BH_Bookie</th>\n",
       "      <th>Avg_Porc_BH_Real</th>\n",
       "      <th>Dist_Porc_BH</th>\n",
       "      <th>Retornos_BA_Acu</th>\n",
       "      <th>Avg_Retornos_BA</th>\n",
       "      <th>Custo_Retorno_BA</th>\n",
       "      <th>Avg_Porc_BA_Bookie</th>\n",
       "      <th>Avg_Porc_BA_Real</th>\n",
       "      <th>Dist_Porc_BA</th>\n",
       "    </tr>\n",
       "  </thead>\n",
       "  <tbody>\n",
       "    <tr>\n",
       "      <th>147</th>\n",
       "      <td>2024-06-26</td>\n",
       "      <td>México Cibacopa</td>\n",
       "      <td>23:00</td>\n",
       "      <td>Rayos de Hermosillo</td>\n",
       "      <td>Astros</td>\n",
       "      <td>1.70</td>\n",
       "      <td>1.98</td>\n",
       "      <td>181.5</td>\n",
       "      <td>1.83</td>\n",
       "      <td>1.83</td>\n",
       "      <td>-1.5</td>\n",
       "      <td>1.80</td>\n",
       "      <td>2.12</td>\n",
       "      <td>t6zqIB4F</td>\n",
       "      <td>0.588235</td>\n",
       "      <td>0.505051</td>\n",
       "      <td>0.546448</td>\n",
       "      <td>0.546448</td>\n",
       "      <td>0.093286</td>\n",
       "      <td>0.0</td>\n",
       "      <td>0.0</td>\n",
       "      <td>NaN</td>\n",
       "      <td>NaN</td>\n",
       "      <td>158.900</td>\n",
       "      <td>16.069070</td>\n",
       "      <td>0.101127</td>\n",
       "      <td>NaN</td>\n",
       "      <td>NaN</td>\n",
       "      <td>NaN</td>\n",
       "      <td>0.0</td>\n",
       "      <td>0.0</td>\n",
       "      <td>185.22</td>\n",
       "      <td>160.55</td>\n",
       "      <td>0.0</td>\n",
       "      <td>0.0</td>\n",
       "      <td>0.0</td>\n",
       "      <td>0.0</td>\n",
       "      <td>0.107603</td>\n",
       "      <td>0.000000</td>\n",
       "      <td>0.115446</td>\n",
       "      <td>0.0</td>\n",
       "      <td>0.0</td>\n",
       "      <td>inf</td>\n",
       "      <td>0.0</td>\n",
       "      <td>0.0</td>\n",
       "      <td>0.0</td>\n",
       "      <td>0.0</td>\n",
       "      <td>0.0</td>\n",
       "      <td>inf</td>\n",
       "      <td>0.0</td>\n",
       "      <td>0.0</td>\n",
       "      <td>0.0</td>\n",
       "    </tr>\n",
       "    <tr>\n",
       "      <th>148</th>\n",
       "      <td>2024-06-26</td>\n",
       "      <td>Mundo Amistoso Internacional</td>\n",
       "      <td>13:30</td>\n",
       "      <td>Croácia</td>\n",
       "      <td>Brasil</td>\n",
       "      <td>1.70</td>\n",
       "      <td>2.07</td>\n",
       "      <td>156.5</td>\n",
       "      <td>1.85</td>\n",
       "      <td>1.85</td>\n",
       "      <td>-3.5</td>\n",
       "      <td>2.00</td>\n",
       "      <td>2.12</td>\n",
       "      <td>2LnWOMyH</td>\n",
       "      <td>0.588235</td>\n",
       "      <td>0.483092</td>\n",
       "      <td>0.540541</td>\n",
       "      <td>0.540541</td>\n",
       "      <td>0.071327</td>\n",
       "      <td>0.0</td>\n",
       "      <td>0.0</td>\n",
       "      <td>NaN</td>\n",
       "      <td>NaN</td>\n",
       "      <td>NaN</td>\n",
       "      <td>NaN</td>\n",
       "      <td>NaN</td>\n",
       "      <td>NaN</td>\n",
       "      <td>NaN</td>\n",
       "      <td>NaN</td>\n",
       "      <td>0.0</td>\n",
       "      <td>0.0</td>\n",
       "      <td>0.00</td>\n",
       "      <td>0.00</td>\n",
       "      <td>0.0</td>\n",
       "      <td>0.0</td>\n",
       "      <td>0.0</td>\n",
       "      <td>0.0</td>\n",
       "      <td>0.138795</td>\n",
       "      <td>0.000000</td>\n",
       "      <td>0.041191</td>\n",
       "      <td>0.0</td>\n",
       "      <td>0.0</td>\n",
       "      <td>inf</td>\n",
       "      <td>0.0</td>\n",
       "      <td>0.0</td>\n",
       "      <td>0.0</td>\n",
       "      <td>0.0</td>\n",
       "      <td>0.0</td>\n",
       "      <td>inf</td>\n",
       "      <td>0.0</td>\n",
       "      <td>0.0</td>\n",
       "      <td>0.0</td>\n",
       "    </tr>\n",
       "    <tr>\n",
       "      <th>149</th>\n",
       "      <td>2024-06-26</td>\n",
       "      <td>Porto Rico Bsn</td>\n",
       "      <td>21:00</td>\n",
       "      <td>Cangrejeros</td>\n",
       "      <td>Criollos de Caguas</td>\n",
       "      <td>2.03</td>\n",
       "      <td>1.66</td>\n",
       "      <td>177.5</td>\n",
       "      <td>1.85</td>\n",
       "      <td>1.81</td>\n",
       "      <td>1.5</td>\n",
       "      <td>1.94</td>\n",
       "      <td>1.51</td>\n",
       "      <td>jg1eY6X5</td>\n",
       "      <td>0.492611</td>\n",
       "      <td>0.602410</td>\n",
       "      <td>0.540541</td>\n",
       "      <td>0.552486</td>\n",
       "      <td>0.095020</td>\n",
       "      <td>0.0</td>\n",
       "      <td>0.0</td>\n",
       "      <td>NaN</td>\n",
       "      <td>NaN</td>\n",
       "      <td>176.844</td>\n",
       "      <td>26.541387</td>\n",
       "      <td>0.150084</td>\n",
       "      <td>NaN</td>\n",
       "      <td>NaN</td>\n",
       "      <td>NaN</td>\n",
       "      <td>0.0</td>\n",
       "      <td>0.0</td>\n",
       "      <td>207.03</td>\n",
       "      <td>139.40</td>\n",
       "      <td>1.0</td>\n",
       "      <td>0.0</td>\n",
       "      <td>0.0</td>\n",
       "      <td>0.0</td>\n",
       "      <td>0.141805</td>\n",
       "      <td>0.015456</td>\n",
       "      <td>0.176264</td>\n",
       "      <td>0.0</td>\n",
       "      <td>0.0</td>\n",
       "      <td>inf</td>\n",
       "      <td>0.0</td>\n",
       "      <td>0.0</td>\n",
       "      <td>0.0</td>\n",
       "      <td>0.0</td>\n",
       "      <td>0.0</td>\n",
       "      <td>inf</td>\n",
       "      <td>0.0</td>\n",
       "      <td>0.0</td>\n",
       "      <td>0.0</td>\n",
       "    </tr>\n",
       "  </tbody>\n",
       "</table>\n",
       "</div>"
      ],
      "text/plain": [
       "           Date                        League   Time                 Home  \\\n",
       "147  2024-06-26               México Cibacopa  23:00  Rayos de Hermosillo   \n",
       "148  2024-06-26  Mundo Amistoso Internacional  13:30              Croácia   \n",
       "149  2024-06-26                Porto Rico Bsn  21:00          Cangrejeros   \n",
       "\n",
       "                   Away  Odds_H  Odds_A  Over_Line  Odds_Over  Odds_Under  \\\n",
       "147              Astros    1.70    1.98      181.5       1.83        1.83   \n",
       "148              Brasil    1.70    2.07      156.5       1.85        1.85   \n",
       "149  Criollos de Caguas    2.03    1.66      177.5       1.85        1.81   \n",
       "\n",
       "     HA_Line  HA_Odds_H  HA_Odds_A Fixture ID      P(H)      P(A)      P(O)  \\\n",
       "147     -1.5       1.80       2.12   t6zqIB4F  0.588235  0.505051  0.546448   \n",
       "148     -3.5       2.00       2.12   2LnWOMyH  0.588235  0.483092  0.540541   \n",
       "149      1.5       1.94       1.51   jg1eY6X5  0.492611  0.602410  0.540541   \n",
       "\n",
       "         P(U)    P_Diff  Porc_Over_Home  Porc_Over_Away  CustoGolHome  \\\n",
       "147  0.546448  0.093286             0.0             0.0           NaN   \n",
       "148  0.540541  0.071327             0.0             0.0           NaN   \n",
       "149  0.552486  0.095020             0.0             0.0           NaN   \n",
       "\n",
       "     CustoGolAway  Avg_CG_H    DP_CG_H   CV_CG_H  Avg_CG_A  DP_CG_A  CV_CG_A  \\\n",
       "147           NaN   158.900  16.069070  0.101127       NaN      NaN      NaN   \n",
       "148           NaN       NaN        NaN       NaN       NaN      NaN      NaN   \n",
       "149           NaN   176.844  26.541387  0.150084       NaN      NaN      NaN   \n",
       "\n",
       "     MediaCustoGolHome  MediaCustoGolAway  Last_CG_H  Last_CG_A  \\\n",
       "147                0.0                0.0     185.22     160.55   \n",
       "148                0.0                0.0       0.00       0.00   \n",
       "149                0.0                0.0     207.03     139.40   \n",
       "\n",
       "     Acima_Last_CG_H  Acima_Last_CG_A  Abaixo_Last_CG_H  Abaixo_Last_CG_A  \\\n",
       "147              0.0              0.0               0.0               0.0   \n",
       "148              0.0              0.0               0.0               0.0   \n",
       "149              1.0              0.0               0.0               0.0   \n",
       "\n",
       "        CV_ML   CV_Over     CV_HA  Retornos_BH_Acu  Avg_Retornos_BH  \\\n",
       "147  0.107603  0.000000  0.115446              0.0              0.0   \n",
       "148  0.138795  0.000000  0.041191              0.0              0.0   \n",
       "149  0.141805  0.015456  0.176264              0.0              0.0   \n",
       "\n",
       "     Custo_Retorno_BH  Avg_Porc_BH_Bookie  Avg_Porc_BH_Real  Dist_Porc_BH  \\\n",
       "147               inf                 0.0               0.0           0.0   \n",
       "148               inf                 0.0               0.0           0.0   \n",
       "149               inf                 0.0               0.0           0.0   \n",
       "\n",
       "     Retornos_BA_Acu  Avg_Retornos_BA  Custo_Retorno_BA  Avg_Porc_BA_Bookie  \\\n",
       "147              0.0              0.0               inf                 0.0   \n",
       "148              0.0              0.0               inf                 0.0   \n",
       "149              0.0              0.0               inf                 0.0   \n",
       "\n",
       "     Avg_Porc_BA_Real  Dist_Porc_BA  \n",
       "147               0.0           0.0  \n",
       "148               0.0           0.0  \n",
       "149               0.0           0.0  "
      ]
     },
     "execution_count": 8,
     "metadata": {},
     "output_type": "execute_result"
    }
   ],
   "source": [
    "jogos = games[games['Date'] == data_var]\n",
    "\n",
    "jogos = jogos.drop(columns=['Home_Pts', 'Away_Pts',\n",
    "       'Back_Home', 'PL_Home', 'Back_Away',\n",
    "       'PL_Away', 'Back_Over', 'PL_Over', 'PL_Under', 'Back_HA_H', 'PL_HA_H',\n",
    "       'PL_HA_A', ])\n",
    "\n",
    "jogos"
   ]
  },
  {
   "attachments": {},
   "cell_type": "markdown",
   "id": "08aa1c88",
   "metadata": {
    "papermill": {
     "duration": 0.001998,
     "end_time": "2024-06-26T13:01:46.926147",
     "exception": false,
     "start_time": "2024-06-26T13:01:46.924149",
     "status": "completed"
    },
    "tags": []
   },
   "source": [
    "## Apostas do dia"
   ]
  },
  {
   "cell_type": "markdown",
   "id": "b24569b1",
   "metadata": {
    "papermill": {
     "duration": 0.0015,
     "end_time": "2024-06-26T13:01:46.929647",
     "exception": false,
     "start_time": "2024-06-26T13:01:46.928147",
     "status": "completed"
    },
    "tags": []
   },
   "source": [
    "### Over v0 (LDA)"
   ]
  },
  {
   "cell_type": "code",
   "execution_count": 9,
   "id": "6f144103",
   "metadata": {
    "execution": {
     "iopub.execute_input": "2024-06-26T13:01:46.934651Z",
     "iopub.status.busy": "2024-06-26T13:01:46.934651Z",
     "iopub.status.idle": "2024-06-26T13:01:47.090543Z",
     "shell.execute_reply": "2024-06-26T13:01:47.090038Z"
    },
    "papermill": {
     "duration": 0.159894,
     "end_time": "2024-06-26T13:01:47.091541",
     "exception": false,
     "start_time": "2024-06-26T13:01:46.931647",
     "status": "completed"
    },
    "tags": []
   },
   "outputs": [
    {
     "name": "stdout",
     "output_type": "stream",
     "text": [
      "------------ MÉTODO OVER V0 (LDA) ------------\n",
      "\n"
     ]
    },
    {
     "data": {
      "text/html": [
       "<div>\n",
       "<style scoped>\n",
       "    .dataframe tbody tr th:only-of-type {\n",
       "        vertical-align: middle;\n",
       "    }\n",
       "\n",
       "    .dataframe tbody tr th {\n",
       "        vertical-align: top;\n",
       "    }\n",
       "\n",
       "    .dataframe thead th {\n",
       "        text-align: right;\n",
       "    }\n",
       "</style>\n",
       "<table border=\"1\" class=\"dataframe\">\n",
       "  <thead>\n",
       "    <tr style=\"text-align: right;\">\n",
       "      <th></th>\n",
       "      <th>Time</th>\n",
       "      <th>League</th>\n",
       "      <th>Home</th>\n",
       "      <th>Away</th>\n",
       "      <th>Over_Line</th>\n",
       "      <th>Odds_Over</th>\n",
       "      <th>prediction_score</th>\n",
       "      <th>Bet</th>\n",
       "    </tr>\n",
       "  </thead>\n",
       "  <tbody>\n",
       "    <tr>\n",
       "      <th>0</th>\n",
       "      <td>23:00</td>\n",
       "      <td>México Cibacopa</td>\n",
       "      <td>Rayos de Hermosillo</td>\n",
       "      <td>Astros</td>\n",
       "      <td>181.5</td>\n",
       "      <td>1.83</td>\n",
       "      <td>0.942</td>\n",
       "      <td>Over</td>\n",
       "    </tr>\n",
       "    <tr>\n",
       "      <th>1</th>\n",
       "      <td>13:30</td>\n",
       "      <td>Mundo Amistoso Internacional</td>\n",
       "      <td>Croácia</td>\n",
       "      <td>Brasil</td>\n",
       "      <td>156.5</td>\n",
       "      <td>1.85</td>\n",
       "      <td>1.000</td>\n",
       "      <td>Over</td>\n",
       "    </tr>\n",
       "  </tbody>\n",
       "</table>\n",
       "</div>"
      ],
      "text/plain": [
       "    Time                        League                 Home    Away  \\\n",
       "0  23:00               México Cibacopa  Rayos de Hermosillo  Astros   \n",
       "1  13:30  Mundo Amistoso Internacional              Croácia  Brasil   \n",
       "\n",
       "   Over_Line  Odds_Over  prediction_score   Bet  \n",
       "0      181.5       1.83             0.942  Over  \n",
       "1      156.5       1.85             1.000  Over  "
      ]
     },
     "metadata": {},
     "output_type": "display_data"
    },
    {
     "name": "stdout",
     "output_type": "stream",
     "text": [
      "\n"
     ]
    }
   ],
   "source": [
    "# Duplicando o dataset\n",
    "df_over_v0 = jogos.copy()\n",
    "\n",
    "df_over_v0.reset_index(drop=True, inplace=True)\n",
    "df_over_v0.replace([np.inf, -np.inf], 0, inplace=True)\n",
    "\n",
    "if not df_over_v0.empty:\n",
    "    mdl_over_v0 = load_model('ML/over/v1/v1_over', verbose=False)\n",
    "    prev = predict_model(mdl_over_v0, df_over_v0)\n",
    "    prev = prev[prev['prediction_label'] ==  1]\n",
    "    prev.reset_index(drop=True, inplace=True)\n",
    "    \n",
    "    # Filtros pós modelo\n",
    "\n",
    "    if not prev.empty:\n",
    "        prev.to_csv(f'apostas_do_dia/{data_var}/over_v0_{data_var}.csv', index=False)\n",
    "\n",
    "        print('------------ MÉTODO OVER V0 (LDA) ------------')\n",
    "        print()\n",
    "\n",
    "        prev['Bet'] = 'Over'\n",
    "        ligs = prev['League'].unique().tolist()\n",
    "\n",
    "        display(prev[['Time', 'League', 'Home', 'Away', 'Over_Line', 'Odds_Over', 'prediction_score', 'Bet']])\n",
    "        print()\n",
    "    else: print('Sem jogos')\n",
    "else: print('Sem jogos')"
   ]
  }
 ],
 "metadata": {
  "kernelspec": {
   "display_name": "modelos_futebol",
   "language": "python",
   "name": "python3"
  },
  "language_info": {
   "codemirror_mode": {
    "name": "ipython",
    "version": 3
   },
   "file_extension": ".py",
   "mimetype": "text/x-python",
   "name": "python",
   "nbconvert_exporter": "python",
   "pygments_lexer": "ipython3",
   "version": "3.10.7"
  },
  "papermill": {
   "default_parameters": {},
   "duration": 8.068486,
   "end_time": "2024-06-26T13:01:47.432843",
   "environment_variables": {},
   "exception": null,
   "input_path": "apostas_do_dia_v1.ipynb",
   "output_path": "apostas_do_dia_v1.ipynb",
   "parameters": {
    "data_var": "2024-06-26"
   },
   "start_time": "2024-06-26T13:01:39.364357",
   "version": "2.5.0"
  }
 },
 "nbformat": 4,
 "nbformat_minor": 5
}