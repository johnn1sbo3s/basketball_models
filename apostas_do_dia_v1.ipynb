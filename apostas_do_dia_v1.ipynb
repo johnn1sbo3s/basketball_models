{
 "cells": [
  {
   "cell_type": "code",
   "execution_count": 1,
   "id": "d690e842",
   "metadata": {
    "execution": {
     "iopub.execute_input": "2024-06-30T18:36:39.069944Z",
     "iopub.status.busy": "2024-06-30T18:36:39.069944Z",
     "iopub.status.idle": "2024-06-30T18:36:39.097983Z",
     "shell.execute_reply": "2024-06-30T18:36:39.097473Z"
    },
    "papermill": {
     "duration": 0.033041,
     "end_time": "2024-06-30T18:36:39.099481",
     "exception": false,
     "start_time": "2024-06-30T18:36:39.066440",
     "status": "completed"
    },
    "tags": [
     "parameters"
    ]
   },
   "outputs": [],
   "source": [
    "data_var = ''"
   ]
  },
  {
   "cell_type": "code",
   "execution_count": 2,
   "id": "97694f04",
   "metadata": {
    "execution": {
     "iopub.execute_input": "2024-06-30T18:36:39.106492Z",
     "iopub.status.busy": "2024-06-30T18:36:39.105995Z",
     "iopub.status.idle": "2024-06-30T18:36:39.113492Z",
     "shell.execute_reply": "2024-06-30T18:36:39.112994Z"
    },
    "papermill": {
     "duration": 0.012517,
     "end_time": "2024-06-30T18:36:39.115003",
     "exception": false,
     "start_time": "2024-06-30T18:36:39.102486",
     "status": "completed"
    },
    "tags": [
     "injected-parameters"
    ]
   },
   "outputs": [],
   "source": [
    "# Parameters\n",
    "data_var = \"2024-06-30\"\n"
   ]
  },
  {
   "cell_type": "code",
   "execution_count": 3,
   "id": "25b97174",
   "metadata": {
    "execution": {
     "iopub.execute_input": "2024-06-30T18:36:39.121017Z",
     "iopub.status.busy": "2024-06-30T18:36:39.120514Z",
     "iopub.status.idle": "2024-06-30T18:36:41.808164Z",
     "shell.execute_reply": "2024-06-30T18:36:41.807658Z"
    },
    "papermill": {
     "duration": 2.693153,
     "end_time": "2024-06-30T18:36:41.810157",
     "exception": false,
     "start_time": "2024-06-30T18:36:39.117004",
     "status": "completed"
    },
    "tags": []
   },
   "outputs": [],
   "source": [
    "import pandas as pd; pd.set_option('display.max_columns', None)\n",
    "import os\n",
    "from pycaret.classification import *\n",
    "from scripts.PreparaDataset import *\n",
    "from scripts.TeoriaRetornos import *"
   ]
  },
  {
   "attachments": {},
   "cell_type": "markdown",
   "id": "ffa9b361",
   "metadata": {
    "papermill": {
     "duration": 0.002506,
     "end_time": "2024-06-30T18:36:41.814669",
     "exception": false,
     "start_time": "2024-06-30T18:36:41.812163",
     "status": "completed"
    },
    "tags": []
   },
   "source": [
    "### Funções"
   ]
  },
  {
   "cell_type": "code",
   "execution_count": 4,
   "id": "cb6eea9b",
   "metadata": {
    "execution": {
     "iopub.execute_input": "2024-06-30T18:36:41.820190Z",
     "iopub.status.busy": "2024-06-30T18:36:41.819693Z",
     "iopub.status.idle": "2024-06-30T18:36:41.839718Z",
     "shell.execute_reply": "2024-06-30T18:36:41.838717Z"
    },
    "papermill": {
     "duration": 0.02454,
     "end_time": "2024-06-30T18:36:41.841218",
     "exception": false,
     "start_time": "2024-06-30T18:36:41.816678",
     "status": "completed"
    },
    "tags": []
   },
   "outputs": [],
   "source": [
    "def atualiza_dia(_jogos):\n",
    "    _jogos = prepara_df(_jogos)\n",
    "\n",
    "    _jogos = _jogos.reset_index(drop=True)\n",
    "\n",
    "    return _jogos"
   ]
  },
  {
   "attachments": {},
   "cell_type": "markdown",
   "id": "26b16874",
   "metadata": {
    "papermill": {
     "duration": 0.00351,
     "end_time": "2024-06-30T18:36:41.847226",
     "exception": false,
     "start_time": "2024-06-30T18:36:41.843716",
     "status": "completed"
    },
    "tags": []
   },
   "source": [
    "### Pegando os jogos do dia"
   ]
  },
  {
   "cell_type": "code",
   "execution_count": 5,
   "id": "5ddb2ecb",
   "metadata": {
    "execution": {
     "iopub.execute_input": "2024-06-30T18:36:41.853226Z",
     "iopub.status.busy": "2024-06-30T18:36:41.853226Z",
     "iopub.status.idle": "2024-06-30T18:36:41.870786Z",
     "shell.execute_reply": "2024-06-30T18:36:41.870288Z"
    },
    "papermill": {
     "duration": 0.023061,
     "end_time": "2024-06-30T18:36:41.872285",
     "exception": false,
     "start_time": "2024-06-30T18:36:41.849224",
     "status": "completed"
    },
    "tags": []
   },
   "outputs": [],
   "source": [
    "df_today = pd.read_csv(f'jogos_do_dia/{data_var}.csv')"
   ]
  },
  {
   "cell_type": "markdown",
   "id": "19a2214d",
   "metadata": {
    "papermill": {
     "duration": 0.003511,
     "end_time": "2024-06-30T18:36:41.877300",
     "exception": false,
     "start_time": "2024-06-30T18:36:41.873789",
     "status": "completed"
    },
    "tags": []
   },
   "source": [
    "### Atualizando os datasets que tem jogo hoje"
   ]
  },
  {
   "cell_type": "code",
   "execution_count": 6,
   "id": "68bd72ae",
   "metadata": {
    "execution": {
     "iopub.execute_input": "2024-06-30T18:36:41.883303Z",
     "iopub.status.busy": "2024-06-30T18:36:41.882803Z",
     "iopub.status.idle": "2024-06-30T18:36:41.948163Z",
     "shell.execute_reply": "2024-06-30T18:36:41.947664Z"
    },
    "papermill": {
     "duration": 0.070357,
     "end_time": "2024-06-30T18:36:41.949661",
     "exception": false,
     "start_time": "2024-06-30T18:36:41.879304",
     "status": "completed"
    },
    "tags": []
   },
   "outputs": [],
   "source": [
    "temporada = pd.read_csv('data/Entire_Season.csv')\n",
    "temporada = temporada[temporada['Date'] < data_var]\n",
    "temporada = pd.concat([temporada, df_today])\n",
    "ligas = df_today['League'].unique().tolist()\n",
    "temporada = temporada[temporada['League'].isin(ligas)]\n",
    "temporada.reset_index(drop=True, inplace=True)"
   ]
  },
  {
   "cell_type": "markdown",
   "id": "0d8018ca",
   "metadata": {
    "papermill": {
     "duration": 0.001505,
     "end_time": "2024-06-30T18:36:41.953666",
     "exception": false,
     "start_time": "2024-06-30T18:36:41.952161",
     "status": "completed"
    },
    "tags": []
   },
   "source": [
    "### Cria variáveis na temporada e nos jogos do dia"
   ]
  },
  {
   "cell_type": "code",
   "execution_count": 7,
   "id": "d3b06cb1",
   "metadata": {
    "execution": {
     "iopub.execute_input": "2024-06-30T18:36:41.959182Z",
     "iopub.status.busy": "2024-06-30T18:36:41.959182Z",
     "iopub.status.idle": "2024-06-30T18:36:43.035847Z",
     "shell.execute_reply": "2024-06-30T18:36:43.035346Z"
    },
    "papermill": {
     "duration": 1.081172,
     "end_time": "2024-06-30T18:36:43.037353",
     "exception": false,
     "start_time": "2024-06-30T18:36:41.956181",
     "status": "completed"
    },
    "tags": []
   },
   "outputs": [],
   "source": [
    "games = atualiza_dia(temporada)\n",
    "temporada = games[games['Date'] < data_var]\n",
    "os.makedirs(f'apostas_do_dia/{data_var}', exist_ok=True)"
   ]
  },
  {
   "cell_type": "code",
   "execution_count": 8,
   "id": "16aa533f",
   "metadata": {
    "execution": {
     "iopub.execute_input": "2024-06-30T18:36:43.044861Z",
     "iopub.status.busy": "2024-06-30T18:36:43.043854Z",
     "iopub.status.idle": "2024-06-30T18:36:43.082431Z",
     "shell.execute_reply": "2024-06-30T18:36:43.081934Z"
    },
    "papermill": {
     "duration": 0.044077,
     "end_time": "2024-06-30T18:36:43.083429",
     "exception": false,
     "start_time": "2024-06-30T18:36:43.039352",
     "status": "completed"
    },
    "tags": []
   },
   "outputs": [
    {
     "data": {
      "text/html": [
       "<div>\n",
       "<style scoped>\n",
       "    .dataframe tbody tr th:only-of-type {\n",
       "        vertical-align: middle;\n",
       "    }\n",
       "\n",
       "    .dataframe tbody tr th {\n",
       "        vertical-align: top;\n",
       "    }\n",
       "\n",
       "    .dataframe thead th {\n",
       "        text-align: right;\n",
       "    }\n",
       "</style>\n",
       "<table border=\"1\" class=\"dataframe\">\n",
       "  <thead>\n",
       "    <tr style=\"text-align: right;\">\n",
       "      <th></th>\n",
       "      <th>Date</th>\n",
       "      <th>League</th>\n",
       "      <th>Time</th>\n",
       "      <th>Home</th>\n",
       "      <th>Away</th>\n",
       "      <th>Odds_H</th>\n",
       "      <th>Odds_A</th>\n",
       "      <th>Over_Line</th>\n",
       "      <th>Odds_Over</th>\n",
       "      <th>Odds_Under</th>\n",
       "      <th>HA_Line</th>\n",
       "      <th>HA_Odds_H</th>\n",
       "      <th>HA_Odds_A</th>\n",
       "      <th>Fixture ID</th>\n",
       "      <th>P(H)</th>\n",
       "      <th>P(A)</th>\n",
       "      <th>P(O)</th>\n",
       "      <th>P(U)</th>\n",
       "      <th>P_Diff</th>\n",
       "      <th>Porc_Over_Home</th>\n",
       "      <th>Porc_Over_Away</th>\n",
       "      <th>CustoGolHome</th>\n",
       "      <th>CustoGolAway</th>\n",
       "      <th>Avg_CG_H</th>\n",
       "      <th>DP_CG_H</th>\n",
       "      <th>CV_CG_H</th>\n",
       "      <th>Avg_CG_A</th>\n",
       "      <th>DP_CG_A</th>\n",
       "      <th>CV_CG_A</th>\n",
       "      <th>MediaCustoGolHome</th>\n",
       "      <th>MediaCustoGolAway</th>\n",
       "      <th>Last_CG_H</th>\n",
       "      <th>Last_CG_A</th>\n",
       "      <th>Acima_Last_CG_H</th>\n",
       "      <th>Acima_Last_CG_A</th>\n",
       "      <th>Abaixo_Last_CG_H</th>\n",
       "      <th>Abaixo_Last_CG_A</th>\n",
       "      <th>CV_ML</th>\n",
       "      <th>CV_Over</th>\n",
       "      <th>CV_HA</th>\n",
       "      <th>Retornos_BH_Acu</th>\n",
       "      <th>Avg_Retornos_BH</th>\n",
       "      <th>Custo_Retorno_BH</th>\n",
       "      <th>Avg_Porc_BH_Bookie</th>\n",
       "      <th>Avg_Porc_BH_Real</th>\n",
       "      <th>Dist_Porc_BH</th>\n",
       "      <th>Retornos_BA_Acu</th>\n",
       "      <th>Avg_Retornos_BA</th>\n",
       "      <th>Custo_Retorno_BA</th>\n",
       "      <th>Avg_Porc_BA_Bookie</th>\n",
       "      <th>Avg_Porc_BA_Real</th>\n",
       "      <th>Dist_Porc_BA</th>\n",
       "    </tr>\n",
       "  </thead>\n",
       "  <tbody>\n",
       "    <tr>\n",
       "      <th>492</th>\n",
       "      <td>2024-06-30</td>\n",
       "      <td>Austrália Nbl1 Oeste</td>\n",
       "      <td>01:00</td>\n",
       "      <td>Joondalup Wolves</td>\n",
       "      <td>Geraldton Buccaneers</td>\n",
       "      <td>1.88</td>\n",
       "      <td>1.83</td>\n",
       "      <td>181.5</td>\n",
       "      <td>1.81</td>\n",
       "      <td>1.89</td>\n",
       "      <td>-1.5</td>\n",
       "      <td>1.99</td>\n",
       "      <td>1.93</td>\n",
       "      <td>jLcHpD6Q</td>\n",
       "      <td>0.531915</td>\n",
       "      <td>0.546448</td>\n",
       "      <td>0.552486</td>\n",
       "      <td>0.529101</td>\n",
       "      <td>0.078363</td>\n",
       "      <td>0.0</td>\n",
       "      <td>0.0</td>\n",
       "      <td>NaN</td>\n",
       "      <td>NaN</td>\n",
       "      <td>NaN</td>\n",
       "      <td>NaN</td>\n",
       "      <td>NaN</td>\n",
       "      <td>NaN</td>\n",
       "      <td>NaN</td>\n",
       "      <td>NaN</td>\n",
       "      <td>0.0</td>\n",
       "      <td>0.0</td>\n",
       "      <td>0.00</td>\n",
       "      <td>182.12</td>\n",
       "      <td>0.0</td>\n",
       "      <td>0.0</td>\n",
       "      <td>0.0</td>\n",
       "      <td>0.0</td>\n",
       "      <td>0.019059</td>\n",
       "      <td>0.030578</td>\n",
       "      <td>0.021646</td>\n",
       "      <td>0.0</td>\n",
       "      <td>0.0</td>\n",
       "      <td>inf</td>\n",
       "      <td>0.0</td>\n",
       "      <td>0.0</td>\n",
       "      <td>0.0</td>\n",
       "      <td>0.0</td>\n",
       "      <td>0.0</td>\n",
       "      <td>inf</td>\n",
       "      <td>0.0</td>\n",
       "      <td>0.0</td>\n",
       "      <td>0.0</td>\n",
       "    </tr>\n",
       "    <tr>\n",
       "      <th>493</th>\n",
       "      <td>2024-06-30</td>\n",
       "      <td>Colômbia Lbp</td>\n",
       "      <td>18:00</td>\n",
       "      <td>Piratas de Bogota</td>\n",
       "      <td>Toros del Valle</td>\n",
       "      <td>1.77</td>\n",
       "      <td>1.95</td>\n",
       "      <td>177.5</td>\n",
       "      <td>1.81</td>\n",
       "      <td>1.89</td>\n",
       "      <td>-1.5</td>\n",
       "      <td>1.86</td>\n",
       "      <td>1.94</td>\n",
       "      <td>rTVyzte5</td>\n",
       "      <td>0.564972</td>\n",
       "      <td>0.512821</td>\n",
       "      <td>0.552486</td>\n",
       "      <td>0.529101</td>\n",
       "      <td>0.077792</td>\n",
       "      <td>0.0</td>\n",
       "      <td>0.0</td>\n",
       "      <td>NaN</td>\n",
       "      <td>NaN</td>\n",
       "      <td>NaN</td>\n",
       "      <td>NaN</td>\n",
       "      <td>NaN</td>\n",
       "      <td>NaN</td>\n",
       "      <td>NaN</td>\n",
       "      <td>NaN</td>\n",
       "      <td>0.0</td>\n",
       "      <td>0.0</td>\n",
       "      <td>165.44</td>\n",
       "      <td>195.03</td>\n",
       "      <td>0.0</td>\n",
       "      <td>0.0</td>\n",
       "      <td>0.0</td>\n",
       "      <td>0.0</td>\n",
       "      <td>0.068430</td>\n",
       "      <td>0.030578</td>\n",
       "      <td>0.029773</td>\n",
       "      <td>0.0</td>\n",
       "      <td>0.0</td>\n",
       "      <td>inf</td>\n",
       "      <td>0.0</td>\n",
       "      <td>0.0</td>\n",
       "      <td>0.0</td>\n",
       "      <td>0.0</td>\n",
       "      <td>0.0</td>\n",
       "      <td>inf</td>\n",
       "      <td>0.0</td>\n",
       "      <td>0.0</td>\n",
       "      <td>0.0</td>\n",
       "    </tr>\n",
       "    <tr>\n",
       "      <th>494</th>\n",
       "      <td>2024-06-30</td>\n",
       "      <td>Porto Rico Bsn</td>\n",
       "      <td>21:00</td>\n",
       "      <td>Aguada Santeros</td>\n",
       "      <td>Criollos de Caguas</td>\n",
       "      <td>1.84</td>\n",
       "      <td>1.88</td>\n",
       "      <td>182.5</td>\n",
       "      <td>1.80</td>\n",
       "      <td>1.90</td>\n",
       "      <td>-4.5</td>\n",
       "      <td>1.98</td>\n",
       "      <td>1.94</td>\n",
       "      <td>x8OIFAvg</td>\n",
       "      <td>0.543478</td>\n",
       "      <td>0.531915</td>\n",
       "      <td>0.555556</td>\n",
       "      <td>0.526316</td>\n",
       "      <td>0.075393</td>\n",
       "      <td>0.0</td>\n",
       "      <td>0.0</td>\n",
       "      <td>NaN</td>\n",
       "      <td>NaN</td>\n",
       "      <td>164.226</td>\n",
       "      <td>38.982068</td>\n",
       "      <td>0.237368</td>\n",
       "      <td>NaN</td>\n",
       "      <td>NaN</td>\n",
       "      <td>NaN</td>\n",
       "      <td>0.0</td>\n",
       "      <td>0.0</td>\n",
       "      <td>151.20</td>\n",
       "      <td>156.04</td>\n",
       "      <td>0.0</td>\n",
       "      <td>0.0</td>\n",
       "      <td>0.0</td>\n",
       "      <td>0.0</td>\n",
       "      <td>0.015207</td>\n",
       "      <td>0.038222</td>\n",
       "      <td>0.014431</td>\n",
       "      <td>0.0</td>\n",
       "      <td>0.0</td>\n",
       "      <td>inf</td>\n",
       "      <td>0.0</td>\n",
       "      <td>0.0</td>\n",
       "      <td>0.0</td>\n",
       "      <td>0.0</td>\n",
       "      <td>0.0</td>\n",
       "      <td>inf</td>\n",
       "      <td>0.0</td>\n",
       "      <td>0.0</td>\n",
       "      <td>0.0</td>\n",
       "    </tr>\n",
       "  </tbody>\n",
       "</table>\n",
       "</div>"
      ],
      "text/plain": [
       "           Date                League   Time               Home  \\\n",
       "492  2024-06-30  Austrália Nbl1 Oeste  01:00   Joondalup Wolves   \n",
       "493  2024-06-30          Colômbia Lbp  18:00  Piratas de Bogota   \n",
       "494  2024-06-30        Porto Rico Bsn  21:00    Aguada Santeros   \n",
       "\n",
       "                     Away  Odds_H  Odds_A  Over_Line  Odds_Over  Odds_Under  \\\n",
       "492  Geraldton Buccaneers    1.88    1.83      181.5       1.81        1.89   \n",
       "493       Toros del Valle    1.77    1.95      177.5       1.81        1.89   \n",
       "494    Criollos de Caguas    1.84    1.88      182.5       1.80        1.90   \n",
       "\n",
       "     HA_Line  HA_Odds_H  HA_Odds_A Fixture ID      P(H)      P(A)      P(O)  \\\n",
       "492     -1.5       1.99       1.93   jLcHpD6Q  0.531915  0.546448  0.552486   \n",
       "493     -1.5       1.86       1.94   rTVyzte5  0.564972  0.512821  0.552486   \n",
       "494     -4.5       1.98       1.94   x8OIFAvg  0.543478  0.531915  0.555556   \n",
       "\n",
       "         P(U)    P_Diff  Porc_Over_Home  Porc_Over_Away  CustoGolHome  \\\n",
       "492  0.529101  0.078363             0.0             0.0           NaN   \n",
       "493  0.529101  0.077792             0.0             0.0           NaN   \n",
       "494  0.526316  0.075393             0.0             0.0           NaN   \n",
       "\n",
       "     CustoGolAway  Avg_CG_H    DP_CG_H   CV_CG_H  Avg_CG_A  DP_CG_A  CV_CG_A  \\\n",
       "492           NaN       NaN        NaN       NaN       NaN      NaN      NaN   \n",
       "493           NaN       NaN        NaN       NaN       NaN      NaN      NaN   \n",
       "494           NaN   164.226  38.982068  0.237368       NaN      NaN      NaN   \n",
       "\n",
       "     MediaCustoGolHome  MediaCustoGolAway  Last_CG_H  Last_CG_A  \\\n",
       "492                0.0                0.0       0.00     182.12   \n",
       "493                0.0                0.0     165.44     195.03   \n",
       "494                0.0                0.0     151.20     156.04   \n",
       "\n",
       "     Acima_Last_CG_H  Acima_Last_CG_A  Abaixo_Last_CG_H  Abaixo_Last_CG_A  \\\n",
       "492              0.0              0.0               0.0               0.0   \n",
       "493              0.0              0.0               0.0               0.0   \n",
       "494              0.0              0.0               0.0               0.0   \n",
       "\n",
       "        CV_ML   CV_Over     CV_HA  Retornos_BH_Acu  Avg_Retornos_BH  \\\n",
       "492  0.019059  0.030578  0.021646              0.0              0.0   \n",
       "493  0.068430  0.030578  0.029773              0.0              0.0   \n",
       "494  0.015207  0.038222  0.014431              0.0              0.0   \n",
       "\n",
       "     Custo_Retorno_BH  Avg_Porc_BH_Bookie  Avg_Porc_BH_Real  Dist_Porc_BH  \\\n",
       "492               inf                 0.0               0.0           0.0   \n",
       "493               inf                 0.0               0.0           0.0   \n",
       "494               inf                 0.0               0.0           0.0   \n",
       "\n",
       "     Retornos_BA_Acu  Avg_Retornos_BA  Custo_Retorno_BA  Avg_Porc_BA_Bookie  \\\n",
       "492              0.0              0.0               inf                 0.0   \n",
       "493              0.0              0.0               inf                 0.0   \n",
       "494              0.0              0.0               inf                 0.0   \n",
       "\n",
       "     Avg_Porc_BA_Real  Dist_Porc_BA  \n",
       "492               0.0           0.0  \n",
       "493               0.0           0.0  \n",
       "494               0.0           0.0  "
      ]
     },
     "execution_count": 8,
     "metadata": {},
     "output_type": "execute_result"
    }
   ],
   "source": [
    "jogos = games[games['Date'] == data_var]\n",
    "\n",
    "jogos = jogos.drop(columns=['Home_Pts', 'Away_Pts',\n",
    "       'Back_Home', 'PL_Home', 'Back_Away',\n",
    "       'PL_Away', 'Back_Over', 'PL_Over', 'PL_Under', 'Back_HA_H', 'PL_HA_H',\n",
    "       'PL_HA_A', ])\n",
    "\n",
    "jogos"
   ]
  },
  {
   "attachments": {},
   "cell_type": "markdown",
   "id": "08aa1c88",
   "metadata": {
    "papermill": {
     "duration": 0.003501,
     "end_time": "2024-06-30T18:36:43.089441",
     "exception": false,
     "start_time": "2024-06-30T18:36:43.085940",
     "status": "completed"
    },
    "tags": []
   },
   "source": [
    "## Apostas do dia"
   ]
  },
  {
   "cell_type": "markdown",
   "id": "b24569b1",
   "metadata": {
    "papermill": {
     "duration": 0.003019,
     "end_time": "2024-06-30T18:36:43.095459",
     "exception": false,
     "start_time": "2024-06-30T18:36:43.092440",
     "status": "completed"
    },
    "tags": []
   },
   "source": [
    "### Over v0 (LDA)"
   ]
  },
  {
   "cell_type": "code",
   "execution_count": 9,
   "id": "6f144103",
   "metadata": {
    "execution": {
     "iopub.execute_input": "2024-06-30T18:36:43.103461Z",
     "iopub.status.busy": "2024-06-30T18:36:43.103461Z",
     "iopub.status.idle": "2024-06-30T18:36:43.253731Z",
     "shell.execute_reply": "2024-06-30T18:36:43.253230Z"
    },
    "papermill": {
     "duration": 0.156785,
     "end_time": "2024-06-30T18:36:43.254740",
     "exception": false,
     "start_time": "2024-06-30T18:36:43.097955",
     "status": "completed"
    },
    "tags": []
   },
   "outputs": [
    {
     "name": "stdout",
     "output_type": "stream",
     "text": [
      "------------ MÉTODO OVER V0 (LDA) ------------\n",
      "\n"
     ]
    },
    {
     "data": {
      "text/html": [
       "<div>\n",
       "<style scoped>\n",
       "    .dataframe tbody tr th:only-of-type {\n",
       "        vertical-align: middle;\n",
       "    }\n",
       "\n",
       "    .dataframe tbody tr th {\n",
       "        vertical-align: top;\n",
       "    }\n",
       "\n",
       "    .dataframe thead th {\n",
       "        text-align: right;\n",
       "    }\n",
       "</style>\n",
       "<table border=\"1\" class=\"dataframe\">\n",
       "  <thead>\n",
       "    <tr style=\"text-align: right;\">\n",
       "      <th></th>\n",
       "      <th>Time</th>\n",
       "      <th>League</th>\n",
       "      <th>Home</th>\n",
       "      <th>Away</th>\n",
       "      <th>Over_Line</th>\n",
       "      <th>Odds_Over</th>\n",
       "      <th>prediction_score</th>\n",
       "      <th>Bet</th>\n",
       "    </tr>\n",
       "  </thead>\n",
       "  <tbody>\n",
       "    <tr>\n",
       "      <th>0</th>\n",
       "      <td>01:00</td>\n",
       "      <td>Austrália Nbl1 Oeste</td>\n",
       "      <td>Joondalup Wolves</td>\n",
       "      <td>Geraldton Buccaneers</td>\n",
       "      <td>181.5</td>\n",
       "      <td>1.81</td>\n",
       "      <td>0.7224</td>\n",
       "      <td>Over</td>\n",
       "    </tr>\n",
       "  </tbody>\n",
       "</table>\n",
       "</div>"
      ],
      "text/plain": [
       "    Time                League              Home                  Away  \\\n",
       "0  01:00  Austrália Nbl1 Oeste  Joondalup Wolves  Geraldton Buccaneers   \n",
       "\n",
       "   Over_Line  Odds_Over  prediction_score   Bet  \n",
       "0      181.5       1.81            0.7224  Over  "
      ]
     },
     "metadata": {},
     "output_type": "display_data"
    },
    {
     "name": "stdout",
     "output_type": "stream",
     "text": [
      "\n"
     ]
    }
   ],
   "source": [
    "# Duplicando o dataset\n",
    "df_over_v0 = jogos.copy()\n",
    "\n",
    "df_over_v0.reset_index(drop=True, inplace=True)\n",
    "df_over_v0.replace([np.inf, -np.inf], 0, inplace=True)\n",
    "\n",
    "if not df_over_v0.empty:\n",
    "    mdl_over_v0 = load_model('ML/over/v1/v1_over', verbose=False)\n",
    "    prev = predict_model(mdl_over_v0, df_over_v0)\n",
    "    prev = prev[prev['prediction_label'] ==  1]\n",
    "    prev.reset_index(drop=True, inplace=True)\n",
    "    \n",
    "    # Filtros pós modelo\n",
    "\n",
    "    if not prev.empty:\n",
    "        prev.to_csv(f'apostas_do_dia/{data_var}/over_v0_{data_var}.csv', index=False)\n",
    "\n",
    "        print('------------ MÉTODO OVER V0 (LDA) ------------')\n",
    "        print()\n",
    "\n",
    "        prev['Bet'] = 'Over'\n",
    "        ligs = prev['League'].unique().tolist()\n",
    "\n",
    "        display(prev[['Time', 'League', 'Home', 'Away', 'Over_Line', 'Odds_Over', 'prediction_score', 'Bet']])\n",
    "        print()\n",
    "    else: print('Sem jogos')\n",
    "else: print('Sem jogos')"
   ]
  }
 ],
 "metadata": {
  "kernelspec": {
   "display_name": "modelos_futebol",
   "language": "python",
   "name": "python3"
  },
  "language_info": {
   "codemirror_mode": {
    "name": "ipython",
    "version": 3
   },
   "file_extension": ".py",
   "mimetype": "text/x-python",
   "name": "python",
   "nbconvert_exporter": "python",
   "pygments_lexer": "ipython3",
   "version": "3.10.7"
  },
  "papermill": {
   "default_parameters": {},
   "duration": 5.914201,
   "end_time": "2024-06-30T18:36:43.705030",
   "environment_variables": {},
   "exception": null,
   "input_path": "apostas_do_dia_v1.ipynb",
   "output_path": "apostas_do_dia_v1.ipynb",
   "parameters": {
    "data_var": "2024-06-30"
   },
   "start_time": "2024-06-30T18:36:37.790829",
   "version": "2.5.0"
  }
 },
 "nbformat": 4,
 "nbformat_minor": 5
}