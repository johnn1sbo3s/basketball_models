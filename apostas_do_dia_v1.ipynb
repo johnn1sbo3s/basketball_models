{
 "cells": [
  {
   "cell_type": "code",
   "execution_count": 1,
   "id": "d690e842",
   "metadata": {
    "execution": {
     "iopub.execute_input": "2024-07-02T13:01:08.716746Z",
     "iopub.status.busy": "2024-07-02T13:01:08.716247Z",
     "iopub.status.idle": "2024-07-02T13:01:08.729339Z",
     "shell.execute_reply": "2024-07-02T13:01:08.728837Z"
    },
    "papermill": {
     "duration": 0.017596,
     "end_time": "2024-07-02T13:01:08.730838",
     "exception": false,
     "start_time": "2024-07-02T13:01:08.713242",
     "status": "completed"
    },
    "tags": [
     "parameters"
    ]
   },
   "outputs": [],
   "source": [
    "data_var = ''"
   ]
  },
  {
   "cell_type": "code",
   "execution_count": 2,
   "id": "0cef0fc2",
   "metadata": {
    "execution": {
     "iopub.execute_input": "2024-07-02T13:01:08.736342Z",
     "iopub.status.busy": "2024-07-02T13:01:08.736342Z",
     "iopub.status.idle": "2024-07-02T13:01:08.744844Z",
     "shell.execute_reply": "2024-07-02T13:01:08.744344Z"
    },
    "papermill": {
     "duration": 0.01251,
     "end_time": "2024-07-02T13:01:08.745848",
     "exception": false,
     "start_time": "2024-07-02T13:01:08.733338",
     "status": "completed"
    },
    "tags": [
     "injected-parameters"
    ]
   },
   "outputs": [],
   "source": [
    "# Parameters\n",
    "data_var = \"2024-07-02\"\n"
   ]
  },
  {
   "cell_type": "code",
   "execution_count": 3,
   "id": "25b97174",
   "metadata": {
    "execution": {
     "iopub.execute_input": "2024-07-02T13:01:08.750846Z",
     "iopub.status.busy": "2024-07-02T13:01:08.750846Z",
     "iopub.status.idle": "2024-07-02T13:01:14.541276Z",
     "shell.execute_reply": "2024-07-02T13:01:14.540273Z"
    },
    "papermill": {
     "duration": 5.794424,
     "end_time": "2024-07-02T13:01:14.542773",
     "exception": false,
     "start_time": "2024-07-02T13:01:08.748349",
     "status": "completed"
    },
    "tags": []
   },
   "outputs": [],
   "source": [
    "import pandas as pd; pd.set_option('display.max_columns', None)\n",
    "import os\n",
    "from pycaret.classification import *\n",
    "from scripts.PreparaDataset import *\n",
    "from scripts.TeoriaRetornos import *"
   ]
  },
  {
   "attachments": {},
   "cell_type": "markdown",
   "id": "ffa9b361",
   "metadata": {
    "papermill": {
     "duration": 0.002013,
     "end_time": "2024-07-02T13:01:14.546784",
     "exception": false,
     "start_time": "2024-07-02T13:01:14.544771",
     "status": "completed"
    },
    "tags": []
   },
   "source": [
    "### Funções"
   ]
  },
  {
   "cell_type": "code",
   "execution_count": 4,
   "id": "cb6eea9b",
   "metadata": {
    "execution": {
     "iopub.execute_input": "2024-07-02T13:01:14.552283Z",
     "iopub.status.busy": "2024-07-02T13:01:14.551783Z",
     "iopub.status.idle": "2024-07-02T13:01:14.556287Z",
     "shell.execute_reply": "2024-07-02T13:01:14.555780Z"
    },
    "papermill": {
     "duration": 0.007999,
     "end_time": "2024-07-02T13:01:14.557283",
     "exception": false,
     "start_time": "2024-07-02T13:01:14.549284",
     "status": "completed"
    },
    "tags": []
   },
   "outputs": [],
   "source": [
    "def atualiza_dia(_jogos):\n",
    "    _jogos = prepara_df(_jogos)\n",
    "\n",
    "    _jogos = _jogos.reset_index(drop=True)\n",
    "\n",
    "    return _jogos"
   ]
  },
  {
   "attachments": {},
   "cell_type": "markdown",
   "id": "26b16874",
   "metadata": {
    "papermill": {
     "duration": 0.002001,
     "end_time": "2024-07-02T13:01:14.561284",
     "exception": false,
     "start_time": "2024-07-02T13:01:14.559283",
     "status": "completed"
    },
    "tags": []
   },
   "source": [
    "### Pegando os jogos do dia"
   ]
  },
  {
   "cell_type": "code",
   "execution_count": 5,
   "id": "5ddb2ecb",
   "metadata": {
    "execution": {
     "iopub.execute_input": "2024-07-02T13:01:14.565794Z",
     "iopub.status.busy": "2024-07-02T13:01:14.565794Z",
     "iopub.status.idle": "2024-07-02T13:01:14.586718Z",
     "shell.execute_reply": "2024-07-02T13:01:14.586213Z"
    },
    "papermill": {
     "duration": 0.025422,
     "end_time": "2024-07-02T13:01:14.588211",
     "exception": false,
     "start_time": "2024-07-02T13:01:14.562789",
     "status": "completed"
    },
    "tags": []
   },
   "outputs": [],
   "source": [
    "df_today = pd.read_csv(f'jogos_do_dia/{data_var}.csv')"
   ]
  },
  {
   "cell_type": "markdown",
   "id": "19a2214d",
   "metadata": {
    "papermill": {
     "duration": 0.001999,
     "end_time": "2024-07-02T13:01:14.592214",
     "exception": false,
     "start_time": "2024-07-02T13:01:14.590215",
     "status": "completed"
    },
    "tags": []
   },
   "source": [
    "### Atualizando os datasets que tem jogo hoje"
   ]
  },
  {
   "cell_type": "code",
   "execution_count": 6,
   "id": "68bd72ae",
   "metadata": {
    "execution": {
     "iopub.execute_input": "2024-07-02T13:01:14.596711Z",
     "iopub.status.busy": "2024-07-02T13:01:14.596711Z",
     "iopub.status.idle": "2024-07-02T13:01:14.663897Z",
     "shell.execute_reply": "2024-07-02T13:01:14.663394Z"
    },
    "papermill": {
     "duration": 0.071681,
     "end_time": "2024-07-02T13:01:14.665395",
     "exception": false,
     "start_time": "2024-07-02T13:01:14.593714",
     "status": "completed"
    },
    "tags": []
   },
   "outputs": [],
   "source": [
    "temporada = pd.read_csv('data/Entire_Season.csv')\n",
    "temporada = temporada[temporada['Date'] < data_var]\n",
    "temporada = pd.concat([temporada, df_today])\n",
    "ligas = df_today['League'].unique().tolist()\n",
    "temporada = temporada[temporada['League'].isin(ligas)]\n",
    "temporada.reset_index(drop=True, inplace=True)"
   ]
  },
  {
   "cell_type": "markdown",
   "id": "0d8018ca",
   "metadata": {
    "papermill": {
     "duration": 0.003002,
     "end_time": "2024-07-02T13:01:14.670397",
     "exception": false,
     "start_time": "2024-07-02T13:01:14.667395",
     "status": "completed"
    },
    "tags": []
   },
   "source": [
    "### Cria variáveis na temporada e nos jogos do dia"
   ]
  },
  {
   "cell_type": "code",
   "execution_count": 7,
   "id": "d3b06cb1",
   "metadata": {
    "execution": {
     "iopub.execute_input": "2024-07-02T13:01:14.675398Z",
     "iopub.status.busy": "2024-07-02T13:01:14.674897Z",
     "iopub.status.idle": "2024-07-02T13:01:15.422593Z",
     "shell.execute_reply": "2024-07-02T13:01:15.422094Z"
    },
    "papermill": {
     "duration": 0.751693,
     "end_time": "2024-07-02T13:01:15.424092",
     "exception": false,
     "start_time": "2024-07-02T13:01:14.672399",
     "status": "completed"
    },
    "tags": []
   },
   "outputs": [],
   "source": [
    "games = atualiza_dia(temporada)\n",
    "temporada = games[games['Date'] < data_var]\n",
    "os.makedirs(f'apostas_do_dia/{data_var}', exist_ok=True)"
   ]
  },
  {
   "cell_type": "code",
   "execution_count": 8,
   "id": "16aa533f",
   "metadata": {
    "execution": {
     "iopub.execute_input": "2024-07-02T13:01:15.429093Z",
     "iopub.status.busy": "2024-07-02T13:01:15.429093Z",
     "iopub.status.idle": "2024-07-02T13:01:15.469511Z",
     "shell.execute_reply": "2024-07-02T13:01:15.468502Z"
    },
    "papermill": {
     "duration": 0.044917,
     "end_time": "2024-07-02T13:01:15.471008",
     "exception": false,
     "start_time": "2024-07-02T13:01:15.426091",
     "status": "completed"
    },
    "tags": []
   },
   "outputs": [
    {
     "data": {
      "text/html": [
       "<div>\n",
       "<style scoped>\n",
       "    .dataframe tbody tr th:only-of-type {\n",
       "        vertical-align: middle;\n",
       "    }\n",
       "\n",
       "    .dataframe tbody tr th {\n",
       "        vertical-align: top;\n",
       "    }\n",
       "\n",
       "    .dataframe thead th {\n",
       "        text-align: right;\n",
       "    }\n",
       "</style>\n",
       "<table border=\"1\" class=\"dataframe\">\n",
       "  <thead>\n",
       "    <tr style=\"text-align: right;\">\n",
       "      <th></th>\n",
       "      <th>Date</th>\n",
       "      <th>League</th>\n",
       "      <th>Time</th>\n",
       "      <th>Home</th>\n",
       "      <th>Away</th>\n",
       "      <th>Odds_H</th>\n",
       "      <th>Odds_A</th>\n",
       "      <th>Over_Line</th>\n",
       "      <th>Odds_Over</th>\n",
       "      <th>Odds_Under</th>\n",
       "      <th>HA_Line</th>\n",
       "      <th>HA_Odds_H</th>\n",
       "      <th>HA_Odds_A</th>\n",
       "      <th>Fixture ID</th>\n",
       "      <th>P(H)</th>\n",
       "      <th>P(A)</th>\n",
       "      <th>P(O)</th>\n",
       "      <th>P(U)</th>\n",
       "      <th>P_Diff</th>\n",
       "      <th>Porc_Over_Home</th>\n",
       "      <th>Porc_Over_Away</th>\n",
       "      <th>CustoGolHome</th>\n",
       "      <th>CustoGolAway</th>\n",
       "      <th>Avg_CG_H</th>\n",
       "      <th>DP_CG_H</th>\n",
       "      <th>CV_CG_H</th>\n",
       "      <th>Avg_CG_A</th>\n",
       "      <th>DP_CG_A</th>\n",
       "      <th>CV_CG_A</th>\n",
       "      <th>MediaCustoGolHome</th>\n",
       "      <th>MediaCustoGolAway</th>\n",
       "      <th>Last_CG_H</th>\n",
       "      <th>Last_CG_A</th>\n",
       "      <th>Acima_Last_CG_H</th>\n",
       "      <th>Acima_Last_CG_A</th>\n",
       "      <th>Abaixo_Last_CG_H</th>\n",
       "      <th>Abaixo_Last_CG_A</th>\n",
       "      <th>CV_ML</th>\n",
       "      <th>CV_Over</th>\n",
       "      <th>CV_HA</th>\n",
       "      <th>Retornos_BH_Acu</th>\n",
       "      <th>Avg_Retornos_BH</th>\n",
       "      <th>Custo_Retorno_BH</th>\n",
       "      <th>Avg_Porc_BH_Bookie</th>\n",
       "      <th>Avg_Porc_BH_Real</th>\n",
       "      <th>Dist_Porc_BH</th>\n",
       "      <th>Retornos_BA_Acu</th>\n",
       "      <th>Avg_Retornos_BA</th>\n",
       "      <th>Custo_Retorno_BA</th>\n",
       "      <th>Avg_Porc_BA_Bookie</th>\n",
       "      <th>Avg_Porc_BA_Real</th>\n",
       "      <th>Dist_Porc_BA</th>\n",
       "    </tr>\n",
       "  </thead>\n",
       "  <tbody>\n",
       "    <tr>\n",
       "      <th>295</th>\n",
       "      <td>2024-07-02</td>\n",
       "      <td>Mundo Jogos Olímpicos</td>\n",
       "      <td>12:30</td>\n",
       "      <td>Finlândia</td>\n",
       "      <td>Bahamas</td>\n",
       "      <td>2.99</td>\n",
       "      <td>1.37</td>\n",
       "      <td>170.5</td>\n",
       "      <td>1.83</td>\n",
       "      <td>1.83</td>\n",
       "      <td>5.5</td>\n",
       "      <td>1.95</td>\n",
       "      <td>1.30</td>\n",
       "      <td>pl4k9Q9L</td>\n",
       "      <td>0.334448</td>\n",
       "      <td>0.729927</td>\n",
       "      <td>0.546448</td>\n",
       "      <td>0.546448</td>\n",
       "      <td>0.064375</td>\n",
       "      <td>0.0</td>\n",
       "      <td>0.0</td>\n",
       "      <td>NaN</td>\n",
       "      <td>NaN</td>\n",
       "      <td>NaN</td>\n",
       "      <td>NaN</td>\n",
       "      <td>NaN</td>\n",
       "      <td>NaN</td>\n",
       "      <td>NaN</td>\n",
       "      <td>NaN</td>\n",
       "      <td>0.0</td>\n",
       "      <td>0.0</td>\n",
       "      <td>0.00</td>\n",
       "      <td>0.00</td>\n",
       "      <td>0.0</td>\n",
       "      <td>0.0</td>\n",
       "      <td>0.0</td>\n",
       "      <td>0.0</td>\n",
       "      <td>0.525465</td>\n",
       "      <td>0.000000</td>\n",
       "      <td>0.282843</td>\n",
       "      <td>0.0</td>\n",
       "      <td>0.0</td>\n",
       "      <td>inf</td>\n",
       "      <td>0.0</td>\n",
       "      <td>0.0</td>\n",
       "      <td>0.0</td>\n",
       "      <td>0.0</td>\n",
       "      <td>0.0</td>\n",
       "      <td>inf</td>\n",
       "      <td>0.0</td>\n",
       "      <td>0.0</td>\n",
       "      <td>0.0</td>\n",
       "    </tr>\n",
       "    <tr>\n",
       "      <th>296</th>\n",
       "      <td>2024-07-02</td>\n",
       "      <td>Eua Wnba</td>\n",
       "      <td>20:00</td>\n",
       "      <td>Atlanta Dream F</td>\n",
       "      <td>Chicago Sky F</td>\n",
       "      <td>1.78</td>\n",
       "      <td>2.04</td>\n",
       "      <td>158.5</td>\n",
       "      <td>1.81</td>\n",
       "      <td>1.95</td>\n",
       "      <td>-2.5</td>\n",
       "      <td>2.03</td>\n",
       "      <td>2.36</td>\n",
       "      <td>zqOEW0XC</td>\n",
       "      <td>0.561798</td>\n",
       "      <td>0.490196</td>\n",
       "      <td>0.552486</td>\n",
       "      <td>0.512821</td>\n",
       "      <td>0.051994</td>\n",
       "      <td>0.0</td>\n",
       "      <td>0.0</td>\n",
       "      <td>NaN</td>\n",
       "      <td>NaN</td>\n",
       "      <td>146.858</td>\n",
       "      <td>22.025574</td>\n",
       "      <td>0.149979</td>\n",
       "      <td>234.248</td>\n",
       "      <td>125.614599</td>\n",
       "      <td>0.536246</td>\n",
       "      <td>0.0</td>\n",
       "      <td>0.0</td>\n",
       "      <td>167.48</td>\n",
       "      <td>175.13</td>\n",
       "      <td>0.0</td>\n",
       "      <td>0.0</td>\n",
       "      <td>0.0</td>\n",
       "      <td>0.0</td>\n",
       "      <td>0.096255</td>\n",
       "      <td>0.052657</td>\n",
       "      <td>0.106308</td>\n",
       "      <td>0.0</td>\n",
       "      <td>0.0</td>\n",
       "      <td>inf</td>\n",
       "      <td>0.0</td>\n",
       "      <td>0.0</td>\n",
       "      <td>0.0</td>\n",
       "      <td>0.0</td>\n",
       "      <td>0.0</td>\n",
       "      <td>inf</td>\n",
       "      <td>0.0</td>\n",
       "      <td>0.0</td>\n",
       "      <td>0.0</td>\n",
       "    </tr>\n",
       "    <tr>\n",
       "      <th>297</th>\n",
       "      <td>2024-07-02</td>\n",
       "      <td>Eua Wnba</td>\n",
       "      <td>23:00</td>\n",
       "      <td>Los Angeles Sparks F</td>\n",
       "      <td>Washington Mystics F</td>\n",
       "      <td>2.04</td>\n",
       "      <td>1.78</td>\n",
       "      <td>161.5</td>\n",
       "      <td>1.83</td>\n",
       "      <td>1.95</td>\n",
       "      <td>1.5</td>\n",
       "      <td>1.89</td>\n",
       "      <td>1.63</td>\n",
       "      <td>Gv11f4PJ</td>\n",
       "      <td>0.490196</td>\n",
       "      <td>0.561798</td>\n",
       "      <td>0.546448</td>\n",
       "      <td>0.512821</td>\n",
       "      <td>0.051994</td>\n",
       "      <td>0.0</td>\n",
       "      <td>0.0</td>\n",
       "      <td>NaN</td>\n",
       "      <td>NaN</td>\n",
       "      <td>173.218</td>\n",
       "      <td>8.480794</td>\n",
       "      <td>0.048960</td>\n",
       "      <td>230.676</td>\n",
       "      <td>134.330430</td>\n",
       "      <td>0.582334</td>\n",
       "      <td>0.0</td>\n",
       "      <td>0.0</td>\n",
       "      <td>174.15</td>\n",
       "      <td>161.16</td>\n",
       "      <td>0.0</td>\n",
       "      <td>0.0</td>\n",
       "      <td>0.0</td>\n",
       "      <td>0.0</td>\n",
       "      <td>0.096255</td>\n",
       "      <td>0.044896</td>\n",
       "      <td>0.104459</td>\n",
       "      <td>0.0</td>\n",
       "      <td>0.0</td>\n",
       "      <td>inf</td>\n",
       "      <td>0.0</td>\n",
       "      <td>0.0</td>\n",
       "      <td>0.0</td>\n",
       "      <td>0.0</td>\n",
       "      <td>0.0</td>\n",
       "      <td>inf</td>\n",
       "      <td>0.0</td>\n",
       "      <td>0.0</td>\n",
       "      <td>0.0</td>\n",
       "    </tr>\n",
       "  </tbody>\n",
       "</table>\n",
       "</div>"
      ],
      "text/plain": [
       "           Date                 League   Time                  Home  \\\n",
       "295  2024-07-02  Mundo Jogos Olímpicos  12:30             Finlândia   \n",
       "296  2024-07-02               Eua Wnba  20:00       Atlanta Dream F   \n",
       "297  2024-07-02               Eua Wnba  23:00  Los Angeles Sparks F   \n",
       "\n",
       "                     Away  Odds_H  Odds_A  Over_Line  Odds_Over  Odds_Under  \\\n",
       "295               Bahamas    2.99    1.37      170.5       1.83        1.83   \n",
       "296         Chicago Sky F    1.78    2.04      158.5       1.81        1.95   \n",
       "297  Washington Mystics F    2.04    1.78      161.5       1.83        1.95   \n",
       "\n",
       "     HA_Line  HA_Odds_H  HA_Odds_A Fixture ID      P(H)      P(A)      P(O)  \\\n",
       "295      5.5       1.95       1.30   pl4k9Q9L  0.334448  0.729927  0.546448   \n",
       "296     -2.5       2.03       2.36   zqOEW0XC  0.561798  0.490196  0.552486   \n",
       "297      1.5       1.89       1.63   Gv11f4PJ  0.490196  0.561798  0.546448   \n",
       "\n",
       "         P(U)    P_Diff  Porc_Over_Home  Porc_Over_Away  CustoGolHome  \\\n",
       "295  0.546448  0.064375             0.0             0.0           NaN   \n",
       "296  0.512821  0.051994             0.0             0.0           NaN   \n",
       "297  0.512821  0.051994             0.0             0.0           NaN   \n",
       "\n",
       "     CustoGolAway  Avg_CG_H    DP_CG_H   CV_CG_H  Avg_CG_A     DP_CG_A  \\\n",
       "295           NaN       NaN        NaN       NaN       NaN         NaN   \n",
       "296           NaN   146.858  22.025574  0.149979   234.248  125.614599   \n",
       "297           NaN   173.218   8.480794  0.048960   230.676  134.330430   \n",
       "\n",
       "      CV_CG_A  MediaCustoGolHome  MediaCustoGolAway  Last_CG_H  Last_CG_A  \\\n",
       "295       NaN                0.0                0.0       0.00       0.00   \n",
       "296  0.536246                0.0                0.0     167.48     175.13   \n",
       "297  0.582334                0.0                0.0     174.15     161.16   \n",
       "\n",
       "     Acima_Last_CG_H  Acima_Last_CG_A  Abaixo_Last_CG_H  Abaixo_Last_CG_A  \\\n",
       "295              0.0              0.0               0.0               0.0   \n",
       "296              0.0              0.0               0.0               0.0   \n",
       "297              0.0              0.0               0.0               0.0   \n",
       "\n",
       "        CV_ML   CV_Over     CV_HA  Retornos_BH_Acu  Avg_Retornos_BH  \\\n",
       "295  0.525465  0.000000  0.282843              0.0              0.0   \n",
       "296  0.096255  0.052657  0.106308              0.0              0.0   \n",
       "297  0.096255  0.044896  0.104459              0.0              0.0   \n",
       "\n",
       "     Custo_Retorno_BH  Avg_Porc_BH_Bookie  Avg_Porc_BH_Real  Dist_Porc_BH  \\\n",
       "295               inf                 0.0               0.0           0.0   \n",
       "296               inf                 0.0               0.0           0.0   \n",
       "297               inf                 0.0               0.0           0.0   \n",
       "\n",
       "     Retornos_BA_Acu  Avg_Retornos_BA  Custo_Retorno_BA  Avg_Porc_BA_Bookie  \\\n",
       "295              0.0              0.0               inf                 0.0   \n",
       "296              0.0              0.0               inf                 0.0   \n",
       "297              0.0              0.0               inf                 0.0   \n",
       "\n",
       "     Avg_Porc_BA_Real  Dist_Porc_BA  \n",
       "295               0.0           0.0  \n",
       "296               0.0           0.0  \n",
       "297               0.0           0.0  "
      ]
     },
     "execution_count": 8,
     "metadata": {},
     "output_type": "execute_result"
    }
   ],
   "source": [
    "jogos = games[games['Date'] == data_var]\n",
    "\n",
    "jogos = jogos.drop(columns=['Home_Pts', 'Away_Pts',\n",
    "       'Back_Home', 'PL_Home', 'Back_Away',\n",
    "       'PL_Away', 'Back_Over', 'PL_Over', 'PL_Under', 'Back_HA_H', 'PL_HA_H',\n",
    "       'PL_HA_A', ])\n",
    "\n",
    "jogos"
   ]
  },
  {
   "attachments": {},
   "cell_type": "markdown",
   "id": "08aa1c88",
   "metadata": {
    "papermill": {
     "duration": 0.003,
     "end_time": "2024-07-02T13:01:15.476509",
     "exception": false,
     "start_time": "2024-07-02T13:01:15.473509",
     "status": "completed"
    },
    "tags": []
   },
   "source": [
    "## Apostas do dia"
   ]
  },
  {
   "cell_type": "markdown",
   "id": "b24569b1",
   "metadata": {
    "papermill": {
     "duration": 0.001999,
     "end_time": "2024-07-02T13:01:15.480508",
     "exception": false,
     "start_time": "2024-07-02T13:01:15.478509",
     "status": "completed"
    },
    "tags": []
   },
   "source": [
    "### Over v0 (LDA)"
   ]
  },
  {
   "cell_type": "code",
   "execution_count": 9,
   "id": "6f144103",
   "metadata": {
    "execution": {
     "iopub.execute_input": "2024-07-02T13:01:15.486509Z",
     "iopub.status.busy": "2024-07-02T13:01:15.486012Z",
     "iopub.status.idle": "2024-07-02T13:01:15.670286Z",
     "shell.execute_reply": "2024-07-02T13:01:15.669749Z"
    },
    "papermill": {
     "duration": 0.188741,
     "end_time": "2024-07-02T13:01:15.671750",
     "exception": false,
     "start_time": "2024-07-02T13:01:15.483009",
     "status": "completed"
    },
    "tags": []
   },
   "outputs": [
    {
     "name": "stdout",
     "output_type": "stream",
     "text": [
      "------------ MÉTODO OVER V0 (LDA) ------------\n",
      "\n"
     ]
    },
    {
     "data": {
      "text/html": [
       "<div>\n",
       "<style scoped>\n",
       "    .dataframe tbody tr th:only-of-type {\n",
       "        vertical-align: middle;\n",
       "    }\n",
       "\n",
       "    .dataframe tbody tr th {\n",
       "        vertical-align: top;\n",
       "    }\n",
       "\n",
       "    .dataframe thead th {\n",
       "        text-align: right;\n",
       "    }\n",
       "</style>\n",
       "<table border=\"1\" class=\"dataframe\">\n",
       "  <thead>\n",
       "    <tr style=\"text-align: right;\">\n",
       "      <th></th>\n",
       "      <th>Time</th>\n",
       "      <th>League</th>\n",
       "      <th>Home</th>\n",
       "      <th>Away</th>\n",
       "      <th>Over_Line</th>\n",
       "      <th>Odds_Over</th>\n",
       "      <th>prediction_score</th>\n",
       "      <th>Bet</th>\n",
       "    </tr>\n",
       "  </thead>\n",
       "  <tbody>\n",
       "    <tr>\n",
       "      <th>0</th>\n",
       "      <td>20:00</td>\n",
       "      <td>Eua Wnba</td>\n",
       "      <td>Atlanta Dream F</td>\n",
       "      <td>Chicago Sky F</td>\n",
       "      <td>158.5</td>\n",
       "      <td>1.81</td>\n",
       "      <td>1.0</td>\n",
       "      <td>Over</td>\n",
       "    </tr>\n",
       "  </tbody>\n",
       "</table>\n",
       "</div>"
      ],
      "text/plain": [
       "    Time    League             Home           Away  Over_Line  Odds_Over  \\\n",
       "0  20:00  Eua Wnba  Atlanta Dream F  Chicago Sky F      158.5       1.81   \n",
       "\n",
       "   prediction_score   Bet  \n",
       "0               1.0  Over  "
      ]
     },
     "metadata": {},
     "output_type": "display_data"
    },
    {
     "name": "stdout",
     "output_type": "stream",
     "text": [
      "\n"
     ]
    }
   ],
   "source": [
    "# Duplicando o dataset\n",
    "df_over_v0 = jogos.copy()\n",
    "\n",
    "df_over_v0.reset_index(drop=True, inplace=True)\n",
    "df_over_v0.replace([np.inf, -np.inf], 0, inplace=True)\n",
    "\n",
    "if not df_over_v0.empty:\n",
    "    mdl_over_v0 = load_model('ML/over/v1/v1_over', verbose=False)\n",
    "    prev = predict_model(mdl_over_v0, df_over_v0)\n",
    "    prev = prev[prev['prediction_label'] ==  1]\n",
    "    prev.reset_index(drop=True, inplace=True)\n",
    "    \n",
    "    # Filtros pós modelo\n",
    "\n",
    "    if not prev.empty:\n",
    "        prev.to_csv(f'apostas_do_dia/{data_var}/over_v0_{data_var}.csv', index=False)\n",
    "\n",
    "        print('------------ MÉTODO OVER V0 (LDA) ------------')\n",
    "        print()\n",
    "\n",
    "        prev['Bet'] = 'Over'\n",
    "        ligs = prev['League'].unique().tolist()\n",
    "\n",
    "        display(prev[['Time', 'League', 'Home', 'Away', 'Over_Line', 'Odds_Over', 'prediction_score', 'Bet']])\n",
    "        print()\n",
    "    else: print('Sem jogos')\n",
    "else: print('Sem jogos')"
   ]
  }
 ],
 "metadata": {
  "kernelspec": {
   "display_name": "modelos_futebol",
   "language": "python",
   "name": "python3"
  },
  "language_info": {
   "codemirror_mode": {
    "name": "ipython",
    "version": 3
   },
   "file_extension": ".py",
   "mimetype": "text/x-python",
   "name": "python",
   "nbconvert_exporter": "python",
   "pygments_lexer": "ipython3",
   "version": "3.10.7"
  },
  "papermill": {
   "default_parameters": {},
   "duration": 8.701777,
   "end_time": "2024-07-02T13:01:16.136243",
   "environment_variables": {},
   "exception": null,
   "input_path": "apostas_do_dia_v1.ipynb",
   "output_path": "apostas_do_dia_v1.ipynb",
   "parameters": {
    "data_var": "2024-07-02"
   },
   "start_time": "2024-07-02T13:01:07.434466",
   "version": "2.5.0"
  }
 },
 "nbformat": 4,
 "nbformat_minor": 5
}