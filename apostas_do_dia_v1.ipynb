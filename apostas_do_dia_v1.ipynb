{
 "cells": [
  {
   "cell_type": "code",
   "execution_count": 1,
   "id": "d690e842",
   "metadata": {
    "execution": {
     "iopub.execute_input": "2024-08-20T11:31:51.656827Z",
     "iopub.status.busy": "2024-08-20T11:31:51.655663Z",
     "iopub.status.idle": "2024-08-20T11:31:51.669011Z",
     "shell.execute_reply": "2024-08-20T11:31:51.668501Z"
    },
    "papermill": {
     "duration": 0.017159,
     "end_time": "2024-08-20T11:31:51.670153",
     "exception": false,
     "start_time": "2024-08-20T11:31:51.652994",
     "status": "completed"
    },
    "tags": [
     "parameters"
    ]
   },
   "outputs": [],
   "source": [
    "data_var = ''"
   ]
  },
  {
   "cell_type": "code",
   "execution_count": 2,
   "id": "892bcae8",
   "metadata": {
    "execution": {
     "iopub.execute_input": "2024-08-20T11:31:51.675488Z",
     "iopub.status.busy": "2024-08-20T11:31:51.675337Z",
     "iopub.status.idle": "2024-08-20T11:31:51.685000Z",
     "shell.execute_reply": "2024-08-20T11:31:51.684492Z"
    },
    "papermill": {
     "duration": 0.013337,
     "end_time": "2024-08-20T11:31:51.686154",
     "exception": false,
     "start_time": "2024-08-20T11:31:51.672817",
     "status": "completed"
    },
    "tags": [
     "injected-parameters"
    ]
   },
   "outputs": [],
   "source": [
    "# Parameters\n",
    "data_var = \"2024-08-20\"\n"
   ]
  },
  {
   "cell_type": "code",
   "execution_count": 3,
   "id": "25b97174",
   "metadata": {
    "execution": {
     "iopub.execute_input": "2024-08-20T11:31:51.690338Z",
     "iopub.status.busy": "2024-08-20T11:31:51.690338Z",
     "iopub.status.idle": "2024-08-20T11:31:57.906497Z",
     "shell.execute_reply": "2024-08-20T11:31:57.905988Z"
    },
    "papermill": {
     "duration": 6.219979,
     "end_time": "2024-08-20T11:31:57.907642",
     "exception": false,
     "start_time": "2024-08-20T11:31:51.687663",
     "status": "completed"
    },
    "tags": []
   },
   "outputs": [],
   "source": [
    "import pandas as pd; pd.set_option('display.max_columns', None)\n",
    "import os\n",
    "from pycaret.classification import *\n",
    "from scripts.PreparaDataset import *\n",
    "from scripts.TeoriaRetornos import *"
   ]
  },
  {
   "attachments": {},
   "cell_type": "markdown",
   "id": "ffa9b361",
   "metadata": {
    "papermill": {
     "duration": 0.001672,
     "end_time": "2024-08-20T11:31:57.911828",
     "exception": false,
     "start_time": "2024-08-20T11:31:57.910156",
     "status": "completed"
    },
    "tags": []
   },
   "source": [
    "### Funções"
   ]
  },
  {
   "cell_type": "code",
   "execution_count": 4,
   "id": "cb6eea9b",
   "metadata": {
    "execution": {
     "iopub.execute_input": "2024-08-20T11:31:57.916667Z",
     "iopub.status.busy": "2024-08-20T11:31:57.915662Z",
     "iopub.status.idle": "2024-08-20T11:31:57.922507Z",
     "shell.execute_reply": "2024-08-20T11:31:57.921998Z"
    },
    "papermill": {
     "duration": 0.010682,
     "end_time": "2024-08-20T11:31:57.923662",
     "exception": false,
     "start_time": "2024-08-20T11:31:57.912980",
     "status": "completed"
    },
    "tags": []
   },
   "outputs": [],
   "source": [
    "def atualiza_dia(_jogos):\n",
    "    _jogos = prepara_df(_jogos)\n",
    "\n",
    "    _jogos = _jogos.reset_index(drop=True)\n",
    "\n",
    "    return _jogos"
   ]
  },
  {
   "attachments": {},
   "cell_type": "markdown",
   "id": "26b16874",
   "metadata": {
    "papermill": {
     "duration": 0.002161,
     "end_time": "2024-08-20T11:31:57.927335",
     "exception": false,
     "start_time": "2024-08-20T11:31:57.925174",
     "status": "completed"
    },
    "tags": []
   },
   "source": [
    "### Pegando os jogos do dia"
   ]
  },
  {
   "cell_type": "code",
   "execution_count": 5,
   "id": "5ddb2ecb",
   "metadata": {
    "execution": {
     "iopub.execute_input": "2024-08-20T11:31:57.931653Z",
     "iopub.status.busy": "2024-08-20T11:31:57.931653Z",
     "iopub.status.idle": "2024-08-20T11:31:57.953212Z",
     "shell.execute_reply": "2024-08-20T11:31:57.953212Z"
    },
    "papermill": {
     "duration": 0.026247,
     "end_time": "2024-08-20T11:31:57.955242",
     "exception": false,
     "start_time": "2024-08-20T11:31:57.928995",
     "status": "completed"
    },
    "tags": []
   },
   "outputs": [],
   "source": [
    "df_today = pd.read_csv(f'jogos_do_dia/{data_var}.csv')"
   ]
  },
  {
   "cell_type": "markdown",
   "id": "19a2214d",
   "metadata": {
    "papermill": {
     "duration": 0.001182,
     "end_time": "2024-08-20T11:31:57.958351",
     "exception": false,
     "start_time": "2024-08-20T11:31:57.957169",
     "status": "completed"
    },
    "tags": []
   },
   "source": [
    "### Atualizando os datasets que tem jogo hoje"
   ]
  },
  {
   "cell_type": "code",
   "execution_count": 6,
   "id": "68bd72ae",
   "metadata": {
    "execution": {
     "iopub.execute_input": "2024-08-20T11:31:57.963692Z",
     "iopub.status.busy": "2024-08-20T11:31:57.962503Z",
     "iopub.status.idle": "2024-08-20T11:31:58.032984Z",
     "shell.execute_reply": "2024-08-20T11:31:58.032841Z"
    },
    "papermill": {
     "duration": 0.073626,
     "end_time": "2024-08-20T11:31:58.034490",
     "exception": false,
     "start_time": "2024-08-20T11:31:57.960864",
     "status": "completed"
    },
    "tags": []
   },
   "outputs": [],
   "source": [
    "temporada = pd.read_csv('data/Entire_Season.csv')\n",
    "temporada = temporada[temporada['Date'] < data_var]\n",
    "temporada = pd.concat([temporada, df_today])\n",
    "ligas = df_today['League'].unique().tolist()\n",
    "temporada = temporada[temporada['League'].isin(ligas)]\n",
    "temporada.reset_index(drop=True, inplace=True)"
   ]
  },
  {
   "cell_type": "markdown",
   "id": "0d8018ca",
   "metadata": {
    "papermill": {
     "duration": 0.001665,
     "end_time": "2024-08-20T11:31:58.038313",
     "exception": false,
     "start_time": "2024-08-20T11:31:58.036648",
     "status": "completed"
    },
    "tags": []
   },
   "source": [
    "### Cria variáveis na temporada e nos jogos do dia"
   ]
  },
  {
   "cell_type": "code",
   "execution_count": 7,
   "id": "d3b06cb1",
   "metadata": {
    "execution": {
     "iopub.execute_input": "2024-08-20T11:31:58.043651Z",
     "iopub.status.busy": "2024-08-20T11:31:58.043651Z",
     "iopub.status.idle": "2024-08-20T11:31:58.175843Z",
     "shell.execute_reply": "2024-08-20T11:31:58.175338Z"
    },
    "papermill": {
     "duration": 0.136167,
     "end_time": "2024-08-20T11:31:58.177000",
     "exception": false,
     "start_time": "2024-08-20T11:31:58.040833",
     "status": "completed"
    },
    "tags": []
   },
   "outputs": [],
   "source": [
    "games = atualiza_dia(temporada)\n",
    "temporada = games[games['Date'] < data_var]\n",
    "os.makedirs(f'apostas_do_dia/{data_var}', exist_ok=True)"
   ]
  },
  {
   "cell_type": "code",
   "execution_count": 8,
   "id": "16aa533f",
   "metadata": {
    "execution": {
     "iopub.execute_input": "2024-08-20T11:31:58.182337Z",
     "iopub.status.busy": "2024-08-20T11:31:58.181177Z",
     "iopub.status.idle": "2024-08-20T11:31:58.207847Z",
     "shell.execute_reply": "2024-08-20T11:31:58.207338Z"
    },
    "papermill": {
     "duration": 0.029339,
     "end_time": "2024-08-20T11:31:58.208852",
     "exception": false,
     "start_time": "2024-08-20T11:31:58.179513",
     "status": "completed"
    },
    "tags": []
   },
   "outputs": [
    {
     "data": {
      "text/html": [
       "<div>\n",
       "<style scoped>\n",
       "    .dataframe tbody tr th:only-of-type {\n",
       "        vertical-align: middle;\n",
       "    }\n",
       "\n",
       "    .dataframe tbody tr th {\n",
       "        vertical-align: top;\n",
       "    }\n",
       "\n",
       "    .dataframe thead th {\n",
       "        text-align: right;\n",
       "    }\n",
       "</style>\n",
       "<table border=\"1\" class=\"dataframe\">\n",
       "  <thead>\n",
       "    <tr style=\"text-align: right;\">\n",
       "      <th></th>\n",
       "      <th>Date</th>\n",
       "      <th>League</th>\n",
       "      <th>Time</th>\n",
       "      <th>Home</th>\n",
       "      <th>Away</th>\n",
       "      <th>Odds_H</th>\n",
       "      <th>Odds_A</th>\n",
       "      <th>Over_Line</th>\n",
       "      <th>Odds_Over</th>\n",
       "      <th>Odds_Under</th>\n",
       "      <th>HA_Line</th>\n",
       "      <th>HA_Odds_H</th>\n",
       "      <th>HA_Odds_A</th>\n",
       "      <th>Fixture ID</th>\n",
       "      <th>P(H)</th>\n",
       "      <th>P(A)</th>\n",
       "      <th>P(O)</th>\n",
       "      <th>P(U)</th>\n",
       "      <th>P_Diff</th>\n",
       "      <th>Porc_Over_Home</th>\n",
       "      <th>Porc_Over_Away</th>\n",
       "      <th>CustoGolHome</th>\n",
       "      <th>CustoGolAway</th>\n",
       "      <th>Avg_CG_H</th>\n",
       "      <th>DP_CG_H</th>\n",
       "      <th>CV_CG_H</th>\n",
       "      <th>Avg_CG_A</th>\n",
       "      <th>DP_CG_A</th>\n",
       "      <th>CV_CG_A</th>\n",
       "      <th>MediaCustoGolHome</th>\n",
       "      <th>MediaCustoGolAway</th>\n",
       "      <th>Last_CG_H</th>\n",
       "      <th>Last_CG_A</th>\n",
       "      <th>Acima_Last_CG_H</th>\n",
       "      <th>Acima_Last_CG_A</th>\n",
       "      <th>Abaixo_Last_CG_H</th>\n",
       "      <th>Abaixo_Last_CG_A</th>\n",
       "      <th>CV_ML</th>\n",
       "      <th>CV_Over</th>\n",
       "      <th>CV_HA</th>\n",
       "      <th>Retornos_BH_Acu</th>\n",
       "      <th>Avg_Retornos_BH</th>\n",
       "      <th>Custo_Retorno_BH</th>\n",
       "      <th>Avg_Porc_BH_Bookie</th>\n",
       "      <th>Avg_Porc_BH_Real</th>\n",
       "      <th>Dist_Porc_BH</th>\n",
       "      <th>Retornos_BA_Acu</th>\n",
       "      <th>Avg_Retornos_BA</th>\n",
       "      <th>Custo_Retorno_BA</th>\n",
       "      <th>Avg_Porc_BA_Bookie</th>\n",
       "      <th>Avg_Porc_BA_Real</th>\n",
       "      <th>Dist_Porc_BA</th>\n",
       "    </tr>\n",
       "  </thead>\n",
       "  <tbody>\n",
       "    <tr>\n",
       "      <th>48</th>\n",
       "      <td>2024-08-20</td>\n",
       "      <td>Mundo Copa Do Mundo Feminina</td>\n",
       "      <td>15:00</td>\n",
       "      <td>Senegal F</td>\n",
       "      <td>Brasil F</td>\n",
       "      <td>1.62</td>\n",
       "      <td>2.28</td>\n",
       "      <td>135.5</td>\n",
       "      <td>1.89</td>\n",
       "      <td>1.85</td>\n",
       "      <td>-3.5</td>\n",
       "      <td>1.94</td>\n",
       "      <td>2.51</td>\n",
       "      <td>WKxzguun</td>\n",
       "      <td>0.617284</td>\n",
       "      <td>0.438596</td>\n",
       "      <td>0.529101</td>\n",
       "      <td>0.540541</td>\n",
       "      <td>0.055880</td>\n",
       "      <td>0.0</td>\n",
       "      <td>0.0</td>\n",
       "      <td>NaN</td>\n",
       "      <td>NaN</td>\n",
       "      <td>NaN</td>\n",
       "      <td>NaN</td>\n",
       "      <td>NaN</td>\n",
       "      <td>NaN</td>\n",
       "      <td>NaN</td>\n",
       "      <td>NaN</td>\n",
       "      <td>0.0</td>\n",
       "      <td>0.0</td>\n",
       "      <td>0.0</td>\n",
       "      <td>0.0</td>\n",
       "      <td>0.0</td>\n",
       "      <td>0.0</td>\n",
       "      <td>0.0</td>\n",
       "      <td>0.0</td>\n",
       "      <td>0.239328</td>\n",
       "      <td>0.015125</td>\n",
       "      <td>0.181146</td>\n",
       "      <td>0.0</td>\n",
       "      <td>0.0</td>\n",
       "      <td>inf</td>\n",
       "      <td>0.0</td>\n",
       "      <td>0.0</td>\n",
       "      <td>0.0</td>\n",
       "      <td>0.0</td>\n",
       "      <td>0.0</td>\n",
       "      <td>inf</td>\n",
       "      <td>0.0</td>\n",
       "      <td>0.0</td>\n",
       "      <td>0.0</td>\n",
       "    </tr>\n",
       "    <tr>\n",
       "      <th>49</th>\n",
       "      <td>2024-08-20</td>\n",
       "      <td>Mundo Copa Do Mundo Feminina</td>\n",
       "      <td>23:30</td>\n",
       "      <td>Venezuela F</td>\n",
       "      <td>Mali F</td>\n",
       "      <td>2.00</td>\n",
       "      <td>1.72</td>\n",
       "      <td>138.5</td>\n",
       "      <td>1.82</td>\n",
       "      <td>1.84</td>\n",
       "      <td>-1.5</td>\n",
       "      <td>2.05</td>\n",
       "      <td>1.86</td>\n",
       "      <td>KtggvL8e</td>\n",
       "      <td>0.500000</td>\n",
       "      <td>0.581395</td>\n",
       "      <td>0.549451</td>\n",
       "      <td>0.543478</td>\n",
       "      <td>0.081395</td>\n",
       "      <td>0.0</td>\n",
       "      <td>0.0</td>\n",
       "      <td>NaN</td>\n",
       "      <td>NaN</td>\n",
       "      <td>NaN</td>\n",
       "      <td>NaN</td>\n",
       "      <td>NaN</td>\n",
       "      <td>NaN</td>\n",
       "      <td>NaN</td>\n",
       "      <td>NaN</td>\n",
       "      <td>0.0</td>\n",
       "      <td>0.0</td>\n",
       "      <td>0.0</td>\n",
       "      <td>0.0</td>\n",
       "      <td>0.0</td>\n",
       "      <td>0.0</td>\n",
       "      <td>0.0</td>\n",
       "      <td>0.0</td>\n",
       "      <td>0.106446</td>\n",
       "      <td>0.007728</td>\n",
       "      <td>0.068721</td>\n",
       "      <td>0.0</td>\n",
       "      <td>0.0</td>\n",
       "      <td>inf</td>\n",
       "      <td>0.0</td>\n",
       "      <td>0.0</td>\n",
       "      <td>0.0</td>\n",
       "      <td>0.0</td>\n",
       "      <td>0.0</td>\n",
       "      <td>inf</td>\n",
       "      <td>0.0</td>\n",
       "      <td>0.0</td>\n",
       "      <td>0.0</td>\n",
       "    </tr>\n",
       "    <tr>\n",
       "      <th>50</th>\n",
       "      <td>2024-08-20</td>\n",
       "      <td>Vietnã Vba</td>\n",
       "      <td>09:30</td>\n",
       "      <td>Can Tho Catfish</td>\n",
       "      <td>Saigon Heat</td>\n",
       "      <td>2.19</td>\n",
       "      <td>1.63</td>\n",
       "      <td>153.5</td>\n",
       "      <td>1.81</td>\n",
       "      <td>1.89</td>\n",
       "      <td>1.5</td>\n",
       "      <td>1.90</td>\n",
       "      <td>1.58</td>\n",
       "      <td>dUlhRj1s</td>\n",
       "      <td>0.456621</td>\n",
       "      <td>0.613497</td>\n",
       "      <td>0.552486</td>\n",
       "      <td>0.529101</td>\n",
       "      <td>0.070118</td>\n",
       "      <td>0.0</td>\n",
       "      <td>0.0</td>\n",
       "      <td>NaN</td>\n",
       "      <td>NaN</td>\n",
       "      <td>NaN</td>\n",
       "      <td>NaN</td>\n",
       "      <td>NaN</td>\n",
       "      <td>NaN</td>\n",
       "      <td>NaN</td>\n",
       "      <td>NaN</td>\n",
       "      <td>0.0</td>\n",
       "      <td>0.0</td>\n",
       "      <td>0.0</td>\n",
       "      <td>0.0</td>\n",
       "      <td>0.0</td>\n",
       "      <td>0.0</td>\n",
       "      <td>0.0</td>\n",
       "      <td>0.0</td>\n",
       "      <td>0.207319</td>\n",
       "      <td>0.030578</td>\n",
       "      <td>0.130043</td>\n",
       "      <td>0.0</td>\n",
       "      <td>0.0</td>\n",
       "      <td>inf</td>\n",
       "      <td>0.0</td>\n",
       "      <td>0.0</td>\n",
       "      <td>0.0</td>\n",
       "      <td>0.0</td>\n",
       "      <td>0.0</td>\n",
       "      <td>inf</td>\n",
       "      <td>0.0</td>\n",
       "      <td>0.0</td>\n",
       "      <td>0.0</td>\n",
       "    </tr>\n",
       "  </tbody>\n",
       "</table>\n",
       "</div>"
      ],
      "text/plain": [
       "          Date                        League   Time             Home  \\\n",
       "48  2024-08-20  Mundo Copa Do Mundo Feminina  15:00        Senegal F   \n",
       "49  2024-08-20  Mundo Copa Do Mundo Feminina  23:30      Venezuela F   \n",
       "50  2024-08-20                    Vietnã Vba  09:30  Can Tho Catfish   \n",
       "\n",
       "           Away  Odds_H  Odds_A  Over_Line  Odds_Over  Odds_Under  HA_Line  \\\n",
       "48     Brasil F    1.62    2.28      135.5       1.89        1.85     -3.5   \n",
       "49       Mali F    2.00    1.72      138.5       1.82        1.84     -1.5   \n",
       "50  Saigon Heat    2.19    1.63      153.5       1.81        1.89      1.5   \n",
       "\n",
       "    HA_Odds_H  HA_Odds_A Fixture ID      P(H)      P(A)      P(O)      P(U)  \\\n",
       "48       1.94       2.51   WKxzguun  0.617284  0.438596  0.529101  0.540541   \n",
       "49       2.05       1.86   KtggvL8e  0.500000  0.581395  0.549451  0.543478   \n",
       "50       1.90       1.58   dUlhRj1s  0.456621  0.613497  0.552486  0.529101   \n",
       "\n",
       "      P_Diff  Porc_Over_Home  Porc_Over_Away  CustoGolHome  CustoGolAway  \\\n",
       "48  0.055880             0.0             0.0           NaN           NaN   \n",
       "49  0.081395             0.0             0.0           NaN           NaN   \n",
       "50  0.070118             0.0             0.0           NaN           NaN   \n",
       "\n",
       "    Avg_CG_H  DP_CG_H  CV_CG_H  Avg_CG_A  DP_CG_A  CV_CG_A  MediaCustoGolHome  \\\n",
       "48       NaN      NaN      NaN       NaN      NaN      NaN                0.0   \n",
       "49       NaN      NaN      NaN       NaN      NaN      NaN                0.0   \n",
       "50       NaN      NaN      NaN       NaN      NaN      NaN                0.0   \n",
       "\n",
       "    MediaCustoGolAway  Last_CG_H  Last_CG_A  Acima_Last_CG_H  Acima_Last_CG_A  \\\n",
       "48                0.0        0.0        0.0              0.0              0.0   \n",
       "49                0.0        0.0        0.0              0.0              0.0   \n",
       "50                0.0        0.0        0.0              0.0              0.0   \n",
       "\n",
       "    Abaixo_Last_CG_H  Abaixo_Last_CG_A     CV_ML   CV_Over     CV_HA  \\\n",
       "48               0.0               0.0  0.239328  0.015125  0.181146   \n",
       "49               0.0               0.0  0.106446  0.007728  0.068721   \n",
       "50               0.0               0.0  0.207319  0.030578  0.130043   \n",
       "\n",
       "    Retornos_BH_Acu  Avg_Retornos_BH  Custo_Retorno_BH  Avg_Porc_BH_Bookie  \\\n",
       "48              0.0              0.0               inf                 0.0   \n",
       "49              0.0              0.0               inf                 0.0   \n",
       "50              0.0              0.0               inf                 0.0   \n",
       "\n",
       "    Avg_Porc_BH_Real  Dist_Porc_BH  Retornos_BA_Acu  Avg_Retornos_BA  \\\n",
       "48               0.0           0.0              0.0              0.0   \n",
       "49               0.0           0.0              0.0              0.0   \n",
       "50               0.0           0.0              0.0              0.0   \n",
       "\n",
       "    Custo_Retorno_BA  Avg_Porc_BA_Bookie  Avg_Porc_BA_Real  Dist_Porc_BA  \n",
       "48               inf                 0.0               0.0           0.0  \n",
       "49               inf                 0.0               0.0           0.0  \n",
       "50               inf                 0.0               0.0           0.0  "
      ]
     },
     "execution_count": 8,
     "metadata": {},
     "output_type": "execute_result"
    }
   ],
   "source": [
    "jogos = games[games['Date'] == data_var]\n",
    "\n",
    "jogos = jogos.drop(columns=['Home_Pts', 'Away_Pts',\n",
    "       'Back_Home', 'PL_Home', 'Back_Away',\n",
    "       'PL_Away', 'Back_Over', 'PL_Over', 'PL_Under', 'Back_HA_H', 'PL_HA_H',\n",
    "       'PL_HA_A', ])\n",
    "\n",
    "jogos"
   ]
  },
  {
   "attachments": {},
   "cell_type": "markdown",
   "id": "08aa1c88",
   "metadata": {
    "papermill": {
     "duration": 0.002665,
     "end_time": "2024-08-20T11:31:58.213181",
     "exception": false,
     "start_time": "2024-08-20T11:31:58.210516",
     "status": "completed"
    },
    "tags": []
   },
   "source": [
    "## Apostas do dia"
   ]
  },
  {
   "cell_type": "markdown",
   "id": "b24569b1",
   "metadata": {
    "papermill": {
     "duration": 0.001654,
     "end_time": "2024-08-20T11:31:58.217001",
     "exception": false,
     "start_time": "2024-08-20T11:31:58.215347",
     "status": "completed"
    },
    "tags": []
   },
   "source": [
    "### Over v0 (LDA)"
   ]
  },
  {
   "cell_type": "code",
   "execution_count": 9,
   "id": "6f144103",
   "metadata": {
    "execution": {
     "iopub.execute_input": "2024-08-20T11:31:58.222335Z",
     "iopub.status.busy": "2024-08-20T11:31:58.222335Z",
     "iopub.status.idle": "2024-08-20T11:31:58.399843Z",
     "shell.execute_reply": "2024-08-20T11:31:58.399338Z"
    },
    "papermill": {
     "duration": 0.181477,
     "end_time": "2024-08-20T11:31:58.400999",
     "exception": false,
     "start_time": "2024-08-20T11:31:58.219522",
     "status": "completed"
    },
    "tags": []
   },
   "outputs": [
    {
     "name": "stdout",
     "output_type": "stream",
     "text": [
      "------------ MÉTODO OVER V0 (LDA) ------------\n",
      "\n"
     ]
    },
    {
     "data": {
      "text/html": [
       "<div>\n",
       "<style scoped>\n",
       "    .dataframe tbody tr th:only-of-type {\n",
       "        vertical-align: middle;\n",
       "    }\n",
       "\n",
       "    .dataframe tbody tr th {\n",
       "        vertical-align: top;\n",
       "    }\n",
       "\n",
       "    .dataframe thead th {\n",
       "        text-align: right;\n",
       "    }\n",
       "</style>\n",
       "<table border=\"1\" class=\"dataframe\">\n",
       "  <thead>\n",
       "    <tr style=\"text-align: right;\">\n",
       "      <th></th>\n",
       "      <th>Time</th>\n",
       "      <th>League</th>\n",
       "      <th>Home</th>\n",
       "      <th>Away</th>\n",
       "      <th>Over_Line</th>\n",
       "      <th>Odds_Over</th>\n",
       "      <th>prediction_score</th>\n",
       "      <th>Bet</th>\n",
       "    </tr>\n",
       "  </thead>\n",
       "  <tbody>\n",
       "    <tr>\n",
       "      <th>0</th>\n",
       "      <td>15:00</td>\n",
       "      <td>Mundo Copa Do Mundo Feminina</td>\n",
       "      <td>Senegal F</td>\n",
       "      <td>Brasil F</td>\n",
       "      <td>135.5</td>\n",
       "      <td>1.89</td>\n",
       "      <td>1.0000</td>\n",
       "      <td>Over</td>\n",
       "    </tr>\n",
       "    <tr>\n",
       "      <th>1</th>\n",
       "      <td>23:30</td>\n",
       "      <td>Mundo Copa Do Mundo Feminina</td>\n",
       "      <td>Venezuela F</td>\n",
       "      <td>Mali F</td>\n",
       "      <td>138.5</td>\n",
       "      <td>1.82</td>\n",
       "      <td>0.8647</td>\n",
       "      <td>Over</td>\n",
       "    </tr>\n",
       "  </tbody>\n",
       "</table>\n",
       "</div>"
      ],
      "text/plain": [
       "    Time                        League         Home      Away  Over_Line  \\\n",
       "0  15:00  Mundo Copa Do Mundo Feminina    Senegal F  Brasil F      135.5   \n",
       "1  23:30  Mundo Copa Do Mundo Feminina  Venezuela F    Mali F      138.5   \n",
       "\n",
       "   Odds_Over  prediction_score   Bet  \n",
       "0       1.89            1.0000  Over  \n",
       "1       1.82            0.8647  Over  "
      ]
     },
     "metadata": {},
     "output_type": "display_data"
    },
    {
     "name": "stdout",
     "output_type": "stream",
     "text": [
      "\n"
     ]
    }
   ],
   "source": [
    "# Duplicando o dataset\n",
    "df_over_v0 = jogos.copy()\n",
    "\n",
    "df_over_v0.reset_index(drop=True, inplace=True)\n",
    "df_over_v0.replace([np.inf, -np.inf], 0, inplace=True)\n",
    "\n",
    "if not df_over_v0.empty:\n",
    "    mdl_over_v0 = load_model('ML/over/v1/v1_over', verbose=False)\n",
    "    prev = predict_model(mdl_over_v0, df_over_v0)\n",
    "    prev = prev[prev['prediction_label'] ==  1]\n",
    "    prev.reset_index(drop=True, inplace=True)\n",
    "    \n",
    "    # Filtros pós modelo\n",
    "\n",
    "    if not prev.empty:\n",
    "        prev.to_csv(f'apostas_do_dia/{data_var}/over_v0_{data_var}.csv', index=False)\n",
    "\n",
    "        print('------------ MÉTODO OVER V0 (LDA) ------------')\n",
    "        print()\n",
    "\n",
    "        prev['Bet'] = 'Over'\n",
    "        ligs = prev['League'].unique().tolist()\n",
    "\n",
    "        display(prev[['Time', 'League', 'Home', 'Away', 'Over_Line', 'Odds_Over', 'prediction_score', 'Bet']])\n",
    "        print()\n",
    "    else: print('Sem jogos')\n",
    "else: print('Sem jogos')"
   ]
  }
 ],
 "metadata": {
  "kernelspec": {
   "display_name": "modelos_futebol",
   "language": "python",
   "name": "python3"
  },
  "language_info": {
   "codemirror_mode": {
    "name": "ipython",
    "version": 3
   },
   "file_extension": ".py",
   "mimetype": "text/x-python",
   "name": "python",
   "nbconvert_exporter": "python",
   "pygments_lexer": "ipython3",
   "version": "3.10.7"
  },
  "papermill": {
   "default_parameters": {},
   "duration": 8.501429,
   "end_time": "2024-08-20T11:31:58.878201",
   "environment_variables": {},
   "exception": null,
   "input_path": "apostas_do_dia_v1.ipynb",
   "output_path": "apostas_do_dia_v1.ipynb",
   "parameters": {
    "data_var": "2024-08-20"
   },
   "start_time": "2024-08-20T11:31:50.376772",
   "version": "2.5.0"
  }
 },
 "nbformat": 4,
 "nbformat_minor": 5
}