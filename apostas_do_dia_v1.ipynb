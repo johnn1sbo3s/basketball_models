{
 "cells": [
  {
   "cell_type": "code",
   "execution_count": 1,
   "id": "d690e842",
   "metadata": {
    "execution": {
     "iopub.execute_input": "2024-08-26T11:31:53.228631Z",
     "iopub.status.busy": "2024-08-26T11:31:53.228631Z",
     "iopub.status.idle": "2024-08-26T11:31:53.240801Z",
     "shell.execute_reply": "2024-08-26T11:31:53.240285Z"
    },
    "papermill": {
     "duration": 0.016677,
     "end_time": "2024-08-26T11:31:53.241809",
     "exception": false,
     "start_time": "2024-08-26T11:31:53.225132",
     "status": "completed"
    },
    "tags": [
     "parameters"
    ]
   },
   "outputs": [],
   "source": [
    "data_var = ''"
   ]
  },
  {
   "cell_type": "code",
   "execution_count": 2,
   "id": "d70d3855",
   "metadata": {
    "execution": {
     "iopub.execute_input": "2024-08-26T11:31:53.246293Z",
     "iopub.status.busy": "2024-08-26T11:31:53.246293Z",
     "iopub.status.idle": "2024-08-26T11:31:53.255798Z",
     "shell.execute_reply": "2024-08-26T11:31:53.255798Z"
    },
    "papermill": {
     "duration": 0.013351,
     "end_time": "2024-08-26T11:31:53.256956",
     "exception": false,
     "start_time": "2024-08-26T11:31:53.243605",
     "status": "completed"
    },
    "tags": [
     "injected-parameters"
    ]
   },
   "outputs": [],
   "source": [
    "# Parameters\n",
    "data_var = \"2024-08-26\"\n"
   ]
  },
  {
   "cell_type": "code",
   "execution_count": 3,
   "id": "25b97174",
   "metadata": {
    "execution": {
     "iopub.execute_input": "2024-08-26T11:31:53.262148Z",
     "iopub.status.busy": "2024-08-26T11:31:53.261141Z",
     "iopub.status.idle": "2024-08-26T11:31:59.634609Z",
     "shell.execute_reply": "2024-08-26T11:31:59.634102Z"
    },
    "papermill": {
     "duration": 6.377294,
     "end_time": "2024-08-26T11:31:59.635762",
     "exception": false,
     "start_time": "2024-08-26T11:31:53.258468",
     "status": "completed"
    },
    "tags": []
   },
   "outputs": [],
   "source": [
    "import pandas as pd; pd.set_option('display.max_columns', None)\n",
    "import os\n",
    "from pycaret.classification import *\n",
    "from scripts.PreparaDataset import *\n",
    "from scripts.TeoriaRetornos import *"
   ]
  },
  {
   "attachments": {},
   "cell_type": "markdown",
   "id": "ffa9b361",
   "metadata": {
    "papermill": {
     "duration": 0.001659,
     "end_time": "2024-08-26T11:31:59.639938",
     "exception": false,
     "start_time": "2024-08-26T11:31:59.638279",
     "status": "completed"
    },
    "tags": []
   },
   "source": [
    "### Funções"
   ]
  },
  {
   "cell_type": "code",
   "execution_count": 4,
   "id": "cb6eea9b",
   "metadata": {
    "execution": {
     "iopub.execute_input": "2024-08-26T11:31:59.644788Z",
     "iopub.status.busy": "2024-08-26T11:31:59.643780Z",
     "iopub.status.idle": "2024-08-26T11:31:59.650622Z",
     "shell.execute_reply": "2024-08-26T11:31:59.650116Z"
    },
    "papermill": {
     "duration": 0.010695,
     "end_time": "2024-08-26T11:31:59.651786",
     "exception": false,
     "start_time": "2024-08-26T11:31:59.641091",
     "status": "completed"
    },
    "tags": []
   },
   "outputs": [],
   "source": [
    "def atualiza_dia(_jogos):\n",
    "    _jogos = prepara_df(_jogos)\n",
    "\n",
    "    _jogos = _jogos.reset_index(drop=True)\n",
    "\n",
    "    return _jogos"
   ]
  },
  {
   "attachments": {},
   "cell_type": "markdown",
   "id": "26b16874",
   "metadata": {
    "papermill": {
     "duration": 0.001129,
     "end_time": "2024-08-26T11:31:59.654431",
     "exception": false,
     "start_time": "2024-08-26T11:31:59.653302",
     "status": "completed"
    },
    "tags": []
   },
   "source": [
    "### Pegando os jogos do dia"
   ]
  },
  {
   "cell_type": "code",
   "execution_count": 5,
   "id": "5ddb2ecb",
   "metadata": {
    "execution": {
     "iopub.execute_input": "2024-08-26T11:31:59.659778Z",
     "iopub.status.busy": "2024-08-26T11:31:59.659639Z",
     "iopub.status.idle": "2024-08-26T11:31:59.682629Z",
     "shell.execute_reply": "2024-08-26T11:31:59.682123Z"
    },
    "papermill": {
     "duration": 0.026665,
     "end_time": "2024-08-26T11:31:59.683781",
     "exception": false,
     "start_time": "2024-08-26T11:31:59.657116",
     "status": "completed"
    },
    "tags": []
   },
   "outputs": [],
   "source": [
    "df_today = pd.read_csv(f'jogos_do_dia/{data_var}.csv')"
   ]
  },
  {
   "cell_type": "markdown",
   "id": "19a2214d",
   "metadata": {
    "papermill": {
     "duration": 0.002664,
     "end_time": "2024-08-26T11:31:59.687961",
     "exception": false,
     "start_time": "2024-08-26T11:31:59.685297",
     "status": "completed"
    },
    "tags": []
   },
   "source": [
    "### Atualizando os datasets que tem jogo hoje"
   ]
  },
  {
   "cell_type": "code",
   "execution_count": 6,
   "id": "68bd72ae",
   "metadata": {
    "execution": {
     "iopub.execute_input": "2024-08-26T11:31:59.691783Z",
     "iopub.status.busy": "2024-08-26T11:31:59.691783Z",
     "iopub.status.idle": "2024-08-26T11:31:59.762603Z",
     "shell.execute_reply": "2024-08-26T11:31:59.762097Z"
    },
    "papermill": {
     "duration": 0.074644,
     "end_time": "2024-08-26T11:31:59.763761",
     "exception": false,
     "start_time": "2024-08-26T11:31:59.689117",
     "status": "completed"
    },
    "tags": []
   },
   "outputs": [],
   "source": [
    "temporada = pd.read_csv('data/Entire_Season.csv')\n",
    "temporada = temporada[temporada['Date'] < data_var]\n",
    "temporada = pd.concat([temporada, df_today])\n",
    "ligas = df_today['League'].unique().tolist()\n",
    "temporada = temporada[temporada['League'].isin(ligas)]\n",
    "temporada.reset_index(drop=True, inplace=True)"
   ]
  },
  {
   "cell_type": "markdown",
   "id": "0d8018ca",
   "metadata": {
    "papermill": {
     "duration": 0.002671,
     "end_time": "2024-08-26T11:31:59.769103",
     "exception": false,
     "start_time": "2024-08-26T11:31:59.766432",
     "status": "completed"
    },
    "tags": []
   },
   "source": [
    "### Cria variáveis na temporada e nos jogos do dia"
   ]
  },
  {
   "cell_type": "code",
   "execution_count": 7,
   "id": "d3b06cb1",
   "metadata": {
    "execution": {
     "iopub.execute_input": "2024-08-26T11:31:59.773289Z",
     "iopub.status.busy": "2024-08-26T11:31:59.773289Z",
     "iopub.status.idle": "2024-08-26T11:31:59.906620Z",
     "shell.execute_reply": "2024-08-26T11:31:59.906111Z"
    },
    "papermill": {
     "duration": 0.137152,
     "end_time": "2024-08-26T11:31:59.907767",
     "exception": false,
     "start_time": "2024-08-26T11:31:59.770615",
     "status": "completed"
    },
    "tags": []
   },
   "outputs": [],
   "source": [
    "games = atualiza_dia(temporada)\n",
    "temporada = games[games['Date'] < data_var]\n",
    "os.makedirs(f'apostas_do_dia/{data_var}', exist_ok=True)"
   ]
  },
  {
   "cell_type": "code",
   "execution_count": 8,
   "id": "16aa533f",
   "metadata": {
    "execution": {
     "iopub.execute_input": "2024-08-26T11:31:59.911947Z",
     "iopub.status.busy": "2024-08-26T11:31:59.911947Z",
     "iopub.status.idle": "2024-08-26T11:31:59.938614Z",
     "shell.execute_reply": "2024-08-26T11:31:59.938109Z"
    },
    "papermill": {
     "duration": 0.030497,
     "end_time": "2024-08-26T11:31:59.939775",
     "exception": false,
     "start_time": "2024-08-26T11:31:59.909278",
     "status": "completed"
    },
    "tags": []
   },
   "outputs": [
    {
     "data": {
      "text/html": [
       "<div>\n",
       "<style scoped>\n",
       "    .dataframe tbody tr th:only-of-type {\n",
       "        vertical-align: middle;\n",
       "    }\n",
       "\n",
       "    .dataframe tbody tr th {\n",
       "        vertical-align: top;\n",
       "    }\n",
       "\n",
       "    .dataframe thead th {\n",
       "        text-align: right;\n",
       "    }\n",
       "</style>\n",
       "<table border=\"1\" class=\"dataframe\">\n",
       "  <thead>\n",
       "    <tr style=\"text-align: right;\">\n",
       "      <th></th>\n",
       "      <th>Date</th>\n",
       "      <th>League</th>\n",
       "      <th>Time</th>\n",
       "      <th>Home</th>\n",
       "      <th>Away</th>\n",
       "      <th>Odds_H</th>\n",
       "      <th>Odds_A</th>\n",
       "      <th>Over_Line</th>\n",
       "      <th>Odds_Over</th>\n",
       "      <th>Odds_Under</th>\n",
       "      <th>HA_Line</th>\n",
       "      <th>HA_Odds_H</th>\n",
       "      <th>HA_Odds_A</th>\n",
       "      <th>Fixture ID</th>\n",
       "      <th>P(H)</th>\n",
       "      <th>P(A)</th>\n",
       "      <th>P(O)</th>\n",
       "      <th>P(U)</th>\n",
       "      <th>P_Diff</th>\n",
       "      <th>Porc_Over_Home</th>\n",
       "      <th>Porc_Over_Away</th>\n",
       "      <th>CustoGolHome</th>\n",
       "      <th>CustoGolAway</th>\n",
       "      <th>Avg_CG_H</th>\n",
       "      <th>DP_CG_H</th>\n",
       "      <th>CV_CG_H</th>\n",
       "      <th>Avg_CG_A</th>\n",
       "      <th>DP_CG_A</th>\n",
       "      <th>CV_CG_A</th>\n",
       "      <th>MediaCustoGolHome</th>\n",
       "      <th>MediaCustoGolAway</th>\n",
       "      <th>Last_CG_H</th>\n",
       "      <th>Last_CG_A</th>\n",
       "      <th>Acima_Last_CG_H</th>\n",
       "      <th>Acima_Last_CG_A</th>\n",
       "      <th>Abaixo_Last_CG_H</th>\n",
       "      <th>Abaixo_Last_CG_A</th>\n",
       "      <th>CV_ML</th>\n",
       "      <th>CV_Over</th>\n",
       "      <th>CV_HA</th>\n",
       "      <th>Retornos_BH_Acu</th>\n",
       "      <th>Avg_Retornos_BH</th>\n",
       "      <th>Custo_Retorno_BH</th>\n",
       "      <th>Avg_Porc_BH_Bookie</th>\n",
       "      <th>Avg_Porc_BH_Real</th>\n",
       "      <th>Dist_Porc_BH</th>\n",
       "      <th>Retornos_BA_Acu</th>\n",
       "      <th>Avg_Retornos_BA</th>\n",
       "      <th>Custo_Retorno_BA</th>\n",
       "      <th>Avg_Porc_BA_Bookie</th>\n",
       "      <th>Avg_Porc_BA_Real</th>\n",
       "      <th>Dist_Porc_BA</th>\n",
       "    </tr>\n",
       "  </thead>\n",
       "  <tbody>\n",
       "    <tr>\n",
       "      <th>46</th>\n",
       "      <td>2024-08-26</td>\n",
       "      <td>Eua Wnba</td>\n",
       "      <td>20:30</td>\n",
       "      <td>Atlanta Dream F</td>\n",
       "      <td>Indiana Fever F</td>\n",
       "      <td>2.12</td>\n",
       "      <td>1.73</td>\n",
       "      <td>165.5</td>\n",
       "      <td>1.82</td>\n",
       "      <td>1.94</td>\n",
       "      <td>1.5</td>\n",
       "      <td>1.95</td>\n",
       "      <td>1.59</td>\n",
       "      <td>IJF5ByCn</td>\n",
       "      <td>0.471698</td>\n",
       "      <td>0.578035</td>\n",
       "      <td>0.549451</td>\n",
       "      <td>0.515464</td>\n",
       "      <td>0.049733</td>\n",
       "      <td>0.4</td>\n",
       "      <td>0.6</td>\n",
       "      <td>NaN</td>\n",
       "      <td>NaN</td>\n",
       "      <td>155.38</td>\n",
       "      <td>17.656398</td>\n",
       "      <td>0.113634</td>\n",
       "      <td>170.082</td>\n",
       "      <td>26.633972</td>\n",
       "      <td>0.156595</td>\n",
       "      <td>149.188</td>\n",
       "      <td>154.85</td>\n",
       "      <td>179.2</td>\n",
       "      <td>140.43</td>\n",
       "      <td>0.0</td>\n",
       "      <td>0.0</td>\n",
       "      <td>0.0</td>\n",
       "      <td>0.0</td>\n",
       "      <td>0.143258</td>\n",
       "      <td>0.045134</td>\n",
       "      <td>0.143818</td>\n",
       "      <td>-2.9</td>\n",
       "      <td>-0.58</td>\n",
       "      <td>-1.931034</td>\n",
       "      <td>0.0</td>\n",
       "      <td>0.0</td>\n",
       "      <td>0.0</td>\n",
       "      <td>2.58</td>\n",
       "      <td>0.516</td>\n",
       "      <td>1.414729</td>\n",
       "      <td>0.0</td>\n",
       "      <td>0.0</td>\n",
       "      <td>0.0</td>\n",
       "    </tr>\n",
       "  </tbody>\n",
       "</table>\n",
       "</div>"
      ],
      "text/plain": [
       "          Date    League   Time             Home             Away  Odds_H  \\\n",
       "46  2024-08-26  Eua Wnba  20:30  Atlanta Dream F  Indiana Fever F    2.12   \n",
       "\n",
       "    Odds_A  Over_Line  Odds_Over  Odds_Under  HA_Line  HA_Odds_H  HA_Odds_A  \\\n",
       "46    1.73      165.5       1.82        1.94      1.5       1.95       1.59   \n",
       "\n",
       "   Fixture ID      P(H)      P(A)      P(O)      P(U)    P_Diff  \\\n",
       "46   IJF5ByCn  0.471698  0.578035  0.549451  0.515464  0.049733   \n",
       "\n",
       "    Porc_Over_Home  Porc_Over_Away  CustoGolHome  CustoGolAway  Avg_CG_H  \\\n",
       "46             0.4             0.6           NaN           NaN    155.38   \n",
       "\n",
       "      DP_CG_H   CV_CG_H  Avg_CG_A    DP_CG_A   CV_CG_A  MediaCustoGolHome  \\\n",
       "46  17.656398  0.113634   170.082  26.633972  0.156595            149.188   \n",
       "\n",
       "    MediaCustoGolAway  Last_CG_H  Last_CG_A  Acima_Last_CG_H  Acima_Last_CG_A  \\\n",
       "46             154.85      179.2     140.43              0.0              0.0   \n",
       "\n",
       "    Abaixo_Last_CG_H  Abaixo_Last_CG_A     CV_ML   CV_Over     CV_HA  \\\n",
       "46               0.0               0.0  0.143258  0.045134  0.143818   \n",
       "\n",
       "    Retornos_BH_Acu  Avg_Retornos_BH  Custo_Retorno_BH  Avg_Porc_BH_Bookie  \\\n",
       "46             -2.9            -0.58         -1.931034                 0.0   \n",
       "\n",
       "    Avg_Porc_BH_Real  Dist_Porc_BH  Retornos_BA_Acu  Avg_Retornos_BA  \\\n",
       "46               0.0           0.0             2.58            0.516   \n",
       "\n",
       "    Custo_Retorno_BA  Avg_Porc_BA_Bookie  Avg_Porc_BA_Real  Dist_Porc_BA  \n",
       "46          1.414729                 0.0               0.0           0.0  "
      ]
     },
     "execution_count": 8,
     "metadata": {},
     "output_type": "execute_result"
    }
   ],
   "source": [
    "jogos = games[games['Date'] == data_var]\n",
    "\n",
    "jogos = jogos.drop(columns=['Home_Pts', 'Away_Pts',\n",
    "       'Back_Home', 'PL_Home', 'Back_Away',\n",
    "       'PL_Away', 'Back_Over', 'PL_Over', 'PL_Under', 'Back_HA_H', 'PL_HA_H',\n",
    "       'PL_HA_A', ])\n",
    "\n",
    "jogos"
   ]
  },
  {
   "attachments": {},
   "cell_type": "markdown",
   "id": "08aa1c88",
   "metadata": {
    "papermill": {
     "duration": 0.001666,
     "end_time": "2024-08-26T11:31:59.943962",
     "exception": false,
     "start_time": "2024-08-26T11:31:59.942296",
     "status": "completed"
    },
    "tags": []
   },
   "source": [
    "## Apostas do dia"
   ]
  },
  {
   "cell_type": "markdown",
   "id": "b24569b1",
   "metadata": {
    "papermill": {
     "duration": 0.001662,
     "end_time": "2024-08-26T11:31:59.947786",
     "exception": false,
     "start_time": "2024-08-26T11:31:59.946124",
     "status": "completed"
    },
    "tags": []
   },
   "source": [
    "### Over v0 (LDA)"
   ]
  },
  {
   "cell_type": "code",
   "execution_count": 9,
   "id": "6f144103",
   "metadata": {
    "execution": {
     "iopub.execute_input": "2024-08-26T11:31:59.953126Z",
     "iopub.status.busy": "2024-08-26T11:31:59.951964Z",
     "iopub.status.idle": "2024-08-26T11:32:00.114627Z",
     "shell.execute_reply": "2024-08-26T11:32:00.114121Z"
    },
    "papermill": {
     "duration": 0.166484,
     "end_time": "2024-08-26T11:32:00.115785",
     "exception": false,
     "start_time": "2024-08-26T11:31:59.949301",
     "status": "completed"
    },
    "tags": []
   },
   "outputs": [
    {
     "name": "stdout",
     "output_type": "stream",
     "text": [
      "Sem jogos\n"
     ]
    }
   ],
   "source": [
    "# Duplicando o dataset\n",
    "df_over_v0 = jogos.copy()\n",
    "\n",
    "df_over_v0.reset_index(drop=True, inplace=True)\n",
    "df_over_v0.replace([np.inf, -np.inf], 0, inplace=True)\n",
    "\n",
    "if not df_over_v0.empty:\n",
    "    mdl_over_v0 = load_model('ML/over/v1/v1_over', verbose=False)\n",
    "    prev = predict_model(mdl_over_v0, df_over_v0)\n",
    "    prev = prev[prev['prediction_label'] ==  1]\n",
    "    prev.reset_index(drop=True, inplace=True)\n",
    "    \n",
    "    # Filtros pós modelo\n",
    "\n",
    "    if not prev.empty:\n",
    "        prev.to_csv(f'apostas_do_dia/{data_var}/over_v0_{data_var}.csv', index=False)\n",
    "\n",
    "        print('------------ MÉTODO OVER V0 (LDA) ------------')\n",
    "        print()\n",
    "\n",
    "        prev['Bet'] = 'Over'\n",
    "        ligs = prev['League'].unique().tolist()\n",
    "\n",
    "        display(prev[['Time', 'League', 'Home', 'Away', 'Over_Line', 'Odds_Over', 'prediction_score', 'Bet']])\n",
    "        print()\n",
    "    else: print('Sem jogos')\n",
    "else: print('Sem jogos')"
   ]
  }
 ],
 "metadata": {
  "kernelspec": {
   "display_name": "modelos_futebol",
   "language": "python",
   "name": "python3"
  },
  "language_info": {
   "codemirror_mode": {
    "name": "ipython",
    "version": 3
   },
   "file_extension": ".py",
   "mimetype": "text/x-python",
   "name": "python",
   "nbconvert_exporter": "python",
   "pygments_lexer": "ipython3",
   "version": "3.10.7"
  },
  "papermill": {
   "default_parameters": {},
   "duration": 8.641382,
   "end_time": "2024-08-26T11:32:00.594649",
   "environment_variables": {},
   "exception": null,
   "input_path": "apostas_do_dia_v1.ipynb",
   "output_path": "apostas_do_dia_v1.ipynb",
   "parameters": {
    "data_var": "2024-08-26"
   },
   "start_time": "2024-08-26T11:31:51.953267",
   "version": "2.5.0"
  }
 },
 "nbformat": 4,
 "nbformat_minor": 5
}