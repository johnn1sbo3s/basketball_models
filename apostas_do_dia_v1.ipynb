{
 "cells": [
  {
   "cell_type": "code",
   "execution_count": 1,
   "id": "d690e842",
   "metadata": {
    "execution": {
     "iopub.execute_input": "2024-08-11T13:46:17.765304Z",
     "iopub.status.busy": "2024-08-11T13:46:17.765304Z",
     "iopub.status.idle": "2024-08-11T13:46:17.823988Z",
     "shell.execute_reply": "2024-08-11T13:46:17.823465Z"
    },
    "papermill": {
     "duration": 0.063695,
     "end_time": "2024-08-11T13:46:17.825480",
     "exception": false,
     "start_time": "2024-08-11T13:46:17.761785",
     "status": "completed"
    },
    "tags": [
     "parameters"
    ]
   },
   "outputs": [],
   "source": [
    "data_var = ''"
   ]
  },
  {
   "cell_type": "code",
   "execution_count": 2,
   "id": "2f29b45d",
   "metadata": {
    "execution": {
     "iopub.execute_input": "2024-08-11T13:46:17.830481Z",
     "iopub.status.busy": "2024-08-11T13:46:17.830481Z",
     "iopub.status.idle": "2024-08-11T13:46:17.839484Z",
     "shell.execute_reply": "2024-08-11T13:46:17.838980Z"
    },
    "papermill": {
     "duration": 0.013002,
     "end_time": "2024-08-11T13:46:17.840483",
     "exception": false,
     "start_time": "2024-08-11T13:46:17.827481",
     "status": "completed"
    },
    "tags": [
     "injected-parameters"
    ]
   },
   "outputs": [],
   "source": [
    "# Parameters\n",
    "data_var = \"2024-08-11\"\n"
   ]
  },
  {
   "cell_type": "code",
   "execution_count": 3,
   "id": "25b97174",
   "metadata": {
    "execution": {
     "iopub.execute_input": "2024-08-11T13:46:17.844983Z",
     "iopub.status.busy": "2024-08-11T13:46:17.844983Z",
     "iopub.status.idle": "2024-08-11T13:46:23.930466Z",
     "shell.execute_reply": "2024-08-11T13:46:23.929957Z"
    },
    "papermill": {
     "duration": 6.08948,
     "end_time": "2024-08-11T13:46:23.931964",
     "exception": false,
     "start_time": "2024-08-11T13:46:17.842484",
     "status": "completed"
    },
    "tags": []
   },
   "outputs": [],
   "source": [
    "import pandas as pd; pd.set_option('display.max_columns', None)\n",
    "import os\n",
    "from pycaret.classification import *\n",
    "from scripts.PreparaDataset import *\n",
    "from scripts.TeoriaRetornos import *"
   ]
  },
  {
   "attachments": {},
   "cell_type": "markdown",
   "id": "ffa9b361",
   "metadata": {
    "papermill": {
     "duration": 0.0025,
     "end_time": "2024-08-11T13:46:23.936463",
     "exception": false,
     "start_time": "2024-08-11T13:46:23.933963",
     "status": "completed"
    },
    "tags": []
   },
   "source": [
    "### Funções"
   ]
  },
  {
   "cell_type": "code",
   "execution_count": 4,
   "id": "cb6eea9b",
   "metadata": {
    "execution": {
     "iopub.execute_input": "2024-08-11T13:46:23.940961Z",
     "iopub.status.busy": "2024-08-11T13:46:23.940464Z",
     "iopub.status.idle": "2024-08-11T13:46:23.945965Z",
     "shell.execute_reply": "2024-08-11T13:46:23.945464Z"
    },
    "papermill": {
     "duration": 0.009002,
     "end_time": "2024-08-11T13:46:23.946963",
     "exception": false,
     "start_time": "2024-08-11T13:46:23.937961",
     "status": "completed"
    },
    "tags": []
   },
   "outputs": [],
   "source": [
    "def atualiza_dia(_jogos):\n",
    "    _jogos = prepara_df(_jogos)\n",
    "\n",
    "    _jogos = _jogos.reset_index(drop=True)\n",
    "\n",
    "    return _jogos"
   ]
  },
  {
   "attachments": {},
   "cell_type": "markdown",
   "id": "26b16874",
   "metadata": {
    "papermill": {
     "duration": 0.001498,
     "end_time": "2024-08-11T13:46:23.950461",
     "exception": false,
     "start_time": "2024-08-11T13:46:23.948963",
     "status": "completed"
    },
    "tags": []
   },
   "source": [
    "### Pegando os jogos do dia"
   ]
  },
  {
   "cell_type": "code",
   "execution_count": 5,
   "id": "5ddb2ecb",
   "metadata": {
    "execution": {
     "iopub.execute_input": "2024-08-11T13:46:23.955462Z",
     "iopub.status.busy": "2024-08-11T13:46:23.954965Z",
     "iopub.status.idle": "2024-08-11T13:46:23.977347Z",
     "shell.execute_reply": "2024-08-11T13:46:23.976352Z"
    },
    "papermill": {
     "duration": 0.025886,
     "end_time": "2024-08-11T13:46:23.978348",
     "exception": false,
     "start_time": "2024-08-11T13:46:23.952462",
     "status": "completed"
    },
    "tags": []
   },
   "outputs": [],
   "source": [
    "df_today = pd.read_csv(f'jogos_do_dia/{data_var}.csv')"
   ]
  },
  {
   "cell_type": "markdown",
   "id": "19a2214d",
   "metadata": {
    "papermill": {
     "duration": 0.001999,
     "end_time": "2024-08-11T13:46:23.982348",
     "exception": false,
     "start_time": "2024-08-11T13:46:23.980349",
     "status": "completed"
    },
    "tags": []
   },
   "source": [
    "### Atualizando os datasets que tem jogo hoje"
   ]
  },
  {
   "cell_type": "code",
   "execution_count": 6,
   "id": "68bd72ae",
   "metadata": {
    "execution": {
     "iopub.execute_input": "2024-08-11T13:46:23.986860Z",
     "iopub.status.busy": "2024-08-11T13:46:23.986348Z",
     "iopub.status.idle": "2024-08-11T13:46:24.054319Z",
     "shell.execute_reply": "2024-08-11T13:46:24.053829Z"
    },
    "papermill": {
     "duration": 0.071973,
     "end_time": "2024-08-11T13:46:24.055820",
     "exception": false,
     "start_time": "2024-08-11T13:46:23.983847",
     "status": "completed"
    },
    "tags": []
   },
   "outputs": [],
   "source": [
    "temporada = pd.read_csv('data/Entire_Season.csv')\n",
    "temporada = temporada[temporada['Date'] < data_var]\n",
    "temporada = pd.concat([temporada, df_today])\n",
    "ligas = df_today['League'].unique().tolist()\n",
    "temporada = temporada[temporada['League'].isin(ligas)]\n",
    "temporada.reset_index(drop=True, inplace=True)"
   ]
  },
  {
   "cell_type": "markdown",
   "id": "0d8018ca",
   "metadata": {
    "papermill": {
     "duration": 0.002497,
     "end_time": "2024-08-11T13:46:24.060317",
     "exception": false,
     "start_time": "2024-08-11T13:46:24.057820",
     "status": "completed"
    },
    "tags": []
   },
   "source": [
    "### Cria variáveis na temporada e nos jogos do dia"
   ]
  },
  {
   "cell_type": "code",
   "execution_count": 7,
   "id": "d3b06cb1",
   "metadata": {
    "execution": {
     "iopub.execute_input": "2024-08-11T13:46:24.065320Z",
     "iopub.status.busy": "2024-08-11T13:46:24.064820Z",
     "iopub.status.idle": "2024-08-11T13:46:24.255959Z",
     "shell.execute_reply": "2024-08-11T13:46:24.255345Z"
    },
    "papermill": {
     "duration": 0.195654,
     "end_time": "2024-08-11T13:46:24.257469",
     "exception": false,
     "start_time": "2024-08-11T13:46:24.061815",
     "status": "completed"
    },
    "tags": []
   },
   "outputs": [],
   "source": [
    "games = atualiza_dia(temporada)\n",
    "temporada = games[games['Date'] < data_var]\n",
    "os.makedirs(f'apostas_do_dia/{data_var}', exist_ok=True)"
   ]
  },
  {
   "cell_type": "code",
   "execution_count": 8,
   "id": "16aa533f",
   "metadata": {
    "execution": {
     "iopub.execute_input": "2024-08-11T13:46:24.261967Z",
     "iopub.status.busy": "2024-08-11T13:46:24.261967Z",
     "iopub.status.idle": "2024-08-11T13:46:24.302323Z",
     "shell.execute_reply": "2024-08-11T13:46:24.301819Z"
    },
    "papermill": {
     "duration": 0.043852,
     "end_time": "2024-08-11T13:46:24.303321",
     "exception": false,
     "start_time": "2024-08-11T13:46:24.259469",
     "status": "completed"
    },
    "tags": []
   },
   "outputs": [
    {
     "data": {
      "text/html": [
       "<div>\n",
       "<style scoped>\n",
       "    .dataframe tbody tr th:only-of-type {\n",
       "        vertical-align: middle;\n",
       "    }\n",
       "\n",
       "    .dataframe tbody tr th {\n",
       "        vertical-align: top;\n",
       "    }\n",
       "\n",
       "    .dataframe thead th {\n",
       "        text-align: right;\n",
       "    }\n",
       "</style>\n",
       "<table border=\"1\" class=\"dataframe\">\n",
       "  <thead>\n",
       "    <tr style=\"text-align: right;\">\n",
       "      <th></th>\n",
       "      <th>Date</th>\n",
       "      <th>League</th>\n",
       "      <th>Time</th>\n",
       "      <th>Home</th>\n",
       "      <th>Away</th>\n",
       "      <th>Odds_H</th>\n",
       "      <th>Odds_A</th>\n",
       "      <th>Over_Line</th>\n",
       "      <th>Odds_Over</th>\n",
       "      <th>Odds_Under</th>\n",
       "      <th>HA_Line</th>\n",
       "      <th>HA_Odds_H</th>\n",
       "      <th>HA_Odds_A</th>\n",
       "      <th>Fixture ID</th>\n",
       "      <th>P(H)</th>\n",
       "      <th>P(A)</th>\n",
       "      <th>P(O)</th>\n",
       "      <th>P(U)</th>\n",
       "      <th>P_Diff</th>\n",
       "      <th>Porc_Over_Home</th>\n",
       "      <th>Porc_Over_Away</th>\n",
       "      <th>CustoGolHome</th>\n",
       "      <th>CustoGolAway</th>\n",
       "      <th>Avg_CG_H</th>\n",
       "      <th>DP_CG_H</th>\n",
       "      <th>CV_CG_H</th>\n",
       "      <th>Avg_CG_A</th>\n",
       "      <th>DP_CG_A</th>\n",
       "      <th>CV_CG_A</th>\n",
       "      <th>MediaCustoGolHome</th>\n",
       "      <th>MediaCustoGolAway</th>\n",
       "      <th>Last_CG_H</th>\n",
       "      <th>Last_CG_A</th>\n",
       "      <th>Acima_Last_CG_H</th>\n",
       "      <th>Acima_Last_CG_A</th>\n",
       "      <th>Abaixo_Last_CG_H</th>\n",
       "      <th>Abaixo_Last_CG_A</th>\n",
       "      <th>CV_ML</th>\n",
       "      <th>CV_Over</th>\n",
       "      <th>CV_HA</th>\n",
       "      <th>Retornos_BH_Acu</th>\n",
       "      <th>Avg_Retornos_BH</th>\n",
       "      <th>Custo_Retorno_BH</th>\n",
       "      <th>Avg_Porc_BH_Bookie</th>\n",
       "      <th>Avg_Porc_BH_Real</th>\n",
       "      <th>Dist_Porc_BH</th>\n",
       "      <th>Retornos_BA_Acu</th>\n",
       "      <th>Avg_Retornos_BA</th>\n",
       "      <th>Custo_Retorno_BA</th>\n",
       "      <th>Avg_Porc_BA_Bookie</th>\n",
       "      <th>Avg_Porc_BA_Real</th>\n",
       "      <th>Dist_Porc_BA</th>\n",
       "    </tr>\n",
       "  </thead>\n",
       "  <tbody>\n",
       "    <tr>\n",
       "      <th>105</th>\n",
       "      <td>2024-08-11</td>\n",
       "      <td>Mundo Jogos Olímpicos</td>\n",
       "      <td>06:30</td>\n",
       "      <td>Bélgica F</td>\n",
       "      <td>Austrália F</td>\n",
       "      <td>2.25</td>\n",
       "      <td>1.69</td>\n",
       "      <td>147.5</td>\n",
       "      <td>1.87</td>\n",
       "      <td>1.91</td>\n",
       "      <td>2.5</td>\n",
       "      <td>1.95</td>\n",
       "      <td>1.41</td>\n",
       "      <td>GzLWIHXP</td>\n",
       "      <td>0.444444</td>\n",
       "      <td>0.591716</td>\n",
       "      <td>0.534759</td>\n",
       "      <td>0.523560</td>\n",
       "      <td>0.036160</td>\n",
       "      <td>0.0</td>\n",
       "      <td>0.0</td>\n",
       "      <td>NaN</td>\n",
       "      <td>NaN</td>\n",
       "      <td>234.288</td>\n",
       "      <td>256.995461</td>\n",
       "      <td>1.096921</td>\n",
       "      <td>NaN</td>\n",
       "      <td>NaN</td>\n",
       "      <td>NaN</td>\n",
       "      <td>0.0</td>\n",
       "      <td>0.0</td>\n",
       "      <td>79.56</td>\n",
       "      <td>67.20</td>\n",
       "      <td>0.0</td>\n",
       "      <td>0.0</td>\n",
       "      <td>0.0</td>\n",
       "      <td>0.0</td>\n",
       "      <td>0.201005</td>\n",
       "      <td>0.014965</td>\n",
       "      <td>0.227284</td>\n",
       "      <td>0.0</td>\n",
       "      <td>0.0</td>\n",
       "      <td>inf</td>\n",
       "      <td>0.0</td>\n",
       "      <td>0.0</td>\n",
       "      <td>0.0</td>\n",
       "      <td>0.0</td>\n",
       "      <td>0.0</td>\n",
       "      <td>inf</td>\n",
       "      <td>0.0</td>\n",
       "      <td>0.0</td>\n",
       "      <td>0.0</td>\n",
       "    </tr>\n",
       "    <tr>\n",
       "      <th>106</th>\n",
       "      <td>2024-08-11</td>\n",
       "      <td>Porto Rico Bsn</td>\n",
       "      <td>21:00</td>\n",
       "      <td>Leones De Ponce</td>\n",
       "      <td>Criollos de Caguas</td>\n",
       "      <td>1.49</td>\n",
       "      <td>2.55</td>\n",
       "      <td>168.5</td>\n",
       "      <td>1.87</td>\n",
       "      <td>1.79</td>\n",
       "      <td>-4.5</td>\n",
       "      <td>1.83</td>\n",
       "      <td>3.50</td>\n",
       "      <td>feaDzrvg</td>\n",
       "      <td>0.671141</td>\n",
       "      <td>0.392157</td>\n",
       "      <td>0.534759</td>\n",
       "      <td>0.558659</td>\n",
       "      <td>0.063298</td>\n",
       "      <td>0.0</td>\n",
       "      <td>0.0</td>\n",
       "      <td>NaN</td>\n",
       "      <td>NaN</td>\n",
       "      <td>NaN</td>\n",
       "      <td>NaN</td>\n",
       "      <td>NaN</td>\n",
       "      <td>NaN</td>\n",
       "      <td>NaN</td>\n",
       "      <td>NaN</td>\n",
       "      <td>0.0</td>\n",
       "      <td>0.0</td>\n",
       "      <td>160.20</td>\n",
       "      <td>165.44</td>\n",
       "      <td>0.0</td>\n",
       "      <td>0.0</td>\n",
       "      <td>0.0</td>\n",
       "      <td>0.0</td>\n",
       "      <td>0.371056</td>\n",
       "      <td>0.030912</td>\n",
       "      <td>0.443103</td>\n",
       "      <td>0.0</td>\n",
       "      <td>0.0</td>\n",
       "      <td>inf</td>\n",
       "      <td>0.0</td>\n",
       "      <td>0.0</td>\n",
       "      <td>0.0</td>\n",
       "      <td>0.0</td>\n",
       "      <td>0.0</td>\n",
       "      <td>inf</td>\n",
       "      <td>0.0</td>\n",
       "      <td>0.0</td>\n",
       "      <td>0.0</td>\n",
       "    </tr>\n",
       "    <tr>\n",
       "      <th>107</th>\n",
       "      <td>2024-08-11</td>\n",
       "      <td>República Dominicana Lnb</td>\n",
       "      <td>18:00</td>\n",
       "      <td>Caneros</td>\n",
       "      <td>Indios</td>\n",
       "      <td>1.73</td>\n",
       "      <td>1.94</td>\n",
       "      <td>174.5</td>\n",
       "      <td>1.83</td>\n",
       "      <td>1.83</td>\n",
       "      <td>-2.5</td>\n",
       "      <td>1.97</td>\n",
       "      <td>2.39</td>\n",
       "      <td>nXbtXIn2</td>\n",
       "      <td>0.578035</td>\n",
       "      <td>0.515464</td>\n",
       "      <td>0.546448</td>\n",
       "      <td>0.546448</td>\n",
       "      <td>0.093499</td>\n",
       "      <td>0.0</td>\n",
       "      <td>0.0</td>\n",
       "      <td>NaN</td>\n",
       "      <td>NaN</td>\n",
       "      <td>NaN</td>\n",
       "      <td>NaN</td>\n",
       "      <td>NaN</td>\n",
       "      <td>NaN</td>\n",
       "      <td>NaN</td>\n",
       "      <td>NaN</td>\n",
       "      <td>0.0</td>\n",
       "      <td>0.0</td>\n",
       "      <td>148.19</td>\n",
       "      <td>138.45</td>\n",
       "      <td>0.0</td>\n",
       "      <td>0.0</td>\n",
       "      <td>0.0</td>\n",
       "      <td>0.0</td>\n",
       "      <td>0.080922</td>\n",
       "      <td>0.000000</td>\n",
       "      <td>0.136232</td>\n",
       "      <td>0.0</td>\n",
       "      <td>0.0</td>\n",
       "      <td>inf</td>\n",
       "      <td>0.0</td>\n",
       "      <td>0.0</td>\n",
       "      <td>0.0</td>\n",
       "      <td>0.0</td>\n",
       "      <td>0.0</td>\n",
       "      <td>inf</td>\n",
       "      <td>0.0</td>\n",
       "      <td>0.0</td>\n",
       "      <td>0.0</td>\n",
       "    </tr>\n",
       "  </tbody>\n",
       "</table>\n",
       "</div>"
      ],
      "text/plain": [
       "           Date                    League   Time             Home  \\\n",
       "105  2024-08-11     Mundo Jogos Olímpicos  06:30        Bélgica F   \n",
       "106  2024-08-11            Porto Rico Bsn  21:00  Leones De Ponce   \n",
       "107  2024-08-11  República Dominicana Lnb  18:00          Caneros   \n",
       "\n",
       "                   Away  Odds_H  Odds_A  Over_Line  Odds_Over  Odds_Under  \\\n",
       "105         Austrália F    2.25    1.69      147.5       1.87        1.91   \n",
       "106  Criollos de Caguas    1.49    2.55      168.5       1.87        1.79   \n",
       "107              Indios    1.73    1.94      174.5       1.83        1.83   \n",
       "\n",
       "     HA_Line  HA_Odds_H  HA_Odds_A Fixture ID      P(H)      P(A)      P(O)  \\\n",
       "105      2.5       1.95       1.41   GzLWIHXP  0.444444  0.591716  0.534759   \n",
       "106     -4.5       1.83       3.50   feaDzrvg  0.671141  0.392157  0.534759   \n",
       "107     -2.5       1.97       2.39   nXbtXIn2  0.578035  0.515464  0.546448   \n",
       "\n",
       "         P(U)    P_Diff  Porc_Over_Home  Porc_Over_Away  CustoGolHome  \\\n",
       "105  0.523560  0.036160             0.0             0.0           NaN   \n",
       "106  0.558659  0.063298             0.0             0.0           NaN   \n",
       "107  0.546448  0.093499             0.0             0.0           NaN   \n",
       "\n",
       "     CustoGolAway  Avg_CG_H     DP_CG_H   CV_CG_H  Avg_CG_A  DP_CG_A  CV_CG_A  \\\n",
       "105           NaN   234.288  256.995461  1.096921       NaN      NaN      NaN   \n",
       "106           NaN       NaN         NaN       NaN       NaN      NaN      NaN   \n",
       "107           NaN       NaN         NaN       NaN       NaN      NaN      NaN   \n",
       "\n",
       "     MediaCustoGolHome  MediaCustoGolAway  Last_CG_H  Last_CG_A  \\\n",
       "105                0.0                0.0      79.56      67.20   \n",
       "106                0.0                0.0     160.20     165.44   \n",
       "107                0.0                0.0     148.19     138.45   \n",
       "\n",
       "     Acima_Last_CG_H  Acima_Last_CG_A  Abaixo_Last_CG_H  Abaixo_Last_CG_A  \\\n",
       "105              0.0              0.0               0.0               0.0   \n",
       "106              0.0              0.0               0.0               0.0   \n",
       "107              0.0              0.0               0.0               0.0   \n",
       "\n",
       "        CV_ML   CV_Over     CV_HA  Retornos_BH_Acu  Avg_Retornos_BH  \\\n",
       "105  0.201005  0.014965  0.227284              0.0              0.0   \n",
       "106  0.371056  0.030912  0.443103              0.0              0.0   \n",
       "107  0.080922  0.000000  0.136232              0.0              0.0   \n",
       "\n",
       "     Custo_Retorno_BH  Avg_Porc_BH_Bookie  Avg_Porc_BH_Real  Dist_Porc_BH  \\\n",
       "105               inf                 0.0               0.0           0.0   \n",
       "106               inf                 0.0               0.0           0.0   \n",
       "107               inf                 0.0               0.0           0.0   \n",
       "\n",
       "     Retornos_BA_Acu  Avg_Retornos_BA  Custo_Retorno_BA  Avg_Porc_BA_Bookie  \\\n",
       "105              0.0              0.0               inf                 0.0   \n",
       "106              0.0              0.0               inf                 0.0   \n",
       "107              0.0              0.0               inf                 0.0   \n",
       "\n",
       "     Avg_Porc_BA_Real  Dist_Porc_BA  \n",
       "105               0.0           0.0  \n",
       "106               0.0           0.0  \n",
       "107               0.0           0.0  "
      ]
     },
     "execution_count": 8,
     "metadata": {},
     "output_type": "execute_result"
    }
   ],
   "source": [
    "jogos = games[games['Date'] == data_var]\n",
    "\n",
    "jogos = jogos.drop(columns=['Home_Pts', 'Away_Pts',\n",
    "       'Back_Home', 'PL_Home', 'Back_Away',\n",
    "       'PL_Away', 'Back_Over', 'PL_Over', 'PL_Under', 'Back_HA_H', 'PL_HA_H',\n",
    "       'PL_HA_A', ])\n",
    "\n",
    "jogos"
   ]
  },
  {
   "attachments": {},
   "cell_type": "markdown",
   "id": "08aa1c88",
   "metadata": {
    "papermill": {
     "duration": 0.002504,
     "end_time": "2024-08-11T13:46:24.308835",
     "exception": false,
     "start_time": "2024-08-11T13:46:24.306331",
     "status": "completed"
    },
    "tags": []
   },
   "source": [
    "## Apostas do dia"
   ]
  },
  {
   "cell_type": "markdown",
   "id": "b24569b1",
   "metadata": {
    "papermill": {
     "duration": 0.002,
     "end_time": "2024-08-11T13:46:24.312835",
     "exception": false,
     "start_time": "2024-08-11T13:46:24.310835",
     "status": "completed"
    },
    "tags": []
   },
   "source": [
    "### Over v0 (LDA)"
   ]
  },
  {
   "cell_type": "code",
   "execution_count": 9,
   "id": "6f144103",
   "metadata": {
    "execution": {
     "iopub.execute_input": "2024-08-11T13:46:24.318331Z",
     "iopub.status.busy": "2024-08-11T13:46:24.317831Z",
     "iopub.status.idle": "2024-08-11T13:46:24.503228Z",
     "shell.execute_reply": "2024-08-11T13:46:24.502724Z"
    },
    "papermill": {
     "duration": 0.190417,
     "end_time": "2024-08-11T13:46:24.505251",
     "exception": false,
     "start_time": "2024-08-11T13:46:24.314834",
     "status": "completed"
    },
    "tags": []
   },
   "outputs": [
    {
     "name": "stdout",
     "output_type": "stream",
     "text": [
      "------------ MÉTODO OVER V0 (LDA) ------------\n",
      "\n"
     ]
    },
    {
     "data": {
      "text/html": [
       "<div>\n",
       "<style scoped>\n",
       "    .dataframe tbody tr th:only-of-type {\n",
       "        vertical-align: middle;\n",
       "    }\n",
       "\n",
       "    .dataframe tbody tr th {\n",
       "        vertical-align: top;\n",
       "    }\n",
       "\n",
       "    .dataframe thead th {\n",
       "        text-align: right;\n",
       "    }\n",
       "</style>\n",
       "<table border=\"1\" class=\"dataframe\">\n",
       "  <thead>\n",
       "    <tr style=\"text-align: right;\">\n",
       "      <th></th>\n",
       "      <th>Time</th>\n",
       "      <th>League</th>\n",
       "      <th>Home</th>\n",
       "      <th>Away</th>\n",
       "      <th>Over_Line</th>\n",
       "      <th>Odds_Over</th>\n",
       "      <th>prediction_score</th>\n",
       "      <th>Bet</th>\n",
       "    </tr>\n",
       "  </thead>\n",
       "  <tbody>\n",
       "    <tr>\n",
       "      <th>0</th>\n",
       "      <td>21:00</td>\n",
       "      <td>Porto Rico Bsn</td>\n",
       "      <td>Leones De Ponce</td>\n",
       "      <td>Criollos de Caguas</td>\n",
       "      <td>168.5</td>\n",
       "      <td>1.87</td>\n",
       "      <td>1.0</td>\n",
       "      <td>Over</td>\n",
       "    </tr>\n",
       "    <tr>\n",
       "      <th>1</th>\n",
       "      <td>18:00</td>\n",
       "      <td>República Dominicana Lnb</td>\n",
       "      <td>Caneros</td>\n",
       "      <td>Indios</td>\n",
       "      <td>174.5</td>\n",
       "      <td>1.83</td>\n",
       "      <td>1.0</td>\n",
       "      <td>Over</td>\n",
       "    </tr>\n",
       "  </tbody>\n",
       "</table>\n",
       "</div>"
      ],
      "text/plain": [
       "    Time                    League             Home                Away  \\\n",
       "0  21:00            Porto Rico Bsn  Leones De Ponce  Criollos de Caguas   \n",
       "1  18:00  República Dominicana Lnb          Caneros              Indios   \n",
       "\n",
       "   Over_Line  Odds_Over  prediction_score   Bet  \n",
       "0      168.5       1.87               1.0  Over  \n",
       "1      174.5       1.83               1.0  Over  "
      ]
     },
     "metadata": {},
     "output_type": "display_data"
    },
    {
     "name": "stdout",
     "output_type": "stream",
     "text": [
      "\n"
     ]
    }
   ],
   "source": [
    "# Duplicando o dataset\n",
    "df_over_v0 = jogos.copy()\n",
    "\n",
    "df_over_v0.reset_index(drop=True, inplace=True)\n",
    "df_over_v0.replace([np.inf, -np.inf], 0, inplace=True)\n",
    "\n",
    "if not df_over_v0.empty:\n",
    "    mdl_over_v0 = load_model('ML/over/v1/v1_over', verbose=False)\n",
    "    prev = predict_model(mdl_over_v0, df_over_v0)\n",
    "    prev = prev[prev['prediction_label'] ==  1]\n",
    "    prev.reset_index(drop=True, inplace=True)\n",
    "    \n",
    "    # Filtros pós modelo\n",
    "\n",
    "    if not prev.empty:\n",
    "        prev.to_csv(f'apostas_do_dia/{data_var}/over_v0_{data_var}.csv', index=False)\n",
    "\n",
    "        print('------------ MÉTODO OVER V0 (LDA) ------------')\n",
    "        print()\n",
    "\n",
    "        prev['Bet'] = 'Over'\n",
    "        ligs = prev['League'].unique().tolist()\n",
    "\n",
    "        display(prev[['Time', 'League', 'Home', 'Away', 'Over_Line', 'Odds_Over', 'prediction_score', 'Bet']])\n",
    "        print()\n",
    "    else: print('Sem jogos')\n",
    "else: print('Sem jogos')"
   ]
  }
 ],
 "metadata": {
  "kernelspec": {
   "display_name": "modelos_futebol",
   "language": "python",
   "name": "python3"
  },
  "language_info": {
   "codemirror_mode": {
    "name": "ipython",
    "version": 3
   },
   "file_extension": ".py",
   "mimetype": "text/x-python",
   "name": "python",
   "nbconvert_exporter": "python",
   "pygments_lexer": "ipython3",
   "version": "3.10.7"
  },
  "papermill": {
   "default_parameters": {},
   "duration": 8.46927,
   "end_time": "2024-08-11T13:46:24.953203",
   "environment_variables": {},
   "exception": null,
   "input_path": "apostas_do_dia_v1.ipynb",
   "output_path": "apostas_do_dia_v1.ipynb",
   "parameters": {
    "data_var": "2024-08-11"
   },
   "start_time": "2024-08-11T13:46:16.483933",
   "version": "2.5.0"
  }
 },
 "nbformat": 4,
 "nbformat_minor": 5
}