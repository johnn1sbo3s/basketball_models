{
 "cells": [
  {
   "cell_type": "code",
   "execution_count": 1,
   "id": "d690e842",
   "metadata": {
    "execution": {
     "iopub.execute_input": "2024-08-23T11:31:02.692151Z",
     "iopub.status.busy": "2024-08-23T11:31:02.692151Z",
     "iopub.status.idle": "2024-08-23T11:31:02.705485Z",
     "shell.execute_reply": "2024-08-23T11:31:02.704976Z"
    },
    "papermill": {
     "duration": 0.017669,
     "end_time": "2024-08-23T11:31:02.706635",
     "exception": false,
     "start_time": "2024-08-23T11:31:02.688966",
     "status": "completed"
    },
    "tags": [
     "parameters"
    ]
   },
   "outputs": [],
   "source": [
    "data_var = ''"
   ]
  },
  {
   "cell_type": "code",
   "execution_count": 2,
   "id": "213c3184",
   "metadata": {
    "execution": {
     "iopub.execute_input": "2024-08-23T11:31:02.711973Z",
     "iopub.status.busy": "2024-08-23T11:31:02.710828Z",
     "iopub.status.idle": "2024-08-23T11:31:02.721565Z",
     "shell.execute_reply": "2024-08-23T11:31:02.721058Z"
    },
    "papermill": {
     "duration": 0.014489,
     "end_time": "2024-08-23T11:31:02.722632",
     "exception": false,
     "start_time": "2024-08-23T11:31:02.708143",
     "status": "completed"
    },
    "tags": [
     "injected-parameters"
    ]
   },
   "outputs": [],
   "source": [
    "# Parameters\n",
    "data_var = \"2024-08-23\"\n"
   ]
  },
  {
   "cell_type": "code",
   "execution_count": 3,
   "id": "25b97174",
   "metadata": {
    "execution": {
     "iopub.execute_input": "2024-08-23T11:31:02.726815Z",
     "iopub.status.busy": "2024-08-23T11:31:02.726815Z",
     "iopub.status.idle": "2024-08-23T11:31:09.225668Z",
     "shell.execute_reply": "2024-08-23T11:31:09.225159Z"
    },
    "papermill": {
     "duration": 6.502666,
     "end_time": "2024-08-23T11:31:09.226811",
     "exception": false,
     "start_time": "2024-08-23T11:31:02.724145",
     "status": "completed"
    },
    "tags": []
   },
   "outputs": [],
   "source": [
    "import pandas as pd; pd.set_option('display.max_columns', None)\n",
    "import os\n",
    "from pycaret.classification import *\n",
    "from scripts.PreparaDataset import *\n",
    "from scripts.TeoriaRetornos import *"
   ]
  },
  {
   "attachments": {},
   "cell_type": "markdown",
   "id": "ffa9b361",
   "metadata": {
    "papermill": {
     "duration": 0.001511,
     "end_time": "2024-08-23T11:31:09.230995",
     "exception": false,
     "start_time": "2024-08-23T11:31:09.229484",
     "status": "completed"
    },
    "tags": []
   },
   "source": [
    "### Funções"
   ]
  },
  {
   "cell_type": "code",
   "execution_count": 4,
   "id": "cb6eea9b",
   "metadata": {
    "execution": {
     "iopub.execute_input": "2024-08-23T11:31:09.236319Z",
     "iopub.status.busy": "2024-08-23T11:31:09.236319Z",
     "iopub.status.idle": "2024-08-23T11:31:09.241659Z",
     "shell.execute_reply": "2024-08-23T11:31:09.241153Z"
    },
    "papermill": {
     "duration": 0.00916,
     "end_time": "2024-08-23T11:31:09.242812",
     "exception": false,
     "start_time": "2024-08-23T11:31:09.233652",
     "status": "completed"
    },
    "tags": []
   },
   "outputs": [],
   "source": [
    "def atualiza_dia(_jogos):\n",
    "    _jogos = prepara_df(_jogos)\n",
    "\n",
    "    _jogos = _jogos.reset_index(drop=True)\n",
    "\n",
    "    return _jogos"
   ]
  },
  {
   "attachments": {},
   "cell_type": "markdown",
   "id": "26b16874",
   "metadata": {
    "papermill": {
     "duration": 0.002666,
     "end_time": "2024-08-23T11:31:09.246990",
     "exception": false,
     "start_time": "2024-08-23T11:31:09.244324",
     "status": "completed"
    },
    "tags": []
   },
   "source": [
    "### Pegando os jogos do dia"
   ]
  },
  {
   "cell_type": "code",
   "execution_count": 5,
   "id": "5ddb2ecb",
   "metadata": {
    "execution": {
     "iopub.execute_input": "2024-08-23T11:31:09.251870Z",
     "iopub.status.busy": "2024-08-23T11:31:09.250804Z",
     "iopub.status.idle": "2024-08-23T11:31:09.257656Z",
     "shell.execute_reply": "2024-08-23T11:31:09.257149Z"
    },
    "papermill": {
     "duration": 0.010679,
     "end_time": "2024-08-23T11:31:09.258824",
     "exception": false,
     "start_time": "2024-08-23T11:31:09.248145",
     "status": "completed"
    },
    "tags": []
   },
   "outputs": [],
   "source": [
    "df_today = pd.read_csv(f'jogos_do_dia/{data_var}.csv')"
   ]
  },
  {
   "cell_type": "markdown",
   "id": "19a2214d",
   "metadata": {
    "papermill": {
     "duration": 0.002153,
     "end_time": "2024-08-23T11:31:09.262489",
     "exception": false,
     "start_time": "2024-08-23T11:31:09.260336",
     "status": "completed"
    },
    "tags": []
   },
   "source": [
    "### Atualizando os datasets que tem jogo hoje"
   ]
  },
  {
   "cell_type": "code",
   "execution_count": 6,
   "id": "68bd72ae",
   "metadata": {
    "execution": {
     "iopub.execute_input": "2024-08-23T11:31:09.266806Z",
     "iopub.status.busy": "2024-08-23T11:31:09.266806Z",
     "iopub.status.idle": "2024-08-23T11:31:09.337712Z",
     "shell.execute_reply": "2024-08-23T11:31:09.337203Z"
    },
    "papermill": {
     "duration": 0.074659,
     "end_time": "2024-08-23T11:31:09.338808",
     "exception": false,
     "start_time": "2024-08-23T11:31:09.264149",
     "status": "completed"
    },
    "tags": []
   },
   "outputs": [],
   "source": [
    "temporada = pd.read_csv('data/Entire_Season.csv')\n",
    "temporada = temporada[temporada['Date'] < data_var]\n",
    "temporada = pd.concat([temporada, df_today])\n",
    "ligas = df_today['League'].unique().tolist()\n",
    "temporada = temporada[temporada['League'].isin(ligas)]\n",
    "temporada.reset_index(drop=True, inplace=True)"
   ]
  },
  {
   "cell_type": "markdown",
   "id": "0d8018ca",
   "metadata": {
    "papermill": {
     "duration": 0.002518,
     "end_time": "2024-08-23T11:31:09.343998",
     "exception": false,
     "start_time": "2024-08-23T11:31:09.341480",
     "status": "completed"
    },
    "tags": []
   },
   "source": [
    "### Cria variáveis na temporada e nos jogos do dia"
   ]
  },
  {
   "cell_type": "code",
   "execution_count": 7,
   "id": "d3b06cb1",
   "metadata": {
    "execution": {
     "iopub.execute_input": "2024-08-23T11:31:09.348326Z",
     "iopub.status.busy": "2024-08-23T11:31:09.348326Z",
     "iopub.status.idle": "2024-08-23T11:31:09.738875Z",
     "shell.execute_reply": "2024-08-23T11:31:09.737750Z"
    },
    "papermill": {
     "duration": 0.395876,
     "end_time": "2024-08-23T11:31:09.741540",
     "exception": false,
     "start_time": "2024-08-23T11:31:09.345664",
     "status": "completed"
    },
    "tags": []
   },
   "outputs": [],
   "source": [
    "games = atualiza_dia(temporada)\n",
    "temporada = games[games['Date'] < data_var]\n",
    "os.makedirs(f'apostas_do_dia/{data_var}', exist_ok=True)"
   ]
  },
  {
   "cell_type": "code",
   "execution_count": 8,
   "id": "16aa533f",
   "metadata": {
    "execution": {
     "iopub.execute_input": "2024-08-23T11:31:09.749387Z",
     "iopub.status.busy": "2024-08-23T11:31:09.748380Z",
     "iopub.status.idle": "2024-08-23T11:31:09.801770Z",
     "shell.execute_reply": "2024-08-23T11:31:09.801264Z"
    },
    "papermill": {
     "duration": 0.058661,
     "end_time": "2024-08-23T11:31:09.803860",
     "exception": false,
     "start_time": "2024-08-23T11:31:09.745199",
     "status": "completed"
    },
    "tags": []
   },
   "outputs": [
    {
     "data": {
      "text/html": [
       "<div>\n",
       "<style scoped>\n",
       "    .dataframe tbody tr th:only-of-type {\n",
       "        vertical-align: middle;\n",
       "    }\n",
       "\n",
       "    .dataframe tbody tr th {\n",
       "        vertical-align: top;\n",
       "    }\n",
       "\n",
       "    .dataframe thead th {\n",
       "        text-align: right;\n",
       "    }\n",
       "</style>\n",
       "<table border=\"1\" class=\"dataframe\">\n",
       "  <thead>\n",
       "    <tr style=\"text-align: right;\">\n",
       "      <th></th>\n",
       "      <th>Date</th>\n",
       "      <th>League</th>\n",
       "      <th>Time</th>\n",
       "      <th>Home</th>\n",
       "      <th>Away</th>\n",
       "      <th>Odds_H</th>\n",
       "      <th>Odds_A</th>\n",
       "      <th>Over_Line</th>\n",
       "      <th>Odds_Over</th>\n",
       "      <th>Odds_Under</th>\n",
       "      <th>HA_Line</th>\n",
       "      <th>HA_Odds_H</th>\n",
       "      <th>HA_Odds_A</th>\n",
       "      <th>Fixture ID</th>\n",
       "      <th>P(H)</th>\n",
       "      <th>P(A)</th>\n",
       "      <th>P(O)</th>\n",
       "      <th>P(U)</th>\n",
       "      <th>P_Diff</th>\n",
       "      <th>Porc_Over_Home</th>\n",
       "      <th>Porc_Over_Away</th>\n",
       "      <th>CustoGolHome</th>\n",
       "      <th>CustoGolAway</th>\n",
       "      <th>Avg_CG_H</th>\n",
       "      <th>DP_CG_H</th>\n",
       "      <th>CV_CG_H</th>\n",
       "      <th>Avg_CG_A</th>\n",
       "      <th>DP_CG_A</th>\n",
       "      <th>CV_CG_A</th>\n",
       "      <th>MediaCustoGolHome</th>\n",
       "      <th>MediaCustoGolAway</th>\n",
       "      <th>Last_CG_H</th>\n",
       "      <th>Last_CG_A</th>\n",
       "      <th>Acima_Last_CG_H</th>\n",
       "      <th>Acima_Last_CG_A</th>\n",
       "      <th>Abaixo_Last_CG_H</th>\n",
       "      <th>Abaixo_Last_CG_A</th>\n",
       "      <th>CV_ML</th>\n",
       "      <th>CV_Over</th>\n",
       "      <th>CV_HA</th>\n",
       "      <th>Retornos_BH_Acu</th>\n",
       "      <th>Avg_Retornos_BH</th>\n",
       "      <th>Custo_Retorno_BH</th>\n",
       "      <th>Avg_Porc_BH_Bookie</th>\n",
       "      <th>Avg_Porc_BH_Real</th>\n",
       "      <th>Dist_Porc_BH</th>\n",
       "      <th>Retornos_BA_Acu</th>\n",
       "      <th>Avg_Retornos_BA</th>\n",
       "      <th>Custo_Retorno_BA</th>\n",
       "      <th>Avg_Porc_BA_Bookie</th>\n",
       "      <th>Avg_Porc_BA_Real</th>\n",
       "      <th>Dist_Porc_BA</th>\n",
       "    </tr>\n",
       "  </thead>\n",
       "  <tbody>\n",
       "    <tr>\n",
       "      <th>149</th>\n",
       "      <td>2024-08-23</td>\n",
       "      <td>Eua Wnba</td>\n",
       "      <td>20:30</td>\n",
       "      <td>Atlanta Dream F</td>\n",
       "      <td>Phoenix Mercury F</td>\n",
       "      <td>2.24</td>\n",
       "      <td>1.66</td>\n",
       "      <td>162.5</td>\n",
       "      <td>1.81</td>\n",
       "      <td>1.97</td>\n",
       "      <td>1.5</td>\n",
       "      <td>2.05</td>\n",
       "      <td>1.51</td>\n",
       "      <td>rkaV9Ozr</td>\n",
       "      <td>0.446429</td>\n",
       "      <td>0.602410</td>\n",
       "      <td>0.552486</td>\n",
       "      <td>0.507614</td>\n",
       "      <td>0.048838</td>\n",
       "      <td>0.0</td>\n",
       "      <td>0.0</td>\n",
       "      <td>NaN</td>\n",
       "      <td>NaN</td>\n",
       "      <td>150.69</td>\n",
       "      <td>11.934798</td>\n",
       "      <td>0.079201</td>\n",
       "      <td>148.514</td>\n",
       "      <td>27.703075</td>\n",
       "      <td>0.186535</td>\n",
       "      <td>0.0</td>\n",
       "      <td>0.0</td>\n",
       "      <td>151.20</td>\n",
       "      <td>109.62</td>\n",
       "      <td>0.0</td>\n",
       "      <td>0.0</td>\n",
       "      <td>0.0</td>\n",
       "      <td>1.0</td>\n",
       "      <td>0.210319</td>\n",
       "      <td>0.059861</td>\n",
       "      <td>0.214516</td>\n",
       "      <td>0.0</td>\n",
       "      <td>0.0</td>\n",
       "      <td>inf</td>\n",
       "      <td>0.0</td>\n",
       "      <td>0.0</td>\n",
       "      <td>0.0</td>\n",
       "      <td>0.0</td>\n",
       "      <td>0.0</td>\n",
       "      <td>inf</td>\n",
       "      <td>0.0</td>\n",
       "      <td>0.0</td>\n",
       "      <td>0.0</td>\n",
       "    </tr>\n",
       "    <tr>\n",
       "      <th>150</th>\n",
       "      <td>2024-08-23</td>\n",
       "      <td>Eua Wnba</td>\n",
       "      <td>22:30</td>\n",
       "      <td>Minnesota Lynx F</td>\n",
       "      <td>Las Vegas Aces F</td>\n",
       "      <td>1.73</td>\n",
       "      <td>2.11</td>\n",
       "      <td>167.5</td>\n",
       "      <td>1.81</td>\n",
       "      <td>1.95</td>\n",
       "      <td>-2.5</td>\n",
       "      <td>1.97</td>\n",
       "      <td>2.40</td>\n",
       "      <td>I7ir7MK0</td>\n",
       "      <td>0.578035</td>\n",
       "      <td>0.473934</td>\n",
       "      <td>0.552486</td>\n",
       "      <td>0.512821</td>\n",
       "      <td>0.051968</td>\n",
       "      <td>0.0</td>\n",
       "      <td>0.0</td>\n",
       "      <td>NaN</td>\n",
       "      <td>NaN</td>\n",
       "      <td>NaN</td>\n",
       "      <td>NaN</td>\n",
       "      <td>NaN</td>\n",
       "      <td>NaN</td>\n",
       "      <td>NaN</td>\n",
       "      <td>NaN</td>\n",
       "      <td>0.0</td>\n",
       "      <td>0.0</td>\n",
       "      <td>119.88</td>\n",
       "      <td>112.10</td>\n",
       "      <td>0.0</td>\n",
       "      <td>0.0</td>\n",
       "      <td>0.0</td>\n",
       "      <td>1.0</td>\n",
       "      <td>0.139948</td>\n",
       "      <td>0.052657</td>\n",
       "      <td>0.139156</td>\n",
       "      <td>0.0</td>\n",
       "      <td>0.0</td>\n",
       "      <td>inf</td>\n",
       "      <td>0.0</td>\n",
       "      <td>0.0</td>\n",
       "      <td>0.0</td>\n",
       "      <td>0.0</td>\n",
       "      <td>0.0</td>\n",
       "      <td>inf</td>\n",
       "      <td>0.0</td>\n",
       "      <td>0.0</td>\n",
       "      <td>0.0</td>\n",
       "    </tr>\n",
       "    <tr>\n",
       "      <th>151</th>\n",
       "      <td>2024-08-23</td>\n",
       "      <td>Europa Copa Europeia 3X3</td>\n",
       "      <td>08:15</td>\n",
       "      <td>Alemanha 3x3</td>\n",
       "      <td>Espanha 3x3</td>\n",
       "      <td>1.65</td>\n",
       "      <td>2.06</td>\n",
       "      <td>35.5</td>\n",
       "      <td>1.83</td>\n",
       "      <td>1.83</td>\n",
       "      <td>-1.5</td>\n",
       "      <td>2.00</td>\n",
       "      <td>1.90</td>\n",
       "      <td>nBJGTuc2</td>\n",
       "      <td>0.606061</td>\n",
       "      <td>0.485437</td>\n",
       "      <td>0.546448</td>\n",
       "      <td>0.546448</td>\n",
       "      <td>0.091497</td>\n",
       "      <td>0.0</td>\n",
       "      <td>0.0</td>\n",
       "      <td>NaN</td>\n",
       "      <td>NaN</td>\n",
       "      <td>NaN</td>\n",
       "      <td>NaN</td>\n",
       "      <td>NaN</td>\n",
       "      <td>NaN</td>\n",
       "      <td>NaN</td>\n",
       "      <td>NaN</td>\n",
       "      <td>0.0</td>\n",
       "      <td>0.0</td>\n",
       "      <td>0.00</td>\n",
       "      <td>0.00</td>\n",
       "      <td>0.0</td>\n",
       "      <td>0.0</td>\n",
       "      <td>0.0</td>\n",
       "      <td>0.0</td>\n",
       "      <td>0.156288</td>\n",
       "      <td>0.000000</td>\n",
       "      <td>0.036262</td>\n",
       "      <td>0.0</td>\n",
       "      <td>0.0</td>\n",
       "      <td>inf</td>\n",
       "      <td>0.0</td>\n",
       "      <td>0.0</td>\n",
       "      <td>0.0</td>\n",
       "      <td>0.0</td>\n",
       "      <td>0.0</td>\n",
       "      <td>inf</td>\n",
       "      <td>0.0</td>\n",
       "      <td>0.0</td>\n",
       "      <td>0.0</td>\n",
       "    </tr>\n",
       "    <tr>\n",
       "      <th>152</th>\n",
       "      <td>2024-08-23</td>\n",
       "      <td>República Dominicana Lnb</td>\n",
       "      <td>21:00</td>\n",
       "      <td>Caneros</td>\n",
       "      <td>Titanes Del Licey</td>\n",
       "      <td>1.68</td>\n",
       "      <td>2.01</td>\n",
       "      <td>169.5</td>\n",
       "      <td>1.80</td>\n",
       "      <td>1.86</td>\n",
       "      <td>-2.5</td>\n",
       "      <td>1.93</td>\n",
       "      <td>2.46</td>\n",
       "      <td>UeMvk70n</td>\n",
       "      <td>0.595238</td>\n",
       "      <td>0.497512</td>\n",
       "      <td>0.555556</td>\n",
       "      <td>0.537634</td>\n",
       "      <td>0.092751</td>\n",
       "      <td>0.0</td>\n",
       "      <td>0.0</td>\n",
       "      <td>NaN</td>\n",
       "      <td>NaN</td>\n",
       "      <td>NaN</td>\n",
       "      <td>NaN</td>\n",
       "      <td>NaN</td>\n",
       "      <td>NaN</td>\n",
       "      <td>NaN</td>\n",
       "      <td>NaN</td>\n",
       "      <td>0.0</td>\n",
       "      <td>0.0</td>\n",
       "      <td>173.00</td>\n",
       "      <td>116.20</td>\n",
       "      <td>0.0</td>\n",
       "      <td>0.0</td>\n",
       "      <td>0.0</td>\n",
       "      <td>1.0</td>\n",
       "      <td>0.126474</td>\n",
       "      <td>0.023184</td>\n",
       "      <td>0.170736</td>\n",
       "      <td>0.0</td>\n",
       "      <td>0.0</td>\n",
       "      <td>inf</td>\n",
       "      <td>0.0</td>\n",
       "      <td>0.0</td>\n",
       "      <td>0.0</td>\n",
       "      <td>0.0</td>\n",
       "      <td>0.0</td>\n",
       "      <td>inf</td>\n",
       "      <td>0.0</td>\n",
       "      <td>0.0</td>\n",
       "      <td>0.0</td>\n",
       "    </tr>\n",
       "  </tbody>\n",
       "</table>\n",
       "</div>"
      ],
      "text/plain": [
       "           Date                    League   Time              Home  \\\n",
       "149  2024-08-23                  Eua Wnba  20:30   Atlanta Dream F   \n",
       "150  2024-08-23                  Eua Wnba  22:30  Minnesota Lynx F   \n",
       "151  2024-08-23  Europa Copa Europeia 3X3  08:15      Alemanha 3x3   \n",
       "152  2024-08-23  República Dominicana Lnb  21:00           Caneros   \n",
       "\n",
       "                  Away  Odds_H  Odds_A  Over_Line  Odds_Over  Odds_Under  \\\n",
       "149  Phoenix Mercury F    2.24    1.66      162.5       1.81        1.97   \n",
       "150   Las Vegas Aces F    1.73    2.11      167.5       1.81        1.95   \n",
       "151        Espanha 3x3    1.65    2.06       35.5       1.83        1.83   \n",
       "152  Titanes Del Licey    1.68    2.01      169.5       1.80        1.86   \n",
       "\n",
       "     HA_Line  HA_Odds_H  HA_Odds_A Fixture ID      P(H)      P(A)      P(O)  \\\n",
       "149      1.5       2.05       1.51   rkaV9Ozr  0.446429  0.602410  0.552486   \n",
       "150     -2.5       1.97       2.40   I7ir7MK0  0.578035  0.473934  0.552486   \n",
       "151     -1.5       2.00       1.90   nBJGTuc2  0.606061  0.485437  0.546448   \n",
       "152     -2.5       1.93       2.46   UeMvk70n  0.595238  0.497512  0.555556   \n",
       "\n",
       "         P(U)    P_Diff  Porc_Over_Home  Porc_Over_Away  CustoGolHome  \\\n",
       "149  0.507614  0.048838             0.0             0.0           NaN   \n",
       "150  0.512821  0.051968             0.0             0.0           NaN   \n",
       "151  0.546448  0.091497             0.0             0.0           NaN   \n",
       "152  0.537634  0.092751             0.0             0.0           NaN   \n",
       "\n",
       "     CustoGolAway  Avg_CG_H    DP_CG_H   CV_CG_H  Avg_CG_A    DP_CG_A  \\\n",
       "149           NaN    150.69  11.934798  0.079201   148.514  27.703075   \n",
       "150           NaN       NaN        NaN       NaN       NaN        NaN   \n",
       "151           NaN       NaN        NaN       NaN       NaN        NaN   \n",
       "152           NaN       NaN        NaN       NaN       NaN        NaN   \n",
       "\n",
       "      CV_CG_A  MediaCustoGolHome  MediaCustoGolAway  Last_CG_H  Last_CG_A  \\\n",
       "149  0.186535                0.0                0.0     151.20     109.62   \n",
       "150       NaN                0.0                0.0     119.88     112.10   \n",
       "151       NaN                0.0                0.0       0.00       0.00   \n",
       "152       NaN                0.0                0.0     173.00     116.20   \n",
       "\n",
       "     Acima_Last_CG_H  Acima_Last_CG_A  Abaixo_Last_CG_H  Abaixo_Last_CG_A  \\\n",
       "149              0.0              0.0               0.0               1.0   \n",
       "150              0.0              0.0               0.0               1.0   \n",
       "151              0.0              0.0               0.0               0.0   \n",
       "152              0.0              0.0               0.0               1.0   \n",
       "\n",
       "        CV_ML   CV_Over     CV_HA  Retornos_BH_Acu  Avg_Retornos_BH  \\\n",
       "149  0.210319  0.059861  0.214516              0.0              0.0   \n",
       "150  0.139948  0.052657  0.139156              0.0              0.0   \n",
       "151  0.156288  0.000000  0.036262              0.0              0.0   \n",
       "152  0.126474  0.023184  0.170736              0.0              0.0   \n",
       "\n",
       "     Custo_Retorno_BH  Avg_Porc_BH_Bookie  Avg_Porc_BH_Real  Dist_Porc_BH  \\\n",
       "149               inf                 0.0               0.0           0.0   \n",
       "150               inf                 0.0               0.0           0.0   \n",
       "151               inf                 0.0               0.0           0.0   \n",
       "152               inf                 0.0               0.0           0.0   \n",
       "\n",
       "     Retornos_BA_Acu  Avg_Retornos_BA  Custo_Retorno_BA  Avg_Porc_BA_Bookie  \\\n",
       "149              0.0              0.0               inf                 0.0   \n",
       "150              0.0              0.0               inf                 0.0   \n",
       "151              0.0              0.0               inf                 0.0   \n",
       "152              0.0              0.0               inf                 0.0   \n",
       "\n",
       "     Avg_Porc_BA_Real  Dist_Porc_BA  \n",
       "149               0.0           0.0  \n",
       "150               0.0           0.0  \n",
       "151               0.0           0.0  \n",
       "152               0.0           0.0  "
      ]
     },
     "execution_count": 8,
     "metadata": {},
     "output_type": "execute_result"
    }
   ],
   "source": [
    "jogos = games[games['Date'] == data_var]\n",
    "\n",
    "jogos = jogos.drop(columns=['Home_Pts', 'Away_Pts',\n",
    "       'Back_Home', 'PL_Home', 'Back_Away',\n",
    "       'PL_Away', 'Back_Over', 'PL_Over', 'PL_Under', 'Back_HA_H', 'PL_HA_H',\n",
    "       'PL_HA_A', ])\n",
    "\n",
    "jogos"
   ]
  },
  {
   "attachments": {},
   "cell_type": "markdown",
   "id": "08aa1c88",
   "metadata": {
    "papermill": {
     "duration": 0.002167,
     "end_time": "2024-08-23T11:31:09.809206",
     "exception": false,
     "start_time": "2024-08-23T11:31:09.807039",
     "status": "completed"
    },
    "tags": []
   },
   "source": [
    "## Apostas do dia"
   ]
  },
  {
   "cell_type": "markdown",
   "id": "b24569b1",
   "metadata": {
    "papermill": {
     "duration": 0.002667,
     "end_time": "2024-08-23T11:31:09.814539",
     "exception": false,
     "start_time": "2024-08-23T11:31:09.811872",
     "status": "completed"
    },
    "tags": []
   },
   "source": [
    "### Over v0 (LDA)"
   ]
  },
  {
   "cell_type": "code",
   "execution_count": 9,
   "id": "6f144103",
   "metadata": {
    "execution": {
     "iopub.execute_input": "2024-08-23T11:31:09.823054Z",
     "iopub.status.busy": "2024-08-23T11:31:09.823054Z",
     "iopub.status.idle": "2024-08-23T11:31:10.057758Z",
     "shell.execute_reply": "2024-08-23T11:31:10.057248Z"
    },
    "papermill": {
     "duration": 0.241575,
     "end_time": "2024-08-23T11:31:10.058867",
     "exception": false,
     "start_time": "2024-08-23T11:31:09.817292",
     "status": "completed"
    },
    "tags": []
   },
   "outputs": [
    {
     "name": "stdout",
     "output_type": "stream",
     "text": [
      "------------ MÉTODO OVER V0 (LDA) ------------\n",
      "\n"
     ]
    },
    {
     "data": {
      "text/html": [
       "<div>\n",
       "<style scoped>\n",
       "    .dataframe tbody tr th:only-of-type {\n",
       "        vertical-align: middle;\n",
       "    }\n",
       "\n",
       "    .dataframe tbody tr th {\n",
       "        vertical-align: top;\n",
       "    }\n",
       "\n",
       "    .dataframe thead th {\n",
       "        text-align: right;\n",
       "    }\n",
       "</style>\n",
       "<table border=\"1\" class=\"dataframe\">\n",
       "  <thead>\n",
       "    <tr style=\"text-align: right;\">\n",
       "      <th></th>\n",
       "      <th>Time</th>\n",
       "      <th>League</th>\n",
       "      <th>Home</th>\n",
       "      <th>Away</th>\n",
       "      <th>Over_Line</th>\n",
       "      <th>Odds_Over</th>\n",
       "      <th>prediction_score</th>\n",
       "      <th>Bet</th>\n",
       "    </tr>\n",
       "  </thead>\n",
       "  <tbody>\n",
       "    <tr>\n",
       "      <th>0</th>\n",
       "      <td>22:30</td>\n",
       "      <td>Eua Wnba</td>\n",
       "      <td>Minnesota Lynx F</td>\n",
       "      <td>Las Vegas Aces F</td>\n",
       "      <td>167.5</td>\n",
       "      <td>1.81</td>\n",
       "      <td>1.0000</td>\n",
       "      <td>Over</td>\n",
       "    </tr>\n",
       "    <tr>\n",
       "      <th>1</th>\n",
       "      <td>08:15</td>\n",
       "      <td>Europa Copa Europeia 3X3</td>\n",
       "      <td>Alemanha 3x3</td>\n",
       "      <td>Espanha 3x3</td>\n",
       "      <td>35.5</td>\n",
       "      <td>1.83</td>\n",
       "      <td>0.9815</td>\n",
       "      <td>Over</td>\n",
       "    </tr>\n",
       "    <tr>\n",
       "      <th>2</th>\n",
       "      <td>21:00</td>\n",
       "      <td>República Dominicana Lnb</td>\n",
       "      <td>Caneros</td>\n",
       "      <td>Titanes Del Licey</td>\n",
       "      <td>169.5</td>\n",
       "      <td>1.80</td>\n",
       "      <td>1.0000</td>\n",
       "      <td>Over</td>\n",
       "    </tr>\n",
       "  </tbody>\n",
       "</table>\n",
       "</div>"
      ],
      "text/plain": [
       "    Time                    League              Home               Away  \\\n",
       "0  22:30                  Eua Wnba  Minnesota Lynx F   Las Vegas Aces F   \n",
       "1  08:15  Europa Copa Europeia 3X3      Alemanha 3x3        Espanha 3x3   \n",
       "2  21:00  República Dominicana Lnb           Caneros  Titanes Del Licey   \n",
       "\n",
       "   Over_Line  Odds_Over  prediction_score   Bet  \n",
       "0      167.5       1.81            1.0000  Over  \n",
       "1       35.5       1.83            0.9815  Over  \n",
       "2      169.5       1.80            1.0000  Over  "
      ]
     },
     "metadata": {},
     "output_type": "display_data"
    },
    {
     "name": "stdout",
     "output_type": "stream",
     "text": [
      "\n"
     ]
    }
   ],
   "source": [
    "# Duplicando o dataset\n",
    "df_over_v0 = jogos.copy()\n",
    "\n",
    "df_over_v0.reset_index(drop=True, inplace=True)\n",
    "df_over_v0.replace([np.inf, -np.inf], 0, inplace=True)\n",
    "\n",
    "if not df_over_v0.empty:\n",
    "    mdl_over_v0 = load_model('ML/over/v1/v1_over', verbose=False)\n",
    "    prev = predict_model(mdl_over_v0, df_over_v0)\n",
    "    prev = prev[prev['prediction_label'] ==  1]\n",
    "    prev.reset_index(drop=True, inplace=True)\n",
    "    \n",
    "    # Filtros pós modelo\n",
    "\n",
    "    if not prev.empty:\n",
    "        prev.to_csv(f'apostas_do_dia/{data_var}/over_v0_{data_var}.csv', index=False)\n",
    "\n",
    "        print('------------ MÉTODO OVER V0 (LDA) ------------')\n",
    "        print()\n",
    "\n",
    "        prev['Bet'] = 'Over'\n",
    "        ligs = prev['League'].unique().tolist()\n",
    "\n",
    "        display(prev[['Time', 'League', 'Home', 'Away', 'Over_Line', 'Odds_Over', 'prediction_score', 'Bet']])\n",
    "        print()\n",
    "    else: print('Sem jogos')\n",
    "else: print('Sem jogos')"
   ]
  }
 ],
 "metadata": {
  "kernelspec": {
   "display_name": "modelos_futebol",
   "language": "python",
   "name": "python3"
  },
  "language_info": {
   "codemirror_mode": {
    "name": "ipython",
    "version": 3
   },
   "file_extension": ".py",
   "mimetype": "text/x-python",
   "name": "python",
   "nbconvert_exporter": "python",
   "pygments_lexer": "ipython3",
   "version": "3.10.7"
  },
  "papermill": {
   "default_parameters": {},
   "duration": 9.223133,
   "end_time": "2024-08-23T11:31:10.649731",
   "environment_variables": {},
   "exception": null,
   "input_path": "apostas_do_dia_v1.ipynb",
   "output_path": "apostas_do_dia_v1.ipynb",
   "parameters": {
    "data_var": "2024-08-23"
   },
   "start_time": "2024-08-23T11:31:01.426598",
   "version": "2.5.0"
  }
 },
 "nbformat": 4,
 "nbformat_minor": 5
}