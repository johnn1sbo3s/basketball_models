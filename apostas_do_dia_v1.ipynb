{
 "cells": [
  {
   "cell_type": "code",
   "execution_count": 1,
   "id": "d690e842",
   "metadata": {
    "execution": {
     "iopub.execute_input": "2024-05-27T13:04:17.733157Z",
     "iopub.status.busy": "2024-05-27T13:04:17.733157Z",
     "iopub.status.idle": "2024-05-27T13:04:17.745996Z",
     "shell.execute_reply": "2024-05-27T13:04:17.745470Z"
    },
    "papermill": {
     "duration": 0.017384,
     "end_time": "2024-05-27T13:04:17.747000",
     "exception": false,
     "start_time": "2024-05-27T13:04:17.729616",
     "status": "completed"
    },
    "tags": [
     "parameters"
    ]
   },
   "outputs": [],
   "source": [
    "data_var = ''"
   ]
  },
  {
   "cell_type": "code",
   "execution_count": 2,
   "id": "07b8c69d",
   "metadata": {
    "execution": {
     "iopub.execute_input": "2024-05-27T13:04:17.751990Z",
     "iopub.status.busy": "2024-05-27T13:04:17.751990Z",
     "iopub.status.idle": "2024-05-27T13:04:17.761012Z",
     "shell.execute_reply": "2024-05-27T13:04:17.760493Z"
    },
    "papermill": {
     "duration": 0.013021,
     "end_time": "2024-05-27T13:04:17.762510",
     "exception": false,
     "start_time": "2024-05-27T13:04:17.749489",
     "status": "completed"
    },
    "tags": [
     "injected-parameters"
    ]
   },
   "outputs": [],
   "source": [
    "# Parameters\n",
    "data_var = \"2024-05-27\"\n"
   ]
  },
  {
   "cell_type": "code",
   "execution_count": 3,
   "id": "25b97174",
   "metadata": {
    "execution": {
     "iopub.execute_input": "2024-05-27T13:04:17.767012Z",
     "iopub.status.busy": "2024-05-27T13:04:17.766514Z",
     "iopub.status.idle": "2024-05-27T13:04:19.349256Z",
     "shell.execute_reply": "2024-05-27T13:04:19.348754Z"
    },
    "papermill": {
     "duration": 1.586743,
     "end_time": "2024-05-27T13:04:19.350753",
     "exception": false,
     "start_time": "2024-05-27T13:04:17.764010",
     "status": "completed"
    },
    "tags": []
   },
   "outputs": [],
   "source": [
    "import pandas as pd; pd.set_option('display.max_columns', None)\n",
    "import os\n",
    "from pycaret.classification import *\n",
    "from scripts.PreparaDataset import *\n",
    "from scripts.TeoriaRetornos import *"
   ]
  },
  {
   "attachments": {},
   "cell_type": "markdown",
   "id": "ffa9b361",
   "metadata": {
    "papermill": {
     "duration": 0.001499,
     "end_time": "2024-05-27T13:04:19.354754",
     "exception": false,
     "start_time": "2024-05-27T13:04:19.353255",
     "status": "completed"
    },
    "tags": []
   },
   "source": [
    "### Funções"
   ]
  },
  {
   "cell_type": "code",
   "execution_count": 4,
   "id": "cb6eea9b",
   "metadata": {
    "execution": {
     "iopub.execute_input": "2024-05-27T13:04:19.359757Z",
     "iopub.status.busy": "2024-05-27T13:04:19.359257Z",
     "iopub.status.idle": "2024-05-27T13:04:19.364771Z",
     "shell.execute_reply": "2024-05-27T13:04:19.364248Z"
    },
    "papermill": {
     "duration": 0.009015,
     "end_time": "2024-05-27T13:04:19.365769",
     "exception": false,
     "start_time": "2024-05-27T13:04:19.356754",
     "status": "completed"
    },
    "tags": []
   },
   "outputs": [],
   "source": [
    "def atualiza_dia(_jogos):\n",
    "    _jogos = prepara_df(_jogos)\n",
    "\n",
    "    _jogos = _jogos.reset_index(drop=True)\n",
    "\n",
    "    return _jogos"
   ]
  },
  {
   "attachments": {},
   "cell_type": "markdown",
   "id": "26b16874",
   "metadata": {
    "papermill": {
     "duration": 0.001503,
     "end_time": "2024-05-27T13:04:19.369269",
     "exception": false,
     "start_time": "2024-05-27T13:04:19.367766",
     "status": "completed"
    },
    "tags": []
   },
   "source": [
    "### Pegando os jogos do dia"
   ]
  },
  {
   "cell_type": "code",
   "execution_count": 5,
   "id": "5ddb2ecb",
   "metadata": {
    "execution": {
     "iopub.execute_input": "2024-05-27T13:04:19.374075Z",
     "iopub.status.busy": "2024-05-27T13:04:19.374075Z",
     "iopub.status.idle": "2024-05-27T13:04:19.396148Z",
     "shell.execute_reply": "2024-05-27T13:04:19.395116Z"
    },
    "papermill": {
     "duration": 0.025878,
     "end_time": "2024-05-27T13:04:19.397144",
     "exception": false,
     "start_time": "2024-05-27T13:04:19.371266",
     "status": "completed"
    },
    "tags": []
   },
   "outputs": [],
   "source": [
    "df_today = pd.read_csv(f'jogos_do_dia/{data_var}.csv')"
   ]
  },
  {
   "cell_type": "markdown",
   "id": "19a2214d",
   "metadata": {
    "papermill": {
     "duration": 0.002002,
     "end_time": "2024-05-27T13:04:19.401145",
     "exception": false,
     "start_time": "2024-05-27T13:04:19.399143",
     "status": "completed"
    },
    "tags": []
   },
   "source": [
    "### Atualizando os datasets que tem jogo hoje"
   ]
  },
  {
   "cell_type": "code",
   "execution_count": 6,
   "id": "68bd72ae",
   "metadata": {
    "execution": {
     "iopub.execute_input": "2024-05-27T13:04:19.405642Z",
     "iopub.status.busy": "2024-05-27T13:04:19.405642Z",
     "iopub.status.idle": "2024-05-27T13:04:19.473180Z",
     "shell.execute_reply": "2024-05-27T13:04:19.472659Z"
    },
    "papermill": {
     "duration": 0.072033,
     "end_time": "2024-05-27T13:04:19.474675",
     "exception": false,
     "start_time": "2024-05-27T13:04:19.402642",
     "status": "completed"
    },
    "tags": []
   },
   "outputs": [],
   "source": [
    "temporada = pd.read_csv('data/Entire_Season.csv')\n",
    "temporada = temporada[temporada['Date'] < data_var]\n",
    "temporada = pd.concat([temporada, df_today])\n",
    "ligas = df_today['League'].unique().tolist()\n",
    "temporada = temporada[temporada['League'].isin(ligas)]\n",
    "temporada.reset_index(drop=True, inplace=True)"
   ]
  },
  {
   "cell_type": "markdown",
   "id": "0d8018ca",
   "metadata": {
    "papermill": {
     "duration": 0.002022,
     "end_time": "2024-05-27T13:04:19.479561",
     "exception": false,
     "start_time": "2024-05-27T13:04:19.477539",
     "status": "completed"
    },
    "tags": []
   },
   "source": [
    "### Cria variáveis na temporada e nos jogos do dia"
   ]
  },
  {
   "cell_type": "code",
   "execution_count": 7,
   "id": "d3b06cb1",
   "metadata": {
    "execution": {
     "iopub.execute_input": "2024-05-27T13:04:19.484064Z",
     "iopub.status.busy": "2024-05-27T13:04:19.483564Z",
     "iopub.status.idle": "2024-05-27T13:04:51.740474Z",
     "shell.execute_reply": "2024-05-27T13:04:51.739946Z"
    },
    "papermill": {
     "duration": 32.26091,
     "end_time": "2024-05-27T13:04:51.741974",
     "exception": false,
     "start_time": "2024-05-27T13:04:19.481064",
     "status": "completed"
    },
    "tags": []
   },
   "outputs": [],
   "source": [
    "games = atualiza_dia(temporada)\n",
    "temporada = games[games['Date'] < data_var]\n",
    "os.makedirs(f'apostas_do_dia/{data_var}', exist_ok=True)"
   ]
  },
  {
   "cell_type": "code",
   "execution_count": 8,
   "id": "16aa533f",
   "metadata": {
    "execution": {
     "iopub.execute_input": "2024-05-27T13:04:51.747960Z",
     "iopub.status.busy": "2024-05-27T13:04:51.747464Z",
     "iopub.status.idle": "2024-05-27T13:04:51.786310Z",
     "shell.execute_reply": "2024-05-27T13:04:51.785782Z"
    },
    "papermill": {
     "duration": 0.042846,
     "end_time": "2024-05-27T13:04:51.787808",
     "exception": false,
     "start_time": "2024-05-27T13:04:51.744962",
     "status": "completed"
    },
    "tags": []
   },
   "outputs": [
    {
     "data": {
      "text/html": [
       "<div>\n",
       "<style scoped>\n",
       "    .dataframe tbody tr th:only-of-type {\n",
       "        vertical-align: middle;\n",
       "    }\n",
       "\n",
       "    .dataframe tbody tr th {\n",
       "        vertical-align: top;\n",
       "    }\n",
       "\n",
       "    .dataframe thead th {\n",
       "        text-align: right;\n",
       "    }\n",
       "</style>\n",
       "<table border=\"1\" class=\"dataframe\">\n",
       "  <thead>\n",
       "    <tr style=\"text-align: right;\">\n",
       "      <th></th>\n",
       "      <th>Date</th>\n",
       "      <th>League</th>\n",
       "      <th>Time</th>\n",
       "      <th>Home</th>\n",
       "      <th>Away</th>\n",
       "      <th>Odds_H</th>\n",
       "      <th>Odds_A</th>\n",
       "      <th>Over_Line</th>\n",
       "      <th>Odds_Over</th>\n",
       "      <th>Odds_Under</th>\n",
       "      <th>HA_Line</th>\n",
       "      <th>HA_Odds_H</th>\n",
       "      <th>HA_Odds_A</th>\n",
       "      <th>Fixture ID</th>\n",
       "      <th>P(H)</th>\n",
       "      <th>P(A)</th>\n",
       "      <th>P(O)</th>\n",
       "      <th>P(U)</th>\n",
       "      <th>P_Diff</th>\n",
       "      <th>Porc_Over_Home</th>\n",
       "      <th>Porc_Over_Away</th>\n",
       "      <th>CustoGolHome</th>\n",
       "      <th>CustoGolAway</th>\n",
       "      <th>Avg_CG_H</th>\n",
       "      <th>DP_CG_H</th>\n",
       "      <th>CV_CG_H</th>\n",
       "      <th>Avg_CG_A</th>\n",
       "      <th>DP_CG_A</th>\n",
       "      <th>CV_CG_A</th>\n",
       "      <th>MediaCustoGolHome</th>\n",
       "      <th>MediaCustoGolAway</th>\n",
       "      <th>Last_CG_H</th>\n",
       "      <th>Last_CG_A</th>\n",
       "      <th>Acima_Last_CG_H</th>\n",
       "      <th>Acima_Last_CG_A</th>\n",
       "      <th>Abaixo_Last_CG_H</th>\n",
       "      <th>Abaixo_Last_CG_A</th>\n",
       "      <th>CV_ML</th>\n",
       "      <th>CV_Over</th>\n",
       "      <th>CV_HA</th>\n",
       "      <th>Retornos_BH_Acu</th>\n",
       "      <th>Avg_Retornos_BH</th>\n",
       "      <th>Custo_Retorno_BH</th>\n",
       "      <th>Avg_Porc_BH_Bookie</th>\n",
       "      <th>Avg_Porc_BH_Real</th>\n",
       "      <th>Dist_Porc_BH</th>\n",
       "      <th>Retornos_BA_Acu</th>\n",
       "      <th>Avg_Retornos_BA</th>\n",
       "      <th>Custo_Retorno_BA</th>\n",
       "      <th>Avg_Porc_BA_Bookie</th>\n",
       "      <th>Avg_Porc_BA_Real</th>\n",
       "      <th>Dist_Porc_BA</th>\n",
       "    </tr>\n",
       "  </thead>\n",
       "  <tbody>\n",
       "    <tr>\n",
       "      <th>7784</th>\n",
       "      <td>2024-05-27</td>\n",
       "      <td>Eua Nba</td>\n",
       "      <td>21:00</td>\n",
       "      <td>Indiana Pacers</td>\n",
       "      <td>Boston Celtics</td>\n",
       "      <td>3.43</td>\n",
       "      <td>1.34</td>\n",
       "      <td>221.5</td>\n",
       "      <td>1.81</td>\n",
       "      <td>2.04</td>\n",
       "      <td>7.5</td>\n",
       "      <td>1.93</td>\n",
       "      <td>1.08</td>\n",
       "      <td>jwigCJQO</td>\n",
       "      <td>0.291545</td>\n",
       "      <td>0.746269</td>\n",
       "      <td>0.552486</td>\n",
       "      <td>0.490196</td>\n",
       "      <td>0.037814</td>\n",
       "      <td>0.8</td>\n",
       "      <td>0.2</td>\n",
       "      <td>NaN</td>\n",
       "      <td>NaN</td>\n",
       "      <td>240.000</td>\n",
       "      <td>189.437109</td>\n",
       "      <td>0.789321</td>\n",
       "      <td>147.696</td>\n",
       "      <td>20.636139</td>\n",
       "      <td>0.139720</td>\n",
       "      <td>161.602</td>\n",
       "      <td>143.990</td>\n",
       "      <td>168.20</td>\n",
       "      <td>142.79</td>\n",
       "      <td>0.0</td>\n",
       "      <td>0.0</td>\n",
       "      <td>0.0</td>\n",
       "      <td>0.0</td>\n",
       "      <td>0.619645</td>\n",
       "      <td>0.084485</td>\n",
       "      <td>0.399363</td>\n",
       "      <td>1.81</td>\n",
       "      <td>0.362</td>\n",
       "      <td>6.712707</td>\n",
       "      <td>0.655500</td>\n",
       "      <td>0.9</td>\n",
       "      <td>0.244500</td>\n",
       "      <td>0.30</td>\n",
       "      <td>0.060</td>\n",
       "      <td>5.666667</td>\n",
       "      <td>0.711922</td>\n",
       "      <td>0.8</td>\n",
       "      <td>0.088078</td>\n",
       "    </tr>\n",
       "    <tr>\n",
       "      <th>7785</th>\n",
       "      <td>2024-05-27</td>\n",
       "      <td>Bolívia Libobasquet</td>\n",
       "      <td>21:30</td>\n",
       "      <td>Saracho</td>\n",
       "      <td>Carl A-Z</td>\n",
       "      <td>1.97</td>\n",
       "      <td>1.76</td>\n",
       "      <td>172.5</td>\n",
       "      <td>1.87</td>\n",
       "      <td>1.79</td>\n",
       "      <td>1.5</td>\n",
       "      <td>1.83</td>\n",
       "      <td>1.62</td>\n",
       "      <td>M3GAY2up</td>\n",
       "      <td>0.507614</td>\n",
       "      <td>0.568182</td>\n",
       "      <td>0.534759</td>\n",
       "      <td>0.558659</td>\n",
       "      <td>0.075796</td>\n",
       "      <td>0.0</td>\n",
       "      <td>0.0</td>\n",
       "      <td>NaN</td>\n",
       "      <td>NaN</td>\n",
       "      <td>NaN</td>\n",
       "      <td>NaN</td>\n",
       "      <td>NaN</td>\n",
       "      <td>NaN</td>\n",
       "      <td>NaN</td>\n",
       "      <td>NaN</td>\n",
       "      <td>0.000</td>\n",
       "      <td>0.000</td>\n",
       "      <td>0.00</td>\n",
       "      <td>0.00</td>\n",
       "      <td>0.0</td>\n",
       "      <td>0.0</td>\n",
       "      <td>0.0</td>\n",
       "      <td>0.0</td>\n",
       "      <td>0.079621</td>\n",
       "      <td>0.030912</td>\n",
       "      <td>0.086083</td>\n",
       "      <td>0.00</td>\n",
       "      <td>0.000</td>\n",
       "      <td>inf</td>\n",
       "      <td>0.000000</td>\n",
       "      <td>0.0</td>\n",
       "      <td>0.000000</td>\n",
       "      <td>0.00</td>\n",
       "      <td>0.000</td>\n",
       "      <td>inf</td>\n",
       "      <td>0.000000</td>\n",
       "      <td>0.0</td>\n",
       "      <td>0.000000</td>\n",
       "    </tr>\n",
       "    <tr>\n",
       "      <th>7786</th>\n",
       "      <td>2024-05-27</td>\n",
       "      <td>Bulgária Nbl</td>\n",
       "      <td>13:00</td>\n",
       "      <td>Spartak Pleven</td>\n",
       "      <td>Chernomorets</td>\n",
       "      <td>3.08</td>\n",
       "      <td>1.34</td>\n",
       "      <td>160.5</td>\n",
       "      <td>1.85</td>\n",
       "      <td>1.85</td>\n",
       "      <td>-1.5</td>\n",
       "      <td>1.97</td>\n",
       "      <td>1.98</td>\n",
       "      <td>jm45rnKl</td>\n",
       "      <td>0.324675</td>\n",
       "      <td>0.746269</td>\n",
       "      <td>0.540541</td>\n",
       "      <td>0.540541</td>\n",
       "      <td>0.070944</td>\n",
       "      <td>0.6</td>\n",
       "      <td>0.6</td>\n",
       "      <td>NaN</td>\n",
       "      <td>NaN</td>\n",
       "      <td>149.664</td>\n",
       "      <td>16.228559</td>\n",
       "      <td>0.108433</td>\n",
       "      <td>142.124</td>\n",
       "      <td>27.272709</td>\n",
       "      <td>0.191894</td>\n",
       "      <td>147.484</td>\n",
       "      <td>142.124</td>\n",
       "      <td>133.21</td>\n",
       "      <td>128.64</td>\n",
       "      <td>0.0</td>\n",
       "      <td>0.0</td>\n",
       "      <td>0.0</td>\n",
       "      <td>0.0</td>\n",
       "      <td>0.556727</td>\n",
       "      <td>0.000000</td>\n",
       "      <td>0.003580</td>\n",
       "      <td>1.62</td>\n",
       "      <td>0.324</td>\n",
       "      <td>6.419753</td>\n",
       "      <td>0.688004</td>\n",
       "      <td>0.9</td>\n",
       "      <td>0.211996</td>\n",
       "      <td>-2.09</td>\n",
       "      <td>-0.418</td>\n",
       "      <td>-0.813397</td>\n",
       "      <td>0.646855</td>\n",
       "      <td>0.4</td>\n",
       "      <td>-0.246855</td>\n",
       "    </tr>\n",
       "    <tr>\n",
       "      <th>7787</th>\n",
       "      <td>2024-05-27</td>\n",
       "      <td>Rússia Liga Vtb United</td>\n",
       "      <td>13:30</td>\n",
       "      <td>Zenit Petersburg</td>\n",
       "      <td>Lokomotiv Kuban</td>\n",
       "      <td>1.56</td>\n",
       "      <td>2.45</td>\n",
       "      <td>162.5</td>\n",
       "      <td>1.86</td>\n",
       "      <td>1.94</td>\n",
       "      <td>-3.5</td>\n",
       "      <td>1.92</td>\n",
       "      <td>2.54</td>\n",
       "      <td>hjsJFnGN</td>\n",
       "      <td>0.641026</td>\n",
       "      <td>0.408163</td>\n",
       "      <td>0.537634</td>\n",
       "      <td>0.515464</td>\n",
       "      <td>0.049189</td>\n",
       "      <td>0.6</td>\n",
       "      <td>0.4</td>\n",
       "      <td>NaN</td>\n",
       "      <td>NaN</td>\n",
       "      <td>155.450</td>\n",
       "      <td>28.048368</td>\n",
       "      <td>0.180433</td>\n",
       "      <td>159.408</td>\n",
       "      <td>29.030965</td>\n",
       "      <td>0.182117</td>\n",
       "      <td>142.078</td>\n",
       "      <td>147.336</td>\n",
       "      <td>140.62</td>\n",
       "      <td>157.08</td>\n",
       "      <td>0.0</td>\n",
       "      <td>0.0</td>\n",
       "      <td>0.0</td>\n",
       "      <td>0.0</td>\n",
       "      <td>0.313878</td>\n",
       "      <td>0.029773</td>\n",
       "      <td>0.196595</td>\n",
       "      <td>1.82</td>\n",
       "      <td>0.364</td>\n",
       "      <td>1.538462</td>\n",
       "      <td>0.705855</td>\n",
       "      <td>0.8</td>\n",
       "      <td>0.094145</td>\n",
       "      <td>-3.34</td>\n",
       "      <td>-0.668</td>\n",
       "      <td>-2.170659</td>\n",
       "      <td>0.569150</td>\n",
       "      <td>0.5</td>\n",
       "      <td>-0.069150</td>\n",
       "    </tr>\n",
       "  </tbody>\n",
       "</table>\n",
       "</div>"
      ],
      "text/plain": [
       "            Date                  League   Time              Home  \\\n",
       "7784  2024-05-27                 Eua Nba  21:00    Indiana Pacers   \n",
       "7785  2024-05-27     Bolívia Libobasquet  21:30           Saracho   \n",
       "7786  2024-05-27            Bulgária Nbl  13:00    Spartak Pleven   \n",
       "7787  2024-05-27  Rússia Liga Vtb United  13:30  Zenit Petersburg   \n",
       "\n",
       "                 Away  Odds_H  Odds_A  Over_Line  Odds_Over  Odds_Under  \\\n",
       "7784   Boston Celtics    3.43    1.34      221.5       1.81        2.04   \n",
       "7785         Carl A-Z    1.97    1.76      172.5       1.87        1.79   \n",
       "7786     Chernomorets    3.08    1.34      160.5       1.85        1.85   \n",
       "7787  Lokomotiv Kuban    1.56    2.45      162.5       1.86        1.94   \n",
       "\n",
       "      HA_Line  HA_Odds_H  HA_Odds_A Fixture ID      P(H)      P(A)      P(O)  \\\n",
       "7784      7.5       1.93       1.08   jwigCJQO  0.291545  0.746269  0.552486   \n",
       "7785      1.5       1.83       1.62   M3GAY2up  0.507614  0.568182  0.534759   \n",
       "7786     -1.5       1.97       1.98   jm45rnKl  0.324675  0.746269  0.540541   \n",
       "7787     -3.5       1.92       2.54   hjsJFnGN  0.641026  0.408163  0.537634   \n",
       "\n",
       "          P(U)    P_Diff  Porc_Over_Home  Porc_Over_Away  CustoGolHome  \\\n",
       "7784  0.490196  0.037814             0.8             0.2           NaN   \n",
       "7785  0.558659  0.075796             0.0             0.0           NaN   \n",
       "7786  0.540541  0.070944             0.6             0.6           NaN   \n",
       "7787  0.515464  0.049189             0.6             0.4           NaN   \n",
       "\n",
       "      CustoGolAway  Avg_CG_H     DP_CG_H   CV_CG_H  Avg_CG_A    DP_CG_A  \\\n",
       "7784           NaN   240.000  189.437109  0.789321   147.696  20.636139   \n",
       "7785           NaN       NaN         NaN       NaN       NaN        NaN   \n",
       "7786           NaN   149.664   16.228559  0.108433   142.124  27.272709   \n",
       "7787           NaN   155.450   28.048368  0.180433   159.408  29.030965   \n",
       "\n",
       "       CV_CG_A  MediaCustoGolHome  MediaCustoGolAway  Last_CG_H  Last_CG_A  \\\n",
       "7784  0.139720            161.602            143.990     168.20     142.79   \n",
       "7785       NaN              0.000              0.000       0.00       0.00   \n",
       "7786  0.191894            147.484            142.124     133.21     128.64   \n",
       "7787  0.182117            142.078            147.336     140.62     157.08   \n",
       "\n",
       "      Acima_Last_CG_H  Acima_Last_CG_A  Abaixo_Last_CG_H  Abaixo_Last_CG_A  \\\n",
       "7784              0.0              0.0               0.0               0.0   \n",
       "7785              0.0              0.0               0.0               0.0   \n",
       "7786              0.0              0.0               0.0               0.0   \n",
       "7787              0.0              0.0               0.0               0.0   \n",
       "\n",
       "         CV_ML   CV_Over     CV_HA  Retornos_BH_Acu  Avg_Retornos_BH  \\\n",
       "7784  0.619645  0.084485  0.399363             1.81            0.362   \n",
       "7785  0.079621  0.030912  0.086083             0.00            0.000   \n",
       "7786  0.556727  0.000000  0.003580             1.62            0.324   \n",
       "7787  0.313878  0.029773  0.196595             1.82            0.364   \n",
       "\n",
       "      Custo_Retorno_BH  Avg_Porc_BH_Bookie  Avg_Porc_BH_Real  Dist_Porc_BH  \\\n",
       "7784          6.712707            0.655500               0.9      0.244500   \n",
       "7785               inf            0.000000               0.0      0.000000   \n",
       "7786          6.419753            0.688004               0.9      0.211996   \n",
       "7787          1.538462            0.705855               0.8      0.094145   \n",
       "\n",
       "      Retornos_BA_Acu  Avg_Retornos_BA  Custo_Retorno_BA  Avg_Porc_BA_Bookie  \\\n",
       "7784             0.30            0.060          5.666667            0.711922   \n",
       "7785             0.00            0.000               inf            0.000000   \n",
       "7786            -2.09           -0.418         -0.813397            0.646855   \n",
       "7787            -3.34           -0.668         -2.170659            0.569150   \n",
       "\n",
       "      Avg_Porc_BA_Real  Dist_Porc_BA  \n",
       "7784               0.8      0.088078  \n",
       "7785               0.0      0.000000  \n",
       "7786               0.4     -0.246855  \n",
       "7787               0.5     -0.069150  "
      ]
     },
     "execution_count": 8,
     "metadata": {},
     "output_type": "execute_result"
    }
   ],
   "source": [
    "jogos = games[games['Date'] == data_var]\n",
    "\n",
    "jogos = jogos.drop(columns=['Home_Pts', 'Away_Pts',\n",
    "       'Back_Home', 'PL_Home', 'Back_Away',\n",
    "       'PL_Away', 'Back_Over', 'PL_Over', 'PL_Under', 'Back_HA_H', 'PL_HA_H',\n",
    "       'PL_HA_A', ])\n",
    "\n",
    "jogos"
   ]
  },
  {
   "attachments": {},
   "cell_type": "markdown",
   "id": "08aa1c88",
   "metadata": {
    "papermill": {
     "duration": 0.002,
     "end_time": "2024-05-27T13:04:51.792309",
     "exception": false,
     "start_time": "2024-05-27T13:04:51.790309",
     "status": "completed"
    },
    "tags": []
   },
   "source": [
    "## Apostas do dia"
   ]
  },
  {
   "cell_type": "markdown",
   "id": "b24569b1",
   "metadata": {
    "papermill": {
     "duration": 0.001999,
     "end_time": "2024-05-27T13:04:51.796308",
     "exception": false,
     "start_time": "2024-05-27T13:04:51.794309",
     "status": "completed"
    },
    "tags": []
   },
   "source": [
    "### Over v0 (LDA)"
   ]
  },
  {
   "cell_type": "code",
   "execution_count": 9,
   "id": "6f144103",
   "metadata": {
    "execution": {
     "iopub.execute_input": "2024-05-27T13:04:51.801307Z",
     "iopub.status.busy": "2024-05-27T13:04:51.801307Z",
     "iopub.status.idle": "2024-05-27T13:04:51.972217Z",
     "shell.execute_reply": "2024-05-27T13:04:51.971157Z"
    },
    "papermill": {
     "duration": 0.174936,
     "end_time": "2024-05-27T13:04:51.973244",
     "exception": false,
     "start_time": "2024-05-27T13:04:51.798308",
     "status": "completed"
    },
    "tags": []
   },
   "outputs": [
    {
     "name": "stdout",
     "output_type": "stream",
     "text": [
      "------------ MÉTODO OVER V0 (LDA) ------------\n",
      "\n"
     ]
    },
    {
     "data": {
      "text/html": [
       "<div>\n",
       "<style scoped>\n",
       "    .dataframe tbody tr th:only-of-type {\n",
       "        vertical-align: middle;\n",
       "    }\n",
       "\n",
       "    .dataframe tbody tr th {\n",
       "        vertical-align: top;\n",
       "    }\n",
       "\n",
       "    .dataframe thead th {\n",
       "        text-align: right;\n",
       "    }\n",
       "</style>\n",
       "<table border=\"1\" class=\"dataframe\">\n",
       "  <thead>\n",
       "    <tr style=\"text-align: right;\">\n",
       "      <th></th>\n",
       "      <th>Time</th>\n",
       "      <th>League</th>\n",
       "      <th>Home</th>\n",
       "      <th>Away</th>\n",
       "      <th>Over_Line</th>\n",
       "      <th>Odds_Over</th>\n",
       "      <th>prediction_score</th>\n",
       "      <th>Bet</th>\n",
       "    </tr>\n",
       "  </thead>\n",
       "  <tbody>\n",
       "    <tr>\n",
       "      <th>0</th>\n",
       "      <td>13:00</td>\n",
       "      <td>Bulgária Nbl</td>\n",
       "      <td>Spartak Pleven</td>\n",
       "      <td>Chernomorets</td>\n",
       "      <td>160.5</td>\n",
       "      <td>1.85</td>\n",
       "      <td>0.9997</td>\n",
       "      <td>Over</td>\n",
       "    </tr>\n",
       "    <tr>\n",
       "      <th>1</th>\n",
       "      <td>13:30</td>\n",
       "      <td>Rússia Liga Vtb United</td>\n",
       "      <td>Zenit Petersburg</td>\n",
       "      <td>Lokomotiv Kuban</td>\n",
       "      <td>162.5</td>\n",
       "      <td>1.86</td>\n",
       "      <td>1.0000</td>\n",
       "      <td>Over</td>\n",
       "    </tr>\n",
       "  </tbody>\n",
       "</table>\n",
       "</div>"
      ],
      "text/plain": [
       "    Time                  League              Home             Away  \\\n",
       "0  13:00            Bulgária Nbl    Spartak Pleven     Chernomorets   \n",
       "1  13:30  Rússia Liga Vtb United  Zenit Petersburg  Lokomotiv Kuban   \n",
       "\n",
       "   Over_Line  Odds_Over  prediction_score   Bet  \n",
       "0      160.5       1.85            0.9997  Over  \n",
       "1      162.5       1.86            1.0000  Over  "
      ]
     },
     "metadata": {},
     "output_type": "display_data"
    },
    {
     "name": "stdout",
     "output_type": "stream",
     "text": [
      "\n"
     ]
    }
   ],
   "source": [
    "# Duplicando o dataset\n",
    "df_over_v0 = jogos.copy()\n",
    "\n",
    "df_over_v0.reset_index(drop=True, inplace=True)\n",
    "df_over_v0.replace([np.inf, -np.inf], 0, inplace=True)\n",
    "\n",
    "if not df_over_v0.empty:\n",
    "    mdl_over_v0 = load_model('ML/over/v1/v1_over', verbose=False)\n",
    "    prev = predict_model(mdl_over_v0, df_over_v0)\n",
    "    prev = prev[prev['prediction_label'] ==  1]\n",
    "    prev.reset_index(drop=True, inplace=True)\n",
    "    \n",
    "    # Filtros pós modelo\n",
    "\n",
    "    if not prev.empty:\n",
    "        prev.to_csv(f'apostas_do_dia/{data_var}/over_v0_{data_var}.csv', index=False)\n",
    "\n",
    "        print('------------ MÉTODO OVER V0 (LDA) ------------')\n",
    "        print()\n",
    "\n",
    "        prev['Bet'] = 'Over'\n",
    "        ligs = prev['League'].unique().tolist()\n",
    "\n",
    "        display(prev[['Time', 'League', 'Home', 'Away', 'Over_Line', 'Odds_Over', 'prediction_score', 'Bet']])\n",
    "        print()\n",
    "    else: print('Sem jogos')\n",
    "else: print('Sem jogos')"
   ]
  }
 ],
 "metadata": {
  "kernelspec": {
   "display_name": "modelos_futebol",
   "language": "python",
   "name": "python3"
  },
  "language_info": {
   "codemirror_mode": {
    "name": "ipython",
    "version": 3
   },
   "file_extension": ".py",
   "mimetype": "text/x-python",
   "name": "python",
   "nbconvert_exporter": "python",
   "pygments_lexer": "ipython3",
   "version": "3.10.7"
  },
  "papermill": {
   "default_parameters": {},
   "duration": 35.893724,
   "end_time": "2024-05-27T13:04:52.313726",
   "environment_variables": {},
   "exception": null,
   "input_path": "apostas_do_dia_v1.ipynb",
   "output_path": "apostas_do_dia_v1.ipynb",
   "parameters": {
    "data_var": "2024-05-27"
   },
   "start_time": "2024-05-27T13:04:16.420002",
   "version": "2.5.0"
  }
 },
 "nbformat": 4,
 "nbformat_minor": 5
}