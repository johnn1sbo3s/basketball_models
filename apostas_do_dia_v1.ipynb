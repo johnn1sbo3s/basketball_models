{
 "cells": [
  {
   "cell_type": "code",
   "execution_count": 1,
   "id": "d690e842",
   "metadata": {
    "execution": {
     "iopub.execute_input": "2024-07-23T13:02:33.927815Z",
     "iopub.status.busy": "2024-07-23T13:02:33.927316Z",
     "iopub.status.idle": "2024-07-23T13:02:33.940361Z",
     "shell.execute_reply": "2024-07-23T13:02:33.939826Z"
    },
    "papermill": {
     "duration": 0.017563,
     "end_time": "2024-07-23T13:02:33.941849",
     "exception": false,
     "start_time": "2024-07-23T13:02:33.924286",
     "status": "completed"
    },
    "tags": [
     "parameters"
    ]
   },
   "outputs": [],
   "source": [
    "data_var = ''"
   ]
  },
  {
   "cell_type": "code",
   "execution_count": 2,
   "id": "0c43222a",
   "metadata": {
    "execution": {
     "iopub.execute_input": "2024-07-23T13:02:33.947350Z",
     "iopub.status.busy": "2024-07-23T13:02:33.946855Z",
     "iopub.status.idle": "2024-07-23T13:02:33.956111Z",
     "shell.execute_reply": "2024-07-23T13:02:33.955583Z"
    },
    "papermill": {
     "duration": 0.013262,
     "end_time": "2024-07-23T13:02:33.957612",
     "exception": false,
     "start_time": "2024-07-23T13:02:33.944350",
     "status": "completed"
    },
    "tags": [
     "injected-parameters"
    ]
   },
   "outputs": [],
   "source": [
    "# Parameters\n",
    "data_var = \"2024-07-23\"\n"
   ]
  },
  {
   "cell_type": "code",
   "execution_count": 3,
   "id": "25b97174",
   "metadata": {
    "execution": {
     "iopub.execute_input": "2024-07-23T13:02:33.962610Z",
     "iopub.status.busy": "2024-07-23T13:02:33.962110Z",
     "iopub.status.idle": "2024-07-23T13:02:39.982160Z",
     "shell.execute_reply": "2024-07-23T13:02:39.981638Z"
    },
    "papermill": {
     "duration": 6.024043,
     "end_time": "2024-07-23T13:02:39.983655",
     "exception": false,
     "start_time": "2024-07-23T13:02:33.959612",
     "status": "completed"
    },
    "tags": []
   },
   "outputs": [],
   "source": [
    "import pandas as pd; pd.set_option('display.max_columns', None)\n",
    "import os\n",
    "from pycaret.classification import *\n",
    "from scripts.PreparaDataset import *\n",
    "from scripts.TeoriaRetornos import *"
   ]
  },
  {
   "attachments": {},
   "cell_type": "markdown",
   "id": "ffa9b361",
   "metadata": {
    "papermill": {
     "duration": 0.001997,
     "end_time": "2024-07-23T13:02:39.988155",
     "exception": false,
     "start_time": "2024-07-23T13:02:39.986158",
     "status": "completed"
    },
    "tags": []
   },
   "source": [
    "### Funções"
   ]
  },
  {
   "cell_type": "code",
   "execution_count": 4,
   "id": "cb6eea9b",
   "metadata": {
    "execution": {
     "iopub.execute_input": "2024-07-23T13:02:39.992657Z",
     "iopub.status.busy": "2024-07-23T13:02:39.992157Z",
     "iopub.status.idle": "2024-07-23T13:02:39.997665Z",
     "shell.execute_reply": "2024-07-23T13:02:39.997143Z"
    },
    "papermill": {
     "duration": 0.00901,
     "end_time": "2024-07-23T13:02:39.998664",
     "exception": false,
     "start_time": "2024-07-23T13:02:39.989654",
     "status": "completed"
    },
    "tags": []
   },
   "outputs": [],
   "source": [
    "def atualiza_dia(_jogos):\n",
    "    _jogos = prepara_df(_jogos)\n",
    "\n",
    "    _jogos = _jogos.reset_index(drop=True)\n",
    "\n",
    "    return _jogos"
   ]
  },
  {
   "attachments": {},
   "cell_type": "markdown",
   "id": "26b16874",
   "metadata": {
    "papermill": {
     "duration": 0.002001,
     "end_time": "2024-07-23T13:02:40.002661",
     "exception": false,
     "start_time": "2024-07-23T13:02:40.000660",
     "status": "completed"
    },
    "tags": []
   },
   "source": [
    "### Pegando os jogos do dia"
   ]
  },
  {
   "cell_type": "code",
   "execution_count": 5,
   "id": "5ddb2ecb",
   "metadata": {
    "execution": {
     "iopub.execute_input": "2024-07-23T13:02:40.006663Z",
     "iopub.status.busy": "2024-07-23T13:02:40.006663Z",
     "iopub.status.idle": "2024-07-23T13:02:40.028386Z",
     "shell.execute_reply": "2024-07-23T13:02:40.027847Z"
    },
    "papermill": {
     "duration": 0.025722,
     "end_time": "2024-07-23T13:02:40.029882",
     "exception": false,
     "start_time": "2024-07-23T13:02:40.004160",
     "status": "completed"
    },
    "tags": []
   },
   "outputs": [],
   "source": [
    "df_today = pd.read_csv(f'jogos_do_dia/{data_var}.csv')"
   ]
  },
  {
   "cell_type": "markdown",
   "id": "19a2214d",
   "metadata": {
    "papermill": {
     "duration": 0.0015,
     "end_time": "2024-07-23T13:02:40.033382",
     "exception": false,
     "start_time": "2024-07-23T13:02:40.031882",
     "status": "completed"
    },
    "tags": []
   },
   "source": [
    "### Atualizando os datasets que tem jogo hoje"
   ]
  },
  {
   "cell_type": "code",
   "execution_count": 6,
   "id": "68bd72ae",
   "metadata": {
    "execution": {
     "iopub.execute_input": "2024-07-23T13:02:40.037868Z",
     "iopub.status.busy": "2024-07-23T13:02:40.037868Z",
     "iopub.status.idle": "2024-07-23T13:02:40.105894Z",
     "shell.execute_reply": "2024-07-23T13:02:40.105375Z"
    },
    "papermill": {
     "duration": 0.072046,
     "end_time": "2024-07-23T13:02:40.107415",
     "exception": false,
     "start_time": "2024-07-23T13:02:40.035369",
     "status": "completed"
    },
    "tags": []
   },
   "outputs": [],
   "source": [
    "temporada = pd.read_csv('data/Entire_Season.csv')\n",
    "temporada = temporada[temporada['Date'] < data_var]\n",
    "temporada = pd.concat([temporada, df_today])\n",
    "ligas = df_today['League'].unique().tolist()\n",
    "temporada = temporada[temporada['League'].isin(ligas)]\n",
    "temporada.reset_index(drop=True, inplace=True)"
   ]
  },
  {
   "cell_type": "markdown",
   "id": "0d8018ca",
   "metadata": {
    "papermill": {
     "duration": 0.002,
     "end_time": "2024-07-23T13:02:40.111415",
     "exception": false,
     "start_time": "2024-07-23T13:02:40.109415",
     "status": "completed"
    },
    "tags": []
   },
   "source": [
    "### Cria variáveis na temporada e nos jogos do dia"
   ]
  },
  {
   "cell_type": "code",
   "execution_count": 7,
   "id": "d3b06cb1",
   "metadata": {
    "execution": {
     "iopub.execute_input": "2024-07-23T13:02:40.116400Z",
     "iopub.status.busy": "2024-07-23T13:02:40.116400Z",
     "iopub.status.idle": "2024-07-23T13:02:40.338335Z",
     "shell.execute_reply": "2024-07-23T13:02:40.337362Z"
    },
    "papermill": {
     "duration": 0.225939,
     "end_time": "2024-07-23T13:02:40.339353",
     "exception": false,
     "start_time": "2024-07-23T13:02:40.113414",
     "status": "completed"
    },
    "tags": []
   },
   "outputs": [],
   "source": [
    "games = atualiza_dia(temporada)\n",
    "temporada = games[games['Date'] < data_var]\n",
    "os.makedirs(f'apostas_do_dia/{data_var}', exist_ok=True)"
   ]
  },
  {
   "cell_type": "code",
   "execution_count": 8,
   "id": "16aa533f",
   "metadata": {
    "execution": {
     "iopub.execute_input": "2024-07-23T13:02:40.343852Z",
     "iopub.status.busy": "2024-07-23T13:02:40.343852Z",
     "iopub.status.idle": "2024-07-23T13:02:40.368840Z",
     "shell.execute_reply": "2024-07-23T13:02:40.368240Z"
    },
    "papermill": {
     "duration": 0.028501,
     "end_time": "2024-07-23T13:02:40.369851",
     "exception": false,
     "start_time": "2024-07-23T13:02:40.341350",
     "status": "completed"
    },
    "tags": []
   },
   "outputs": [
    {
     "data": {
      "text/html": [
       "<div>\n",
       "<style scoped>\n",
       "    .dataframe tbody tr th:only-of-type {\n",
       "        vertical-align: middle;\n",
       "    }\n",
       "\n",
       "    .dataframe tbody tr th {\n",
       "        vertical-align: top;\n",
       "    }\n",
       "\n",
       "    .dataframe thead th {\n",
       "        text-align: right;\n",
       "    }\n",
       "</style>\n",
       "<table border=\"1\" class=\"dataframe\">\n",
       "  <thead>\n",
       "    <tr style=\"text-align: right;\">\n",
       "      <th></th>\n",
       "      <th>Date</th>\n",
       "      <th>League</th>\n",
       "      <th>Time</th>\n",
       "      <th>Home</th>\n",
       "      <th>Away</th>\n",
       "      <th>Odds_H</th>\n",
       "      <th>Odds_A</th>\n",
       "      <th>Over_Line</th>\n",
       "      <th>Odds_Over</th>\n",
       "      <th>Odds_Under</th>\n",
       "      <th>HA_Line</th>\n",
       "      <th>HA_Odds_H</th>\n",
       "      <th>HA_Odds_A</th>\n",
       "      <th>Fixture ID</th>\n",
       "      <th>P(H)</th>\n",
       "      <th>P(A)</th>\n",
       "      <th>P(O)</th>\n",
       "      <th>P(U)</th>\n",
       "      <th>P_Diff</th>\n",
       "      <th>Porc_Over_Home</th>\n",
       "      <th>Porc_Over_Away</th>\n",
       "      <th>CustoGolHome</th>\n",
       "      <th>CustoGolAway</th>\n",
       "      <th>Avg_CG_H</th>\n",
       "      <th>DP_CG_H</th>\n",
       "      <th>CV_CG_H</th>\n",
       "      <th>Avg_CG_A</th>\n",
       "      <th>DP_CG_A</th>\n",
       "      <th>CV_CG_A</th>\n",
       "      <th>MediaCustoGolHome</th>\n",
       "      <th>MediaCustoGolAway</th>\n",
       "      <th>Last_CG_H</th>\n",
       "      <th>Last_CG_A</th>\n",
       "      <th>Acima_Last_CG_H</th>\n",
       "      <th>Acima_Last_CG_A</th>\n",
       "      <th>Abaixo_Last_CG_H</th>\n",
       "      <th>Abaixo_Last_CG_A</th>\n",
       "      <th>CV_ML</th>\n",
       "      <th>CV_Over</th>\n",
       "      <th>CV_HA</th>\n",
       "      <th>Retornos_BH_Acu</th>\n",
       "      <th>Avg_Retornos_BH</th>\n",
       "      <th>Custo_Retorno_BH</th>\n",
       "      <th>Avg_Porc_BH_Bookie</th>\n",
       "      <th>Avg_Porc_BH_Real</th>\n",
       "      <th>Dist_Porc_BH</th>\n",
       "      <th>Retornos_BA_Acu</th>\n",
       "      <th>Avg_Retornos_BA</th>\n",
       "      <th>Custo_Retorno_BA</th>\n",
       "      <th>Avg_Porc_BA_Bookie</th>\n",
       "      <th>Avg_Porc_BA_Real</th>\n",
       "      <th>Dist_Porc_BA</th>\n",
       "    </tr>\n",
       "  </thead>\n",
       "  <tbody>\n",
       "    <tr>\n",
       "      <th>112</th>\n",
       "      <td>2024-07-23</td>\n",
       "      <td>República Dominicana Lnb</td>\n",
       "      <td>21:00</td>\n",
       "      <td>Leones</td>\n",
       "      <td>Caneros</td>\n",
       "      <td>2.12</td>\n",
       "      <td>1.67</td>\n",
       "      <td>164.5</td>\n",
       "      <td>1.86</td>\n",
       "      <td>1.80</td>\n",
       "      <td>1.5</td>\n",
       "      <td>1.98</td>\n",
       "      <td>1.52</td>\n",
       "      <td>APOGGeqh</td>\n",
       "      <td>0.471698</td>\n",
       "      <td>0.598802</td>\n",
       "      <td>0.537634</td>\n",
       "      <td>0.555556</td>\n",
       "      <td>0.070501</td>\n",
       "      <td>0.0</td>\n",
       "      <td>0.0</td>\n",
       "      <td>NaN</td>\n",
       "      <td>NaN</td>\n",
       "      <td>NaN</td>\n",
       "      <td>NaN</td>\n",
       "      <td>NaN</td>\n",
       "      <td>NaN</td>\n",
       "      <td>NaN</td>\n",
       "      <td>NaN</td>\n",
       "      <td>0.0</td>\n",
       "      <td>0.0</td>\n",
       "      <td>148.98</td>\n",
       "      <td>0.00</td>\n",
       "      <td>0.0</td>\n",
       "      <td>0.0</td>\n",
       "      <td>0.0</td>\n",
       "      <td>0.0</td>\n",
       "      <td>0.167915</td>\n",
       "      <td>0.023184</td>\n",
       "      <td>0.185868</td>\n",
       "      <td>0.0</td>\n",
       "      <td>0.0</td>\n",
       "      <td>inf</td>\n",
       "      <td>0.0</td>\n",
       "      <td>0.0</td>\n",
       "      <td>0.0</td>\n",
       "      <td>0.0</td>\n",
       "      <td>0.0</td>\n",
       "      <td>inf</td>\n",
       "      <td>0.0</td>\n",
       "      <td>0.0</td>\n",
       "      <td>0.0</td>\n",
       "    </tr>\n",
       "    <tr>\n",
       "      <th>113</th>\n",
       "      <td>2024-07-23</td>\n",
       "      <td>Porto Rico Bsn</td>\n",
       "      <td>21:00</td>\n",
       "      <td>Piratas de Quebradillas</td>\n",
       "      <td>Gigantes de Carolina</td>\n",
       "      <td>1.67</td>\n",
       "      <td>2.12</td>\n",
       "      <td>187.5</td>\n",
       "      <td>1.83</td>\n",
       "      <td>1.83</td>\n",
       "      <td>-2.5</td>\n",
       "      <td>1.87</td>\n",
       "      <td>2.24</td>\n",
       "      <td>xA1zRTv3</td>\n",
       "      <td>0.598802</td>\n",
       "      <td>0.471698</td>\n",
       "      <td>0.546448</td>\n",
       "      <td>0.546448</td>\n",
       "      <td>0.070501</td>\n",
       "      <td>0.0</td>\n",
       "      <td>0.0</td>\n",
       "      <td>NaN</td>\n",
       "      <td>NaN</td>\n",
       "      <td>167.792</td>\n",
       "      <td>37.631925</td>\n",
       "      <td>0.224277</td>\n",
       "      <td>199.792</td>\n",
       "      <td>30.92266</td>\n",
       "      <td>0.154774</td>\n",
       "      <td>0.0</td>\n",
       "      <td>0.0</td>\n",
       "      <td>197.73</td>\n",
       "      <td>203.94</td>\n",
       "      <td>0.0</td>\n",
       "      <td>0.0</td>\n",
       "      <td>0.0</td>\n",
       "      <td>0.0</td>\n",
       "      <td>0.167915</td>\n",
       "      <td>0.000000</td>\n",
       "      <td>0.127314</td>\n",
       "      <td>0.0</td>\n",
       "      <td>0.0</td>\n",
       "      <td>inf</td>\n",
       "      <td>0.0</td>\n",
       "      <td>0.0</td>\n",
       "      <td>0.0</td>\n",
       "      <td>0.0</td>\n",
       "      <td>0.0</td>\n",
       "      <td>inf</td>\n",
       "      <td>0.0</td>\n",
       "      <td>0.0</td>\n",
       "      <td>0.0</td>\n",
       "    </tr>\n",
       "  </tbody>\n",
       "</table>\n",
       "</div>"
      ],
      "text/plain": [
       "           Date                    League   Time                     Home  \\\n",
       "112  2024-07-23  República Dominicana Lnb  21:00                   Leones   \n",
       "113  2024-07-23            Porto Rico Bsn  21:00  Piratas de Quebradillas   \n",
       "\n",
       "                     Away  Odds_H  Odds_A  Over_Line  Odds_Over  Odds_Under  \\\n",
       "112               Caneros    2.12    1.67      164.5       1.86        1.80   \n",
       "113  Gigantes de Carolina    1.67    2.12      187.5       1.83        1.83   \n",
       "\n",
       "     HA_Line  HA_Odds_H  HA_Odds_A Fixture ID      P(H)      P(A)      P(O)  \\\n",
       "112      1.5       1.98       1.52   APOGGeqh  0.471698  0.598802  0.537634   \n",
       "113     -2.5       1.87       2.24   xA1zRTv3  0.598802  0.471698  0.546448   \n",
       "\n",
       "         P(U)    P_Diff  Porc_Over_Home  Porc_Over_Away  CustoGolHome  \\\n",
       "112  0.555556  0.070501             0.0             0.0           NaN   \n",
       "113  0.546448  0.070501             0.0             0.0           NaN   \n",
       "\n",
       "     CustoGolAway  Avg_CG_H    DP_CG_H   CV_CG_H  Avg_CG_A   DP_CG_A  \\\n",
       "112           NaN       NaN        NaN       NaN       NaN       NaN   \n",
       "113           NaN   167.792  37.631925  0.224277   199.792  30.92266   \n",
       "\n",
       "      CV_CG_A  MediaCustoGolHome  MediaCustoGolAway  Last_CG_H  Last_CG_A  \\\n",
       "112       NaN                0.0                0.0     148.98       0.00   \n",
       "113  0.154774                0.0                0.0     197.73     203.94   \n",
       "\n",
       "     Acima_Last_CG_H  Acima_Last_CG_A  Abaixo_Last_CG_H  Abaixo_Last_CG_A  \\\n",
       "112              0.0              0.0               0.0               0.0   \n",
       "113              0.0              0.0               0.0               0.0   \n",
       "\n",
       "        CV_ML   CV_Over     CV_HA  Retornos_BH_Acu  Avg_Retornos_BH  \\\n",
       "112  0.167915  0.023184  0.185868              0.0              0.0   \n",
       "113  0.167915  0.000000  0.127314              0.0              0.0   \n",
       "\n",
       "     Custo_Retorno_BH  Avg_Porc_BH_Bookie  Avg_Porc_BH_Real  Dist_Porc_BH  \\\n",
       "112               inf                 0.0               0.0           0.0   \n",
       "113               inf                 0.0               0.0           0.0   \n",
       "\n",
       "     Retornos_BA_Acu  Avg_Retornos_BA  Custo_Retorno_BA  Avg_Porc_BA_Bookie  \\\n",
       "112              0.0              0.0               inf                 0.0   \n",
       "113              0.0              0.0               inf                 0.0   \n",
       "\n",
       "     Avg_Porc_BA_Real  Dist_Porc_BA  \n",
       "112               0.0           0.0  \n",
       "113               0.0           0.0  "
      ]
     },
     "execution_count": 8,
     "metadata": {},
     "output_type": "execute_result"
    }
   ],
   "source": [
    "jogos = games[games['Date'] == data_var]\n",
    "\n",
    "jogos = jogos.drop(columns=['Home_Pts', 'Away_Pts',\n",
    "       'Back_Home', 'PL_Home', 'Back_Away',\n",
    "       'PL_Away', 'Back_Over', 'PL_Over', 'PL_Under', 'Back_HA_H', 'PL_HA_H',\n",
    "       'PL_HA_A', ])\n",
    "\n",
    "jogos"
   ]
  },
  {
   "attachments": {},
   "cell_type": "markdown",
   "id": "08aa1c88",
   "metadata": {
    "papermill": {
     "duration": 0.001995,
     "end_time": "2024-07-23T13:02:40.374346",
     "exception": false,
     "start_time": "2024-07-23T13:02:40.372351",
     "status": "completed"
    },
    "tags": []
   },
   "source": [
    "## Apostas do dia"
   ]
  },
  {
   "cell_type": "markdown",
   "id": "b24569b1",
   "metadata": {
    "papermill": {
     "duration": 0.001999,
     "end_time": "2024-07-23T13:02:40.378346",
     "exception": false,
     "start_time": "2024-07-23T13:02:40.376347",
     "status": "completed"
    },
    "tags": []
   },
   "source": [
    "### Over v0 (LDA)"
   ]
  },
  {
   "cell_type": "code",
   "execution_count": 9,
   "id": "6f144103",
   "metadata": {
    "execution": {
     "iopub.execute_input": "2024-07-23T13:02:40.383350Z",
     "iopub.status.busy": "2024-07-23T13:02:40.382849Z",
     "iopub.status.idle": "2024-07-23T13:02:40.584225Z",
     "shell.execute_reply": "2024-07-23T13:02:40.583687Z"
    },
    "papermill": {
     "duration": 0.205375,
     "end_time": "2024-07-23T13:02:40.585721",
     "exception": false,
     "start_time": "2024-07-23T13:02:40.380346",
     "status": "completed"
    },
    "tags": []
   },
   "outputs": [
    {
     "name": "stdout",
     "output_type": "stream",
     "text": [
      "------------ MÉTODO OVER V0 (LDA) ------------\n",
      "\n"
     ]
    },
    {
     "data": {
      "text/html": [
       "<div>\n",
       "<style scoped>\n",
       "    .dataframe tbody tr th:only-of-type {\n",
       "        vertical-align: middle;\n",
       "    }\n",
       "\n",
       "    .dataframe tbody tr th {\n",
       "        vertical-align: top;\n",
       "    }\n",
       "\n",
       "    .dataframe thead th {\n",
       "        text-align: right;\n",
       "    }\n",
       "</style>\n",
       "<table border=\"1\" class=\"dataframe\">\n",
       "  <thead>\n",
       "    <tr style=\"text-align: right;\">\n",
       "      <th></th>\n",
       "      <th>Time</th>\n",
       "      <th>League</th>\n",
       "      <th>Home</th>\n",
       "      <th>Away</th>\n",
       "      <th>Over_Line</th>\n",
       "      <th>Odds_Over</th>\n",
       "      <th>prediction_score</th>\n",
       "      <th>Bet</th>\n",
       "    </tr>\n",
       "  </thead>\n",
       "  <tbody>\n",
       "    <tr>\n",
       "      <th>0</th>\n",
       "      <td>21:00</td>\n",
       "      <td>Porto Rico Bsn</td>\n",
       "      <td>Piratas de Quebradillas</td>\n",
       "      <td>Gigantes de Carolina</td>\n",
       "      <td>187.5</td>\n",
       "      <td>1.83</td>\n",
       "      <td>1.0</td>\n",
       "      <td>Over</td>\n",
       "    </tr>\n",
       "  </tbody>\n",
       "</table>\n",
       "</div>"
      ],
      "text/plain": [
       "    Time          League                     Home                  Away  \\\n",
       "0  21:00  Porto Rico Bsn  Piratas de Quebradillas  Gigantes de Carolina   \n",
       "\n",
       "   Over_Line  Odds_Over  prediction_score   Bet  \n",
       "0      187.5       1.83               1.0  Over  "
      ]
     },
     "metadata": {},
     "output_type": "display_data"
    },
    {
     "name": "stdout",
     "output_type": "stream",
     "text": [
      "\n"
     ]
    }
   ],
   "source": [
    "# Duplicando o dataset\n",
    "df_over_v0 = jogos.copy()\n",
    "\n",
    "df_over_v0.reset_index(drop=True, inplace=True)\n",
    "df_over_v0.replace([np.inf, -np.inf], 0, inplace=True)\n",
    "\n",
    "if not df_over_v0.empty:\n",
    "    mdl_over_v0 = load_model('ML/over/v1/v1_over', verbose=False)\n",
    "    prev = predict_model(mdl_over_v0, df_over_v0)\n",
    "    prev = prev[prev['prediction_label'] ==  1]\n",
    "    prev.reset_index(drop=True, inplace=True)\n",
    "    \n",
    "    # Filtros pós modelo\n",
    "\n",
    "    if not prev.empty:\n",
    "        prev.to_csv(f'apostas_do_dia/{data_var}/over_v0_{data_var}.csv', index=False)\n",
    "\n",
    "        print('------------ MÉTODO OVER V0 (LDA) ------------')\n",
    "        print()\n",
    "\n",
    "        prev['Bet'] = 'Over'\n",
    "        ligs = prev['League'].unique().tolist()\n",
    "\n",
    "        display(prev[['Time', 'League', 'Home', 'Away', 'Over_Line', 'Odds_Over', 'prediction_score', 'Bet']])\n",
    "        print()\n",
    "    else: print('Sem jogos')\n",
    "else: print('Sem jogos')"
   ]
  }
 ],
 "metadata": {
  "kernelspec": {
   "display_name": "modelos_futebol",
   "language": "python",
   "name": "python3"
  },
  "language_info": {
   "codemirror_mode": {
    "name": "ipython",
    "version": 3
   },
   "file_extension": ".py",
   "mimetype": "text/x-python",
   "name": "python",
   "nbconvert_exporter": "python",
   "pygments_lexer": "ipython3",
   "version": "3.10.7"
  },
  "papermill": {
   "default_parameters": {},
   "duration": 8.324844,
   "end_time": "2024-07-23T13:02:40.925663",
   "environment_variables": {},
   "exception": null,
   "input_path": "apostas_do_dia_v1.ipynb",
   "output_path": "apostas_do_dia_v1.ipynb",
   "parameters": {
    "data_var": "2024-07-23"
   },
   "start_time": "2024-07-23T13:02:32.600819",
   "version": "2.5.0"
  }
 },
 "nbformat": 4,
 "nbformat_minor": 5
}