{
 "cells": [
  {
   "cell_type": "code",
   "execution_count": 1,
   "id": "d690e842",
   "metadata": {
    "execution": {
     "iopub.execute_input": "2024-06-18T13:01:36.579901Z",
     "iopub.status.busy": "2024-06-18T13:01:36.579901Z",
     "iopub.status.idle": "2024-06-18T13:01:36.592760Z",
     "shell.execute_reply": "2024-06-18T13:01:36.592215Z"
    },
    "papermill": {
     "duration": 0.017912,
     "end_time": "2024-06-18T13:01:36.594280",
     "exception": false,
     "start_time": "2024-06-18T13:01:36.576368",
     "status": "completed"
    },
    "tags": [
     "parameters"
    ]
   },
   "outputs": [],
   "source": [
    "data_var = ''"
   ]
  },
  {
   "cell_type": "code",
   "execution_count": 2,
   "id": "307c456e",
   "metadata": {
    "execution": {
     "iopub.execute_input": "2024-06-18T13:01:36.599280Z",
     "iopub.status.busy": "2024-06-18T13:01:36.598781Z",
     "iopub.status.idle": "2024-06-18T13:01:36.608458Z",
     "shell.execute_reply": "2024-06-18T13:01:36.607453Z"
    },
    "papermill": {
     "duration": 0.013174,
     "end_time": "2024-06-18T13:01:36.609455",
     "exception": false,
     "start_time": "2024-06-18T13:01:36.596281",
     "status": "completed"
    },
    "tags": [
     "injected-parameters"
    ]
   },
   "outputs": [],
   "source": [
    "# Parameters\n",
    "data_var = \"2024-06-18\"\n"
   ]
  },
  {
   "cell_type": "code",
   "execution_count": 3,
   "id": "25b97174",
   "metadata": {
    "execution": {
     "iopub.execute_input": "2024-06-18T13:01:36.613964Z",
     "iopub.status.busy": "2024-06-18T13:01:36.613455Z",
     "iopub.status.idle": "2024-06-18T13:01:42.370657Z",
     "shell.execute_reply": "2024-06-18T13:01:42.370112Z"
    },
    "papermill": {
     "duration": 5.760679,
     "end_time": "2024-06-18T13:01:42.372130",
     "exception": false,
     "start_time": "2024-06-18T13:01:36.611451",
     "status": "completed"
    },
    "tags": []
   },
   "outputs": [],
   "source": [
    "import pandas as pd; pd.set_option('display.max_columns', None)\n",
    "import os\n",
    "from pycaret.classification import *\n",
    "from scripts.PreparaDataset import *\n",
    "from scripts.TeoriaRetornos import *"
   ]
  },
  {
   "attachments": {},
   "cell_type": "markdown",
   "id": "ffa9b361",
   "metadata": {
    "papermill": {
     "duration": 0.002,
     "end_time": "2024-06-18T13:01:42.376627",
     "exception": false,
     "start_time": "2024-06-18T13:01:42.374627",
     "status": "completed"
    },
    "tags": []
   },
   "source": [
    "### Funções"
   ]
  },
  {
   "cell_type": "code",
   "execution_count": 4,
   "id": "cb6eea9b",
   "metadata": {
    "execution": {
     "iopub.execute_input": "2024-06-18T13:01:42.381627Z",
     "iopub.status.busy": "2024-06-18T13:01:42.380627Z",
     "iopub.status.idle": "2024-06-18T13:01:42.385631Z",
     "shell.execute_reply": "2024-06-18T13:01:42.385127Z"
    },
    "papermill": {
     "duration": 0.0085,
     "end_time": "2024-06-18T13:01:42.386627",
     "exception": false,
     "start_time": "2024-06-18T13:01:42.378127",
     "status": "completed"
    },
    "tags": []
   },
   "outputs": [],
   "source": [
    "def atualiza_dia(_jogos):\n",
    "    _jogos = prepara_df(_jogos)\n",
    "\n",
    "    _jogos = _jogos.reset_index(drop=True)\n",
    "\n",
    "    return _jogos"
   ]
  },
  {
   "attachments": {},
   "cell_type": "markdown",
   "id": "26b16874",
   "metadata": {
    "papermill": {
     "duration": 0.0015,
     "end_time": "2024-06-18T13:01:42.390127",
     "exception": false,
     "start_time": "2024-06-18T13:01:42.388627",
     "status": "completed"
    },
    "tags": []
   },
   "source": [
    "### Pegando os jogos do dia"
   ]
  },
  {
   "cell_type": "code",
   "execution_count": 5,
   "id": "5ddb2ecb",
   "metadata": {
    "execution": {
     "iopub.execute_input": "2024-06-18T13:01:42.394627Z",
     "iopub.status.busy": "2024-06-18T13:01:42.394127Z",
     "iopub.status.idle": "2024-06-18T13:01:42.417245Z",
     "shell.execute_reply": "2024-06-18T13:01:42.416637Z"
    },
    "papermill": {
     "duration": 0.026634,
     "end_time": "2024-06-18T13:01:42.418761",
     "exception": false,
     "start_time": "2024-06-18T13:01:42.392127",
     "status": "completed"
    },
    "tags": []
   },
   "outputs": [],
   "source": [
    "df_today = pd.read_csv(f'jogos_do_dia/{data_var}.csv')"
   ]
  },
  {
   "cell_type": "markdown",
   "id": "19a2214d",
   "metadata": {
    "papermill": {
     "duration": 0.0015,
     "end_time": "2024-06-18T13:01:42.422261",
     "exception": false,
     "start_time": "2024-06-18T13:01:42.420761",
     "status": "completed"
    },
    "tags": []
   },
   "source": [
    "### Atualizando os datasets que tem jogo hoje"
   ]
  },
  {
   "cell_type": "code",
   "execution_count": 6,
   "id": "68bd72ae",
   "metadata": {
    "execution": {
     "iopub.execute_input": "2024-06-18T13:01:42.426761Z",
     "iopub.status.busy": "2024-06-18T13:01:42.426265Z",
     "iopub.status.idle": "2024-06-18T13:01:42.494580Z",
     "shell.execute_reply": "2024-06-18T13:01:42.493547Z"
    },
    "papermill": {
     "duration": 0.071316,
     "end_time": "2024-06-18T13:01:42.495577",
     "exception": false,
     "start_time": "2024-06-18T13:01:42.424261",
     "status": "completed"
    },
    "tags": []
   },
   "outputs": [],
   "source": [
    "temporada = pd.read_csv('data/Entire_Season.csv')\n",
    "temporada = temporada[temporada['Date'] < data_var]\n",
    "temporada = pd.concat([temporada, df_today])\n",
    "ligas = df_today['League'].unique().tolist()\n",
    "temporada = temporada[temporada['League'].isin(ligas)]\n",
    "temporada.reset_index(drop=True, inplace=True)"
   ]
  },
  {
   "cell_type": "markdown",
   "id": "0d8018ca",
   "metadata": {
    "papermill": {
     "duration": 0.001999,
     "end_time": "2024-06-18T13:01:42.500073",
     "exception": false,
     "start_time": "2024-06-18T13:01:42.498074",
     "status": "completed"
    },
    "tags": []
   },
   "source": [
    "### Cria variáveis na temporada e nos jogos do dia"
   ]
  },
  {
   "cell_type": "code",
   "execution_count": 7,
   "id": "d3b06cb1",
   "metadata": {
    "execution": {
     "iopub.execute_input": "2024-06-18T13:01:42.505077Z",
     "iopub.status.busy": "2024-06-18T13:01:42.504577Z",
     "iopub.status.idle": "2024-06-18T13:01:43.315390Z",
     "shell.execute_reply": "2024-06-18T13:01:43.314867Z"
    },
    "papermill": {
     "duration": 0.815327,
     "end_time": "2024-06-18T13:01:43.316901",
     "exception": false,
     "start_time": "2024-06-18T13:01:42.501574",
     "status": "completed"
    },
    "tags": []
   },
   "outputs": [],
   "source": [
    "games = atualiza_dia(temporada)\n",
    "temporada = games[games['Date'] < data_var]\n",
    "os.makedirs(f'apostas_do_dia/{data_var}', exist_ok=True)"
   ]
  },
  {
   "cell_type": "code",
   "execution_count": 8,
   "id": "16aa533f",
   "metadata": {
    "execution": {
     "iopub.execute_input": "2024-06-18T13:01:43.321897Z",
     "iopub.status.busy": "2024-06-18T13:01:43.321399Z",
     "iopub.status.idle": "2024-06-18T13:01:43.361184Z",
     "shell.execute_reply": "2024-06-18T13:01:43.360682Z"
    },
    "papermill": {
     "duration": 0.043782,
     "end_time": "2024-06-18T13:01:43.362682",
     "exception": false,
     "start_time": "2024-06-18T13:01:43.318900",
     "status": "completed"
    },
    "tags": []
   },
   "outputs": [
    {
     "data": {
      "text/html": [
       "<div>\n",
       "<style scoped>\n",
       "    .dataframe tbody tr th:only-of-type {\n",
       "        vertical-align: middle;\n",
       "    }\n",
       "\n",
       "    .dataframe tbody tr th {\n",
       "        vertical-align: top;\n",
       "    }\n",
       "\n",
       "    .dataframe thead th {\n",
       "        text-align: right;\n",
       "    }\n",
       "</style>\n",
       "<table border=\"1\" class=\"dataframe\">\n",
       "  <thead>\n",
       "    <tr style=\"text-align: right;\">\n",
       "      <th></th>\n",
       "      <th>Date</th>\n",
       "      <th>League</th>\n",
       "      <th>Time</th>\n",
       "      <th>Home</th>\n",
       "      <th>Away</th>\n",
       "      <th>Odds_H</th>\n",
       "      <th>Odds_A</th>\n",
       "      <th>Over_Line</th>\n",
       "      <th>Odds_Over</th>\n",
       "      <th>Odds_Under</th>\n",
       "      <th>HA_Line</th>\n",
       "      <th>HA_Odds_H</th>\n",
       "      <th>HA_Odds_A</th>\n",
       "      <th>Fixture ID</th>\n",
       "      <th>P(H)</th>\n",
       "      <th>P(A)</th>\n",
       "      <th>P(O)</th>\n",
       "      <th>P(U)</th>\n",
       "      <th>P_Diff</th>\n",
       "      <th>Porc_Over_Home</th>\n",
       "      <th>Porc_Over_Away</th>\n",
       "      <th>CustoGolHome</th>\n",
       "      <th>CustoGolAway</th>\n",
       "      <th>Avg_CG_H</th>\n",
       "      <th>DP_CG_H</th>\n",
       "      <th>CV_CG_H</th>\n",
       "      <th>Avg_CG_A</th>\n",
       "      <th>DP_CG_A</th>\n",
       "      <th>CV_CG_A</th>\n",
       "      <th>MediaCustoGolHome</th>\n",
       "      <th>MediaCustoGolAway</th>\n",
       "      <th>Last_CG_H</th>\n",
       "      <th>Last_CG_A</th>\n",
       "      <th>Acima_Last_CG_H</th>\n",
       "      <th>Acima_Last_CG_A</th>\n",
       "      <th>Abaixo_Last_CG_H</th>\n",
       "      <th>Abaixo_Last_CG_A</th>\n",
       "      <th>CV_ML</th>\n",
       "      <th>CV_Over</th>\n",
       "      <th>CV_HA</th>\n",
       "      <th>Retornos_BH_Acu</th>\n",
       "      <th>Avg_Retornos_BH</th>\n",
       "      <th>Custo_Retorno_BH</th>\n",
       "      <th>Avg_Porc_BH_Bookie</th>\n",
       "      <th>Avg_Porc_BH_Real</th>\n",
       "      <th>Dist_Porc_BH</th>\n",
       "      <th>Retornos_BA_Acu</th>\n",
       "      <th>Avg_Retornos_BA</th>\n",
       "      <th>Custo_Retorno_BA</th>\n",
       "      <th>Avg_Porc_BA_Bookie</th>\n",
       "      <th>Avg_Porc_BA_Real</th>\n",
       "      <th>Dist_Porc_BA</th>\n",
       "    </tr>\n",
       "  </thead>\n",
       "  <tbody>\n",
       "    <tr>\n",
       "      <th>342</th>\n",
       "      <td>2024-06-18</td>\n",
       "      <td>Porto Rico Bsn</td>\n",
       "      <td>21:00</td>\n",
       "      <td>Cangrejeros</td>\n",
       "      <td>Capitanes De Arecibo</td>\n",
       "      <td>2.01</td>\n",
       "      <td>1.73</td>\n",
       "      <td>189.5</td>\n",
       "      <td>1.84</td>\n",
       "      <td>1.86</td>\n",
       "      <td>1.5</td>\n",
       "      <td>1.87</td>\n",
       "      <td>1.51</td>\n",
       "      <td>zFjgjfBs</td>\n",
       "      <td>0.497512</td>\n",
       "      <td>0.578035</td>\n",
       "      <td>0.543478</td>\n",
       "      <td>0.537634</td>\n",
       "      <td>0.075547</td>\n",
       "      <td>0.0</td>\n",
       "      <td>0.0</td>\n",
       "      <td>NaN</td>\n",
       "      <td>NaN</td>\n",
       "      <td>NaN</td>\n",
       "      <td>NaN</td>\n",
       "      <td>NaN</td>\n",
       "      <td>NaN</td>\n",
       "      <td>NaN</td>\n",
       "      <td>NaN</td>\n",
       "      <td>0.0</td>\n",
       "      <td>0.000</td>\n",
       "      <td>182.56</td>\n",
       "      <td>203.70</td>\n",
       "      <td>0.0</td>\n",
       "      <td>0.0</td>\n",
       "      <td>0.0</td>\n",
       "      <td>0.0</td>\n",
       "      <td>0.105877</td>\n",
       "      <td>0.007644</td>\n",
       "      <td>0.150626</td>\n",
       "      <td>0.0</td>\n",
       "      <td>0.0</td>\n",
       "      <td>inf</td>\n",
       "      <td>0.0</td>\n",
       "      <td>0.0</td>\n",
       "      <td>0.0</td>\n",
       "      <td>0.00</td>\n",
       "      <td>0.000</td>\n",
       "      <td>inf</td>\n",
       "      <td>0.0</td>\n",
       "      <td>0.0</td>\n",
       "      <td>0.0</td>\n",
       "    </tr>\n",
       "    <tr>\n",
       "      <th>343</th>\n",
       "      <td>2024-06-18</td>\n",
       "      <td>Porto Rico Bsn</td>\n",
       "      <td>21:00</td>\n",
       "      <td>Leones De Ponce</td>\n",
       "      <td>Piratas de Quebradillas</td>\n",
       "      <td>1.94</td>\n",
       "      <td>1.78</td>\n",
       "      <td>165.5</td>\n",
       "      <td>1.85</td>\n",
       "      <td>1.85</td>\n",
       "      <td>-2.5</td>\n",
       "      <td>1.96</td>\n",
       "      <td>2.37</td>\n",
       "      <td>UyjckEQm</td>\n",
       "      <td>0.515464</td>\n",
       "      <td>0.561798</td>\n",
       "      <td>0.540541</td>\n",
       "      <td>0.540541</td>\n",
       "      <td>0.077262</td>\n",
       "      <td>0.0</td>\n",
       "      <td>0.4</td>\n",
       "      <td>NaN</td>\n",
       "      <td>NaN</td>\n",
       "      <td>NaN</td>\n",
       "      <td>NaN</td>\n",
       "      <td>NaN</td>\n",
       "      <td>155.518</td>\n",
       "      <td>37.988935</td>\n",
       "      <td>0.244274</td>\n",
       "      <td>0.0</td>\n",
       "      <td>150.322</td>\n",
       "      <td>120.33</td>\n",
       "      <td>130.67</td>\n",
       "      <td>0.0</td>\n",
       "      <td>0.0</td>\n",
       "      <td>0.0</td>\n",
       "      <td>0.0</td>\n",
       "      <td>0.060826</td>\n",
       "      <td>0.000000</td>\n",
       "      <td>0.133909</td>\n",
       "      <td>0.0</td>\n",
       "      <td>0.0</td>\n",
       "      <td>inf</td>\n",
       "      <td>0.0</td>\n",
       "      <td>0.0</td>\n",
       "      <td>0.0</td>\n",
       "      <td>-1.06</td>\n",
       "      <td>-0.212</td>\n",
       "      <td>-3.679245</td>\n",
       "      <td>0.0</td>\n",
       "      <td>0.0</td>\n",
       "      <td>0.0</td>\n",
       "    </tr>\n",
       "    <tr>\n",
       "      <th>344</th>\n",
       "      <td>2024-06-18</td>\n",
       "      <td>Porto Rico Bsn</td>\n",
       "      <td>21:00</td>\n",
       "      <td>Vaqueros de Bayamon</td>\n",
       "      <td>Osos de Manati</td>\n",
       "      <td>1.69</td>\n",
       "      <td>2.06</td>\n",
       "      <td>174.5</td>\n",
       "      <td>1.85</td>\n",
       "      <td>1.85</td>\n",
       "      <td>-2.5</td>\n",
       "      <td>1.89</td>\n",
       "      <td>2.37</td>\n",
       "      <td>8Sl1lYuf</td>\n",
       "      <td>0.591716</td>\n",
       "      <td>0.485437</td>\n",
       "      <td>0.540541</td>\n",
       "      <td>0.540541</td>\n",
       "      <td>0.077153</td>\n",
       "      <td>0.0</td>\n",
       "      <td>0.0</td>\n",
       "      <td>NaN</td>\n",
       "      <td>NaN</td>\n",
       "      <td>NaN</td>\n",
       "      <td>NaN</td>\n",
       "      <td>NaN</td>\n",
       "      <td>NaN</td>\n",
       "      <td>NaN</td>\n",
       "      <td>NaN</td>\n",
       "      <td>0.0</td>\n",
       "      <td>0.000</td>\n",
       "      <td>154.88</td>\n",
       "      <td>229.95</td>\n",
       "      <td>0.0</td>\n",
       "      <td>0.0</td>\n",
       "      <td>0.0</td>\n",
       "      <td>0.0</td>\n",
       "      <td>0.139536</td>\n",
       "      <td>0.000000</td>\n",
       "      <td>0.159348</td>\n",
       "      <td>0.0</td>\n",
       "      <td>0.0</td>\n",
       "      <td>inf</td>\n",
       "      <td>0.0</td>\n",
       "      <td>0.0</td>\n",
       "      <td>0.0</td>\n",
       "      <td>0.00</td>\n",
       "      <td>0.000</td>\n",
       "      <td>inf</td>\n",
       "      <td>0.0</td>\n",
       "      <td>0.0</td>\n",
       "      <td>0.0</td>\n",
       "    </tr>\n",
       "  </tbody>\n",
       "</table>\n",
       "</div>"
      ],
      "text/plain": [
       "           Date          League   Time                 Home  \\\n",
       "342  2024-06-18  Porto Rico Bsn  21:00          Cangrejeros   \n",
       "343  2024-06-18  Porto Rico Bsn  21:00      Leones De Ponce   \n",
       "344  2024-06-18  Porto Rico Bsn  21:00  Vaqueros de Bayamon   \n",
       "\n",
       "                        Away  Odds_H  Odds_A  Over_Line  Odds_Over  \\\n",
       "342     Capitanes De Arecibo    2.01    1.73      189.5       1.84   \n",
       "343  Piratas de Quebradillas    1.94    1.78      165.5       1.85   \n",
       "344           Osos de Manati    1.69    2.06      174.5       1.85   \n",
       "\n",
       "     Odds_Under  HA_Line  HA_Odds_H  HA_Odds_A Fixture ID      P(H)      P(A)  \\\n",
       "342        1.86      1.5       1.87       1.51   zFjgjfBs  0.497512  0.578035   \n",
       "343        1.85     -2.5       1.96       2.37   UyjckEQm  0.515464  0.561798   \n",
       "344        1.85     -2.5       1.89       2.37   8Sl1lYuf  0.591716  0.485437   \n",
       "\n",
       "         P(O)      P(U)    P_Diff  Porc_Over_Home  Porc_Over_Away  \\\n",
       "342  0.543478  0.537634  0.075547             0.0             0.0   \n",
       "343  0.540541  0.540541  0.077262             0.0             0.4   \n",
       "344  0.540541  0.540541  0.077153             0.0             0.0   \n",
       "\n",
       "     CustoGolHome  CustoGolAway  Avg_CG_H  DP_CG_H  CV_CG_H  Avg_CG_A  \\\n",
       "342           NaN           NaN       NaN      NaN      NaN       NaN   \n",
       "343           NaN           NaN       NaN      NaN      NaN   155.518   \n",
       "344           NaN           NaN       NaN      NaN      NaN       NaN   \n",
       "\n",
       "       DP_CG_A   CV_CG_A  MediaCustoGolHome  MediaCustoGolAway  Last_CG_H  \\\n",
       "342        NaN       NaN                0.0              0.000     182.56   \n",
       "343  37.988935  0.244274                0.0            150.322     120.33   \n",
       "344        NaN       NaN                0.0              0.000     154.88   \n",
       "\n",
       "     Last_CG_A  Acima_Last_CG_H  Acima_Last_CG_A  Abaixo_Last_CG_H  \\\n",
       "342     203.70              0.0              0.0               0.0   \n",
       "343     130.67              0.0              0.0               0.0   \n",
       "344     229.95              0.0              0.0               0.0   \n",
       "\n",
       "     Abaixo_Last_CG_A     CV_ML   CV_Over     CV_HA  Retornos_BH_Acu  \\\n",
       "342               0.0  0.105877  0.007644  0.150626              0.0   \n",
       "343               0.0  0.060826  0.000000  0.133909              0.0   \n",
       "344               0.0  0.139536  0.000000  0.159348              0.0   \n",
       "\n",
       "     Avg_Retornos_BH  Custo_Retorno_BH  Avg_Porc_BH_Bookie  Avg_Porc_BH_Real  \\\n",
       "342              0.0               inf                 0.0               0.0   \n",
       "343              0.0               inf                 0.0               0.0   \n",
       "344              0.0               inf                 0.0               0.0   \n",
       "\n",
       "     Dist_Porc_BH  Retornos_BA_Acu  Avg_Retornos_BA  Custo_Retorno_BA  \\\n",
       "342           0.0             0.00            0.000               inf   \n",
       "343           0.0            -1.06           -0.212         -3.679245   \n",
       "344           0.0             0.00            0.000               inf   \n",
       "\n",
       "     Avg_Porc_BA_Bookie  Avg_Porc_BA_Real  Dist_Porc_BA  \n",
       "342                 0.0               0.0           0.0  \n",
       "343                 0.0               0.0           0.0  \n",
       "344                 0.0               0.0           0.0  "
      ]
     },
     "execution_count": 8,
     "metadata": {},
     "output_type": "execute_result"
    }
   ],
   "source": [
    "jogos = games[games['Date'] == data_var]\n",
    "\n",
    "jogos = jogos.drop(columns=['Home_Pts', 'Away_Pts',\n",
    "       'Back_Home', 'PL_Home', 'Back_Away',\n",
    "       'PL_Away', 'Back_Over', 'PL_Over', 'PL_Under', 'Back_HA_H', 'PL_HA_H',\n",
    "       'PL_HA_A', ])\n",
    "\n",
    "jogos"
   ]
  },
  {
   "attachments": {},
   "cell_type": "markdown",
   "id": "08aa1c88",
   "metadata": {
    "papermill": {
     "duration": 0.002003,
     "end_time": "2024-06-18T13:01:43.367185",
     "exception": false,
     "start_time": "2024-06-18T13:01:43.365182",
     "status": "completed"
    },
    "tags": []
   },
   "source": [
    "## Apostas do dia"
   ]
  },
  {
   "cell_type": "markdown",
   "id": "b24569b1",
   "metadata": {
    "papermill": {
     "duration": 0.002,
     "end_time": "2024-06-18T13:01:43.371182",
     "exception": false,
     "start_time": "2024-06-18T13:01:43.369182",
     "status": "completed"
    },
    "tags": []
   },
   "source": [
    "### Over v0 (LDA)"
   ]
  },
  {
   "cell_type": "code",
   "execution_count": 9,
   "id": "6f144103",
   "metadata": {
    "execution": {
     "iopub.execute_input": "2024-06-18T13:01:43.376188Z",
     "iopub.status.busy": "2024-06-18T13:01:43.375689Z",
     "iopub.status.idle": "2024-06-18T13:01:43.531137Z",
     "shell.execute_reply": "2024-06-18T13:01:43.530562Z"
    },
    "papermill": {
     "duration": 0.158969,
     "end_time": "2024-06-18T13:01:43.532151",
     "exception": false,
     "start_time": "2024-06-18T13:01:43.373182",
     "status": "completed"
    },
    "tags": []
   },
   "outputs": [
    {
     "name": "stdout",
     "output_type": "stream",
     "text": [
      "------------ MÉTODO OVER V0 (LDA) ------------\n",
      "\n"
     ]
    },
    {
     "data": {
      "text/html": [
       "<div>\n",
       "<style scoped>\n",
       "    .dataframe tbody tr th:only-of-type {\n",
       "        vertical-align: middle;\n",
       "    }\n",
       "\n",
       "    .dataframe tbody tr th {\n",
       "        vertical-align: top;\n",
       "    }\n",
       "\n",
       "    .dataframe thead th {\n",
       "        text-align: right;\n",
       "    }\n",
       "</style>\n",
       "<table border=\"1\" class=\"dataframe\">\n",
       "  <thead>\n",
       "    <tr style=\"text-align: right;\">\n",
       "      <th></th>\n",
       "      <th>Time</th>\n",
       "      <th>League</th>\n",
       "      <th>Home</th>\n",
       "      <th>Away</th>\n",
       "      <th>Over_Line</th>\n",
       "      <th>Odds_Over</th>\n",
       "      <th>prediction_score</th>\n",
       "      <th>Bet</th>\n",
       "    </tr>\n",
       "  </thead>\n",
       "  <tbody>\n",
       "    <tr>\n",
       "      <th>0</th>\n",
       "      <td>21:00</td>\n",
       "      <td>Porto Rico Bsn</td>\n",
       "      <td>Leones De Ponce</td>\n",
       "      <td>Piratas de Quebradillas</td>\n",
       "      <td>165.5</td>\n",
       "      <td>1.85</td>\n",
       "      <td>1.0</td>\n",
       "      <td>Over</td>\n",
       "    </tr>\n",
       "    <tr>\n",
       "      <th>1</th>\n",
       "      <td>21:00</td>\n",
       "      <td>Porto Rico Bsn</td>\n",
       "      <td>Vaqueros de Bayamon</td>\n",
       "      <td>Osos de Manati</td>\n",
       "      <td>174.5</td>\n",
       "      <td>1.85</td>\n",
       "      <td>1.0</td>\n",
       "      <td>Over</td>\n",
       "    </tr>\n",
       "  </tbody>\n",
       "</table>\n",
       "</div>"
      ],
      "text/plain": [
       "    Time          League                 Home                     Away  \\\n",
       "0  21:00  Porto Rico Bsn      Leones De Ponce  Piratas de Quebradillas   \n",
       "1  21:00  Porto Rico Bsn  Vaqueros de Bayamon           Osos de Manati   \n",
       "\n",
       "   Over_Line  Odds_Over  prediction_score   Bet  \n",
       "0      165.5       1.85               1.0  Over  \n",
       "1      174.5       1.85               1.0  Over  "
      ]
     },
     "metadata": {},
     "output_type": "display_data"
    },
    {
     "name": "stdout",
     "output_type": "stream",
     "text": [
      "\n"
     ]
    }
   ],
   "source": [
    "# Duplicando o dataset\n",
    "df_over_v0 = jogos.copy()\n",
    "\n",
    "df_over_v0.reset_index(drop=True, inplace=True)\n",
    "df_over_v0.replace([np.inf, -np.inf], 0, inplace=True)\n",
    "\n",
    "if not df_over_v0.empty:\n",
    "    mdl_over_v0 = load_model('ML/over/v1/v1_over', verbose=False)\n",
    "    prev = predict_model(mdl_over_v0, df_over_v0)\n",
    "    prev = prev[prev['prediction_label'] ==  1]\n",
    "    prev.reset_index(drop=True, inplace=True)\n",
    "    \n",
    "    # Filtros pós modelo\n",
    "\n",
    "    if not prev.empty:\n",
    "        prev.to_csv(f'apostas_do_dia/{data_var}/over_v0_{data_var}.csv', index=False)\n",
    "\n",
    "        print('------------ MÉTODO OVER V0 (LDA) ------------')\n",
    "        print()\n",
    "\n",
    "        prev['Bet'] = 'Over'\n",
    "        ligs = prev['League'].unique().tolist()\n",
    "\n",
    "        display(prev[['Time', 'League', 'Home', 'Away', 'Over_Line', 'Odds_Over', 'prediction_score', 'Bet']])\n",
    "        print()\n",
    "    else: print('Sem jogos')\n",
    "else: print('Sem jogos')"
   ]
  }
 ],
 "metadata": {
  "kernelspec": {
   "display_name": "modelos_futebol",
   "language": "python",
   "name": "python3"
  },
  "language_info": {
   "codemirror_mode": {
    "name": "ipython",
    "version": 3
   },
   "file_extension": ".py",
   "mimetype": "text/x-python",
   "name": "python",
   "nbconvert_exporter": "python",
   "pygments_lexer": "ipython3",
   "version": "3.10.7"
  },
  "papermill": {
   "default_parameters": {},
   "duration": 8.573686,
   "end_time": "2024-06-18T13:01:43.873520",
   "environment_variables": {},
   "exception": null,
   "input_path": "apostas_do_dia_v1.ipynb",
   "output_path": "apostas_do_dia_v1.ipynb",
   "parameters": {
    "data_var": "2024-06-18"
   },
   "start_time": "2024-06-18T13:01:35.299834",
   "version": "2.5.0"
  }
 },
 "nbformat": 4,
 "nbformat_minor": 5
}