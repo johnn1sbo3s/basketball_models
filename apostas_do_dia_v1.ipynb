{
 "cells": [
  {
   "cell_type": "code",
   "execution_count": 1,
   "id": "d690e842",
   "metadata": {
    "execution": {
     "iopub.execute_input": "2024-06-25T13:01:26.625078Z",
     "iopub.status.busy": "2024-06-25T13:01:26.624578Z",
     "iopub.status.idle": "2024-06-25T13:01:26.638078Z",
     "shell.execute_reply": "2024-06-25T13:01:26.637077Z"
    },
    "papermill": {
     "duration": 0.017505,
     "end_time": "2024-06-25T13:01:26.639080",
     "exception": false,
     "start_time": "2024-06-25T13:01:26.621575",
     "status": "completed"
    },
    "tags": [
     "parameters"
    ]
   },
   "outputs": [],
   "source": [
    "data_var = ''"
   ]
  },
  {
   "cell_type": "code",
   "execution_count": 2,
   "id": "c4a96a02",
   "metadata": {
    "execution": {
     "iopub.execute_input": "2024-06-25T13:01:26.644080Z",
     "iopub.status.busy": "2024-06-25T13:01:26.644080Z",
     "iopub.status.idle": "2024-06-25T13:01:26.653080Z",
     "shell.execute_reply": "2024-06-25T13:01:26.652575Z"
    },
    "papermill": {
     "duration": 0.013002,
     "end_time": "2024-06-25T13:01:26.654083",
     "exception": false,
     "start_time": "2024-06-25T13:01:26.641081",
     "status": "completed"
    },
    "tags": [
     "injected-parameters"
    ]
   },
   "outputs": [],
   "source": [
    "# Parameters\n",
    "data_var = \"2024-06-25\"\n"
   ]
  },
  {
   "cell_type": "code",
   "execution_count": 3,
   "id": "25b97174",
   "metadata": {
    "execution": {
     "iopub.execute_input": "2024-06-25T13:01:26.658581Z",
     "iopub.status.busy": "2024-06-25T13:01:26.658082Z",
     "iopub.status.idle": "2024-06-25T13:01:28.273731Z",
     "shell.execute_reply": "2024-06-25T13:01:28.272725Z"
    },
    "papermill": {
     "duration": 1.618645,
     "end_time": "2024-06-25T13:01:28.274728",
     "exception": false,
     "start_time": "2024-06-25T13:01:26.656083",
     "status": "completed"
    },
    "tags": []
   },
   "outputs": [],
   "source": [
    "import pandas as pd; pd.set_option('display.max_columns', None)\n",
    "import os\n",
    "from pycaret.classification import *\n",
    "from scripts.PreparaDataset import *\n",
    "from scripts.TeoriaRetornos import *"
   ]
  },
  {
   "attachments": {},
   "cell_type": "markdown",
   "id": "ffa9b361",
   "metadata": {
    "papermill": {
     "duration": 0.001996,
     "end_time": "2024-06-25T13:01:28.279225",
     "exception": false,
     "start_time": "2024-06-25T13:01:28.277229",
     "status": "completed"
    },
    "tags": []
   },
   "source": [
    "### Funções"
   ]
  },
  {
   "cell_type": "code",
   "execution_count": 4,
   "id": "cb6eea9b",
   "metadata": {
    "execution": {
     "iopub.execute_input": "2024-06-25T13:01:28.284228Z",
     "iopub.status.busy": "2024-06-25T13:01:28.283728Z",
     "iopub.status.idle": "2024-06-25T13:01:28.288556Z",
     "shell.execute_reply": "2024-06-25T13:01:28.288034Z"
    },
    "papermill": {
     "duration": 0.00833,
     "end_time": "2024-06-25T13:01:28.289554",
     "exception": false,
     "start_time": "2024-06-25T13:01:28.281224",
     "status": "completed"
    },
    "tags": []
   },
   "outputs": [],
   "source": [
    "def atualiza_dia(_jogos):\n",
    "    _jogos = prepara_df(_jogos)\n",
    "\n",
    "    _jogos = _jogos.reset_index(drop=True)\n",
    "\n",
    "    return _jogos"
   ]
  },
  {
   "attachments": {},
   "cell_type": "markdown",
   "id": "26b16874",
   "metadata": {
    "papermill": {
     "duration": 0.002002,
     "end_time": "2024-06-25T13:01:28.293553",
     "exception": false,
     "start_time": "2024-06-25T13:01:28.291551",
     "status": "completed"
    },
    "tags": []
   },
   "source": [
    "### Pegando os jogos do dia"
   ]
  },
  {
   "cell_type": "code",
   "execution_count": 5,
   "id": "5ddb2ecb",
   "metadata": {
    "execution": {
     "iopub.execute_input": "2024-06-25T13:01:28.297555Z",
     "iopub.status.busy": "2024-06-25T13:01:28.297555Z",
     "iopub.status.idle": "2024-06-25T13:01:28.320049Z",
     "shell.execute_reply": "2024-06-25T13:01:28.319048Z"
    },
    "papermill": {
     "duration": 0.025996,
     "end_time": "2024-06-25T13:01:28.321050",
     "exception": false,
     "start_time": "2024-06-25T13:01:28.295054",
     "status": "completed"
    },
    "tags": []
   },
   "outputs": [],
   "source": [
    "df_today = pd.read_csv(f'jogos_do_dia/{data_var}.csv')"
   ]
  },
  {
   "cell_type": "markdown",
   "id": "19a2214d",
   "metadata": {
    "papermill": {
     "duration": 0.002002,
     "end_time": "2024-06-25T13:01:28.325049",
     "exception": false,
     "start_time": "2024-06-25T13:01:28.323047",
     "status": "completed"
    },
    "tags": []
   },
   "source": [
    "### Atualizando os datasets que tem jogo hoje"
   ]
  },
  {
   "cell_type": "code",
   "execution_count": 6,
   "id": "68bd72ae",
   "metadata": {
    "execution": {
     "iopub.execute_input": "2024-06-25T13:01:28.329053Z",
     "iopub.status.busy": "2024-06-25T13:01:28.329053Z",
     "iopub.status.idle": "2024-06-25T13:01:28.397056Z",
     "shell.execute_reply": "2024-06-25T13:01:28.396550Z"
    },
    "papermill": {
     "duration": 0.072006,
     "end_time": "2024-06-25T13:01:28.398553",
     "exception": false,
     "start_time": "2024-06-25T13:01:28.326547",
     "status": "completed"
    },
    "tags": []
   },
   "outputs": [],
   "source": [
    "temporada = pd.read_csv('data/Entire_Season.csv')\n",
    "temporada = temporada[temporada['Date'] < data_var]\n",
    "temporada = pd.concat([temporada, df_today])\n",
    "ligas = df_today['League'].unique().tolist()\n",
    "temporada = temporada[temporada['League'].isin(ligas)]\n",
    "temporada.reset_index(drop=True, inplace=True)"
   ]
  },
  {
   "cell_type": "markdown",
   "id": "0d8018ca",
   "metadata": {
    "papermill": {
     "duration": 0.001999,
     "end_time": "2024-06-25T13:01:28.402550",
     "exception": false,
     "start_time": "2024-06-25T13:01:28.400551",
     "status": "completed"
    },
    "tags": []
   },
   "source": [
    "### Cria variáveis na temporada e nos jogos do dia"
   ]
  },
  {
   "cell_type": "code",
   "execution_count": 7,
   "id": "d3b06cb1",
   "metadata": {
    "execution": {
     "iopub.execute_input": "2024-06-25T13:01:28.407555Z",
     "iopub.status.busy": "2024-06-25T13:01:28.407555Z",
     "iopub.status.idle": "2024-06-25T13:01:29.141087Z",
     "shell.execute_reply": "2024-06-25T13:01:29.140583Z"
    },
    "papermill": {
     "duration": 0.738035,
     "end_time": "2024-06-25T13:01:29.142585",
     "exception": false,
     "start_time": "2024-06-25T13:01:28.404550",
     "status": "completed"
    },
    "tags": []
   },
   "outputs": [],
   "source": [
    "games = atualiza_dia(temporada)\n",
    "temporada = games[games['Date'] < data_var]\n",
    "os.makedirs(f'apostas_do_dia/{data_var}', exist_ok=True)"
   ]
  },
  {
   "cell_type": "code",
   "execution_count": 8,
   "id": "16aa533f",
   "metadata": {
    "execution": {
     "iopub.execute_input": "2024-06-25T13:01:29.147088Z",
     "iopub.status.busy": "2024-06-25T13:01:29.147088Z",
     "iopub.status.idle": "2024-06-25T13:01:29.171730Z",
     "shell.execute_reply": "2024-06-25T13:01:29.171230Z"
    },
    "papermill": {
     "duration": 0.028136,
     "end_time": "2024-06-25T13:01:29.172718",
     "exception": false,
     "start_time": "2024-06-25T13:01:29.144582",
     "status": "completed"
    },
    "tags": []
   },
   "outputs": [
    {
     "data": {
      "text/html": [
       "<div>\n",
       "<style scoped>\n",
       "    .dataframe tbody tr th:only-of-type {\n",
       "        vertical-align: middle;\n",
       "    }\n",
       "\n",
       "    .dataframe tbody tr th {\n",
       "        vertical-align: top;\n",
       "    }\n",
       "\n",
       "    .dataframe thead th {\n",
       "        text-align: right;\n",
       "    }\n",
       "</style>\n",
       "<table border=\"1\" class=\"dataframe\">\n",
       "  <thead>\n",
       "    <tr style=\"text-align: right;\">\n",
       "      <th></th>\n",
       "      <th>Date</th>\n",
       "      <th>League</th>\n",
       "      <th>Time</th>\n",
       "      <th>Home</th>\n",
       "      <th>Away</th>\n",
       "      <th>Odds_H</th>\n",
       "      <th>Odds_A</th>\n",
       "      <th>Over_Line</th>\n",
       "      <th>Odds_Over</th>\n",
       "      <th>Odds_Under</th>\n",
       "      <th>HA_Line</th>\n",
       "      <th>HA_Odds_H</th>\n",
       "      <th>HA_Odds_A</th>\n",
       "      <th>Fixture ID</th>\n",
       "      <th>P(H)</th>\n",
       "      <th>P(A)</th>\n",
       "      <th>P(O)</th>\n",
       "      <th>P(U)</th>\n",
       "      <th>P_Diff</th>\n",
       "      <th>Porc_Over_Home</th>\n",
       "      <th>Porc_Over_Away</th>\n",
       "      <th>CustoGolHome</th>\n",
       "      <th>CustoGolAway</th>\n",
       "      <th>Avg_CG_H</th>\n",
       "      <th>DP_CG_H</th>\n",
       "      <th>CV_CG_H</th>\n",
       "      <th>Avg_CG_A</th>\n",
       "      <th>DP_CG_A</th>\n",
       "      <th>CV_CG_A</th>\n",
       "      <th>MediaCustoGolHome</th>\n",
       "      <th>MediaCustoGolAway</th>\n",
       "      <th>Last_CG_H</th>\n",
       "      <th>Last_CG_A</th>\n",
       "      <th>Acima_Last_CG_H</th>\n",
       "      <th>Acima_Last_CG_A</th>\n",
       "      <th>Abaixo_Last_CG_H</th>\n",
       "      <th>Abaixo_Last_CG_A</th>\n",
       "      <th>CV_ML</th>\n",
       "      <th>CV_Over</th>\n",
       "      <th>CV_HA</th>\n",
       "      <th>Retornos_BH_Acu</th>\n",
       "      <th>Avg_Retornos_BH</th>\n",
       "      <th>Custo_Retorno_BH</th>\n",
       "      <th>Avg_Porc_BH_Bookie</th>\n",
       "      <th>Avg_Porc_BH_Real</th>\n",
       "      <th>Dist_Porc_BH</th>\n",
       "      <th>Retornos_BA_Acu</th>\n",
       "      <th>Avg_Retornos_BA</th>\n",
       "      <th>Custo_Retorno_BA</th>\n",
       "      <th>Avg_Porc_BA_Bookie</th>\n",
       "      <th>Avg_Porc_BA_Real</th>\n",
       "      <th>Dist_Porc_BA</th>\n",
       "    </tr>\n",
       "  </thead>\n",
       "  <tbody>\n",
       "    <tr>\n",
       "      <th>305</th>\n",
       "      <td>2024-06-25</td>\n",
       "      <td>Eua Wnba</td>\n",
       "      <td>21:00</td>\n",
       "      <td>New York Liberty F</td>\n",
       "      <td>Minnesota Lynx F</td>\n",
       "      <td>1.44</td>\n",
       "      <td>2.70</td>\n",
       "      <td>161.5</td>\n",
       "      <td>1.81</td>\n",
       "      <td>1.93</td>\n",
       "      <td>-6.5</td>\n",
       "      <td>2.00</td>\n",
       "      <td>4.40</td>\n",
       "      <td>vB79kzhd</td>\n",
       "      <td>0.694444</td>\n",
       "      <td>0.370370</td>\n",
       "      <td>0.552486</td>\n",
       "      <td>0.518135</td>\n",
       "      <td>0.064815</td>\n",
       "      <td>0.0</td>\n",
       "      <td>0.0</td>\n",
       "      <td>NaN</td>\n",
       "      <td>NaN</td>\n",
       "      <td>NaN</td>\n",
       "      <td>NaN</td>\n",
       "      <td>NaN</td>\n",
       "      <td>NaN</td>\n",
       "      <td>NaN</td>\n",
       "      <td>NaN</td>\n",
       "      <td>0.0</td>\n",
       "      <td>0.0</td>\n",
       "      <td>0.00</td>\n",
       "      <td>0.00</td>\n",
       "      <td>0.0</td>\n",
       "      <td>0.0</td>\n",
       "      <td>0.0</td>\n",
       "      <td>0.0</td>\n",
       "      <td>0.430413</td>\n",
       "      <td>0.045376</td>\n",
       "      <td>0.530330</td>\n",
       "      <td>0.0</td>\n",
       "      <td>0.0</td>\n",
       "      <td>inf</td>\n",
       "      <td>0.0</td>\n",
       "      <td>0.0</td>\n",
       "      <td>0.0</td>\n",
       "      <td>0.0</td>\n",
       "      <td>0.0</td>\n",
       "      <td>inf</td>\n",
       "      <td>0.0</td>\n",
       "      <td>0.0</td>\n",
       "      <td>0.0</td>\n",
       "    </tr>\n",
       "    <tr>\n",
       "      <th>306</th>\n",
       "      <td>2024-06-25</td>\n",
       "      <td>Porto Rico Bsn</td>\n",
       "      <td>21:00</td>\n",
       "      <td>San German</td>\n",
       "      <td>Indios de Mayaguez</td>\n",
       "      <td>1.77</td>\n",
       "      <td>1.95</td>\n",
       "      <td>177.5</td>\n",
       "      <td>1.82</td>\n",
       "      <td>1.88</td>\n",
       "      <td>-2.5</td>\n",
       "      <td>1.95</td>\n",
       "      <td>2.37</td>\n",
       "      <td>bHPEGjPn</td>\n",
       "      <td>0.564972</td>\n",
       "      <td>0.512821</td>\n",
       "      <td>0.549451</td>\n",
       "      <td>0.531915</td>\n",
       "      <td>0.077792</td>\n",
       "      <td>0.0</td>\n",
       "      <td>0.0</td>\n",
       "      <td>NaN</td>\n",
       "      <td>NaN</td>\n",
       "      <td>154.256</td>\n",
       "      <td>27.443907</td>\n",
       "      <td>0.177911</td>\n",
       "      <td>NaN</td>\n",
       "      <td>NaN</td>\n",
       "      <td>NaN</td>\n",
       "      <td>0.0</td>\n",
       "      <td>0.0</td>\n",
       "      <td>142.76</td>\n",
       "      <td>145.44</td>\n",
       "      <td>0.0</td>\n",
       "      <td>0.0</td>\n",
       "      <td>0.0</td>\n",
       "      <td>0.0</td>\n",
       "      <td>0.068430</td>\n",
       "      <td>0.022933</td>\n",
       "      <td>0.137493</td>\n",
       "      <td>0.0</td>\n",
       "      <td>0.0</td>\n",
       "      <td>inf</td>\n",
       "      <td>0.0</td>\n",
       "      <td>0.0</td>\n",
       "      <td>0.0</td>\n",
       "      <td>0.0</td>\n",
       "      <td>0.0</td>\n",
       "      <td>inf</td>\n",
       "      <td>0.0</td>\n",
       "      <td>0.0</td>\n",
       "      <td>0.0</td>\n",
       "    </tr>\n",
       "  </tbody>\n",
       "</table>\n",
       "</div>"
      ],
      "text/plain": [
       "           Date          League   Time                Home  \\\n",
       "305  2024-06-25        Eua Wnba  21:00  New York Liberty F   \n",
       "306  2024-06-25  Porto Rico Bsn  21:00          San German   \n",
       "\n",
       "                   Away  Odds_H  Odds_A  Over_Line  Odds_Over  Odds_Under  \\\n",
       "305    Minnesota Lynx F    1.44    2.70      161.5       1.81        1.93   \n",
       "306  Indios de Mayaguez    1.77    1.95      177.5       1.82        1.88   \n",
       "\n",
       "     HA_Line  HA_Odds_H  HA_Odds_A Fixture ID      P(H)      P(A)      P(O)  \\\n",
       "305     -6.5       2.00       4.40   vB79kzhd  0.694444  0.370370  0.552486   \n",
       "306     -2.5       1.95       2.37   bHPEGjPn  0.564972  0.512821  0.549451   \n",
       "\n",
       "         P(U)    P_Diff  Porc_Over_Home  Porc_Over_Away  CustoGolHome  \\\n",
       "305  0.518135  0.064815             0.0             0.0           NaN   \n",
       "306  0.531915  0.077792             0.0             0.0           NaN   \n",
       "\n",
       "     CustoGolAway  Avg_CG_H    DP_CG_H   CV_CG_H  Avg_CG_A  DP_CG_A  CV_CG_A  \\\n",
       "305           NaN       NaN        NaN       NaN       NaN      NaN      NaN   \n",
       "306           NaN   154.256  27.443907  0.177911       NaN      NaN      NaN   \n",
       "\n",
       "     MediaCustoGolHome  MediaCustoGolAway  Last_CG_H  Last_CG_A  \\\n",
       "305                0.0                0.0       0.00       0.00   \n",
       "306                0.0                0.0     142.76     145.44   \n",
       "\n",
       "     Acima_Last_CG_H  Acima_Last_CG_A  Abaixo_Last_CG_H  Abaixo_Last_CG_A  \\\n",
       "305              0.0              0.0               0.0               0.0   \n",
       "306              0.0              0.0               0.0               0.0   \n",
       "\n",
       "        CV_ML   CV_Over     CV_HA  Retornos_BH_Acu  Avg_Retornos_BH  \\\n",
       "305  0.430413  0.045376  0.530330              0.0              0.0   \n",
       "306  0.068430  0.022933  0.137493              0.0              0.0   \n",
       "\n",
       "     Custo_Retorno_BH  Avg_Porc_BH_Bookie  Avg_Porc_BH_Real  Dist_Porc_BH  \\\n",
       "305               inf                 0.0               0.0           0.0   \n",
       "306               inf                 0.0               0.0           0.0   \n",
       "\n",
       "     Retornos_BA_Acu  Avg_Retornos_BA  Custo_Retorno_BA  Avg_Porc_BA_Bookie  \\\n",
       "305              0.0              0.0               inf                 0.0   \n",
       "306              0.0              0.0               inf                 0.0   \n",
       "\n",
       "     Avg_Porc_BA_Real  Dist_Porc_BA  \n",
       "305               0.0           0.0  \n",
       "306               0.0           0.0  "
      ]
     },
     "execution_count": 8,
     "metadata": {},
     "output_type": "execute_result"
    }
   ],
   "source": [
    "jogos = games[games['Date'] == data_var]\n",
    "\n",
    "jogos = jogos.drop(columns=['Home_Pts', 'Away_Pts',\n",
    "       'Back_Home', 'PL_Home', 'Back_Away',\n",
    "       'PL_Away', 'Back_Over', 'PL_Over', 'PL_Under', 'Back_HA_H', 'PL_HA_H',\n",
    "       'PL_HA_A', ])\n",
    "\n",
    "jogos"
   ]
  },
  {
   "attachments": {},
   "cell_type": "markdown",
   "id": "08aa1c88",
   "metadata": {
    "papermill": {
     "duration": 0.002501,
     "end_time": "2024-06-25T13:01:29.177217",
     "exception": false,
     "start_time": "2024-06-25T13:01:29.174716",
     "status": "completed"
    },
    "tags": []
   },
   "source": [
    "## Apostas do dia"
   ]
  },
  {
   "cell_type": "markdown",
   "id": "b24569b1",
   "metadata": {
    "papermill": {
     "duration": 0.002001,
     "end_time": "2024-06-25T13:01:29.180717",
     "exception": false,
     "start_time": "2024-06-25T13:01:29.178716",
     "status": "completed"
    },
    "tags": []
   },
   "source": [
    "### Over v0 (LDA)"
   ]
  },
  {
   "cell_type": "code",
   "execution_count": 9,
   "id": "6f144103",
   "metadata": {
    "execution": {
     "iopub.execute_input": "2024-06-25T13:01:29.185721Z",
     "iopub.status.busy": "2024-06-25T13:01:29.185220Z",
     "iopub.status.idle": "2024-06-25T13:01:29.357723Z",
     "shell.execute_reply": "2024-06-25T13:01:29.356722Z"
    },
    "papermill": {
     "duration": 0.176008,
     "end_time": "2024-06-25T13:01:29.358724",
     "exception": false,
     "start_time": "2024-06-25T13:01:29.182716",
     "status": "completed"
    },
    "tags": []
   },
   "outputs": [
    {
     "name": "stdout",
     "output_type": "stream",
     "text": [
      "------------ MÉTODO OVER V0 (LDA) ------------\n",
      "\n"
     ]
    },
    {
     "data": {
      "text/html": [
       "<div>\n",
       "<style scoped>\n",
       "    .dataframe tbody tr th:only-of-type {\n",
       "        vertical-align: middle;\n",
       "    }\n",
       "\n",
       "    .dataframe tbody tr th {\n",
       "        vertical-align: top;\n",
       "    }\n",
       "\n",
       "    .dataframe thead th {\n",
       "        text-align: right;\n",
       "    }\n",
       "</style>\n",
       "<table border=\"1\" class=\"dataframe\">\n",
       "  <thead>\n",
       "    <tr style=\"text-align: right;\">\n",
       "      <th></th>\n",
       "      <th>Time</th>\n",
       "      <th>League</th>\n",
       "      <th>Home</th>\n",
       "      <th>Away</th>\n",
       "      <th>Over_Line</th>\n",
       "      <th>Odds_Over</th>\n",
       "      <th>prediction_score</th>\n",
       "      <th>Bet</th>\n",
       "    </tr>\n",
       "  </thead>\n",
       "  <tbody>\n",
       "    <tr>\n",
       "      <th>0</th>\n",
       "      <td>21:00</td>\n",
       "      <td>Eua Wnba</td>\n",
       "      <td>New York Liberty F</td>\n",
       "      <td>Minnesota Lynx F</td>\n",
       "      <td>161.5</td>\n",
       "      <td>1.81</td>\n",
       "      <td>1.0</td>\n",
       "      <td>Over</td>\n",
       "    </tr>\n",
       "    <tr>\n",
       "      <th>1</th>\n",
       "      <td>21:00</td>\n",
       "      <td>Porto Rico Bsn</td>\n",
       "      <td>San German</td>\n",
       "      <td>Indios de Mayaguez</td>\n",
       "      <td>177.5</td>\n",
       "      <td>1.82</td>\n",
       "      <td>1.0</td>\n",
       "      <td>Over</td>\n",
       "    </tr>\n",
       "  </tbody>\n",
       "</table>\n",
       "</div>"
      ],
      "text/plain": [
       "    Time          League                Home                Away  Over_Line  \\\n",
       "0  21:00        Eua Wnba  New York Liberty F    Minnesota Lynx F      161.5   \n",
       "1  21:00  Porto Rico Bsn          San German  Indios de Mayaguez      177.5   \n",
       "\n",
       "   Odds_Over  prediction_score   Bet  \n",
       "0       1.81               1.0  Over  \n",
       "1       1.82               1.0  Over  "
      ]
     },
     "metadata": {},
     "output_type": "display_data"
    },
    {
     "name": "stdout",
     "output_type": "stream",
     "text": [
      "\n"
     ]
    }
   ],
   "source": [
    "# Duplicando o dataset\n",
    "df_over_v0 = jogos.copy()\n",
    "\n",
    "df_over_v0.reset_index(drop=True, inplace=True)\n",
    "df_over_v0.replace([np.inf, -np.inf], 0, inplace=True)\n",
    "\n",
    "if not df_over_v0.empty:\n",
    "    mdl_over_v0 = load_model('ML/over/v1/v1_over', verbose=False)\n",
    "    prev = predict_model(mdl_over_v0, df_over_v0)\n",
    "    prev = prev[prev['prediction_label'] ==  1]\n",
    "    prev.reset_index(drop=True, inplace=True)\n",
    "    \n",
    "    # Filtros pós modelo\n",
    "\n",
    "    if not prev.empty:\n",
    "        prev.to_csv(f'apostas_do_dia/{data_var}/over_v0_{data_var}.csv', index=False)\n",
    "\n",
    "        print('------------ MÉTODO OVER V0 (LDA) ------------')\n",
    "        print()\n",
    "\n",
    "        prev['Bet'] = 'Over'\n",
    "        ligs = prev['League'].unique().tolist()\n",
    "\n",
    "        display(prev[['Time', 'League', 'Home', 'Away', 'Over_Line', 'Odds_Over', 'prediction_score', 'Bet']])\n",
    "        print()\n",
    "    else: print('Sem jogos')\n",
    "else: print('Sem jogos')"
   ]
  }
 ],
 "metadata": {
  "kernelspec": {
   "display_name": "modelos_futebol",
   "language": "python",
   "name": "python3"
  },
  "language_info": {
   "codemirror_mode": {
    "name": "ipython",
    "version": 3
   },
   "file_extension": ".py",
   "mimetype": "text/x-python",
   "name": "python",
   "nbconvert_exporter": "python",
   "pygments_lexer": "ipython3",
   "version": "3.10.7"
  },
  "papermill": {
   "default_parameters": {},
   "duration": 4.401054,
   "end_time": "2024-06-25T13:01:29.714612",
   "environment_variables": {},
   "exception": null,
   "input_path": "apostas_do_dia_v1.ipynb",
   "output_path": "apostas_do_dia_v1.ipynb",
   "parameters": {
    "data_var": "2024-06-25"
   },
   "start_time": "2024-06-25T13:01:25.313558",
   "version": "2.5.0"
  }
 },
 "nbformat": 4,
 "nbformat_minor": 5
}