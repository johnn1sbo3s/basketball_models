{
 "cells": [
  {
   "cell_type": "code",
   "execution_count": 1,
   "id": "d690e842",
   "metadata": {
    "execution": {
     "iopub.execute_input": "2024-08-09T11:30:39.520549Z",
     "iopub.status.busy": "2024-08-09T11:30:39.520051Z",
     "iopub.status.idle": "2024-08-09T11:30:39.533059Z",
     "shell.execute_reply": "2024-08-09T11:30:39.532556Z"
    },
    "papermill": {
     "duration": 0.016872,
     "end_time": "2024-08-09T11:30:39.534059",
     "exception": false,
     "start_time": "2024-08-09T11:30:39.517187",
     "status": "completed"
    },
    "tags": [
     "parameters"
    ]
   },
   "outputs": [],
   "source": [
    "data_var = ''"
   ]
  },
  {
   "cell_type": "code",
   "execution_count": 2,
   "id": "6d8eadc3",
   "metadata": {
    "execution": {
     "iopub.execute_input": "2024-08-09T11:30:39.539182Z",
     "iopub.status.busy": "2024-08-09T11:30:39.538683Z",
     "iopub.status.idle": "2024-08-09T11:30:39.548783Z",
     "shell.execute_reply": "2024-08-09T11:30:39.548184Z"
    },
    "papermill": {
     "duration": 0.014221,
     "end_time": "2024-08-09T11:30:39.550280",
     "exception": false,
     "start_time": "2024-08-09T11:30:39.536059",
     "status": "completed"
    },
    "tags": [
     "injected-parameters"
    ]
   },
   "outputs": [],
   "source": [
    "# Parameters\n",
    "data_var = \"2024-08-09\"\n"
   ]
  },
  {
   "cell_type": "code",
   "execution_count": 3,
   "id": "25b97174",
   "metadata": {
    "execution": {
     "iopub.execute_input": "2024-08-09T11:30:39.555279Z",
     "iopub.status.busy": "2024-08-09T11:30:39.554781Z",
     "iopub.status.idle": "2024-08-09T11:30:45.942587Z",
     "shell.execute_reply": "2024-08-09T11:30:45.942084Z"
    },
    "papermill": {
     "duration": 6.391806,
     "end_time": "2024-08-09T11:30:45.944086",
     "exception": false,
     "start_time": "2024-08-09T11:30:39.552280",
     "status": "completed"
    },
    "tags": []
   },
   "outputs": [],
   "source": [
    "import pandas as pd; pd.set_option('display.max_columns', None)\n",
    "import os\n",
    "from pycaret.classification import *\n",
    "from scripts.PreparaDataset import *\n",
    "from scripts.TeoriaRetornos import *"
   ]
  },
  {
   "attachments": {},
   "cell_type": "markdown",
   "id": "ffa9b361",
   "metadata": {
    "papermill": {
     "duration": 0.002,
     "end_time": "2024-08-09T11:30:45.948084",
     "exception": false,
     "start_time": "2024-08-09T11:30:45.946084",
     "status": "completed"
    },
    "tags": []
   },
   "source": [
    "### Funções"
   ]
  },
  {
   "cell_type": "code",
   "execution_count": 4,
   "id": "cb6eea9b",
   "metadata": {
    "execution": {
     "iopub.execute_input": "2024-08-09T11:30:45.953084Z",
     "iopub.status.busy": "2024-08-09T11:30:45.952584Z",
     "iopub.status.idle": "2024-08-09T11:30:45.958083Z",
     "shell.execute_reply": "2024-08-09T11:30:45.957643Z"
    },
    "papermill": {
     "duration": 0.009498,
     "end_time": "2024-08-09T11:30:45.959582",
     "exception": false,
     "start_time": "2024-08-09T11:30:45.950084",
     "status": "completed"
    },
    "tags": []
   },
   "outputs": [],
   "source": [
    "def atualiza_dia(_jogos):\n",
    "    _jogos = prepara_df(_jogos)\n",
    "\n",
    "    _jogos = _jogos.reset_index(drop=True)\n",
    "\n",
    "    return _jogos"
   ]
  },
  {
   "attachments": {},
   "cell_type": "markdown",
   "id": "26b16874",
   "metadata": {
    "papermill": {
     "duration": 0.001998,
     "end_time": "2024-08-09T11:30:45.963582",
     "exception": false,
     "start_time": "2024-08-09T11:30:45.961584",
     "status": "completed"
    },
    "tags": []
   },
   "source": [
    "### Pegando os jogos do dia"
   ]
  },
  {
   "cell_type": "code",
   "execution_count": 5,
   "id": "5ddb2ecb",
   "metadata": {
    "execution": {
     "iopub.execute_input": "2024-08-09T11:30:45.968584Z",
     "iopub.status.busy": "2024-08-09T11:30:45.968084Z",
     "iopub.status.idle": "2024-08-09T11:30:45.989590Z",
     "shell.execute_reply": "2024-08-09T11:30:45.988584Z"
    },
    "papermill": {
     "duration": 0.025508,
     "end_time": "2024-08-09T11:30:45.991090",
     "exception": false,
     "start_time": "2024-08-09T11:30:45.965582",
     "status": "completed"
    },
    "tags": []
   },
   "outputs": [],
   "source": [
    "df_today = pd.read_csv(f'jogos_do_dia/{data_var}.csv')"
   ]
  },
  {
   "cell_type": "markdown",
   "id": "19a2214d",
   "metadata": {
    "papermill": {
     "duration": 0.001998,
     "end_time": "2024-08-09T11:30:45.995590",
     "exception": false,
     "start_time": "2024-08-09T11:30:45.993592",
     "status": "completed"
    },
    "tags": []
   },
   "source": [
    "### Atualizando os datasets que tem jogo hoje"
   ]
  },
  {
   "cell_type": "code",
   "execution_count": 6,
   "id": "68bd72ae",
   "metadata": {
    "execution": {
     "iopub.execute_input": "2024-08-09T11:30:46.000597Z",
     "iopub.status.busy": "2024-08-09T11:30:46.000095Z",
     "iopub.status.idle": "2024-08-09T11:30:46.082601Z",
     "shell.execute_reply": "2024-08-09T11:30:46.081604Z"
    },
    "papermill": {
     "duration": 0.086006,
     "end_time": "2024-08-09T11:30:46.083602",
     "exception": false,
     "start_time": "2024-08-09T11:30:45.997596",
     "status": "completed"
    },
    "tags": []
   },
   "outputs": [],
   "source": [
    "temporada = pd.read_csv('data/Entire_Season.csv')\n",
    "temporada = temporada[temporada['Date'] < data_var]\n",
    "temporada = pd.concat([temporada, df_today])\n",
    "ligas = df_today['League'].unique().tolist()\n",
    "temporada = temporada[temporada['League'].isin(ligas)]\n",
    "temporada.reset_index(drop=True, inplace=True)"
   ]
  },
  {
   "cell_type": "markdown",
   "id": "0d8018ca",
   "metadata": {
    "papermill": {
     "duration": 0.0025,
     "end_time": "2024-08-09T11:30:46.088602",
     "exception": false,
     "start_time": "2024-08-09T11:30:46.086102",
     "status": "completed"
    },
    "tags": []
   },
   "source": [
    "### Cria variáveis na temporada e nos jogos do dia"
   ]
  },
  {
   "cell_type": "code",
   "execution_count": 7,
   "id": "d3b06cb1",
   "metadata": {
    "execution": {
     "iopub.execute_input": "2024-08-09T11:30:46.096118Z",
     "iopub.status.busy": "2024-08-09T11:30:46.095115Z",
     "iopub.status.idle": "2024-08-09T11:30:46.299150Z",
     "shell.execute_reply": "2024-08-09T11:30:46.298648Z"
    },
    "papermill": {
     "duration": 0.209536,
     "end_time": "2024-08-09T11:30:46.300651",
     "exception": false,
     "start_time": "2024-08-09T11:30:46.091115",
     "status": "completed"
    },
    "tags": []
   },
   "outputs": [],
   "source": [
    "games = atualiza_dia(temporada)\n",
    "temporada = games[games['Date'] < data_var]\n",
    "os.makedirs(f'apostas_do_dia/{data_var}', exist_ok=True)"
   ]
  },
  {
   "cell_type": "code",
   "execution_count": 8,
   "id": "16aa533f",
   "metadata": {
    "execution": {
     "iopub.execute_input": "2024-08-09T11:30:46.305666Z",
     "iopub.status.busy": "2024-08-09T11:30:46.305666Z",
     "iopub.status.idle": "2024-08-09T11:30:46.346166Z",
     "shell.execute_reply": "2024-08-09T11:30:46.345166Z"
    },
    "papermill": {
     "duration": 0.044517,
     "end_time": "2024-08-09T11:30:46.347166",
     "exception": false,
     "start_time": "2024-08-09T11:30:46.302649",
     "status": "completed"
    },
    "tags": []
   },
   "outputs": [
    {
     "data": {
      "text/html": [
       "<div>\n",
       "<style scoped>\n",
       "    .dataframe tbody tr th:only-of-type {\n",
       "        vertical-align: middle;\n",
       "    }\n",
       "\n",
       "    .dataframe tbody tr th {\n",
       "        vertical-align: top;\n",
       "    }\n",
       "\n",
       "    .dataframe thead th {\n",
       "        text-align: right;\n",
       "    }\n",
       "</style>\n",
       "<table border=\"1\" class=\"dataframe\">\n",
       "  <thead>\n",
       "    <tr style=\"text-align: right;\">\n",
       "      <th></th>\n",
       "      <th>Date</th>\n",
       "      <th>League</th>\n",
       "      <th>Time</th>\n",
       "      <th>Home</th>\n",
       "      <th>Away</th>\n",
       "      <th>Odds_H</th>\n",
       "      <th>Odds_A</th>\n",
       "      <th>Over_Line</th>\n",
       "      <th>Odds_Over</th>\n",
       "      <th>Odds_Under</th>\n",
       "      <th>HA_Line</th>\n",
       "      <th>HA_Odds_H</th>\n",
       "      <th>HA_Odds_A</th>\n",
       "      <th>Fixture ID</th>\n",
       "      <th>P(H)</th>\n",
       "      <th>P(A)</th>\n",
       "      <th>P(O)</th>\n",
       "      <th>P(U)</th>\n",
       "      <th>P_Diff</th>\n",
       "      <th>Porc_Over_Home</th>\n",
       "      <th>Porc_Over_Away</th>\n",
       "      <th>CustoGolHome</th>\n",
       "      <th>CustoGolAway</th>\n",
       "      <th>Avg_CG_H</th>\n",
       "      <th>DP_CG_H</th>\n",
       "      <th>CV_CG_H</th>\n",
       "      <th>Avg_CG_A</th>\n",
       "      <th>DP_CG_A</th>\n",
       "      <th>CV_CG_A</th>\n",
       "      <th>MediaCustoGolHome</th>\n",
       "      <th>MediaCustoGolAway</th>\n",
       "      <th>Last_CG_H</th>\n",
       "      <th>Last_CG_A</th>\n",
       "      <th>Acima_Last_CG_H</th>\n",
       "      <th>Acima_Last_CG_A</th>\n",
       "      <th>Abaixo_Last_CG_H</th>\n",
       "      <th>Abaixo_Last_CG_A</th>\n",
       "      <th>CV_ML</th>\n",
       "      <th>CV_Over</th>\n",
       "      <th>CV_HA</th>\n",
       "      <th>Retornos_BH_Acu</th>\n",
       "      <th>Avg_Retornos_BH</th>\n",
       "      <th>Custo_Retorno_BH</th>\n",
       "      <th>Avg_Porc_BH_Bookie</th>\n",
       "      <th>Avg_Porc_BH_Real</th>\n",
       "      <th>Dist_Porc_BH</th>\n",
       "      <th>Retornos_BA_Acu</th>\n",
       "      <th>Avg_Retornos_BA</th>\n",
       "      <th>Custo_Retorno_BA</th>\n",
       "      <th>Avg_Porc_BA_Bookie</th>\n",
       "      <th>Avg_Porc_BA_Real</th>\n",
       "      <th>Dist_Porc_BA</th>\n",
       "    </tr>\n",
       "  </thead>\n",
       "  <tbody>\n",
       "    <tr>\n",
       "      <th>79</th>\n",
       "      <td>2024-08-09</td>\n",
       "      <td>Mundo Jogos Olímpicos</td>\n",
       "      <td>16:00</td>\n",
       "      <td>França F</td>\n",
       "      <td>Bélgica F</td>\n",
       "      <td>1.53</td>\n",
       "      <td>2.59</td>\n",
       "      <td>143.5</td>\n",
       "      <td>1.88</td>\n",
       "      <td>1.90</td>\n",
       "      <td>-4.5</td>\n",
       "      <td>1.87</td>\n",
       "      <td>3.10</td>\n",
       "      <td>dCVHfUY1</td>\n",
       "      <td>0.653595</td>\n",
       "      <td>0.386100</td>\n",
       "      <td>0.531915</td>\n",
       "      <td>0.526316</td>\n",
       "      <td>0.039695</td>\n",
       "      <td>0.0</td>\n",
       "      <td>0.0</td>\n",
       "      <td>NaN</td>\n",
       "      <td>NaN</td>\n",
       "      <td>NaN</td>\n",
       "      <td>NaN</td>\n",
       "      <td>NaN</td>\n",
       "      <td>NaN</td>\n",
       "      <td>NaN</td>\n",
       "      <td>NaN</td>\n",
       "      <td>0.0</td>\n",
       "      <td>0.0</td>\n",
       "      <td>376.38</td>\n",
       "      <td>111.39</td>\n",
       "      <td>1.0</td>\n",
       "      <td>0.0</td>\n",
       "      <td>0.0</td>\n",
       "      <td>0.0</td>\n",
       "      <td>0.363851</td>\n",
       "      <td>0.007483</td>\n",
       "      <td>0.349997</td>\n",
       "      <td>0.0</td>\n",
       "      <td>0.0</td>\n",
       "      <td>inf</td>\n",
       "      <td>0.0</td>\n",
       "      <td>0.0</td>\n",
       "      <td>0.0</td>\n",
       "      <td>0.0</td>\n",
       "      <td>0.0</td>\n",
       "      <td>inf</td>\n",
       "      <td>0.0</td>\n",
       "      <td>0.0</td>\n",
       "      <td>0.0</td>\n",
       "    </tr>\n",
       "    <tr>\n",
       "      <th>80</th>\n",
       "      <td>2024-08-09</td>\n",
       "      <td>México Lnbp</td>\n",
       "      <td>00:00</td>\n",
       "      <td>Soles</td>\n",
       "      <td>Diablos Rojos</td>\n",
       "      <td>3.02</td>\n",
       "      <td>1.35</td>\n",
       "      <td>161.5</td>\n",
       "      <td>1.86</td>\n",
       "      <td>1.84</td>\n",
       "      <td>6.5</td>\n",
       "      <td>1.83</td>\n",
       "      <td>1.24</td>\n",
       "      <td>fg8AtCrI</td>\n",
       "      <td>0.331126</td>\n",
       "      <td>0.740741</td>\n",
       "      <td>0.537634</td>\n",
       "      <td>0.543478</td>\n",
       "      <td>0.071867</td>\n",
       "      <td>0.0</td>\n",
       "      <td>0.0</td>\n",
       "      <td>NaN</td>\n",
       "      <td>NaN</td>\n",
       "      <td>NaN</td>\n",
       "      <td>NaN</td>\n",
       "      <td>NaN</td>\n",
       "      <td>NaN</td>\n",
       "      <td>NaN</td>\n",
       "      <td>NaN</td>\n",
       "      <td>0.0</td>\n",
       "      <td>0.0</td>\n",
       "      <td>0.00</td>\n",
       "      <td>0.00</td>\n",
       "      <td>0.0</td>\n",
       "      <td>0.0</td>\n",
       "      <td>0.0</td>\n",
       "      <td>0.0</td>\n",
       "      <td>0.540443</td>\n",
       "      <td>0.007644</td>\n",
       "      <td>0.271787</td>\n",
       "      <td>0.0</td>\n",
       "      <td>0.0</td>\n",
       "      <td>inf</td>\n",
       "      <td>0.0</td>\n",
       "      <td>0.0</td>\n",
       "      <td>0.0</td>\n",
       "      <td>0.0</td>\n",
       "      <td>0.0</td>\n",
       "      <td>inf</td>\n",
       "      <td>0.0</td>\n",
       "      <td>0.0</td>\n",
       "      <td>0.0</td>\n",
       "    </tr>\n",
       "  </tbody>\n",
       "</table>\n",
       "</div>"
      ],
      "text/plain": [
       "          Date                 League   Time      Home           Away  Odds_H  \\\n",
       "79  2024-08-09  Mundo Jogos Olímpicos  16:00  França F      Bélgica F    1.53   \n",
       "80  2024-08-09            México Lnbp  00:00     Soles  Diablos Rojos    3.02   \n",
       "\n",
       "    Odds_A  Over_Line  Odds_Over  Odds_Under  HA_Line  HA_Odds_H  HA_Odds_A  \\\n",
       "79    2.59      143.5       1.88        1.90     -4.5       1.87       3.10   \n",
       "80    1.35      161.5       1.86        1.84      6.5       1.83       1.24   \n",
       "\n",
       "   Fixture ID      P(H)      P(A)      P(O)      P(U)    P_Diff  \\\n",
       "79   dCVHfUY1  0.653595  0.386100  0.531915  0.526316  0.039695   \n",
       "80   fg8AtCrI  0.331126  0.740741  0.537634  0.543478  0.071867   \n",
       "\n",
       "    Porc_Over_Home  Porc_Over_Away  CustoGolHome  CustoGolAway  Avg_CG_H  \\\n",
       "79             0.0             0.0           NaN           NaN       NaN   \n",
       "80             0.0             0.0           NaN           NaN       NaN   \n",
       "\n",
       "    DP_CG_H  CV_CG_H  Avg_CG_A  DP_CG_A  CV_CG_A  MediaCustoGolHome  \\\n",
       "79      NaN      NaN       NaN      NaN      NaN                0.0   \n",
       "80      NaN      NaN       NaN      NaN      NaN                0.0   \n",
       "\n",
       "    MediaCustoGolAway  Last_CG_H  Last_CG_A  Acima_Last_CG_H  Acima_Last_CG_A  \\\n",
       "79                0.0     376.38     111.39              1.0              0.0   \n",
       "80                0.0       0.00       0.00              0.0              0.0   \n",
       "\n",
       "    Abaixo_Last_CG_H  Abaixo_Last_CG_A     CV_ML   CV_Over     CV_HA  \\\n",
       "79               0.0               0.0  0.363851  0.007483  0.349997   \n",
       "80               0.0               0.0  0.540443  0.007644  0.271787   \n",
       "\n",
       "    Retornos_BH_Acu  Avg_Retornos_BH  Custo_Retorno_BH  Avg_Porc_BH_Bookie  \\\n",
       "79              0.0              0.0               inf                 0.0   \n",
       "80              0.0              0.0               inf                 0.0   \n",
       "\n",
       "    Avg_Porc_BH_Real  Dist_Porc_BH  Retornos_BA_Acu  Avg_Retornos_BA  \\\n",
       "79               0.0           0.0              0.0              0.0   \n",
       "80               0.0           0.0              0.0              0.0   \n",
       "\n",
       "    Custo_Retorno_BA  Avg_Porc_BA_Bookie  Avg_Porc_BA_Real  Dist_Porc_BA  \n",
       "79               inf                 0.0               0.0           0.0  \n",
       "80               inf                 0.0               0.0           0.0  "
      ]
     },
     "execution_count": 8,
     "metadata": {},
     "output_type": "execute_result"
    }
   ],
   "source": [
    "jogos = games[games['Date'] == data_var]\n",
    "\n",
    "jogos = jogos.drop(columns=['Home_Pts', 'Away_Pts',\n",
    "       'Back_Home', 'PL_Home', 'Back_Away',\n",
    "       'PL_Away', 'Back_Over', 'PL_Over', 'PL_Under', 'Back_HA_H', 'PL_HA_H',\n",
    "       'PL_HA_A', ])\n",
    "\n",
    "jogos"
   ]
  },
  {
   "attachments": {},
   "cell_type": "markdown",
   "id": "08aa1c88",
   "metadata": {
    "papermill": {
     "duration": 0.002499,
     "end_time": "2024-08-09T11:30:46.352165",
     "exception": false,
     "start_time": "2024-08-09T11:30:46.349666",
     "status": "completed"
    },
    "tags": []
   },
   "source": [
    "## Apostas do dia"
   ]
  },
  {
   "cell_type": "markdown",
   "id": "b24569b1",
   "metadata": {
    "papermill": {
     "duration": 0.002498,
     "end_time": "2024-08-09T11:30:46.357163",
     "exception": false,
     "start_time": "2024-08-09T11:30:46.354665",
     "status": "completed"
    },
    "tags": []
   },
   "source": [
    "### Over v0 (LDA)"
   ]
  },
  {
   "cell_type": "code",
   "execution_count": 9,
   "id": "6f144103",
   "metadata": {
    "execution": {
     "iopub.execute_input": "2024-08-09T11:30:46.364165Z",
     "iopub.status.busy": "2024-08-09T11:30:46.364165Z",
     "iopub.status.idle": "2024-08-09T11:30:46.593036Z",
     "shell.execute_reply": "2024-08-09T11:30:46.592535Z"
    },
    "papermill": {
     "duration": 0.233874,
     "end_time": "2024-08-09T11:30:46.594540",
     "exception": false,
     "start_time": "2024-08-09T11:30:46.360666",
     "status": "completed"
    },
    "tags": []
   },
   "outputs": [
    {
     "name": "stdout",
     "output_type": "stream",
     "text": [
      "------------ MÉTODO OVER V0 (LDA) ------------\n",
      "\n"
     ]
    },
    {
     "data": {
      "text/html": [
       "<div>\n",
       "<style scoped>\n",
       "    .dataframe tbody tr th:only-of-type {\n",
       "        vertical-align: middle;\n",
       "    }\n",
       "\n",
       "    .dataframe tbody tr th {\n",
       "        vertical-align: top;\n",
       "    }\n",
       "\n",
       "    .dataframe thead th {\n",
       "        text-align: right;\n",
       "    }\n",
       "</style>\n",
       "<table border=\"1\" class=\"dataframe\">\n",
       "  <thead>\n",
       "    <tr style=\"text-align: right;\">\n",
       "      <th></th>\n",
       "      <th>Time</th>\n",
       "      <th>League</th>\n",
       "      <th>Home</th>\n",
       "      <th>Away</th>\n",
       "      <th>Over_Line</th>\n",
       "      <th>Odds_Over</th>\n",
       "      <th>prediction_score</th>\n",
       "      <th>Bet</th>\n",
       "    </tr>\n",
       "  </thead>\n",
       "  <tbody>\n",
       "    <tr>\n",
       "      <th>0</th>\n",
       "      <td>16:00</td>\n",
       "      <td>Mundo Jogos Olímpicos</td>\n",
       "      <td>França F</td>\n",
       "      <td>Bélgica F</td>\n",
       "      <td>143.5</td>\n",
       "      <td>1.88</td>\n",
       "      <td>1.0</td>\n",
       "      <td>Over</td>\n",
       "    </tr>\n",
       "  </tbody>\n",
       "</table>\n",
       "</div>"
      ],
      "text/plain": [
       "    Time                 League      Home       Away  Over_Line  Odds_Over  \\\n",
       "0  16:00  Mundo Jogos Olímpicos  França F  Bélgica F      143.5       1.88   \n",
       "\n",
       "   prediction_score   Bet  \n",
       "0               1.0  Over  "
      ]
     },
     "metadata": {},
     "output_type": "display_data"
    },
    {
     "name": "stdout",
     "output_type": "stream",
     "text": [
      "\n"
     ]
    }
   ],
   "source": [
    "# Duplicando o dataset\n",
    "df_over_v0 = jogos.copy()\n",
    "\n",
    "df_over_v0.reset_index(drop=True, inplace=True)\n",
    "df_over_v0.replace([np.inf, -np.inf], 0, inplace=True)\n",
    "\n",
    "if not df_over_v0.empty:\n",
    "    mdl_over_v0 = load_model('ML/over/v1/v1_over', verbose=False)\n",
    "    prev = predict_model(mdl_over_v0, df_over_v0)\n",
    "    prev = prev[prev['prediction_label'] ==  1]\n",
    "    prev.reset_index(drop=True, inplace=True)\n",
    "    \n",
    "    # Filtros pós modelo\n",
    "\n",
    "    if not prev.empty:\n",
    "        prev.to_csv(f'apostas_do_dia/{data_var}/over_v0_{data_var}.csv', index=False)\n",
    "\n",
    "        print('------------ MÉTODO OVER V0 (LDA) ------------')\n",
    "        print()\n",
    "\n",
    "        prev['Bet'] = 'Over'\n",
    "        ligs = prev['League'].unique().tolist()\n",
    "\n",
    "        display(prev[['Time', 'League', 'Home', 'Away', 'Over_Line', 'Odds_Over', 'prediction_score', 'Bet']])\n",
    "        print()\n",
    "    else: print('Sem jogos')\n",
    "else: print('Sem jogos')"
   ]
  }
 ],
 "metadata": {
  "kernelspec": {
   "display_name": "modelos_futebol",
   "language": "python",
   "name": "python3"
  },
  "language_info": {
   "codemirror_mode": {
    "name": "ipython",
    "version": 3
   },
   "file_extension": ".py",
   "mimetype": "text/x-python",
   "name": "python",
   "nbconvert_exporter": "python",
   "pygments_lexer": "ipython3",
   "version": "3.10.7"
  },
  "papermill": {
   "default_parameters": {},
   "duration": 8.819006,
   "end_time": "2024-08-09T11:30:47.057097",
   "environment_variables": {},
   "exception": null,
   "input_path": "apostas_do_dia_v1.ipynb",
   "output_path": "apostas_do_dia_v1.ipynb",
   "parameters": {
    "data_var": "2024-08-09"
   },
   "start_time": "2024-08-09T11:30:38.238091",
   "version": "2.5.0"
  }
 },
 "nbformat": 4,
 "nbformat_minor": 5
}