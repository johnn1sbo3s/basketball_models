{
 "cells": [
  {
   "cell_type": "code",
   "execution_count": 1,
   "id": "d690e842",
   "metadata": {
    "execution": {
     "iopub.execute_input": "2024-06-19T13:02:45.468485Z",
     "iopub.status.busy": "2024-06-19T13:02:45.467984Z",
     "iopub.status.idle": "2024-06-19T13:02:45.481402Z",
     "shell.execute_reply": "2024-06-19T13:02:45.480371Z"
    },
    "papermill": {
     "duration": 0.017459,
     "end_time": "2024-06-19T13:02:45.482403",
     "exception": false,
     "start_time": "2024-06-19T13:02:45.464944",
     "status": "completed"
    },
    "tags": [
     "parameters"
    ]
   },
   "outputs": [],
   "source": [
    "data_var = ''"
   ]
  },
  {
   "cell_type": "code",
   "execution_count": 2,
   "id": "2ce31431",
   "metadata": {
    "execution": {
     "iopub.execute_input": "2024-06-19T13:02:45.487900Z",
     "iopub.status.busy": "2024-06-19T13:02:45.487404Z",
     "iopub.status.idle": "2024-06-19T13:02:45.496700Z",
     "shell.execute_reply": "2024-06-19T13:02:45.496180Z"
    },
    "papermill": {
     "duration": 0.012799,
     "end_time": "2024-06-19T13:02:45.497702",
     "exception": false,
     "start_time": "2024-06-19T13:02:45.484903",
     "status": "completed"
    },
    "tags": [
     "injected-parameters"
    ]
   },
   "outputs": [],
   "source": [
    "# Parameters\n",
    "data_var = \"2024-06-19\"\n"
   ]
  },
  {
   "cell_type": "code",
   "execution_count": 3,
   "id": "25b97174",
   "metadata": {
    "execution": {
     "iopub.execute_input": "2024-06-19T13:02:45.502200Z",
     "iopub.status.busy": "2024-06-19T13:02:45.502200Z",
     "iopub.status.idle": "2024-06-19T13:02:47.083874Z",
     "shell.execute_reply": "2024-06-19T13:02:47.083371Z"
    },
    "papermill": {
     "duration": 1.585674,
     "end_time": "2024-06-19T13:02:47.085375",
     "exception": false,
     "start_time": "2024-06-19T13:02:45.499701",
     "status": "completed"
    },
    "tags": []
   },
   "outputs": [],
   "source": [
    "import pandas as pd; pd.set_option('display.max_columns', None)\n",
    "import os\n",
    "from pycaret.classification import *\n",
    "from scripts.PreparaDataset import *\n",
    "from scripts.TeoriaRetornos import *"
   ]
  },
  {
   "attachments": {},
   "cell_type": "markdown",
   "id": "ffa9b361",
   "metadata": {
    "papermill": {
     "duration": 0.001999,
     "end_time": "2024-06-19T13:02:47.089371",
     "exception": false,
     "start_time": "2024-06-19T13:02:47.087372",
     "status": "completed"
    },
    "tags": []
   },
   "source": [
    "### Funções"
   ]
  },
  {
   "cell_type": "code",
   "execution_count": 4,
   "id": "cb6eea9b",
   "metadata": {
    "execution": {
     "iopub.execute_input": "2024-06-19T13:02:47.093871Z",
     "iopub.status.busy": "2024-06-19T13:02:47.093871Z",
     "iopub.status.idle": "2024-06-19T13:02:47.099069Z",
     "shell.execute_reply": "2024-06-19T13:02:47.098551Z"
    },
    "papermill": {
     "duration": 0.009202,
     "end_time": "2024-06-19T13:02:47.100072",
     "exception": false,
     "start_time": "2024-06-19T13:02:47.090870",
     "status": "completed"
    },
    "tags": []
   },
   "outputs": [],
   "source": [
    "def atualiza_dia(_jogos):\n",
    "    _jogos = prepara_df(_jogos)\n",
    "\n",
    "    _jogos = _jogos.reset_index(drop=True)\n",
    "\n",
    "    return _jogos"
   ]
  },
  {
   "attachments": {},
   "cell_type": "markdown",
   "id": "26b16874",
   "metadata": {
    "papermill": {
     "duration": 0.001496,
     "end_time": "2024-06-19T13:02:47.103568",
     "exception": false,
     "start_time": "2024-06-19T13:02:47.102072",
     "status": "completed"
    },
    "tags": []
   },
   "source": [
    "### Pegando os jogos do dia"
   ]
  },
  {
   "cell_type": "code",
   "execution_count": 5,
   "id": "5ddb2ecb",
   "metadata": {
    "execution": {
     "iopub.execute_input": "2024-06-19T13:02:47.107572Z",
     "iopub.status.busy": "2024-06-19T13:02:47.107572Z",
     "iopub.status.idle": "2024-06-19T13:02:47.130175Z",
     "shell.execute_reply": "2024-06-19T13:02:47.129675Z"
    },
    "papermill": {
     "duration": 0.026607,
     "end_time": "2024-06-19T13:02:47.131675",
     "exception": false,
     "start_time": "2024-06-19T13:02:47.105068",
     "status": "completed"
    },
    "tags": []
   },
   "outputs": [],
   "source": [
    "df_today = pd.read_csv(f'jogos_do_dia/{data_var}.csv')"
   ]
  },
  {
   "cell_type": "markdown",
   "id": "19a2214d",
   "metadata": {
    "papermill": {
     "duration": 0.001502,
     "end_time": "2024-06-19T13:02:47.135176",
     "exception": false,
     "start_time": "2024-06-19T13:02:47.133674",
     "status": "completed"
    },
    "tags": []
   },
   "source": [
    "### Atualizando os datasets que tem jogo hoje"
   ]
  },
  {
   "cell_type": "code",
   "execution_count": 6,
   "id": "68bd72ae",
   "metadata": {
    "execution": {
     "iopub.execute_input": "2024-06-19T13:02:47.139678Z",
     "iopub.status.busy": "2024-06-19T13:02:47.139179Z",
     "iopub.status.idle": "2024-06-19T13:02:47.208236Z",
     "shell.execute_reply": "2024-06-19T13:02:47.207212Z"
    },
    "papermill": {
     "duration": 0.072055,
     "end_time": "2024-06-19T13:02:47.209230",
     "exception": false,
     "start_time": "2024-06-19T13:02:47.137175",
     "status": "completed"
    },
    "tags": []
   },
   "outputs": [],
   "source": [
    "temporada = pd.read_csv('data/Entire_Season.csv')\n",
    "temporada = temporada[temporada['Date'] < data_var]\n",
    "temporada = pd.concat([temporada, df_today])\n",
    "ligas = df_today['League'].unique().tolist()\n",
    "temporada = temporada[temporada['League'].isin(ligas)]\n",
    "temporada.reset_index(drop=True, inplace=True)"
   ]
  },
  {
   "cell_type": "markdown",
   "id": "0d8018ca",
   "metadata": {
    "papermill": {
     "duration": 0.001995,
     "end_time": "2024-06-19T13:02:47.213730",
     "exception": false,
     "start_time": "2024-06-19T13:02:47.211735",
     "status": "completed"
    },
    "tags": []
   },
   "source": [
    "### Cria variáveis na temporada e nos jogos do dia"
   ]
  },
  {
   "cell_type": "code",
   "execution_count": 7,
   "id": "d3b06cb1",
   "metadata": {
    "execution": {
     "iopub.execute_input": "2024-06-19T13:02:47.218234Z",
     "iopub.status.busy": "2024-06-19T13:02:47.218234Z",
     "iopub.status.idle": "2024-06-19T13:02:47.998900Z",
     "shell.execute_reply": "2024-06-19T13:02:47.997869Z"
    },
    "papermill": {
     "duration": 0.784663,
     "end_time": "2024-06-19T13:02:48.000393",
     "exception": false,
     "start_time": "2024-06-19T13:02:47.215730",
     "status": "completed"
    },
    "tags": []
   },
   "outputs": [],
   "source": [
    "games = atualiza_dia(temporada)\n",
    "temporada = games[games['Date'] < data_var]\n",
    "os.makedirs(f'apostas_do_dia/{data_var}', exist_ok=True)"
   ]
  },
  {
   "cell_type": "code",
   "execution_count": 8,
   "id": "16aa533f",
   "metadata": {
    "execution": {
     "iopub.execute_input": "2024-06-19T13:02:48.004892Z",
     "iopub.status.busy": "2024-06-19T13:02:48.004892Z",
     "iopub.status.idle": "2024-06-19T13:02:48.044707Z",
     "shell.execute_reply": "2024-06-19T13:02:48.044188Z"
    },
    "papermill": {
     "duration": 0.043823,
     "end_time": "2024-06-19T13:02:48.046216",
     "exception": false,
     "start_time": "2024-06-19T13:02:48.002393",
     "status": "completed"
    },
    "tags": []
   },
   "outputs": [
    {
     "data": {
      "text/html": [
       "<div>\n",
       "<style scoped>\n",
       "    .dataframe tbody tr th:only-of-type {\n",
       "        vertical-align: middle;\n",
       "    }\n",
       "\n",
       "    .dataframe tbody tr th {\n",
       "        vertical-align: top;\n",
       "    }\n",
       "\n",
       "    .dataframe thead th {\n",
       "        text-align: right;\n",
       "    }\n",
       "</style>\n",
       "<table border=\"1\" class=\"dataframe\">\n",
       "  <thead>\n",
       "    <tr style=\"text-align: right;\">\n",
       "      <th></th>\n",
       "      <th>Date</th>\n",
       "      <th>League</th>\n",
       "      <th>Time</th>\n",
       "      <th>Home</th>\n",
       "      <th>Away</th>\n",
       "      <th>Odds_H</th>\n",
       "      <th>Odds_A</th>\n",
       "      <th>Over_Line</th>\n",
       "      <th>Odds_Over</th>\n",
       "      <th>Odds_Under</th>\n",
       "      <th>HA_Line</th>\n",
       "      <th>HA_Odds_H</th>\n",
       "      <th>HA_Odds_A</th>\n",
       "      <th>Fixture ID</th>\n",
       "      <th>P(H)</th>\n",
       "      <th>P(A)</th>\n",
       "      <th>P(O)</th>\n",
       "      <th>P(U)</th>\n",
       "      <th>P_Diff</th>\n",
       "      <th>Porc_Over_Home</th>\n",
       "      <th>Porc_Over_Away</th>\n",
       "      <th>CustoGolHome</th>\n",
       "      <th>CustoGolAway</th>\n",
       "      <th>Avg_CG_H</th>\n",
       "      <th>DP_CG_H</th>\n",
       "      <th>CV_CG_H</th>\n",
       "      <th>Avg_CG_A</th>\n",
       "      <th>DP_CG_A</th>\n",
       "      <th>CV_CG_A</th>\n",
       "      <th>MediaCustoGolHome</th>\n",
       "      <th>MediaCustoGolAway</th>\n",
       "      <th>Last_CG_H</th>\n",
       "      <th>Last_CG_A</th>\n",
       "      <th>Acima_Last_CG_H</th>\n",
       "      <th>Acima_Last_CG_A</th>\n",
       "      <th>Abaixo_Last_CG_H</th>\n",
       "      <th>Abaixo_Last_CG_A</th>\n",
       "      <th>CV_ML</th>\n",
       "      <th>CV_Over</th>\n",
       "      <th>CV_HA</th>\n",
       "      <th>Retornos_BH_Acu</th>\n",
       "      <th>Avg_Retornos_BH</th>\n",
       "      <th>Custo_Retorno_BH</th>\n",
       "      <th>Avg_Porc_BH_Bookie</th>\n",
       "      <th>Avg_Porc_BH_Real</th>\n",
       "      <th>Dist_Porc_BH</th>\n",
       "      <th>Retornos_BA_Acu</th>\n",
       "      <th>Avg_Retornos_BA</th>\n",
       "      <th>Custo_Retorno_BA</th>\n",
       "      <th>Avg_Porc_BA_Bookie</th>\n",
       "      <th>Avg_Porc_BA_Real</th>\n",
       "      <th>Dist_Porc_BA</th>\n",
       "    </tr>\n",
       "  </thead>\n",
       "  <tbody>\n",
       "    <tr>\n",
       "      <th>363</th>\n",
       "      <td>2024-06-19</td>\n",
       "      <td>Canadá Cebl</td>\n",
       "      <td>21:00</td>\n",
       "      <td>Winnipeg Sea Bears</td>\n",
       "      <td>Vancouver Bandits</td>\n",
       "      <td>2.05</td>\n",
       "      <td>1.70</td>\n",
       "      <td>185.5</td>\n",
       "      <td>1.85</td>\n",
       "      <td>1.85</td>\n",
       "      <td>1.5</td>\n",
       "      <td>1.99</td>\n",
       "      <td>1.52</td>\n",
       "      <td>65cFfIqJ</td>\n",
       "      <td>0.487805</td>\n",
       "      <td>0.588235</td>\n",
       "      <td>0.540541</td>\n",
       "      <td>0.540541</td>\n",
       "      <td>0.076040</td>\n",
       "      <td>0.0</td>\n",
       "      <td>0.0</td>\n",
       "      <td>NaN</td>\n",
       "      <td>NaN</td>\n",
       "      <td>NaN</td>\n",
       "      <td>NaN</td>\n",
       "      <td>NaN</td>\n",
       "      <td>NaN</td>\n",
       "      <td>NaN</td>\n",
       "      <td>NaN</td>\n",
       "      <td>0.0</td>\n",
       "      <td>0.0</td>\n",
       "      <td>160.95</td>\n",
       "      <td>0.00</td>\n",
       "      <td>0.0</td>\n",
       "      <td>0.0</td>\n",
       "      <td>0.0</td>\n",
       "      <td>0.0</td>\n",
       "      <td>0.131993</td>\n",
       "      <td>0.000000</td>\n",
       "      <td>0.189368</td>\n",
       "      <td>0.0</td>\n",
       "      <td>0.0</td>\n",
       "      <td>inf</td>\n",
       "      <td>0.0</td>\n",
       "      <td>0.0</td>\n",
       "      <td>0.0</td>\n",
       "      <td>0.0</td>\n",
       "      <td>0.0</td>\n",
       "      <td>inf</td>\n",
       "      <td>0.0</td>\n",
       "      <td>0.0</td>\n",
       "      <td>0.0</td>\n",
       "    </tr>\n",
       "    <tr>\n",
       "      <th>364</th>\n",
       "      <td>2024-06-19</td>\n",
       "      <td>Venezuela Superliga</td>\n",
       "      <td>20:00</td>\n",
       "      <td>Piratas de La Guaira</td>\n",
       "      <td>Cocodrilos</td>\n",
       "      <td>2.17</td>\n",
       "      <td>1.64</td>\n",
       "      <td>154.5</td>\n",
       "      <td>1.81</td>\n",
       "      <td>1.85</td>\n",
       "      <td>1.5</td>\n",
       "      <td>2.05</td>\n",
       "      <td>1.48</td>\n",
       "      <td>Kj6dvkmp</td>\n",
       "      <td>0.460829</td>\n",
       "      <td>0.609756</td>\n",
       "      <td>0.552486</td>\n",
       "      <td>0.540541</td>\n",
       "      <td>0.070586</td>\n",
       "      <td>0.0</td>\n",
       "      <td>0.0</td>\n",
       "      <td>NaN</td>\n",
       "      <td>NaN</td>\n",
       "      <td>NaN</td>\n",
       "      <td>NaN</td>\n",
       "      <td>NaN</td>\n",
       "      <td>NaN</td>\n",
       "      <td>NaN</td>\n",
       "      <td>NaN</td>\n",
       "      <td>0.0</td>\n",
       "      <td>0.0</td>\n",
       "      <td>130.67</td>\n",
       "      <td>135.88</td>\n",
       "      <td>0.0</td>\n",
       "      <td>0.0</td>\n",
       "      <td>0.0</td>\n",
       "      <td>0.0</td>\n",
       "      <td>0.196728</td>\n",
       "      <td>0.015456</td>\n",
       "      <td>0.228357</td>\n",
       "      <td>0.0</td>\n",
       "      <td>0.0</td>\n",
       "      <td>inf</td>\n",
       "      <td>0.0</td>\n",
       "      <td>0.0</td>\n",
       "      <td>0.0</td>\n",
       "      <td>0.0</td>\n",
       "      <td>0.0</td>\n",
       "      <td>inf</td>\n",
       "      <td>0.0</td>\n",
       "      <td>0.0</td>\n",
       "      <td>0.0</td>\n",
       "    </tr>\n",
       "    <tr>\n",
       "      <th>365</th>\n",
       "      <td>2024-06-19</td>\n",
       "      <td>Canadá Cebl</td>\n",
       "      <td>20:30</td>\n",
       "      <td>Brampton Honey Badgers</td>\n",
       "      <td>Montreal Alliance</td>\n",
       "      <td>1.78</td>\n",
       "      <td>1.89</td>\n",
       "      <td>171.5</td>\n",
       "      <td>1.85</td>\n",
       "      <td>1.85</td>\n",
       "      <td>1.0</td>\n",
       "      <td>1.81</td>\n",
       "      <td>1.83</td>\n",
       "      <td>SEbBebUC</td>\n",
       "      <td>0.561798</td>\n",
       "      <td>0.529101</td>\n",
       "      <td>0.540541</td>\n",
       "      <td>0.540541</td>\n",
       "      <td>0.090898</td>\n",
       "      <td>0.0</td>\n",
       "      <td>0.0</td>\n",
       "      <td>NaN</td>\n",
       "      <td>NaN</td>\n",
       "      <td>NaN</td>\n",
       "      <td>NaN</td>\n",
       "      <td>NaN</td>\n",
       "      <td>NaN</td>\n",
       "      <td>NaN</td>\n",
       "      <td>NaN</td>\n",
       "      <td>0.0</td>\n",
       "      <td>0.0</td>\n",
       "      <td>0.00</td>\n",
       "      <td>0.00</td>\n",
       "      <td>0.0</td>\n",
       "      <td>0.0</td>\n",
       "      <td>0.0</td>\n",
       "      <td>0.0</td>\n",
       "      <td>0.042388</td>\n",
       "      <td>0.000000</td>\n",
       "      <td>0.007770</td>\n",
       "      <td>0.0</td>\n",
       "      <td>0.0</td>\n",
       "      <td>inf</td>\n",
       "      <td>0.0</td>\n",
       "      <td>0.0</td>\n",
       "      <td>0.0</td>\n",
       "      <td>0.0</td>\n",
       "      <td>0.0</td>\n",
       "      <td>inf</td>\n",
       "      <td>0.0</td>\n",
       "      <td>0.0</td>\n",
       "      <td>0.0</td>\n",
       "    </tr>\n",
       "  </tbody>\n",
       "</table>\n",
       "</div>"
      ],
      "text/plain": [
       "           Date               League   Time                    Home  \\\n",
       "363  2024-06-19          Canadá Cebl  21:00      Winnipeg Sea Bears   \n",
       "364  2024-06-19  Venezuela Superliga  20:00    Piratas de La Guaira   \n",
       "365  2024-06-19          Canadá Cebl  20:30  Brampton Honey Badgers   \n",
       "\n",
       "                  Away  Odds_H  Odds_A  Over_Line  Odds_Over  Odds_Under  \\\n",
       "363  Vancouver Bandits    2.05    1.70      185.5       1.85        1.85   \n",
       "364         Cocodrilos    2.17    1.64      154.5       1.81        1.85   \n",
       "365  Montreal Alliance    1.78    1.89      171.5       1.85        1.85   \n",
       "\n",
       "     HA_Line  HA_Odds_H  HA_Odds_A Fixture ID      P(H)      P(A)      P(O)  \\\n",
       "363      1.5       1.99       1.52   65cFfIqJ  0.487805  0.588235  0.540541   \n",
       "364      1.5       2.05       1.48   Kj6dvkmp  0.460829  0.609756  0.552486   \n",
       "365      1.0       1.81       1.83   SEbBebUC  0.561798  0.529101  0.540541   \n",
       "\n",
       "         P(U)    P_Diff  Porc_Over_Home  Porc_Over_Away  CustoGolHome  \\\n",
       "363  0.540541  0.076040             0.0             0.0           NaN   \n",
       "364  0.540541  0.070586             0.0             0.0           NaN   \n",
       "365  0.540541  0.090898             0.0             0.0           NaN   \n",
       "\n",
       "     CustoGolAway  Avg_CG_H  DP_CG_H  CV_CG_H  Avg_CG_A  DP_CG_A  CV_CG_A  \\\n",
       "363           NaN       NaN      NaN      NaN       NaN      NaN      NaN   \n",
       "364           NaN       NaN      NaN      NaN       NaN      NaN      NaN   \n",
       "365           NaN       NaN      NaN      NaN       NaN      NaN      NaN   \n",
       "\n",
       "     MediaCustoGolHome  MediaCustoGolAway  Last_CG_H  Last_CG_A  \\\n",
       "363                0.0                0.0     160.95       0.00   \n",
       "364                0.0                0.0     130.67     135.88   \n",
       "365                0.0                0.0       0.00       0.00   \n",
       "\n",
       "     Acima_Last_CG_H  Acima_Last_CG_A  Abaixo_Last_CG_H  Abaixo_Last_CG_A  \\\n",
       "363              0.0              0.0               0.0               0.0   \n",
       "364              0.0              0.0               0.0               0.0   \n",
       "365              0.0              0.0               0.0               0.0   \n",
       "\n",
       "        CV_ML   CV_Over     CV_HA  Retornos_BH_Acu  Avg_Retornos_BH  \\\n",
       "363  0.131993  0.000000  0.189368              0.0              0.0   \n",
       "364  0.196728  0.015456  0.228357              0.0              0.0   \n",
       "365  0.042388  0.000000  0.007770              0.0              0.0   \n",
       "\n",
       "     Custo_Retorno_BH  Avg_Porc_BH_Bookie  Avg_Porc_BH_Real  Dist_Porc_BH  \\\n",
       "363               inf                 0.0               0.0           0.0   \n",
       "364               inf                 0.0               0.0           0.0   \n",
       "365               inf                 0.0               0.0           0.0   \n",
       "\n",
       "     Retornos_BA_Acu  Avg_Retornos_BA  Custo_Retorno_BA  Avg_Porc_BA_Bookie  \\\n",
       "363              0.0              0.0               inf                 0.0   \n",
       "364              0.0              0.0               inf                 0.0   \n",
       "365              0.0              0.0               inf                 0.0   \n",
       "\n",
       "     Avg_Porc_BA_Real  Dist_Porc_BA  \n",
       "363               0.0           0.0  \n",
       "364               0.0           0.0  \n",
       "365               0.0           0.0  "
      ]
     },
     "execution_count": 8,
     "metadata": {},
     "output_type": "execute_result"
    }
   ],
   "source": [
    "jogos = games[games['Date'] == data_var]\n",
    "\n",
    "jogos = jogos.drop(columns=['Home_Pts', 'Away_Pts',\n",
    "       'Back_Home', 'PL_Home', 'Back_Away',\n",
    "       'PL_Away', 'Back_Over', 'PL_Over', 'PL_Under', 'Back_HA_H', 'PL_HA_H',\n",
    "       'PL_HA_A', ])\n",
    "\n",
    "jogos"
   ]
  },
  {
   "attachments": {},
   "cell_type": "markdown",
   "id": "08aa1c88",
   "metadata": {
    "papermill": {
     "duration": 0.002499,
     "end_time": "2024-06-19T13:02:48.050704",
     "exception": false,
     "start_time": "2024-06-19T13:02:48.048205",
     "status": "completed"
    },
    "tags": []
   },
   "source": [
    "## Apostas do dia"
   ]
  },
  {
   "cell_type": "markdown",
   "id": "b24569b1",
   "metadata": {
    "papermill": {
     "duration": 0.002,
     "end_time": "2024-06-19T13:02:48.054204",
     "exception": false,
     "start_time": "2024-06-19T13:02:48.052204",
     "status": "completed"
    },
    "tags": []
   },
   "source": [
    "### Over v0 (LDA)"
   ]
  },
  {
   "cell_type": "code",
   "execution_count": 9,
   "id": "6f144103",
   "metadata": {
    "execution": {
     "iopub.execute_input": "2024-06-19T13:02:48.059208Z",
     "iopub.status.busy": "2024-06-19T13:02:48.058708Z",
     "iopub.status.idle": "2024-06-19T13:02:48.214919Z",
     "shell.execute_reply": "2024-06-19T13:02:48.214118Z"
    },
    "papermill": {
     "duration": 0.159715,
     "end_time": "2024-06-19T13:02:48.215919",
     "exception": false,
     "start_time": "2024-06-19T13:02:48.056204",
     "status": "completed"
    },
    "tags": []
   },
   "outputs": [
    {
     "name": "stdout",
     "output_type": "stream",
     "text": [
      "Sem jogos\n"
     ]
    }
   ],
   "source": [
    "# Duplicando o dataset\n",
    "df_over_v0 = jogos.copy()\n",
    "\n",
    "df_over_v0.reset_index(drop=True, inplace=True)\n",
    "df_over_v0.replace([np.inf, -np.inf], 0, inplace=True)\n",
    "\n",
    "if not df_over_v0.empty:\n",
    "    mdl_over_v0 = load_model('ML/over/v1/v1_over', verbose=False)\n",
    "    prev = predict_model(mdl_over_v0, df_over_v0)\n",
    "    prev = prev[prev['prediction_label'] ==  1]\n",
    "    prev.reset_index(drop=True, inplace=True)\n",
    "    \n",
    "    # Filtros pós modelo\n",
    "\n",
    "    if not prev.empty:\n",
    "        prev.to_csv(f'apostas_do_dia/{data_var}/over_v0_{data_var}.csv', index=False)\n",
    "\n",
    "        print('------------ MÉTODO OVER V0 (LDA) ------------')\n",
    "        print()\n",
    "\n",
    "        prev['Bet'] = 'Over'\n",
    "        ligs = prev['League'].unique().tolist()\n",
    "\n",
    "        display(prev[['Time', 'League', 'Home', 'Away', 'Over_Line', 'Odds_Over', 'prediction_score', 'Bet']])\n",
    "        print()\n",
    "    else: print('Sem jogos')\n",
    "else: print('Sem jogos')"
   ]
  }
 ],
 "metadata": {
  "kernelspec": {
   "display_name": "modelos_futebol",
   "language": "python",
   "name": "python3"
  },
  "language_info": {
   "codemirror_mode": {
    "name": "ipython",
    "version": 3
   },
   "file_extension": ".py",
   "mimetype": "text/x-python",
   "name": "python",
   "nbconvert_exporter": "python",
   "pygments_lexer": "ipython3",
   "version": "3.10.7"
  },
  "papermill": {
   "default_parameters": {},
   "duration": 4.395132,
   "end_time": "2024-06-19T13:02:48.556025",
   "environment_variables": {},
   "exception": null,
   "input_path": "apostas_do_dia_v1.ipynb",
   "output_path": "apostas_do_dia_v1.ipynb",
   "parameters": {
    "data_var": "2024-06-19"
   },
   "start_time": "2024-06-19T13:02:44.160893",
   "version": "2.5.0"
  }
 },
 "nbformat": 4,
 "nbformat_minor": 5
}