{
 "cells": [
  {
   "cell_type": "code",
   "execution_count": 1,
   "id": "d690e842",
   "metadata": {
    "execution": {
     "iopub.execute_input": "2024-04-02T13:03:06.766136Z",
     "iopub.status.busy": "2024-04-02T13:03:06.766136Z",
     "iopub.status.idle": "2024-04-02T13:03:06.777634Z",
     "shell.execute_reply": "2024-04-02T13:03:06.777634Z"
    },
    "papermill": {
     "duration": 0.017004,
     "end_time": "2024-04-02T13:03:06.779635",
     "exception": false,
     "start_time": "2024-04-02T13:03:06.762631",
     "status": "completed"
    },
    "tags": [
     "parameters"
    ]
   },
   "outputs": [],
   "source": [
    "data_var = ''"
   ]
  },
  {
   "cell_type": "code",
   "execution_count": 2,
   "id": "c058bb49",
   "metadata": {
    "execution": {
     "iopub.execute_input": "2024-04-02T13:03:06.784639Z",
     "iopub.status.busy": "2024-04-02T13:03:06.784639Z",
     "iopub.status.idle": "2024-04-02T13:03:06.793628Z",
     "shell.execute_reply": "2024-04-02T13:03:06.793628Z"
    },
    "papermill": {
     "duration": 0.01304,
     "end_time": "2024-04-02T13:03:06.795678",
     "exception": false,
     "start_time": "2024-04-02T13:03:06.782638",
     "status": "completed"
    },
    "tags": [
     "injected-parameters"
    ]
   },
   "outputs": [],
   "source": [
    "# Parameters\n",
    "data_var = \"2024-04-02\"\n"
   ]
  },
  {
   "cell_type": "code",
   "execution_count": 3,
   "id": "25b97174",
   "metadata": {
    "execution": {
     "iopub.execute_input": "2024-04-02T13:03:06.799712Z",
     "iopub.status.busy": "2024-04-02T13:03:06.799712Z",
     "iopub.status.idle": "2024-04-02T13:03:14.968391Z",
     "shell.execute_reply": "2024-04-02T13:03:14.968391Z"
    },
    "papermill": {
     "duration": 8.172024,
     "end_time": "2024-04-02T13:03:14.969722",
     "exception": false,
     "start_time": "2024-04-02T13:03:06.797698",
     "status": "completed"
    },
    "tags": []
   },
   "outputs": [],
   "source": [
    "import pandas as pd; pd.set_option('display.max_columns', None)\n",
    "import os\n",
    "from pycaret.classification import *\n",
    "from scripts.PreparaDataset import *\n",
    "from scripts.TeoriaRetornos import *"
   ]
  },
  {
   "attachments": {},
   "cell_type": "markdown",
   "id": "ffa9b361",
   "metadata": {
    "papermill": {
     "duration": 0.002019,
     "end_time": "2024-04-02T13:03:14.974255",
     "exception": false,
     "start_time": "2024-04-02T13:03:14.972236",
     "status": "completed"
    },
    "tags": []
   },
   "source": [
    "### Funções"
   ]
  },
  {
   "cell_type": "code",
   "execution_count": 4,
   "id": "cb6eea9b",
   "metadata": {
    "execution": {
     "iopub.execute_input": "2024-04-02T13:03:14.978274Z",
     "iopub.status.busy": "2024-04-02T13:03:14.978274Z",
     "iopub.status.idle": "2024-04-02T13:03:14.984735Z",
     "shell.execute_reply": "2024-04-02T13:03:14.984735Z"
    },
    "papermill": {
     "duration": 0.011523,
     "end_time": "2024-04-02T13:03:14.986786",
     "exception": false,
     "start_time": "2024-04-02T13:03:14.975263",
     "status": "completed"
    },
    "tags": []
   },
   "outputs": [],
   "source": [
    "def atualiza_dia(_jogos):\n",
    "    _jogos = prepara_df(_jogos)\n",
    "\n",
    "    _jogos = _jogos.reset_index(drop=True)\n",
    "\n",
    "    return _jogos"
   ]
  },
  {
   "attachments": {},
   "cell_type": "markdown",
   "id": "26b16874",
   "metadata": {
    "papermill": {
     "duration": 0.001003,
     "end_time": "2024-04-02T13:03:14.989808",
     "exception": false,
     "start_time": "2024-04-02T13:03:14.988805",
     "status": "completed"
    },
    "tags": []
   },
   "source": [
    "### Pegando os jogos do dia"
   ]
  },
  {
   "cell_type": "code",
   "execution_count": 5,
   "id": "5ddb2ecb",
   "metadata": {
    "execution": {
     "iopub.execute_input": "2024-04-02T13:03:14.994835Z",
     "iopub.status.busy": "2024-04-02T13:03:14.994835Z",
     "iopub.status.idle": "2024-04-02T13:03:15.016739Z",
     "shell.execute_reply": "2024-04-02T13:03:15.015727Z"
    },
    "papermill": {
     "duration": 0.025935,
     "end_time": "2024-04-02T13:03:15.017757",
     "exception": false,
     "start_time": "2024-04-02T13:03:14.991822",
     "status": "completed"
    },
    "tags": []
   },
   "outputs": [],
   "source": [
    "df_today = pd.read_csv(f'jogos_do_dia/{data_var}.csv')"
   ]
  },
  {
   "cell_type": "markdown",
   "id": "19a2214d",
   "metadata": {
    "papermill": {
     "duration": 0.002136,
     "end_time": "2024-04-02T13:03:15.021926",
     "exception": false,
     "start_time": "2024-04-02T13:03:15.019790",
     "status": "completed"
    },
    "tags": []
   },
   "source": [
    "### Atualizando os datasets que tem jogo hoje"
   ]
  },
  {
   "cell_type": "code",
   "execution_count": 6,
   "id": "68bd72ae",
   "metadata": {
    "execution": {
     "iopub.execute_input": "2024-04-02T13:03:15.025930Z",
     "iopub.status.busy": "2024-04-02T13:03:15.025930Z",
     "iopub.status.idle": "2024-04-02T13:03:15.077633Z",
     "shell.execute_reply": "2024-04-02T13:03:15.077633Z"
    },
    "papermill": {
     "duration": 0.055707,
     "end_time": "2024-04-02T13:03:15.079635",
     "exception": false,
     "start_time": "2024-04-02T13:03:15.023928",
     "status": "completed"
    },
    "tags": []
   },
   "outputs": [],
   "source": [
    "temporada = pd.read_csv('data/Entire_Season.csv')\n",
    "temporada = temporada[temporada['Date'] < data_var]\n",
    "temporada = pd.concat([temporada, df_today])\n",
    "ligas = df_today['League'].unique().tolist()\n",
    "temporada = temporada[temporada['League'].isin(ligas)]\n",
    "temporada.reset_index(drop=True, inplace=True)"
   ]
  },
  {
   "cell_type": "markdown",
   "id": "0d8018ca",
   "metadata": {
    "papermill": {
     "duration": 0.002002,
     "end_time": "2024-04-02T13:03:15.083638",
     "exception": false,
     "start_time": "2024-04-02T13:03:15.081636",
     "status": "completed"
    },
    "tags": []
   },
   "source": [
    "### Cria variáveis na temporada e nos jogos do dia"
   ]
  },
  {
   "cell_type": "code",
   "execution_count": 7,
   "id": "d3b06cb1",
   "metadata": {
    "execution": {
     "iopub.execute_input": "2024-04-02T13:03:15.088642Z",
     "iopub.status.busy": "2024-04-02T13:03:15.087642Z",
     "iopub.status.idle": "2024-04-02T13:03:51.364534Z",
     "shell.execute_reply": "2024-04-02T13:03:51.363501Z"
    },
    "papermill": {
     "duration": 36.279905,
     "end_time": "2024-04-02T13:03:51.365545",
     "exception": false,
     "start_time": "2024-04-02T13:03:15.085640",
     "status": "completed"
    },
    "tags": []
   },
   "outputs": [],
   "source": [
    "games = atualiza_dia(temporada)\n",
    "temporada = games[games['Date'] < data_var]\n",
    "os.makedirs(f'apostas_do_dia/{data_var}', exist_ok=True)"
   ]
  },
  {
   "cell_type": "code",
   "execution_count": 8,
   "id": "16aa533f",
   "metadata": {
    "execution": {
     "iopub.execute_input": "2024-04-02T13:03:51.370852Z",
     "iopub.status.busy": "2024-04-02T13:03:51.370852Z",
     "iopub.status.idle": "2024-04-02T13:03:51.410643Z",
     "shell.execute_reply": "2024-04-02T13:03:51.409641Z"
    },
    "papermill": {
     "duration": 0.044097,
     "end_time": "2024-04-02T13:03:51.411644",
     "exception": false,
     "start_time": "2024-04-02T13:03:51.367547",
     "status": "completed"
    },
    "tags": []
   },
   "outputs": [
    {
     "data": {
      "text/html": [
       "<div>\n",
       "<style scoped>\n",
       "    .dataframe tbody tr th:only-of-type {\n",
       "        vertical-align: middle;\n",
       "    }\n",
       "\n",
       "    .dataframe tbody tr th {\n",
       "        vertical-align: top;\n",
       "    }\n",
       "\n",
       "    .dataframe thead th {\n",
       "        text-align: right;\n",
       "    }\n",
       "</style>\n",
       "<table border=\"1\" class=\"dataframe\">\n",
       "  <thead>\n",
       "    <tr style=\"text-align: right;\">\n",
       "      <th></th>\n",
       "      <th>Date</th>\n",
       "      <th>League</th>\n",
       "      <th>Time</th>\n",
       "      <th>Home</th>\n",
       "      <th>Away</th>\n",
       "      <th>Odds_H</th>\n",
       "      <th>Odds_A</th>\n",
       "      <th>Over_Line</th>\n",
       "      <th>Odds_Over</th>\n",
       "      <th>Odds_Under</th>\n",
       "      <th>HA_Line</th>\n",
       "      <th>HA_Odds_H</th>\n",
       "      <th>HA_Odds_A</th>\n",
       "      <th>Fixture ID</th>\n",
       "      <th>P(H)</th>\n",
       "      <th>P(A)</th>\n",
       "      <th>P(O)</th>\n",
       "      <th>P(U)</th>\n",
       "      <th>P_Diff</th>\n",
       "      <th>Porc_Over_Home</th>\n",
       "      <th>Porc_Over_Away</th>\n",
       "      <th>CustoGolHome</th>\n",
       "      <th>CustoGolAway</th>\n",
       "      <th>Avg_CG_H</th>\n",
       "      <th>DP_CG_H</th>\n",
       "      <th>CV_CG_H</th>\n",
       "      <th>Avg_CG_A</th>\n",
       "      <th>DP_CG_A</th>\n",
       "      <th>CV_CG_A</th>\n",
       "      <th>MediaCustoGolHome</th>\n",
       "      <th>MediaCustoGolAway</th>\n",
       "      <th>Last_CG_H</th>\n",
       "      <th>Last_CG_A</th>\n",
       "      <th>Acima_Last_CG_H</th>\n",
       "      <th>Acima_Last_CG_A</th>\n",
       "      <th>Abaixo_Last_CG_H</th>\n",
       "      <th>Abaixo_Last_CG_A</th>\n",
       "      <th>CV_ML</th>\n",
       "      <th>CV_Over</th>\n",
       "      <th>CV_HA</th>\n",
       "      <th>Retornos_BH_Acu</th>\n",
       "      <th>Avg_Retornos_BH</th>\n",
       "      <th>Custo_Retorno_BH</th>\n",
       "      <th>Avg_Porc_BH_Bookie</th>\n",
       "      <th>Avg_Porc_BH_Real</th>\n",
       "      <th>Dist_Porc_BH</th>\n",
       "      <th>Retornos_BA_Acu</th>\n",
       "      <th>Avg_Retornos_BA</th>\n",
       "      <th>Custo_Retorno_BA</th>\n",
       "      <th>Avg_Porc_BA_Bookie</th>\n",
       "      <th>Avg_Porc_BA_Real</th>\n",
       "      <th>Dist_Porc_BA</th>\n",
       "    </tr>\n",
       "  </thead>\n",
       "  <tbody>\n",
       "    <tr>\n",
       "      <th>8461</th>\n",
       "      <td>2024-04-02</td>\n",
       "      <td>China Cba</td>\n",
       "      <td>08:35</td>\n",
       "      <td>Shanxi Zhongyu</td>\n",
       "      <td>Beijing</td>\n",
       "      <td>1.63</td>\n",
       "      <td>2.22</td>\n",
       "      <td>210.5</td>\n",
       "      <td>1.82</td>\n",
       "      <td>1.92</td>\n",
       "      <td>-3.5</td>\n",
       "      <td>1.98</td>\n",
       "      <td>2.77</td>\n",
       "      <td>2V3smZ5O</td>\n",
       "      <td>0.613497</td>\n",
       "      <td>0.450450</td>\n",
       "      <td>0.549451</td>\n",
       "      <td>0.520833</td>\n",
       "      <td>0.063947</td>\n",
       "      <td>0.8</td>\n",
       "      <td>0.4</td>\n",
       "      <td>NaN</td>\n",
       "      <td>NaN</td>\n",
       "      <td>288.732</td>\n",
       "      <td>103.179034</td>\n",
       "      <td>0.357352</td>\n",
       "      <td>231.016</td>\n",
       "      <td>68.706281</td>\n",
       "      <td>0.297409</td>\n",
       "      <td>234.654</td>\n",
       "      <td>290.300</td>\n",
       "      <td>234.90</td>\n",
       "      <td>208.82</td>\n",
       "      <td>0.0</td>\n",
       "      <td>0.0</td>\n",
       "      <td>0.0</td>\n",
       "      <td>0.0</td>\n",
       "      <td>0.216724</td>\n",
       "      <td>0.037813</td>\n",
       "      <td>0.235206</td>\n",
       "      <td>3.39</td>\n",
       "      <td>0.678</td>\n",
       "      <td>0.929204</td>\n",
       "      <td>0.561152</td>\n",
       "      <td>0.7</td>\n",
       "      <td>0.138848</td>\n",
       "      <td>2.34</td>\n",
       "      <td>0.468</td>\n",
       "      <td>2.606838</td>\n",
       "      <td>0.364035</td>\n",
       "      <td>0.3</td>\n",
       "      <td>-0.064035</td>\n",
       "    </tr>\n",
       "    <tr>\n",
       "      <th>8462</th>\n",
       "      <td>2024-04-02</td>\n",
       "      <td>Eua Nit</td>\n",
       "      <td>20:00</td>\n",
       "      <td>Indiana State</td>\n",
       "      <td>Utah Utes</td>\n",
       "      <td>1.65</td>\n",
       "      <td>2.33</td>\n",
       "      <td>163.5</td>\n",
       "      <td>1.91</td>\n",
       "      <td>1.91</td>\n",
       "      <td>-3.5</td>\n",
       "      <td>1.95</td>\n",
       "      <td>2.95</td>\n",
       "      <td>SI2ekaHC</td>\n",
       "      <td>0.606061</td>\n",
       "      <td>0.429185</td>\n",
       "      <td>0.523560</td>\n",
       "      <td>0.523560</td>\n",
       "      <td>0.035245</td>\n",
       "      <td>0.0</td>\n",
       "      <td>0.0</td>\n",
       "      <td>NaN</td>\n",
       "      <td>NaN</td>\n",
       "      <td>NaN</td>\n",
       "      <td>NaN</td>\n",
       "      <td>NaN</td>\n",
       "      <td>NaN</td>\n",
       "      <td>NaN</td>\n",
       "      <td>NaN</td>\n",
       "      <td>0.000</td>\n",
       "      <td>0.000</td>\n",
       "      <td>139.40</td>\n",
       "      <td>0.00</td>\n",
       "      <td>0.0</td>\n",
       "      <td>0.0</td>\n",
       "      <td>0.0</td>\n",
       "      <td>0.0</td>\n",
       "      <td>0.241624</td>\n",
       "      <td>0.000000</td>\n",
       "      <td>0.288615</td>\n",
       "      <td>0.00</td>\n",
       "      <td>0.000</td>\n",
       "      <td>inf</td>\n",
       "      <td>0.000000</td>\n",
       "      <td>0.0</td>\n",
       "      <td>0.000000</td>\n",
       "      <td>0.00</td>\n",
       "      <td>0.000</td>\n",
       "      <td>inf</td>\n",
       "      <td>0.000000</td>\n",
       "      <td>0.0</td>\n",
       "      <td>0.000000</td>\n",
       "    </tr>\n",
       "    <tr>\n",
       "      <th>8463</th>\n",
       "      <td>2024-04-02</td>\n",
       "      <td>Lituânia Lkl</td>\n",
       "      <td>12:30</td>\n",
       "      <td>Jonava</td>\n",
       "      <td>Siauliai</td>\n",
       "      <td>1.62</td>\n",
       "      <td>2.20</td>\n",
       "      <td>168.5</td>\n",
       "      <td>1.85</td>\n",
       "      <td>1.85</td>\n",
       "      <td>-2.5</td>\n",
       "      <td>1.85</td>\n",
       "      <td>2.55</td>\n",
       "      <td>ttmGFhb7</td>\n",
       "      <td>0.617284</td>\n",
       "      <td>0.454545</td>\n",
       "      <td>0.540541</td>\n",
       "      <td>0.540541</td>\n",
       "      <td>0.071829</td>\n",
       "      <td>0.4</td>\n",
       "      <td>0.6</td>\n",
       "      <td>NaN</td>\n",
       "      <td>NaN</td>\n",
       "      <td>487.538</td>\n",
       "      <td>341.390178</td>\n",
       "      <td>0.700233</td>\n",
       "      <td>289.694</td>\n",
       "      <td>108.374477</td>\n",
       "      <td>0.374100</td>\n",
       "      <td>251.300</td>\n",
       "      <td>282.202</td>\n",
       "      <td>206.19</td>\n",
       "      <td>326.40</td>\n",
       "      <td>0.0</td>\n",
       "      <td>0.0</td>\n",
       "      <td>0.0</td>\n",
       "      <td>0.0</td>\n",
       "      <td>0.214724</td>\n",
       "      <td>0.000000</td>\n",
       "      <td>0.224989</td>\n",
       "      <td>-2.47</td>\n",
       "      <td>-0.494</td>\n",
       "      <td>-1.255061</td>\n",
       "      <td>0.000000</td>\n",
       "      <td>0.0</td>\n",
       "      <td>0.000000</td>\n",
       "      <td>0.68</td>\n",
       "      <td>0.136</td>\n",
       "      <td>8.823529</td>\n",
       "      <td>0.000000</td>\n",
       "      <td>0.0</td>\n",
       "      <td>0.000000</td>\n",
       "    </tr>\n",
       "    <tr>\n",
       "      <th>8464</th>\n",
       "      <td>2024-04-02</td>\n",
       "      <td>Suécia Superettan</td>\n",
       "      <td>15:00</td>\n",
       "      <td>Norrort</td>\n",
       "      <td>Sloga Uppsala</td>\n",
       "      <td>2.31</td>\n",
       "      <td>1.57</td>\n",
       "      <td>158.5</td>\n",
       "      <td>1.85</td>\n",
       "      <td>1.85</td>\n",
       "      <td>1.5</td>\n",
       "      <td>1.95</td>\n",
       "      <td>1.51</td>\n",
       "      <td>bZxikLah</td>\n",
       "      <td>0.432900</td>\n",
       "      <td>0.636943</td>\n",
       "      <td>0.540541</td>\n",
       "      <td>0.540541</td>\n",
       "      <td>0.069843</td>\n",
       "      <td>0.6</td>\n",
       "      <td>0.2</td>\n",
       "      <td>NaN</td>\n",
       "      <td>NaN</td>\n",
       "      <td>186.660</td>\n",
       "      <td>52.082135</td>\n",
       "      <td>0.279021</td>\n",
       "      <td>182.960</td>\n",
       "      <td>36.543287</td>\n",
       "      <td>0.199734</td>\n",
       "      <td>159.534</td>\n",
       "      <td>250.548</td>\n",
       "      <td>169.42</td>\n",
       "      <td>209.44</td>\n",
       "      <td>0.0</td>\n",
       "      <td>0.0</td>\n",
       "      <td>0.0</td>\n",
       "      <td>0.0</td>\n",
       "      <td>0.269721</td>\n",
       "      <td>0.000000</td>\n",
       "      <td>0.179842</td>\n",
       "      <td>-1.72</td>\n",
       "      <td>-0.344</td>\n",
       "      <td>-3.808140</td>\n",
       "      <td>0.000000</td>\n",
       "      <td>0.0</td>\n",
       "      <td>0.000000</td>\n",
       "      <td>2.11</td>\n",
       "      <td>0.422</td>\n",
       "      <td>1.350711</td>\n",
       "      <td>0.000000</td>\n",
       "      <td>0.0</td>\n",
       "      <td>0.000000</td>\n",
       "    </tr>\n",
       "  </tbody>\n",
       "</table>\n",
       "</div>"
      ],
      "text/plain": [
       "            Date             League   Time            Home           Away  \\\n",
       "8461  2024-04-02          China Cba  08:35  Shanxi Zhongyu        Beijing   \n",
       "8462  2024-04-02            Eua Nit  20:00   Indiana State      Utah Utes   \n",
       "8463  2024-04-02       Lituânia Lkl  12:30          Jonava       Siauliai   \n",
       "8464  2024-04-02  Suécia Superettan  15:00         Norrort  Sloga Uppsala   \n",
       "\n",
       "      Odds_H  Odds_A  Over_Line  Odds_Over  Odds_Under  HA_Line  HA_Odds_H  \\\n",
       "8461    1.63    2.22      210.5       1.82        1.92     -3.5       1.98   \n",
       "8462    1.65    2.33      163.5       1.91        1.91     -3.5       1.95   \n",
       "8463    1.62    2.20      168.5       1.85        1.85     -2.5       1.85   \n",
       "8464    2.31    1.57      158.5       1.85        1.85      1.5       1.95   \n",
       "\n",
       "      HA_Odds_A Fixture ID      P(H)      P(A)      P(O)      P(U)    P_Diff  \\\n",
       "8461       2.77   2V3smZ5O  0.613497  0.450450  0.549451  0.520833  0.063947   \n",
       "8462       2.95   SI2ekaHC  0.606061  0.429185  0.523560  0.523560  0.035245   \n",
       "8463       2.55   ttmGFhb7  0.617284  0.454545  0.540541  0.540541  0.071829   \n",
       "8464       1.51   bZxikLah  0.432900  0.636943  0.540541  0.540541  0.069843   \n",
       "\n",
       "      Porc_Over_Home  Porc_Over_Away  CustoGolHome  CustoGolAway  Avg_CG_H  \\\n",
       "8461             0.8             0.4           NaN           NaN   288.732   \n",
       "8462             0.0             0.0           NaN           NaN       NaN   \n",
       "8463             0.4             0.6           NaN           NaN   487.538   \n",
       "8464             0.6             0.2           NaN           NaN   186.660   \n",
       "\n",
       "         DP_CG_H   CV_CG_H  Avg_CG_A     DP_CG_A   CV_CG_A  MediaCustoGolHome  \\\n",
       "8461  103.179034  0.357352   231.016   68.706281  0.297409            234.654   \n",
       "8462         NaN       NaN       NaN         NaN       NaN              0.000   \n",
       "8463  341.390178  0.700233   289.694  108.374477  0.374100            251.300   \n",
       "8464   52.082135  0.279021   182.960   36.543287  0.199734            159.534   \n",
       "\n",
       "      MediaCustoGolAway  Last_CG_H  Last_CG_A  Acima_Last_CG_H  \\\n",
       "8461            290.300     234.90     208.82              0.0   \n",
       "8462              0.000     139.40       0.00              0.0   \n",
       "8463            282.202     206.19     326.40              0.0   \n",
       "8464            250.548     169.42     209.44              0.0   \n",
       "\n",
       "      Acima_Last_CG_A  Abaixo_Last_CG_H  Abaixo_Last_CG_A     CV_ML   CV_Over  \\\n",
       "8461              0.0               0.0               0.0  0.216724  0.037813   \n",
       "8462              0.0               0.0               0.0  0.241624  0.000000   \n",
       "8463              0.0               0.0               0.0  0.214724  0.000000   \n",
       "8464              0.0               0.0               0.0  0.269721  0.000000   \n",
       "\n",
       "         CV_HA  Retornos_BH_Acu  Avg_Retornos_BH  Custo_Retorno_BH  \\\n",
       "8461  0.235206             3.39            0.678          0.929204   \n",
       "8462  0.288615             0.00            0.000               inf   \n",
       "8463  0.224989            -2.47           -0.494         -1.255061   \n",
       "8464  0.179842            -1.72           -0.344         -3.808140   \n",
       "\n",
       "      Avg_Porc_BH_Bookie  Avg_Porc_BH_Real  Dist_Porc_BH  Retornos_BA_Acu  \\\n",
       "8461            0.561152               0.7      0.138848             2.34   \n",
       "8462            0.000000               0.0      0.000000             0.00   \n",
       "8463            0.000000               0.0      0.000000             0.68   \n",
       "8464            0.000000               0.0      0.000000             2.11   \n",
       "\n",
       "      Avg_Retornos_BA  Custo_Retorno_BA  Avg_Porc_BA_Bookie  Avg_Porc_BA_Real  \\\n",
       "8461            0.468          2.606838            0.364035               0.3   \n",
       "8462            0.000               inf            0.000000               0.0   \n",
       "8463            0.136          8.823529            0.000000               0.0   \n",
       "8464            0.422          1.350711            0.000000               0.0   \n",
       "\n",
       "      Dist_Porc_BA  \n",
       "8461     -0.064035  \n",
       "8462      0.000000  \n",
       "8463      0.000000  \n",
       "8464      0.000000  "
      ]
     },
     "execution_count": 8,
     "metadata": {},
     "output_type": "execute_result"
    }
   ],
   "source": [
    "jogos = games[games['Date'] == data_var]\n",
    "\n",
    "jogos = jogos.drop(columns=['Home_Pts', 'Away_Pts',\n",
    "       'Back_Home', 'PL_Home', 'Back_Away',\n",
    "       'PL_Away', 'Back_Over', 'PL_Over', 'PL_Under', 'Back_HA_H', 'PL_HA_H',\n",
    "       'PL_HA_A', ])\n",
    "\n",
    "jogos"
   ]
  },
  {
   "attachments": {},
   "cell_type": "markdown",
   "id": "08aa1c88",
   "metadata": {
    "papermill": {
     "duration": 0.002504,
     "end_time": "2024-04-02T13:03:51.416148",
     "exception": false,
     "start_time": "2024-04-02T13:03:51.413644",
     "status": "completed"
    },
    "tags": []
   },
   "source": [
    "## Apostas do dia"
   ]
  },
  {
   "cell_type": "markdown",
   "id": "b24569b1",
   "metadata": {
    "papermill": {
     "duration": 0.002002,
     "end_time": "2024-04-02T13:03:51.420152",
     "exception": false,
     "start_time": "2024-04-02T13:03:51.418150",
     "status": "completed"
    },
    "tags": []
   },
   "source": [
    "### Over v0 (LDA)"
   ]
  },
  {
   "cell_type": "code",
   "execution_count": 9,
   "id": "6f144103",
   "metadata": {
    "execution": {
     "iopub.execute_input": "2024-04-02T13:03:51.425158Z",
     "iopub.status.busy": "2024-04-02T13:03:51.425158Z",
     "iopub.status.idle": "2024-04-02T13:03:52.234988Z",
     "shell.execute_reply": "2024-04-02T13:03:52.234988Z"
    },
    "papermill": {
     "duration": 0.813834,
     "end_time": "2024-04-02T13:03:52.235988",
     "exception": false,
     "start_time": "2024-04-02T13:03:51.422154",
     "status": "completed"
    },
    "tags": []
   },
   "outputs": [
    {
     "name": "stdout",
     "output_type": "stream",
     "text": [
      "------------ MÉTODO OVER V0 (LDA) ------------\n",
      "\n"
     ]
    },
    {
     "data": {
      "text/html": [
       "<div>\n",
       "<style scoped>\n",
       "    .dataframe tbody tr th:only-of-type {\n",
       "        vertical-align: middle;\n",
       "    }\n",
       "\n",
       "    .dataframe tbody tr th {\n",
       "        vertical-align: top;\n",
       "    }\n",
       "\n",
       "    .dataframe thead th {\n",
       "        text-align: right;\n",
       "    }\n",
       "</style>\n",
       "<table border=\"1\" class=\"dataframe\">\n",
       "  <thead>\n",
       "    <tr style=\"text-align: right;\">\n",
       "      <th></th>\n",
       "      <th>Time</th>\n",
       "      <th>League</th>\n",
       "      <th>Home</th>\n",
       "      <th>Away</th>\n",
       "      <th>Over_Line</th>\n",
       "      <th>Odds_Over</th>\n",
       "      <th>prediction_score</th>\n",
       "      <th>Bet</th>\n",
       "    </tr>\n",
       "  </thead>\n",
       "  <tbody>\n",
       "    <tr>\n",
       "      <th>0</th>\n",
       "      <td>08:35</td>\n",
       "      <td>China Cba</td>\n",
       "      <td>Shanxi Zhongyu</td>\n",
       "      <td>Beijing</td>\n",
       "      <td>210.5</td>\n",
       "      <td>1.82</td>\n",
       "      <td>1.0</td>\n",
       "      <td>Over</td>\n",
       "    </tr>\n",
       "    <tr>\n",
       "      <th>1</th>\n",
       "      <td>20:00</td>\n",
       "      <td>Eua Nit</td>\n",
       "      <td>Indiana State</td>\n",
       "      <td>Utah Utes</td>\n",
       "      <td>163.5</td>\n",
       "      <td>1.91</td>\n",
       "      <td>1.0</td>\n",
       "      <td>Over</td>\n",
       "    </tr>\n",
       "    <tr>\n",
       "      <th>2</th>\n",
       "      <td>12:30</td>\n",
       "      <td>Lituânia Lkl</td>\n",
       "      <td>Jonava</td>\n",
       "      <td>Siauliai</td>\n",
       "      <td>168.5</td>\n",
       "      <td>1.85</td>\n",
       "      <td>1.0</td>\n",
       "      <td>Over</td>\n",
       "    </tr>\n",
       "  </tbody>\n",
       "</table>\n",
       "</div>"
      ],
      "text/plain": [
       "    Time        League            Home       Away  Over_Line  Odds_Over  \\\n",
       "0  08:35     China Cba  Shanxi Zhongyu    Beijing      210.5       1.82   \n",
       "1  20:00       Eua Nit   Indiana State  Utah Utes      163.5       1.91   \n",
       "2  12:30  Lituânia Lkl          Jonava   Siauliai      168.5       1.85   \n",
       "\n",
       "   prediction_score   Bet  \n",
       "0               1.0  Over  \n",
       "1               1.0  Over  \n",
       "2               1.0  Over  "
      ]
     },
     "metadata": {},
     "output_type": "display_data"
    },
    {
     "name": "stdout",
     "output_type": "stream",
     "text": [
      "\n"
     ]
    }
   ],
   "source": [
    "# Duplicando o dataset\n",
    "df_over_v0 = jogos.copy()\n",
    "\n",
    "df_over_v0.reset_index(drop=True, inplace=True)\n",
    "df_over_v0.replace([np.inf, -np.inf], 0, inplace=True)\n",
    "\n",
    "if not df_over_v0.empty:\n",
    "    mdl_over_v0 = load_model('ML/over/v1/v1_over', verbose=False)\n",
    "    prev = predict_model(mdl_over_v0, df_over_v0)\n",
    "    prev = prev[prev['prediction_label'] ==  1]\n",
    "    prev.reset_index(drop=True, inplace=True)\n",
    "    \n",
    "    # Filtros pós modelo\n",
    "\n",
    "    if not prev.empty:\n",
    "        prev.to_csv(f'apostas_do_dia/{data_var}/over_v0_{data_var}.csv', index=False)\n",
    "\n",
    "        print('------------ MÉTODO OVER V0 (LDA) ------------')\n",
    "        print()\n",
    "\n",
    "        prev['Bet'] = 'Over'\n",
    "        ligs = prev['League'].unique().tolist()\n",
    "\n",
    "        display(prev[['Time', 'League', 'Home', 'Away', 'Over_Line', 'Odds_Over', 'prediction_score', 'Bet']])\n",
    "        print()\n",
    "    else: print('Sem jogos')\n",
    "else: print('Sem jogos')"
   ]
  }
 ],
 "metadata": {
  "kernelspec": {
   "display_name": "modelos_futebol",
   "language": "python",
   "name": "python3"
  },
  "language_info": {
   "codemirror_mode": {
    "name": "ipython",
    "version": 3
   },
   "file_extension": ".py",
   "mimetype": "text/x-python",
   "name": "python",
   "nbconvert_exporter": "python",
   "pygments_lexer": "ipython3",
   "version": "3.10.7"
  },
  "papermill": {
   "default_parameters": {},
   "duration": 47.338551,
   "end_time": "2024-04-02T13:03:52.820080",
   "environment_variables": {},
   "exception": null,
   "input_path": "apostas_do_dia_v1.ipynb",
   "output_path": "apostas_do_dia_v1.ipynb",
   "parameters": {
    "data_var": "2024-04-02"
   },
   "start_time": "2024-04-02T13:03:05.481529",
   "version": "2.5.0"
  }
 },
 "nbformat": 4,
 "nbformat_minor": 5
}