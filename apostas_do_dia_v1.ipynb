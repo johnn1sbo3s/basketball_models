{
 "cells": [
  {
   "cell_type": "code",
   "execution_count": 1,
   "id": "d690e842",
   "metadata": {
    "execution": {
     "iopub.execute_input": "2024-06-13T13:03:02.236901Z",
     "iopub.status.busy": "2024-06-13T13:03:02.236398Z",
     "iopub.status.idle": "2024-06-13T13:03:02.248398Z",
     "shell.execute_reply": "2024-06-13T13:03:02.247895Z"
    },
    "papermill": {
     "duration": 0.017044,
     "end_time": "2024-06-13T13:03:02.249411",
     "exception": false,
     "start_time": "2024-06-13T13:03:02.232367",
     "status": "completed"
    },
    "tags": [
     "parameters"
    ]
   },
   "outputs": [],
   "source": [
    "data_var = ''"
   ]
  },
  {
   "cell_type": "code",
   "execution_count": 2,
   "id": "5ea9bdc2",
   "metadata": {
    "execution": {
     "iopub.execute_input": "2024-06-13T13:03:02.254395Z",
     "iopub.status.busy": "2024-06-13T13:03:02.254395Z",
     "iopub.status.idle": "2024-06-13T13:03:02.263900Z",
     "shell.execute_reply": "2024-06-13T13:03:02.263378Z"
    },
    "papermill": {
     "duration": 0.013502,
     "end_time": "2024-06-13T13:03:02.264897",
     "exception": false,
     "start_time": "2024-06-13T13:03:02.251395",
     "status": "completed"
    },
    "tags": [
     "injected-parameters"
    ]
   },
   "outputs": [],
   "source": [
    "# Parameters\n",
    "data_var = \"2024-06-13\"\n"
   ]
  },
  {
   "cell_type": "code",
   "execution_count": 3,
   "id": "25b97174",
   "metadata": {
    "execution": {
     "iopub.execute_input": "2024-06-13T13:03:02.269397Z",
     "iopub.status.busy": "2024-06-13T13:03:02.269397Z",
     "iopub.status.idle": "2024-06-13T13:03:07.930299Z",
     "shell.execute_reply": "2024-06-13T13:03:07.929778Z"
    },
    "papermill": {
     "duration": 5.6649,
     "end_time": "2024-06-13T13:03:07.931793",
     "exception": false,
     "start_time": "2024-06-13T13:03:02.266893",
     "status": "completed"
    },
    "tags": []
   },
   "outputs": [],
   "source": [
    "import pandas as pd; pd.set_option('display.max_columns', None)\n",
    "import os\n",
    "from pycaret.classification import *\n",
    "from scripts.PreparaDataset import *\n",
    "from scripts.TeoriaRetornos import *"
   ]
  },
  {
   "attachments": {},
   "cell_type": "markdown",
   "id": "ffa9b361",
   "metadata": {
    "papermill": {
     "duration": 0.0015,
     "end_time": "2024-06-13T13:03:07.935793",
     "exception": false,
     "start_time": "2024-06-13T13:03:07.934293",
     "status": "completed"
    },
    "tags": []
   },
   "source": [
    "### Funções"
   ]
  },
  {
   "cell_type": "code",
   "execution_count": 4,
   "id": "cb6eea9b",
   "metadata": {
    "execution": {
     "iopub.execute_input": "2024-06-13T13:03:07.940293Z",
     "iopub.status.busy": "2024-06-13T13:03:07.940293Z",
     "iopub.status.idle": "2024-06-13T13:03:07.946121Z",
     "shell.execute_reply": "2024-06-13T13:03:07.945103Z"
    },
    "papermill": {
     "duration": 0.009331,
     "end_time": "2024-06-13T13:03:07.947124",
     "exception": false,
     "start_time": "2024-06-13T13:03:07.937793",
     "status": "completed"
    },
    "tags": []
   },
   "outputs": [],
   "source": [
    "def atualiza_dia(_jogos):\n",
    "    _jogos = prepara_df(_jogos)\n",
    "\n",
    "    _jogos = _jogos.reset_index(drop=True)\n",
    "\n",
    "    return _jogos"
   ]
  },
  {
   "attachments": {},
   "cell_type": "markdown",
   "id": "26b16874",
   "metadata": {
    "papermill": {
     "duration": 0.001997,
     "end_time": "2024-06-13T13:03:07.951121",
     "exception": false,
     "start_time": "2024-06-13T13:03:07.949124",
     "status": "completed"
    },
    "tags": []
   },
   "source": [
    "### Pegando os jogos do dia"
   ]
  },
  {
   "cell_type": "code",
   "execution_count": 5,
   "id": "5ddb2ecb",
   "metadata": {
    "execution": {
     "iopub.execute_input": "2024-06-13T13:03:07.955621Z",
     "iopub.status.busy": "2024-06-13T13:03:07.955621Z",
     "iopub.status.idle": "2024-06-13T13:03:07.976734Z",
     "shell.execute_reply": "2024-06-13T13:03:07.976222Z"
    },
    "papermill": {
     "duration": 0.02561,
     "end_time": "2024-06-13T13:03:07.978229",
     "exception": false,
     "start_time": "2024-06-13T13:03:07.952619",
     "status": "completed"
    },
    "tags": []
   },
   "outputs": [],
   "source": [
    "df_today = pd.read_csv(f'jogos_do_dia/{data_var}.csv')"
   ]
  },
  {
   "cell_type": "markdown",
   "id": "19a2214d",
   "metadata": {
    "papermill": {
     "duration": 0.002002,
     "end_time": "2024-06-13T13:03:07.981729",
     "exception": false,
     "start_time": "2024-06-13T13:03:07.979727",
     "status": "completed"
    },
    "tags": []
   },
   "source": [
    "### Atualizando os datasets que tem jogo hoje"
   ]
  },
  {
   "cell_type": "code",
   "execution_count": 6,
   "id": "68bd72ae",
   "metadata": {
    "execution": {
     "iopub.execute_input": "2024-06-13T13:03:07.986230Z",
     "iopub.status.busy": "2024-06-13T13:03:07.985731Z",
     "iopub.status.idle": "2024-06-13T13:03:08.054083Z",
     "shell.execute_reply": "2024-06-13T13:03:08.053551Z"
    },
    "papermill": {
     "duration": 0.072363,
     "end_time": "2024-06-13T13:03:08.055590",
     "exception": false,
     "start_time": "2024-06-13T13:03:07.983227",
     "status": "completed"
    },
    "tags": []
   },
   "outputs": [],
   "source": [
    "temporada = pd.read_csv('data/Entire_Season.csv')\n",
    "temporada = temporada[temporada['Date'] < data_var]\n",
    "temporada = pd.concat([temporada, df_today])\n",
    "ligas = df_today['League'].unique().tolist()\n",
    "temporada = temporada[temporada['League'].isin(ligas)]\n",
    "temporada.reset_index(drop=True, inplace=True)"
   ]
  },
  {
   "cell_type": "markdown",
   "id": "0d8018ca",
   "metadata": {
    "papermill": {
     "duration": 0.002,
     "end_time": "2024-06-13T13:03:08.060089",
     "exception": false,
     "start_time": "2024-06-13T13:03:08.058089",
     "status": "completed"
    },
    "tags": []
   },
   "source": [
    "### Cria variáveis na temporada e nos jogos do dia"
   ]
  },
  {
   "cell_type": "code",
   "execution_count": 7,
   "id": "d3b06cb1",
   "metadata": {
    "execution": {
     "iopub.execute_input": "2024-06-13T13:03:08.064596Z",
     "iopub.status.busy": "2024-06-13T13:03:08.064095Z",
     "iopub.status.idle": "2024-06-13T13:03:10.781241Z",
     "shell.execute_reply": "2024-06-13T13:03:10.780703Z"
    },
    "papermill": {
     "duration": 2.720639,
     "end_time": "2024-06-13T13:03:10.782728",
     "exception": false,
     "start_time": "2024-06-13T13:03:08.062089",
     "status": "completed"
    },
    "tags": []
   },
   "outputs": [],
   "source": [
    "games = atualiza_dia(temporada)\n",
    "temporada = games[games['Date'] < data_var]\n",
    "os.makedirs(f'apostas_do_dia/{data_var}', exist_ok=True)"
   ]
  },
  {
   "cell_type": "code",
   "execution_count": 8,
   "id": "16aa533f",
   "metadata": {
    "execution": {
     "iopub.execute_input": "2024-06-13T13:03:10.787723Z",
     "iopub.status.busy": "2024-06-13T13:03:10.787723Z",
     "iopub.status.idle": "2024-06-13T13:03:10.827775Z",
     "shell.execute_reply": "2024-06-13T13:03:10.826768Z"
    },
    "papermill": {
     "duration": 0.044047,
     "end_time": "2024-06-13T13:03:10.828770",
     "exception": false,
     "start_time": "2024-06-13T13:03:10.784723",
     "status": "completed"
    },
    "tags": []
   },
   "outputs": [
    {
     "data": {
      "text/html": [
       "<div>\n",
       "<style scoped>\n",
       "    .dataframe tbody tr th:only-of-type {\n",
       "        vertical-align: middle;\n",
       "    }\n",
       "\n",
       "    .dataframe tbody tr th {\n",
       "        vertical-align: top;\n",
       "    }\n",
       "\n",
       "    .dataframe thead th {\n",
       "        text-align: right;\n",
       "    }\n",
       "</style>\n",
       "<table border=\"1\" class=\"dataframe\">\n",
       "  <thead>\n",
       "    <tr style=\"text-align: right;\">\n",
       "      <th></th>\n",
       "      <th>Date</th>\n",
       "      <th>League</th>\n",
       "      <th>Time</th>\n",
       "      <th>Home</th>\n",
       "      <th>Away</th>\n",
       "      <th>Odds_H</th>\n",
       "      <th>Odds_A</th>\n",
       "      <th>Over_Line</th>\n",
       "      <th>Odds_Over</th>\n",
       "      <th>Odds_Under</th>\n",
       "      <th>HA_Line</th>\n",
       "      <th>HA_Odds_H</th>\n",
       "      <th>HA_Odds_A</th>\n",
       "      <th>Fixture ID</th>\n",
       "      <th>P(H)</th>\n",
       "      <th>P(A)</th>\n",
       "      <th>P(O)</th>\n",
       "      <th>P(U)</th>\n",
       "      <th>P_Diff</th>\n",
       "      <th>Porc_Over_Home</th>\n",
       "      <th>Porc_Over_Away</th>\n",
       "      <th>CustoGolHome</th>\n",
       "      <th>CustoGolAway</th>\n",
       "      <th>Avg_CG_H</th>\n",
       "      <th>DP_CG_H</th>\n",
       "      <th>CV_CG_H</th>\n",
       "      <th>Avg_CG_A</th>\n",
       "      <th>DP_CG_A</th>\n",
       "      <th>CV_CG_A</th>\n",
       "      <th>MediaCustoGolHome</th>\n",
       "      <th>MediaCustoGolAway</th>\n",
       "      <th>Last_CG_H</th>\n",
       "      <th>Last_CG_A</th>\n",
       "      <th>Acima_Last_CG_H</th>\n",
       "      <th>Acima_Last_CG_A</th>\n",
       "      <th>Abaixo_Last_CG_H</th>\n",
       "      <th>Abaixo_Last_CG_A</th>\n",
       "      <th>CV_ML</th>\n",
       "      <th>CV_Over</th>\n",
       "      <th>CV_HA</th>\n",
       "      <th>Retornos_BH_Acu</th>\n",
       "      <th>Avg_Retornos_BH</th>\n",
       "      <th>Custo_Retorno_BH</th>\n",
       "      <th>Avg_Porc_BH_Bookie</th>\n",
       "      <th>Avg_Porc_BH_Real</th>\n",
       "      <th>Dist_Porc_BH</th>\n",
       "      <th>Retornos_BA_Acu</th>\n",
       "      <th>Avg_Retornos_BA</th>\n",
       "      <th>Custo_Retorno_BA</th>\n",
       "      <th>Avg_Porc_BA_Bookie</th>\n",
       "      <th>Avg_Porc_BA_Real</th>\n",
       "      <th>Dist_Porc_BA</th>\n",
       "    </tr>\n",
       "  </thead>\n",
       "  <tbody>\n",
       "    <tr>\n",
       "      <th>1030</th>\n",
       "      <td>2024-06-13</td>\n",
       "      <td>Eua Wnba</td>\n",
       "      <td>20:00</td>\n",
       "      <td>Indiana Fever F</td>\n",
       "      <td>Atlanta Dream F</td>\n",
       "      <td>2.19</td>\n",
       "      <td>1.69</td>\n",
       "      <td>161.5</td>\n",
       "      <td>1.85</td>\n",
       "      <td>1.93</td>\n",
       "      <td>1.5</td>\n",
       "      <td>2.03</td>\n",
       "      <td>1.55</td>\n",
       "      <td>ED78bGLT</td>\n",
       "      <td>0.456621</td>\n",
       "      <td>0.591716</td>\n",
       "      <td>0.540541</td>\n",
       "      <td>0.518135</td>\n",
       "      <td>0.048337</td>\n",
       "      <td>0.0</td>\n",
       "      <td>0.0</td>\n",
       "      <td>NaN</td>\n",
       "      <td>NaN</td>\n",
       "      <td>168.68</td>\n",
       "      <td>29.41435</td>\n",
       "      <td>0.17438</td>\n",
       "      <td>NaN</td>\n",
       "      <td>NaN</td>\n",
       "      <td>NaN</td>\n",
       "      <td>0.0</td>\n",
       "      <td>0.0</td>\n",
       "      <td>159.04</td>\n",
       "      <td>155.75</td>\n",
       "      <td>0.0</td>\n",
       "      <td>0.0</td>\n",
       "      <td>0.0</td>\n",
       "      <td>0.0</td>\n",
       "      <td>0.182244</td>\n",
       "      <td>0.029930</td>\n",
       "      <td>0.189615</td>\n",
       "      <td>0.0</td>\n",
       "      <td>0.0</td>\n",
       "      <td>inf</td>\n",
       "      <td>0.0</td>\n",
       "      <td>0.0</td>\n",
       "      <td>0.0</td>\n",
       "      <td>0.0</td>\n",
       "      <td>0.0</td>\n",
       "      <td>inf</td>\n",
       "      <td>0.0</td>\n",
       "      <td>0.0</td>\n",
       "      <td>0.0</td>\n",
       "    </tr>\n",
       "    <tr>\n",
       "      <th>1031</th>\n",
       "      <td>2024-06-13</td>\n",
       "      <td>Paraguai Lnb</td>\n",
       "      <td>20:30</td>\n",
       "      <td>Felix Perez Cardozo</td>\n",
       "      <td>Colonias Gold</td>\n",
       "      <td>1.74</td>\n",
       "      <td>1.99</td>\n",
       "      <td>149.5</td>\n",
       "      <td>1.86</td>\n",
       "      <td>1.80</td>\n",
       "      <td>-2.5</td>\n",
       "      <td>2.01</td>\n",
       "      <td>2.40</td>\n",
       "      <td>0n5xPROG</td>\n",
       "      <td>0.574713</td>\n",
       "      <td>0.502513</td>\n",
       "      <td>0.537634</td>\n",
       "      <td>0.555556</td>\n",
       "      <td>0.077225</td>\n",
       "      <td>0.0</td>\n",
       "      <td>0.0</td>\n",
       "      <td>NaN</td>\n",
       "      <td>NaN</td>\n",
       "      <td>NaN</td>\n",
       "      <td>NaN</td>\n",
       "      <td>NaN</td>\n",
       "      <td>NaN</td>\n",
       "      <td>NaN</td>\n",
       "      <td>NaN</td>\n",
       "      <td>0.0</td>\n",
       "      <td>0.0</td>\n",
       "      <td>0.00</td>\n",
       "      <td>0.00</td>\n",
       "      <td>0.0</td>\n",
       "      <td>0.0</td>\n",
       "      <td>0.0</td>\n",
       "      <td>0.0</td>\n",
       "      <td>0.094786</td>\n",
       "      <td>0.023184</td>\n",
       "      <td>0.125067</td>\n",
       "      <td>0.0</td>\n",
       "      <td>0.0</td>\n",
       "      <td>inf</td>\n",
       "      <td>0.0</td>\n",
       "      <td>0.0</td>\n",
       "      <td>0.0</td>\n",
       "      <td>0.0</td>\n",
       "      <td>0.0</td>\n",
       "      <td>inf</td>\n",
       "      <td>0.0</td>\n",
       "      <td>0.0</td>\n",
       "      <td>0.0</td>\n",
       "    </tr>\n",
       "    <tr>\n",
       "      <th>1032</th>\n",
       "      <td>2024-06-13</td>\n",
       "      <td>Venezuela Superliga</td>\n",
       "      <td>13:00</td>\n",
       "      <td>Panteras</td>\n",
       "      <td>Guaiqueries</td>\n",
       "      <td>1.84</td>\n",
       "      <td>1.88</td>\n",
       "      <td>146.5</td>\n",
       "      <td>1.80</td>\n",
       "      <td>1.86</td>\n",
       "      <td>-1.5</td>\n",
       "      <td>1.97</td>\n",
       "      <td>2.05</td>\n",
       "      <td>fNLwdEUq</td>\n",
       "      <td>0.543478</td>\n",
       "      <td>0.531915</td>\n",
       "      <td>0.555556</td>\n",
       "      <td>0.537634</td>\n",
       "      <td>0.075393</td>\n",
       "      <td>0.0</td>\n",
       "      <td>0.0</td>\n",
       "      <td>NaN</td>\n",
       "      <td>NaN</td>\n",
       "      <td>NaN</td>\n",
       "      <td>NaN</td>\n",
       "      <td>NaN</td>\n",
       "      <td>NaN</td>\n",
       "      <td>NaN</td>\n",
       "      <td>NaN</td>\n",
       "      <td>0.0</td>\n",
       "      <td>0.0</td>\n",
       "      <td>0.00</td>\n",
       "      <td>151.30</td>\n",
       "      <td>0.0</td>\n",
       "      <td>0.0</td>\n",
       "      <td>0.0</td>\n",
       "      <td>0.0</td>\n",
       "      <td>0.015207</td>\n",
       "      <td>0.023184</td>\n",
       "      <td>0.028144</td>\n",
       "      <td>0.0</td>\n",
       "      <td>0.0</td>\n",
       "      <td>inf</td>\n",
       "      <td>0.0</td>\n",
       "      <td>0.0</td>\n",
       "      <td>0.0</td>\n",
       "      <td>0.0</td>\n",
       "      <td>0.0</td>\n",
       "      <td>inf</td>\n",
       "      <td>0.0</td>\n",
       "      <td>0.0</td>\n",
       "      <td>0.0</td>\n",
       "    </tr>\n",
       "    <tr>\n",
       "      <th>1033</th>\n",
       "      <td>2024-06-13</td>\n",
       "      <td>Porto Rico Bsn</td>\n",
       "      <td>21:00</td>\n",
       "      <td>Vaqueros de Bayamon</td>\n",
       "      <td>Cangrejeros</td>\n",
       "      <td>1.76</td>\n",
       "      <td>1.97</td>\n",
       "      <td>169.5</td>\n",
       "      <td>1.85</td>\n",
       "      <td>1.85</td>\n",
       "      <td>-2.5</td>\n",
       "      <td>1.95</td>\n",
       "      <td>2.30</td>\n",
       "      <td>IPWgf3CF</td>\n",
       "      <td>0.568182</td>\n",
       "      <td>0.507614</td>\n",
       "      <td>0.540541</td>\n",
       "      <td>0.540541</td>\n",
       "      <td>0.075796</td>\n",
       "      <td>0.0</td>\n",
       "      <td>0.0</td>\n",
       "      <td>NaN</td>\n",
       "      <td>NaN</td>\n",
       "      <td>NaN</td>\n",
       "      <td>NaN</td>\n",
       "      <td>NaN</td>\n",
       "      <td>NaN</td>\n",
       "      <td>NaN</td>\n",
       "      <td>NaN</td>\n",
       "      <td>0.0</td>\n",
       "      <td>0.0</td>\n",
       "      <td>147.42</td>\n",
       "      <td>155.31</td>\n",
       "      <td>0.0</td>\n",
       "      <td>0.0</td>\n",
       "      <td>0.0</td>\n",
       "      <td>0.0</td>\n",
       "      <td>0.079621</td>\n",
       "      <td>0.000000</td>\n",
       "      <td>0.116465</td>\n",
       "      <td>0.0</td>\n",
       "      <td>0.0</td>\n",
       "      <td>inf</td>\n",
       "      <td>0.0</td>\n",
       "      <td>0.0</td>\n",
       "      <td>0.0</td>\n",
       "      <td>0.0</td>\n",
       "      <td>0.0</td>\n",
       "      <td>inf</td>\n",
       "      <td>0.0</td>\n",
       "      <td>0.0</td>\n",
       "      <td>0.0</td>\n",
       "    </tr>\n",
       "  </tbody>\n",
       "</table>\n",
       "</div>"
      ],
      "text/plain": [
       "            Date               League   Time                 Home  \\\n",
       "1030  2024-06-13             Eua Wnba  20:00      Indiana Fever F   \n",
       "1031  2024-06-13         Paraguai Lnb  20:30  Felix Perez Cardozo   \n",
       "1032  2024-06-13  Venezuela Superliga  13:00             Panteras   \n",
       "1033  2024-06-13       Porto Rico Bsn  21:00  Vaqueros de Bayamon   \n",
       "\n",
       "                 Away  Odds_H  Odds_A  Over_Line  Odds_Over  Odds_Under  \\\n",
       "1030  Atlanta Dream F    2.19    1.69      161.5       1.85        1.93   \n",
       "1031    Colonias Gold    1.74    1.99      149.5       1.86        1.80   \n",
       "1032      Guaiqueries    1.84    1.88      146.5       1.80        1.86   \n",
       "1033      Cangrejeros    1.76    1.97      169.5       1.85        1.85   \n",
       "\n",
       "      HA_Line  HA_Odds_H  HA_Odds_A Fixture ID      P(H)      P(A)      P(O)  \\\n",
       "1030      1.5       2.03       1.55   ED78bGLT  0.456621  0.591716  0.540541   \n",
       "1031     -2.5       2.01       2.40   0n5xPROG  0.574713  0.502513  0.537634   \n",
       "1032     -1.5       1.97       2.05   fNLwdEUq  0.543478  0.531915  0.555556   \n",
       "1033     -2.5       1.95       2.30   IPWgf3CF  0.568182  0.507614  0.540541   \n",
       "\n",
       "          P(U)    P_Diff  Porc_Over_Home  Porc_Over_Away  CustoGolHome  \\\n",
       "1030  0.518135  0.048337             0.0             0.0           NaN   \n",
       "1031  0.555556  0.077225             0.0             0.0           NaN   \n",
       "1032  0.537634  0.075393             0.0             0.0           NaN   \n",
       "1033  0.540541  0.075796             0.0             0.0           NaN   \n",
       "\n",
       "      CustoGolAway  Avg_CG_H   DP_CG_H  CV_CG_H  Avg_CG_A  DP_CG_A  CV_CG_A  \\\n",
       "1030           NaN    168.68  29.41435  0.17438       NaN      NaN      NaN   \n",
       "1031           NaN       NaN       NaN      NaN       NaN      NaN      NaN   \n",
       "1032           NaN       NaN       NaN      NaN       NaN      NaN      NaN   \n",
       "1033           NaN       NaN       NaN      NaN       NaN      NaN      NaN   \n",
       "\n",
       "      MediaCustoGolHome  MediaCustoGolAway  Last_CG_H  Last_CG_A  \\\n",
       "1030                0.0                0.0     159.04     155.75   \n",
       "1031                0.0                0.0       0.00       0.00   \n",
       "1032                0.0                0.0       0.00     151.30   \n",
       "1033                0.0                0.0     147.42     155.31   \n",
       "\n",
       "      Acima_Last_CG_H  Acima_Last_CG_A  Abaixo_Last_CG_H  Abaixo_Last_CG_A  \\\n",
       "1030              0.0              0.0               0.0               0.0   \n",
       "1031              0.0              0.0               0.0               0.0   \n",
       "1032              0.0              0.0               0.0               0.0   \n",
       "1033              0.0              0.0               0.0               0.0   \n",
       "\n",
       "         CV_ML   CV_Over     CV_HA  Retornos_BH_Acu  Avg_Retornos_BH  \\\n",
       "1030  0.182244  0.029930  0.189615              0.0              0.0   \n",
       "1031  0.094786  0.023184  0.125067              0.0              0.0   \n",
       "1032  0.015207  0.023184  0.028144              0.0              0.0   \n",
       "1033  0.079621  0.000000  0.116465              0.0              0.0   \n",
       "\n",
       "      Custo_Retorno_BH  Avg_Porc_BH_Bookie  Avg_Porc_BH_Real  Dist_Porc_BH  \\\n",
       "1030               inf                 0.0               0.0           0.0   \n",
       "1031               inf                 0.0               0.0           0.0   \n",
       "1032               inf                 0.0               0.0           0.0   \n",
       "1033               inf                 0.0               0.0           0.0   \n",
       "\n",
       "      Retornos_BA_Acu  Avg_Retornos_BA  Custo_Retorno_BA  Avg_Porc_BA_Bookie  \\\n",
       "1030              0.0              0.0               inf                 0.0   \n",
       "1031              0.0              0.0               inf                 0.0   \n",
       "1032              0.0              0.0               inf                 0.0   \n",
       "1033              0.0              0.0               inf                 0.0   \n",
       "\n",
       "      Avg_Porc_BA_Real  Dist_Porc_BA  \n",
       "1030               0.0           0.0  \n",
       "1031               0.0           0.0  \n",
       "1032               0.0           0.0  \n",
       "1033               0.0           0.0  "
      ]
     },
     "execution_count": 8,
     "metadata": {},
     "output_type": "execute_result"
    }
   ],
   "source": [
    "jogos = games[games['Date'] == data_var]\n",
    "\n",
    "jogos = jogos.drop(columns=['Home_Pts', 'Away_Pts',\n",
    "       'Back_Home', 'PL_Home', 'Back_Away',\n",
    "       'PL_Away', 'Back_Over', 'PL_Over', 'PL_Under', 'Back_HA_H', 'PL_HA_H',\n",
    "       'PL_HA_A', ])\n",
    "\n",
    "jogos"
   ]
  },
  {
   "attachments": {},
   "cell_type": "markdown",
   "id": "08aa1c88",
   "metadata": {
    "papermill": {
     "duration": 0.002498,
     "end_time": "2024-06-13T13:03:10.833767",
     "exception": false,
     "start_time": "2024-06-13T13:03:10.831269",
     "status": "completed"
    },
    "tags": []
   },
   "source": [
    "## Apostas do dia"
   ]
  },
  {
   "cell_type": "markdown",
   "id": "b24569b1",
   "metadata": {
    "papermill": {
     "duration": 0.002,
     "end_time": "2024-06-13T13:03:10.837767",
     "exception": false,
     "start_time": "2024-06-13T13:03:10.835767",
     "status": "completed"
    },
    "tags": []
   },
   "source": [
    "### Over v0 (LDA)"
   ]
  },
  {
   "cell_type": "code",
   "execution_count": 9,
   "id": "6f144103",
   "metadata": {
    "execution": {
     "iopub.execute_input": "2024-06-13T13:03:10.842783Z",
     "iopub.status.busy": "2024-06-13T13:03:10.842273Z",
     "iopub.status.idle": "2024-06-13T13:03:11.043383Z",
     "shell.execute_reply": "2024-06-13T13:03:11.042852Z"
    },
    "papermill": {
     "duration": 0.205128,
     "end_time": "2024-06-13T13:03:11.044895",
     "exception": false,
     "start_time": "2024-06-13T13:03:10.839767",
     "status": "completed"
    },
    "tags": []
   },
   "outputs": [
    {
     "name": "stdout",
     "output_type": "stream",
     "text": [
      "------------ MÉTODO OVER V0 (LDA) ------------\n",
      "\n"
     ]
    },
    {
     "data": {
      "text/html": [
       "<div>\n",
       "<style scoped>\n",
       "    .dataframe tbody tr th:only-of-type {\n",
       "        vertical-align: middle;\n",
       "    }\n",
       "\n",
       "    .dataframe tbody tr th {\n",
       "        vertical-align: top;\n",
       "    }\n",
       "\n",
       "    .dataframe thead th {\n",
       "        text-align: right;\n",
       "    }\n",
       "</style>\n",
       "<table border=\"1\" class=\"dataframe\">\n",
       "  <thead>\n",
       "    <tr style=\"text-align: right;\">\n",
       "      <th></th>\n",
       "      <th>Time</th>\n",
       "      <th>League</th>\n",
       "      <th>Home</th>\n",
       "      <th>Away</th>\n",
       "      <th>Over_Line</th>\n",
       "      <th>Odds_Over</th>\n",
       "      <th>prediction_score</th>\n",
       "      <th>Bet</th>\n",
       "    </tr>\n",
       "  </thead>\n",
       "  <tbody>\n",
       "    <tr>\n",
       "      <th>0</th>\n",
       "      <td>20:30</td>\n",
       "      <td>Paraguai Lnb</td>\n",
       "      <td>Felix Perez Cardozo</td>\n",
       "      <td>Colonias Gold</td>\n",
       "      <td>149.5</td>\n",
       "      <td>1.86</td>\n",
       "      <td>1.0000</td>\n",
       "      <td>Over</td>\n",
       "    </tr>\n",
       "    <tr>\n",
       "      <th>1</th>\n",
       "      <td>13:00</td>\n",
       "      <td>Venezuela Superliga</td>\n",
       "      <td>Panteras</td>\n",
       "      <td>Guaiqueries</td>\n",
       "      <td>146.5</td>\n",
       "      <td>1.80</td>\n",
       "      <td>0.9976</td>\n",
       "      <td>Over</td>\n",
       "    </tr>\n",
       "    <tr>\n",
       "      <th>2</th>\n",
       "      <td>21:00</td>\n",
       "      <td>Porto Rico Bsn</td>\n",
       "      <td>Vaqueros de Bayamon</td>\n",
       "      <td>Cangrejeros</td>\n",
       "      <td>169.5</td>\n",
       "      <td>1.85</td>\n",
       "      <td>1.0000</td>\n",
       "      <td>Over</td>\n",
       "    </tr>\n",
       "  </tbody>\n",
       "</table>\n",
       "</div>"
      ],
      "text/plain": [
       "    Time               League                 Home           Away  Over_Line  \\\n",
       "0  20:30         Paraguai Lnb  Felix Perez Cardozo  Colonias Gold      149.5   \n",
       "1  13:00  Venezuela Superliga             Panteras    Guaiqueries      146.5   \n",
       "2  21:00       Porto Rico Bsn  Vaqueros de Bayamon    Cangrejeros      169.5   \n",
       "\n",
       "   Odds_Over  prediction_score   Bet  \n",
       "0       1.86            1.0000  Over  \n",
       "1       1.80            0.9976  Over  \n",
       "2       1.85            1.0000  Over  "
      ]
     },
     "metadata": {},
     "output_type": "display_data"
    },
    {
     "name": "stdout",
     "output_type": "stream",
     "text": [
      "\n"
     ]
    }
   ],
   "source": [
    "# Duplicando o dataset\n",
    "df_over_v0 = jogos.copy()\n",
    "\n",
    "df_over_v0.reset_index(drop=True, inplace=True)\n",
    "df_over_v0.replace([np.inf, -np.inf], 0, inplace=True)\n",
    "\n",
    "if not df_over_v0.empty:\n",
    "    mdl_over_v0 = load_model('ML/over/v1/v1_over', verbose=False)\n",
    "    prev = predict_model(mdl_over_v0, df_over_v0)\n",
    "    prev = prev[prev['prediction_label'] ==  1]\n",
    "    prev.reset_index(drop=True, inplace=True)\n",
    "    \n",
    "    # Filtros pós modelo\n",
    "\n",
    "    if not prev.empty:\n",
    "        prev.to_csv(f'apostas_do_dia/{data_var}/over_v0_{data_var}.csv', index=False)\n",
    "\n",
    "        print('------------ MÉTODO OVER V0 (LDA) ------------')\n",
    "        print()\n",
    "\n",
    "        prev['Bet'] = 'Over'\n",
    "        ligs = prev['League'].unique().tolist()\n",
    "\n",
    "        display(prev[['Time', 'League', 'Home', 'Away', 'Over_Line', 'Odds_Over', 'prediction_score', 'Bet']])\n",
    "        print()\n",
    "    else: print('Sem jogos')\n",
    "else: print('Sem jogos')"
   ]
  }
 ],
 "metadata": {
  "kernelspec": {
   "display_name": "modelos_futebol",
   "language": "python",
   "name": "python3"
  },
  "language_info": {
   "codemirror_mode": {
    "name": "ipython",
    "version": 3
   },
   "file_extension": ".py",
   "mimetype": "text/x-python",
   "name": "python",
   "nbconvert_exporter": "python",
   "pygments_lexer": "ipython3",
   "version": "3.10.7"
  },
  "papermill": {
   "default_parameters": {},
   "duration": 10.53843,
   "end_time": "2024-06-13T13:03:11.493633",
   "environment_variables": {},
   "exception": null,
   "input_path": "apostas_do_dia_v1.ipynb",
   "output_path": "apostas_do_dia_v1.ipynb",
   "parameters": {
    "data_var": "2024-06-13"
   },
   "start_time": "2024-06-13T13:03:00.955203",
   "version": "2.5.0"
  }
 },
 "nbformat": 4,
 "nbformat_minor": 5
}