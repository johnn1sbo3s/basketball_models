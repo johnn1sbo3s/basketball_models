{
 "cells": [
  {
   "cell_type": "code",
   "execution_count": 1,
   "metadata": {},
   "outputs": [],
   "source": [
    "import pandas as pd; pd.set_option('display.max_columns', None)\n",
    "import glob\n",
    "\n",
    "temp = pd.read_csv('data/Entire_Season.csv')"
   ]
  },
  {
   "cell_type": "code",
   "execution_count": 8,
   "metadata": {},
   "outputs": [
    {
     "name": "stdout",
     "output_type": "stream",
     "text": [
      "['apostas_do_dia/2023-11-05\\\\ah_pos_v4_2023-11-05.csv']\n"
     ]
    },
    {
     "data": {
      "text/html": [
       "<div>\n",
       "<style scoped>\n",
       "    .dataframe tbody tr th:only-of-type {\n",
       "        vertical-align: middle;\n",
       "    }\n",
       "\n",
       "    .dataframe tbody tr th {\n",
       "        vertical-align: top;\n",
       "    }\n",
       "\n",
       "    .dataframe thead th {\n",
       "        text-align: right;\n",
       "    }\n",
       "</style>\n",
       "<table border=\"1\" class=\"dataframe\">\n",
       "  <thead>\n",
       "    <tr style=\"text-align: right;\">\n",
       "      <th></th>\n",
       "      <th>Date</th>\n",
       "      <th>Home</th>\n",
       "      <th>Away</th>\n",
       "      <th>Home_Pts</th>\n",
       "      <th>Away_Pts</th>\n",
       "      <th>Odds_H</th>\n",
       "      <th>Odds_A</th>\n",
       "      <th>Over_Line</th>\n",
       "      <th>Odds_Over</th>\n",
       "      <th>HA_Line</th>\n",
       "      <th>HA_Odds_H</th>\n",
       "      <th>HA_Odds_A</th>\n",
       "    </tr>\n",
       "  </thead>\n",
       "  <tbody>\n",
       "    <tr>\n",
       "      <th>0</th>\n",
       "      <td>2023-11-05</td>\n",
       "      <td>Murcia</td>\n",
       "      <td>Manresa</td>\n",
       "      <td>87.0</td>\n",
       "      <td>74.0</td>\n",
       "      <td>1.28</td>\n",
       "      <td>3.80</td>\n",
       "      <td>168.5</td>\n",
       "      <td>1.91</td>\n",
       "      <td>-7.5</td>\n",
       "      <td>1.87</td>\n",
       "      <td>1.95</td>\n",
       "    </tr>\n",
       "    <tr>\n",
       "      <th>1</th>\n",
       "      <td>2023-11-05</td>\n",
       "      <td>Ludwigsburg</td>\n",
       "      <td>Rostock</td>\n",
       "      <td>96.0</td>\n",
       "      <td>77.0</td>\n",
       "      <td>1.20</td>\n",
       "      <td>4.75</td>\n",
       "      <td>172.5</td>\n",
       "      <td>1.91</td>\n",
       "      <td>-9.5</td>\n",
       "      <td>1.91</td>\n",
       "      <td>1.91</td>\n",
       "    </tr>\n",
       "    <tr>\n",
       "      <th>2</th>\n",
       "      <td>2023-11-05</td>\n",
       "      <td>Woori WON F</td>\n",
       "      <td>Busan BNK Sum F</td>\n",
       "      <td>74.0</td>\n",
       "      <td>70.0</td>\n",
       "      <td>1.17</td>\n",
       "      <td>5.50</td>\n",
       "      <td>133.5</td>\n",
       "      <td>1.91</td>\n",
       "      <td>-11.5</td>\n",
       "      <td>1.91</td>\n",
       "      <td>1.91</td>\n",
       "    </tr>\n",
       "    <tr>\n",
       "      <th>3</th>\n",
       "      <td>2023-11-05</td>\n",
       "      <td>Promitheas</td>\n",
       "      <td>Lavrio</td>\n",
       "      <td>100.0</td>\n",
       "      <td>73.0</td>\n",
       "      <td>1.18</td>\n",
       "      <td>5.25</td>\n",
       "      <td>159.5</td>\n",
       "      <td>1.91</td>\n",
       "      <td>-9.5</td>\n",
       "      <td>1.87</td>\n",
       "      <td>1.95</td>\n",
       "    </tr>\n",
       "  </tbody>\n",
       "</table>\n",
       "</div>"
      ],
      "text/plain": [
       "         Date         Home             Away  Home_Pts  Away_Pts  Odds_H  \\\n",
       "0  2023-11-05       Murcia          Manresa      87.0      74.0    1.28   \n",
       "1  2023-11-05  Ludwigsburg          Rostock      96.0      77.0    1.20   \n",
       "2  2023-11-05  Woori WON F  Busan BNK Sum F      74.0      70.0    1.17   \n",
       "3  2023-11-05   Promitheas           Lavrio     100.0      73.0    1.18   \n",
       "\n",
       "   Odds_A  Over_Line  Odds_Over  HA_Line  HA_Odds_H  HA_Odds_A  \n",
       "0    3.80      168.5       1.91     -7.5       1.87       1.95  \n",
       "1    4.75      172.5       1.91     -9.5       1.91       1.91  \n",
       "2    5.50      133.5       1.91    -11.5       1.91       1.91  \n",
       "3    5.25      159.5       1.91     -9.5       1.87       1.95  "
      ]
     },
     "metadata": {},
     "output_type": "display_data"
    }
   ],
   "source": [
    "itens = glob.glob('apostas_do_dia/2023-11-05/*pos*v4*.csv')\n",
    "print(itens)\n",
    "df_todo = pd.DataFrame()\n",
    "\n",
    "for item in itens:\n",
    "    df = pd.read_csv(item)\n",
    "    df_todo = pd.concat([df_todo, df])\n",
    "\n",
    "# FT\n",
    "dfzera = df_todo.merge(temp[['Date', 'Home', 'Away', 'Home_Pts', 'Away_Pts']], on=['Date', 'Home', 'Away'], how='left')\n",
    "dfzera = dfzera[['Date', 'Home', 'Away', 'Home_Pts', 'Away_Pts', 'Odds_H', 'Odds_A', 'Over_Line', 'Odds_Over', 'HA_Line', 'HA_Odds_H', 'HA_Odds_A']]\n",
    "\n",
    "display(dfzera)"
   ]
  },
  {
   "cell_type": "code",
   "execution_count": 9,
   "metadata": {},
   "outputs": [],
   "source": [
    "dfzera.to_excel('acompanhamento.xlsx')"
   ]
  },
  {
   "cell_type": "markdown",
   "metadata": {},
   "source": [
    "over:\n",
    "=SE(E2+F2>I2;\"green\";\"red\")\n",
    "\n",
    "ah pos:\n",
    "=SE(E2+K2>F2;\"casa\";\"fora\")\n",
    "=SE(K2<0;M2;L2)"
   ]
  }
 ],
 "metadata": {
  "kernelspec": {
   "display_name": "Python 3",
   "language": "python",
   "name": "python3"
  },
  "language_info": {
   "codemirror_mode": {
    "name": "ipython",
    "version": 3
   },
   "file_extension": ".py",
   "mimetype": "text/x-python",
   "name": "python",
   "nbconvert_exporter": "python",
   "pygments_lexer": "ipython3",
   "version": "3.10.7"
  },
  "orig_nbformat": 4
 },
 "nbformat": 4,
 "nbformat_minor": 2
}
