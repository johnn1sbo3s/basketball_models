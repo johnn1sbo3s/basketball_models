{
 "cells": [
  {
   "cell_type": "code",
   "execution_count": 1,
   "metadata": {},
   "outputs": [],
   "source": [
    "import pandas as pd; pd.set_option('display.max_columns', None)\n",
    "import glob"
   ]
  },
  {
   "cell_type": "code",
   "execution_count": 2,
   "metadata": {},
   "outputs": [],
   "source": [
    "temp = pd.read_csv('data/Entire_Season.csv')"
   ]
  },
  {
   "cell_type": "code",
   "execution_count": 6,
   "metadata": {},
   "outputs": [
    {
     "name": "stdout",
     "output_type": "stream",
     "text": [
      "['apostas_do_dia\\\\over_v0_2023-10-24.csv']\n"
     ]
    },
    {
     "data": {
      "text/html": [
       "<div>\n",
       "<style scoped>\n",
       "    .dataframe tbody tr th:only-of-type {\n",
       "        vertical-align: middle;\n",
       "    }\n",
       "\n",
       "    .dataframe tbody tr th {\n",
       "        vertical-align: top;\n",
       "    }\n",
       "\n",
       "    .dataframe thead th {\n",
       "        text-align: right;\n",
       "    }\n",
       "</style>\n",
       "<table border=\"1\" class=\"dataframe\">\n",
       "  <thead>\n",
       "    <tr style=\"text-align: right;\">\n",
       "      <th></th>\n",
       "      <th>Date</th>\n",
       "      <th>Home</th>\n",
       "      <th>Away</th>\n",
       "      <th>Home_Pts</th>\n",
       "      <th>Away_Pts</th>\n",
       "      <th>Odds_H</th>\n",
       "      <th>Odds_A</th>\n",
       "      <th>Over_Line</th>\n",
       "      <th>Odds_Over</th>\n",
       "    </tr>\n",
       "  </thead>\n",
       "  <tbody>\n",
       "    <tr>\n",
       "      <th>0</th>\n",
       "      <td>2023-10-24</td>\n",
       "      <td>Denver Nuggets</td>\n",
       "      <td>Los Angeles Lakers</td>\n",
       "      <td>NaN</td>\n",
       "      <td>NaN</td>\n",
       "      <td>1.45</td>\n",
       "      <td>2.80</td>\n",
       "      <td>227.5</td>\n",
       "      <td>1.91</td>\n",
       "    </tr>\n",
       "    <tr>\n",
       "      <th>1</th>\n",
       "      <td>2023-10-24</td>\n",
       "      <td>BC Wolves</td>\n",
       "      <td>Besiktas</td>\n",
       "      <td>90.0</td>\n",
       "      <td>88.0</td>\n",
       "      <td>2.05</td>\n",
       "      <td>1.80</td>\n",
       "      <td>157.5</td>\n",
       "      <td>1.91</td>\n",
       "    </tr>\n",
       "    <tr>\n",
       "      <th>2</th>\n",
       "      <td>2023-10-24</td>\n",
       "      <td>Hamburg</td>\n",
       "      <td>Hapoel Tel-Aviv</td>\n",
       "      <td>72.0</td>\n",
       "      <td>111.0</td>\n",
       "      <td>8.50</td>\n",
       "      <td>1.08</td>\n",
       "      <td>173.5</td>\n",
       "      <td>1.95</td>\n",
       "    </tr>\n",
       "    <tr>\n",
       "      <th>3</th>\n",
       "      <td>2023-10-24</td>\n",
       "      <td>Venezia</td>\n",
       "      <td>Joventut</td>\n",
       "      <td>79.0</td>\n",
       "      <td>64.0</td>\n",
       "      <td>1.80</td>\n",
       "      <td>2.05</td>\n",
       "      <td>160.5</td>\n",
       "      <td>1.91</td>\n",
       "    </tr>\n",
       "    <tr>\n",
       "      <th>4</th>\n",
       "      <td>2023-10-24</td>\n",
       "      <td>London Lions</td>\n",
       "      <td>Paris</td>\n",
       "      <td>102.0</td>\n",
       "      <td>106.0</td>\n",
       "      <td>2.75</td>\n",
       "      <td>1.48</td>\n",
       "      <td>173.5</td>\n",
       "      <td>1.91</td>\n",
       "    </tr>\n",
       "    <tr>\n",
       "      <th>5</th>\n",
       "      <td>2023-10-24</td>\n",
       "      <td>Goyang Sono</td>\n",
       "      <td>Seoul Knights</td>\n",
       "      <td>79.0</td>\n",
       "      <td>90.0</td>\n",
       "      <td>3.80</td>\n",
       "      <td>1.28</td>\n",
       "      <td>165.5</td>\n",
       "      <td>1.91</td>\n",
       "    </tr>\n",
       "  </tbody>\n",
       "</table>\n",
       "</div>"
      ],
      "text/plain": [
       "         Date            Home                Away  Home_Pts  Away_Pts  Odds_H  \\\n",
       "0  2023-10-24  Denver Nuggets  Los Angeles Lakers       NaN       NaN    1.45   \n",
       "1  2023-10-24       BC Wolves            Besiktas      90.0      88.0    2.05   \n",
       "2  2023-10-24         Hamburg     Hapoel Tel-Aviv      72.0     111.0    8.50   \n",
       "3  2023-10-24         Venezia            Joventut      79.0      64.0    1.80   \n",
       "4  2023-10-24    London Lions               Paris     102.0     106.0    2.75   \n",
       "5  2023-10-24     Goyang Sono       Seoul Knights      79.0      90.0    3.80   \n",
       "\n",
       "   Odds_A  Over_Line  Odds_Over  \n",
       "0    2.80      227.5       1.91  \n",
       "1    1.80      157.5       1.91  \n",
       "2    1.08      173.5       1.95  \n",
       "3    2.05      160.5       1.91  \n",
       "4    1.48      173.5       1.91  \n",
       "5    1.28      165.5       1.91  "
      ]
     },
     "metadata": {},
     "output_type": "display_data"
    }
   ],
   "source": [
    "itens = glob.glob('apostas_do_dia/*v0*.csv')\n",
    "print(itens)\n",
    "df_todo = pd.DataFrame()\n",
    "\n",
    "for item in itens:\n",
    "    df = pd.read_csv(item)\n",
    "    df_todo = pd.concat([df_todo, df])\n",
    "\n",
    "# FT\n",
    "dfzera = df_todo.merge(temp[['Date', 'Home', 'Away', 'Home_Pts', 'Away_Pts']], on=['Date', 'Home', 'Away'], how='left')\n",
    "dfzera = dfzera[['Date', 'Home', 'Away', 'Home_Pts', 'Away_Pts', 'Odds_H', 'Odds_A', 'Over_Line', 'Odds_Over']]\n",
    "\n",
    "display(dfzera)"
   ]
  },
  {
   "cell_type": "code",
   "execution_count": 4,
   "metadata": {},
   "outputs": [],
   "source": [
    "dfzera.to_excel('acompanhamento.xlsx')"
   ]
  },
  {
   "cell_type": "markdown",
   "metadata": {},
   "source": [
    "=SE(E2+F2>I2;\"green\";\"red\")"
   ]
  }
 ],
 "metadata": {
  "kernelspec": {
   "display_name": "Python 3",
   "language": "python",
   "name": "python3"
  },
  "language_info": {
   "codemirror_mode": {
    "name": "ipython",
    "version": 3
   },
   "file_extension": ".py",
   "mimetype": "text/x-python",
   "name": "python",
   "nbconvert_exporter": "python",
   "pygments_lexer": "ipython3",
   "version": "3.10.7"
  },
  "orig_nbformat": 4
 },
 "nbformat": 4,
 "nbformat_minor": 2
}
