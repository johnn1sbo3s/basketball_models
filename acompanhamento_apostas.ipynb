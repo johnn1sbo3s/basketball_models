{
 "cells": [
  {
   "cell_type": "code",
   "execution_count": 1,
   "metadata": {},
   "outputs": [],
   "source": [
    "import pandas as pd; pd.set_option('display.max_columns', None)\n",
    "import glob"
   ]
  },
  {
   "cell_type": "code",
   "execution_count": 2,
   "metadata": {},
   "outputs": [],
   "source": [
    "temp = pd.read_csv('data/Entire_Season.csv')"
   ]
  },
  {
   "cell_type": "code",
   "execution_count": 6,
   "metadata": {},
   "outputs": [
    {
     "name": "stdout",
     "output_type": "stream",
     "text": [
      "['apostas_do_dia\\\\over_v0_2023-10-20.csv']\n"
     ]
    },
    {
     "data": {
      "text/html": [
       "<div>\n",
       "<style scoped>\n",
       "    .dataframe tbody tr th:only-of-type {\n",
       "        vertical-align: middle;\n",
       "    }\n",
       "\n",
       "    .dataframe tbody tr th {\n",
       "        vertical-align: top;\n",
       "    }\n",
       "\n",
       "    .dataframe thead th {\n",
       "        text-align: right;\n",
       "    }\n",
       "</style>\n",
       "<table border=\"1\" class=\"dataframe\">\n",
       "  <thead>\n",
       "    <tr style=\"text-align: right;\">\n",
       "      <th></th>\n",
       "      <th>Date</th>\n",
       "      <th>Home</th>\n",
       "      <th>Away</th>\n",
       "      <th>Home_Pts</th>\n",
       "      <th>Away_Pts</th>\n",
       "      <th>Odds_H</th>\n",
       "      <th>Odds_A</th>\n",
       "      <th>Over_Line</th>\n",
       "      <th>Odds_Over</th>\n",
       "    </tr>\n",
       "  </thead>\n",
       "  <tbody>\n",
       "    <tr>\n",
       "      <th>0</th>\n",
       "      <td>2023-10-20</td>\n",
       "      <td>Indiana Pacers</td>\n",
       "      <td>Cleveland Cavaliers</td>\n",
       "      <td>109.0</td>\n",
       "      <td>104.0</td>\n",
       "      <td>2.10</td>\n",
       "      <td>1.77</td>\n",
       "      <td>224.5</td>\n",
       "      <td>1.91</td>\n",
       "    </tr>\n",
       "    <tr>\n",
       "      <th>1</th>\n",
       "      <td>2023-10-20</td>\n",
       "      <td>Philadelphia 76ers</td>\n",
       "      <td>Atlanta Hawks</td>\n",
       "      <td>120.0</td>\n",
       "      <td>106.0</td>\n",
       "      <td>1.80</td>\n",
       "      <td>2.05</td>\n",
       "      <td>220.5</td>\n",
       "      <td>1.91</td>\n",
       "    </tr>\n",
       "    <tr>\n",
       "      <th>2</th>\n",
       "      <td>2023-10-20</td>\n",
       "      <td>Toronto Raptors</td>\n",
       "      <td>Washington Wizards</td>\n",
       "      <td>134.0</td>\n",
       "      <td>98.0</td>\n",
       "      <td>1.45</td>\n",
       "      <td>2.80</td>\n",
       "      <td>219.5</td>\n",
       "      <td>1.91</td>\n",
       "    </tr>\n",
       "    <tr>\n",
       "      <th>3</th>\n",
       "      <td>2023-10-20</td>\n",
       "      <td>Dallas Mavericks</td>\n",
       "      <td>Detroit Pistons</td>\n",
       "      <td>114.0</td>\n",
       "      <td>104.0</td>\n",
       "      <td>1.50</td>\n",
       "      <td>2.70</td>\n",
       "      <td>223.5</td>\n",
       "      <td>1.91</td>\n",
       "    </tr>\n",
       "    <tr>\n",
       "      <th>4</th>\n",
       "      <td>2023-10-20</td>\n",
       "      <td>Houston Rockets</td>\n",
       "      <td>Miami Heat</td>\n",
       "      <td>110.0</td>\n",
       "      <td>104.0</td>\n",
       "      <td>1.69</td>\n",
       "      <td>2.25</td>\n",
       "      <td>219.5</td>\n",
       "      <td>1.91</td>\n",
       "    </tr>\n",
       "    <tr>\n",
       "      <th>5</th>\n",
       "      <td>2023-10-20</td>\n",
       "      <td>Milwaukee Bucks</td>\n",
       "      <td>Memphis Grizzlies</td>\n",
       "      <td>124.0</td>\n",
       "      <td>116.0</td>\n",
       "      <td>1.57</td>\n",
       "      <td>2.55</td>\n",
       "      <td>223.5</td>\n",
       "      <td>1.91</td>\n",
       "    </tr>\n",
       "    <tr>\n",
       "      <th>6</th>\n",
       "      <td>2023-10-20</td>\n",
       "      <td>Golden State Warriors</td>\n",
       "      <td>San Antonio Spurs</td>\n",
       "      <td>117.0</td>\n",
       "      <td>122.0</td>\n",
       "      <td>1.45</td>\n",
       "      <td>2.80</td>\n",
       "      <td>226.5</td>\n",
       "      <td>1.91</td>\n",
       "    </tr>\n",
       "  </tbody>\n",
       "</table>\n",
       "</div>"
      ],
      "text/plain": [
       "         Date                   Home                 Away  Home_Pts  Away_Pts  \\\n",
       "0  2023-10-20         Indiana Pacers  Cleveland Cavaliers     109.0     104.0   \n",
       "1  2023-10-20     Philadelphia 76ers        Atlanta Hawks     120.0     106.0   \n",
       "2  2023-10-20        Toronto Raptors   Washington Wizards     134.0      98.0   \n",
       "3  2023-10-20       Dallas Mavericks      Detroit Pistons     114.0     104.0   \n",
       "4  2023-10-20        Houston Rockets           Miami Heat     110.0     104.0   \n",
       "5  2023-10-20        Milwaukee Bucks    Memphis Grizzlies     124.0     116.0   \n",
       "6  2023-10-20  Golden State Warriors    San Antonio Spurs     117.0     122.0   \n",
       "\n",
       "   Odds_H  Odds_A  Over_Line  Odds_Over  \n",
       "0    2.10    1.77      224.5       1.91  \n",
       "1    1.80    2.05      220.5       1.91  \n",
       "2    1.45    2.80      219.5       1.91  \n",
       "3    1.50    2.70      223.5       1.91  \n",
       "4    1.69    2.25      219.5       1.91  \n",
       "5    1.57    2.55      223.5       1.91  \n",
       "6    1.45    2.80      226.5       1.91  "
      ]
     },
     "metadata": {},
     "output_type": "display_data"
    }
   ],
   "source": [
    "itens = glob.glob('apostas_do_dia/*v0*.csv')\n",
    "print(itens)\n",
    "df_todo = pd.DataFrame()\n",
    "\n",
    "for item in itens:\n",
    "    df = pd.read_csv(item)\n",
    "    df_todo = pd.concat([df_todo, df])\n",
    "\n",
    "# FT\n",
    "dfzera = df_todo.merge(temp[['Date', 'Home', 'Away', 'Home_Pts', 'Away_Pts']], on=['Date', 'Home', 'Away'], how='left')\n",
    "dfzera = dfzera[['Date', 'Home', 'Away', 'Home_Pts', 'Away_Pts', 'Odds_H', 'Odds_A', 'Over_Line', 'Odds_Over']]\n",
    "\n",
    "display(dfzera)"
   ]
  },
  {
   "cell_type": "code",
   "execution_count": 7,
   "metadata": {},
   "outputs": [],
   "source": [
    "dfzera.to_excel('acompanhamento.xlsx')"
   ]
  },
  {
   "cell_type": "markdown",
   "metadata": {},
   "source": [
    "=SE(E2+F2>J2;\"green\";\"red\")"
   ]
  }
 ],
 "metadata": {
  "kernelspec": {
   "display_name": "Python 3",
   "language": "python",
   "name": "python3"
  },
  "language_info": {
   "codemirror_mode": {
    "name": "ipython",
    "version": 3
   },
   "file_extension": ".py",
   "mimetype": "text/x-python",
   "name": "python",
   "nbconvert_exporter": "python",
   "pygments_lexer": "ipython3",
   "version": "3.10.7"
  },
  "orig_nbformat": 4
 },
 "nbformat": 4,
 "nbformat_minor": 2
}
