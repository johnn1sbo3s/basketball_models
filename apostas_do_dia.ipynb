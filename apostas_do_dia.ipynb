{
 "cells": [
  {
   "attachments": {},
   "cell_type": "markdown",
   "metadata": {},
   "source": [
    "### Importações"
   ]
  },
  {
   "cell_type": "code",
   "execution_count": 1,
   "metadata": {},
   "outputs": [],
   "source": [
    "import pandas as pd; pd.set_option('display.max_columns', None)\n",
    "from datetime import date, timedelta\n",
    "from pycaret.classification import *\n",
    "from scripts.PreparaDataset import *\n",
    "from scripts.TeoriaRetornos import *"
   ]
  },
  {
   "attachments": {},
   "cell_type": "markdown",
   "metadata": {},
   "source": [
    "### Funções"
   ]
  },
  {
   "cell_type": "code",
   "execution_count": 2,
   "metadata": {},
   "outputs": [],
   "source": [
    "def atualiza_dia(_jogos):\n",
    "    _jogos = prepara_df(_jogos)\n",
    "\n",
    "    _jogos = _jogos.reset_index(drop=True)\n",
    "\n",
    "    return _jogos"
   ]
  },
  {
   "attachments": {},
   "cell_type": "markdown",
   "metadata": {},
   "source": [
    "### Pegando os jogos do dia"
   ]
  },
  {
   "cell_type": "code",
   "execution_count": 3,
   "metadata": {},
   "outputs": [],
   "source": [
    "today = date.today()\n",
    "tomorrow = today + timedelta(days=1)\n",
    "\n",
    "day = today"
   ]
  },
  {
   "cell_type": "code",
   "execution_count": 4,
   "metadata": {},
   "outputs": [],
   "source": [
    "data_var = day.strftime('%Y-%m-%d')\n",
    "df_today = pd.read_csv(f'jogos_do_dia/{data_var}.csv')"
   ]
  },
  {
   "cell_type": "markdown",
   "metadata": {},
   "source": [
    "### Atualizando os datasets que tem jogo hoje"
   ]
  },
  {
   "cell_type": "code",
   "execution_count": 5,
   "metadata": {},
   "outputs": [],
   "source": [
    "temporada = pd.read_csv('data/Entire_Season.csv')\n",
    "temporada = temporada[temporada['Date'] < data_var]\n",
    "temporada = pd.concat([temporada, df_today])\n",
    "# ligas = temporada[temporada['Date'] == data_var]['League'].unique().tolist()\n",
    "# temporada = temporada[temporada['League'].isin(ligas)]\n",
    "temporada.reset_index(drop=True, inplace=True)"
   ]
  },
  {
   "cell_type": "markdown",
   "metadata": {},
   "source": [
    "### Cria variáveis na temporada e nos jogos do dia"
   ]
  },
  {
   "cell_type": "code",
   "execution_count": 6,
   "metadata": {},
   "outputs": [],
   "source": [
    "games = atualiza_dia(temporada)\n",
    "temporada = games[games['Date'] < data_var]"
   ]
  },
  {
   "cell_type": "code",
   "execution_count": 7,
   "metadata": {},
   "outputs": [
    {
     "data": {
      "text/html": [
       "<div>\n",
       "<style scoped>\n",
       "    .dataframe tbody tr th:only-of-type {\n",
       "        vertical-align: middle;\n",
       "    }\n",
       "\n",
       "    .dataframe tbody tr th {\n",
       "        vertical-align: top;\n",
       "    }\n",
       "\n",
       "    .dataframe thead th {\n",
       "        text-align: right;\n",
       "    }\n",
       "</style>\n",
       "<table border=\"1\" class=\"dataframe\">\n",
       "  <thead>\n",
       "    <tr style=\"text-align: right;\">\n",
       "      <th></th>\n",
       "      <th>Date</th>\n",
       "      <th>League</th>\n",
       "      <th>Time</th>\n",
       "      <th>Home</th>\n",
       "      <th>Away</th>\n",
       "      <th>Odds_H</th>\n",
       "      <th>Odds_A</th>\n",
       "      <th>Over_Line</th>\n",
       "      <th>Odds_Over</th>\n",
       "      <th>Odds_Under</th>\n",
       "      <th>HA_Line</th>\n",
       "      <th>HA_Odds_H</th>\n",
       "      <th>HA_Odds_A</th>\n",
       "    </tr>\n",
       "  </thead>\n",
       "  <tbody>\n",
       "    <tr>\n",
       "      <th>5233</th>\n",
       "      <td>2023-10-23</td>\n",
       "      <td>China Cba</td>\n",
       "      <td>08:35</td>\n",
       "      <td>Beijing Royal Fighters</td>\n",
       "      <td>Qingdao</td>\n",
       "      <td>1.69</td>\n",
       "      <td>2.15</td>\n",
       "      <td>191.5</td>\n",
       "      <td>1.87</td>\n",
       "      <td>1.87</td>\n",
       "      <td>-1.5</td>\n",
       "      <td>1.80</td>\n",
       "      <td>1.95</td>\n",
       "    </tr>\n",
       "    <tr>\n",
       "      <th>5234</th>\n",
       "      <td>2023-10-23</td>\n",
       "      <td>China Cba</td>\n",
       "      <td>08:35</td>\n",
       "      <td>Guangzhou</td>\n",
       "      <td>Shandong</td>\n",
       "      <td>1.61</td>\n",
       "      <td>2.35</td>\n",
       "      <td>189.5</td>\n",
       "      <td>1.87</td>\n",
       "      <td>1.87</td>\n",
       "      <td>-2.5</td>\n",
       "      <td>1.83</td>\n",
       "      <td>1.91</td>\n",
       "    </tr>\n",
       "    <tr>\n",
       "      <th>5235</th>\n",
       "      <td>2023-10-23</td>\n",
       "      <td>China Cba</td>\n",
       "      <td>08:35</td>\n",
       "      <td>Jiangsu Dragons</td>\n",
       "      <td>Xinjiang</td>\n",
       "      <td>4.60</td>\n",
       "      <td>1.20</td>\n",
       "      <td>195.5</td>\n",
       "      <td>1.87</td>\n",
       "      <td>1.87</td>\n",
       "      <td>7.5</td>\n",
       "      <td>1.95</td>\n",
       "      <td>1.80</td>\n",
       "    </tr>\n",
       "    <tr>\n",
       "      <th>5236</th>\n",
       "      <td>2023-10-23</td>\n",
       "      <td>Coreia Do Sul Kbl</td>\n",
       "      <td>07:00</td>\n",
       "      <td>Mobis Phoebus</td>\n",
       "      <td>LG Sakers</td>\n",
       "      <td>1.48</td>\n",
       "      <td>2.75</td>\n",
       "      <td>159.5</td>\n",
       "      <td>1.91</td>\n",
       "      <td>1.91</td>\n",
       "      <td>-6.5</td>\n",
       "      <td>1.95</td>\n",
       "      <td>1.87</td>\n",
       "    </tr>\n",
       "    <tr>\n",
       "      <th>5237</th>\n",
       "      <td>2023-10-23</td>\n",
       "      <td>Grécia Liga De Basquete</td>\n",
       "      <td>11:15</td>\n",
       "      <td>Promitheas</td>\n",
       "      <td>Marousi</td>\n",
       "      <td>1.17</td>\n",
       "      <td>5.50</td>\n",
       "      <td>155.5</td>\n",
       "      <td>1.91</td>\n",
       "      <td>1.91</td>\n",
       "      <td>-10.5</td>\n",
       "      <td>1.91</td>\n",
       "      <td>1.91</td>\n",
       "    </tr>\n",
       "    <tr>\n",
       "      <th>5238</th>\n",
       "      <td>2023-10-23</td>\n",
       "      <td>Grécia Liga De Basquete</td>\n",
       "      <td>14:15</td>\n",
       "      <td>Panathinaikos</td>\n",
       "      <td>Lavrio</td>\n",
       "      <td>1.04</td>\n",
       "      <td>15.00</td>\n",
       "      <td>156.5</td>\n",
       "      <td>1.87</td>\n",
       "      <td>1.95</td>\n",
       "      <td>-17.5</td>\n",
       "      <td>1.95</td>\n",
       "      <td>1.87</td>\n",
       "    </tr>\n",
       "  </tbody>\n",
       "</table>\n",
       "</div>"
      ],
      "text/plain": [
       "            Date                   League   Time                    Home  \\\n",
       "5233  2023-10-23                China Cba  08:35  Beijing Royal Fighters   \n",
       "5234  2023-10-23                China Cba  08:35               Guangzhou   \n",
       "5235  2023-10-23                China Cba  08:35         Jiangsu Dragons   \n",
       "5236  2023-10-23        Coreia Do Sul Kbl  07:00           Mobis Phoebus   \n",
       "5237  2023-10-23  Grécia Liga De Basquete  11:15              Promitheas   \n",
       "5238  2023-10-23  Grécia Liga De Basquete  14:15           Panathinaikos   \n",
       "\n",
       "           Away  Odds_H  Odds_A  Over_Line  Odds_Over  Odds_Under  HA_Line  \\\n",
       "5233    Qingdao    1.69    2.15      191.5       1.87        1.87     -1.5   \n",
       "5234   Shandong    1.61    2.35      189.5       1.87        1.87     -2.5   \n",
       "5235   Xinjiang    4.60    1.20      195.5       1.87        1.87      7.5   \n",
       "5236  LG Sakers    1.48    2.75      159.5       1.91        1.91     -6.5   \n",
       "5237    Marousi    1.17    5.50      155.5       1.91        1.91    -10.5   \n",
       "5238     Lavrio    1.04   15.00      156.5       1.87        1.95    -17.5   \n",
       "\n",
       "      HA_Odds_H  HA_Odds_A  \n",
       "5233       1.80       1.95  \n",
       "5234       1.83       1.91  \n",
       "5235       1.95       1.80  \n",
       "5236       1.95       1.87  \n",
       "5237       1.91       1.91  \n",
       "5238       1.95       1.87  "
      ]
     },
     "execution_count": 7,
     "metadata": {},
     "output_type": "execute_result"
    }
   ],
   "source": [
    "jogos = games[games['Date'] == data_var]\n",
    "\n",
    "jogos = jogos.drop(columns=['Home_Pts', 'Away_Pts',\n",
    "       'Back_Home', 'PL_Home', 'Back_Away',\n",
    "       'PL_Away', 'Back_Over', 'PL_Over', 'PL_Under', 'Back_HA_H', 'PL_HA_H',\n",
    "       'PL_HA_A', ])\n",
    "\n",
    "jogos[['Date', 'League', 'Time', 'Home', 'Away', \n",
    "       'Odds_H', 'Odds_A', 'Over_Line', 'Odds_Over', 'Odds_Under', 'HA_Line',\n",
    "       'HA_Odds_H', 'HA_Odds_A', ]]"
   ]
  },
  {
   "attachments": {},
   "cell_type": "markdown",
   "metadata": {},
   "source": [
    "## Apostas do dia"
   ]
  },
  {
   "cell_type": "markdown",
   "metadata": {},
   "source": [
    "### Over v1 (LDA)"
   ]
  },
  {
   "cell_type": "code",
   "execution_count": 8,
   "metadata": {},
   "outputs": [
    {
     "name": "stdout",
     "output_type": "stream",
     "text": [
      "------------ MÉTODO OVER V1 (LDA) ------------\n",
      "\n"
     ]
    },
    {
     "data": {
      "text/html": [
       "<div>\n",
       "<style scoped>\n",
       "    .dataframe tbody tr th:only-of-type {\n",
       "        vertical-align: middle;\n",
       "    }\n",
       "\n",
       "    .dataframe tbody tr th {\n",
       "        vertical-align: top;\n",
       "    }\n",
       "\n",
       "    .dataframe thead th {\n",
       "        text-align: right;\n",
       "    }\n",
       "</style>\n",
       "<table border=\"1\" class=\"dataframe\">\n",
       "  <thead>\n",
       "    <tr style=\"text-align: right;\">\n",
       "      <th></th>\n",
       "      <th>Time</th>\n",
       "      <th>League</th>\n",
       "      <th>Home</th>\n",
       "      <th>Away</th>\n",
       "      <th>Over_Line</th>\n",
       "      <th>Odds_Over</th>\n",
       "      <th>prediction_score</th>\n",
       "      <th>Bet</th>\n",
       "    </tr>\n",
       "  </thead>\n",
       "  <tbody>\n",
       "    <tr>\n",
       "      <th>3</th>\n",
       "      <td>07:00</td>\n",
       "      <td>Coreia Do Sul Kbl</td>\n",
       "      <td>Mobis Phoebus</td>\n",
       "      <td>LG Sakers</td>\n",
       "      <td>159.5</td>\n",
       "      <td>1.91</td>\n",
       "      <td>0.7390</td>\n",
       "      <td>Over</td>\n",
       "    </tr>\n",
       "    <tr>\n",
       "      <th>4</th>\n",
       "      <td>11:15</td>\n",
       "      <td>Grécia Liga De Basquete</td>\n",
       "      <td>Promitheas</td>\n",
       "      <td>Marousi</td>\n",
       "      <td>155.5</td>\n",
       "      <td>1.91</td>\n",
       "      <td>0.8439</td>\n",
       "      <td>Over</td>\n",
       "    </tr>\n",
       "    <tr>\n",
       "      <th>5</th>\n",
       "      <td>14:15</td>\n",
       "      <td>Grécia Liga De Basquete</td>\n",
       "      <td>Panathinaikos</td>\n",
       "      <td>Lavrio</td>\n",
       "      <td>156.5</td>\n",
       "      <td>1.87</td>\n",
       "      <td>0.7662</td>\n",
       "      <td>Over</td>\n",
       "    </tr>\n",
       "  </tbody>\n",
       "</table>\n",
       "</div>"
      ],
      "text/plain": [
       "    Time                   League           Home       Away  Over_Line  \\\n",
       "3  07:00        Coreia Do Sul Kbl  Mobis Phoebus  LG Sakers      159.5   \n",
       "4  11:15  Grécia Liga De Basquete     Promitheas    Marousi      155.5   \n",
       "5  14:15  Grécia Liga De Basquete  Panathinaikos     Lavrio      156.5   \n",
       "\n",
       "   Odds_Over  prediction_score   Bet  \n",
       "3       1.91            0.7390  Over  \n",
       "4       1.91            0.8439  Over  \n",
       "5       1.87            0.7662  Over  "
      ]
     },
     "metadata": {},
     "output_type": "display_data"
    },
    {
     "name": "stdout",
     "output_type": "stream",
     "text": [
      "\n"
     ]
    }
   ],
   "source": [
    "# Duplicando o dataset\n",
    "df_over_v0 = jogos.copy()\n",
    "\n",
    "df_over_v0.reset_index(drop=True, inplace=True)\n",
    "df_over_v0.replace([np.inf, -np.inf], 0, inplace=True)\n",
    "\n",
    "if not df_over_v0.empty:\n",
    "    mdl_over_v0 = load_model('ML/over/v1/v1_over', verbose=False)\n",
    "    prev = predict_model(mdl_over_v0, df_over_v0)\n",
    "    prev = prev[prev['prediction_label'] ==  1]\n",
    "    \n",
    "    # Filtros pós modelo\n",
    "\n",
    "    if not prev.empty:\n",
    "        prev.to_csv(f'apostas_do_dia/over_v0_{data_var}.csv', index=False)\n",
    "\n",
    "        print('------------ MÉTODO OVER V1 (LDA) ------------')\n",
    "        print()\n",
    "\n",
    "        prev['Bet'] = 'Over'\n",
    "        ligs = prev['League'].unique().tolist()\n",
    "\n",
    "        display(prev[['Time', 'League', 'Home', 'Away', 'Over_Line', 'Odds_Over', 'prediction_score', 'Bet']])\n",
    "        print()\n",
    "    else: print('Sem jogos')\n",
    "else: print('Sem jogos')"
   ]
  },
  {
   "cell_type": "markdown",
   "metadata": {},
   "source": [
    "### Over v1 (LDA)"
   ]
  },
  {
   "cell_type": "code",
   "execution_count": 9,
   "metadata": {},
   "outputs": [
    {
     "name": "stdout",
     "output_type": "stream",
     "text": [
      "------------ MÉTODO OVER V1 (LDA) ------------\n",
      "\n"
     ]
    },
    {
     "data": {
      "text/html": [
       "<div>\n",
       "<style scoped>\n",
       "    .dataframe tbody tr th:only-of-type {\n",
       "        vertical-align: middle;\n",
       "    }\n",
       "\n",
       "    .dataframe tbody tr th {\n",
       "        vertical-align: top;\n",
       "    }\n",
       "\n",
       "    .dataframe thead th {\n",
       "        text-align: right;\n",
       "    }\n",
       "</style>\n",
       "<table border=\"1\" class=\"dataframe\">\n",
       "  <thead>\n",
       "    <tr style=\"text-align: right;\">\n",
       "      <th></th>\n",
       "      <th>Time</th>\n",
       "      <th>League</th>\n",
       "      <th>Home</th>\n",
       "      <th>Away</th>\n",
       "      <th>Over_Line</th>\n",
       "      <th>Odds_Over</th>\n",
       "      <th>prediction_score</th>\n",
       "      <th>Bet</th>\n",
       "    </tr>\n",
       "  </thead>\n",
       "  <tbody>\n",
       "    <tr>\n",
       "      <th>4</th>\n",
       "      <td>11:15</td>\n",
       "      <td>Grécia Liga De Basquete</td>\n",
       "      <td>Promitheas</td>\n",
       "      <td>Marousi</td>\n",
       "      <td>155.5</td>\n",
       "      <td>1.91</td>\n",
       "      <td>0.8439</td>\n",
       "      <td>Over</td>\n",
       "    </tr>\n",
       "    <tr>\n",
       "      <th>5</th>\n",
       "      <td>14:15</td>\n",
       "      <td>Grécia Liga De Basquete</td>\n",
       "      <td>Panathinaikos</td>\n",
       "      <td>Lavrio</td>\n",
       "      <td>156.5</td>\n",
       "      <td>1.87</td>\n",
       "      <td>0.7662</td>\n",
       "      <td>Over</td>\n",
       "    </tr>\n",
       "  </tbody>\n",
       "</table>\n",
       "</div>"
      ],
      "text/plain": [
       "    Time                   League           Home     Away  Over_Line  \\\n",
       "4  11:15  Grécia Liga De Basquete     Promitheas  Marousi      155.5   \n",
       "5  14:15  Grécia Liga De Basquete  Panathinaikos   Lavrio      156.5   \n",
       "\n",
       "   Odds_Over  prediction_score   Bet  \n",
       "4       1.91            0.8439  Over  \n",
       "5       1.87            0.7662  Over  "
      ]
     },
     "metadata": {},
     "output_type": "display_data"
    },
    {
     "name": "stdout",
     "output_type": "stream",
     "text": [
      "\n"
     ]
    }
   ],
   "source": [
    "# Duplicando o dataset\n",
    "df_over_v1 = jogos.copy()\n",
    "\n",
    "df_over_v1.reset_index(drop=True, inplace=True)\n",
    "df_over_v1.replace([np.inf, -np.inf], 0, inplace=True)\n",
    "\n",
    "if not df_over_v1.empty:\n",
    "    mdl_over_v1 = load_model('ML/over/v1/v1_over', verbose=False)\n",
    "    prev = predict_model(mdl_over_v1, df_over_v1)\n",
    "    prev = prev[prev['prediction_label'] ==  1]\n",
    "    \n",
    "    # Filtros pós modelo\n",
    "    prev = prev[((prev['Odds_A'] < 1.75) | (prev['Odds_A'] > 2.8))]\n",
    "    prev = prev[((prev['Over_Line'] < 225))]\n",
    "    prev = prev[((prev['P_Diff'] < 0.043) | (prev['P_Diff'] > 0.045))]\n",
    "\n",
    "    if not prev.empty:\n",
    "        prev.to_csv(f'apostas_do_dia/over_v1_{data_var}.csv', index=False)\n",
    "\n",
    "        print('------------ MÉTODO OVER V1 (LDA) ------------')\n",
    "        print()\n",
    "\n",
    "        prev['Bet'] = 'Over'\n",
    "        ligs = prev['League'].unique().tolist()\n",
    "\n",
    "        display(prev[['Time', 'League', 'Home', 'Away', 'Over_Line', 'Odds_Over', 'prediction_score', 'Bet']])\n",
    "        print()\n",
    "    else: print('Sem jogos')\n",
    "else: print('Sem jogos')"
   ]
  },
  {
   "cell_type": "markdown",
   "metadata": {},
   "source": [
    "### Over v2 (LDA)"
   ]
  },
  {
   "cell_type": "code",
   "execution_count": 10,
   "metadata": {},
   "outputs": [
    {
     "name": "stdout",
     "output_type": "stream",
     "text": [
      "------------ MÉTODO OVER V2 (LDA) ------------\n",
      "\n"
     ]
    },
    {
     "data": {
      "text/html": [
       "<div>\n",
       "<style scoped>\n",
       "    .dataframe tbody tr th:only-of-type {\n",
       "        vertical-align: middle;\n",
       "    }\n",
       "\n",
       "    .dataframe tbody tr th {\n",
       "        vertical-align: top;\n",
       "    }\n",
       "\n",
       "    .dataframe thead th {\n",
       "        text-align: right;\n",
       "    }\n",
       "</style>\n",
       "<table border=\"1\" class=\"dataframe\">\n",
       "  <thead>\n",
       "    <tr style=\"text-align: right;\">\n",
       "      <th></th>\n",
       "      <th>Time</th>\n",
       "      <th>League</th>\n",
       "      <th>Home</th>\n",
       "      <th>Away</th>\n",
       "      <th>Over_Line</th>\n",
       "      <th>Odds_Over</th>\n",
       "      <th>prediction_score</th>\n",
       "      <th>Bet</th>\n",
       "    </tr>\n",
       "  </thead>\n",
       "  <tbody>\n",
       "    <tr>\n",
       "      <th>4</th>\n",
       "      <td>11:15</td>\n",
       "      <td>Grécia Liga De Basquete</td>\n",
       "      <td>Promitheas</td>\n",
       "      <td>Marousi</td>\n",
       "      <td>155.5</td>\n",
       "      <td>1.91</td>\n",
       "      <td>0.6341</td>\n",
       "      <td>Over</td>\n",
       "    </tr>\n",
       "  </tbody>\n",
       "</table>\n",
       "</div>"
      ],
      "text/plain": [
       "    Time                   League        Home     Away  Over_Line  Odds_Over  \\\n",
       "4  11:15  Grécia Liga De Basquete  Promitheas  Marousi      155.5       1.91   \n",
       "\n",
       "   prediction_score   Bet  \n",
       "4            0.6341  Over  "
      ]
     },
     "metadata": {},
     "output_type": "display_data"
    },
    {
     "name": "stdout",
     "output_type": "stream",
     "text": [
      "\n"
     ]
    }
   ],
   "source": [
    "# Duplicando o dataset\n",
    "df_over_v2 = jogos.copy()\n",
    "\n",
    "df_over_v2.reset_index(drop=True, inplace=True)\n",
    "df_over_v2.replace([np.inf, -np.inf], 0, inplace=True)\n",
    "\n",
    "if not df_over_v2.empty:\n",
    "    mdl_over_v2 = load_model('ML/over/v2/v2_over', verbose=False)\n",
    "    prev = predict_model(mdl_over_v2, df_over_v2)\n",
    "    prev = prev[prev['prediction_label'] ==  1]\n",
    "    \n",
    "    # Filtros pós modelo\n",
    "    prev = prev[((prev['Odds_A'] < 1.75) | (prev['Odds_A'] > 2.8))]\n",
    "    prev = prev[((prev['Over_Line'] < 225))]\n",
    "    prev = prev[((prev['P_Diff'] < 0.043) | (prev['P_Diff'] > 0.045))]\n",
    "\n",
    "    if not prev.empty:\n",
    "        prev.to_csv(f'apostas_do_dia/over_v2_{data_var}.csv', index=False)\n",
    "\n",
    "        print('------------ MÉTODO OVER V2 (LDA) ------------')\n",
    "        print()\n",
    "\n",
    "        prev['Bet'] = 'Over'\n",
    "        ligs = prev['League'].unique().tolist()\n",
    "\n",
    "        display(prev[['Time', 'League', 'Home', 'Away', 'Over_Line', 'Odds_Over', 'prediction_score', 'Bet']])\n",
    "        print()\n",
    "    else: print('Sem jogos')\n",
    "else: print('Sem jogos')"
   ]
  },
  {
   "cell_type": "markdown",
   "metadata": {},
   "source": [
    "### Over v3 (Blend)"
   ]
  },
  {
   "cell_type": "code",
   "execution_count": 11,
   "metadata": {},
   "outputs": [
    {
     "name": "stdout",
     "output_type": "stream",
     "text": [
      "------------ MÉTODO OVER V3 (BLEND) ------------\n",
      "\n"
     ]
    },
    {
     "data": {
      "text/html": [
       "<div>\n",
       "<style scoped>\n",
       "    .dataframe tbody tr th:only-of-type {\n",
       "        vertical-align: middle;\n",
       "    }\n",
       "\n",
       "    .dataframe tbody tr th {\n",
       "        vertical-align: top;\n",
       "    }\n",
       "\n",
       "    .dataframe thead th {\n",
       "        text-align: right;\n",
       "    }\n",
       "</style>\n",
       "<table border=\"1\" class=\"dataframe\">\n",
       "  <thead>\n",
       "    <tr style=\"text-align: right;\">\n",
       "      <th></th>\n",
       "      <th>Time</th>\n",
       "      <th>League</th>\n",
       "      <th>Home</th>\n",
       "      <th>Away</th>\n",
       "      <th>Over_Line</th>\n",
       "      <th>Odds_Over</th>\n",
       "      <th>Bet</th>\n",
       "    </tr>\n",
       "  </thead>\n",
       "  <tbody>\n",
       "    <tr>\n",
       "      <th>5</th>\n",
       "      <td>14:15</td>\n",
       "      <td>Grécia Liga De Basquete</td>\n",
       "      <td>Panathinaikos</td>\n",
       "      <td>Lavrio</td>\n",
       "      <td>156.5</td>\n",
       "      <td>1.87</td>\n",
       "      <td>Over</td>\n",
       "    </tr>\n",
       "  </tbody>\n",
       "</table>\n",
       "</div>"
      ],
      "text/plain": [
       "    Time                   League           Home    Away  Over_Line  \\\n",
       "5  14:15  Grécia Liga De Basquete  Panathinaikos  Lavrio      156.5   \n",
       "\n",
       "   Odds_Over   Bet  \n",
       "5       1.87  Over  "
      ]
     },
     "metadata": {},
     "output_type": "display_data"
    },
    {
     "name": "stdout",
     "output_type": "stream",
     "text": [
      "\n"
     ]
    }
   ],
   "source": [
    "# Duplicando o dataset\n",
    "df_over_v3 = jogos.copy()\n",
    "\n",
    "df_over_v3.reset_index(drop=True, inplace=True)\n",
    "df_over_v3.replace([np.inf, -np.inf], 0, inplace=True)\n",
    "\n",
    "if not df_over_v3.empty:\n",
    "    mdl_over_v3 = load_model('ML/over/v3/v3_over', verbose=False)\n",
    "    prev = predict_model(mdl_over_v3, df_over_v3)\n",
    "    prev = prev[prev['prediction_label'] ==  1]\n",
    "    \n",
    "    # Filtros pós modelo\n",
    "    prev = prev[((prev['Odds_A'] < 1.75) | (prev['Odds_A'] > 2.8))]\n",
    "    prev = prev[((prev['HA_Line'] < -8.5) | (prev['HA_Line'] > -5.5))]\n",
    "    prev = prev[((prev['CV_ML'] >= 0) & (prev['CV_ML'] < 0.65)) | ((prev['CV_ML'] >= 0.77) & (prev['CV_ML'] < 0.87)) | ((prev['CV_ML'] >= 0.95) & (prev['CV_ML'] < 1.5))]\n",
    "\n",
    "\n",
    "    if not prev.empty:\n",
    "        prev.to_csv(f'apostas_do_dia/over_v3_{data_var}.csv', index=False)\n",
    "\n",
    "        print('------------ MÉTODO OVER V3 (BLEND) ------------')\n",
    "        print()\n",
    "\n",
    "        prev['Bet'] = 'Over'\n",
    "        ligs = prev['League'].unique().tolist()\n",
    "\n",
    "        display(prev[['Time', 'League', 'Home', 'Away', 'Over_Line', 'Odds_Over', 'Bet']])\n",
    "        print()\n",
    "    else: print('Sem jogos')\n",
    "else: print('Sem jogos')"
   ]
  }
 ],
 "metadata": {
  "kernelspec": {
   "display_name": "modelos_futebol",
   "language": "python",
   "name": "python3"
  },
  "language_info": {
   "codemirror_mode": {
    "name": "ipython",
    "version": 3
   },
   "file_extension": ".py",
   "mimetype": "text/x-python",
   "name": "python",
   "nbconvert_exporter": "python",
   "pygments_lexer": "ipython3",
   "version": "3.10.7"
  },
  "orig_nbformat": 4
 },
 "nbformat": 4,
 "nbformat_minor": 2
}
