{
 "cells": [
  {
   "cell_type": "code",
   "execution_count": 1,
   "metadata": {},
   "outputs": [],
   "source": [
    "import pandas as pd; pd.set_option('display.max_columns', None)\n",
    "import numpy as np\n",
    "from pycaret.classification import *"
   ]
  },
  {
   "cell_type": "code",
   "execution_count": 2,
   "metadata": {},
   "outputs": [],
   "source": [
    "def calcular_mediacg(_df):\n",
    "    final_df = _df.copy()\n",
    "\n",
    "    def calcular_media(row):\n",
    "        date, home, away = row['Date'], row['Home'], row['Away']\n",
    "\n",
    "        df_cum = _df[(_df['Date'] < date) & ((_df['Home'] == home) | (_df['Away'] == home))].tail(7)\n",
    "        if len(df_cum) == 7:\n",
    "            df_cum.loc[(df_cum['Home'] == home), 'real_cg'] = df_cum['CustoGolHome']\n",
    "            df_cum.loc[(df_cum['Away'] == home), 'real_cg'] = df_cum['CustoGolAway']\n",
    "            media_CG = df_cum['real_cg'].mean()\n",
    "            dp_CG = df_cum['real_cg'].std()\n",
    "            cv_CG = dp_CG / media_CG\n",
    "            final_df.loc[row.name, 'Avg_CG_H'] = media_CG\n",
    "            final_df.loc[row.name, 'DP_CG_H'] = dp_CG\n",
    "            final_df.loc[row.name, 'CV_CG_H'] = cv_CG\n",
    "        else:\n",
    "            final_df.loc[row.name, 'Avg_CG_H'] = 0\n",
    "            final_df.loc[row.name, 'DP_CG_H'] = 0\n",
    "            final_df.loc[row.name, 'CV_CG_H'] = 0\n",
    "\n",
    "        df_cum = _df[(_df['Date'] < date) & ((_df['Home'] == away) | (_df['Away'] == away))].tail(7)\n",
    "        if len(df_cum) == 7:\n",
    "            df_cum.loc[(df_cum['Home'] == away), 'real_cg'] = df_cum['CustoGolHome']\n",
    "            df_cum.loc[(df_cum['Away'] == away), 'real_cg'] = df_cum['CustoGolAway']\n",
    "            media_CG = df_cum['real_cg'].mean()\n",
    "            dp_CG = df_cum['real_cg'].std()\n",
    "            cv_CG = dp_CG / media_CG\n",
    "            final_df.loc[row.name, 'Avg_CG_A'] = media_CG\n",
    "            final_df.loc[row.name, 'DP_CG_A'] = dp_CG\n",
    "            final_df.loc[row.name, 'CV_CG_A'] = cv_CG\n",
    "        else:\n",
    "            final_df.loc[row.name, 'Avg_CG_A'] = 0\n",
    "            final_df.loc[row.name, 'DP_CG_A'] = 0\n",
    "            final_df.loc[row.name, 'CV_CG_A'] = 0\n",
    "\n",
    "    _df.apply(calcular_media, axis=1)\n",
    "\n",
    "    return final_df\n",
    "\n",
    "\n",
    "# Cria classes do target\n",
    "def cria_alvos(_df):\n",
    "    # Back Home\n",
    "    _df.loc[(_df['Home_Pts'] > _df['Away_Pts']), 'Back_Home'] = 1\n",
    "    _df.loc[(_df['Home_Pts'] < _df['Away_Pts']), 'Back_Home'] = 0\n",
    "    \n",
    "    _df.loc[(_df['Back_Home']) == 1, 'PL_Home'] = _df.Odds_H - 1\n",
    "    _df.loc[(_df['Back_Home']) == 0, 'PL_Home'] = - 1\n",
    "    \n",
    "    # Back Away\n",
    "    _df.loc[(_df['Home_Pts'] < _df['Away_Pts']), 'Back_Away'] = 1\n",
    "    _df.loc[(_df['Home_Pts'] > _df['Away_Pts']), 'Back_Away'] = 0\n",
    "    \n",
    "    _df.loc[(_df['Back_Away']) == 1, 'PL_Away'] = _df.Odds_A - 1\n",
    "    _df.loc[(_df['Back_Away']) == 0, 'PL_Away'] = - 1\n",
    "    \n",
    "    # Over/Under\n",
    "    _df.loc[(_df['Home_Pts'] + _df['Away_Pts']) > _df['Over_Line'], 'Back_Over'] = 1\n",
    "    _df.loc[(_df['Home_Pts'] + _df['Away_Pts']) < _df['Over_Line'], 'Back_Over'] = 0\n",
    "    \n",
    "    _df.loc[(_df['Back_Over']) == 1, 'PL_Over'] = _df.Odds_Over - 1\n",
    "    _df.loc[(_df['Back_Over']) == 0, 'PL_Over'] = - 1\n",
    "\n",
    "    _df.loc[(_df['Back_Over']) == 0, 'PL_Under'] = _df.Odds_Under - 1\n",
    "    _df.loc[(_df['Back_Over']) == 1, 'PL_Under'] = - 1\n",
    "    \n",
    "    # HA\n",
    "    _df.loc[((_df['Home_Pts'] + _df['HA_Line'])) > _df['Away_Pts'], 'Back_HA_H'] = 1\n",
    "    _df.loc[((_df['Home_Pts'] + _df['HA_Line'])) < _df['Away_Pts'], 'Back_HA_H'] = 0\n",
    "    _df.loc[((_df['Home_Pts'] + _df['HA_Line'])) == _df['Away_Pts'], 'Back_HA_H'] = 2\n",
    "    \n",
    "    _df.loc[(_df['Back_HA_H']) == 1, 'PL_HA_H'] = _df.HA_Odds_H - 1\n",
    "    _df.loc[(_df['Back_HA_H']) == 0, 'PL_HA_H'] = - 1\n",
    "    _df.loc[(_df['Back_HA_H']) == 2, 'PL_HA_H'] = - 0\n",
    "\n",
    "    _df.loc[(_df['Back_HA_H']) == 0, 'PL_HA_A'] = _df.HA_Odds_A - 1\n",
    "    _df.loc[(_df['Back_HA_H']) == 1, 'PL_HA_A'] = - 1\n",
    "    _df.loc[(_df['Back_HA_H']) == 2, 'PL_HA_A'] = - 0\n",
    "\n",
    "    return _df\n",
    "\n",
    "\n",
    "################################################################################\n",
    "# Prepara o _DF\n",
    "################################################################################\n",
    "\n",
    "def prepara_df(_df):\n",
    "  _df = _df[(_df.Over_Line >= 5)]\n",
    "  _df = _df[(_df['Home_Pts'] + _df['Away_Pts']) != _df['Over_Line']]\n",
    "  _df = _df[_df['HA_Odds_A'] != 0]\n",
    "  _df = _df[_df['Odds_H'] != 0]\n",
    "  _df = _df[_df['Odds_A'] != 0]\n",
    "  _df = _df[_df['Odds_Over'] != 0]\n",
    "  _df = _df[_df['Odds_Under'] != 0]\n",
    "\n",
    "  _df = cria_alvos(_df)\n",
    "\n",
    "  _df['P(H)'] = 1 / _df['Odds_H']\n",
    "  _df['P(A)'] = 1 / _df['Odds_A']\n",
    "  _df['P(O)'] = 1 / _df['Odds_Over']\n",
    "  _df['P(U)'] = 1 / _df['Odds_Under']\n",
    "  \n",
    "  _df['P_Diff'] = ((1 / _df['Odds_H']) + (1 / _df['Odds_A'])) - 1\n",
    "  _df['Porc_Over_Home'] = _df.groupby('Home')['Back_Over'].rolling(7).mean().reset_index(level=0, drop=True)\n",
    "  _df['Porc_Over_Away'] = _df.groupby('Away')['Back_Over'].rolling(7).mean().reset_index(level=0, drop=True)\n",
    "  _df['Porc_Over_Home']  = _df.groupby('Home')['Porc_Over_Home'].shift(1)\n",
    "  _df['Porc_Over_Away']  = _df.groupby('Away')['Porc_Over_Away'].shift(1)\n",
    "  _df['Porc_Over_Home'] = _df['Porc_Over_Home'].replace(np.nan, 0)\n",
    "  _df['Porc_Over_Away'] = _df['Porc_Over_Away'].replace(np.nan, 0)\n",
    "  _df.reset_index(inplace=True, drop=True)\n",
    "\n",
    "  # Custo do gol\n",
    "  _df['CustoGolHome'] = _df['Home_Pts'] / (1 / _df['Odds_H'])\n",
    "  _df['CustoGolAway'] = _df['Away_Pts'] / (1 / _df['Odds_A'])\n",
    "  _df['CustoGolHome'] = _df['CustoGolHome'].replace(np.inf, 0)\n",
    "  _df['CustoGolAway'] = _df['CustoGolAway'].replace(np.inf, 0)\n",
    "  _df.reset_index(drop=True, inplace=True)\n",
    "\n",
    "  # Média, dp e cv do custo do gol\n",
    "  _df = calcular_mediacg(_df)\n",
    "  \n",
    "  # Último custo do gol\n",
    "  _df['Last_CG_H']  = _df.groupby('Home')['CustoGolHome'].shift(1)\n",
    "  _df['Last_CG_A']  = _df.groupby('Away')['CustoGolAway'].shift(1)\n",
    "  _df['Last_CG_H'] = _df['Last_CG_H'].replace(np.nan, 0)\n",
    "  _df['Last_CG_A'] = _df['Last_CG_A'].replace(np.nan, 0)\n",
    "  \n",
    "  limit_up_h = _df.CustoGolHome.mean() + _df.CustoGolHome.std()\n",
    "  limit_up_a = _df.CustoGolAway.mean() + _df.CustoGolAway.std()\n",
    "  _df.loc[(_df['CustoGolHome'] > limit_up_h), 'Acima_Last_CG_H'] = 1\n",
    "  _df.loc[(_df['CustoGolHome'] <= limit_up_h), 'Acima_Last_CG_H'] = 0\n",
    "  _df.loc[(_df['CustoGolAway'] > limit_up_a), 'Acima_Last_CG_A'] = 1\n",
    "  _df.loc[(_df['CustoGolAway'] <= limit_up_a), 'Acima_Last_CG_A'] = 0\n",
    "  _df['Acima_Last_CG_H']  = _df.groupby('Home')['Acima_Last_CG_H'].shift(1)\n",
    "  _df['Acima_Last_CG_A']  = _df.groupby('Away')['Acima_Last_CG_A'].shift(1)\n",
    "  _df['Acima_Last_CG_H'] = _df['Acima_Last_CG_H'].replace(np.nan, 0)\n",
    "  _df['Acima_Last_CG_A'] = _df['Acima_Last_CG_A'].replace(np.nan, 0)\n",
    "\n",
    "  limit_down_h = _df.CustoGolHome.mean() - _df.CustoGolHome.std()\n",
    "  limit_down_a = _df.CustoGolAway.mean() - _df.CustoGolAway.std()\n",
    "  _df.loc[(_df['CustoGolHome'] < limit_down_h), 'Abaixo_Last_CG_H'] = 1\n",
    "  _df.loc[(_df['CustoGolHome'] >= limit_down_h), 'Abaixo_Last_CG_H'] = 0\n",
    "  _df.loc[(_df['CustoGolAway'] < limit_down_a), 'Abaixo_Last_CG_A'] = 1\n",
    "  _df.loc[(_df['CustoGolAway'] >= limit_down_a), 'Abaixo_Last_CG_A'] = 0\n",
    "  _df['Abaixo_Last_CG_H']  = _df.groupby('Home')['Abaixo_Last_CG_H'].shift(1)\n",
    "  _df['Abaixo_Last_CG_A']  = _df.groupby('Away')['Abaixo_Last_CG_A'].shift(1)\n",
    "  _df['Abaixo_Last_CG_H'] = _df['Abaixo_Last_CG_H'].replace(np.nan, 0)\n",
    "  _df['Abaixo_Last_CG_A'] = _df['Abaixo_Last_CG_A'].replace(np.nan, 0)\n",
    "\n",
    "  _df['CV_ML'] = (_df[['Odds_H', 'Odds_A']].std(axis=1)) / (_df[['Odds_H', 'Odds_A']].mean(axis=1))\n",
    "  _df['CV_Over'] = (_df[['Odds_Over', 'Odds_Under']].std(axis=1)) / (_df[['Odds_Over', 'Odds_Under']].mean(axis=1))\n",
    "\n",
    "  _df.pop('CustoGolHome')\n",
    "  _df.pop('CustoGolAway')\n",
    "\n",
    "  # Organiza as colunas do dataset\n",
    "  _df = _df[['Date', 'Season', 'Season_Time', 'Time', 'Home', 'Away', 'Home_Pts',\n",
    "       'Away_Pts', 'Odds_H', 'Odds_A', 'Over_Line', 'Odds_Over', 'Odds_Under',\n",
    "       'HA_Line', 'HA_Odds_H', 'HA_Odds_A', 'P(H)', 'P(A)', 'P(O)', 'P(U)', 'P_Diff',\n",
    "       'Porc_Over_Home', 'Porc_Over_Away', 'Last_CG_H', 'Last_CG_A', 'Avg_CG_H', 'Avg_CG_A', \n",
    "       'DP_CG_H', 'DP_CG_A', 'CV_CG_H', 'CV_CG_A',\n",
    "       'Acima_Last_CG_H', 'Acima_Last_CG_A', 'Abaixo_Last_CG_H', 'Abaixo_Last_CG_A', 'CV_ML',\n",
    "       'CV_Over', 'Back_Home', 'PL_Home',\n",
    "       'Back_Away', 'PL_Away', 'Back_Over', 'PL_Over', 'PL_Under', 'Back_HA_H',\n",
    "       'PL_HA_H', 'PL_HA_A']]\n",
    "  \n",
    "  return _df"
   ]
  },
  {
   "cell_type": "code",
   "execution_count": 3,
   "metadata": {},
   "outputs": [],
   "source": [
    "df0 = pd.read_csv('../data/wnba/wnba-2019.csv')\n",
    "df1 = pd.read_csv('../data/wnba/wnba-2020.csv')\n",
    "df2 = pd.read_csv('../data/wnba/wnba-2021.csv')\n",
    "df3 = pd.read_csv('../data/wnba/wnba-2022.csv')\n",
    "df4 = pd.read_csv('../data/wnba/wnba-2023.csv')\n",
    "\n",
    "df = pd.concat([df0, df1, df2, df3, df4])\n",
    "df['Date'] = pd.to_datetime(df['Date'], format='%Y/%m/%d')\n",
    "df.reset_index(drop=True, inplace=True)\n",
    "dataset = prepara_df(df)"
   ]
  },
  {
   "cell_type": "code",
   "execution_count": 4,
   "metadata": {},
   "outputs": [
    {
     "data": {
      "text/plain": [
       "(455, 47)"
      ]
     },
     "execution_count": 4,
     "metadata": {},
     "output_type": "execute_result"
    }
   ],
   "source": [
    "df = dataset[(dataset['Odds_H'] >= 1.6) & (dataset['Odds_H'] < 50.5)]\n",
    "df.shape"
   ]
  },
  {
   "cell_type": "code",
   "execution_count": 5,
   "metadata": {},
   "outputs": [],
   "source": [
    "target = 'Back_Home'"
   ]
  },
  {
   "cell_type": "code",
   "execution_count": 6,
   "metadata": {},
   "outputs": [],
   "source": [
    "features = ['CV_Over', 'CV_ML', 'HA_Odds_A', 'Last_CG_H', 'Odds_Under', 'DP_CG_A', 'Odds_Over', 'Abaixo_Last_CG_A', 'Odds_H']"
   ]
  },
  {
   "cell_type": "code",
   "execution_count": 7,
   "metadata": {},
   "outputs": [],
   "source": [
    "cls = setup(data = df,\n",
    "            ignore_features = [x for x in df.columns.to_list() if x not in features and x != target],\n",
    "            target = target,\n",
    "            train_size = 0.5,\n",
    "            normalize = True,\n",
    "            normalize_method = 'minmax',\n",
    "            session_id = 2023,\n",
    "            verbose = False\n",
    "            )\n",
    "\n",
    "x_treino = get_config(variable='X_train')\n",
    "x_teste = get_config(variable='X_test')"
   ]
  },
  {
   "cell_type": "code",
   "execution_count": null,
   "metadata": {},
   "outputs": [],
   "source": [
    "compare_models(sort='precision')"
   ]
  },
  {
   "cell_type": "code",
   "execution_count": 111,
   "metadata": {},
   "outputs": [],
   "source": [
    "list_models = ['lda', 'lightgbm', 'rf', 'gbc', 'dt', 'et', 'lr', 'ridge', 'knn', 'nb', 'ada', 'qda', 'svm']"
   ]
  },
  {
   "cell_type": "code",
   "execution_count": null,
   "metadata": {},
   "outputs": [],
   "source": [
    "for item in list_models:\n",
    "    model = create_model(item, verbose=False)\n",
    "    previsoes = predict_model(model)"
   ]
  },
  {
   "cell_type": "code",
   "execution_count": 8,
   "metadata": {},
   "outputs": [
    {
     "data": {
      "text/html": [
       "<style type=\"text/css\">\n",
       "</style>\n",
       "<table id=\"T_8ab43\">\n",
       "  <thead>\n",
       "    <tr>\n",
       "      <th class=\"blank level0\" >&nbsp;</th>\n",
       "      <th id=\"T_8ab43_level0_col0\" class=\"col_heading level0 col0\" >Model</th>\n",
       "      <th id=\"T_8ab43_level0_col1\" class=\"col_heading level0 col1\" >Accuracy</th>\n",
       "      <th id=\"T_8ab43_level0_col2\" class=\"col_heading level0 col2\" >AUC</th>\n",
       "      <th id=\"T_8ab43_level0_col3\" class=\"col_heading level0 col3\" >Recall</th>\n",
       "      <th id=\"T_8ab43_level0_col4\" class=\"col_heading level0 col4\" >Prec.</th>\n",
       "      <th id=\"T_8ab43_level0_col5\" class=\"col_heading level0 col5\" >F1</th>\n",
       "      <th id=\"T_8ab43_level0_col6\" class=\"col_heading level0 col6\" >Kappa</th>\n",
       "      <th id=\"T_8ab43_level0_col7\" class=\"col_heading level0 col7\" >MCC</th>\n",
       "    </tr>\n",
       "  </thead>\n",
       "  <tbody>\n",
       "    <tr>\n",
       "      <th id=\"T_8ab43_level0_row0\" class=\"row_heading level0 row0\" >0</th>\n",
       "      <td id=\"T_8ab43_row0_col0\" class=\"data row0 col0\" >Gradient Boosting Classifier</td>\n",
       "      <td id=\"T_8ab43_row0_col1\" class=\"data row0 col1\" >0.6798</td>\n",
       "      <td id=\"T_8ab43_row0_col2\" class=\"data row0 col2\" >0.6782</td>\n",
       "      <td id=\"T_8ab43_row0_col3\" class=\"data row0 col3\" >0.5506</td>\n",
       "      <td id=\"T_8ab43_row0_col4\" class=\"data row0 col4\" >0.5976</td>\n",
       "      <td id=\"T_8ab43_row0_col5\" class=\"data row0 col5\" >0.5731</td>\n",
       "      <td id=\"T_8ab43_row0_col6\" class=\"data row0 col6\" >0.3176</td>\n",
       "      <td id=\"T_8ab43_row0_col7\" class=\"data row0 col7\" >0.3183</td>\n",
       "    </tr>\n",
       "  </tbody>\n",
       "</table>\n"
      ],
      "text/plain": [
       "<pandas.io.formats.style.Styler at 0x28592a2b7f0>"
      ]
     },
     "metadata": {},
     "output_type": "display_data"
    }
   ],
   "source": [
    "model = create_model('gbc', verbose=False)\n",
    "previsoes = predict_model(model)"
   ]
  },
  {
   "cell_type": "code",
   "execution_count": null,
   "metadata": {},
   "outputs": [],
   "source": [
    "# Selecionar as colunas desejadas do data2\n",
    "data2_subset = df['Odds_H']\n",
    "\n",
    "# Juntar as colunas \"C\" e \"D\" do data2_subset ao data1 com base nos índices\n",
    "previsoes = previsoes.merge(data2_subset, left_index=True, right_index=True)"
   ]
  },
  {
   "cell_type": "code",
   "execution_count": 9,
   "metadata": {},
   "outputs": [
    {
     "data": {
      "text/plain": [
       "19.73"
      ]
     },
     "execution_count": 9,
     "metadata": {},
     "output_type": "execute_result"
    }
   ],
   "source": [
    "previsoes.loc[((previsoes['prediction_label'] == 1) & (previsoes[target] == 1)), 'PL_Back_Home_Predictions'] = previsoes.Odds_H - 1\n",
    "previsoes.loc[((previsoes['prediction_label'] == 1) & (previsoes[target] == 0)), 'PL_Back_Home_Predictions'] = - 1\n",
    "previsoes.loc[((previsoes['prediction_label'] != 1)), 'PL_Back_Home_Predictions'] = 0\n",
    "previsoes['PL_Back_Home_Predictions'].sum()"
   ]
  },
  {
   "cell_type": "code",
   "execution_count": 10,
   "metadata": {},
   "outputs": [
    {
     "data": {
      "text/plain": [
       "(82, 2.2557318)"
      ]
     },
     "execution_count": 10,
     "metadata": {},
     "output_type": "execute_result"
    }
   ],
   "source": [
    "previsoes[previsoes['prediction_label'] == 1].shape[0], previsoes[previsoes['prediction_label'] == 1]['Odds_H'].mean()"
   ]
  },
  {
   "cell_type": "code",
   "execution_count": 12,
   "metadata": {},
   "outputs": [],
   "source": [
    "final = finalize_model(model)"
   ]
  },
  {
   "cell_type": "code",
   "execution_count": 18,
   "metadata": {},
   "outputs": [
    {
     "name": "stdout",
     "output_type": "stream",
     "text": [
      "Transformation Pipeline and Model Successfully Saved\n"
     ]
    },
    {
     "data": {
      "text/plain": [
       "(Pipeline(memory=FastMemory(location=C:\\Users\\johnn\\AppData\\Local\\Temp\\joblib),\n",
       "          steps=[('numerical_imputer',\n",
       "                  TransformerWrapper(exclude=None,\n",
       "                                     include=['Odds_H', 'Odds_Over',\n",
       "                                              'Odds_Under', 'HA_Odds_A',\n",
       "                                              'Last_CG_H', 'DP_CG_A',\n",
       "                                              'Abaixo_Last_CG_A', 'CV_ML',\n",
       "                                              'CV_Over'],\n",
       "                                     transformer=SimpleImputer(add_indicator=False,\n",
       "                                                               copy=True,\n",
       "                                                               fill_value=None,\n",
       "                                                               keep_empty_features=False...\n",
       "                                             criterion='friedman_mse', init=None,\n",
       "                                             learning_rate=0.1, loss='log_loss',\n",
       "                                             max_depth=3, max_features=None,\n",
       "                                             max_leaf_nodes=None,\n",
       "                                             min_impurity_decrease=0.0,\n",
       "                                             min_samples_leaf=1,\n",
       "                                             min_samples_split=2,\n",
       "                                             min_weight_fraction_leaf=0.0,\n",
       "                                             n_estimators=100,\n",
       "                                             n_iter_no_change=None,\n",
       "                                             random_state=2023, subsample=1.0,\n",
       "                                             tol=0.0001, validation_fraction=0.1,\n",
       "                                             verbose=0, warm_start=False))],\n",
       "          verbose=False),\n",
       " 'back_home.pkl')"
      ]
     },
     "execution_count": 18,
     "metadata": {},
     "output_type": "execute_result"
    }
   ],
   "source": [
    "save_model(final, 'back_home')"
   ]
  },
  {
   "cell_type": "markdown",
   "metadata": {},
   "source": [
    "# Script para melhores variáveis"
   ]
  },
  {
   "cell_type": "code",
   "execution_count": 104,
   "metadata": {},
   "outputs": [],
   "source": [
    "colunas = ['Over_Line', 'Odds_Over', 'Odds_Under',\n",
    "       'HA_Line', 'HA_Odds_H', 'HA_Odds_A', 'P(H)', 'P(A)', 'P(O)', 'P(U)',\n",
    "       'P_Diff', 'Porc_Over_Home', 'Porc_Over_Away', 'Last_CG_H', 'Last_CG_A',\n",
    "       'Avg_CG_H', 'Avg_CG_A', 'DP_CG_H', 'DP_CG_A', 'CV_CG_H', 'CV_CG_A',\n",
    "       'Acima_Last_CG_H', 'Acima_Last_CG_A', 'Abaixo_Last_CG_H',\n",
    "       'Abaixo_Last_CG_A', 'CV_ML', 'CV_Over']"
   ]
  },
  {
   "cell_type": "code",
   "execution_count": 105,
   "metadata": {},
   "outputs": [],
   "source": [
    "import random\n",
    "\n",
    "def pegar_elementos_aleatorios(lista):\n",
    "    # Gerar um número aleatório entre 2 e 7\n",
    "    num_elementos = random.randint(2, 10)\n",
    "\n",
    "    # Garantir que o número de elementos não ultrapasse o tamanho da lista\n",
    "    num_elementos = min(num_elementos, len(lista))\n",
    "\n",
    "    # Selecionar elementos aleatórios da lista\n",
    "    elementos_aleatorios = random.sample(lista, num_elementos)\n",
    "\n",
    "    return elementos_aleatorios"
   ]
  },
  {
   "cell_type": "code",
   "execution_count": 107,
   "metadata": {},
   "outputs": [
    {
     "name": "stdout",
     "output_type": "stream",
     "text": [
      "**Novo melhor PL: -3.4600002765655518**\n",
      "Features: ['Porc_Over_Away', 'Acima_Last_CG_A', 'P(O)', 'P(A)', 'DP_CG_A', 'Over_Line', 'Last_CG_H', 'CV_Over', 'Acima_Last_CG_H', 'Odds_H']\n",
      "**Novo melhor PL: 19.03000259399414**\n",
      "Features: ['CV_Over', 'CV_ML', 'P(H)', 'HA_Odds_A', 'Last_CG_H', 'Odds_Under', 'P(A)', 'DP_CG_A', 'Odds_Over', 'Abaixo_Last_CG_A', 'Odds_H']\n"
     ]
    }
   ],
   "source": [
    "melhor_PL = -10000\n",
    "\n",
    "for i in range(100):\n",
    "    features = pegar_elementos_aleatorios(colunas)\n",
    "    features.append('Odds_H')\n",
    "\n",
    "    cls = setup(data = df,\n",
    "            ignore_features = [x for x in df.columns.to_list() if x not in features and x != target],\n",
    "            target = target,\n",
    "            train_size = 0.5,\n",
    "            normalize = True,\n",
    "            normalize_method = 'minmax',\n",
    "            session_id = 2023, \n",
    "            verbose = False\n",
    "            )\n",
    "    \n",
    "    model = create_model('gbc', verbose = False)\n",
    "    previsoes = predict_model(model, verbose = False)\n",
    "\n",
    "    previsoes.loc[((previsoes['prediction_label'] == 1) & (previsoes[target] == 1)), 'PL_Back_Home_Predictions'] = previsoes.Odds_H - 1\n",
    "    previsoes.loc[((previsoes['prediction_label'] == 1) & (previsoes[target] == 0)), 'PL_Back_Home_Predictions'] = - 1\n",
    "    previsoes.loc[((previsoes['prediction_label'] != 1)), 'PL_Back_Home_Predictions'] = 0\n",
    "\n",
    "    PL = previsoes['PL_Back_Home_Predictions'].sum()\n",
    "    \n",
    "    if PL > melhor_PL:\n",
    "        melhor_PL = PL\n",
    "        print(f'**Novo melhor PL: {melhor_PL}**')\n",
    "        print(f'Features: {features}')"
   ]
  }
 ],
 "metadata": {
  "kernelspec": {
   "display_name": "Python 3",
   "language": "python",
   "name": "python3"
  },
  "language_info": {
   "codemirror_mode": {
    "name": "ipython",
    "version": 3
   },
   "file_extension": ".py",
   "mimetype": "text/x-python",
   "name": "python",
   "nbconvert_exporter": "python",
   "pygments_lexer": "ipython3",
   "version": "3.10.7"
  },
  "orig_nbformat": 4
 },
 "nbformat": 4,
 "nbformat_minor": 2
}
