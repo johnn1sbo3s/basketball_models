{
 "cells": [
  {
   "cell_type": "code",
   "execution_count": 1,
   "metadata": {},
   "outputs": [],
   "source": [
    "import pandas as pd; pd.set_option('display.max_columns', None)\n",
    "import numpy as np\n",
    "import random\n",
    "import matplotlib.pyplot as plt\n",
    "from pycaret.classification import *\n",
    "from sklearn.model_selection import train_test_split\n",
    "\n",
    "import sys\n",
    "sys.path.append('../../../scripts/')\n",
    "from PreparaDatasetV2 import *"
   ]
  },
  {
   "cell_type": "markdown",
   "metadata": {},
   "source": [
    "# Parâmetros do método"
   ]
  },
  {
   "cell_type": "code",
   "execution_count": 2,
   "metadata": {},
   "outputs": [],
   "source": [
    "TARGET = 'Back_Under'\n",
    "ODDS = 'Odds_Under'"
   ]
  },
  {
   "cell_type": "markdown",
   "metadata": {},
   "source": [
    "# Carregando o dataset"
   ]
  },
  {
   "cell_type": "code",
   "execution_count": 3,
   "metadata": {},
   "outputs": [],
   "source": [
    "data = pd.read_csv('../../../data/Entire_Season.csv')\n",
    "data = prepara_df(data)"
   ]
  },
  {
   "cell_type": "code",
   "execution_count": 4,
   "metadata": {},
   "outputs": [],
   "source": [
    "def prepara_dataset(_df):\n",
    "    _df.loc[(_df['Back_Over'] == 1), 'Back_Under'] = 0\n",
    "    _df.loc[(_df['Back_Over'] == 0), 'Back_Under'] = 1\n",
    "\n",
    "    _df.replace([np.inf, -np.inf], 0, inplace=True)\n",
    "    _df.reset_index(drop=True, inplace=True)\n",
    "    \n",
    "    return _df"
   ]
  },
  {
   "cell_type": "code",
   "execution_count": 5,
   "metadata": {},
   "outputs": [],
   "source": [
    "df = data.copy()\n",
    "df = prepara_dataset(df)"
   ]
  },
  {
   "cell_type": "code",
   "execution_count": 6,
   "metadata": {},
   "outputs": [
    {
     "name": "stdout",
     "output_type": "stream",
     "text": [
      "Treino: 2720 | Teste: 2721 | Validação: 2804\n"
     ]
    }
   ],
   "source": [
    "treinamento, val = train_test_split(df, train_size=0.66, random_state=2023)\n",
    "real_treino, real_teste = train_test_split(treinamento, train_size=0.5, random_state=2023)\n",
    "\n",
    "print(f'Treino: {real_treino.shape[0]} | Teste: {real_teste.shape[0]} | Validação: {val.shape[0]}')"
   ]
  },
  {
   "cell_type": "markdown",
   "metadata": {},
   "source": [
    "# Criação do modelo"
   ]
  },
  {
   "cell_type": "code",
   "execution_count": 79,
   "metadata": {},
   "outputs": [],
   "source": [
    "features = ['Over_Line', 'HA_Line',\n",
    "       'HA_Odds_H', 'HA_Odds_A', 'P(H)', 'P(A)', 'P(O)', 'P(U)', 'P_Diff', \n",
    "       'Avg_CG_H', 'DP_CG_H', 'CV_CG_H', 'Avg_Pontos_H',\n",
    "       'DP_Pontos_H', 'CV_Pontos_H', 'CG_H_Last_Game', 'Media_Odds_Geral_H',\n",
    "       'DP_Odds_Geral_H', 'CV_Odds_Geral_H', 'Saldo_Gols_H', 'Avg_CG_A',\n",
    "       'DP_CG_A', 'CV_CG_A', 'Avg_Pontos_A', 'DP_Pontos_A', 'CV_Pontos_A',\n",
    "       'CG_A_Last_Game', 'Media_Odds_Geral_A', 'DP_Odds_Geral_A',\n",
    "       'CV_Odds_Geral_A', 'Saldo_Gols_A', 'Goals_Last_H', 'Goals_Last_A',\n",
    "       'Last_Odd_H', 'Last_Odd_A', 'MediaCustoGolHome', 'MediaCustoGolAway',\n",
    "       'CV_ML', 'CV_Over', 'CV_HA', 'Retornos_BH_Acu', 'Avg_Retornos_BH',\n",
    "       'Custo_Retorno_BH', 'Avg_Porc_BH_Bookie', 'Avg_Porc_BH_Real',\n",
    "       'Dist_Porc_BH', 'Retornos_BA_Acu', 'Avg_Retornos_BA',\n",
    "       'Custo_Retorno_BA', 'Avg_Porc_BA_Bookie', 'Avg_Porc_BA_Real',\n",
    "       'Dist_Porc_BA']"
   ]
  },
  {
   "cell_type": "code",
   "execution_count": 151,
   "metadata": {},
   "outputs": [
    {
     "data": {
      "text/plain": [
       "[Interval(-0.001, 0.154, closed='right'),\n",
       " Interval(0.154, 0.319, closed='right'),\n",
       " Interval(0.319, 0.5, closed='right'),\n",
       " Interval(0.5, 1.001, closed='right'),\n",
       " Interval(1.001, 1.297, closed='right')]"
      ]
     },
     "execution_count": 151,
     "metadata": {},
     "output_type": "execute_result"
    }
   ],
   "source": [
    "# Ranges da variável\n",
    "ranges_dict['CV_ML']['range']"
   ]
  },
  {
   "cell_type": "code",
   "execution_count": 143,
   "metadata": {},
   "outputs": [],
   "source": [
    "def filtra_resultados(_df, filtro = 0):\n",
    "\n",
    "    if filtro == 1:\n",
    "        _df = _df[((_df['CG_A_Last_Game'] <= 191) | (_df['CG_A_Last_Game'] > 280))]\n",
    "        _df = _df[((_df['Saldo_Gols_H'] <= 0) | (_df['Saldo_Gols_H'] > 16))]\n",
    "        _df = _df[((_df['CG_H_Last_Game'] <= 166.6) | (_df['CG_H_Last_Game'] > 260.85))]\n",
    "        _df = _df[((_df['Avg_CG_H'] <= 262.034) | (_df['Avg_CG_H'] > 969.8))]\n",
    "        _df = _df[((_df['MediaCustoGolAway'] <= 200.907) | (_df['MediaCustoGolAway'] > 868.35))]\n",
    "        _df = _df[((_df['P_Diff'] <= 0.0747) | (_df['P_Diff'] > 0.0971))]\n",
    "        _df = _df[((_df['HA_Odds_A'] >= 0) & (_df['HA_Odds_A'] <= 1.68)) | ((_df['HA_Odds_A'] > 1.8) & (_df['HA_Odds_A'] <= 1.9))]\n",
    "        _df = _df[((_df['CV_HA'] >= 0) & (_df['CV_HA'] <= 0.162))]\n",
    "        _df = _df[((_df['Last_Odd_A'] <= 1.297) | (_df['Last_Odd_A'] > 1.62))]\n",
    "        _df = _df[((_df['P(A)'] <= 0.234) | (_df['P(A)'] > 0.365))]\n",
    "\n",
    "    return _df"
   ]
  },
  {
   "cell_type": "code",
   "execution_count": 11,
   "metadata": {},
   "outputs": [],
   "source": [
    "def calcula_profit(_df, stake = 1):\n",
    "    _df.loc[(_df[TARGET] == 1), 'PL_BF_Predictions'] = (_df[ODDS] - 1) * stake\n",
    "    _df.loc[(_df[TARGET] == 0), 'PL_BF_Predictions'] = - stake\n",
    "\n",
    "    return _df\n",
    "\n",
    "def exibe_metricas(_df, total, stake = 1, return_metrics = False):\n",
    "    _df['Acumulado'] = _df['PL_BF_Predictions'].cumsum()\n",
    "    _df['Drawdown'] = _df['Acumulado'] - _df['Acumulado'].cummax()\n",
    "    plb = _df['PL_BF_Predictions'].sum()\n",
    "    entradas = _df.shape[0]\n",
    "    wr = round((_df[_df[TARGET] == 1].shape[0] / entradas), 2)\n",
    "    oddback = (_df[ODDS].mean())\n",
    "    med_gain = _df[_df[TARGET] == 1]['PL_BF_Predictions'].mean()\n",
    "    med_loss = _df[_df[TARGET] == 0]['PL_BF_Predictions'].mean()\n",
    "    roi = plb / entradas\n",
    "    porc_ent = entradas / total\n",
    "    ev = (wr*stake*med_gain) + ((1-wr)*med_loss*stake)\n",
    "    dd = _df['Drawdown'].min()\n",
    "\n",
    "    if return_metrics == False:\n",
    "        print(f'PL: {plb:.2f} | ROI: {100*roi:.2f}% | Prec.: {wr:.2f}')\n",
    "        print(f'Odd média: {oddback:.2f} ({1/oddback:.2f} WR)')\n",
    "        print(f'Média Gain: {med_gain:.2f} | Média Loss: {med_loss:.2f}')\n",
    "        print(f'EM: {ev:.2f}')\n",
    "        print(f'Máx Drawndown: {dd:.2f}')\n",
    "        print(f'{entradas} entradas em {total} jogos ({100*porc_ent:.2f}%)')\n",
    "    else:\n",
    "        return_metrics == True\n",
    "        metrics = {\n",
    "            'pl': plb,\n",
    "            'wr': wr,\n",
    "            'dd': dd,\n",
    "            'oddback': oddback,\n",
    "            'med_gain': med_gain,\n",
    "            'med_loss': med_loss,\n",
    "            'roi': roi,\n",
    "            'porc_ent': porc_ent,\n",
    "            'ev': ev,\n",
    "        }\n",
    "        return metrics\n",
    "\n",
    "def exibe_grafico(_df, per_day = False):\n",
    "    _df['Date'] = pd.to_datetime(_df['Date'])\n",
    "    _df.sort_values('Date', inplace=True)\n",
    "    _df.reset_index(drop=True, inplace=True)\n",
    "    \n",
    "    if per_day:\n",
    "        _df_per_day = _df.groupby(_df['Date'].dt.date)['PL_BF_Predictions'].sum()\n",
    "        _df_per_day = _df_per_day.reset_index()\n",
    "        \n",
    "        # Criar um novo DataFrame com colunas 'Date' e 'Accumulated'\n",
    "        new_df = pd.DataFrame({\n",
    "            'Date': _df_per_day['Date'],\n",
    "            'PL': _df_per_day['PL_BF_Predictions']\n",
    "        })\n",
    "\n",
    "        new_df['hbacu'] = new_df['PL'].cumsum()\n",
    "        new_df['hbacu'].plot.line(figsize=(7, 2))\n",
    "        plt.xlabel('Index')\n",
    "        plt.ylabel('Acumulado')\n",
    "        plt.title('Acumulado por dia')\n",
    "        plt.show()\n",
    "\n",
    "    else:\n",
    "        _df['hbacu'] = _df['PL_BF_Predictions'].cumsum()\n",
    "        _df['hbacu'].plot.line(figsize=(7, 2))\n",
    "        plt.xlabel('Index')\n",
    "        plt.ylabel('Acumulado')\n",
    "        plt.title('Acumulado por jogo')\n",
    "        plt.show()\n",
    "\n",
    "def treina_modelo(modelo, data):\n",
    "    _df = predict_model(modelo, data, verbose = False)\n",
    "    _df = _df.merge(df[[TARGET, 'Date']], left_index=True, right_index=True, how='left')\n",
    "    if f'{TARGET}_x' in _df.columns.tolist():\n",
    "        _df.rename(columns={f'{TARGET}_x': TARGET}, inplace=True)\n",
    "        _df.drop(columns=f'{TARGET}_y', inplace=True)\n",
    "    if 'Date_x' in _df.columns.tolist():\n",
    "        _df.rename(columns={'Date_x': 'Date'}, inplace=True)\n",
    "        _df.drop(columns='Date_y', inplace=True)\n",
    "    \n",
    "    return _df\n",
    "\n",
    "def info_modelo(data, stake = 1, filtro = 0, per_day = False, show_info = True):\n",
    "    total = data.shape[0]\n",
    "\n",
    "    _df = filtra_resultados(data, filtro=filtro)\n",
    "    _df = calcula_profit(_df, stake)\n",
    "    if show_info:\n",
    "        exibe_metricas(_df, total, stake)\n",
    "        exibe_grafico(_df, per_day)\n",
    "    \n",
    "    return _df\n"
   ]
  },
  {
   "cell_type": "code",
   "execution_count": 144,
   "metadata": {},
   "outputs": [
    {
     "name": "stdout",
     "output_type": "stream",
     "text": [
      "----------------- TREINO -----------------\n",
      "\n",
      "\n",
      "----------------- TESTE -----------------\n",
      "PL: 10.15 | ROI: 5.15% | Prec.: 0.56\n",
      "Odd média: 1.87 (0.54 WR)\n",
      "Média Gain: 0.87 | Média Loss: -1.00\n",
      "EM: 0.05\n",
      "Máx Drawndown: -14.93\n",
      "197 entradas em 2721 jogos (7.24%)\n"
     ]
    },
    {
     "data": {
      "image/png": "[encoded data removed]",
      "text/plain": [
       "<Figure size 700x200 with 1 Axes>"
      ]
     },
     "metadata": {},
     "output_type": "display_data"
    },
    {
     "name": "stdout",
     "output_type": "stream",
     "text": [
      "\n",
      "\n",
      "----------------- TREINAMENTO COMPLETO -----------------\n",
      "\n",
      "\n",
      "----------------- VALIDAÇÃO -----------------\n",
      "PL: 10.83 | ROI: 6.30% | Prec.: 0.57\n",
      "Odd média: 1.86 (0.54 WR)\n",
      "Média Gain: 0.87 | Média Loss: -1.00\n",
      "EM: 0.06\n",
      "Máx Drawndown: -6.20\n",
      "172 entradas em 2804 jogos (6.13%)\n"
     ]
    },
    {
     "data": {
      "image/png": "[encoded data removed]",
      "text/plain": [
       "<Figure size 700x200 with 1 Axes>"
      ]
     },
     "metadata": {},
     "output_type": "display_data"
    }
   ],
   "source": [
    "flt = 1\n",
    "\n",
    "print('----------------- TREINO -----------------')\n",
    "df_treino = info_modelo(real_treino, filtro = flt, show_info=False)\n",
    "print('\\n\\n----------------- TESTE -----------------')\n",
    "df_teste = info_modelo(real_teste, filtro = flt, show_info=True)\n",
    "print('\\n\\n----------------- TREINAMENTO COMPLETO -----------------')\n",
    "df_treinamento = info_modelo(treinamento, filtro = flt, show_info=False)\n",
    "print('\\n\\n----------------- VALIDAÇÃO -----------------')\n",
    "df_val = info_modelo(val, filtro = flt, show_info=True)"
   ]
  },
  {
   "cell_type": "code",
   "execution_count": 145,
   "metadata": {},
   "outputs": [
    {
     "name": "stdout",
     "output_type": "stream",
     "text": [
      "PL: 47.28 | ROI: 8.44% | Prec.: 0.58\n",
      "Odd média: 1.86 (0.54 WR)\n",
      "Média Gain: 0.87 | Média Loss: -1.00\n",
      "EM: 0.08\n",
      "Máx Drawndown: -17.62\n",
      "560 entradas em 8245 jogos (6.79%)\n"
     ]
    },
    {
     "data": {
      "image/png": "[encoded data removed]",
      "text/plain": [
       "<Figure size 700x200 with 1 Axes>"
      ]
     },
     "metadata": {},
     "output_type": "display_data"
    }
   ],
   "source": [
    "plt.axvline(x=len(pd.concat([df_treino, df_teste])), color='green', linestyle='--')\n",
    "comp = pd.concat([df_treino, df_teste, df_val])\n",
    "exibe_metricas(comp, total=len(treinamento) + len(val))\n",
    "exibe_grafico(comp)"
   ]
  },
  {
   "cell_type": "markdown",
   "metadata": {},
   "source": [
    "# QCut automático"
   ]
  },
  {
   "cell_type": "code",
   "execution_count": 131,
   "metadata": {},
   "outputs": [],
   "source": [
    "def find_pos_range(var, treino, teste, validacao, ratio = 0.03):\n",
    "    nome = f'Cat_{var}'\n",
    "    var_dict = {}\n",
    "\n",
    "    # Usa qcut para definir os grupos\n",
    "    treino[nome]  = pd.qcut(treino[var], q = 5)\n",
    "\n",
    "    target = 'PL_BF_Predictions'\n",
    "    pivot_table = pd.pivot_table(treino,\n",
    "                                values=target,\n",
    "                                index=[nome],\n",
    "                                aggfunc=['sum', 'count']\n",
    "                                )\n",
    "\n",
    "    pivot_table['ratio'] = pivot_table[('sum', target)] / pivot_table[('count', target)]\n",
    "\n",
    "    ranges = pivot_table[pivot_table['ratio'] > ratio].index.tolist()\n",
    "\n",
    "    # Máscara booleana para filtrar o DataFrame\n",
    "    mascara_treino = treino[var].apply(lambda x: any(x in range for range in ranges))\n",
    "    mascara_teste = teste[var].apply(lambda x: any(x in range for range in ranges))\n",
    "    mascara_val = validacao[var].apply(lambda x: any(x in range for range in ranges))\n",
    "        \n",
    "    # Aplicar a máscara para obter o DataFrame filtrado\n",
    "    teste_filtrado = teste[mascara_teste]\n",
    "    treino_filtrado = treino[mascara_treino]\n",
    "    val_filtrado = validacao[mascara_val]\n",
    "    \n",
    "    metric_val = {}\n",
    "\n",
    "    metric_treino = exibe_metricas(treino_filtrado, total=len(real_treino), return_metrics=True)\n",
    "    metric_teste = exibe_metricas(teste_filtrado, total=len(real_teste), return_metrics=True)\n",
    "    metric_val = exibe_metricas(val_filtrado, total=len(val), return_metrics=True)\n",
    "\n",
    "    var_dict['range'] = ranges\n",
    "    var_dict['metric_treino'] = metric_treino\n",
    "    var_dict['metric_teste'] = metric_teste\n",
    "    var_dict['metric_val'] = metric_val\n",
    "\n",
    "    var_dict['range'] = ranges\n",
    "    var_dict['metric_treino'] = metric_treino\n",
    "    var_dict['metric_teste'] = metric_teste\n",
    "    var_dict['metric_val'] = metric_val\n",
    "\n",
    "    return var_dict\n",
    "\n",
    "\n",
    "def find_top_range(var, treino, teste, validacao, ratio = 3):\n",
    "    nome = f'Cat_{var}'\n",
    "    var_dict = {}\n",
    "\n",
    "    # Usa qcut para definir os grupos\n",
    "    treino[nome]  = pd.qcut(treino[var], q = 5)\n",
    "\n",
    "    target = 'PL_BF_Predictions'\n",
    "    pivot_table = pd.pivot_table(treino,\n",
    "                                values=target,\n",
    "                                index=[nome],\n",
    "                                aggfunc=['sum', 'count']\n",
    "                                )\n",
    "    \n",
    "\n",
    "    pivot_table['ratio'] = pivot_table[('sum', target)] / pivot_table[('count', target)]\n",
    "\n",
    "    pivot_table.sort_values('ratio', ascending=True, inplace=True)\n",
    "    ranges = pivot_table.index.tolist()\n",
    "\n",
    "    ranges = ranges[:ratio]\n",
    "\n",
    "    # Máscara booleana para filtrar o DataFrame\n",
    "    mascara_treino = treino[var].apply(lambda x: any(x in range for range in ranges))\n",
    "    mascara_teste = teste[var].apply(lambda x: any(x in range for range in ranges))\n",
    "    mascara_val = validacao[var].apply(lambda x: any(x in range for range in ranges))\n",
    "    \n",
    "    # Aplicar a máscara para obter o DataFrame filtrado\n",
    "    teste_filtrado = teste[mascara_teste]\n",
    "    treino_filtrado = treino[mascara_treino]\n",
    "    val_filtrado = validacao[mascara_val]\n",
    "\n",
    "    metric_val = {}\n",
    "\n",
    "    metric_treino = exibe_metricas(treino_filtrado, total=len(real_treino), return_metrics=True)\n",
    "    metric_teste = exibe_metricas(teste_filtrado, total=len(real_teste), return_metrics=True)\n",
    "    metric_val = exibe_metricas(val_filtrado, total=len(val), return_metrics=True)\n",
    "\n",
    "    var_dict['range'] = ranges\n",
    "    var_dict['metric_treino'] = metric_treino\n",
    "    var_dict['metric_teste'] = metric_teste\n",
    "    var_dict['metric_val'] = metric_val\n",
    "\n",
    "    var_dict['range'] = ranges\n",
    "    var_dict['metric_treino'] = metric_treino\n",
    "    var_dict['metric_teste'] = metric_teste\n",
    "    var_dict['metric_val'] = metric_val\n",
    "\n",
    "    return var_dict\n",
    "\n",
    "\n",
    "def find_neg_range(var, treino, teste, validacao):\n",
    "    nome = f'Cat_{var}'\n",
    "    var_dict = {}\n",
    "\n",
    "    # Usa qcut para definir os grupos\n",
    "    treino[nome]  = pd.qcut(treino[var], q = 5)\n",
    "\n",
    "    target = 'PL_BF_Predictions'\n",
    "    pivot_table = pd.pivot_table(treino,\n",
    "                                values=target,\n",
    "                                index=[nome],\n",
    "                                aggfunc=['sum', 'count']\n",
    "                                )\n",
    "    \n",
    "\n",
    "    pivot_table['ratio'] = pivot_table[('sum', target)] / pivot_table[('count', target)]\n",
    "\n",
    "    pivot_table.sort_values('ratio', ascending=True, inplace=True)\n",
    "    ranges = pivot_table.index.tolist()\n",
    "    \n",
    "    # Pegar apenas o primeiro intervalo da lista\n",
    "    range = ranges[0]\n",
    "\n",
    "    # Criar a máscara booleana para valores dentro do primeiro intervalo\n",
    "    mascara_treino = treino[var].apply(lambda x: x in range)\n",
    "    mascara_teste = teste[var].apply(lambda x: x in range)\n",
    "    mascara_val = validacao[var].apply(lambda x: x in range)\n",
    "\n",
    "    mascara_treino = ~mascara_treino\n",
    "    mascara_teste = ~mascara_teste\n",
    "    mascara_val = ~mascara_val\n",
    "    \n",
    "    # Aplicar a máscara para obter o DataFrame filtrado\n",
    "    treino_filtrado = treino[mascara_treino]\n",
    "    teste_filtrado = teste[mascara_teste]\n",
    "    val_filtrado = validacao[mascara_val]\n",
    "    \n",
    "    metric_val = {}\n",
    "\n",
    "    metric_treino = exibe_metricas(treino_filtrado, total=len(real_treino), return_metrics=True)\n",
    "    metric_teste = exibe_metricas(teste_filtrado, total=len(real_teste), return_metrics=True)\n",
    "    metric_val = exibe_metricas(val_filtrado, total=len(val), return_metrics=True)\n",
    "\n",
    "    var_dict['range'] = range\n",
    "    var_dict['metric_treino'] = metric_treino\n",
    "    var_dict['metric_teste'] = metric_teste\n",
    "    var_dict['metric_val'] = metric_val\n",
    "\n",
    "    return var_dict"
   ]
  },
  {
   "cell_type": "code",
   "execution_count": 146,
   "metadata": {},
   "outputs": [],
   "source": [
    "autocut_treino = df_treino.copy()\n",
    "autocut_teste = df_teste.copy()\n",
    "autocut_val = df_val.copy()"
   ]
  },
  {
   "cell_type": "code",
   "execution_count": 155,
   "metadata": {},
   "outputs": [],
   "source": [
    "variaveis = features.copy()\n",
    "ranges_dict = {}\n",
    "\n",
    "for var in variaveis:\n",
    "    try:\n",
    "        # new_dict = find_pos_range(var, treino = autocut_treino, teste = autocut_teste, validacao = autocut_val, ratio = 0.07)\n",
    "        new_dict = find_neg_range(var, treino = autocut_treino, teste = autocut_teste, validacao=autocut_val)\n",
    "        # new_dict = find_top_range(var, treino = autocut_treino, teste = autocut_teste, validacao = autocut_val, ratio = 3)\n",
    "        ranges_dict[var] = new_dict\n",
    "    except:\n",
    "        pass\n",
    "\n",
    "ordenado = {chave: valor for chave, valor in sorted(ranges_dict.items(), key=lambda item: item[1]['metric_teste']['wr'], reverse=True)}"
   ]
  },
  {
   "cell_type": "code",
   "execution_count": 156,
   "metadata": {},
   "outputs": [
    {
     "name": "stdout",
     "output_type": "stream",
     "text": [
      "Goals_Last_H\n",
      "treino: 0.63\n",
      "teste: 0.59\n",
      "val: 0.53\n",
      "% Ent: 0.05\n",
      "\n",
      "Over_Line\n",
      "treino: 0.62\n",
      "teste: 0.58\n",
      "val: 0.55\n",
      "% Ent: 0.07\n",
      "\n",
      "P(H)\n",
      "treino: 0.63\n",
      "teste: 0.56\n",
      "val: 0.56\n",
      "% Ent: 0.06\n",
      "\n",
      "P_Diff\n",
      "treino: 0.62\n",
      "teste: 0.56\n",
      "val: 0.58\n",
      "% Ent: 0.06\n",
      "\n",
      "HA_Line\n",
      "treino: 0.62\n",
      "teste: 0.55\n",
      "val: 0.57\n",
      "% Ent: 0.06\n",
      "\n",
      "P(A)\n",
      "treino: 0.63\n",
      "teste: 0.55\n",
      "val: 0.55\n",
      "% Ent: 0.06\n",
      "\n",
      "CV_ML\n",
      "treino: 0.62\n",
      "teste: 0.55\n",
      "val: 0.59\n",
      "% Ent: 0.06\n",
      "\n",
      "HA_Odds_H\n",
      "treino: 0.61\n",
      "teste: 0.53\n",
      "val: 0.58\n",
      "% Ent: 0.06\n",
      "\n",
      "P(U)\n",
      "treino: 0.60\n",
      "teste: 0.51\n",
      "val: 0.56\n",
      "% Ent: 0.05\n",
      "\n"
     ]
    }
   ],
   "source": [
    "for var in ordenado:\n",
    "    print(f'{var}')\n",
    "    print(f'treino: {ordenado[var][\"metric_treino\"][\"wr\"]:.2f}')\n",
    "    # print(f'treino: {ordenado[var][\"metric_treino\"][\"pl\"]:.2f}')\n",
    "    print(f'teste: {ordenado[var][\"metric_teste\"][\"wr\"]:.2f}')\n",
    "    # print(f'teste: {ordenado[var][\"metric_teste\"][\"pl\"]:.2f}')\n",
    "    print(f'val: {ordenado[var][\"metric_val\"][\"wr\"]:.2f}')\n",
    "    # print(f'val: {ordenado[var][\"metric_val\"][\"pl\"]:.2f}')\n",
    "    print(f'% Ent: {ordenado[var][\"metric_teste\"][\"porc_ent\"]:.2f}')\n",
    "    print()"
   ]
  },
  {
   "cell_type": "markdown",
   "metadata": {},
   "source": [
    "### comparação geral"
   ]
  },
  {
   "cell_type": "code",
   "execution_count": null,
   "metadata": {},
   "outputs": [],
   "source": [
    "ordenado2 = {chave: valor for chave, valor in sorted(ranges_dict.items(), key=lambda item: item[1]['metric_val']['pl'], reverse=True)}\n",
    "\n",
    "for var in ordenado2:\n",
    "    print(f'{var}')\n",
    "    print('Treino')\n",
    "    print(f'WR: {ordenado2[var][\"metric_treino\"][\"wr\"]:.2f}')\n",
    "    print(f'PL: {ordenado2[var][\"metric_treino\"][\"pl\"]:.2f}')\n",
    "    print(f'ROI: {ordenado2[var][\"metric_treino\"][\"roi\"]:.2f}')\n",
    "    print(f'DD: {ordenado2[var][\"metric_treino\"][\"dd\"]:.2f}')\n",
    "    print(f'% Ent: {ordenado2[var][\"metric_treino\"][\"porc_ent\"]:.2f}')\n",
    "    print()\n",
    "    print('Teste')\n",
    "    print(f'WR: {ordenado2[var][\"metric_teste\"][\"wr\"]:.2f}')\n",
    "    print(f'PL: {ordenado2[var][\"metric_teste\"][\"pl\"]:.2f}')\n",
    "    print(f'ROI: {ordenado2[var][\"metric_teste\"][\"roi\"]:.2f}')\n",
    "    print(f'DD: {ordenado2[var][\"metric_teste\"][\"dd\"]:.2f}')\n",
    "    print(f'% Ent: {ordenado2[var][\"metric_teste\"][\"porc_ent\"]:.2f}')\n",
    "    print()\n",
    "    print('Val')\n",
    "    print(f'WR: {ordenado2[var][\"metric_val\"][\"wr\"]:.2f}')\n",
    "    print(f'PL: {ordenado2[var][\"metric_val\"][\"pl\"]:.2f}')\n",
    "    print(f'ROI: {ordenado2[var][\"metric_val\"][\"roi\"]:.2f}')\n",
    "    print(f'DD: {ordenado2[var][\"metric_val\"][\"dd\"]:.2f}')\n",
    "    print(f'% Ent: {ordenado2[var][\"metric_val\"][\"porc_ent\"]:.2f}')\n",
    "    print()\n",
    "    print('------------------------------------------------\\n')"
   ]
  },
  {
   "cell_type": "markdown",
   "metadata": {},
   "source": [
    "# Comparação de modelos"
   ]
  },
  {
   "cell_type": "markdown",
   "metadata": {},
   "source": [
    "### Escolhendo os modelos"
   ]
  },
  {
   "cell_type": "code",
   "execution_count": null,
   "metadata": {},
   "outputs": [],
   "source": [
    "def compare(conjunto, modelo, filtro, i):\n",
    "    try:\n",
    "        if conjunto == 'val':\n",
    "            print(f'{modelo.__class__.__name__} (i = {i})\\n')\n",
    "            aux = info_modelo(modelo, val, filtro = filtro)\n",
    "        elif conjunto == 'teste_val':\n",
    "            print(f'{modelo.__class__.__name__} (i = {i})\\n')\n",
    "            \n",
    "            aux_total = info_modelo(modelo, real_teste, filtro = filtro, show_info=False)\n",
    "            plt.axvline(x=len(aux_total), color='green', linestyle='--')\n",
    "            aux = info_modelo(modelo, pd.concat([real_teste, val]), filtro = filtro)\n",
    "        elif conjunto == 'teste':\n",
    "            print(f'{modelo.__class__.__name__} (i = {i})\\n')\n",
    "            aux = info_modelo(modelo, real_teste, filtro = filtro)\n",
    "    except:\n",
    "        print(f'O modelo apresentou um erro.\\n')\n",
    "        pass\n",
    "    print('\\n')"
   ]
  },
  {
   "cell_type": "code",
   "execution_count": null,
   "metadata": {},
   "outputs": [],
   "source": [
    "FILTRO = 1\n",
    "CONJUNTO = 'teste_val'"
   ]
  },
  {
   "cell_type": "code",
   "execution_count": null,
   "metadata": {},
   "outputs": [],
   "source": [
    "for i in range(14):\n",
    "    compare(CONJUNTO, top[i], FILTRO, i)"
   ]
  },
  {
   "cell_type": "code",
   "execution_count": null,
   "metadata": {},
   "outputs": [],
   "source": [
    "blended14 = blend_models(estimator_list = [top[1], top[4]], fold = 5, verbose=False)"
   ]
  },
  {
   "cell_type": "code",
   "execution_count": null,
   "metadata": {},
   "outputs": [],
   "source": [
    "model_list = [top[1], top[4], blended14]"
   ]
  },
  {
   "cell_type": "markdown",
   "metadata": {},
   "source": [
    "### Resultados"
   ]
  },
  {
   "cell_type": "code",
   "execution_count": null,
   "metadata": {},
   "outputs": [],
   "source": [
    "FILTRO = 1\n",
    "CONJUNTO = 'teste_val'\n",
    "\n",
    "for i in range(14):\n",
    "    try:\n",
    "        if CONJUNTO == 'val':\n",
    "            print(f'{top[i].__class__.__name__} (i = {i})\\n')\n",
    "            aux_total = treina_modelo(top[i], val1)\n",
    "            aux_total = filtra_resultados(aux_total, filtro = FILTRO)\n",
    "            plt.axvline(x=len(aux_total), color='red', linestyle='--')\n",
    "            aux = info_modelo(top[i], val, filtro = FILTRO)\n",
    "        elif CONJUNTO == 'teste_val':\n",
    "            print(f'{top[i].__class__.__name__} (i = {i})\\n')\n",
    "            aux_total = treina_modelo(top[i], real_teste)\n",
    "            aux_total = filtra_resultados(aux_total, filtro = FILTRO)\n",
    "            plt.axvline(x=len(aux_total), color='red', linestyle='--')\n",
    "            aux = info_modelo(top[i], pd.concat([real_teste, val]), filtro = FILTRO)\n",
    "        elif CONJUNTO == 'teste':\n",
    "            print(f'{top[i].__class__.__name__} (i = {i})\\n')\n",
    "            aux = info_modelo(top[i], real_teste, filtro = FILTRO)\n",
    "    except:\n",
    "        print(f'O modelo apresentou um erro.\\n')\n",
    "        pass"
   ]
  },
  {
   "cell_type": "markdown",
   "metadata": {},
   "source": [
    "# Script qcut"
   ]
  },
  {
   "cell_type": "code",
   "execution_count": null,
   "metadata": {},
   "outputs": [],
   "source": [
    "# df_cut1 = df_treino.copy()\n",
    "df_cut = df_treino.copy()\n",
    "# df_cut = pd.concat([df_cut1, df_cut2])"
   ]
  },
  {
   "cell_type": "code",
   "execution_count": null,
   "metadata": {},
   "outputs": [],
   "source": [
    "variaveis = features.copy()\n",
    "\n",
    "for var in variaveis:\n",
    "    try:\n",
    "        nome = f'Cat_{var}'\n",
    "        # Usa qcut para definir os grupos\n",
    "        df_cut[nome]  = pd.qcut(df_cut[var], q = 5, duplicates='drop')\n",
    "\n",
    "        target = 'PL_BF_Predictions'\n",
    "        pivot_table = pd.pivot_table(df_cut,\n",
    "                                    values=target,\n",
    "                                    index=[nome],\n",
    "                                    aggfunc=['sum', 'count']\n",
    "                                    )\n",
    "        \n",
    "\n",
    "        pivot_table['ratio'] = pivot_table[('sum', target)] / pivot_table[('count', target)]\n",
    "\n",
    "        aux_treino = pivot_table[pivot_table['ratio'] != 0]\n",
    "\n",
    "\n",
    "        print(var)\n",
    "        print(aux_treino)\n",
    "        print()\n",
    "        print('\\n\\n')\n",
    "        print('------------------------------------------------')\n",
    "        print('\\n\\n')\n",
    "    except:\n",
    "        pass"
   ]
  }
 ],
 "metadata": {
  "kernelspec": {
   "display_name": "venv",
   "language": "python",
   "name": "python3"
  },
  "language_info": {
   "codemirror_mode": {
    "name": "ipython",
    "version": 3
   },
   "file_extension": ".py",
   "mimetype": "text/x-python",
   "name": "python",
   "nbconvert_exporter": "python",
   "pygments_lexer": "ipython3",
   "version": "3.10.7"
  },
  "orig_nbformat": 4
 },
 "nbformat": 4,
 "nbformat_minor": 2
}
