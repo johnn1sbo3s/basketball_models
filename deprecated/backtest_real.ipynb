{
 "cells": [
  {
   "attachments": {},
   "cell_type": "markdown",
   "metadata": {},
   "source": [
    "### Importações"
   ]
  },
  {
   "cell_type": "code",
   "execution_count": 1,
   "metadata": {},
   "outputs": [],
   "source": [
    "import pandas as pd; pd.set_option('display.max_columns', None)\n",
    "from datetime import date, timedelta\n",
    "from pycaret.classification import *\n",
    "import os\n",
    "from scripts.AtualizaTemporada import *\n",
    "from scripts.TeoriaRetornos import *\n",
    "from scripts.PreparaDatasetV2 import *\n",
    "from scripts.AtualizaUltimosJogos import *\n",
    "from scripts.BucketHandler import *\n",
    "import glob"
   ]
  },
  {
   "cell_type": "code",
   "execution_count": 2,
   "metadata": {},
   "outputs": [],
   "source": [
    "def atualiza_dia(_jogos):\n",
    "    _jogos = prepara_df(_jogos)\n",
    "    _jogos = _jogos.reset_index(drop=True)\n",
    "\n",
    "    return _jogos"
   ]
  },
  {
   "cell_type": "code",
   "execution_count": 3,
   "metadata": {},
   "outputs": [],
   "source": [
    "def met_bh_v4(jogos, data_var):\n",
    "    df_bh_v4 = jogos.copy()\n",
    "\n",
    "    df_bh_v4 = df_bh_v4[(df_bh_v4['FT_Odds_H'] >= 1.75) & (df_bh_v4['FT_Odds_H'] <= 2.25)]\n",
    "    df_bh_v4.replace([np.inf, -np.inf], 0, inplace=True)\n",
    "\n",
    "    if not df_bh_v4.empty:\n",
    "        mdl_bh_v4 = load_model('ML/back_home/v4/v4_back_home', verbose=False)\n",
    "        prev = predict_model(mdl_bh_v4, df_bh_v4)\n",
    "        prev = prev[prev['prediction_label'] == 1]\n",
    "        \n",
    "        # Filtros pós modelo\n",
    "        prev = prev[((prev['Saldo_Gols_A'] < -3) | (prev['Saldo_Gols_A'] > -1))]\n",
    "\n",
    "        if not prev.empty:\n",
    "            prev.to_csv(f'apostas_do_dia/{data_var}/back_home_v4_{data_var}.csv', index=False)\n",
    "    else: print('Sem jogos')\n",
    "\n"
   ]
  },
  {
   "cell_type": "code",
   "execution_count": 4,
   "metadata": {},
   "outputs": [],
   "source": [
    "def get_datas(lista):\n",
    "  datas = []\n",
    "  for item in lista:\n",
    "    data = item.split(\"\\\\\")[-1].split(\".csv\")[0]\n",
    "    data = data.split(\"_\")[-1]\n",
    "    datas.append(data)\n",
    "  return datas"
   ]
  },
  {
   "cell_type": "code",
   "execution_count": 5,
   "metadata": {},
   "outputs": [
    {
     "data": {
      "text/plain": [
       "['2023-11-04', '2023-11-05', '2023-11-06', '2023-11-07']"
      ]
     },
     "execution_count": 5,
     "metadata": {},
     "output_type": "execute_result"
    }
   ],
   "source": [
    "itens = glob.glob('jogos_processados/prepara_dataset_v2/*.csv')\n",
    "itens = get_datas(itens)\n",
    "dias = itens[:-1]\n",
    "dias"
   ]
  },
  {
   "cell_type": "code",
   "execution_count": 6,
   "metadata": {},
   "outputs": [],
   "source": [
    "for dia in dias:\n",
    "    jogos = pd.read_csv(f'jogos_processados/prepara_dataset_v2/{dia}.csv')\n",
    "    met_bh_v4(jogos, dia)\n",
    "    met_bh_v5(jogos, dia)\n",
    "    met_bh_v6(jogos, dia)"
   ]
  }
 ],
 "metadata": {
  "kernelspec": {
   "display_name": "modelos_futebol",
   "language": "python",
   "name": "python3"
  },
  "language_info": {
   "codemirror_mode": {
    "name": "ipython",
    "version": 3
   },
   "file_extension": ".py",
   "mimetype": "text/x-python",
   "name": "python",
   "nbconvert_exporter": "python",
   "pygments_lexer": "ipython3",
   "version": "3.10.7"
  },
  "orig_nbformat": 4
 },
 "nbformat": 4,
 "nbformat_minor": 2
}
