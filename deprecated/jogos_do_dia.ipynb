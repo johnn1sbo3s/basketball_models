{
 "cells": [
  {
   "cell_type": "code",
   "execution_count": 1,
   "id": "c097e27a",
   "metadata": {
    "execution": {
     "iopub.execute_input": "2024-02-21T23:15:04.478205Z",
     "iopub.status.busy": "2024-02-21T23:15:04.477204Z",
     "iopub.status.idle": "2024-02-21T23:15:04.491223Z",
     "shell.execute_reply": "2024-02-21T23:15:04.491223Z"
    },
    "papermill": {
     "duration": 0.017604,
     "end_time": "2024-02-21T23:15:04.492805",
     "exception": false,
     "start_time": "2024-02-21T23:15:04.475201",
     "status": "completed"
    },
    "tags": [
     "parameters"
    ]
   },
   "outputs": [],
   "source": [
    "dia = \"\""
   ]
  },
  {
   "cell_type": "code",
   "execution_count": 2,
   "id": "835d7187",
   "metadata": {
    "execution": {
     "iopub.execute_input": "2024-02-21T23:15:04.496328Z",
     "iopub.status.busy": "2024-02-21T23:15:04.496328Z",
     "iopub.status.idle": "2024-02-21T23:15:04.506393Z",
     "shell.execute_reply": "2024-02-21T23:15:04.506393Z"
    },
    "papermill": {
     "duration": 0.013893,
     "end_time": "2024-02-21T23:15:04.507707",
     "exception": false,
     "start_time": "2024-02-21T23:15:04.493814",
     "status": "completed"
    },
    "tags": [
     "injected-parameters"
    ]
   },
   "outputs": [],
   "source": [
    "# Parameters\n",
    "dia = \"amanha\"\n"
   ]
  },
  {
   "cell_type": "code",
   "execution_count": 3,
   "id": "6ef356e6",
   "metadata": {
    "execution": {
     "iopub.execute_input": "2024-02-21T23:15:04.511721Z",
     "iopub.status.busy": "2024-02-21T23:15:04.510718Z",
     "iopub.status.idle": "2024-02-21T23:21:48.906815Z",
     "shell.execute_reply": "2024-02-21T23:21:48.906815Z"
    },
    "papermill": {
     "duration": 404.400106,
     "end_time": "2024-02-21T23:21:48.908817",
     "exception": false,
     "start_time": "2024-02-21T23:15:04.508711",
     "status": "completed"
    },
    "tags": []
   },
   "outputs": [
    {
     "name": "stderr",
     "output_type": "stream",
     "text": [
      "\r",
      "  0%|                                                                                          | 0/114 [00:00<?, ?it/s]"
     ]
    },
    {
     "name": "stderr",
     "output_type": "stream",
     "text": [
      "\r",
      "  1%|▋                                                                                 | 1/114 [00:06<11:42,  6.21s/it]"
     ]
    },
    {
     "name": "stderr",
     "output_type": "stream",
     "text": [
      "\r",
      "  2%|█▍                                                                                | 2/114 [00:12<12:05,  6.48s/it]"
     ]
    },
    {
     "name": "stderr",
     "output_type": "stream",
     "text": [
      "\r",
      "  3%|██▏                                                                               | 3/114 [00:18<11:10,  6.04s/it]"
     ]
    },
    {
     "name": "stderr",
     "output_type": "stream",
     "text": [
      "\r",
      "  4%|██▉                                                                               | 4/114 [00:23<10:38,  5.80s/it]"
     ]
    },
    {
     "name": "stderr",
     "output_type": "stream",
     "text": [
      "\r",
      "  4%|███▌                                                                              | 5/114 [00:29<10:12,  5.62s/it]"
     ]
    },
    {
     "name": "stderr",
     "output_type": "stream",
     "text": [
      "\r",
      "  5%|████▎                                                                             | 6/114 [00:34<09:53,  5.49s/it]"
     ]
    },
    {
     "name": "stderr",
     "output_type": "stream",
     "text": [
      "\r",
      "  6%|█████                                                                             | 7/114 [00:40<10:06,  5.67s/it]"
     ]
    },
    {
     "name": "stderr",
     "output_type": "stream",
     "text": [
      "\r",
      "  7%|█████▊                                                                            | 8/114 [00:45<09:52,  5.59s/it]"
     ]
    },
    {
     "name": "stderr",
     "output_type": "stream",
     "text": [
      "\r",
      "  8%|██████▍                                                                           | 9/114 [00:52<10:10,  5.81s/it]"
     ]
    },
    {
     "name": "stderr",
     "output_type": "stream",
     "text": [
      "\r",
      "  9%|███████                                                                          | 10/114 [00:58<10:35,  6.11s/it]"
     ]
    },
    {
     "name": "stderr",
     "output_type": "stream",
     "text": [
      "\r",
      " 10%|███████▊                                                                         | 11/114 [01:03<09:54,  5.77s/it]"
     ]
    },
    {
     "name": "stderr",
     "output_type": "stream",
     "text": [
      "\r",
      " 11%|████████▌                                                                        | 12/114 [01:08<09:22,  5.52s/it]"
     ]
    },
    {
     "name": "stderr",
     "output_type": "stream",
     "text": [
      "\r",
      " 11%|█████████▏                                                                       | 13/114 [01:13<08:54,  5.29s/it]"
     ]
    },
    {
     "name": "stderr",
     "output_type": "stream",
     "text": [
      "\r",
      " 12%|█████████▉                                                                       | 14/114 [01:18<08:46,  5.27s/it]"
     ]
    },
    {
     "name": "stderr",
     "output_type": "stream",
     "text": [
      "\r",
      " 13%|██████████▋                                                                      | 15/114 [01:23<08:19,  5.05s/it]"
     ]
    },
    {
     "name": "stderr",
     "output_type": "stream",
     "text": [
      "\r",
      " 14%|███████████▎                                                                     | 16/114 [01:25<06:46,  4.15s/it]"
     ]
    },
    {
     "name": "stderr",
     "output_type": "stream",
     "text": [
      "\r",
      " 15%|████████████                                                                     | 17/114 [01:27<05:39,  3.50s/it]"
     ]
    },
    {
     "name": "stderr",
     "output_type": "stream",
     "text": [
      "\r",
      " 16%|████████████▊                                                                    | 18/114 [01:31<06:06,  3.82s/it]"
     ]
    },
    {
     "name": "stderr",
     "output_type": "stream",
     "text": [
      "\r",
      " 17%|█████████████▌                                                                   | 19/114 [01:36<06:10,  3.90s/it]"
     ]
    },
    {
     "name": "stderr",
     "output_type": "stream",
     "text": [
      "\r",
      " 18%|██████████████▏                                                                  | 20/114 [01:40<06:12,  3.96s/it]"
     ]
    },
    {
     "name": "stderr",
     "output_type": "stream",
     "text": [
      "\r",
      " 18%|██████████████▉                                                                  | 21/114 [01:44<06:14,  4.03s/it]"
     ]
    },
    {
     "name": "stderr",
     "output_type": "stream",
     "text": [
      "\r",
      " 19%|███████████████▋                                                                 | 22/114 [01:48<06:16,  4.10s/it]"
     ]
    },
    {
     "name": "stderr",
     "output_type": "stream",
     "text": [
      "\r",
      " 20%|████████████████▎                                                                | 23/114 [01:53<06:20,  4.18s/it]"
     ]
    },
    {
     "name": "stderr",
     "output_type": "stream",
     "text": [
      "\r",
      " 21%|█████████████████                                                                | 24/114 [01:57<06:21,  4.24s/it]"
     ]
    },
    {
     "name": "stderr",
     "output_type": "stream",
     "text": [
      "\r",
      " 22%|█████████████████▊                                                               | 25/114 [01:59<05:11,  3.50s/it]"
     ]
    },
    {
     "name": "stderr",
     "output_type": "stream",
     "text": [
      "\r",
      " 23%|██████████████████▍                                                              | 26/114 [02:03<05:31,  3.77s/it]"
     ]
    },
    {
     "name": "stderr",
     "output_type": "stream",
     "text": [
      "\r",
      " 24%|███████████████████▏                                                             | 27/114 [02:07<05:40,  3.91s/it]"
     ]
    },
    {
     "name": "stderr",
     "output_type": "stream",
     "text": [
      "\r",
      " 25%|███████████████████▉                                                             | 28/114 [02:09<04:50,  3.37s/it]"
     ]
    },
    {
     "name": "stderr",
     "output_type": "stream",
     "text": [
      "\r",
      " 25%|████████████████████▌                                                            | 29/114 [02:11<04:10,  2.95s/it]"
     ]
    },
    {
     "name": "stderr",
     "output_type": "stream",
     "text": [
      "\r",
      " 26%|█████████████████████▎                                                           | 30/114 [02:13<03:42,  2.65s/it]"
     ]
    },
    {
     "name": "stderr",
     "output_type": "stream",
     "text": [
      "\r",
      " 27%|██████████████████████                                                           | 31/114 [02:15<03:17,  2.38s/it]"
     ]
    },
    {
     "name": "stderr",
     "output_type": "stream",
     "text": [
      "\r",
      " 28%|██████████████████████▋                                                          | 32/114 [02:17<03:04,  2.25s/it]"
     ]
    },
    {
     "name": "stderr",
     "output_type": "stream",
     "text": [
      "\r",
      " 29%|███████████████████████▍                                                         | 33/114 [02:19<02:55,  2.16s/it]"
     ]
    },
    {
     "name": "stderr",
     "output_type": "stream",
     "text": [
      "\r",
      " 30%|████████████████████████▏                                                        | 34/114 [02:21<02:43,  2.04s/it]"
     ]
    },
    {
     "name": "stderr",
     "output_type": "stream",
     "text": [
      "\r",
      " 31%|████████████████████████▊                                                        | 35/114 [02:27<04:12,  3.19s/it]"
     ]
    },
    {
     "name": "stderr",
     "output_type": "stream",
     "text": [
      "\r",
      " 32%|█████████████████████████▌                                                       | 36/114 [02:32<04:52,  3.75s/it]"
     ]
    },
    {
     "name": "stderr",
     "output_type": "stream",
     "text": [
      "\r",
      " 32%|██████████████████████████▎                                                      | 37/114 [02:36<05:12,  4.05s/it]"
     ]
    },
    {
     "name": "stderr",
     "output_type": "stream",
     "text": [
      "\r",
      " 33%|███████████████████████████                                                      | 38/114 [02:41<05:08,  4.06s/it]"
     ]
    },
    {
     "name": "stderr",
     "output_type": "stream",
     "text": [
      "\r",
      " 34%|███████████████████████████▋                                                     | 39/114 [02:45<05:05,  4.08s/it]"
     ]
    },
    {
     "name": "stderr",
     "output_type": "stream",
     "text": [
      "\r",
      " 35%|████████████████████████████▍                                                    | 40/114 [02:49<05:03,  4.10s/it]"
     ]
    },
    {
     "name": "stderr",
     "output_type": "stream",
     "text": [
      "\r",
      " 36%|█████████████████████████████▏                                                   | 41/114 [02:53<04:59,  4.10s/it]"
     ]
    },
    {
     "name": "stderr",
     "output_type": "stream",
     "text": [
      "\r",
      " 37%|█████████████████████████████▊                                                   | 42/114 [02:55<04:09,  3.46s/it]"
     ]
    },
    {
     "name": "stderr",
     "output_type": "stream",
     "text": [
      "\r",
      " 38%|██████████████████████████████▌                                                  | 43/114 [02:57<03:33,  3.01s/it]"
     ]
    },
    {
     "name": "stderr",
     "output_type": "stream",
     "text": [
      "\r",
      " 39%|███████████████████████████████▎                                                 | 44/114 [03:01<03:52,  3.33s/it]"
     ]
    },
    {
     "name": "stderr",
     "output_type": "stream",
     "text": [
      "\r",
      " 39%|███████████████████████████████▉                                                 | 45/114 [03:03<03:21,  2.92s/it]"
     ]
    },
    {
     "name": "stderr",
     "output_type": "stream",
     "text": [
      "\r",
      " 40%|████████████████████████████████▋                                                | 46/114 [03:05<02:58,  2.63s/it]"
     ]
    },
    {
     "name": "stderr",
     "output_type": "stream",
     "text": [
      "\r",
      " 41%|█████████████████████████████████▍                                               | 47/114 [03:09<03:25,  3.07s/it]"
     ]
    },
    {
     "name": "stderr",
     "output_type": "stream",
     "text": [
      "\r",
      " 42%|██████████████████████████████████                                               | 48/114 [03:11<03:00,  2.74s/it]"
     ]
    },
    {
     "name": "stderr",
     "output_type": "stream",
     "text": [
      "\r",
      " 43%|██████████████████████████████████▊                                              | 49/114 [03:13<02:41,  2.49s/it]"
     ]
    },
    {
     "name": "stderr",
     "output_type": "stream",
     "text": [
      "\r",
      " 44%|███████████████████████████████████▌                                             | 50/114 [03:15<02:30,  2.35s/it]"
     ]
    },
    {
     "name": "stderr",
     "output_type": "stream",
     "text": [
      "\r",
      " 45%|████████████████████████████████████▏                                            | 51/114 [03:19<03:00,  2.87s/it]"
     ]
    },
    {
     "name": "stderr",
     "output_type": "stream",
     "text": [
      "\r",
      " 46%|████████████████████████████████████▉                                            | 52/114 [03:21<02:40,  2.59s/it]"
     ]
    },
    {
     "name": "stderr",
     "output_type": "stream",
     "text": [
      "\r",
      " 46%|█████████████████████████████████████▋                                           | 53/114 [03:23<02:23,  2.35s/it]"
     ]
    },
    {
     "name": "stderr",
     "output_type": "stream",
     "text": [
      "\r",
      " 47%|██████████████████████████████████████▎                                          | 54/114 [03:25<02:13,  2.23s/it]"
     ]
    },
    {
     "name": "stderr",
     "output_type": "stream",
     "text": [
      "\r",
      " 48%|███████████████████████████████████████                                          | 55/114 [03:26<02:06,  2.14s/it]"
     ]
    },
    {
     "name": "stderr",
     "output_type": "stream",
     "text": [
      "\r",
      " 49%|███████████████████████████████████████▊                                         | 56/114 [03:28<02:00,  2.08s/it]"
     ]
    },
    {
     "name": "stderr",
     "output_type": "stream",
     "text": [
      "\r",
      " 50%|████████████████████████████████████████▌                                        | 57/114 [03:30<01:53,  1.98s/it]"
     ]
    },
    {
     "name": "stderr",
     "output_type": "stream",
     "text": [
      "\r",
      " 51%|█████████████████████████████████████████▏                                       | 58/114 [03:34<02:26,  2.62s/it]"
     ]
    },
    {
     "name": "stderr",
     "output_type": "stream",
     "text": [
      "\r",
      " 52%|█████████████████████████████████████████▉                                       | 59/114 [03:36<02:12,  2.41s/it]"
     ]
    },
    {
     "name": "stderr",
     "output_type": "stream",
     "text": [
      "\r",
      " 53%|██████████████████████████████████████████▋                                      | 60/114 [03:38<01:59,  2.21s/it]"
     ]
    },
    {
     "name": "stderr",
     "output_type": "stream",
     "text": [
      "\r",
      " 54%|███████████████████████████████████████████▎                                     | 61/114 [03:40<01:49,  2.07s/it]"
     ]
    },
    {
     "name": "stderr",
     "output_type": "stream",
     "text": [
      "\r",
      " 54%|████████████████████████████████████████████                                     | 62/114 [03:42<01:46,  2.05s/it]"
     ]
    },
    {
     "name": "stderr",
     "output_type": "stream",
     "text": [
      "\r",
      " 55%|████████████████████████████████████████████▊                                    | 63/114 [03:44<01:42,  2.02s/it]"
     ]
    },
    {
     "name": "stderr",
     "output_type": "stream",
     "text": [
      "\r",
      " 56%|█████████████████████████████████████████████▍                                   | 64/114 [03:46<01:40,  2.00s/it]"
     ]
    },
    {
     "name": "stderr",
     "output_type": "stream",
     "text": [
      "\r",
      " 57%|██████████████████████████████████████████████▏                                  | 65/114 [03:47<01:34,  1.93s/it]"
     ]
    },
    {
     "name": "stderr",
     "output_type": "stream",
     "text": [
      "\r",
      " 58%|██████████████████████████████████████████████▉                                  | 66/114 [03:49<01:33,  1.94s/it]"
     ]
    },
    {
     "name": "stderr",
     "output_type": "stream",
     "text": [
      "\r",
      " 59%|███████████████████████████████████████████████▌                                 | 67/114 [03:53<02:01,  2.59s/it]"
     ]
    },
    {
     "name": "stderr",
     "output_type": "stream",
     "text": [
      "\r",
      " 60%|████████████████████████████████████████████████▎                                | 68/114 [03:55<01:50,  2.40s/it]"
     ]
    },
    {
     "name": "stderr",
     "output_type": "stream",
     "text": [
      "\r",
      " 61%|█████████████████████████████████████████████████                                | 69/114 [03:57<01:41,  2.27s/it]"
     ]
    },
    {
     "name": "stderr",
     "output_type": "stream",
     "text": [
      "\r",
      " 61%|█████████████████████████████████████████████████▋                               | 70/114 [03:59<01:35,  2.17s/it]"
     ]
    },
    {
     "name": "stderr",
     "output_type": "stream",
     "text": [
      "\r",
      " 62%|██████████████████████████████████████████████████▍                              | 71/114 [04:01<01:30,  2.11s/it]"
     ]
    },
    {
     "name": "stderr",
     "output_type": "stream",
     "text": [
      "\r",
      " 63%|███████████████████████████████████████████████████▏                             | 72/114 [04:03<01:26,  2.06s/it]"
     ]
    },
    {
     "name": "stderr",
     "output_type": "stream",
     "text": [
      "\r",
      " 64%|███████████████████████████████████████████████████▊                             | 73/114 [04:05<01:23,  2.03s/it]"
     ]
    },
    {
     "name": "stderr",
     "output_type": "stream",
     "text": [
      "\r",
      " 65%|████████████████████████████████████████████████████▌                            | 74/114 [04:07<01:20,  2.01s/it]"
     ]
    },
    {
     "name": "stderr",
     "output_type": "stream",
     "text": [
      "\r",
      " 66%|█████████████████████████████████████████████████████▎                           | 75/114 [04:11<01:43,  2.64s/it]"
     ]
    },
    {
     "name": "stderr",
     "output_type": "stream",
     "text": [
      "\r",
      " 67%|██████████████████████████████████████████████████████                           | 76/114 [04:13<01:32,  2.43s/it]"
     ]
    },
    {
     "name": "stderr",
     "output_type": "stream",
     "text": [
      "\r",
      " 68%|██████████████████████████████████████████████████████▋                          | 77/114 [04:15<01:24,  2.28s/it]"
     ]
    },
    {
     "name": "stderr",
     "output_type": "stream",
     "text": [
      "\r",
      " 68%|███████████████████████████████████████████████████████▍                         | 78/114 [04:17<01:18,  2.18s/it]"
     ]
    },
    {
     "name": "stderr",
     "output_type": "stream",
     "text": [
      "\r",
      " 69%|████████████████████████████████████████████████████████▏                        | 79/114 [04:19<01:13,  2.11s/it]"
     ]
    },
    {
     "name": "stderr",
     "output_type": "stream",
     "text": [
      "\r",
      " 70%|████████████████████████████████████████████████████████▊                        | 80/114 [04:21<01:08,  2.01s/it]"
     ]
    },
    {
     "name": "stderr",
     "output_type": "stream",
     "text": [
      "\r",
      " 71%|█████████████████████████████████████████████████████████▌                       | 81/114 [04:23<01:03,  1.93s/it]"
     ]
    },
    {
     "name": "stderr",
     "output_type": "stream",
     "text": [
      "\r",
      " 72%|██████████████████████████████████████████████████████████▎                      | 82/114 [04:24<01:00,  1.88s/it]"
     ]
    },
    {
     "name": "stderr",
     "output_type": "stream",
     "text": [
      "\r",
      " 73%|██████████████████████████████████████████████████████████▉                      | 83/114 [04:26<00:57,  1.85s/it]"
     ]
    },
    {
     "name": "stderr",
     "output_type": "stream",
     "text": [
      "\r",
      " 74%|███████████████████████████████████████████████████████████▋                     | 84/114 [04:30<01:15,  2.52s/it]"
     ]
    },
    {
     "name": "stderr",
     "output_type": "stream",
     "text": [
      "\r",
      " 75%|████████████████████████████████████████████████████████████▍                    | 85/114 [04:32<01:08,  2.35s/it]"
     ]
    },
    {
     "name": "stderr",
     "output_type": "stream",
     "text": [
      "\r",
      " 75%|█████████████████████████████████████████████████████████████                    | 86/114 [04:34<01:02,  2.23s/it]"
     ]
    },
    {
     "name": "stderr",
     "output_type": "stream",
     "text": [
      "\r",
      " 76%|█████████████████████████████████████████████████████████████▊                   | 87/114 [04:36<00:57,  2.14s/it]"
     ]
    },
    {
     "name": "stderr",
     "output_type": "stream",
     "text": [
      "\r",
      " 77%|██████████████████████████████████████████████████████████████▌                  | 88/114 [04:40<01:10,  2.73s/it]"
     ]
    },
    {
     "name": "stderr",
     "output_type": "stream",
     "text": [
      "\r",
      " 78%|███████████████████████████████████████████████████████████████▏                 | 89/114 [04:44<01:16,  3.08s/it]"
     ]
    },
    {
     "name": "stderr",
     "output_type": "stream",
     "text": [
      "\r",
      " 79%|███████████████████████████████████████████████████████████████▉                 | 90/114 [04:48<01:21,  3.38s/it]"
     ]
    },
    {
     "name": "stderr",
     "output_type": "stream",
     "text": [
      "\r",
      " 80%|████████████████████████████████████████████████████████████████▋                | 91/114 [04:52<01:22,  3.59s/it]"
     ]
    },
    {
     "name": "stderr",
     "output_type": "stream",
     "text": [
      "\r",
      " 81%|█████████████████████████████████████████████████████████████████▎               | 92/114 [04:57<01:26,  3.91s/it]"
     ]
    },
    {
     "name": "stderr",
     "output_type": "stream",
     "text": [
      "\r",
      " 82%|██████████████████████████████████████████████████████████████████               | 93/114 [05:02<01:30,  4.31s/it]"
     ]
    },
    {
     "name": "stderr",
     "output_type": "stream",
     "text": [
      "\r",
      " 82%|██████████████████████████████████████████████████████████████████▊              | 94/114 [05:07<01:30,  4.51s/it]"
     ]
    },
    {
     "name": "stderr",
     "output_type": "stream",
     "text": [
      "\r",
      " 83%|███████████████████████████████████████████████████████████████████▌             | 95/114 [05:12<01:29,  4.72s/it]"
     ]
    },
    {
     "name": "stderr",
     "output_type": "stream",
     "text": [
      "\r",
      " 84%|████████████████████████████████████████████████████████████████████▏            | 96/114 [05:17<01:27,  4.87s/it]"
     ]
    },
    {
     "name": "stderr",
     "output_type": "stream",
     "text": [
      "\r",
      " 85%|████████████████████████████████████████████████████████████████████▉            | 97/114 [05:22<01:23,  4.91s/it]"
     ]
    },
    {
     "name": "stderr",
     "output_type": "stream",
     "text": [
      "\r",
      " 86%|█████████████████████████████████████████████████████████████████████▋           | 98/114 [05:27<01:17,  4.82s/it]"
     ]
    },
    {
     "name": "stderr",
     "output_type": "stream",
     "text": [
      "\r",
      " 87%|██████████████████████████████████████████████████████████████████████▎          | 99/114 [05:32<01:11,  4.74s/it]"
     ]
    },
    {
     "name": "stderr",
     "output_type": "stream",
     "text": [
      "\r",
      " 88%|██████████████████████████████████████████████████████████████████████▏         | 100/114 [05:37<01:08,  4.87s/it]"
     ]
    },
    {
     "name": "stderr",
     "output_type": "stream",
     "text": [
      "\r",
      " 89%|██████████████████████████████████████████████████████████████████████▉         | 101/114 [05:41<01:00,  4.66s/it]"
     ]
    },
    {
     "name": "stderr",
     "output_type": "stream",
     "text": [
      "\r",
      " 89%|███████████████████████████████████████████████████████████████████████▌        | 102/114 [05:45<00:53,  4.49s/it]"
     ]
    },
    {
     "name": "stderr",
     "output_type": "stream",
     "text": [
      "\r",
      " 90%|████████████████████████████████████████████████████████████████████████▎       | 103/114 [05:49<00:47,  4.33s/it]"
     ]
    },
    {
     "name": "stderr",
     "output_type": "stream",
     "text": [
      "\r",
      " 91%|████████████████████████████████████████████████████████████████████████▉       | 104/114 [05:53<00:43,  4.36s/it]"
     ]
    },
    {
     "name": "stderr",
     "output_type": "stream",
     "text": [
      "\r",
      " 92%|█████████████████████████████████████████████████████████████████████████▋      | 105/114 [05:55<00:32,  3.64s/it]"
     ]
    },
    {
     "name": "stderr",
     "output_type": "stream",
     "text": [
      "\r",
      " 93%|██████████████████████████████████████████████████████████████████████████▍     | 106/114 [05:57<00:25,  3.13s/it]"
     ]
    },
    {
     "name": "stderr",
     "output_type": "stream",
     "text": [
      "\r",
      " 94%|███████████████████████████████████████████████████████████████████████████     | 107/114 [06:02<00:24,  3.50s/it]"
     ]
    },
    {
     "name": "stderr",
     "output_type": "stream",
     "text": [
      "\r",
      " 95%|███████████████████████████████████████████████████████████████████████████▊    | 108/114 [06:06<00:22,  3.75s/it]"
     ]
    },
    {
     "name": "stderr",
     "output_type": "stream",
     "text": [
      "\r",
      " 96%|████████████████████████████████████████████████████████████████████████████▍   | 109/114 [06:10<00:19,  3.90s/it]"
     ]
    },
    {
     "name": "stderr",
     "output_type": "stream",
     "text": [
      "\r",
      " 96%|█████████████████████████████████████████████████████████████████████████████▏  | 110/114 [06:15<00:16,  4.11s/it]"
     ]
    },
    {
     "name": "stderr",
     "output_type": "stream",
     "text": [
      "\r",
      " 97%|█████████████████████████████████████████████████████████████████████████████▉  | 111/114 [06:19<00:12,  4.22s/it]"
     ]
    },
    {
     "name": "stderr",
     "output_type": "stream",
     "text": [
      "\r",
      " 98%|██████████████████████████████████████████████████████████████████████████████▌ | 112/114 [06:24<00:08,  4.30s/it]"
     ]
    },
    {
     "name": "stderr",
     "output_type": "stream",
     "text": [
      "\r",
      " 99%|███████████████████████████████████████████████████████████████████████████████▎| 113/114 [06:26<00:03,  3.54s/it]"
     ]
    },
    {
     "name": "stderr",
     "output_type": "stream",
     "text": [
      "\r",
      "100%|████████████████████████████████████████████████████████████████████████████████| 114/114 [06:30<00:00,  3.92s/it]"
     ]
    },
    {
     "name": "stderr",
     "output_type": "stream",
     "text": [
      "\r",
      "100%|████████████████████████████████████████████████████████████████████████████████| 114/114 [06:30<00:00,  3.43s/it]"
     ]
    },
    {
     "name": "stderr",
     "output_type": "stream",
     "text": [
      "\n"
     ]
    }
   ],
   "source": [
    "import warnings\n",
    "warnings.filterwarnings('ignore')\n",
    "import pandas as pd; pd.set_option('display.max_columns', None)\n",
    "import time\n",
    "from datetime import date, timedelta\n",
    "from tqdm import tqdm\n",
    "from selenium.webdriver.common.by import By\n",
    "from selenium import webdriver\n",
    "from selenium.webdriver.common.keys import Keys\n",
    "import re\n",
    "import os\n",
    "import warnings\n",
    "warnings.filterwarnings('ignore')\n",
    "def clean_name(name):\n",
    "    name = re.sub(r'\\s*-.*$', '', name.strip())  # Remover informações extras\n",
    "    return name.title()  # Caso contrário, padronizar nome com letras maiúsculas iniciais\n",
    "def find_point_five(number):\n",
    "    # Converte o número em uma string\n",
    "    number_str = str(number)\n",
    "    # Verifica se a string termina com \".5\"\n",
    "    if number_str.endswith(\".5\"):\n",
    "        return True\n",
    "    else:\n",
    "        return False\n",
    "hoje = date.today()\n",
    "amanha = hoje + timedelta(days=1)\n",
    "\n",
    "BOOKIE_1 = 'Bet365'\n",
    "BOOKIE_2 = '1xBet'\n",
    "\n",
    "try:\n",
    "    if dia != 'amanha':\n",
    "        existentes = pd.read_csv(f'jogos_do_dia/{hoje}.csv')\n",
    "    else:\n",
    "        existentes = pd.read_csv(f'jogos_do_dia/{amanha}.csv')\n",
    "        \n",
    "    existentes = existentes['Fixture ID'].unique().tolist()\n",
    "except:\n",
    "    existentes = []\n",
    "# Instanciando o Objeto ChromeOptions\n",
    "options = webdriver.EdgeOptions()\n",
    "\n",
    "# Passando algumas opções para esse ChromeOptions\n",
    "options.add_argument('--headless')\n",
    "options.add_argument('--no-sandbox')\n",
    "options.add_argument('--disable-dev-shm-usage')\n",
    "options.add_argument('--log-level=3')\n",
    "\n",
    "# Criação do WebDriver do Chrome\n",
    "wd_Chrome = webdriver.Edge(options=options)\n",
    "\n",
    "# Com o WebDrive a gente consegue a pedir a página (URL)\n",
    "wd_Chrome.get(\"https://www.flashscore.com.br/basquete/\")\n",
    "time.sleep(2)\n",
    "\n",
    "# Para jogos do dia seguinte\n",
    "if dia == \"amanha\":\n",
    "    wd_Chrome.find_element(By.XPATH,'//*[@id=\"live-table\"]/div[1]/div[2]/div/button[3]').send_keys(Keys.ENTER)\n",
    "    time.sleep(2)\n",
    "\n",
    "# Pegando o ID dos Jogos\n",
    "id_jogos = []\n",
    "jogos = wd_Chrome.find_elements(By.CSS_SELECTOR,'div.event__match--scheduled')\n",
    "\n",
    "for i in jogos:\n",
    "    id_jogos.append(i.get_attribute(\"id\"))\n",
    "\n",
    "# Exemplo de ID de um jogo: 'g_1_Gb7buXVt'    \n",
    "id_jogos = [i[4:] for i in id_jogos]\n",
    "\n",
    "# Separando apenas os IDs de jogos que eu não peguei ainda\n",
    "if len(existentes) > 0:\n",
    "    id_jogos = [id for id in id_jogos if id not in existentes]\n",
    "\n",
    "base_jogos = pd.DataFrame({})\n",
    "\n",
    "for link in tqdm(id_jogos, total=len(id_jogos)):\n",
    "    wd_Chrome.get(f'https://www.flashscore.com.br/jogo/{link}/#/resumo-de-jogo/resumo-de-jogo')\n",
    "    \n",
    "    Odds_H = 0\n",
    "    Odds_A = 0\n",
    "    Over_Line = 0\n",
    "    Odds_Over = 0\n",
    "    Odds_Under = 0\n",
    "    HA_Line = 0\n",
    "    HA_Odds_H = 0\n",
    "    HA_Odds_A = 0\n",
    "    \n",
    "    # Pegando as Informacoes Básicas do Jogo\n",
    "    try:\n",
    "        Date = wd_Chrome.find_element(By.CSS_SELECTOR,'div.duelParticipant__startTime').text.split(' ')[0]\n",
    "        Time = wd_Chrome.find_element(By.CSS_SELECTOR,'div.duelParticipant__startTime').text.split(' ')[1]\n",
    "        Country = wd_Chrome.find_element(By.CSS_SELECTOR,'span.tournamentHeader__country').text.split(':')[0]\n",
    "        League = wd_Chrome.find_element(By.CSS_SELECTOR,'span.tournamentHeader__country')\n",
    "        League = League.find_element(By.CSS_SELECTOR,'a').text\n",
    "        Home = wd_Chrome.find_element(By.CSS_SELECTOR,'div.duelParticipant__home')\n",
    "        Home = Home.find_element(By.CSS_SELECTOR,'div.participant__participantName').text\n",
    "        Away = wd_Chrome.find_element(By.CSS_SELECTOR,'div.duelParticipant__away')\n",
    "        Away = Away.find_element(By.CSS_SELECTOR,'div.participant__participantName').text\n",
    "\n",
    "        Country = clean_name(Country)\n",
    "        League = clean_name(League)\n",
    "        League_name = Country + ' ' + League\n",
    "\n",
    "        # if League_name not in lista_ligas:\n",
    "        #     # Condição satisfeita, pula para a próxima iteração do loop\n",
    "        #     continue\n",
    "    \n",
    "        # Match Odds\n",
    "        wd_Chrome.get(f'https://www.flashscore.com.br/jogo/{link}/#/comparacao-de-odds/home-away/tr-incluindo-prol')\n",
    "        time.sleep(1)\n",
    "        celulas = wd_Chrome.find_elements(By.CSS_SELECTOR,'div.ui-table__row')\n",
    "        \n",
    "        for celula in celulas:\n",
    "            bookie = celula.find_element(By.CSS_SELECTOR,'img.prematchLogo')\n",
    "            bookie = bookie.get_attribute('title')\n",
    "            if ((bookie == BOOKIE_1)):\n",
    "                Odds_H = float(celula.find_elements(By.CSS_SELECTOR,'a.oddsCell__odd')[0].text)\n",
    "                Odds_A = float(celula.find_elements(By.CSS_SELECTOR,'a.oddsCell__odd')[1].text)\n",
    "                break\n",
    "            elif ((bookie == BOOKIE_2)):\n",
    "                Odds_H = float(celula.find_elements(By.CSS_SELECTOR,'a.oddsCell__odd')[0].text)\n",
    "                Odds_A = float(celula.find_elements(By.CSS_SELECTOR,'a.oddsCell__odd')[1].text)\n",
    "                break\n",
    "            else:\n",
    "                pass\n",
    "\n",
    "        if Odds_H == 0:\n",
    "            continue\n",
    "\n",
    "        # Over/Under\n",
    "        wd_Chrome.get(f'https://www.flashscore.com.br/jogo/{link}/#/comparacao-de-odds/acima-abaixo/tr-incluindo-prol')\n",
    "        time.sleep(1)\n",
    "        celulas = wd_Chrome.find_elements(By.CLASS_NAME,'ui-table__row')\n",
    "\n",
    "        for celula in celulas:\n",
    "            bookie = celula.find_element(By.CSS_SELECTOR, 'img.prematchLogo').get_attribute('title')\n",
    "            Odds_Over = float(celula.find_elements(By.TAG_NAME,'span')[1].text)\n",
    "            Over_Line = float(celula.find_elements(By.TAG_NAME,'span')[0].text)\n",
    "            if (((bookie == BOOKIE_1) and (Odds_Over >= 1.80) and find_point_five(Over_Line))):\n",
    "                Odds_Under = float(celula.find_elements(By.TAG_NAME,'span')[2].text)\n",
    "                break\n",
    "            elif (((bookie == BOOKIE_2) and (Odds_Over >= 1.80) and find_point_five(Over_Line))):\n",
    "                Odds_Under = float(celula.find_elements(By.TAG_NAME,'span')[2].text)\n",
    "                break\n",
    "            else:\n",
    "                Over_Line, Odds_Over, Odds_Under = 0, 0, 0                   \n",
    "                pass\n",
    "\n",
    "\n",
    "        # Handicap\n",
    "        wd_Chrome.get(f'https://www.flashscore.com.br/jogo/{link}/#/comparacao-de-odds/handicap-asiatico/tr-incluindo-prol')\n",
    "        time.sleep(1)\n",
    "        celulas = wd_Chrome.find_elements(By.CLASS_NAME,'ui-table__row')\n",
    "\n",
    "        for celula in celulas:\n",
    "            \n",
    "            HA_Line = float(celula.find_elements(By.TAG_NAME,'span')[0].text)\n",
    "            HA_Odds_H = float(celula.find_elements(By.TAG_NAME,'span')[1].text)\n",
    "\n",
    "            bookie = celula.find_element(By.CSS_SELECTOR, 'img.prematchLogo').get_attribute('title')\n",
    "            if ((bookie == BOOKIE_1 and HA_Odds_H >= 1.80) and (bookie == BOOKIE_1 and HA_Odds_H <= 2.10) and (find_point_five(HA_Line))):\n",
    "                HA_Odds_A = float(celula.find_elements(By.TAG_NAME,'span')[2].text)\n",
    "                break\n",
    "            elif ((bookie == BOOKIE_2 and HA_Odds_H >= 1.80) and (bookie == BOOKIE_2 and HA_Odds_H <= 2.10) and (find_point_five(HA_Line))):\n",
    "                HA_Odds_A = float(celula.find_elements(By.TAG_NAME,'span')[2].text)\n",
    "                break\n",
    "            else:\n",
    "                pass\n",
    "\n",
    "        # print(Date, Home, Over_Line, Odds_Over, Odds_Under, HA_Line, HA_Odds_H, HA_Odds_A)\n",
    "        # print()\n",
    "\n",
    "        base_jogos.loc[base_jogos.shape[0],['Fixture ID', 'Date','League','Time','Home','Away','Odds_H','Odds_A','Over_Line','Odds_Over','Odds_Under','HA_Line','HA_Odds_H','HA_Odds_A']] = [\n",
    "            link, Date, League_name, Time, Home, Away, Odds_H, Odds_A, Over_Line, Odds_Over, Odds_Under, HA_Line, HA_Odds_H, HA_Odds_A\n",
    "        ]\n",
    "    except:\n",
    "        continue\n",
    "\n",
    "wd_Chrome.quit()\n",
    "backup = base_jogos.copy()\n",
    "\n",
    "# Remove jogos sem odds\n",
    "if len(base_jogos) > 0:\n",
    "    base_jogos = base_jogos[base_jogos['Odds_H'] != 0]\n",
    "    base_jogos.reset_index(drop=True, inplace=True)\n",
    "\n",
    "    # Ajusta coluna de data\n",
    "    base_jogos['Date'] = pd.to_datetime(base_jogos['Date'], format='%d.%m.%Y')\n",
    "    base_jogos['Date'] = pd.to_datetime(base_jogos['Date']).dt.date\n",
    "\n",
    "    dia_jogos = base_jogos['Date'].iloc[0]\n",
    "\n",
    "    try:\n",
    "        existente = pd.read_csv(f'jogos_do_dia/{dia_jogos}.csv')\n",
    "        n_jogos_antes = existente.shape[0]\n",
    "        existente = pd.concat([existente, base_jogos])\n",
    "        existente = existente.drop_duplicates(subset=['Home', 'Away'], keep='first')\n",
    "        existente.reset_index(drop=True, inplace=True)\n",
    "        n_jogos_depois = existente.shape[0]\n",
    "        existente.to_csv(f'jogos_do_dia/{dia_jogos}.csv', index=False)\n",
    "        print(f'{n_jogos_depois - n_jogos_antes} jogos adicionados aos jogos do dia.')\n",
    "    except:\n",
    "        base_jogos.to_csv(f'jogos_do_dia/{dia_jogos}.csv', index=False)\n",
    "        display(base_jogos)"
   ]
  }
 ],
 "metadata": {
  "kernelspec": {
   "display_name": "football_models",
   "language": "python",
   "name": "python3"
  },
  "language_info": {
   "codemirror_mode": {
    "name": "ipython",
    "version": 3
   },
   "file_extension": ".py",
   "mimetype": "text/x-python",
   "name": "python",
   "nbconvert_exporter": "python",
   "pygments_lexer": "ipython3",
   "version": "3.10.7"
  },
  "papermill": {
   "default_parameters": {},
   "duration": 408.775424,
   "end_time": "2024-02-21T23:21:51.557486",
   "environment_variables": {},
   "exception": null,
   "input_path": "jogos_do_dia.ipynb",
   "output_path": "jogos_do_dia.ipynb",
   "parameters": {
    "dia": "amanha"
   },
   "start_time": "2024-02-21T23:15:02.782062",
   "version": "2.5.0"
  }
 },
 "nbformat": 4,
 "nbformat_minor": 5
}