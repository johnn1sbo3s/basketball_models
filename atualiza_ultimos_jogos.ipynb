{
 "cells": [
  {
   "cell_type": "code",
   "execution_count": 1,
   "id": "a3549a05",
   "metadata": {
    "execution": {
     "iopub.execute_input": "2024-08-03T13:25:29.941471Z",
     "iopub.status.busy": "2024-08-03T13:25:29.940971Z",
     "iopub.status.idle": "2024-08-03T13:25:29.952920Z",
     "shell.execute_reply": "2024-08-03T13:25:29.952416Z"
    },
    "papermill": {
     "duration": 0.016794,
     "end_time": "2024-08-03T13:25:29.953916",
     "exception": false,
     "start_time": "2024-08-03T13:25:29.937122",
     "status": "completed"
    },
    "tags": [
     "parameters"
    ]
   },
   "outputs": [],
   "source": [
    "dia = ''"
   ]
  },
  {
   "cell_type": "code",
   "execution_count": 2,
   "id": "9f8f6ca9",
   "metadata": {
    "execution": {
     "iopub.execute_input": "2024-08-03T13:25:29.957917Z",
     "iopub.status.busy": "2024-08-03T13:25:29.957417Z",
     "iopub.status.idle": "2024-08-03T13:25:29.968475Z",
     "shell.execute_reply": "2024-08-03T13:25:29.967974Z"
    },
    "papermill": {
     "duration": 0.014053,
     "end_time": "2024-08-03T13:25:29.969473",
     "exception": false,
     "start_time": "2024-08-03T13:25:29.955420",
     "status": "completed"
    },
    "tags": [
     "injected-parameters"
    ]
   },
   "outputs": [],
   "source": [
    "# Parameters\n",
    "dia = \"2024-08-02\"\n"
   ]
  },
  {
   "cell_type": "code",
   "execution_count": 3,
   "id": "584bf48d",
   "metadata": {
    "execution": {
     "iopub.execute_input": "2024-08-03T13:25:29.972669Z",
     "iopub.status.busy": "2024-08-03T13:25:29.972170Z",
     "iopub.status.idle": "2024-08-03T13:26:02.950907Z",
     "shell.execute_reply": "2024-08-03T13:26:02.950406Z"
    },
    "papermill": {
     "duration": 32.981249,
     "end_time": "2024-08-03T13:26:02.951906",
     "exception": false,
     "start_time": "2024-08-03T13:25:29.970657",
     "status": "completed"
    },
    "tags": []
   },
   "outputs": [
    {
     "name": "stdout",
     "output_type": "stream",
     "text": [
      "Jogos do dia 2024-08-02\n",
      "\n"
     ]
    },
    {
     "name": "stderr",
     "output_type": "stream",
     "text": [
      "\r",
      "  0%|                                                                                           | 0/19 [00:00<?, ?it/s]"
     ]
    },
    {
     "name": "stderr",
     "output_type": "stream",
     "text": [
      "\r",
      "  5%|████▎                                                                              | 1/19 [00:00<00:13,  1.36it/s]"
     ]
    },
    {
     "name": "stderr",
     "output_type": "stream",
     "text": [
      "\r",
      " 11%|████████▋                                                                          | 2/19 [00:01<00:14,  1.21it/s]"
     ]
    },
    {
     "name": "stderr",
     "output_type": "stream",
     "text": [
      "\r",
      " 16%|█████████████                                                                      | 3/19 [00:02<00:13,  1.18it/s]"
     ]
    },
    {
     "name": "stderr",
     "output_type": "stream",
     "text": [
      "\r",
      " 21%|█████████████████▍                                                                 | 4/19 [00:03<00:12,  1.19it/s]"
     ]
    },
    {
     "name": "stderr",
     "output_type": "stream",
     "text": [
      "\r",
      " 26%|█████████████████████▊                                                             | 5/19 [00:04<00:11,  1.25it/s]"
     ]
    },
    {
     "name": "stderr",
     "output_type": "stream",
     "text": [
      "\r",
      " 32%|██████████████████████████▏                                                        | 6/19 [00:04<00:10,  1.29it/s]"
     ]
    },
    {
     "name": "stderr",
     "output_type": "stream",
     "text": [
      "\r",
      " 37%|██████████████████████████████▌                                                    | 7/19 [00:05<00:09,  1.24it/s]"
     ]
    },
    {
     "name": "stderr",
     "output_type": "stream",
     "text": [
      "\r",
      " 42%|██████████████████████████████████▉                                                | 8/19 [00:06<00:09,  1.18it/s]"
     ]
    },
    {
     "name": "stderr",
     "output_type": "stream",
     "text": [
      "\r",
      " 47%|███████████████████████████████████████▎                                           | 9/19 [00:07<00:08,  1.14it/s]"
     ]
    },
    {
     "name": "stderr",
     "output_type": "stream",
     "text": [
      "\r",
      " 53%|███████████████████████████████████████████▏                                      | 10/19 [00:08<00:08,  1.11it/s]"
     ]
    },
    {
     "name": "stderr",
     "output_type": "stream",
     "text": [
      "\r",
      " 58%|███████████████████████████████████████████████▍                                  | 11/19 [00:09<00:06,  1.18it/s]"
     ]
    },
    {
     "name": "stderr",
     "output_type": "stream",
     "text": [
      "\r",
      " 63%|███████████████████████████████████████████████████▊                              | 12/19 [00:10<00:06,  1.15it/s]"
     ]
    },
    {
     "name": "stderr",
     "output_type": "stream",
     "text": [
      "\r",
      " 68%|████████████████████████████████████████████████████████                          | 13/19 [00:11<00:05,  1.13it/s]"
     ]
    },
    {
     "name": "stderr",
     "output_type": "stream",
     "text": [
      "\r",
      " 74%|████████████████████████████████████████████████████████████▍                     | 14/19 [00:11<00:04,  1.11it/s]"
     ]
    },
    {
     "name": "stderr",
     "output_type": "stream",
     "text": [
      "\r",
      " 79%|████████████████████████████████████████████████████████████████▋                 | 15/19 [00:12<00:03,  1.09it/s]"
     ]
    },
    {
     "name": "stderr",
     "output_type": "stream",
     "text": [
      "\r",
      " 84%|█████████████████████████████████████████████████████████████████████             | 16/19 [00:13<00:02,  1.17it/s]"
     ]
    },
    {
     "name": "stderr",
     "output_type": "stream",
     "text": [
      "\r",
      " 89%|█████████████████████████████████████████████████████████████████████████▎        | 17/19 [00:14<00:01,  1.21it/s]"
     ]
    },
    {
     "name": "stderr",
     "output_type": "stream",
     "text": [
      "\r",
      " 95%|█████████████████████████████████████████████████████████████████████████████▋    | 18/19 [00:15<00:00,  1.14it/s]"
     ]
    },
    {
     "name": "stderr",
     "output_type": "stream",
     "text": [
      "\r",
      "100%|██████████████████████████████████████████████████████████████████████████████████| 19/19 [00:16<00:00,  1.20it/s]"
     ]
    },
    {
     "name": "stderr",
     "output_type": "stream",
     "text": [
      "\r",
      "100%|██████████████████████████████████████████████████████████████████████████████████| 19/19 [00:16<00:00,  1.18it/s]"
     ]
    },
    {
     "name": "stderr",
     "output_type": "stream",
     "text": [
      "\n"
     ]
    },
    {
     "name": "stdout",
     "output_type": "stream",
     "text": [
      "Dataset de temporada atualizado com 17 jogos.\n",
      "\n",
      "----------------------------------------------------------\n",
      "\n",
      "Atenção! 2 jogos não finalizados.\n",
      "\n"
     ]
    },
    {
     "data": {
      "text/html": [
       "<div>\n",
       "<style scoped>\n",
       "    .dataframe tbody tr th:only-of-type {\n",
       "        vertical-align: middle;\n",
       "    }\n",
       "\n",
       "    .dataframe tbody tr th {\n",
       "        vertical-align: top;\n",
       "    }\n",
       "\n",
       "    .dataframe thead th {\n",
       "        text-align: right;\n",
       "    }\n",
       "</style>\n",
       "<table border=\"1\" class=\"dataframe\">\n",
       "  <thead>\n",
       "    <tr style=\"text-align: right;\">\n",
       "      <th></th>\n",
       "      <th>Date</th>\n",
       "      <th>League</th>\n",
       "      <th>Time</th>\n",
       "      <th>Home</th>\n",
       "      <th>Away</th>\n",
       "      <th>Home_Pts</th>\n",
       "      <th>Away_Pts</th>\n",
       "      <th>Status</th>\n",
       "    </tr>\n",
       "  </thead>\n",
       "  <tbody>\n",
       "    <tr>\n",
       "      <th>15</th>\n",
       "      <td>2024-08-02</td>\n",
       "      <td>Venezuela Superliga</td>\n",
       "      <td>19:30</td>\n",
       "      <td>Spartans</td>\n",
       "      <td>Guaiqueries</td>\n",
       "      <td>NaN</td>\n",
       "      <td>NaN</td>\n",
       "      <td>Não iniciado</td>\n",
       "    </tr>\n",
       "    <tr>\n",
       "      <th>16</th>\n",
       "      <td>2024-08-02</td>\n",
       "      <td>Venezuela Superliga</td>\n",
       "      <td>19:45</td>\n",
       "      <td>Pioneros</td>\n",
       "      <td>Marinos</td>\n",
       "      <td>NaN</td>\n",
       "      <td>NaN</td>\n",
       "      <td>Não iniciado</td>\n",
       "    </tr>\n",
       "  </tbody>\n",
       "</table>\n",
       "</div>"
      ],
      "text/plain": [
       "          Date               League   Time      Home         Away  Home_Pts  \\\n",
       "15  2024-08-02  Venezuela Superliga  19:30  Spartans  Guaiqueries       NaN   \n",
       "16  2024-08-02  Venezuela Superliga  19:45  Pioneros      Marinos       NaN   \n",
       "\n",
       "    Away_Pts        Status  \n",
       "15       NaN  Não iniciado  \n",
       "16       NaN  Não iniciado  "
      ]
     },
     "metadata": {},
     "output_type": "display_data"
    }
   ],
   "source": [
    "import pandas as pd; pd.set_option('display.max_columns', None)\n",
    "from datetime import date, timedelta\n",
    "from scripts.AtualizaUltimosJogos import *\n",
    "import warnings\n",
    "warnings.filterwarnings('ignore')\n",
    "\n",
    "# Pegando os jogos do dia para atualizar\n",
    "jogos_passados = pd.read_csv(f'jogos_do_dia/{dia}.csv')\n",
    "dia_jogos = jogos_passados['Date'].iloc[0]\n",
    "id_jogos = jogos_passados['Fixture ID'].unique().tolist()\n",
    "print(f'Jogos do dia {dia_jogos}\\n')\n",
    "\n",
    "# Buscando os resultados\n",
    "results = atualiza_ultimos_jogos(id_jogos = id_jogos)\n",
    "\n",
    "# Merjando os resultados no dataset de jogos do dia\n",
    "df_resultados = pd.merge(left=jogos_passados, right=results[['Fixture ID', 'Home_Pts', 'Away_Pts', 'Status']], on='Fixture ID', how='left')\n",
    "df_resultados['Status'].replace(np.nan, 'Não iniciado', inplace=True)\n",
    "\n",
    "# Organizando as colunas do df_resultados\n",
    "df_resultados = df_resultados[['Fixture ID', 'Date', 'League', 'Time', 'Home', 'Away', 'Home_Pts', 'Away_Pts', 'Odds_H',\n",
    "       'Odds_A', 'Over_Line', 'Odds_Over', 'Odds_Under', 'HA_Line',\n",
    "       'HA_Odds_H', 'HA_Odds_A', 'Status']]\n",
    "df_resultados = df_resultados.drop_duplicates(subset=['Date', 'Home', 'Away'], keep='first')\n",
    "df_resultados.sort_values('Time', inplace=True)\n",
    "df_resultados.reset_index(inplace=True, drop=True)\n",
    "# Criando df com jogos que ainda não terminaram\n",
    "df_restantes = df_resultados[(df_resultados['Status'] != 'Após Tempo Extra') & (df_resultados['Status'] != 'Encerrado') & (df_resultados['Status'] != 'Após Pênaltis')]\n",
    "df_restantes = df_restantes[['Date', 'League', 'Time', 'Home', 'Away', 'Home_Pts', 'Away_Pts', 'Status']]\n",
    "\n",
    "# Limpando o df_resultados\n",
    "df_resultados = df_resultados[(df_resultados['Status'] == 'Após Tempo Extra') | (df_resultados['Status'] == 'Encerrado') | (df_resultados['Status'] == 'Após Pênaltis')]\n",
    "df_resultados = df_resultados[['Date', 'League', 'Time', 'Home', 'Away', 'Home_Pts', 'Away_Pts', 'Odds_H',\n",
    "       'Odds_A', 'Over_Line', 'Odds_Over', 'Odds_Under', 'HA_Line',\n",
    "       'HA_Odds_H', 'HA_Odds_A']]\n",
    "\n",
    "# Exclui os registros que já existem no dataset da temporada\n",
    "temporada = pd.read_csv('data/Entire_Season.csv')\n",
    "n_antes = len(temporada)\n",
    "temporada = pd.concat([temporada, df_resultados], ignore_index=True)\n",
    "temporada = temporada.drop_duplicates(subset=['Date', 'Home', 'Away'], keep='first')\n",
    "temporada.reset_index(drop=True, inplace=True)\n",
    "temporada.to_csv('data/Entire_Season.csv', index=False)\n",
    "\n",
    "print(f'Dataset de temporada atualizado com {len(temporada) - n_antes} jogos.\\n')\n",
    "print('----------------------------------------------------------\\n')\n",
    "print(f'Atenção! {len(df_restantes)} jogos não finalizados.\\n')\n",
    "display(df_restantes)"
   ]
  }
 ],
 "metadata": {
  "kernelspec": {
   "display_name": "modelos_futebol",
   "language": "python",
   "name": "python3"
  },
  "language_info": {
   "codemirror_mode": {
    "name": "ipython",
    "version": 3
   },
   "file_extension": ".py",
   "mimetype": "text/x-python",
   "name": "python",
   "nbconvert_exporter": "python",
   "pygments_lexer": "ipython3",
   "version": "3.10.7"
  },
  "papermill": {
   "default_parameters": {},
   "duration": 35.772952,
   "end_time": "2024-08-03T13:26:03.199207",
   "environment_variables": {},
   "exception": null,
   "input_path": "atualiza_ultimos_jogos.ipynb",
   "output_path": "atualiza_ultimos_jogos.ipynb",
   "parameters": {
    "dia": "2024-08-02"
   },
   "start_time": "2024-08-03T13:25:27.426255",
   "version": "2.5.0"
  }
 },
 "nbformat": 4,
 "nbformat_minor": 5
}