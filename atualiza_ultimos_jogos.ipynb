{
 "cells": [
  {
   "cell_type": "markdown",
   "id": "2ec195c7",
   "metadata": {
    "tags": [
     "papermill-error-cell-tag"
    ]
   },
   "source": [
    "<span style=\"color:red; font-family:Helvetica Neue, Helvetica, Arial, sans-serif; font-size:2em;\">An Exception was encountered at '<a href=\"#papermill-error-cell\">In [3]</a>'.</span>"
   ]
  },
  {
   "cell_type": "code",
   "execution_count": 1,
   "id": "a3549a05",
   "metadata": {
    "execution": {
     "iopub.execute_input": "2025-01-25T11:27:24.475801Z",
     "iopub.status.busy": "2025-01-25T11:27:24.474802Z",
     "iopub.status.idle": "2025-01-25T11:27:24.487813Z",
     "shell.execute_reply": "2025-01-25T11:27:24.487813Z"
    },
    "papermill": {
     "duration": 0.017471,
     "end_time": "2025-01-25T11:27:24.489814",
     "exception": false,
     "start_time": "2025-01-25T11:27:24.472343",
     "status": "completed"
    },
    "tags": [
     "parameters"
    ]
   },
   "outputs": [],
   "source": [
    "dia = ''"
   ]
  },
  {
   "cell_type": "code",
   "execution_count": 2,
   "id": "764419fa",
   "metadata": {
    "execution": {
     "iopub.execute_input": "2025-01-25T11:27:24.492816Z",
     "iopub.status.busy": "2025-01-25T11:27:24.492816Z",
     "iopub.status.idle": "2025-01-25T11:27:24.503069Z",
     "shell.execute_reply": "2025-01-25T11:27:24.503069Z"
    },
    "papermill": {
     "duration": 0.01326,
     "end_time": "2025-01-25T11:27:24.504075",
     "exception": false,
     "start_time": "2025-01-25T11:27:24.490815",
     "status": "completed"
    },
    "tags": [
     "injected-parameters"
    ]
   },
   "outputs": [],
   "source": [
    "# Parameters\n",
    "dia = \"2025-01-24\"\n"
   ]
  },
  {
   "cell_type": "markdown",
   "id": "5deaa166",
   "metadata": {
    "tags": [
     "papermill-error-cell-tag"
    ]
   },
   "source": [
    "<span id=\"papermill-error-cell\" style=\"color:red; font-family:Helvetica Neue, Helvetica, Arial, sans-serif; font-size:2em;\">Execution using papermill encountered an exception here and stopped:</span>"
   ]
  },
  {
   "cell_type": "code",
   "execution_count": 3,
   "id": "584bf48d",
   "metadata": {
    "execution": {
     "iopub.execute_input": "2025-01-25T11:27:24.508076Z",
     "iopub.status.busy": "2025-01-25T11:27:24.508076Z",
     "iopub.status.idle": "2025-01-25T11:27:25.477558Z",
     "shell.execute_reply": "2025-01-25T11:27:25.476553Z"
    },
    "papermill": {
     "duration": 0.972474,
     "end_time": "2025-01-25T11:27:25.478552",
     "exception": true,
     "start_time": "2025-01-25T11:27:24.506078",
     "status": "failed"
    },
    "tags": []
   },
   "outputs": [
    {
     "name": "stdout",
     "output_type": "stream",
     "text": [
      "Nenhum jogo para atualizar\n"
     ]
    },
    {
     "ename": "NameError",
     "evalue": "name 'jogos_passados' is not defined",
     "output_type": "error",
     "traceback": [
      "\u001b[1;31m---------------------------------------------------------------------------\u001b[0m",
      "\u001b[1;31mNameError\u001b[0m                                 Traceback (most recent call last)",
      "Cell \u001b[1;32mIn[3], line 19\u001b[0m\n\u001b[0;32m     16\u001b[0m \u001b[38;5;28;01mexcept\u001b[39;00m:\n\u001b[0;32m     17\u001b[0m        \u001b[38;5;28mprint\u001b[39m(\u001b[38;5;124m'\u001b[39m\u001b[38;5;124mNenhum jogo para atualizar\u001b[39m\u001b[38;5;124m'\u001b[39m)\n\u001b[1;32m---> 19\u001b[0m \u001b[38;5;28;01mif\u001b[39;00m \u001b[38;5;129;01mnot\u001b[39;00m \u001b[43mjogos_passados\u001b[49m\u001b[38;5;241m.\u001b[39mempty:\n\u001b[0;32m     20\u001b[0m        \u001b[38;5;66;03m# Buscando os resultados\u001b[39;00m\n\u001b[0;32m     21\u001b[0m        results \u001b[38;5;241m=\u001b[39m atualiza_ultimos_jogos(id_jogos \u001b[38;5;241m=\u001b[39m id_jogos)\n\u001b[0;32m     23\u001b[0m        \u001b[38;5;66;03m# Merjando os resultados no dataset de jogos do dia\u001b[39;00m\n",
      "\u001b[1;31mNameError\u001b[0m: name 'jogos_passados' is not defined"
     ]
    }
   ],
   "source": [
    "import pandas as pd; pd.set_option('display.max_columns', None)\n",
    "from datetime import date, timedelta\n",
    "from scripts.AtualizaUltimosJogos import *\n",
    "import warnings\n",
    "warnings.filterwarnings('ignore')\n",
    "\n",
    "# Pegando os jogos do dia para atualizar\n",
    "try:\n",
    "       jogos_passados = pd.read_csv(f'jogos_do_dia/{dia}.csv')\n",
    "       if jogos_passados.empty:\n",
    "              print('Nenhum jogo para atualizar')\n",
    "              pass\n",
    "       dia_jogos = jogos_passados['Date'].iloc[0]\n",
    "       id_jogos = jogos_passados['Fixture ID'].unique().tolist()\n",
    "       print(f'Jogos do dia {dia_jogos}\\n')\n",
    "except:\n",
    "       jogos_passados = pd.DataFrame()\n",
    "       print('Nenhum jogo para atualizar')\n",
    "\n",
    "if not jogos_passados.empty:\n",
    "       # Buscando os resultados\n",
    "       results = atualiza_ultimos_jogos(id_jogos = id_jogos)\n",
    "\n",
    "       # Merjando os resultados no dataset de jogos do dia\n",
    "       df_resultados = pd.merge(left=jogos_passados, right=results[['Fixture ID', 'Home_Pts', 'Away_Pts', 'Status']], on='Fixture ID', how='left')\n",
    "       df_resultados['Status'].replace(np.nan, 'Não iniciado', inplace=True)\n",
    "\n",
    "       # Organizando as colunas do df_resultados\n",
    "       df_resultados = df_resultados[['Fixture ID', 'Date', 'League', 'Time', 'Home', 'Away', 'Home_Pts', 'Away_Pts', 'Odds_H',\n",
    "              'Odds_A', 'Over_Line', 'Odds_Over', 'Odds_Under', 'HA_Line',\n",
    "              'HA_Odds_H', 'HA_Odds_A', 'Status']]\n",
    "       df_resultados = df_resultados.drop_duplicates(subset=['Date', 'Home', 'Away'], keep='first')\n",
    "       df_resultados.sort_values('Time', inplace=True)\n",
    "       df_resultados.reset_index(inplace=True, drop=True)\n",
    "       # Criando df com jogos que ainda não terminaram\n",
    "       df_restantes = df_resultados[(df_resultados['Status'] != 'Após Tempo Extra') & (df_resultados['Status'] != 'Encerrado') & (df_resultados['Status'] != 'Após Pênaltis')]\n",
    "       df_restantes = df_restantes[['Date', 'League', 'Time', 'Home', 'Away', 'Home_Pts', 'Away_Pts', 'Status']]\n",
    "\n",
    "       # Limpando o df_resultados\n",
    "       df_resultados = df_resultados[(df_resultados['Status'] == 'Após Tempo Extra') | (df_resultados['Status'] == 'Encerrado') | (df_resultados['Status'] == 'Após Pênaltis')]\n",
    "       df_resultados = df_resultados[['Date', 'League', 'Time', 'Home', 'Away', 'Home_Pts', 'Away_Pts', 'Odds_H',\n",
    "              'Odds_A', 'Over_Line', 'Odds_Over', 'Odds_Under', 'HA_Line',\n",
    "              'HA_Odds_H', 'HA_Odds_A']]\n",
    "\n",
    "       # Exclui os registros que já existem no dataset da temporada\n",
    "       temporada = pd.read_csv('data/Entire_Season.csv')\n",
    "       n_antes = len(temporada)\n",
    "       temporada = pd.concat([temporada, df_resultados], ignore_index=True)\n",
    "       temporada = temporada.drop_duplicates(subset=['Date', 'Home', 'Away'], keep='first')\n",
    "       temporada.reset_index(drop=True, inplace=True)\n",
    "       temporada.to_csv('data/Entire_Season.csv', index=False)\n",
    "\n",
    "       print(f'Dataset de temporada atualizado com {len(temporada) - n_antes} jogos.\\n')\n",
    "       print('----------------------------------------------------------\\n')\n",
    "       print(f'Atenção! {len(df_restantes)} jogos não finalizados.\\n')\n",
    "       display(df_restantes)"
   ]
  }
 ],
 "metadata": {
  "kernelspec": {
   "display_name": "Python 3",
   "language": "python",
   "name": "python3"
  },
  "language_info": {
   "codemirror_mode": {
    "name": "ipython",
    "version": 3
   },
   "file_extension": ".py",
   "mimetype": "text/x-python",
   "name": "python",
   "nbconvert_exporter": "python",
   "pygments_lexer": "ipython3",
   "version": "3.10.7"
  },
  "papermill": {
   "default_parameters": {},
   "duration": 2.92066,
   "end_time": "2025-01-25T11:27:25.713004",
   "environment_variables": {},
   "exception": true,
   "input_path": "atualiza_ultimos_jogos.ipynb",
   "output_path": "atualiza_ultimos_jogos.ipynb",
   "parameters": {
    "dia": "2025-01-24"
   },
   "start_time": "2025-01-25T11:27:22.792344",
   "version": "2.5.0"
  }
 },
 "nbformat": 4,
 "nbformat_minor": 5
}
