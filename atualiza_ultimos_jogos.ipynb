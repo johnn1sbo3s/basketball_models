{
 "cells": [
  {
   "cell_type": "code",
   "execution_count": 1,
   "id": "a3549a05",
   "metadata": {
    "execution": {
     "iopub.execute_input": "2024-06-02T13:00:07.141297Z",
     "iopub.status.busy": "2024-06-02T13:00:07.140801Z",
     "iopub.status.idle": "2024-06-02T13:00:07.154307Z",
     "shell.execute_reply": "2024-06-02T13:00:07.153809Z"
    },
    "papermill": {
     "duration": 0.017513,
     "end_time": "2024-06-02T13:00:07.155809",
     "exception": false,
     "start_time": "2024-06-02T13:00:07.138296",
     "status": "completed"
    },
    "tags": [
     "parameters"
    ]
   },
   "outputs": [],
   "source": [
    "dia = ''"
   ]
  },
  {
   "cell_type": "code",
   "execution_count": 2,
   "id": "d532c74c",
   "metadata": {
    "execution": {
     "iopub.execute_input": "2024-06-02T13:00:07.159322Z",
     "iopub.status.busy": "2024-06-02T13:00:07.159322Z",
     "iopub.status.idle": "2024-06-02T13:00:07.172626Z",
     "shell.execute_reply": "2024-06-02T13:00:07.171628Z"
    },
    "papermill": {
     "duration": 0.017319,
     "end_time": "2024-06-02T13:00:07.174128",
     "exception": false,
     "start_time": "2024-06-02T13:00:07.156809",
     "status": "completed"
    },
    "tags": [
     "injected-parameters"
    ]
   },
   "outputs": [],
   "source": [
    "# Parameters\n",
    "dia = \"2024-06-01\"\n"
   ]
  },
  {
   "cell_type": "code",
   "execution_count": 3,
   "id": "584bf48d",
   "metadata": {
    "execution": {
     "iopub.execute_input": "2024-06-02T13:00:07.177126Z",
     "iopub.status.busy": "2024-06-02T13:00:07.176630Z",
     "iopub.status.idle": "2024-06-02T13:01:48.285867Z",
     "shell.execute_reply": "2024-06-02T13:01:48.285360Z"
    },
    "papermill": {
     "duration": 101.112301,
     "end_time": "2024-06-02T13:01:48.287427",
     "exception": false,
     "start_time": "2024-06-02T13:00:07.175126",
     "status": "completed"
    },
    "tags": []
   },
   "outputs": [
    {
     "name": "stdout",
     "output_type": "stream",
     "text": [
      "Jogos do dia 2024-06-01\n",
      "\n"
     ]
    },
    {
     "name": "stderr",
     "output_type": "stream",
     "text": [
      "\r",
      "  0%|                                                                                           | 0/85 [00:00<?, ?it/s]"
     ]
    },
    {
     "name": "stderr",
     "output_type": "stream",
     "text": [
      "\r",
      "  1%|▉                                                                                  | 1/85 [00:00<01:03,  1.32it/s]"
     ]
    },
    {
     "name": "stderr",
     "output_type": "stream",
     "text": [
      "\r",
      "  2%|█▉                                                                                 | 2/85 [00:01<01:19,  1.04it/s]"
     ]
    },
    {
     "name": "stderr",
     "output_type": "stream",
     "text": [
      "\r",
      "  4%|██▉                                                                                | 3/85 [00:02<01:13,  1.12it/s]"
     ]
    },
    {
     "name": "stderr",
     "output_type": "stream",
     "text": [
      "\r",
      "  5%|███▉                                                                               | 4/85 [00:03<01:22,  1.02s/it]"
     ]
    },
    {
     "name": "stderr",
     "output_type": "stream",
     "text": [
      "\r",
      "  6%|████▉                                                                              | 5/85 [00:04<01:18,  1.02it/s]"
     ]
    },
    {
     "name": "stderr",
     "output_type": "stream",
     "text": [
      "\r",
      "  7%|█████▊                                                                             | 6/85 [00:05<01:16,  1.03it/s]"
     ]
    },
    {
     "name": "stderr",
     "output_type": "stream",
     "text": [
      "\r",
      "  8%|██████▊                                                                            | 7/85 [00:06<01:16,  1.02it/s]"
     ]
    },
    {
     "name": "stderr",
     "output_type": "stream",
     "text": [
      "\r",
      "  9%|███████▊                                                                           | 8/85 [00:07<01:10,  1.09it/s]"
     ]
    },
    {
     "name": "stderr",
     "output_type": "stream",
     "text": [
      "\r",
      " 11%|████████▊                                                                          | 9/85 [00:08<01:13,  1.03it/s]"
     ]
    },
    {
     "name": "stderr",
     "output_type": "stream",
     "text": [
      "\r",
      " 12%|█████████▋                                                                        | 10/85 [00:09<01:13,  1.02it/s]"
     ]
    },
    {
     "name": "stderr",
     "output_type": "stream",
     "text": [
      "\r",
      " 13%|██████████▌                                                                       | 11/85 [00:10<01:13,  1.01it/s]"
     ]
    },
    {
     "name": "stderr",
     "output_type": "stream",
     "text": [
      "\r",
      " 14%|███████████▌                                                                      | 12/85 [00:11<01:09,  1.05it/s]"
     ]
    },
    {
     "name": "stderr",
     "output_type": "stream",
     "text": [
      "\r",
      " 15%|████████████▌                                                                     | 13/85 [00:12<01:05,  1.11it/s]"
     ]
    },
    {
     "name": "stderr",
     "output_type": "stream",
     "text": [
      "\r",
      " 16%|█████████████▌                                                                    | 14/85 [00:13<01:03,  1.11it/s]"
     ]
    },
    {
     "name": "stderr",
     "output_type": "stream",
     "text": [
      "\r",
      " 18%|██████████████▍                                                                   | 15/85 [00:13<01:01,  1.14it/s]"
     ]
    },
    {
     "name": "stderr",
     "output_type": "stream",
     "text": [
      "\r",
      " 19%|███████████████▍                                                                  | 16/85 [00:14<01:01,  1.13it/s]"
     ]
    },
    {
     "name": "stderr",
     "output_type": "stream",
     "text": [
      "\r",
      " 20%|████████████████▍                                                                 | 17/85 [00:15<00:59,  1.14it/s]"
     ]
    },
    {
     "name": "stderr",
     "output_type": "stream",
     "text": [
      "\r",
      " 21%|█████████████████▎                                                                | 18/85 [00:16<01:00,  1.11it/s]"
     ]
    },
    {
     "name": "stderr",
     "output_type": "stream",
     "text": [
      "\r",
      " 22%|██████████████████▎                                                               | 19/85 [00:17<00:58,  1.12it/s]"
     ]
    },
    {
     "name": "stderr",
     "output_type": "stream",
     "text": [
      "\r",
      " 24%|███████████████████▎                                                              | 20/85 [00:18<01:00,  1.08it/s]"
     ]
    },
    {
     "name": "stderr",
     "output_type": "stream",
     "text": [
      "\r",
      " 25%|████████████████████▎                                                             | 21/85 [00:19<00:58,  1.09it/s]"
     ]
    },
    {
     "name": "stderr",
     "output_type": "stream",
     "text": [
      "\r",
      " 26%|█████████████████████▏                                                            | 22/85 [00:20<01:00,  1.04it/s]"
     ]
    },
    {
     "name": "stderr",
     "output_type": "stream",
     "text": [
      "\r",
      " 27%|██████████████████████▏                                                           | 23/85 [00:21<01:01,  1.01it/s]"
     ]
    },
    {
     "name": "stderr",
     "output_type": "stream",
     "text": [
      "\r",
      " 28%|███████████████████████▏                                                          | 24/85 [00:22<01:03,  1.05s/it]"
     ]
    },
    {
     "name": "stderr",
     "output_type": "stream",
     "text": [
      "\r",
      " 29%|████████████████████████                                                          | 25/85 [00:23<01:00,  1.01s/it]"
     ]
    },
    {
     "name": "stderr",
     "output_type": "stream",
     "text": [
      "\r",
      " 31%|█████████████████████████                                                         | 26/85 [00:24<00:55,  1.06it/s]"
     ]
    },
    {
     "name": "stderr",
     "output_type": "stream",
     "text": [
      "\r",
      " 32%|██████████████████████████                                                        | 27/85 [00:25<00:53,  1.08it/s]"
     ]
    },
    {
     "name": "stderr",
     "output_type": "stream",
     "text": [
      "\r",
      " 33%|███████████████████████████                                                       | 28/85 [00:26<00:53,  1.07it/s]"
     ]
    },
    {
     "name": "stderr",
     "output_type": "stream",
     "text": [
      "\r",
      " 34%|███████████████████████████▉                                                      | 29/85 [00:27<00:54,  1.02it/s]"
     ]
    },
    {
     "name": "stderr",
     "output_type": "stream",
     "text": [
      "\r",
      " 35%|████████████████████████████▉                                                     | 30/85 [00:28<00:53,  1.03it/s]"
     ]
    },
    {
     "name": "stderr",
     "output_type": "stream",
     "text": [
      "\r",
      " 36%|█████████████████████████████▉                                                    | 31/85 [00:29<00:51,  1.05it/s]"
     ]
    },
    {
     "name": "stderr",
     "output_type": "stream",
     "text": [
      "\r",
      " 38%|██████████████████████████████▊                                                   | 32/85 [00:30<00:51,  1.04it/s]"
     ]
    },
    {
     "name": "stderr",
     "output_type": "stream",
     "text": [
      "\r",
      " 39%|███████████████████████████████▊                                                  | 33/85 [00:31<00:51,  1.01it/s]"
     ]
    },
    {
     "name": "stderr",
     "output_type": "stream",
     "text": [
      "\r",
      " 40%|████████████████████████████████▊                                                 | 34/85 [00:32<00:55,  1.08s/it]"
     ]
    },
    {
     "name": "stderr",
     "output_type": "stream",
     "text": [
      "\r",
      " 41%|█████████████████████████████████▊                                                | 35/85 [00:33<00:53,  1.06s/it]"
     ]
    },
    {
     "name": "stderr",
     "output_type": "stream",
     "text": [
      "\r",
      " 42%|██████████████████████████████████▋                                               | 36/85 [00:34<00:49,  1.01s/it]"
     ]
    },
    {
     "name": "stderr",
     "output_type": "stream",
     "text": [
      "\r",
      " 44%|███████████████████████████████████▋                                              | 37/85 [00:35<00:48,  1.01s/it]"
     ]
    },
    {
     "name": "stderr",
     "output_type": "stream",
     "text": [
      "\r",
      " 45%|████████████████████████████████████▋                                             | 38/85 [00:36<00:46,  1.01it/s]"
     ]
    },
    {
     "name": "stderr",
     "output_type": "stream",
     "text": [
      "\r",
      " 46%|█████████████████████████████████████▌                                            | 39/85 [00:37<00:46,  1.01s/it]"
     ]
    },
    {
     "name": "stderr",
     "output_type": "stream",
     "text": [
      "\r",
      " 47%|██████████████████████████████████████▌                                           | 40/85 [00:38<00:43,  1.04it/s]"
     ]
    },
    {
     "name": "stderr",
     "output_type": "stream",
     "text": [
      "\r",
      " 48%|███████████████████████████████████████▌                                          | 41/85 [00:39<00:43,  1.02it/s]"
     ]
    },
    {
     "name": "stderr",
     "output_type": "stream",
     "text": [
      "\r",
      " 49%|████████████████████████████████████████▌                                         | 42/85 [00:40<00:43,  1.00s/it]"
     ]
    },
    {
     "name": "stderr",
     "output_type": "stream",
     "text": [
      "\r",
      " 51%|█████████████████████████████████████████▍                                        | 43/85 [00:41<00:44,  1.05s/it]"
     ]
    },
    {
     "name": "stderr",
     "output_type": "stream",
     "text": [
      "\r",
      " 52%|██████████████████████████████████████████▍                                       | 44/85 [00:42<00:42,  1.05s/it]"
     ]
    },
    {
     "name": "stderr",
     "output_type": "stream",
     "text": [
      "\r",
      " 53%|███████████████████████████████████████████▍                                      | 45/85 [00:43<00:40,  1.02s/it]"
     ]
    },
    {
     "name": "stderr",
     "output_type": "stream",
     "text": [
      "\r",
      " 54%|████████████████████████████████████████████▍                                     | 46/85 [00:44<00:39,  1.02s/it]"
     ]
    },
    {
     "name": "stderr",
     "output_type": "stream",
     "text": [
      "\r",
      " 55%|█████████████████████████████████████████████▎                                    | 47/85 [00:45<00:40,  1.05s/it]"
     ]
    },
    {
     "name": "stderr",
     "output_type": "stream",
     "text": [
      "\r",
      " 56%|██████████████████████████████████████████████▎                                   | 48/85 [00:46<00:36,  1.01it/s]"
     ]
    },
    {
     "name": "stderr",
     "output_type": "stream",
     "text": [
      "\r",
      " 58%|███████████████████████████████████████████████▎                                  | 49/85 [00:47<00:35,  1.01it/s]"
     ]
    },
    {
     "name": "stderr",
     "output_type": "stream",
     "text": [
      "\r",
      " 59%|████████████████████████████████████████████████▏                                 | 50/85 [00:48<00:35,  1.01s/it]"
     ]
    },
    {
     "name": "stderr",
     "output_type": "stream",
     "text": [
      "\r",
      " 60%|█████████████████████████████████████████████████▏                                | 51/85 [00:49<00:34,  1.01s/it]"
     ]
    },
    {
     "name": "stderr",
     "output_type": "stream",
     "text": [
      "\r",
      " 61%|██████████████████████████████████████████████████▏                               | 52/85 [00:50<00:33,  1.03s/it]"
     ]
    },
    {
     "name": "stderr",
     "output_type": "stream",
     "text": [
      "\r",
      " 62%|███████████████████████████████████████████████████▏                              | 53/85 [00:51<00:33,  1.03s/it]"
     ]
    },
    {
     "name": "stderr",
     "output_type": "stream",
     "text": [
      "\r",
      " 64%|████████████████████████████████████████████████████                              | 54/85 [00:52<00:30,  1.03it/s]"
     ]
    },
    {
     "name": "stderr",
     "output_type": "stream",
     "text": [
      "\r",
      " 65%|█████████████████████████████████████████████████████                             | 55/85 [00:53<00:30,  1.03s/it]"
     ]
    },
    {
     "name": "stderr",
     "output_type": "stream",
     "text": [
      "\r",
      " 66%|██████████████████████████████████████████████████████                            | 56/85 [00:54<00:29,  1.03s/it]"
     ]
    },
    {
     "name": "stderr",
     "output_type": "stream",
     "text": [
      "\r",
      " 67%|██████████████████████████████████████████████████████▉                           | 57/85 [00:55<00:30,  1.08s/it]"
     ]
    },
    {
     "name": "stderr",
     "output_type": "stream",
     "text": [
      "\r",
      " 68%|███████████████████████████████████████████████████████▉                          | 58/85 [00:56<00:26,  1.00it/s]"
     ]
    },
    {
     "name": "stderr",
     "output_type": "stream",
     "text": [
      "\r",
      " 69%|████████████████████████████████████████████████████████▉                         | 59/85 [00:57<00:25,  1.01it/s]"
     ]
    },
    {
     "name": "stderr",
     "output_type": "stream",
     "text": [
      "\r",
      " 71%|█████████████████████████████████████████████████████████▉                        | 60/85 [00:58<00:25,  1.00s/it]"
     ]
    },
    {
     "name": "stderr",
     "output_type": "stream",
     "text": [
      "\r",
      " 72%|██████████████████████████████████████████████████████████▊                       | 61/85 [00:59<00:22,  1.05it/s]"
     ]
    },
    {
     "name": "stderr",
     "output_type": "stream",
     "text": [
      "\r",
      " 73%|███████████████████████████████████████████████████████████▊                      | 62/85 [01:00<00:22,  1.00it/s]"
     ]
    },
    {
     "name": "stderr",
     "output_type": "stream",
     "text": [
      "\r",
      " 74%|████████████████████████████████████████████████████████████▊                     | 63/85 [01:01<00:22,  1.00s/it]"
     ]
    },
    {
     "name": "stderr",
     "output_type": "stream",
     "text": [
      "\r",
      " 75%|█████████████████████████████████████████████████████████████▋                    | 64/85 [01:02<00:21,  1.02s/it]"
     ]
    },
    {
     "name": "stderr",
     "output_type": "stream",
     "text": [
      "\r",
      " 76%|██████████████████████████████████████████████████████████████▋                   | 65/85 [01:04<00:21,  1.09s/it]"
     ]
    },
    {
     "name": "stderr",
     "output_type": "stream",
     "text": [
      "\r",
      " 78%|███████████████████████████████████████████████████████████████▋                  | 66/85 [01:05<00:20,  1.07s/it]"
     ]
    },
    {
     "name": "stderr",
     "output_type": "stream",
     "text": [
      "\r",
      " 79%|████████████████████████████████████████████████████████████████▋                 | 67/85 [01:06<00:19,  1.08s/it]"
     ]
    },
    {
     "name": "stderr",
     "output_type": "stream",
     "text": [
      "\r",
      " 80%|█████████████████████████████████████████████████████████████████▌                | 68/85 [01:07<00:18,  1.09s/it]"
     ]
    },
    {
     "name": "stderr",
     "output_type": "stream",
     "text": [
      "\r",
      " 81%|██████████████████████████████████████████████████████████████████▌               | 69/85 [01:08<00:16,  1.06s/it]"
     ]
    },
    {
     "name": "stderr",
     "output_type": "stream",
     "text": [
      "\r",
      " 82%|███████████████████████████████████████████████████████████████████▌              | 70/85 [01:09<00:15,  1.01s/it]"
     ]
    },
    {
     "name": "stderr",
     "output_type": "stream",
     "text": [
      "\r",
      " 84%|████████████████████████████████████████████████████████████████████▍             | 71/85 [01:10<00:13,  1.01it/s]"
     ]
    },
    {
     "name": "stderr",
     "output_type": "stream",
     "text": [
      "\r",
      " 85%|█████████████████████████████████████████████████████████████████████▍            | 72/85 [01:10<00:12,  1.06it/s]"
     ]
    },
    {
     "name": "stderr",
     "output_type": "stream",
     "text": [
      "\r",
      " 86%|██████████████████████████████████████████████████████████████████████▍           | 73/85 [01:11<00:11,  1.08it/s]"
     ]
    },
    {
     "name": "stderr",
     "output_type": "stream",
     "text": [
      "\r",
      " 87%|███████████████████████████████████████████████████████████████████████▍          | 74/85 [01:12<00:10,  1.09it/s]"
     ]
    },
    {
     "name": "stderr",
     "output_type": "stream",
     "text": [
      "\r",
      " 88%|████████████████████████████████████████████████████████████████████████▎         | 75/85 [01:13<00:09,  1.04it/s]"
     ]
    },
    {
     "name": "stderr",
     "output_type": "stream",
     "text": [
      "\r",
      " 89%|█████████████████████████████████████████████████████████████████████████▎        | 76/85 [01:14<00:09,  1.00s/it]"
     ]
    },
    {
     "name": "stderr",
     "output_type": "stream",
     "text": [
      "\r",
      " 91%|██████████████████████████████████████████████████████████████████████████▎       | 77/85 [01:15<00:07,  1.04it/s]"
     ]
    },
    {
     "name": "stderr",
     "output_type": "stream",
     "text": [
      "\r",
      " 92%|███████████████████████████████████████████████████████████████████████████▏      | 78/85 [01:16<00:07,  1.02s/it]"
     ]
    },
    {
     "name": "stderr",
     "output_type": "stream",
     "text": [
      "\r",
      " 93%|████████████████████████████████████████████████████████████████████████████▏     | 79/85 [01:18<00:06,  1.06s/it]"
     ]
    },
    {
     "name": "stderr",
     "output_type": "stream",
     "text": [
      "\r",
      " 94%|█████████████████████████████████████████████████████████████████████████████▏    | 80/85 [01:18<00:05,  1.00s/it]"
     ]
    },
    {
     "name": "stderr",
     "output_type": "stream",
     "text": [
      "\r",
      " 95%|██████████████████████████████████████████████████████████████████████████████▏   | 81/85 [01:20<00:04,  1.06s/it]"
     ]
    },
    {
     "name": "stderr",
     "output_type": "stream",
     "text": [
      "\r",
      " 96%|███████████████████████████████████████████████████████████████████████████████   | 82/85 [01:21<00:03,  1.05s/it]"
     ]
    },
    {
     "name": "stderr",
     "output_type": "stream",
     "text": [
      "\r",
      " 98%|████████████████████████████████████████████████████████████████████████████████  | 83/85 [01:22<00:02,  1.08s/it]"
     ]
    },
    {
     "name": "stderr",
     "output_type": "stream",
     "text": [
      "\r",
      " 99%|█████████████████████████████████████████████████████████████████████████████████ | 84/85 [01:23<00:01,  1.06s/it]"
     ]
    },
    {
     "name": "stderr",
     "output_type": "stream",
     "text": [
      "\r",
      "100%|██████████████████████████████████████████████████████████████████████████████████| 85/85 [01:24<00:00,  1.07s/it]"
     ]
    },
    {
     "name": "stderr",
     "output_type": "stream",
     "text": [
      "\r",
      "100%|██████████████████████████████████████████████████████████████████████████████████| 85/85 [01:24<00:00,  1.01it/s]"
     ]
    },
    {
     "name": "stderr",
     "output_type": "stream",
     "text": [
      "\n"
     ]
    },
    {
     "name": "stdout",
     "output_type": "stream",
     "text": [
      "Dataset de temporada atualizado com 83 jogos.\n",
      "\n",
      "----------------------------------------------------------\n",
      "\n",
      "Atenção! 2 jogos não finalizados.\n",
      "\n"
     ]
    },
    {
     "data": {
      "text/html": [
       "<div>\n",
       "<style scoped>\n",
       "    .dataframe tbody tr th:only-of-type {\n",
       "        vertical-align: middle;\n",
       "    }\n",
       "\n",
       "    .dataframe tbody tr th {\n",
       "        vertical-align: top;\n",
       "    }\n",
       "\n",
       "    .dataframe thead th {\n",
       "        text-align: right;\n",
       "    }\n",
       "</style>\n",
       "<table border=\"1\" class=\"dataframe\">\n",
       "  <thead>\n",
       "    <tr style=\"text-align: right;\">\n",
       "      <th></th>\n",
       "      <th>Date</th>\n",
       "      <th>League</th>\n",
       "      <th>Time</th>\n",
       "      <th>Home</th>\n",
       "      <th>Away</th>\n",
       "      <th>Home_Pts</th>\n",
       "      <th>Away_Pts</th>\n",
       "      <th>Status</th>\n",
       "    </tr>\n",
       "  </thead>\n",
       "  <tbody>\n",
       "    <tr>\n",
       "      <th>14</th>\n",
       "      <td>2024-06-01</td>\n",
       "      <td>Austrália Nbl1 Leste</td>\n",
       "      <td>04:30</td>\n",
       "      <td>Sydney Comets F</td>\n",
       "      <td>Hills Hornets F</td>\n",
       "      <td>NaN</td>\n",
       "      <td>NaN</td>\n",
       "      <td>Não iniciado</td>\n",
       "    </tr>\n",
       "    <tr>\n",
       "      <th>38</th>\n",
       "      <td>2024-06-01</td>\n",
       "      <td>Austrália Nbl1 Leste</td>\n",
       "      <td>06:30</td>\n",
       "      <td>Sydney Comets</td>\n",
       "      <td>Hills Hornets</td>\n",
       "      <td>NaN</td>\n",
       "      <td>NaN</td>\n",
       "      <td>Não iniciado</td>\n",
       "    </tr>\n",
       "  </tbody>\n",
       "</table>\n",
       "</div>"
      ],
      "text/plain": [
       "          Date                League   Time             Home             Away  \\\n",
       "14  2024-06-01  Austrália Nbl1 Leste  04:30  Sydney Comets F  Hills Hornets F   \n",
       "38  2024-06-01  Austrália Nbl1 Leste  06:30    Sydney Comets    Hills Hornets   \n",
       "\n",
       "    Home_Pts  Away_Pts        Status  \n",
       "14       NaN       NaN  Não iniciado  \n",
       "38       NaN       NaN  Não iniciado  "
      ]
     },
     "metadata": {},
     "output_type": "display_data"
    }
   ],
   "source": [
    "import pandas as pd; pd.set_option('display.max_columns', None)\n",
    "from datetime import date, timedelta\n",
    "from scripts.AtualizaUltimosJogos import *\n",
    "import warnings\n",
    "warnings.filterwarnings('ignore')\n",
    "\n",
    "# Pegando os jogos do dia para atualizar\n",
    "jogos_passados = pd.read_csv(f'jogos_do_dia/{dia}.csv')\n",
    "dia_jogos = jogos_passados['Date'].iloc[0]\n",
    "id_jogos = jogos_passados['Fixture ID'].unique().tolist()\n",
    "print(f'Jogos do dia {dia_jogos}\\n')\n",
    "\n",
    "# Buscando os resultados\n",
    "results = atualiza_ultimos_jogos(id_jogos = id_jogos)\n",
    "\n",
    "# Merjando os resultados no dataset de jogos do dia\n",
    "df_resultados = pd.merge(left=jogos_passados, right=results[['Fixture ID', 'Home_Pts', 'Away_Pts', 'Status']], on='Fixture ID', how='left')\n",
    "df_resultados['Status'].replace(np.nan, 'Não iniciado', inplace=True)\n",
    "\n",
    "# Organizando as colunas do df_resultados\n",
    "df_resultados = df_resultados[['Fixture ID', 'Date', 'League', 'Time', 'Home', 'Away', 'Home_Pts', 'Away_Pts', 'Odds_H',\n",
    "       'Odds_A', 'Over_Line', 'Odds_Over', 'Odds_Under', 'HA_Line',\n",
    "       'HA_Odds_H', 'HA_Odds_A', 'Status']]\n",
    "df_resultados = df_resultados.drop_duplicates(subset=['Date', 'Home', 'Away'], keep='first')\n",
    "df_resultados.sort_values('Time', inplace=True)\n",
    "df_resultados.reset_index(inplace=True, drop=True)\n",
    "# Criando df com jogos que ainda não terminaram\n",
    "df_restantes = df_resultados[(df_resultados['Status'] != 'Após Tempo Extra') & (df_resultados['Status'] != 'Encerrado') & (df_resultados['Status'] != 'Após Pênaltis')]\n",
    "df_restantes = df_restantes[['Date', 'League', 'Time', 'Home', 'Away', 'Home_Pts', 'Away_Pts', 'Status']]\n",
    "\n",
    "# Limpando o df_resultados\n",
    "df_resultados = df_resultados[(df_resultados['Status'] == 'Após Tempo Extra') | (df_resultados['Status'] == 'Encerrado') | (df_resultados['Status'] == 'Após Pênaltis')]\n",
    "df_resultados = df_resultados[['Date', 'League', 'Time', 'Home', 'Away', 'Home_Pts', 'Away_Pts', 'Odds_H',\n",
    "       'Odds_A', 'Over_Line', 'Odds_Over', 'Odds_Under', 'HA_Line',\n",
    "       'HA_Odds_H', 'HA_Odds_A']]\n",
    "\n",
    "# Exclui os registros que já existem no dataset da temporada\n",
    "temporada = pd.read_csv('data/Entire_Season.csv')\n",
    "n_antes = len(temporada)\n",
    "temporada = pd.concat([temporada, df_resultados], ignore_index=True)\n",
    "temporada = temporada.drop_duplicates(subset=['Date', 'Home', 'Away'], keep='first')\n",
    "temporada.reset_index(drop=True, inplace=True)\n",
    "temporada.to_csv('data/Entire_Season.csv', index=False)\n",
    "\n",
    "print(f'Dataset de temporada atualizado com {len(temporada) - n_antes} jogos.\\n')\n",
    "print('----------------------------------------------------------\\n')\n",
    "print(f'Atenção! {len(df_restantes)} jogos não finalizados.\\n')\n",
    "display(df_restantes)"
   ]
  }
 ],
 "metadata": {
  "kernelspec": {
   "display_name": "modelos_futebol",
   "language": "python",
   "name": "python3"
  },
  "language_info": {
   "codemirror_mode": {
    "name": "ipython",
    "version": 3
   },
   "file_extension": ".py",
   "mimetype": "text/x-python",
   "name": "python",
   "nbconvert_exporter": "python",
   "pygments_lexer": "ipython3",
   "version": "3.10.7"
  },
  "papermill": {
   "default_parameters": {},
   "duration": 103.04263,
   "end_time": "2024-06-02T13:01:48.519498",
   "environment_variables": {},
   "exception": null,
   "input_path": "atualiza_ultimos_jogos.ipynb",
   "output_path": "atualiza_ultimos_jogos.ipynb",
   "parameters": {
    "dia": "2024-06-01"
   },
   "start_time": "2024-06-02T13:00:05.476868",
   "version": "2.5.0"
  }
 },
 "nbformat": 4,
 "nbformat_minor": 5
}