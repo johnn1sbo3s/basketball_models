{
 "cells": [
  {
   "cell_type": "code",
   "execution_count": 1,
   "id": "a3549a05",
   "metadata": {
    "execution": {
     "iopub.execute_input": "2024-10-11T11:20:06.618456Z",
     "iopub.status.busy": "2024-10-11T11:20:06.618456Z",
     "iopub.status.idle": "2024-10-11T11:20:06.691519Z",
     "shell.execute_reply": "2024-10-11T11:20:06.691519Z"
    },
    "papermill": {
     "duration": 0.080954,
     "end_time": "2024-10-11T11:20:06.694521",
     "exception": false,
     "start_time": "2024-10-11T11:20:06.613567",
     "status": "completed"
    },
    "tags": [
     "parameters"
    ]
   },
   "outputs": [],
   "source": [
    "dia = ''"
   ]
  },
  {
   "cell_type": "code",
   "execution_count": 2,
   "id": "509815c9",
   "metadata": {
    "execution": {
     "iopub.execute_input": "2024-10-11T11:20:06.698520Z",
     "iopub.status.busy": "2024-10-11T11:20:06.697522Z",
     "iopub.status.idle": "2024-10-11T11:20:06.707524Z",
     "shell.execute_reply": "2024-10-11T11:20:06.707524Z"
    },
    "papermill": {
     "duration": 0.013998,
     "end_time": "2024-10-11T11:20:06.709521",
     "exception": false,
     "start_time": "2024-10-11T11:20:06.695523",
     "status": "completed"
    },
    "tags": [
     "injected-parameters"
    ]
   },
   "outputs": [],
   "source": [
    "# Parameters\n",
    "dia = \"2024-10-10\"\n"
   ]
  },
  {
   "cell_type": "code",
   "execution_count": 3,
   "id": "584bf48d",
   "metadata": {
    "execution": {
     "iopub.execute_input": "2024-10-11T11:20:06.712520Z",
     "iopub.status.busy": "2024-10-11T11:20:06.712520Z",
     "iopub.status.idle": "2024-10-11T11:21:10.267513Z",
     "shell.execute_reply": "2024-10-11T11:21:10.267513Z"
    },
    "papermill": {
     "duration": 63.558995,
     "end_time": "2024-10-11T11:21:10.269515",
     "exception": false,
     "start_time": "2024-10-11T11:20:06.710520",
     "status": "completed"
    },
    "tags": []
   },
   "outputs": [
    {
     "name": "stdout",
     "output_type": "stream",
     "text": [
      "Jogos do dia 2024-10-10\n",
      "\n"
     ]
    },
    {
     "name": "stderr",
     "output_type": "stream",
     "text": [
      "\r",
      "  0%|                                                                             | 0/50 [00:00<?, ?it/s]"
     ]
    },
    {
     "name": "stderr",
     "output_type": "stream",
     "text": [
      "\r",
      "  2%|█▍                                                                   | 1/50 [00:00<00:44,  1.11it/s]"
     ]
    },
    {
     "name": "stderr",
     "output_type": "stream",
     "text": [
      "\r",
      "  4%|██▊                                                                  | 2/50 [00:01<00:48,  1.00s/it]"
     ]
    },
    {
     "name": "stderr",
     "output_type": "stream",
     "text": [
      "\r",
      "  6%|████▏                                                                | 3/50 [00:03<00:49,  1.06s/it]"
     ]
    },
    {
     "name": "stderr",
     "output_type": "stream",
     "text": [
      "\r",
      "  8%|█████▌                                                               | 4/50 [00:03<00:40,  1.12it/s]"
     ]
    },
    {
     "name": "stderr",
     "output_type": "stream",
     "text": [
      "\r",
      " 10%|██████▉                                                              | 5/50 [00:04<00:43,  1.03it/s]"
     ]
    },
    {
     "name": "stderr",
     "output_type": "stream",
     "text": [
      "\r",
      " 12%|████████▎                                                            | 6/50 [00:05<00:44,  1.01s/it]"
     ]
    },
    {
     "name": "stderr",
     "output_type": "stream",
     "text": [
      "\r",
      " 14%|█████████▋                                                           | 7/50 [00:07<00:45,  1.05s/it]"
     ]
    },
    {
     "name": "stderr",
     "output_type": "stream",
     "text": [
      "\r",
      " 16%|███████████                                                          | 8/50 [00:07<00:41,  1.01it/s]"
     ]
    },
    {
     "name": "stderr",
     "output_type": "stream",
     "text": [
      "\r",
      " 18%|████████████▍                                                        | 9/50 [00:08<00:40,  1.00it/s]"
     ]
    },
    {
     "name": "stderr",
     "output_type": "stream",
     "text": [
      "\r",
      " 20%|█████████████▌                                                      | 10/50 [00:09<00:40,  1.01s/it]"
     ]
    },
    {
     "name": "stderr",
     "output_type": "stream",
     "text": [
      "\r",
      " 22%|██████████████▉                                                     | 11/50 [00:10<00:37,  1.05it/s]"
     ]
    },
    {
     "name": "stderr",
     "output_type": "stream",
     "text": [
      "\r",
      " 24%|████████████████▎                                                   | 12/50 [00:11<00:37,  1.02it/s]"
     ]
    },
    {
     "name": "stderr",
     "output_type": "stream",
     "text": [
      "\r",
      " 26%|█████████████████▋                                                  | 13/50 [00:12<00:36,  1.01it/s]"
     ]
    },
    {
     "name": "stderr",
     "output_type": "stream",
     "text": [
      "\r",
      " 28%|███████████████████                                                 | 14/50 [00:13<00:36,  1.00s/it]"
     ]
    },
    {
     "name": "stderr",
     "output_type": "stream",
     "text": [
      "\r",
      " 30%|████████████████████▍                                               | 15/50 [00:14<00:34,  1.00it/s]"
     ]
    },
    {
     "name": "stderr",
     "output_type": "stream",
     "text": [
      "\r",
      " 32%|█████████████████████▊                                              | 16/50 [00:16<00:36,  1.06s/it]"
     ]
    },
    {
     "name": "stderr",
     "output_type": "stream",
     "text": [
      "\r",
      " 34%|███████████████████████                                             | 17/50 [00:16<00:32,  1.01it/s]"
     ]
    },
    {
     "name": "stderr",
     "output_type": "stream",
     "text": [
      "\r",
      " 36%|████████████████████████▍                                           | 18/50 [00:17<00:32,  1.02s/it]"
     ]
    },
    {
     "name": "stderr",
     "output_type": "stream",
     "text": [
      "\r",
      " 38%|█████████████████████████▊                                          | 19/50 [00:19<00:31,  1.02s/it]"
     ]
    },
    {
     "name": "stderr",
     "output_type": "stream",
     "text": [
      "\r",
      " 40%|███████████████████████████▏                                        | 20/50 [00:20<00:31,  1.03s/it]"
     ]
    },
    {
     "name": "stderr",
     "output_type": "stream",
     "text": [
      "\r",
      " 42%|████████████████████████████▌                                       | 21/50 [00:20<00:28,  1.03it/s]"
     ]
    },
    {
     "name": "stderr",
     "output_type": "stream",
     "text": [
      "\r",
      " 44%|█████████████████████████████▉                                      | 22/50 [00:21<00:26,  1.06it/s]"
     ]
    },
    {
     "name": "stderr",
     "output_type": "stream",
     "text": [
      "\r",
      " 46%|███████████████████████████████▎                                    | 23/50 [00:22<00:26,  1.03it/s]"
     ]
    },
    {
     "name": "stderr",
     "output_type": "stream",
     "text": [
      "\r",
      " 48%|████████████████████████████████▋                                   | 24/50 [00:23<00:25,  1.02it/s]"
     ]
    },
    {
     "name": "stderr",
     "output_type": "stream",
     "text": [
      "\r",
      " 50%|██████████████████████████████████                                  | 25/50 [00:24<00:24,  1.00it/s]"
     ]
    },
    {
     "name": "stderr",
     "output_type": "stream",
     "text": [
      "\r",
      " 52%|███████████████████████████████████▎                                | 26/50 [00:25<00:24,  1.01s/it]"
     ]
    },
    {
     "name": "stderr",
     "output_type": "stream",
     "text": [
      "\r",
      " 54%|████████████████████████████████████▋                               | 27/50 [00:26<00:21,  1.06it/s]"
     ]
    },
    {
     "name": "stderr",
     "output_type": "stream",
     "text": [
      "\r",
      " 56%|██████████████████████████████████████                              | 28/50 [00:27<00:21,  1.02it/s]"
     ]
    },
    {
     "name": "stderr",
     "output_type": "stream",
     "text": [
      "\r",
      " 58%|███████████████████████████████████████▍                            | 29/50 [00:29<00:22,  1.07s/it]"
     ]
    },
    {
     "name": "stderr",
     "output_type": "stream",
     "text": [
      "\r",
      " 60%|████████████████████████████████████████▊                           | 30/50 [00:29<00:19,  1.00it/s]"
     ]
    },
    {
     "name": "stderr",
     "output_type": "stream",
     "text": [
      "\r",
      " 62%|██████████████████████████████████████████▏                         | 31/50 [00:30<00:19,  1.01s/it]"
     ]
    },
    {
     "name": "stderr",
     "output_type": "stream",
     "text": [
      "\r",
      " 64%|███████████████████████████████████████████▌                        | 32/50 [00:32<00:18,  1.05s/it]"
     ]
    },
    {
     "name": "stderr",
     "output_type": "stream",
     "text": [
      "\r",
      " 66%|████████████████████████████████████████████▉                       | 33/50 [00:33<00:18,  1.09s/it]"
     ]
    },
    {
     "name": "stderr",
     "output_type": "stream",
     "text": [
      "\r",
      " 68%|██████████████████████████████████████████████▏                     | 34/50 [00:34<00:16,  1.01s/it]"
     ]
    },
    {
     "name": "stderr",
     "output_type": "stream",
     "text": [
      "\r",
      " 70%|███████████████████████████████████████████████▌                    | 35/50 [00:35<00:15,  1.03s/it]"
     ]
    },
    {
     "name": "stderr",
     "output_type": "stream",
     "text": [
      "\r",
      " 72%|████████████████████████████████████████████████▉                   | 36/50 [00:36<00:14,  1.02s/it]"
     ]
    },
    {
     "name": "stderr",
     "output_type": "stream",
     "text": [
      "\r",
      " 74%|██████████████████████████████████████████████████▎                 | 37/50 [00:36<00:12,  1.03it/s]"
     ]
    },
    {
     "name": "stderr",
     "output_type": "stream",
     "text": [
      "\r",
      " 76%|███████████████████████████████████████████████████▋                | 38/50 [00:38<00:11,  1.01it/s]"
     ]
    },
    {
     "name": "stderr",
     "output_type": "stream",
     "text": [
      "\r",
      " 78%|█████████████████████████████████████████████████████               | 39/50 [00:39<00:11,  1.05s/it]"
     ]
    },
    {
     "name": "stderr",
     "output_type": "stream",
     "text": [
      "\r",
      " 80%|██████████████████████████████████████████████████████▍             | 40/50 [00:40<00:10,  1.00s/it]"
     ]
    },
    {
     "name": "stderr",
     "output_type": "stream",
     "text": [
      "\r",
      " 82%|███████████████████████████████████████████████████████▊            | 41/50 [00:41<00:09,  1.03s/it]"
     ]
    },
    {
     "name": "stderr",
     "output_type": "stream",
     "text": [
      "\r",
      " 84%|█████████████████████████████████████████████████████████           | 42/50 [00:42<00:08,  1.09s/it]"
     ]
    },
    {
     "name": "stderr",
     "output_type": "stream",
     "text": [
      "\r",
      " 86%|██████████████████████████████████████████████████████████▍         | 43/50 [00:43<00:07,  1.11s/it]"
     ]
    },
    {
     "name": "stderr",
     "output_type": "stream",
     "text": [
      "\r",
      " 88%|███████████████████████████████████████████████████████████▊        | 44/50 [00:44<00:06,  1.03s/it]"
     ]
    },
    {
     "name": "stderr",
     "output_type": "stream",
     "text": [
      "\r",
      " 90%|█████████████████████████████████████████████████████████████▏      | 45/50 [00:45<00:05,  1.03s/it]"
     ]
    },
    {
     "name": "stderr",
     "output_type": "stream",
     "text": [
      "\r",
      " 92%|██████████████████████████████████████████████████████████████▌     | 46/50 [00:46<00:04,  1.02s/it]"
     ]
    },
    {
     "name": "stderr",
     "output_type": "stream",
     "text": [
      "\r",
      " 94%|███████████████████████████████████████████████████████████████▉    | 47/50 [00:46<00:02,  1.17it/s]"
     ]
    },
    {
     "name": "stderr",
     "output_type": "stream",
     "text": [
      "\r",
      " 96%|█████████████████████████████████████████████████████████████████▎  | 48/50 [00:47<00:01,  1.19it/s]"
     ]
    },
    {
     "name": "stderr",
     "output_type": "stream",
     "text": [
      "\r",
      " 98%|██████████████████████████████████████████████████████████████████▋ | 49/50 [00:48<00:00,  1.13it/s]"
     ]
    },
    {
     "name": "stderr",
     "output_type": "stream",
     "text": [
      "\r",
      "100%|████████████████████████████████████████████████████████████████████| 50/50 [00:49<00:00,  1.09it/s]"
     ]
    },
    {
     "name": "stderr",
     "output_type": "stream",
     "text": [
      "\r",
      "100%|████████████████████████████████████████████████████████████████████| 50/50 [00:49<00:00,  1.01it/s]"
     ]
    },
    {
     "name": "stderr",
     "output_type": "stream",
     "text": [
      "\n"
     ]
    },
    {
     "name": "stdout",
     "output_type": "stream",
     "text": [
      "Dataset de temporada atualizado com 50 jogos.\n",
      "\n",
      "----------------------------------------------------------\n",
      "\n",
      "Atenção! 0 jogos não finalizados.\n",
      "\n"
     ]
    },
    {
     "data": {
      "text/html": [
       "<div>\n",
       "<style scoped>\n",
       "    .dataframe tbody tr th:only-of-type {\n",
       "        vertical-align: middle;\n",
       "    }\n",
       "\n",
       "    .dataframe tbody tr th {\n",
       "        vertical-align: top;\n",
       "    }\n",
       "\n",
       "    .dataframe thead th {\n",
       "        text-align: right;\n",
       "    }\n",
       "</style>\n",
       "<table border=\"1\" class=\"dataframe\">\n",
       "  <thead>\n",
       "    <tr style=\"text-align: right;\">\n",
       "      <th></th>\n",
       "      <th>Date</th>\n",
       "      <th>League</th>\n",
       "      <th>Time</th>\n",
       "      <th>Home</th>\n",
       "      <th>Away</th>\n",
       "      <th>Home_Pts</th>\n",
       "      <th>Away_Pts</th>\n",
       "      <th>Status</th>\n",
       "    </tr>\n",
       "  </thead>\n",
       "  <tbody>\n",
       "  </tbody>\n",
       "</table>\n",
       "</div>"
      ],
      "text/plain": [
       "Empty DataFrame\n",
       "Columns: [Date, League, Time, Home, Away, Home_Pts, Away_Pts, Status]\n",
       "Index: []"
      ]
     },
     "metadata": {},
     "output_type": "display_data"
    }
   ],
   "source": [
    "import pandas as pd; pd.set_option('display.max_columns', None)\n",
    "from datetime import date, timedelta\n",
    "from scripts.AtualizaUltimosJogos import *\n",
    "import warnings\n",
    "warnings.filterwarnings('ignore')\n",
    "\n",
    "# Pegando os jogos do dia para atualizar\n",
    "jogos_passados = pd.read_csv(f'jogos_do_dia/{dia}.csv')\n",
    "dia_jogos = jogos_passados['Date'].iloc[0]\n",
    "id_jogos = jogos_passados['Fixture ID'].unique().tolist()\n",
    "print(f'Jogos do dia {dia_jogos}\\n')\n",
    "\n",
    "# Buscando os resultados\n",
    "results = atualiza_ultimos_jogos(id_jogos = id_jogos)\n",
    "\n",
    "# Merjando os resultados no dataset de jogos do dia\n",
    "df_resultados = pd.merge(left=jogos_passados, right=results[['Fixture ID', 'Home_Pts', 'Away_Pts', 'Status']], on='Fixture ID', how='left')\n",
    "df_resultados['Status'].replace(np.nan, 'Não iniciado', inplace=True)\n",
    "\n",
    "# Organizando as colunas do df_resultados\n",
    "df_resultados = df_resultados[['Fixture ID', 'Date', 'League', 'Time', 'Home', 'Away', 'Home_Pts', 'Away_Pts', 'Odds_H',\n",
    "       'Odds_A', 'Over_Line', 'Odds_Over', 'Odds_Under', 'HA_Line',\n",
    "       'HA_Odds_H', 'HA_Odds_A', 'Status']]\n",
    "df_resultados = df_resultados.drop_duplicates(subset=['Date', 'Home', 'Away'], keep='first')\n",
    "df_resultados.sort_values('Time', inplace=True)\n",
    "df_resultados.reset_index(inplace=True, drop=True)\n",
    "# Criando df com jogos que ainda não terminaram\n",
    "df_restantes = df_resultados[(df_resultados['Status'] != 'Após Tempo Extra') & (df_resultados['Status'] != 'Encerrado') & (df_resultados['Status'] != 'Após Pênaltis')]\n",
    "df_restantes = df_restantes[['Date', 'League', 'Time', 'Home', 'Away', 'Home_Pts', 'Away_Pts', 'Status']]\n",
    "\n",
    "# Limpando o df_resultados\n",
    "df_resultados = df_resultados[(df_resultados['Status'] == 'Após Tempo Extra') | (df_resultados['Status'] == 'Encerrado') | (df_resultados['Status'] == 'Após Pênaltis')]\n",
    "df_resultados = df_resultados[['Date', 'League', 'Time', 'Home', 'Away', 'Home_Pts', 'Away_Pts', 'Odds_H',\n",
    "       'Odds_A', 'Over_Line', 'Odds_Over', 'Odds_Under', 'HA_Line',\n",
    "       'HA_Odds_H', 'HA_Odds_A']]\n",
    "\n",
    "# Exclui os registros que já existem no dataset da temporada\n",
    "temporada = pd.read_csv('data/Entire_Season.csv')\n",
    "n_antes = len(temporada)\n",
    "temporada = pd.concat([temporada, df_resultados], ignore_index=True)\n",
    "temporada = temporada.drop_duplicates(subset=['Date', 'Home', 'Away'], keep='first')\n",
    "temporada.reset_index(drop=True, inplace=True)\n",
    "temporada.to_csv('data/Entire_Season.csv', index=False)\n",
    "\n",
    "print(f'Dataset de temporada atualizado com {len(temporada) - n_antes} jogos.\\n')\n",
    "print('----------------------------------------------------------\\n')\n",
    "print(f'Atenção! {len(df_restantes)} jogos não finalizados.\\n')\n",
    "display(df_restantes)"
   ]
  }
 ],
 "metadata": {
  "kernelspec": {
   "display_name": "modelos_futebol",
   "language": "python",
   "name": "python3"
  },
  "language_info": {
   "codemirror_mode": {
    "name": "ipython",
    "version": 3
   },
   "file_extension": ".py",
   "mimetype": "text/x-python",
   "name": "python",
   "nbconvert_exporter": "python",
   "pygments_lexer": "ipython3",
   "version": "3.10.7"
  },
  "papermill": {
   "default_parameters": {},
   "duration": 65.661577,
   "end_time": "2024-10-11T11:21:10.520436",
   "environment_variables": {},
   "exception": null,
   "input_path": "atualiza_ultimos_jogos.ipynb",
   "output_path": "atualiza_ultimos_jogos.ipynb",
   "parameters": {
    "dia": "2024-10-10"
   },
   "start_time": "2024-10-11T11:20:04.858859",
   "version": "2.5.0"
  }
 },
 "nbformat": 4,
 "nbformat_minor": 5
}