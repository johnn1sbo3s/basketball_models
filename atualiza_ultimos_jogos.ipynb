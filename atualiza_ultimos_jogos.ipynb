{
 "cells": [
  {
   "cell_type": "code",
   "execution_count": 1,
   "id": "a3549a05",
   "metadata": {
    "execution": {
     "iopub.execute_input": "2025-05-09T11:20:07.474610Z",
     "iopub.status.busy": "2025-05-09T11:20:07.473505Z",
     "iopub.status.idle": "2025-05-09T11:20:07.486119Z",
     "shell.execute_reply": "2025-05-09T11:20:07.486119Z"
    },
    "papermill": {
     "duration": 0.017612,
     "end_time": "2025-05-09T11:20:07.488120",
     "exception": false,
     "start_time": "2025-05-09T11:20:07.470508",
     "status": "completed"
    },
    "tags": [
     "parameters"
    ]
   },
   "outputs": [],
   "source": [
    "dia = ''"
   ]
  },
  {
   "cell_type": "code",
   "execution_count": 2,
   "id": "f156e14f",
   "metadata": {
    "execution": {
     "iopub.execute_input": "2025-05-09T11:20:07.491122Z",
     "iopub.status.busy": "2025-05-09T11:20:07.491122Z",
     "iopub.status.idle": "2025-05-09T11:20:07.501634Z",
     "shell.execute_reply": "2025-05-09T11:20:07.501634Z"
    },
    "papermill": {
     "duration": 0.014518,
     "end_time": "2025-05-09T11:20:07.503638",
     "exception": false,
     "start_time": "2025-05-09T11:20:07.489120",
     "status": "completed"
    },
    "tags": [
     "injected-parameters"
    ]
   },
   "outputs": [],
   "source": [
    "# Parameters\n",
    "dia = \"2025-05-08\"\n"
   ]
  },
  {
   "cell_type": "code",
   "execution_count": 3,
   "id": "584bf48d",
   "metadata": {
    "execution": {
     "iopub.execute_input": "2025-05-09T11:20:07.507150Z",
     "iopub.status.busy": "2025-05-09T11:20:07.507150Z",
     "iopub.status.idle": "2025-05-09T11:20:08.501313Z",
     "shell.execute_reply": "2025-05-09T11:20:08.501313Z"
    },
    "papermill": {
     "duration": 0.99816,
     "end_time": "2025-05-09T11:20:08.503313",
     "exception": false,
     "start_time": "2025-05-09T11:20:07.505153",
     "status": "completed"
    },
    "tags": []
   },
   "outputs": [
    {
     "name": "stdout",
     "output_type": "stream",
     "text": [
      "Nenhum jogo para atualizar\n"
     ]
    }
   ],
   "source": [
    "import pandas as pd; pd.set_option('display.max_columns', None)\n",
    "from datetime import date, timedelta\n",
    "from scripts.AtualizaUltimosJogos import *\n",
    "import warnings\n",
    "warnings.filterwarnings('ignore')\n",
    "\n",
    "# Pegando os jogos do dia para atualizar\n",
    "try:\n",
    "       jogos_passados = pd.read_csv(f'jogos_do_dia/{dia}.csv')\n",
    "       if jogos_passados.empty:\n",
    "              print('Nenhum jogo para atualizar')\n",
    "              pass\n",
    "       dia_jogos = jogos_passados['Date'].iloc[0]\n",
    "       id_jogos = jogos_passados['Fixture ID'].unique().tolist()\n",
    "       print(f'Jogos do dia {dia_jogos}\\n')\n",
    "except:\n",
    "       jogos_passados = pd.DataFrame()\n",
    "       print('Nenhum jogo para atualizar')\n",
    "\n",
    "if not jogos_passados.empty:\n",
    "       # Buscando os resultados\n",
    "       results = atualiza_ultimos_jogos(id_jogos = id_jogos)\n",
    "\n",
    "       # Merjando os resultados no dataset de jogos do dia\n",
    "       df_resultados = pd.merge(left=jogos_passados, right=results[['Fixture ID', 'Home_Pts', 'Away_Pts', 'Status']], on='Fixture ID', how='left')\n",
    "       df_resultados['Status'].replace(np.nan, 'Não iniciado', inplace=True)\n",
    "\n",
    "       # Organizando as colunas do df_resultados\n",
    "       df_resultados = df_resultados[['Fixture ID', 'Date', 'League', 'Time', 'Home', 'Away', 'Home_Pts', 'Away_Pts', 'Odds_H',\n",
    "              'Odds_A', 'Over_Line', 'Odds_Over', 'Odds_Under', 'HA_Line',\n",
    "              'HA_Odds_H', 'HA_Odds_A', 'Status']]\n",
    "       df_resultados = df_resultados.drop_duplicates(subset=['Date', 'Home', 'Away'], keep='first')\n",
    "       df_resultados.sort_values('Time', inplace=True)\n",
    "       df_resultados.reset_index(inplace=True, drop=True)\n",
    "       # Criando df com jogos que ainda não terminaram\n",
    "       df_restantes = df_resultados[(df_resultados['Status'] != 'Após Tempo Extra') & (df_resultados['Status'] != 'Encerrado') & (df_resultados['Status'] != 'Após Pênaltis')]\n",
    "       df_restantes = df_restantes[['Date', 'League', 'Time', 'Home', 'Away', 'Home_Pts', 'Away_Pts', 'Status']]\n",
    "\n",
    "       # Limpando o df_resultados\n",
    "       df_resultados = df_resultados[(df_resultados['Status'] == 'Após Tempo Extra') | (df_resultados['Status'] == 'Encerrado') | (df_resultados['Status'] == 'Após Pênaltis')]\n",
    "       df_resultados = df_resultados[['Date', 'League', 'Time', 'Home', 'Away', 'Home_Pts', 'Away_Pts', 'Odds_H',\n",
    "              'Odds_A', 'Over_Line', 'Odds_Over', 'Odds_Under', 'HA_Line',\n",
    "              'HA_Odds_H', 'HA_Odds_A']]\n",
    "\n",
    "       # Exclui os registros que já existem no dataset da temporada\n",
    "       temporada = pd.read_csv('data/Entire_Season.csv')\n",
    "       n_antes = len(temporada)\n",
    "       temporada = pd.concat([temporada, df_resultados], ignore_index=True)\n",
    "       temporada = temporada.drop_duplicates(subset=['Date', 'Home', 'Away'], keep='first')\n",
    "       temporada.reset_index(drop=True, inplace=True)\n",
    "       temporada.to_csv('data/Entire_Season.csv', index=False)\n",
    "\n",
    "       print(f'Dataset de temporada atualizado com {len(temporada) - n_antes} jogos.\\n')\n",
    "       print('----------------------------------------------------------\\n')\n",
    "       print(f'Atenção! {len(df_restantes)} jogos não finalizados.\\n')\n",
    "       display(df_restantes)"
   ]
  }
 ],
 "metadata": {
  "kernelspec": {
   "display_name": "Python 3",
   "language": "python",
   "name": "python3"
  },
  "language_info": {
   "codemirror_mode": {
    "name": "ipython",
    "version": 3
   },
   "file_extension": ".py",
   "mimetype": "text/x-python",
   "name": "python",
   "nbconvert_exporter": "python",
   "pygments_lexer": "ipython3",
   "version": "3.10.7"
  },
  "papermill": {
   "default_parameters": {},
   "duration": 3.27604,
   "end_time": "2025-05-09T11:20:08.738473",
   "environment_variables": {},
   "exception": null,
   "input_path": "atualiza_ultimos_jogos.ipynb",
   "output_path": "atualiza_ultimos_jogos.ipynb",
   "parameters": {
    "dia": "2025-05-08"
   },
   "start_time": "2025-05-09T11:20:05.462433",
   "version": "2.5.0"
  }
 },
 "nbformat": 4,
 "nbformat_minor": 5
}