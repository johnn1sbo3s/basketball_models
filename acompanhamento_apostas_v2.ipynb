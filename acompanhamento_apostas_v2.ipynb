{
 "cells": [
  {
   "cell_type": "code",
   "execution_count": 1,
   "metadata": {},
   "outputs": [],
   "source": [
    "import pandas as pd; pd.set_option('display.max_columns', None)\n",
    "import glob\n",
    "\n",
    "temp = pd.read_csv('data/Entire_Season.csv')"
   ]
  },
  {
   "cell_type": "code",
   "execution_count": 2,
   "metadata": {},
   "outputs": [],
   "source": [
    "data = '2023-11-19'"
   ]
  },
  {
   "cell_type": "code",
   "execution_count": 3,
   "metadata": {},
   "outputs": [],
   "source": [
    "def verify_over(caminho):\n",
    "    df = pd.read_csv(caminho)\n",
    "    \n",
    "    resultados = pd.merge(df, temp[['Date', 'Home', 'Away', 'Home_Pts', 'Away_Pts']], on=['Date', 'Home', 'Away'], how='left')\n",
    "\n",
    "    resultados.loc[((resultados['Home_Pts'] + resultados['Away_Pts']) > resultados['Over_Line']), 'R'] = 'green'\n",
    "    resultados.loc[(resultados['R'] != 'green'), 'R'] = 'red'\n",
    "\n",
    "    resultados = resultados[['Home', 'Away', 'Home_Pts', 'Away_Pts', 'Over_Line', 'Date', 'Odds_Over', 'R']]\n",
    "\n",
    "    return resultados\n",
    "\n",
    "\n",
    "def verify_back_home(caminho):\n",
    "    df = pd.read_csv(caminho)\n",
    "    \n",
    "    resultados = pd.merge(df, temp[['Date', 'Home', 'Away', 'Home_Pts', 'Away_Pts']], on=['Date', 'Home', 'Away'], how='left')\n",
    "\n",
    "    resultados.loc[(resultados['Home_Pts'] > resultados['Away_Pts']), 'R'] = 'green'\n",
    "    resultados.loc[(resultados['R'] != 'green'), 'R'] = 'red'\n",
    "\n",
    "    resultados = resultados[['Home', 'Away', 'Home_Pts', 'Away_Pts', 'Date', 'Odds_H', 'R']]\n",
    "\n",
    "    return resultados\n",
    "\n",
    "\n",
    "def verify_positive_handicap(caminho):\n",
    "    df = pd.read_csv(caminho)\n",
    "\n",
    "    resultados = pd.merge(df, temp[['Date', 'Home', 'Away', 'Home_Pts', 'Away_Pts']], on=['Date', 'Home', 'Away'], how='left')\n",
    "    \n",
    "    resultados.loc[(resultados['HA_Line']) > 0, 'Zebra'] = 'Casa'\n",
    "    resultados.loc[(resultados['HA_Line']) < 0, 'Zebra'] = 'Fora'\n",
    "\n",
    "    # Odds\n",
    "    resultados.loc[(resultados['Zebra']) == 'Casa', 'Odds'] = resultados['HA_Odds_H']\n",
    "    resultados.loc[(resultados['Zebra']) == 'Fora', 'Odds'] = resultados['HA_Odds_A']\n",
    "    \n",
    "\n",
    "    resultados.loc[((resultados['Zebra'] == 'Casa') & ((resultados['Home_Pts'] + resultados['HA_Line']) < resultados['Away_Pts'])), 'R'] = 'red'\n",
    "    resultados.loc[(resultados['R'] != 'red'), 'R'] = 'green'\n",
    "    resultados.loc[((resultados['Zebra'] == 'Fora') & ((resultados['Home_Pts'] + resultados['HA_Line']) > resultados['Away_Pts'])), 'R'] = 'red'\n",
    "\n",
    "    resultados = resultados[['Home', 'Away', 'Home_Pts', 'Away_Pts', 'HA_Line', 'Date', 'Odds', 'R']]\n",
    "\n",
    "\n",
    "def verify_negative_handicap(caminho):\n",
    "    df = pd.read_csv(caminho)\n",
    "\n",
    "    resultados = pd.merge(df, temp[['Date', 'Home', 'Away', 'Home_Pts', 'Away_Pts']], on=['Date', 'Home', 'Away'], how='left')\n",
    "    \n",
    "    resultados.loc[(resultados['HA_Line']) > 0, 'Zebra'] = 'Casa'\n",
    "    resultados.loc[(resultados['HA_Line']) < 0, 'Zebra'] = 'Fora'\n",
    "\n",
    "    # Odds\n",
    "    resultados.loc[(resultados['Zebra']) == 'Casa', 'Odds'] = resultados['HA_Odds_A']\n",
    "    resultados.loc[(resultados['Zebra']) == 'Fora', 'Odds'] = resultados['HA_Odds_H']\n",
    "    \n",
    "\n",
    "    resultados.loc[((resultados['Zebra'] == 'Casa') & ((resultados['Home_Pts'] + resultados['HA_Line']) < resultados['Away_Pts'])), 'R'] = 'green'\n",
    "    resultados.loc[(resultados['R'] != 'green'), 'R'] = 'red'\n",
    "    resultados.loc[((resultados['Zebra'] == 'Fora') & ((resultados['Home_Pts'] + resultados['HA_Line']) > resultados['Away_Pts'])), 'R'] = 'green'\n",
    "\n",
    "    resultados = resultados[['Home', 'Away', 'Home_Pts', 'Away_Pts', 'HA_Odds_H', 'HA_Odds_A', 'HA_Line', 'Date', 'Odds', 'R']]\n",
    "\n",
    "    return resultados"
   ]
  },
  {
   "cell_type": "code",
   "execution_count": 4,
   "metadata": {},
   "outputs": [
    {
     "name": "stdout",
     "output_type": "stream",
     "text": [
      "1 métodos com apostas para a data informada.\n",
      "\n"
     ]
    }
   ],
   "source": [
    "caminhos = glob.glob(f'apostas_do_dia/{data}/*.csv')\n",
    "print(f'{len(caminhos)} métodos com apostas para a data informada.\\n')\n",
    "\n",
    "for caminho in caminhos:\n",
    "    file_name = caminho.split('\\\\')[1]\n",
    "    file_name = file_name.split('.')[0]\n",
    "\n",
    "    if 'over' in caminho:\n",
    "        df = verify_over(caminho)\n",
    "        df.to_excel(f'conferencia/{file_name}.xlsx', index=False)\n",
    "    elif 'back_home' in caminho:\n",
    "        df = verify_back_home(caminho)\n",
    "        df.to_excel(f'conferencia/{file_name}.xlsx', index=False)\n",
    "    elif 'handicap_positivo' in caminho:\n",
    "        df = verify_positive_handicap(caminho)\n",
    "        df.to_excel(f'conferencia/{file_name}.xlsx', index=False)\n",
    "    elif 'handicap_negativo' in caminho:\n",
    "        df = verify_negative_handicap(caminho)\n",
    "        df.to_excel(f'conferencia/{file_name}.xlsx', index=False)\n",
    "    else:\n",
    "        print(f'Nenhum método encontrado no caminho {caminho}\\n')"
   ]
  }
 ],
 "metadata": {
  "kernelspec": {
   "display_name": "Python 3",
   "language": "python",
   "name": "python3"
  },
  "language_info": {
   "codemirror_mode": {
    "name": "ipython",
    "version": 3
   },
   "file_extension": ".py",
   "mimetype": "text/x-python",
   "name": "python",
   "nbconvert_exporter": "python",
   "pygments_lexer": "ipython3",
   "version": "3.10.7"
  },
  "orig_nbformat": 4
 },
 "nbformat": 4,
 "nbformat_minor": 2
}
