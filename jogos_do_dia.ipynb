{
 "cells": [
  {
   "cell_type": "code",
   "execution_count": 1,
   "id": "c097e27a",
   "metadata": {
    "execution": {
     "iopub.execute_input": "2024-02-20T23:15:03.960632Z",
     "iopub.status.busy": "2024-02-20T23:15:03.960632Z",
     "iopub.status.idle": "2024-02-20T23:15:03.974023Z",
     "shell.execute_reply": "2024-02-20T23:15:03.974023Z"
    },
    "papermill": {
     "duration": 0.018029,
     "end_time": "2024-02-20T23:15:03.976169",
     "exception": false,
     "start_time": "2024-02-20T23:15:03.958140",
     "status": "completed"
    },
    "tags": [
     "parameters"
    ]
   },
   "outputs": [],
   "source": [
    "dia = \"\""
   ]
  },
  {
   "cell_type": "code",
   "execution_count": 2,
   "id": "cb021b09",
   "metadata": {
    "execution": {
     "iopub.execute_input": "2024-02-20T23:15:03.980204Z",
     "iopub.status.busy": "2024-02-20T23:15:03.980204Z",
     "iopub.status.idle": "2024-02-20T23:15:03.990548Z",
     "shell.execute_reply": "2024-02-20T23:15:03.989546Z"
    },
    "papermill": {
     "duration": 0.014627,
     "end_time": "2024-02-20T23:15:03.992805",
     "exception": false,
     "start_time": "2024-02-20T23:15:03.978178",
     "status": "completed"
    },
    "tags": [
     "injected-parameters"
    ]
   },
   "outputs": [],
   "source": [
    "# Parameters\n",
    "dia = \"amanha\"\n"
   ]
  },
  {
   "cell_type": "code",
   "execution_count": 3,
   "id": "6ef356e6",
   "metadata": {
    "execution": {
     "iopub.execute_input": "2024-02-20T23:15:03.998173Z",
     "iopub.status.busy": "2024-02-20T23:15:03.996877Z",
     "iopub.status.idle": "2024-02-20T23:20:45.686278Z",
     "shell.execute_reply": "2024-02-20T23:20:45.686278Z"
    },
    "papermill": {
     "duration": 341.694494,
     "end_time": "2024-02-20T23:20:45.688343",
     "exception": false,
     "start_time": "2024-02-20T23:15:03.993849",
     "status": "completed"
    },
    "tags": []
   },
   "outputs": [
    {
     "name": "stderr",
     "output_type": "stream",
     "text": [
      "\r",
      "  0%|                                                                                           | 0/98 [00:00<?, ?it/s]"
     ]
    },
    {
     "name": "stderr",
     "output_type": "stream",
     "text": [
      "\r",
      "  1%|▊                                                                                  | 1/98 [00:02<03:29,  2.16s/it]"
     ]
    },
    {
     "name": "stderr",
     "output_type": "stream",
     "text": [
      "\r",
      "  2%|█▋                                                                                 | 2/98 [00:04<03:19,  2.08s/it]"
     ]
    },
    {
     "name": "stderr",
     "output_type": "stream",
     "text": [
      "\r",
      "  3%|██▌                                                                                | 3/98 [00:06<03:18,  2.09s/it]"
     ]
    },
    {
     "name": "stderr",
     "output_type": "stream",
     "text": [
      "\r",
      "  4%|███▍                                                                               | 4/98 [00:12<05:38,  3.60s/it]"
     ]
    },
    {
     "name": "stderr",
     "output_type": "stream",
     "text": [
      "\r",
      "  5%|████▏                                                                              | 5/98 [00:14<04:41,  3.02s/it]"
     ]
    },
    {
     "name": "stderr",
     "output_type": "stream",
     "text": [
      "\r",
      "  6%|█████                                                                              | 6/98 [00:16<04:07,  2.69s/it]"
     ]
    },
    {
     "name": "stderr",
     "output_type": "stream",
     "text": [
      "\r",
      "  7%|█████▉                                                                             | 7/98 [00:18<03:39,  2.42s/it]"
     ]
    },
    {
     "name": "stderr",
     "output_type": "stream",
     "text": [
      "\r",
      "  8%|██████▊                                                                            | 8/98 [00:20<03:26,  2.29s/it]"
     ]
    },
    {
     "name": "stderr",
     "output_type": "stream",
     "text": [
      "\r",
      "  9%|███████▌                                                                           | 9/98 [00:22<03:16,  2.21s/it]"
     ]
    },
    {
     "name": "stderr",
     "output_type": "stream",
     "text": [
      "\r",
      " 10%|████████▎                                                                         | 10/98 [00:24<03:10,  2.17s/it]"
     ]
    },
    {
     "name": "stderr",
     "output_type": "stream",
     "text": [
      "\r",
      " 11%|█████████▏                                                                        | 11/98 [00:26<03:04,  2.12s/it]"
     ]
    },
    {
     "name": "stderr",
     "output_type": "stream",
     "text": [
      "\r",
      " 12%|██████████                                                                        | 12/98 [00:28<02:54,  2.03s/it]"
     ]
    },
    {
     "name": "stderr",
     "output_type": "stream",
     "text": [
      "\r",
      " 13%|██████████▉                                                                       | 13/98 [00:30<02:51,  2.02s/it]"
     ]
    },
    {
     "name": "stderr",
     "output_type": "stream",
     "text": [
      "\r",
      " 14%|███████████▋                                                                      | 14/98 [00:32<02:49,  2.02s/it]"
     ]
    },
    {
     "name": "stderr",
     "output_type": "stream",
     "text": [
      "\r",
      " 15%|████████████▌                                                                     | 15/98 [00:34<02:48,  2.03s/it]"
     ]
    },
    {
     "name": "stderr",
     "output_type": "stream",
     "text": [
      "\r",
      " 16%|█████████████▍                                                                    | 16/98 [00:35<02:42,  1.98s/it]"
     ]
    },
    {
     "name": "stderr",
     "output_type": "stream",
     "text": [
      "\r",
      " 17%|██████████████▏                                                                   | 17/98 [00:38<02:42,  2.01s/it]"
     ]
    },
    {
     "name": "stderr",
     "output_type": "stream",
     "text": [
      "\r",
      " 18%|███████████████                                                                   | 18/98 [00:39<02:37,  1.97s/it]"
     ]
    },
    {
     "name": "stderr",
     "output_type": "stream",
     "text": [
      "\r",
      " 19%|███████████████▉                                                                  | 19/98 [00:44<03:36,  2.74s/it]"
     ]
    },
    {
     "name": "stderr",
     "output_type": "stream",
     "text": [
      "\r",
      " 20%|████████████████▋                                                                 | 20/98 [00:48<04:14,  3.26s/it]"
     ]
    },
    {
     "name": "stderr",
     "output_type": "stream",
     "text": [
      "\r",
      " 21%|█████████████████▌                                                                | 21/98 [00:53<04:48,  3.75s/it]"
     ]
    },
    {
     "name": "stderr",
     "output_type": "stream",
     "text": [
      "\r",
      " 22%|██████████████████▍                                                               | 22/98 [00:55<04:05,  3.24s/it]"
     ]
    },
    {
     "name": "stderr",
     "output_type": "stream",
     "text": [
      "\r",
      " 23%|███████████████████▏                                                              | 23/98 [01:02<05:15,  4.20s/it]"
     ]
    },
    {
     "name": "stderr",
     "output_type": "stream",
     "text": [
      "\r",
      " 24%|████████████████████                                                              | 24/98 [01:08<05:50,  4.73s/it]"
     ]
    },
    {
     "name": "stderr",
     "output_type": "stream",
     "text": [
      "\r",
      " 26%|████████████████████▉                                                             | 25/98 [01:14<06:07,  5.04s/it]"
     ]
    },
    {
     "name": "stderr",
     "output_type": "stream",
     "text": [
      "\r",
      " 27%|█████████████████████▊                                                            | 26/98 [01:18<05:45,  4.79s/it]"
     ]
    },
    {
     "name": "stderr",
     "output_type": "stream",
     "text": [
      "\r",
      " 28%|██████████████████████▌                                                           | 27/98 [01:22<05:28,  4.62s/it]"
     ]
    },
    {
     "name": "stderr",
     "output_type": "stream",
     "text": [
      "\r",
      " 29%|███████████████████████▍                                                          | 28/98 [01:26<05:14,  4.50s/it]"
     ]
    },
    {
     "name": "stderr",
     "output_type": "stream",
     "text": [
      "\r",
      " 30%|████████████████████████▎                                                         | 29/98 [01:30<05:01,  4.37s/it]"
     ]
    },
    {
     "name": "stderr",
     "output_type": "stream",
     "text": [
      "\r",
      " 31%|█████████████████████████                                                         | 30/98 [01:35<04:54,  4.34s/it]"
     ]
    },
    {
     "name": "stderr",
     "output_type": "stream",
     "text": [
      "\r",
      " 32%|█████████████████████████▉                                                        | 31/98 [01:39<04:47,  4.30s/it]"
     ]
    },
    {
     "name": "stderr",
     "output_type": "stream",
     "text": [
      "\r",
      " 33%|██████████████████████████▊                                                       | 32/98 [01:41<04:00,  3.64s/it]"
     ]
    },
    {
     "name": "stderr",
     "output_type": "stream",
     "text": [
      "\r",
      " 34%|███████████████████████████▌                                                      | 33/98 [01:43<03:26,  3.18s/it]"
     ]
    },
    {
     "name": "stderr",
     "output_type": "stream",
     "text": [
      "\r",
      " 35%|████████████████████████████▍                                                     | 34/98 [01:47<03:42,  3.48s/it]"
     ]
    },
    {
     "name": "stderr",
     "output_type": "stream",
     "text": [
      "\r",
      " 36%|█████████████████████████████▎                                                    | 35/98 [01:49<03:12,  3.05s/it]"
     ]
    },
    {
     "name": "stderr",
     "output_type": "stream",
     "text": [
      "\r",
      " 37%|██████████████████████████████                                                    | 36/98 [01:53<03:29,  3.38s/it]"
     ]
    },
    {
     "name": "stderr",
     "output_type": "stream",
     "text": [
      "\r",
      " 38%|██████████████████████████████▉                                                   | 37/98 [01:58<03:41,  3.63s/it]"
     ]
    },
    {
     "name": "stderr",
     "output_type": "stream",
     "text": [
      "\r",
      " 39%|███████████████████████████████▊                                                  | 38/98 [02:00<03:08,  3.14s/it]"
     ]
    },
    {
     "name": "stderr",
     "output_type": "stream",
     "text": [
      "\r",
      " 40%|████████████████████████████████▋                                                 | 39/98 [02:04<03:20,  3.40s/it]"
     ]
    },
    {
     "name": "stderr",
     "output_type": "stream",
     "text": [
      "\r",
      " 41%|█████████████████████████████████▍                                                | 40/98 [02:06<02:53,  2.99s/it]"
     ]
    },
    {
     "name": "stderr",
     "output_type": "stream",
     "text": [
      "\r",
      " 42%|██████████████████████████████████▎                                               | 41/98 [02:08<02:33,  2.70s/it]"
     ]
    },
    {
     "name": "stderr",
     "output_type": "stream",
     "text": [
      "\r",
      " 43%|███████████████████████████████████▏                                              | 42/98 [02:10<02:20,  2.51s/it]"
     ]
    },
    {
     "name": "stderr",
     "output_type": "stream",
     "text": [
      "\r",
      " 44%|███████████████████████████████████▉                                              | 43/98 [02:14<02:46,  3.03s/it]"
     ]
    },
    {
     "name": "stderr",
     "output_type": "stream",
     "text": [
      "\r",
      " 45%|████████████████████████████████████▊                                             | 44/98 [02:16<02:29,  2.77s/it]"
     ]
    },
    {
     "name": "stderr",
     "output_type": "stream",
     "text": [
      "\r",
      " 46%|█████████████████████████████████████▋                                            | 45/98 [02:18<02:14,  2.54s/it]"
     ]
    },
    {
     "name": "stderr",
     "output_type": "stream",
     "text": [
      "\r",
      " 47%|██████████████████████████████████████▍                                           | 46/98 [02:20<02:03,  2.38s/it]"
     ]
    },
    {
     "name": "stderr",
     "output_type": "stream",
     "text": [
      "\r",
      " 48%|███████████████████████████████████████▎                                          | 47/98 [02:24<02:29,  2.92s/it]"
     ]
    },
    {
     "name": "stderr",
     "output_type": "stream",
     "text": [
      "\r",
      " 49%|████████████████████████████████████████▏                                         | 48/98 [02:26<02:12,  2.65s/it]"
     ]
    },
    {
     "name": "stderr",
     "output_type": "stream",
     "text": [
      "\r",
      " 50%|█████████████████████████████████████████                                         | 49/98 [02:28<02:01,  2.47s/it]"
     ]
    },
    {
     "name": "stderr",
     "output_type": "stream",
     "text": [
      "\r",
      " 51%|█████████████████████████████████████████▊                                        | 50/98 [02:30<01:52,  2.34s/it]"
     ]
    },
    {
     "name": "stderr",
     "output_type": "stream",
     "text": [
      "\r",
      " 52%|██████████████████████████████████████████▋                                       | 51/98 [02:32<01:36,  2.05s/it]"
     ]
    },
    {
     "name": "stderr",
     "output_type": "stream",
     "text": [
      "\r",
      " 53%|███████████████████████████████████████████▌                                      | 52/98 [02:34<01:34,  2.05s/it]"
     ]
    },
    {
     "name": "stderr",
     "output_type": "stream",
     "text": [
      "\r",
      " 54%|████████████████████████████████████████████▎                                     | 53/98 [02:36<01:29,  1.99s/it]"
     ]
    },
    {
     "name": "stderr",
     "output_type": "stream",
     "text": [
      "\r",
      " 55%|█████████████████████████████████████████████▏                                    | 54/98 [02:38<01:27,  2.00s/it]"
     ]
    },
    {
     "name": "stderr",
     "output_type": "stream",
     "text": [
      "\r",
      " 56%|██████████████████████████████████████████████                                    | 55/98 [02:42<01:54,  2.67s/it]"
     ]
    },
    {
     "name": "stderr",
     "output_type": "stream",
     "text": [
      "\r",
      " 57%|██████████████████████████████████████████████▊                                   | 56/98 [02:44<01:41,  2.42s/it]"
     ]
    },
    {
     "name": "stderr",
     "output_type": "stream",
     "text": [
      "\r",
      " 58%|███████████████████████████████████████████████▋                                  | 57/98 [02:46<01:33,  2.29s/it]"
     ]
    },
    {
     "name": "stderr",
     "output_type": "stream",
     "text": [
      "\r",
      " 59%|████████████████████████████████████████████████▌                                 | 58/98 [02:48<01:28,  2.21s/it]"
     ]
    },
    {
     "name": "stderr",
     "output_type": "stream",
     "text": [
      "\r",
      " 60%|█████████████████████████████████████████████████▎                                | 59/98 [02:50<01:21,  2.09s/it]"
     ]
    },
    {
     "name": "stderr",
     "output_type": "stream",
     "text": [
      "\r",
      " 61%|██████████████████████████████████████████████████▏                               | 60/98 [02:52<01:18,  2.07s/it]"
     ]
    },
    {
     "name": "stderr",
     "output_type": "stream",
     "text": [
      "\r",
      " 62%|███████████████████████████████████████████████████                               | 61/98 [02:56<01:40,  2.72s/it]"
     ]
    },
    {
     "name": "stderr",
     "output_type": "stream",
     "text": [
      "\r",
      " 63%|███████████████████████████████████████████████████▉                              | 62/98 [03:00<01:54,  3.17s/it]"
     ]
    },
    {
     "name": "stderr",
     "output_type": "stream",
     "text": [
      "\r",
      " 64%|████████████████████████████████████████████████████▋                             | 63/98 [03:04<01:59,  3.42s/it]"
     ]
    },
    {
     "name": "stderr",
     "output_type": "stream",
     "text": [
      "\r",
      " 65%|█████████████████████████████████████████████████████▌                            | 64/98 [03:08<02:05,  3.70s/it]"
     ]
    },
    {
     "name": "stderr",
     "output_type": "stream",
     "text": [
      "\r",
      " 66%|██████████████████████████████████████████████████████▍                           | 65/98 [03:10<01:44,  3.15s/it]"
     ]
    },
    {
     "name": "stderr",
     "output_type": "stream",
     "text": [
      "\r",
      " 67%|███████████████████████████████████████████████████████▏                          | 66/98 [03:15<01:51,  3.49s/it]"
     ]
    },
    {
     "name": "stderr",
     "output_type": "stream",
     "text": [
      "\r",
      " 68%|████████████████████████████████████████████████████████                          | 67/98 [03:19<01:55,  3.72s/it]"
     ]
    },
    {
     "name": "stderr",
     "output_type": "stream",
     "text": [
      "\r",
      " 69%|████████████████████████████████████████████████████████▉                         | 68/98 [03:23<01:59,  3.99s/it]"
     ]
    },
    {
     "name": "stderr",
     "output_type": "stream",
     "text": [
      "\r",
      " 70%|█████████████████████████████████████████████████████████▋                        | 69/98 [03:29<02:07,  4.39s/it]"
     ]
    },
    {
     "name": "stderr",
     "output_type": "stream",
     "text": [
      "\r",
      " 71%|██████████████████████████████████████████████████████████▌                       | 70/98 [03:35<02:16,  4.87s/it]"
     ]
    },
    {
     "name": "stderr",
     "output_type": "stream",
     "text": [
      "\r",
      " 72%|███████████████████████████████████████████████████████████▍                      | 71/98 [03:41<02:19,  5.16s/it]"
     ]
    },
    {
     "name": "stderr",
     "output_type": "stream",
     "text": [
      "\r",
      " 73%|████████████████████████████████████████████████████████████▏                     | 72/98 [03:45<02:11,  5.07s/it]"
     ]
    },
    {
     "name": "stderr",
     "output_type": "stream",
     "text": [
      "\r",
      " 74%|█████████████████████████████████████████████████████████████                     | 73/98 [03:51<02:07,  5.08s/it]"
     ]
    },
    {
     "name": "stderr",
     "output_type": "stream",
     "text": [
      "\r",
      " 76%|█████████████████████████████████████████████████████████████▉                    | 74/98 [03:53<01:40,  4.18s/it]"
     ]
    },
    {
     "name": "stderr",
     "output_type": "stream",
     "text": [
      "\r",
      " 77%|██████████████████████████████████████████████████████████████▊                   | 75/98 [03:55<01:21,  3.55s/it]"
     ]
    },
    {
     "name": "stderr",
     "output_type": "stream",
     "text": [
      "\r",
      " 78%|███████████████████████████████████████████████████████████████▌                  | 76/98 [03:59<01:24,  3.83s/it]"
     ]
    },
    {
     "name": "stderr",
     "output_type": "stream",
     "text": [
      "\r",
      " 79%|████████████████████████████████████████████████████████████████▍                 | 77/98 [04:03<01:22,  3.95s/it]"
     ]
    },
    {
     "name": "stderr",
     "output_type": "stream",
     "text": [
      "\r",
      " 80%|█████████████████████████████████████████████████████████████████▎                | 78/98 [04:08<01:21,  4.09s/it]"
     ]
    },
    {
     "name": "stderr",
     "output_type": "stream",
     "text": [
      "\r",
      " 81%|██████████████████████████████████████████████████████████████████                | 79/98 [04:12<01:17,  4.10s/it]"
     ]
    },
    {
     "name": "stderr",
     "output_type": "stream",
     "text": [
      "\r",
      " 82%|██████████████████████████████████████████████████████████████████▉               | 80/98 [04:16<01:15,  4.18s/it]"
     ]
    },
    {
     "name": "stderr",
     "output_type": "stream",
     "text": [
      "\r",
      " 83%|███████████████████████████████████████████████████████████████████▊              | 81/98 [04:21<01:11,  4.18s/it]"
     ]
    },
    {
     "name": "stderr",
     "output_type": "stream",
     "text": [
      "\r",
      " 84%|████████████████████████████████████████████████████████████████████▌             | 82/98 [04:25<01:07,  4.23s/it]"
     ]
    },
    {
     "name": "stderr",
     "output_type": "stream",
     "text": [
      "\r",
      " 85%|█████████████████████████████████████████████████████████████████████▍            | 83/98 [04:29<01:03,  4.23s/it]"
     ]
    },
    {
     "name": "stderr",
     "output_type": "stream",
     "text": [
      "\r",
      " 86%|██████████████████████████████████████████████████████████████████████▎           | 84/98 [04:33<00:59,  4.26s/it]"
     ]
    },
    {
     "name": "stderr",
     "output_type": "stream",
     "text": [
      "\r",
      " 87%|███████████████████████████████████████████████████████████████████████           | 85/98 [04:38<00:55,  4.31s/it]"
     ]
    },
    {
     "name": "stderr",
     "output_type": "stream",
     "text": [
      "\r",
      " 88%|███████████████████████████████████████████████████████████████████████▉          | 86/98 [04:42<00:52,  4.37s/it]"
     ]
    },
    {
     "name": "stderr",
     "output_type": "stream",
     "text": [
      "\r",
      " 89%|████████████████████████████████████████████████████████████████████████▊         | 87/98 [04:47<00:47,  4.32s/it]"
     ]
    },
    {
     "name": "stderr",
     "output_type": "stream",
     "text": [
      "\r",
      " 90%|█████████████████████████████████████████████████████████████████████████▋        | 88/98 [04:51<00:44,  4.43s/it]"
     ]
    },
    {
     "name": "stderr",
     "output_type": "stream",
     "text": [
      "\r",
      " 91%|██████████████████████████████████████████████████████████████████████████▍       | 89/98 [04:55<00:39,  4.35s/it]"
     ]
    },
    {
     "name": "stderr",
     "output_type": "stream",
     "text": [
      "\r",
      " 92%|███████████████████████████████████████████████████████████████████████████▎      | 90/98 [05:00<00:35,  4.42s/it]"
     ]
    },
    {
     "name": "stderr",
     "output_type": "stream",
     "text": [
      "\r",
      " 93%|████████████████████████████████████████████████████████████████████████████▏     | 91/98 [05:02<00:26,  3.71s/it]"
     ]
    },
    {
     "name": "stderr",
     "output_type": "stream",
     "text": [
      "\r",
      " 94%|████████████████████████████████████████████████████████████████████████████▉     | 92/98 [05:04<00:19,  3.22s/it]"
     ]
    },
    {
     "name": "stderr",
     "output_type": "stream",
     "text": [
      "\r",
      " 95%|█████████████████████████████████████████████████████████████████████████████▊    | 93/98 [05:09<00:18,  3.62s/it]"
     ]
    },
    {
     "name": "stderr",
     "output_type": "stream",
     "text": [
      "\r",
      " 96%|██████████████████████████████████████████████████████████████████████████████▋   | 94/98 [05:13<00:15,  3.89s/it]"
     ]
    },
    {
     "name": "stderr",
     "output_type": "stream",
     "text": [
      "\r",
      " 97%|███████████████████████████████████████████████████████████████████████████████▍  | 95/98 [05:17<00:11,  3.95s/it]"
     ]
    },
    {
     "name": "stderr",
     "output_type": "stream",
     "text": [
      "\r",
      " 98%|████████████████████████████████████████████████████████████████████████████████▎ | 96/98 [05:21<00:07,  4.00s/it]"
     ]
    },
    {
     "name": "stderr",
     "output_type": "stream",
     "text": [
      "\r",
      " 99%|█████████████████████████████████████████████████████████████████████████████████▏| 97/98 [05:26<00:04,  4.16s/it]"
     ]
    },
    {
     "name": "stderr",
     "output_type": "stream",
     "text": [
      "\r",
      "100%|██████████████████████████████████████████████████████████████████████████████████| 98/98 [05:28<00:00,  3.48s/it]"
     ]
    },
    {
     "name": "stderr",
     "output_type": "stream",
     "text": [
      "\r",
      "100%|██████████████████████████████████████████████████████████████████████████████████| 98/98 [05:28<00:00,  3.35s/it]"
     ]
    },
    {
     "name": "stderr",
     "output_type": "stream",
     "text": [
      "\n"
     ]
    },
    {
     "data": {
      "text/html": [
       "<div>\n",
       "<style scoped>\n",
       "    .dataframe tbody tr th:only-of-type {\n",
       "        vertical-align: middle;\n",
       "    }\n",
       "\n",
       "    .dataframe tbody tr th {\n",
       "        vertical-align: top;\n",
       "    }\n",
       "\n",
       "    .dataframe thead th {\n",
       "        text-align: right;\n",
       "    }\n",
       "</style>\n",
       "<table border=\"1\" class=\"dataframe\">\n",
       "  <thead>\n",
       "    <tr style=\"text-align: right;\">\n",
       "      <th></th>\n",
       "      <th>Fixture ID</th>\n",
       "      <th>Date</th>\n",
       "      <th>League</th>\n",
       "      <th>Time</th>\n",
       "      <th>Home</th>\n",
       "      <th>Away</th>\n",
       "      <th>Odds_H</th>\n",
       "      <th>Odds_A</th>\n",
       "      <th>Over_Line</th>\n",
       "      <th>Odds_Over</th>\n",
       "      <th>Odds_Under</th>\n",
       "      <th>HA_Line</th>\n",
       "      <th>HA_Odds_H</th>\n",
       "      <th>HA_Odds_A</th>\n",
       "    </tr>\n",
       "  </thead>\n",
       "  <tbody>\n",
       "    <tr>\n",
       "      <th>0</th>\n",
       "      <td>8lvdejjg</td>\n",
       "      <td>2024-02-21</td>\n",
       "      <td>China Wcba Feminina</td>\n",
       "      <td>08:30</td>\n",
       "      <td>Zhejiang Golden Bulls F</td>\n",
       "      <td>Shanghai F</td>\n",
       "      <td>2.24</td>\n",
       "      <td>1.60</td>\n",
       "      <td>152.5</td>\n",
       "      <td>1.82</td>\n",
       "      <td>1.88</td>\n",
       "      <td>-3.5</td>\n",
       "      <td>2.07</td>\n",
       "      <td>1.89</td>\n",
       "    </tr>\n",
       "    <tr>\n",
       "      <th>1</th>\n",
       "      <td>dYUrwY01</td>\n",
       "      <td>2024-02-21</td>\n",
       "      <td>Eua Ncaa</td>\n",
       "      <td>22:30</td>\n",
       "      <td>Indiana</td>\n",
       "      <td>Nebraska</td>\n",
       "      <td>1.91</td>\n",
       "      <td>1.83</td>\n",
       "      <td>0.0</td>\n",
       "      <td>0.00</td>\n",
       "      <td>0.00</td>\n",
       "      <td>-1.5</td>\n",
       "      <td>2.00</td>\n",
       "      <td>2.00</td>\n",
       "    </tr>\n",
       "  </tbody>\n",
       "</table>\n",
       "</div>"
      ],
      "text/plain": [
       "  Fixture ID        Date               League   Time                     Home  \\\n",
       "0   8lvdejjg  2024-02-21  China Wcba Feminina  08:30  Zhejiang Golden Bulls F   \n",
       "1   dYUrwY01  2024-02-21             Eua Ncaa  22:30                  Indiana   \n",
       "\n",
       "         Away  Odds_H  Odds_A  Over_Line  Odds_Over  Odds_Under  HA_Line  \\\n",
       "0  Shanghai F    2.24    1.60      152.5       1.82        1.88     -3.5   \n",
       "1    Nebraska    1.91    1.83        0.0       0.00        0.00     -1.5   \n",
       "\n",
       "   HA_Odds_H  HA_Odds_A  \n",
       "0       2.07       1.89  \n",
       "1       2.00       2.00  "
      ]
     },
     "metadata": {},
     "output_type": "display_data"
    }
   ],
   "source": [
    "import warnings\n",
    "warnings.filterwarnings('ignore')\n",
    "import pandas as pd; pd.set_option('display.max_columns', None)\n",
    "import time\n",
    "from datetime import date, timedelta\n",
    "from tqdm import tqdm\n",
    "from selenium.webdriver.common.by import By\n",
    "from selenium import webdriver\n",
    "from selenium.webdriver.common.keys import Keys\n",
    "import re\n",
    "import os\n",
    "import warnings\n",
    "warnings.filterwarnings('ignore')\n",
    "def clean_name(name):\n",
    "    name = re.sub(r'\\s*-.*$', '', name.strip())  # Remover informações extras\n",
    "    return name.title()  # Caso contrário, padronizar nome com letras maiúsculas iniciais\n",
    "def find_point_five(number):\n",
    "    # Converte o número em uma string\n",
    "    number_str = str(number)\n",
    "    # Verifica se a string termina com \".5\"\n",
    "    if number_str.endswith(\".5\"):\n",
    "        return True\n",
    "    else:\n",
    "        return False\n",
    "hoje = date.today()\n",
    "amanha = hoje + timedelta(days=1)\n",
    "\n",
    "BOOKIE_1 = 'Bet365'\n",
    "BOOKIE_2 = '1xBet'\n",
    "\n",
    "try:\n",
    "    if dia != 'amanha':\n",
    "        existentes = pd.read_csv(f'jogos_do_dia/{hoje}.csv')\n",
    "    else:\n",
    "        existentes = pd.read_csv(f'jogos_do_dia/{amanha}.csv')\n",
    "        \n",
    "    existentes = existentes['Fixture ID'].unique().tolist()\n",
    "except:\n",
    "    existentes = []\n",
    "# Instanciando o Objeto ChromeOptions\n",
    "options = webdriver.EdgeOptions()\n",
    "\n",
    "# Passando algumas opções para esse ChromeOptions\n",
    "options.add_argument('--headless')\n",
    "options.add_argument('--no-sandbox')\n",
    "options.add_argument('--disable-dev-shm-usage')\n",
    "options.add_argument('--log-level=3')\n",
    "\n",
    "# Criação do WebDriver do Chrome\n",
    "wd_Chrome = webdriver.Edge(options=options)\n",
    "\n",
    "# Com o WebDrive a gente consegue a pedir a página (URL)\n",
    "wd_Chrome.get(\"https://www.flashscore.com.br/basquete/\")\n",
    "time.sleep(2)\n",
    "\n",
    "# Para jogos do dia seguinte\n",
    "if dia == \"amanha\":\n",
    "    wd_Chrome.find_element(By.XPATH,'//*[@id=\"live-table\"]/div[1]/div[2]/div/button[3]').send_keys(Keys.ENTER)\n",
    "    time.sleep(2)\n",
    "\n",
    "# Pegando o ID dos Jogos\n",
    "id_jogos = []\n",
    "jogos = wd_Chrome.find_elements(By.CSS_SELECTOR,'div.event__match--scheduled')\n",
    "\n",
    "for i in jogos:\n",
    "    id_jogos.append(i.get_attribute(\"id\"))\n",
    "\n",
    "# Exemplo de ID de um jogo: 'g_1_Gb7buXVt'    \n",
    "id_jogos = [i[4:] for i in id_jogos]\n",
    "\n",
    "# Separando apenas os IDs de jogos que eu não peguei ainda\n",
    "if len(existentes) > 0:\n",
    "    id_jogos = [id for id in id_jogos if id not in existentes]\n",
    "\n",
    "base_jogos = pd.DataFrame({})\n",
    "\n",
    "for link in tqdm(id_jogos, total=len(id_jogos)):\n",
    "    wd_Chrome.get(f'https://www.flashscore.com.br/jogo/{link}/#/resumo-de-jogo/resumo-de-jogo')\n",
    "    \n",
    "    Odds_H = 0\n",
    "    Odds_A = 0\n",
    "    Over_Line = 0\n",
    "    Odds_Over = 0\n",
    "    Odds_Under = 0\n",
    "    HA_Line = 0\n",
    "    HA_Odds_H = 0\n",
    "    HA_Odds_A = 0\n",
    "    \n",
    "    # Pegando as Informacoes Básicas do Jogo\n",
    "    try:\n",
    "        Date = wd_Chrome.find_element(By.CSS_SELECTOR,'div.duelParticipant__startTime').text.split(' ')[0]\n",
    "        Time = wd_Chrome.find_element(By.CSS_SELECTOR,'div.duelParticipant__startTime').text.split(' ')[1]\n",
    "        Country = wd_Chrome.find_element(By.CSS_SELECTOR,'span.tournamentHeader__country').text.split(':')[0]\n",
    "        League = wd_Chrome.find_element(By.CSS_SELECTOR,'span.tournamentHeader__country')\n",
    "        League = League.find_element(By.CSS_SELECTOR,'a').text\n",
    "        Home = wd_Chrome.find_element(By.CSS_SELECTOR,'div.duelParticipant__home')\n",
    "        Home = Home.find_element(By.CSS_SELECTOR,'div.participant__participantName').text\n",
    "        Away = wd_Chrome.find_element(By.CSS_SELECTOR,'div.duelParticipant__away')\n",
    "        Away = Away.find_element(By.CSS_SELECTOR,'div.participant__participantName').text\n",
    "\n",
    "        Country = clean_name(Country)\n",
    "        League = clean_name(League)\n",
    "        League_name = Country + ' ' + League\n",
    "\n",
    "        # if League_name not in lista_ligas:\n",
    "        #     # Condição satisfeita, pula para a próxima iteração do loop\n",
    "        #     continue\n",
    "    \n",
    "        # Match Odds\n",
    "        wd_Chrome.get(f'https://www.flashscore.com.br/jogo/{link}/#/comparacao-de-odds/home-away/tr-incluindo-prol')\n",
    "        time.sleep(1)\n",
    "        celulas = wd_Chrome.find_elements(By.CSS_SELECTOR,'div.ui-table__row')\n",
    "        \n",
    "        for celula in celulas:\n",
    "            bookie = celula.find_element(By.CSS_SELECTOR,'img.prematchLogo')\n",
    "            bookie = bookie.get_attribute('title')\n",
    "            if ((bookie == BOOKIE_1)):\n",
    "                Odds_H = float(celula.find_elements(By.CSS_SELECTOR,'a.oddsCell__odd')[0].text)\n",
    "                Odds_A = float(celula.find_elements(By.CSS_SELECTOR,'a.oddsCell__odd')[1].text)\n",
    "                break\n",
    "            elif ((bookie == BOOKIE_2)):\n",
    "                Odds_H = float(celula.find_elements(By.CSS_SELECTOR,'a.oddsCell__odd')[0].text)\n",
    "                Odds_A = float(celula.find_elements(By.CSS_SELECTOR,'a.oddsCell__odd')[1].text)\n",
    "                break\n",
    "            else:\n",
    "                pass\n",
    "\n",
    "        if Odds_H == 0:\n",
    "            continue\n",
    "\n",
    "        # Over/Under\n",
    "        wd_Chrome.get(f'https://www.flashscore.com.br/jogo/{link}/#/comparacao-de-odds/acima-abaixo/tr-incluindo-prol')\n",
    "        time.sleep(1)\n",
    "        celulas = wd_Chrome.find_elements(By.CLASS_NAME,'ui-table__row')\n",
    "\n",
    "        for celula in celulas:\n",
    "            bookie = celula.find_element(By.CSS_SELECTOR, 'img.prematchLogo').get_attribute('title')\n",
    "            Odds_Over = float(celula.find_elements(By.TAG_NAME,'span')[1].text)\n",
    "            Over_Line = float(celula.find_elements(By.TAG_NAME,'span')[0].text)\n",
    "            if (((bookie == BOOKIE_1) and (Odds_Over >= 1.80) and find_point_five(Over_Line))):\n",
    "                Odds_Under = float(celula.find_elements(By.TAG_NAME,'span')[2].text)\n",
    "                break\n",
    "            elif (((bookie == BOOKIE_2) and (Odds_Over >= 1.80) and find_point_five(Over_Line))):\n",
    "                Odds_Under = float(celula.find_elements(By.TAG_NAME,'span')[2].text)\n",
    "                break\n",
    "            else:\n",
    "                Over_Line, Odds_Over, Odds_Under = 0, 0, 0                   \n",
    "                pass\n",
    "\n",
    "\n",
    "        # Handicap\n",
    "        wd_Chrome.get(f'https://www.flashscore.com.br/jogo/{link}/#/comparacao-de-odds/handicap-asiatico/tr-incluindo-prol')\n",
    "        time.sleep(1)\n",
    "        celulas = wd_Chrome.find_elements(By.CLASS_NAME,'ui-table__row')\n",
    "\n",
    "        for celula in celulas:\n",
    "            \n",
    "            HA_Line = float(celula.find_elements(By.TAG_NAME,'span')[0].text)\n",
    "            HA_Odds_H = float(celula.find_elements(By.TAG_NAME,'span')[1].text)\n",
    "\n",
    "            bookie = celula.find_element(By.CSS_SELECTOR, 'img.prematchLogo').get_attribute('title')\n",
    "            if ((bookie == BOOKIE_1 and HA_Odds_H >= 1.80) and (bookie == BOOKIE_1 and HA_Odds_H <= 2.10) and (find_point_five(HA_Line))):\n",
    "                HA_Odds_A = float(celula.find_elements(By.TAG_NAME,'span')[2].text)\n",
    "                break\n",
    "            elif ((bookie == BOOKIE_2 and HA_Odds_H >= 1.80) and (bookie == BOOKIE_2 and HA_Odds_H <= 2.10) and (find_point_five(HA_Line))):\n",
    "                HA_Odds_A = float(celula.find_elements(By.TAG_NAME,'span')[2].text)\n",
    "                break\n",
    "            else:\n",
    "                pass\n",
    "\n",
    "        # print(Date, Home, Over_Line, Odds_Over, Odds_Under, HA_Line, HA_Odds_H, HA_Odds_A)\n",
    "        # print()\n",
    "\n",
    "        base_jogos.loc[base_jogos.shape[0],['Fixture ID', 'Date','League','Time','Home','Away','Odds_H','Odds_A','Over_Line','Odds_Over','Odds_Under','HA_Line','HA_Odds_H','HA_Odds_A']] = [\n",
    "            link, Date, League_name, Time, Home, Away, Odds_H, Odds_A, Over_Line, Odds_Over, Odds_Under, HA_Line, HA_Odds_H, HA_Odds_A\n",
    "        ]\n",
    "    except:\n",
    "        continue\n",
    "\n",
    "wd_Chrome.quit()\n",
    "backup = base_jogos.copy()\n",
    "\n",
    "# Remove jogos sem odds\n",
    "if len(base_jogos) > 0:\n",
    "    base_jogos = base_jogos[base_jogos['Odds_H'] != 0]\n",
    "    base_jogos.reset_index(drop=True, inplace=True)\n",
    "\n",
    "    # Ajusta coluna de data\n",
    "    base_jogos['Date'] = pd.to_datetime(base_jogos['Date'], format='%d.%m.%Y')\n",
    "    base_jogos['Date'] = pd.to_datetime(base_jogos['Date']).dt.date\n",
    "\n",
    "    dia_jogos = base_jogos['Date'].iloc[0]\n",
    "\n",
    "    try:\n",
    "        existente = pd.read_csv(f'jogos_do_dia/{dia_jogos}.csv')\n",
    "        n_jogos_antes = existente.shape[0]\n",
    "        existente = pd.concat([existente, base_jogos])\n",
    "        existente = existente.drop_duplicates(subset=['Home', 'Away'], keep='first')\n",
    "        existente.reset_index(drop=True, inplace=True)\n",
    "        n_jogos_depois = existente.shape[0]\n",
    "        existente.to_csv(f'jogos_do_dia/{dia_jogos}.csv', index=False)\n",
    "        print(f'{n_jogos_depois - n_jogos_antes} jogos adicionados aos jogos do dia.')\n",
    "    except:\n",
    "        base_jogos.to_csv(f'jogos_do_dia/{dia_jogos}.csv', index=False)\n",
    "        display(base_jogos)"
   ]
  }
 ],
 "metadata": {
  "kernelspec": {
   "display_name": "football_models",
   "language": "python",
   "name": "python3"
  },
  "language_info": {
   "codemirror_mode": {
    "name": "ipython",
    "version": 3
   },
   "file_extension": ".py",
   "mimetype": "text/x-python",
   "name": "python",
   "nbconvert_exporter": "python",
   "pygments_lexer": "ipython3",
   "version": "3.10.7"
  },
  "papermill": {
   "default_parameters": {},
   "duration": 346.227288,
   "end_time": "2024-02-20T23:20:48.334125",
   "environment_variables": {},
   "exception": null,
   "input_path": "jogos_do_dia.ipynb",
   "output_path": "jogos_do_dia.ipynb",
   "parameters": {
    "dia": "amanha"
   },
   "start_time": "2024-02-20T23:15:02.106837",
   "version": "2.5.0"
  }
 },
 "nbformat": 4,
 "nbformat_minor": 5
}