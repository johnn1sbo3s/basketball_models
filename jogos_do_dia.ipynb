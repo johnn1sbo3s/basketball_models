{
 "cells": [
  {
   "cell_type": "code",
   "execution_count": 1,
   "id": "c097e27a",
   "metadata": {
    "execution": {
     "iopub.execute_input": "2024-02-20T13:48:42.701575Z",
     "iopub.status.busy": "2024-02-20T13:48:42.701575Z",
     "iopub.status.idle": "2024-02-20T13:48:42.715303Z",
     "shell.execute_reply": "2024-02-20T13:48:42.714098Z"
    },
    "papermill": {
     "duration": 0.018337,
     "end_time": "2024-02-20T13:48:42.716602",
     "exception": false,
     "start_time": "2024-02-20T13:48:42.698265",
     "status": "completed"
    },
    "tags": [
     "parameters"
    ]
   },
   "outputs": [],
   "source": [
    "dia = \"\""
   ]
  },
  {
   "cell_type": "code",
   "execution_count": 2,
   "id": "b6c3f44d",
   "metadata": {
    "execution": {
     "iopub.execute_input": "2024-02-20T13:48:42.721708Z",
     "iopub.status.busy": "2024-02-20T13:48:42.720698Z",
     "iopub.status.idle": "2024-02-20T13:48:42.729745Z",
     "shell.execute_reply": "2024-02-20T13:48:42.729745Z"
    },
    "papermill": {
     "duration": 0.013195,
     "end_time": "2024-02-20T13:48:42.731810",
     "exception": false,
     "start_time": "2024-02-20T13:48:42.718615",
     "status": "completed"
    },
    "tags": [
     "injected-parameters"
    ]
   },
   "outputs": [],
   "source": [
    "# Parameters\n",
    "dia = \"hoje\"\n"
   ]
  },
  {
   "cell_type": "code",
   "execution_count": 3,
   "id": "6ef356e6",
   "metadata": {
    "execution": {
     "iopub.execute_input": "2024-02-20T13:48:42.735858Z",
     "iopub.status.busy": "2024-02-20T13:48:42.735858Z",
     "iopub.status.idle": "2024-02-20T13:49:14.512582Z",
     "shell.execute_reply": "2024-02-20T13:49:14.512582Z"
    },
    "papermill": {
     "duration": 31.781932,
     "end_time": "2024-02-20T13:49:14.514753",
     "exception": false,
     "start_time": "2024-02-20T13:48:42.732821",
     "status": "completed"
    },
    "tags": []
   },
   "outputs": [
    {
     "name": "stderr",
     "output_type": "stream",
     "text": [
      "\r\n",
      "  0%|                                                                                                                                                                       | 0/10 [00:00<?, ?it/s]"
     ]
    },
    {
     "name": "stderr",
     "output_type": "stream",
     "text": [
      "\r\n",
      " 10%|███████████████▉                                                                                                                                               | 1/10 [00:05<00:46,  5.15s/it]"
     ]
    },
    {
     "name": "stderr",
     "output_type": "stream",
     "text": [
      "\r\n",
      " 20%|███████████████████████████████▊                                                                                                                               | 2/10 [00:06<00:23,  2.97s/it]"
     ]
    },
    {
     "name": "stderr",
     "output_type": "stream",
     "text": [
      "\r\n",
      " 30%|███████████████████████████████████████████████▋                                                                                                               | 3/10 [00:08<00:17,  2.50s/it]"
     ]
    },
    {
     "name": "stderr",
     "output_type": "stream",
     "text": [
      "\r\n",
      " 40%|███████████████████████████████████████████████████████████████▌                                                                                               | 4/10 [00:12<00:18,  3.09s/it]"
     ]
    },
    {
     "name": "stderr",
     "output_type": "stream",
     "text": [
      "\r\n",
      " 50%|███████████████████████████████████████████████████████████████████████████████▌                                                                               | 5/10 [00:14<00:13,  2.70s/it]"
     ]
    },
    {
     "name": "stderr",
     "output_type": "stream",
     "text": [
      "\r\n",
      " 60%|███████████████████████████████████████████████████████████████████████████████████████████████▍                                                               | 6/10 [00:16<00:09,  2.40s/it]"
     ]
    },
    {
     "name": "stderr",
     "output_type": "stream",
     "text": [
      "\r\n",
      " 70%|███████████████████████████████████████████████████████████████████████████████████████████████████████████████▎                                               | 7/10 [00:18<00:06,  2.27s/it]"
     ]
    },
    {
     "name": "stderr",
     "output_type": "stream",
     "text": [
      "\r\n",
      " 80%|███████████████████████████████████████████████████████████████████████████████████████████████████████████████████████████████▏                               | 8/10 [00:20<00:04,  2.10s/it]"
     ]
    },
    {
     "name": "stderr",
     "output_type": "stream",
     "text": [
      "\r\n",
      " 90%|███████████████████████████████████████████████████████████████████████████████████████████████████████████████████████████████████████████████                | 9/10 [00:21<00:02,  2.03s/it]"
     ]
    },
    {
     "name": "stderr",
     "output_type": "stream",
     "text": [
      "\r\n",
      "100%|██████████████████████████████████████████████████████████████████████████████████████████████████████████████████████████████████████████████████████████████| 10/10 [00:23<00:00,  2.00s/it]"
     ]
    },
    {
     "name": "stderr",
     "output_type": "stream",
     "text": [
      "\r\n",
      "100%|██████████████████████████████████████████████████████████████████████████████████████████████████████████████████████████████████████████████████████████████| 10/10 [00:23<00:00,  2.39s/it]"
     ]
    },
    {
     "name": "stderr",
     "output_type": "stream",
     "text": [
      "\n"
     ]
    }
   ],
   "source": [
    "import warnings\n",
    "warnings.filterwarnings('ignore')\n",
    "import pandas as pd; pd.set_option('display.max_columns', None)\n",
    "import time\n",
    "from datetime import date, timedelta\n",
    "from tqdm import tqdm\n",
    "from selenium.webdriver.common.by import By\n",
    "from selenium import webdriver\n",
    "from selenium.webdriver.common.keys import Keys\n",
    "import re\n",
    "import os\n",
    "import warnings\n",
    "warnings.filterwarnings('ignore')\n",
    "def clean_name(name):\n",
    "    name = re.sub(r'\\s*-.*$', '', name.strip())  # Remover informações extras\n",
    "    return name.title()  # Caso contrário, padronizar nome com letras maiúsculas iniciais\n",
    "def find_point_five(number):\n",
    "    # Converte o número em uma string\n",
    "    number_str = str(number)\n",
    "    # Verifica se a string termina com \".5\"\n",
    "    if number_str.endswith(\".5\"):\n",
    "        return True\n",
    "    else:\n",
    "        return False\n",
    "hoje = date.today()\n",
    "amanha = hoje + timedelta(days=1)\n",
    "\n",
    "BOOKIE_1 = 'Bet365'\n",
    "BOOKIE_2 = '1xBet'\n",
    "\n",
    "try:\n",
    "    if dia != 'amanha':\n",
    "        existentes = pd.read_csv(f'jogos_do_dia/{hoje}.csv')\n",
    "    else:\n",
    "        existentes = pd.read_csv(f'jogos_do_dia/{amanha}.csv')\n",
    "        \n",
    "    existentes = existentes['Fixture ID'].unique().tolist()\n",
    "except:\n",
    "    existentes = []\n",
    "# Instanciando o Objeto ChromeOptions\n",
    "options = webdriver.EdgeOptions()\n",
    "\n",
    "# Passando algumas opções para esse ChromeOptions\n",
    "options.add_argument('--headless')\n",
    "options.add_argument('--no-sandbox')\n",
    "options.add_argument('--disable-dev-shm-usage')\n",
    "options.add_argument('--log-level=3')\n",
    "\n",
    "# Criação do WebDriver do Chrome\n",
    "wd_Chrome = webdriver.Edge(options=options)\n",
    "\n",
    "# Com o WebDrive a gente consegue a pedir a página (URL)\n",
    "wd_Chrome.get(\"https://www.flashscore.com.br/basquete/\")\n",
    "time.sleep(2)\n",
    "\n",
    "# Para jogos do dia seguinte\n",
    "if dia == \"amanha\":\n",
    "    wd_Chrome.find_element(By.XPATH,'//*[@id=\"live-table\"]/div[1]/div[2]/div/button[3]').send_keys(Keys.ENTER)\n",
    "    time.sleep(2)\n",
    "\n",
    "# Pegando o ID dos Jogos\n",
    "id_jogos = []\n",
    "jogos = wd_Chrome.find_elements(By.CSS_SELECTOR,'div.event__match--scheduled')\n",
    "\n",
    "for i in jogos:\n",
    "    id_jogos.append(i.get_attribute(\"id\"))\n",
    "\n",
    "# Exemplo de ID de um jogo: 'g_1_Gb7buXVt'    \n",
    "id_jogos = [i[4:] for i in id_jogos]\n",
    "\n",
    "# Separando apenas os IDs de jogos que eu não peguei ainda\n",
    "if len(existentes) > 0:\n",
    "    id_jogos = [id for id in id_jogos if id not in existentes]\n",
    "\n",
    "base_jogos = pd.DataFrame({})\n",
    "\n",
    "for link in tqdm(id_jogos, total=len(id_jogos)):\n",
    "    wd_Chrome.get(f'https://www.flashscore.com.br/jogo/{link}/#/resumo-de-jogo/resumo-de-jogo')\n",
    "    \n",
    "    Odds_H = 0\n",
    "    Odds_A = 0\n",
    "    Over_Line = 0\n",
    "    Odds_Over = 0\n",
    "    Odds_Under = 0\n",
    "    HA_Line = 0\n",
    "    HA_Odds_H = 0\n",
    "    HA_Odds_A = 0\n",
    "    \n",
    "    # Pegando as Informacoes Básicas do Jogo\n",
    "    try:\n",
    "        Date = wd_Chrome.find_element(By.CSS_SELECTOR,'div.duelParticipant__startTime').text.split(' ')[0]\n",
    "        Time = wd_Chrome.find_element(By.CSS_SELECTOR,'div.duelParticipant__startTime').text.split(' ')[1]\n",
    "        Country = wd_Chrome.find_element(By.CSS_SELECTOR,'span.tournamentHeader__country').text.split(':')[0]\n",
    "        League = wd_Chrome.find_element(By.CSS_SELECTOR,'span.tournamentHeader__country')\n",
    "        League = League.find_element(By.CSS_SELECTOR,'a').text\n",
    "        Home = wd_Chrome.find_element(By.CSS_SELECTOR,'div.duelParticipant__home')\n",
    "        Home = Home.find_element(By.CSS_SELECTOR,'div.participant__participantName').text\n",
    "        Away = wd_Chrome.find_element(By.CSS_SELECTOR,'div.duelParticipant__away')\n",
    "        Away = Away.find_element(By.CSS_SELECTOR,'div.participant__participantName').text\n",
    "\n",
    "        Country = clean_name(Country)\n",
    "        League = clean_name(League)\n",
    "        League_name = Country + ' ' + League\n",
    "\n",
    "        # if League_name not in lista_ligas:\n",
    "        #     # Condição satisfeita, pula para a próxima iteração do loop\n",
    "        #     continue\n",
    "    \n",
    "        # Match Odds\n",
    "        wd_Chrome.get(f'https://www.flashscore.com.br/jogo/{link}/#/comparacao-de-odds/home-away/tr-incluindo-prol')\n",
    "        time.sleep(1)\n",
    "        celulas = wd_Chrome.find_elements(By.CSS_SELECTOR,'div.ui-table__row')\n",
    "        \n",
    "        for celula in celulas:\n",
    "            bookie = celula.find_element(By.CSS_SELECTOR,'img.prematchLogo')\n",
    "            bookie = bookie.get_attribute('title')\n",
    "            if ((bookie == BOOKIE_1)):\n",
    "                Odds_H = float(celula.find_elements(By.CSS_SELECTOR,'a.oddsCell__odd')[0].text)\n",
    "                Odds_A = float(celula.find_elements(By.CSS_SELECTOR,'a.oddsCell__odd')[1].text)\n",
    "                break\n",
    "            elif ((bookie == BOOKIE_2)):\n",
    "                Odds_H = float(celula.find_elements(By.CSS_SELECTOR,'a.oddsCell__odd')[0].text)\n",
    "                Odds_A = float(celula.find_elements(By.CSS_SELECTOR,'a.oddsCell__odd')[1].text)\n",
    "                break\n",
    "            else:\n",
    "                pass\n",
    "\n",
    "        if Odds_H == 0:\n",
    "            continue\n",
    "\n",
    "        # Over/Under\n",
    "        wd_Chrome.get(f'https://www.flashscore.com.br/jogo/{link}/#/comparacao-de-odds/acima-abaixo/tr-incluindo-prol')\n",
    "        time.sleep(1)\n",
    "        celulas = wd_Chrome.find_elements(By.CLASS_NAME,'ui-table__row')\n",
    "\n",
    "        for celula in celulas:\n",
    "            bookie = celula.find_element(By.CSS_SELECTOR, 'img.prematchLogo').get_attribute('title')\n",
    "            Odds_Over = float(celula.find_elements(By.TAG_NAME,'span')[1].text)\n",
    "            Over_Line = float(celula.find_elements(By.TAG_NAME,'span')[0].text)\n",
    "            if (((bookie == BOOKIE_1) and (Odds_Over >= 1.80) and find_point_five(Over_Line))):\n",
    "                Odds_Under = float(celula.find_elements(By.TAG_NAME,'span')[2].text)\n",
    "                break\n",
    "            elif (((bookie == BOOKIE_2) and (Odds_Over >= 1.80) and find_point_five(Over_Line))):\n",
    "                Odds_Under = float(celula.find_elements(By.TAG_NAME,'span')[2].text)\n",
    "                break\n",
    "            else:\n",
    "                Over_Line, Odds_Over, Odds_Under = 0, 0, 0                   \n",
    "                pass\n",
    "\n",
    "\n",
    "        # Handicap\n",
    "        wd_Chrome.get(f'https://www.flashscore.com.br/jogo/{link}/#/comparacao-de-odds/handicap-asiatico/tr-incluindo-prol')\n",
    "        time.sleep(1)\n",
    "        celulas = wd_Chrome.find_elements(By.CLASS_NAME,'ui-table__row')\n",
    "\n",
    "        for celula in celulas:\n",
    "            \n",
    "            HA_Line = float(celula.find_elements(By.TAG_NAME,'span')[0].text)\n",
    "            HA_Odds_H = float(celula.find_elements(By.TAG_NAME,'span')[1].text)\n",
    "\n",
    "            bookie = celula.find_element(By.CSS_SELECTOR, 'img.prematchLogo').get_attribute('title')\n",
    "            if ((bookie == BOOKIE_1 and HA_Odds_H >= 1.80) and (bookie == BOOKIE_1 and HA_Odds_H <= 2.10) and (find_point_five(HA_Line))):\n",
    "                HA_Odds_A = float(celula.find_elements(By.TAG_NAME,'span')[2].text)\n",
    "                break\n",
    "            elif ((bookie == BOOKIE_2 and HA_Odds_H >= 1.80) and (bookie == BOOKIE_2 and HA_Odds_H <= 2.10) and (find_point_five(HA_Line))):\n",
    "                HA_Odds_A = float(celula.find_elements(By.TAG_NAME,'span')[2].text)\n",
    "                break\n",
    "            else:\n",
    "                pass\n",
    "\n",
    "        # print(Date, Home, Over_Line, Odds_Over, Odds_Under, HA_Line, HA_Odds_H, HA_Odds_A)\n",
    "        # print()\n",
    "\n",
    "        base_jogos.loc[base_jogos.shape[0],['Fixture ID', 'Date','League','Time','Home','Away','Odds_H','Odds_A','Over_Line','Odds_Over','Odds_Under','HA_Line','HA_Odds_H','HA_Odds_A']] = [\n",
    "            link, Date, League_name, Time, Home, Away, Odds_H, Odds_A, Over_Line, Odds_Over, Odds_Under, HA_Line, HA_Odds_H, HA_Odds_A\n",
    "        ]\n",
    "    except:\n",
    "        continue\n",
    "\n",
    "wd_Chrome.quit()\n",
    "backup = base_jogos.copy()\n",
    "\n",
    "# Remove jogos sem odds\n",
    "if len(base_jogos) > 0:\n",
    "    base_jogos = base_jogos[base_jogos['Odds_H'] != 0]\n",
    "    base_jogos.reset_index(drop=True, inplace=True)\n",
    "\n",
    "    # Ajusta coluna de data\n",
    "    base_jogos['Date'] = pd.to_datetime(base_jogos['Date'], format='%d.%m.%Y')\n",
    "    base_jogos['Date'] = pd.to_datetime(base_jogos['Date']).dt.date\n",
    "\n",
    "    dia_jogos = base_jogos['Date'].iloc[0]\n",
    "\n",
    "    try:\n",
    "        existente = pd.read_csv(f'jogos_do_dia/{dia_jogos}.csv')\n",
    "        n_jogos_antes = existente.shape[0]\n",
    "        existente = pd.concat([existente, base_jogos])\n",
    "        existente = existente.drop_duplicates(subset=['Home', 'Away'], keep='first')\n",
    "        existente.reset_index(drop=True, inplace=True)\n",
    "        n_jogos_depois = existente.shape[0]\n",
    "        existente.to_csv(f'jogos_do_dia/{dia_jogos}.csv', index=False)\n",
    "        print(f'{n_jogos_depois - n_jogos_antes} jogos adicionados aos jogos do dia.')\n",
    "    except:\n",
    "        base_jogos.to_csv(f'jogos_do_dia/{dia_jogos}.csv', index=False)\n",
    "        display(base_jogos)"
   ]
  }
 ],
 "metadata": {
  "kernelspec": {
   "display_name": "football_models",
   "language": "python",
   "name": "python3"
  },
  "language_info": {
   "codemirror_mode": {
    "name": "ipython",
    "version": 3
   },
   "file_extension": ".py",
   "mimetype": "text/x-python",
   "name": "python",
   "nbconvert_exporter": "python",
   "pygments_lexer": "ipython3",
   "version": "3.10.7"
  },
  "papermill": {
   "default_parameters": {},
   "duration": 35.712739,
   "end_time": "2024-02-20T13:49:17.132126",
   "environment_variables": {},
   "exception": null,
   "input_path": "jogos_do_dia.ipynb",
   "output_path": "jogos_do_dia.ipynb",
   "parameters": {
    "dia": "hoje"
   },
   "start_time": "2024-02-20T13:48:41.419387",
   "version": "2.5.0"
  }
 },
 "nbformat": 4,
 "nbformat_minor": 5
}
