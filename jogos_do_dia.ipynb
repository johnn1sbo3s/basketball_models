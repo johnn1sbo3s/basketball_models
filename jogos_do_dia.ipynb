{
 "cells": [
  {
   "cell_type": "code",
   "execution_count": 1,
   "id": "c097e27a",
   "metadata": {
    "execution": {
     "iopub.execute_input": "2024-02-21T13:00:54.713565Z",
     "iopub.status.busy": "2024-02-21T13:00:54.713565Z",
     "iopub.status.idle": "2024-02-21T13:00:54.726769Z",
     "shell.execute_reply": "2024-02-21T13:00:54.726769Z"
    },
    "papermill": {
     "duration": 0.017438,
     "end_time": "2024-02-21T13:00:54.728442",
     "exception": false,
     "start_time": "2024-02-21T13:00:54.711004",
     "status": "completed"
    },
    "tags": [
     "parameters"
    ]
   },
   "outputs": [],
   "source": [
    "dia = \"\""
   ]
  },
  {
   "cell_type": "code",
   "execution_count": 2,
   "id": "d1b507d1",
   "metadata": {
    "execution": {
     "iopub.execute_input": "2024-02-21T13:00:54.731497Z",
     "iopub.status.busy": "2024-02-21T13:00:54.731497Z",
     "iopub.status.idle": "2024-02-21T13:00:54.742869Z",
     "shell.execute_reply": "2024-02-21T13:00:54.742869Z"
    },
    "papermill": {
     "duration": 0.013846,
     "end_time": "2024-02-21T13:00:54.744312",
     "exception": false,
     "start_time": "2024-02-21T13:00:54.730466",
     "status": "completed"
    },
    "tags": [
     "injected-parameters"
    ]
   },
   "outputs": [],
   "source": [
    "# Parameters\n",
    "dia = \"hoje\"\n"
   ]
  },
  {
   "cell_type": "code",
   "execution_count": 3,
   "id": "6ef356e6",
   "metadata": {
    "execution": {
     "iopub.execute_input": "2024-02-21T13:00:54.747367Z",
     "iopub.status.busy": "2024-02-21T13:00:54.747367Z",
     "iopub.status.idle": "2024-02-21T13:07:16.201812Z",
     "shell.execute_reply": "2024-02-21T13:07:16.200305Z"
    },
    "papermill": {
     "duration": 381.458535,
     "end_time": "2024-02-21T13:07:16.203856",
     "exception": false,
     "start_time": "2024-02-21T13:00:54.745321",
     "status": "completed"
    },
    "tags": []
   },
   "outputs": [
    {
     "name": "stderr",
     "output_type": "stream",
     "text": [
      "\r",
      "  0%|                                                                                           | 0/86 [00:00<?, ?it/s]"
     ]
    },
    {
     "name": "stderr",
     "output_type": "stream",
     "text": [
      "\r",
      "  1%|▉                                                                                  | 1/86 [00:02<02:52,  2.03s/it]"
     ]
    },
    {
     "name": "stderr",
     "output_type": "stream",
     "text": [
      "\r",
      "  2%|█▉                                                                                 | 2/86 [00:04<02:48,  2.01s/it]"
     ]
    },
    {
     "name": "stderr",
     "output_type": "stream",
     "text": [
      "\r",
      "  3%|██▉                                                                                | 3/86 [00:05<02:45,  1.99s/it]"
     ]
    },
    {
     "name": "stderr",
     "output_type": "stream",
     "text": [
      "\r",
      "  5%|███▊                                                                               | 4/86 [00:08<02:43,  2.00s/it]"
     ]
    },
    {
     "name": "stderr",
     "output_type": "stream",
     "text": [
      "\r",
      "  6%|████▊                                                                              | 5/86 [00:09<02:41,  2.00s/it]"
     ]
    },
    {
     "name": "stderr",
     "output_type": "stream",
     "text": [
      "\r",
      "  7%|█████▊                                                                             | 6/86 [00:11<02:39,  2.00s/it]"
     ]
    },
    {
     "name": "stderr",
     "output_type": "stream",
     "text": [
      "\r",
      "  8%|██████▊                                                                            | 7/86 [00:13<02:37,  2.00s/it]"
     ]
    },
    {
     "name": "stderr",
     "output_type": "stream",
     "text": [
      "\r",
      "  9%|███████▋                                                                           | 8/86 [00:16<02:36,  2.00s/it]"
     ]
    },
    {
     "name": "stderr",
     "output_type": "stream",
     "text": [
      "\r",
      " 10%|████████▋                                                                          | 9/86 [00:18<02:34,  2.00s/it]"
     ]
    },
    {
     "name": "stderr",
     "output_type": "stream",
     "text": [
      "\r",
      " 12%|█████████▌                                                                        | 10/86 [00:19<02:31,  2.00s/it]"
     ]
    },
    {
     "name": "stderr",
     "output_type": "stream",
     "text": [
      "\r",
      " 13%|██████████▍                                                                       | 11/86 [00:22<02:30,  2.00s/it]"
     ]
    },
    {
     "name": "stderr",
     "output_type": "stream",
     "text": [
      "\r",
      " 14%|███████████▍                                                                      | 12/86 [00:23<02:27,  2.00s/it]"
     ]
    },
    {
     "name": "stderr",
     "output_type": "stream",
     "text": [
      "\r",
      " 15%|████████████▍                                                                     | 13/86 [00:25<02:25,  2.00s/it]"
     ]
    },
    {
     "name": "stderr",
     "output_type": "stream",
     "text": [
      "\r",
      " 16%|█████████████▎                                                                    | 14/86 [00:27<02:22,  1.98s/it]"
     ]
    },
    {
     "name": "stderr",
     "output_type": "stream",
     "text": [
      "\r",
      " 17%|██████████████▎                                                                   | 15/86 [00:29<02:15,  1.91s/it]"
     ]
    },
    {
     "name": "stderr",
     "output_type": "stream",
     "text": [
      "\r",
      " 19%|███████████████▎                                                                  | 16/86 [00:31<02:15,  1.93s/it]"
     ]
    },
    {
     "name": "stderr",
     "output_type": "stream",
     "text": [
      "\r",
      " 20%|████████████████▏                                                                 | 17/86 [00:36<03:12,  2.79s/it]"
     ]
    },
    {
     "name": "stderr",
     "output_type": "stream",
     "text": [
      "\r",
      " 21%|█████████████████▏                                                                | 18/86 [00:41<04:04,  3.59s/it]"
     ]
    },
    {
     "name": "stderr",
     "output_type": "stream",
     "text": [
      "\r",
      " 22%|██████████████████                                                                | 19/86 [00:46<04:28,  4.00s/it]"
     ]
    },
    {
     "name": "stderr",
     "output_type": "stream",
     "text": [
      "\r",
      " 23%|███████████████████                                                               | 20/86 [00:51<04:44,  4.31s/it]"
     ]
    },
    {
     "name": "stderr",
     "output_type": "stream",
     "text": [
      "\r",
      " 24%|████████████████████                                                              | 21/86 [00:57<05:06,  4.72s/it]"
     ]
    },
    {
     "name": "stderr",
     "output_type": "stream",
     "text": [
      "\r",
      " 26%|████████████████████▉                                                             | 22/86 [01:03<05:22,  5.03s/it]"
     ]
    },
    {
     "name": "stderr",
     "output_type": "stream",
     "text": [
      "\r",
      " 27%|█████████████████████▉                                                            | 23/86 [01:08<05:26,  5.18s/it]"
     ]
    },
    {
     "name": "stderr",
     "output_type": "stream",
     "text": [
      "\r",
      " 28%|██████████████████████▉                                                           | 24/86 [01:13<05:17,  5.12s/it]"
     ]
    },
    {
     "name": "stderr",
     "output_type": "stream",
     "text": [
      "\r",
      " 29%|███████████████████████▊                                                          | 25/86 [01:19<05:30,  5.42s/it]"
     ]
    },
    {
     "name": "stderr",
     "output_type": "stream",
     "text": [
      "\r",
      " 30%|████████████████████████▊                                                         | 26/86 [01:25<05:32,  5.54s/it]"
     ]
    },
    {
     "name": "stderr",
     "output_type": "stream",
     "text": [
      "\r",
      " 31%|█████████████████████████▋                                                        | 27/86 [01:30<05:17,  5.39s/it]"
     ]
    },
    {
     "name": "stderr",
     "output_type": "stream",
     "text": [
      "\r",
      " 33%|██████████████████████████▋                                                       | 28/86 [01:35<05:08,  5.31s/it]"
     ]
    },
    {
     "name": "stderr",
     "output_type": "stream",
     "text": [
      "\r",
      " 34%|███████████████████████████▋                                                      | 29/86 [01:41<05:11,  5.46s/it]"
     ]
    },
    {
     "name": "stderr",
     "output_type": "stream",
     "text": [
      "\r",
      " 35%|████████████████████████████▌                                                     | 30/86 [01:46<05:01,  5.39s/it]"
     ]
    },
    {
     "name": "stderr",
     "output_type": "stream",
     "text": [
      "\r",
      " 36%|█████████████████████████████▌                                                    | 31/86 [01:51<04:49,  5.26s/it]"
     ]
    },
    {
     "name": "stderr",
     "output_type": "stream",
     "text": [
      "\r",
      " 37%|██████████████████████████████▌                                                   | 32/86 [01:56<04:40,  5.20s/it]"
     ]
    },
    {
     "name": "stderr",
     "output_type": "stream",
     "text": [
      "\r",
      " 38%|███████████████████████████████▍                                                  | 33/86 [02:01<04:31,  5.12s/it]"
     ]
    },
    {
     "name": "stderr",
     "output_type": "stream",
     "text": [
      "\r",
      " 40%|████████████████████████████████▍                                                 | 34/86 [02:07<04:28,  5.16s/it]"
     ]
    },
    {
     "name": "stderr",
     "output_type": "stream",
     "text": [
      "\r",
      " 41%|█████████████████████████████████▎                                                | 35/86 [02:12<04:21,  5.13s/it]"
     ]
    },
    {
     "name": "stderr",
     "output_type": "stream",
     "text": [
      "\r",
      " 42%|██████████████████████████████████▎                                               | 36/86 [02:17<04:18,  5.16s/it]"
     ]
    },
    {
     "name": "stderr",
     "output_type": "stream",
     "text": [
      "\r",
      " 43%|███████████████████████████████████▎                                              | 37/86 [02:23<04:20,  5.32s/it]"
     ]
    },
    {
     "name": "stderr",
     "output_type": "stream",
     "text": [
      "\r",
      " 44%|████████████████████████████████████▏                                             | 38/86 [02:28<04:18,  5.38s/it]"
     ]
    },
    {
     "name": "stderr",
     "output_type": "stream",
     "text": [
      "\r",
      " 45%|█████████████████████████████████████▏                                            | 39/86 [02:33<04:07,  5.27s/it]"
     ]
    },
    {
     "name": "stderr",
     "output_type": "stream",
     "text": [
      "\r",
      " 47%|██████████████████████████████████████▏                                           | 40/86 [02:39<04:12,  5.49s/it]"
     ]
    },
    {
     "name": "stderr",
     "output_type": "stream",
     "text": [
      "\r",
      " 48%|███████████████████████████████████████                                           | 41/86 [02:45<04:10,  5.57s/it]"
     ]
    },
    {
     "name": "stderr",
     "output_type": "stream",
     "text": [
      "\r",
      " 49%|████████████████████████████████████████                                          | 42/86 [02:50<03:58,  5.42s/it]"
     ]
    },
    {
     "name": "stderr",
     "output_type": "stream",
     "text": [
      "\r",
      " 50%|█████████████████████████████████████████                                         | 43/86 [02:56<03:58,  5.54s/it]"
     ]
    },
    {
     "name": "stderr",
     "output_type": "stream",
     "text": [
      "\r",
      " 51%|█████████████████████████████████████████▉                                        | 44/86 [03:01<03:48,  5.45s/it]"
     ]
    },
    {
     "name": "stderr",
     "output_type": "stream",
     "text": [
      "\r",
      " 52%|██████████████████████████████████████████▉                                       | 45/86 [03:06<03:40,  5.38s/it]"
     ]
    },
    {
     "name": "stderr",
     "output_type": "stream",
     "text": [
      "\r",
      " 53%|███████████████████████████████████████████▊                                      | 46/86 [03:11<03:30,  5.27s/it]"
     ]
    },
    {
     "name": "stderr",
     "output_type": "stream",
     "text": [
      "\r",
      " 55%|████████████████████████████████████████████▊                                     | 47/86 [03:17<03:31,  5.42s/it]"
     ]
    },
    {
     "name": "stderr",
     "output_type": "stream",
     "text": [
      "\r",
      " 56%|█████████████████████████████████████████████▊                                    | 48/86 [03:23<03:29,  5.52s/it]"
     ]
    },
    {
     "name": "stderr",
     "output_type": "stream",
     "text": [
      "\r",
      " 57%|██████████████████████████████████████████████▋                                   | 49/86 [03:28<03:15,  5.27s/it]"
     ]
    },
    {
     "name": "stderr",
     "output_type": "stream",
     "text": [
      "\r",
      " 58%|███████████████████████████████████████████████▋                                  | 50/86 [03:33<03:07,  5.20s/it]"
     ]
    },
    {
     "name": "stderr",
     "output_type": "stream",
     "text": [
      "\r",
      " 59%|████████████████████████████████████████████████▋                                 | 51/86 [03:38<03:02,  5.22s/it]"
     ]
    },
    {
     "name": "stderr",
     "output_type": "stream",
     "text": [
      "\r",
      " 60%|█████████████████████████████████████████████████▌                                | 52/86 [03:43<02:57,  5.21s/it]"
     ]
    },
    {
     "name": "stderr",
     "output_type": "stream",
     "text": [
      "\r",
      " 62%|██████████████████████████████████████████████████▌                               | 53/86 [03:48<02:54,  5.29s/it]"
     ]
    },
    {
     "name": "stderr",
     "output_type": "stream",
     "text": [
      "\r",
      " 63%|███████████████████████████████████████████████████▍                              | 54/86 [03:54<02:51,  5.36s/it]"
     ]
    },
    {
     "name": "stderr",
     "output_type": "stream",
     "text": [
      "\r",
      " 64%|████████████████████████████████████████████████████▍                             | 55/86 [04:00<02:55,  5.67s/it]"
     ]
    },
    {
     "name": "stderr",
     "output_type": "stream",
     "text": [
      "\r",
      " 65%|█████████████████████████████████████████████████████▍                            | 56/86 [04:05<02:44,  5.47s/it]"
     ]
    },
    {
     "name": "stderr",
     "output_type": "stream",
     "text": [
      "\r",
      " 66%|██████████████████████████████████████████████████████▎                           | 57/86 [04:10<02:32,  5.25s/it]"
     ]
    },
    {
     "name": "stderr",
     "output_type": "stream",
     "text": [
      "\r",
      " 67%|███████████████████████████████████████████████████████▎                          | 58/86 [04:15<02:26,  5.24s/it]"
     ]
    },
    {
     "name": "stderr",
     "output_type": "stream",
     "text": [
      "\r",
      " 69%|████████████████████████████████████████████████████████▎                         | 59/86 [04:21<02:25,  5.40s/it]"
     ]
    },
    {
     "name": "stderr",
     "output_type": "stream",
     "text": [
      "\r",
      " 70%|█████████████████████████████████████████████████████████▏                        | 60/86 [04:27<02:21,  5.45s/it]"
     ]
    },
    {
     "name": "stderr",
     "output_type": "stream",
     "text": [
      "\r",
      " 71%|██████████████████████████████████████████████████████████▏                       | 61/86 [04:31<02:10,  5.21s/it]"
     ]
    },
    {
     "name": "stderr",
     "output_type": "stream",
     "text": [
      "\r",
      " 72%|███████████████████████████████████████████████████████████                       | 62/86 [04:36<02:02,  5.08s/it]"
     ]
    },
    {
     "name": "stderr",
     "output_type": "stream",
     "text": [
      "\r",
      " 73%|████████████████████████████████████████████████████████████                      | 63/86 [04:38<01:35,  4.15s/it]"
     ]
    },
    {
     "name": "stderr",
     "output_type": "stream",
     "text": [
      "\r",
      " 74%|█████████████████████████████████████████████████████████████                     | 64/86 [04:40<01:15,  3.45s/it]"
     ]
    },
    {
     "name": "stderr",
     "output_type": "stream",
     "text": [
      "\r",
      " 76%|█████████████████████████████████████████████████████████████▉                    | 65/86 [04:44<01:19,  3.77s/it]"
     ]
    },
    {
     "name": "stderr",
     "output_type": "stream",
     "text": [
      "\r",
      " 77%|██████████████████████████████████████████████████████████████▉                   | 66/86 [04:49<01:20,  4.02s/it]"
     ]
    },
    {
     "name": "stderr",
     "output_type": "stream",
     "text": [
      "\r",
      " 78%|███████████████████████████████████████████████████████████████▉                  | 67/86 [04:53<01:17,  4.09s/it]"
     ]
    },
    {
     "name": "stderr",
     "output_type": "stream",
     "text": [
      "\r",
      " 79%|████████████████████████████████████████████████████████████████▊                 | 68/86 [04:58<01:16,  4.23s/it]"
     ]
    },
    {
     "name": "stderr",
     "output_type": "stream",
     "text": [
      "\r",
      " 80%|█████████████████████████████████████████████████████████████████▊                | 69/86 [05:03<01:14,  4.40s/it]"
     ]
    },
    {
     "name": "stderr",
     "output_type": "stream",
     "text": [
      "\r",
      " 81%|██████████████████████████████████████████████████████████████████▋               | 70/86 [05:07<01:11,  4.50s/it]"
     ]
    },
    {
     "name": "stderr",
     "output_type": "stream",
     "text": [
      "\r",
      " 83%|███████████████████████████████████████████████████████████████████▋              | 71/86 [05:12<01:08,  4.55s/it]"
     ]
    },
    {
     "name": "stderr",
     "output_type": "stream",
     "text": [
      "\r",
      " 84%|████████████████████████████████████████████████████████████████████▋             | 72/86 [05:17<01:06,  4.72s/it]"
     ]
    },
    {
     "name": "stderr",
     "output_type": "stream",
     "text": [
      "\r",
      " 85%|█████████████████████████████████████████████████████████████████████▌            | 73/86 [05:22<01:00,  4.67s/it]"
     ]
    },
    {
     "name": "stderr",
     "output_type": "stream",
     "text": [
      "\r",
      " 86%|██████████████████████████████████████████████████████████████████████▌           | 74/86 [05:26<00:54,  4.57s/it]"
     ]
    },
    {
     "name": "stderr",
     "output_type": "stream",
     "text": [
      "\r",
      " 87%|███████████████████████████████████████████████████████████████████████▌          | 75/86 [05:31<00:49,  4.53s/it]"
     ]
    },
    {
     "name": "stderr",
     "output_type": "stream",
     "text": [
      "\r",
      " 88%|████████████████████████████████████████████████████████████████████████▍         | 76/86 [05:35<00:46,  4.61s/it]"
     ]
    },
    {
     "name": "stderr",
     "output_type": "stream",
     "text": [
      "\r",
      " 90%|█████████████████████████████████████████████████████████████████████████▍        | 77/86 [05:40<00:41,  4.66s/it]"
     ]
    },
    {
     "name": "stderr",
     "output_type": "stream",
     "text": [
      "\r",
      " 91%|██████████████████████████████████████████████████████████████████████████▎       | 78/86 [05:45<00:37,  4.69s/it]"
     ]
    },
    {
     "name": "stderr",
     "output_type": "stream",
     "text": [
      "\r",
      " 92%|███████████████████████████████████████████████████████████████████████████▎      | 79/86 [05:49<00:31,  4.57s/it]"
     ]
    },
    {
     "name": "stderr",
     "output_type": "stream",
     "text": [
      "\r",
      " 93%|████████████████████████████████████████████████████████████████████████████▎     | 80/86 [05:51<00:22,  3.73s/it]"
     ]
    },
    {
     "name": "stderr",
     "output_type": "stream",
     "text": [
      "\r",
      " 94%|█████████████████████████████████████████████████████████████████████████████▏    | 81/86 [05:53<00:15,  3.18s/it]"
     ]
    },
    {
     "name": "stderr",
     "output_type": "stream",
     "text": [
      "\r",
      " 95%|██████████████████████████████████████████████████████████████████████████████▏   | 82/86 [05:58<00:15,  3.76s/it]"
     ]
    },
    {
     "name": "stderr",
     "output_type": "stream",
     "text": [
      "\r",
      " 97%|███████████████████████████████████████████████████████████████████████████████▏  | 83/86 [06:02<00:11,  3.99s/it]"
     ]
    },
    {
     "name": "stderr",
     "output_type": "stream",
     "text": [
      "\r",
      " 98%|████████████████████████████████████████████████████████████████████████████████  | 84/86 [06:07<00:08,  4.09s/it]"
     ]
    },
    {
     "name": "stderr",
     "output_type": "stream",
     "text": [
      "\r",
      " 99%|█████████████████████████████████████████████████████████████████████████████████ | 85/86 [06:11<00:04,  4.15s/it]"
     ]
    },
    {
     "name": "stderr",
     "output_type": "stream",
     "text": [
      "\r",
      "100%|██████████████████████████████████████████████████████████████████████████████████| 86/86 [06:13<00:00,  3.50s/it]"
     ]
    },
    {
     "name": "stderr",
     "output_type": "stream",
     "text": [
      "\r",
      "100%|██████████████████████████████████████████████████████████████████████████████████| 86/86 [06:13<00:00,  4.34s/it]"
     ]
    },
    {
     "name": "stderr",
     "output_type": "stream",
     "text": [
      "\n"
     ]
    },
    {
     "name": "stdout",
     "output_type": "stream",
     "text": [
      "5 jogos adicionados aos jogos do dia.\n"
     ]
    }
   ],
   "source": [
    "import warnings\n",
    "warnings.filterwarnings('ignore')\n",
    "import pandas as pd; pd.set_option('display.max_columns', None)\n",
    "import time\n",
    "from datetime import date, timedelta\n",
    "from tqdm import tqdm\n",
    "from selenium.webdriver.common.by import By\n",
    "from selenium import webdriver\n",
    "from selenium.webdriver.common.keys import Keys\n",
    "import re\n",
    "import os\n",
    "import warnings\n",
    "warnings.filterwarnings('ignore')\n",
    "def clean_name(name):\n",
    "    name = re.sub(r'\\s*-.*$', '', name.strip())  # Remover informações extras\n",
    "    return name.title()  # Caso contrário, padronizar nome com letras maiúsculas iniciais\n",
    "def find_point_five(number):\n",
    "    # Converte o número em uma string\n",
    "    number_str = str(number)\n",
    "    # Verifica se a string termina com \".5\"\n",
    "    if number_str.endswith(\".5\"):\n",
    "        return True\n",
    "    else:\n",
    "        return False\n",
    "hoje = date.today()\n",
    "amanha = hoje + timedelta(days=1)\n",
    "\n",
    "BOOKIE_1 = 'Bet365'\n",
    "BOOKIE_2 = '1xBet'\n",
    "\n",
    "try:\n",
    "    if dia != 'amanha':\n",
    "        existentes = pd.read_csv(f'jogos_do_dia/{hoje}.csv')\n",
    "    else:\n",
    "        existentes = pd.read_csv(f'jogos_do_dia/{amanha}.csv')\n",
    "        \n",
    "    existentes = existentes['Fixture ID'].unique().tolist()\n",
    "except:\n",
    "    existentes = []\n",
    "# Instanciando o Objeto ChromeOptions\n",
    "options = webdriver.EdgeOptions()\n",
    "\n",
    "# Passando algumas opções para esse ChromeOptions\n",
    "options.add_argument('--headless')\n",
    "options.add_argument('--no-sandbox')\n",
    "options.add_argument('--disable-dev-shm-usage')\n",
    "options.add_argument('--log-level=3')\n",
    "\n",
    "# Criação do WebDriver do Chrome\n",
    "wd_Chrome = webdriver.Edge(options=options)\n",
    "\n",
    "# Com o WebDrive a gente consegue a pedir a página (URL)\n",
    "wd_Chrome.get(\"https://www.flashscore.com.br/basquete/\")\n",
    "time.sleep(2)\n",
    "\n",
    "# Para jogos do dia seguinte\n",
    "if dia == \"amanha\":\n",
    "    wd_Chrome.find_element(By.XPATH,'//*[@id=\"live-table\"]/div[1]/div[2]/div/button[3]').send_keys(Keys.ENTER)\n",
    "    time.sleep(2)\n",
    "\n",
    "# Pegando o ID dos Jogos\n",
    "id_jogos = []\n",
    "jogos = wd_Chrome.find_elements(By.CSS_SELECTOR,'div.event__match--scheduled')\n",
    "\n",
    "for i in jogos:\n",
    "    id_jogos.append(i.get_attribute(\"id\"))\n",
    "\n",
    "# Exemplo de ID de um jogo: 'g_1_Gb7buXVt'    \n",
    "id_jogos = [i[4:] for i in id_jogos]\n",
    "\n",
    "# Separando apenas os IDs de jogos que eu não peguei ainda\n",
    "if len(existentes) > 0:\n",
    "    id_jogos = [id for id in id_jogos if id not in existentes]\n",
    "\n",
    "base_jogos = pd.DataFrame({})\n",
    "\n",
    "for link in tqdm(id_jogos, total=len(id_jogos)):\n",
    "    wd_Chrome.get(f'https://www.flashscore.com.br/jogo/{link}/#/resumo-de-jogo/resumo-de-jogo')\n",
    "    \n",
    "    Odds_H = 0\n",
    "    Odds_A = 0\n",
    "    Over_Line = 0\n",
    "    Odds_Over = 0\n",
    "    Odds_Under = 0\n",
    "    HA_Line = 0\n",
    "    HA_Odds_H = 0\n",
    "    HA_Odds_A = 0\n",
    "    \n",
    "    # Pegando as Informacoes Básicas do Jogo\n",
    "    try:\n",
    "        Date = wd_Chrome.find_element(By.CSS_SELECTOR,'div.duelParticipant__startTime').text.split(' ')[0]\n",
    "        Time = wd_Chrome.find_element(By.CSS_SELECTOR,'div.duelParticipant__startTime').text.split(' ')[1]\n",
    "        Country = wd_Chrome.find_element(By.CSS_SELECTOR,'span.tournamentHeader__country').text.split(':')[0]\n",
    "        League = wd_Chrome.find_element(By.CSS_SELECTOR,'span.tournamentHeader__country')\n",
    "        League = League.find_element(By.CSS_SELECTOR,'a').text\n",
    "        Home = wd_Chrome.find_element(By.CSS_SELECTOR,'div.duelParticipant__home')\n",
    "        Home = Home.find_element(By.CSS_SELECTOR,'div.participant__participantName').text\n",
    "        Away = wd_Chrome.find_element(By.CSS_SELECTOR,'div.duelParticipant__away')\n",
    "        Away = Away.find_element(By.CSS_SELECTOR,'div.participant__participantName').text\n",
    "\n",
    "        Country = clean_name(Country)\n",
    "        League = clean_name(League)\n",
    "        League_name = Country + ' ' + League\n",
    "\n",
    "        # if League_name not in lista_ligas:\n",
    "        #     # Condição satisfeita, pula para a próxima iteração do loop\n",
    "        #     continue\n",
    "    \n",
    "        # Match Odds\n",
    "        wd_Chrome.get(f'https://www.flashscore.com.br/jogo/{link}/#/comparacao-de-odds/home-away/tr-incluindo-prol')\n",
    "        time.sleep(1)\n",
    "        celulas = wd_Chrome.find_elements(By.CSS_SELECTOR,'div.ui-table__row')\n",
    "        \n",
    "        for celula in celulas:\n",
    "            bookie = celula.find_element(By.CSS_SELECTOR,'img.prematchLogo')\n",
    "            bookie = bookie.get_attribute('title')\n",
    "            if ((bookie == BOOKIE_1)):\n",
    "                Odds_H = float(celula.find_elements(By.CSS_SELECTOR,'a.oddsCell__odd')[0].text)\n",
    "                Odds_A = float(celula.find_elements(By.CSS_SELECTOR,'a.oddsCell__odd')[1].text)\n",
    "                break\n",
    "            elif ((bookie == BOOKIE_2)):\n",
    "                Odds_H = float(celula.find_elements(By.CSS_SELECTOR,'a.oddsCell__odd')[0].text)\n",
    "                Odds_A = float(celula.find_elements(By.CSS_SELECTOR,'a.oddsCell__odd')[1].text)\n",
    "                break\n",
    "            else:\n",
    "                pass\n",
    "\n",
    "        if Odds_H == 0:\n",
    "            continue\n",
    "\n",
    "        # Over/Under\n",
    "        wd_Chrome.get(f'https://www.flashscore.com.br/jogo/{link}/#/comparacao-de-odds/acima-abaixo/tr-incluindo-prol')\n",
    "        time.sleep(1)\n",
    "        celulas = wd_Chrome.find_elements(By.CLASS_NAME,'ui-table__row')\n",
    "\n",
    "        for celula in celulas:\n",
    "            bookie = celula.find_element(By.CSS_SELECTOR, 'img.prematchLogo').get_attribute('title')\n",
    "            Odds_Over = float(celula.find_elements(By.TAG_NAME,'span')[1].text)\n",
    "            Over_Line = float(celula.find_elements(By.TAG_NAME,'span')[0].text)\n",
    "            if (((bookie == BOOKIE_1) and (Odds_Over >= 1.80) and find_point_five(Over_Line))):\n",
    "                Odds_Under = float(celula.find_elements(By.TAG_NAME,'span')[2].text)\n",
    "                break\n",
    "            elif (((bookie == BOOKIE_2) and (Odds_Over >= 1.80) and find_point_five(Over_Line))):\n",
    "                Odds_Under = float(celula.find_elements(By.TAG_NAME,'span')[2].text)\n",
    "                break\n",
    "            else:\n",
    "                Over_Line, Odds_Over, Odds_Under = 0, 0, 0                   \n",
    "                pass\n",
    "\n",
    "\n",
    "        # Handicap\n",
    "        wd_Chrome.get(f'https://www.flashscore.com.br/jogo/{link}/#/comparacao-de-odds/handicap-asiatico/tr-incluindo-prol')\n",
    "        time.sleep(1)\n",
    "        celulas = wd_Chrome.find_elements(By.CLASS_NAME,'ui-table__row')\n",
    "\n",
    "        for celula in celulas:\n",
    "            \n",
    "            HA_Line = float(celula.find_elements(By.TAG_NAME,'span')[0].text)\n",
    "            HA_Odds_H = float(celula.find_elements(By.TAG_NAME,'span')[1].text)\n",
    "\n",
    "            bookie = celula.find_element(By.CSS_SELECTOR, 'img.prematchLogo').get_attribute('title')\n",
    "            if ((bookie == BOOKIE_1 and HA_Odds_H >= 1.80) and (bookie == BOOKIE_1 and HA_Odds_H <= 2.10) and (find_point_five(HA_Line))):\n",
    "                HA_Odds_A = float(celula.find_elements(By.TAG_NAME,'span')[2].text)\n",
    "                break\n",
    "            elif ((bookie == BOOKIE_2 and HA_Odds_H >= 1.80) and (bookie == BOOKIE_2 and HA_Odds_H <= 2.10) and (find_point_five(HA_Line))):\n",
    "                HA_Odds_A = float(celula.find_elements(By.TAG_NAME,'span')[2].text)\n",
    "                break\n",
    "            else:\n",
    "                pass\n",
    "\n",
    "        # print(Date, Home, Over_Line, Odds_Over, Odds_Under, HA_Line, HA_Odds_H, HA_Odds_A)\n",
    "        # print()\n",
    "\n",
    "        base_jogos.loc[base_jogos.shape[0],['Fixture ID', 'Date','League','Time','Home','Away','Odds_H','Odds_A','Over_Line','Odds_Over','Odds_Under','HA_Line','HA_Odds_H','HA_Odds_A']] = [\n",
    "            link, Date, League_name, Time, Home, Away, Odds_H, Odds_A, Over_Line, Odds_Over, Odds_Under, HA_Line, HA_Odds_H, HA_Odds_A\n",
    "        ]\n",
    "    except:\n",
    "        continue\n",
    "\n",
    "wd_Chrome.quit()\n",
    "backup = base_jogos.copy()\n",
    "\n",
    "# Remove jogos sem odds\n",
    "if len(base_jogos) > 0:\n",
    "    base_jogos = base_jogos[base_jogos['Odds_H'] != 0]\n",
    "    base_jogos.reset_index(drop=True, inplace=True)\n",
    "\n",
    "    # Ajusta coluna de data\n",
    "    base_jogos['Date'] = pd.to_datetime(base_jogos['Date'], format='%d.%m.%Y')\n",
    "    base_jogos['Date'] = pd.to_datetime(base_jogos['Date']).dt.date\n",
    "\n",
    "    dia_jogos = base_jogos['Date'].iloc[0]\n",
    "\n",
    "    try:\n",
    "        existente = pd.read_csv(f'jogos_do_dia/{dia_jogos}.csv')\n",
    "        n_jogos_antes = existente.shape[0]\n",
    "        existente = pd.concat([existente, base_jogos])\n",
    "        existente = existente.drop_duplicates(subset=['Home', 'Away'], keep='first')\n",
    "        existente.reset_index(drop=True, inplace=True)\n",
    "        n_jogos_depois = existente.shape[0]\n",
    "        existente.to_csv(f'jogos_do_dia/{dia_jogos}.csv', index=False)\n",
    "        print(f'{n_jogos_depois - n_jogos_antes} jogos adicionados aos jogos do dia.')\n",
    "    except:\n",
    "        base_jogos.to_csv(f'jogos_do_dia/{dia_jogos}.csv', index=False)\n",
    "        display(base_jogos)"
   ]
  }
 ],
 "metadata": {
  "kernelspec": {
   "display_name": "football_models",
   "language": "python",
   "name": "python3"
  },
  "language_info": {
   "codemirror_mode": {
    "name": "ipython",
    "version": 3
   },
   "file_extension": ".py",
   "mimetype": "text/x-python",
   "name": "python",
   "nbconvert_exporter": "python",
   "pygments_lexer": "ipython3",
   "version": "3.10.7"
  },
  "papermill": {
   "default_parameters": {},
   "duration": 385.41462,
   "end_time": "2024-02-21T13:07:18.847327",
   "environment_variables": {},
   "exception": null,
   "input_path": "jogos_do_dia.ipynb",
   "output_path": "jogos_do_dia.ipynb",
   "parameters": {
    "dia": "hoje"
   },
   "start_time": "2024-02-21T13:00:53.432707",
   "version": "2.5.0"
  }
 },
 "nbformat": 4,
 "nbformat_minor": 5
}