{
 "cells": [
  {
   "cell_type": "code",
   "execution_count": 4,
   "metadata": {},
   "outputs": [
    {
     "data": {
      "application/vnd.jupyter.widget-view+json": {
       "model_id": "1c37357657774bd4a781aee9d338f2db",
       "version_major": 2,
       "version_minor": 0
      },
      "text/plain": [
       "Executing:   0%|          | 0/1 [00:00<?, ?cell/s]"
      ]
     },
     "metadata": {},
     "output_type": "display_data"
    },
    {
     "data": {
      "application/vnd.jupyter.widget-view+json": {
       "model_id": "ec107a62adb6483784a663e946dd9d29",
       "version_major": 2,
       "version_minor": 0
      },
      "text/plain": [
       "Executing:   0%|          | 0/1 [00:00<?, ?cell/s]"
      ]
     },
     "metadata": {},
     "output_type": "display_data"
    },
    {
     "data": {
      "application/vnd.jupyter.widget-view+json": {
       "model_id": "e85c1142c8aa4008b4527d5c7e51df85",
       "version_major": 2,
       "version_minor": 0
      },
      "text/plain": [
       "Executing:   0%|          | 0/1 [00:00<?, ?cell/s]"
      ]
     },
     "metadata": {},
     "output_type": "display_data"
    },
    {
     "data": {
      "application/vnd.jupyter.widget-view+json": {
       "model_id": "71c6016b7736444db9e77e2ea8034794",
       "version_major": 2,
       "version_minor": 0
      },
      "text/plain": [
       "Executing:   0%|          | 0/1 [00:00<?, ?cell/s]"
      ]
     },
     "metadata": {},
     "output_type": "display_data"
    },
    {
     "data": {
      "application/vnd.jupyter.widget-view+json": {
       "model_id": "7180ef7eb8e849089f19b48e1876c604",
       "version_major": 2,
       "version_minor": 0
      },
      "text/plain": [
       "Executing:   0%|          | 0/1 [00:00<?, ?cell/s]"
      ]
     },
     "metadata": {},
     "output_type": "display_data"
    },
    {
     "name": "stdout",
     "output_type": "stream",
     "text": [
      "Execução concluída.\n",
      "Última atualização: 15/12/2023 09:22:01\n"
     ]
    }
   ],
   "source": [
    "import papermill\n",
    "import glob\n",
    "import time\n",
    "\n",
    "# Lista de notebooks a serem executados\n",
    "notebooks_to_run = glob.glob('acp_metodos/*ipynb')\n",
    "\n",
    "# Diretório de saída para os notebooks executados\n",
    "output_dir = ''\n",
    "\n",
    "for notebook in notebooks_to_run:\n",
    "    input_notebook = notebook\n",
    "    output_notebook = f\"{output_dir}{notebook}\"\n",
    "\n",
    "    # Execute o notebook com o Papermill\n",
    "    papermill.execute_notebook(\n",
    "        input_notebook,\n",
    "        output_notebook,\n",
    "        # parameters=parameters\n",
    "    )\n",
    "\n",
    "print(\"Execução concluída.\")\n",
    "print(f\"Última atualização: \" + time.strftime(\"%d/%m/%Y %H:%M:%S\"))"
   ]
  }
 ],
 "metadata": {
  "kernelspec": {
   "display_name": "Python 3",
   "language": "python",
   "name": "python3"
  },
  "language_info": {
   "codemirror_mode": {
    "name": "ipython",
    "version": 3
   },
   "file_extension": ".py",
   "mimetype": "text/x-python",
   "name": "python",
   "nbconvert_exporter": "python",
   "pygments_lexer": "ipython3",
   "version": "3.10.7"
  }
 },
 "nbformat": 4,
 "nbformat_minor": 2
}
