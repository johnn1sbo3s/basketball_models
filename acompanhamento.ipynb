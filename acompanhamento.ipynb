{
 "cells": [
  {
   "cell_type": "code",
   "execution_count": 1,
   "metadata": {},
   "outputs": [
    {
     "data": {
      "application/vnd.jupyter.widget-view+json": {
       "model_id": "c886bddf29e2452f9e76815021be9968",
       "version_major": 2,
       "version_minor": 0
      },
      "text/plain": [
       "Executing:   0%|          | 0/1 [00:00<?, ?cell/s]"
      ]
     },
     "metadata": {},
     "output_type": "display_data"
    },
    {
     "data": {
      "application/vnd.jupyter.widget-view+json": {
       "model_id": "157a8a04915c44e597365b7d3286aa46",
       "version_major": 2,
       "version_minor": 0
      },
      "text/plain": [
       "Executing:   0%|          | 0/1 [00:00<?, ?cell/s]"
      ]
     },
     "metadata": {},
     "output_type": "display_data"
    },
    {
     "data": {
      "application/vnd.jupyter.widget-view+json": {
       "model_id": "89d27000668d4c6586b1997348448d24",
       "version_major": 2,
       "version_minor": 0
      },
      "text/plain": [
       "Executing:   0%|          | 0/1 [00:00<?, ?cell/s]"
      ]
     },
     "metadata": {},
     "output_type": "display_data"
    },
    {
     "data": {
      "application/vnd.jupyter.widget-view+json": {
       "model_id": "78e3b2cb834d48129f99c82b4cf9aa25",
       "version_major": 2,
       "version_minor": 0
      },
      "text/plain": [
       "Executing:   0%|          | 0/1 [00:00<?, ?cell/s]"
      ]
     },
     "metadata": {},
     "output_type": "display_data"
    },
    {
     "data": {
      "application/vnd.jupyter.widget-view+json": {
       "model_id": "ae5154472f6c49e4ad0906ebb7a4a903",
       "version_major": 2,
       "version_minor": 0
      },
      "text/plain": [
       "Executing:   0%|          | 0/1 [00:00<?, ?cell/s]"
      ]
     },
     "metadata": {},
     "output_type": "display_data"
    },
    {
     "name": "stdout",
     "output_type": "stream",
     "text": [
      "Execução concluída.\n",
      "Última atualização: 08/01/2024 09:11:34\n"
     ]
    }
   ],
   "source": [
    "import papermill\n",
    "import glob\n",
    "import time\n",
    "\n",
    "# Lista de notebooks a serem executados\n",
    "notebooks_to_run = glob.glob('acp_metodos/*ipynb')\n",
    "\n",
    "# Diretório de saída para os notebooks executados\n",
    "output_dir = ''\n",
    "\n",
    "for notebook in notebooks_to_run:\n",
    "    input_notebook = notebook\n",
    "    output_notebook = f\"{output_dir}{notebook}\"\n",
    "\n",
    "    # Execute o notebook com o Papermill\n",
    "    papermill.execute_notebook(\n",
    "        input_notebook,\n",
    "        output_notebook,\n",
    "        # parameters=parameters\n",
    "    )\n",
    "\n",
    "print(\"Execução concluída.\")\n",
    "print(f\"Última atualização: \" + time.strftime(\"%d/%m/%Y %H:%M:%S\"))"
   ]
  }
 ],
 "metadata": {
  "kernelspec": {
   "display_name": "Python 3",
   "language": "python",
   "name": "python3"
  },
  "language_info": {
   "codemirror_mode": {
    "name": "ipython",
    "version": 3
   },
   "file_extension": ".py",
   "mimetype": "text/x-python",
   "name": "python",
   "nbconvert_exporter": "python",
   "pygments_lexer": "ipython3",
   "version": "3.10.7"
  }
 },
 "nbformat": 4,
 "nbformat_minor": 2
}
