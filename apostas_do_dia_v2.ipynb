{
 "cells": [
  {
   "cell_type": "code",
   "execution_count": 1,
   "id": "77b3cf65",
   "metadata": {
    "execution": {
     "iopub.execute_input": "2024-08-12T11:31:40.358923Z",
     "iopub.status.busy": "2024-08-12T11:31:40.358415Z",
     "iopub.status.idle": "2024-08-12T11:31:40.371413Z",
     "shell.execute_reply": "2024-08-12T11:31:40.370911Z"
    },
    "papermill": {
     "duration": 0.017519,
     "end_time": "2024-08-12T11:31:40.372912",
     "exception": false,
     "start_time": "2024-08-12T11:31:40.355393",
     "status": "completed"
    },
    "tags": [
     "parameters"
    ]
   },
   "outputs": [],
   "source": [
    "data_var = ''"
   ]
  },
  {
   "cell_type": "code",
   "execution_count": 2,
   "id": "242472cc",
   "metadata": {
    "execution": {
     "iopub.execute_input": "2024-08-12T11:31:40.378415Z",
     "iopub.status.busy": "2024-08-12T11:31:40.377912Z",
     "iopub.status.idle": "2024-08-12T11:31:40.386913Z",
     "shell.execute_reply": "2024-08-12T11:31:40.386412Z"
    },
    "papermill": {
     "duration": 0.013003,
     "end_time": "2024-08-12T11:31:40.387915",
     "exception": false,
     "start_time": "2024-08-12T11:31:40.374912",
     "status": "completed"
    },
    "tags": [
     "injected-parameters"
    ]
   },
   "outputs": [],
   "source": [
    "# Parameters\n",
    "data_var = \"2024-08-12\"\n"
   ]
  },
  {
   "cell_type": "code",
   "execution_count": 3,
   "id": "7890d95d",
   "metadata": {
    "execution": {
     "iopub.execute_input": "2024-08-12T11:31:40.392415Z",
     "iopub.status.busy": "2024-08-12T11:31:40.392415Z",
     "iopub.status.idle": "2024-08-12T11:31:42.227394Z",
     "shell.execute_reply": "2024-08-12T11:31:42.226890Z"
    },
    "papermill": {
     "duration": 1.838977,
     "end_time": "2024-08-12T11:31:42.228893",
     "exception": false,
     "start_time": "2024-08-12T11:31:40.389916",
     "status": "completed"
    },
    "tags": []
   },
   "outputs": [],
   "source": [
    "import pandas as pd; pd.set_option('display.max_columns', None)\n",
    "import os\n",
    "from pycaret.classification import *\n",
    "from scripts.PreparaDatasetV2 import *\n",
    "from scripts.TeoriaRetornos import *"
   ]
  },
  {
   "attachments": {},
   "cell_type": "markdown",
   "id": "f5f470ab",
   "metadata": {
    "papermill": {
     "duration": 0.001999,
     "end_time": "2024-08-12T11:31:42.232891",
     "exception": false,
     "start_time": "2024-08-12T11:31:42.230892",
     "status": "completed"
    },
    "tags": []
   },
   "source": [
    "### Funções"
   ]
  },
  {
   "cell_type": "code",
   "execution_count": 4,
   "id": "930eac9e",
   "metadata": {
    "execution": {
     "iopub.execute_input": "2024-08-12T11:31:42.237893Z",
     "iopub.status.busy": "2024-08-12T11:31:42.237395Z",
     "iopub.status.idle": "2024-08-12T11:31:42.242897Z",
     "shell.execute_reply": "2024-08-12T11:31:42.242391Z"
    },
    "papermill": {
     "duration": 0.009,
     "end_time": "2024-08-12T11:31:42.243893",
     "exception": false,
     "start_time": "2024-08-12T11:31:42.234893",
     "status": "completed"
    },
    "tags": []
   },
   "outputs": [],
   "source": [
    "def atualiza_dia(_jogos):\n",
    "    _jogos = prepara_df(_jogos)\n",
    "\n",
    "    _jogos = _jogos.reset_index(drop=True)\n",
    "\n",
    "    return _jogos"
   ]
  },
  {
   "attachments": {},
   "cell_type": "markdown",
   "id": "69d8ec28",
   "metadata": {
    "papermill": {
     "duration": 0.001996,
     "end_time": "2024-08-12T11:31:42.247889",
     "exception": false,
     "start_time": "2024-08-12T11:31:42.245893",
     "status": "completed"
    },
    "tags": []
   },
   "source": [
    "### Pegando os jogos do dia"
   ]
  },
  {
   "cell_type": "code",
   "execution_count": 5,
   "id": "1666c0e0",
   "metadata": {
    "execution": {
     "iopub.execute_input": "2024-08-12T11:31:42.252395Z",
     "iopub.status.busy": "2024-08-12T11:31:42.251894Z",
     "iopub.status.idle": "2024-08-12T11:31:42.258395Z",
     "shell.execute_reply": "2024-08-12T11:31:42.257893Z"
    },
    "papermill": {
     "duration": 0.009999,
     "end_time": "2024-08-12T11:31:42.259390",
     "exception": false,
     "start_time": "2024-08-12T11:31:42.249391",
     "status": "completed"
    },
    "tags": []
   },
   "outputs": [],
   "source": [
    "df_today = pd.read_csv(f'jogos_do_dia/{data_var}.csv')"
   ]
  },
  {
   "cell_type": "markdown",
   "id": "58f8e020",
   "metadata": {
    "papermill": {
     "duration": 0.001496,
     "end_time": "2024-08-12T11:31:42.262890",
     "exception": false,
     "start_time": "2024-08-12T11:31:42.261394",
     "status": "completed"
    },
    "tags": []
   },
   "source": [
    "### Atualizando os datasets que tem jogo hoje"
   ]
  },
  {
   "cell_type": "code",
   "execution_count": 6,
   "id": "33c412f2",
   "metadata": {
    "execution": {
     "iopub.execute_input": "2024-08-12T11:31:42.267893Z",
     "iopub.status.busy": "2024-08-12T11:31:42.267395Z",
     "iopub.status.idle": "2024-08-12T11:31:42.336361Z",
     "shell.execute_reply": "2024-08-12T11:31:42.335358Z"
    },
    "papermill": {
     "duration": 0.072968,
     "end_time": "2024-08-12T11:31:42.337860",
     "exception": false,
     "start_time": "2024-08-12T11:31:42.264892",
     "status": "completed"
    },
    "tags": []
   },
   "outputs": [],
   "source": [
    "temporada = pd.read_csv('data/Entire_Season.csv')\n",
    "temporada = temporada[temporada['Date'] < data_var]\n",
    "temporada = pd.concat([temporada, df_today])\n",
    "ligas = df_today['League'].unique().tolist()\n",
    "temporada = temporada[temporada['League'].isin(ligas)]\n",
    "temporada.reset_index(drop=True, inplace=True)"
   ]
  },
  {
   "cell_type": "markdown",
   "id": "87a449a8",
   "metadata": {
    "papermill": {
     "duration": 0.001495,
     "end_time": "2024-08-12T11:31:42.342357",
     "exception": false,
     "start_time": "2024-08-12T11:31:42.340862",
     "status": "completed"
    },
    "tags": []
   },
   "source": [
    "### Cria variáveis na temporada e nos jogos do dia"
   ]
  },
  {
   "cell_type": "code",
   "execution_count": 7,
   "id": "0abec198",
   "metadata": {
    "execution": {
     "iopub.execute_input": "2024-08-12T11:31:42.347358Z",
     "iopub.status.busy": "2024-08-12T11:31:42.346859Z",
     "iopub.status.idle": "2024-08-12T11:31:44.845857Z",
     "shell.execute_reply": "2024-08-12T11:31:44.845358Z"
    },
    "papermill": {
     "duration": 2.503,
     "end_time": "2024-08-12T11:31:44.847356",
     "exception": false,
     "start_time": "2024-08-12T11:31:42.344356",
     "status": "completed"
    },
    "tags": []
   },
   "outputs": [],
   "source": [
    "games = atualiza_dia(temporada)\n",
    "temporada = games[games['Date'] < data_var]\n",
    "os.makedirs(f'apostas_do_dia/{data_var}', exist_ok=True)"
   ]
  },
  {
   "cell_type": "code",
   "execution_count": 8,
   "id": "3293c136",
   "metadata": {
    "execution": {
     "iopub.execute_input": "2024-08-12T11:31:44.852356Z",
     "iopub.status.busy": "2024-08-12T11:31:44.852356Z",
     "iopub.status.idle": "2024-08-12T11:31:44.892413Z",
     "shell.execute_reply": "2024-08-12T11:31:44.891900Z"
    },
    "papermill": {
     "duration": 0.044542,
     "end_time": "2024-08-12T11:31:44.893898",
     "exception": false,
     "start_time": "2024-08-12T11:31:44.849356",
     "status": "completed"
    },
    "tags": []
   },
   "outputs": [
    {
     "data": {
      "text/html": [
       "<div>\n",
       "<style scoped>\n",
       "    .dataframe tbody tr th:only-of-type {\n",
       "        vertical-align: middle;\n",
       "    }\n",
       "\n",
       "    .dataframe tbody tr th {\n",
       "        vertical-align: top;\n",
       "    }\n",
       "\n",
       "    .dataframe thead th {\n",
       "        text-align: right;\n",
       "    }\n",
       "</style>\n",
       "<table border=\"1\" class=\"dataframe\">\n",
       "  <thead>\n",
       "    <tr style=\"text-align: right;\">\n",
       "      <th></th>\n",
       "      <th>Date</th>\n",
       "      <th>League</th>\n",
       "      <th>Time</th>\n",
       "      <th>Home</th>\n",
       "      <th>Away</th>\n",
       "      <th>Odds_H</th>\n",
       "      <th>Odds_A</th>\n",
       "      <th>Over_Line</th>\n",
       "      <th>Odds_Over</th>\n",
       "      <th>Odds_Under</th>\n",
       "      <th>HA_Line</th>\n",
       "      <th>HA_Odds_H</th>\n",
       "      <th>HA_Odds_A</th>\n",
       "      <th>Fixture ID</th>\n",
       "      <th>P(H)</th>\n",
       "      <th>P(A)</th>\n",
       "      <th>P(O)</th>\n",
       "      <th>P(U)</th>\n",
       "      <th>P_Diff</th>\n",
       "      <th>Avg_CG_H</th>\n",
       "      <th>DP_CG_H</th>\n",
       "      <th>CV_CG_H</th>\n",
       "      <th>Avg_Pontos_H</th>\n",
       "      <th>DP_Pontos_H</th>\n",
       "      <th>CV_Pontos_H</th>\n",
       "      <th>CG_H_Last_Game</th>\n",
       "      <th>Media_Odds_Geral_H</th>\n",
       "      <th>DP_Odds_Geral_H</th>\n",
       "      <th>CV_Odds_Geral_H</th>\n",
       "      <th>Saldo_Gols_H</th>\n",
       "      <th>Avg_CG_A</th>\n",
       "      <th>DP_CG_A</th>\n",
       "      <th>CV_CG_A</th>\n",
       "      <th>Avg_Pontos_A</th>\n",
       "      <th>DP_Pontos_A</th>\n",
       "      <th>CV_Pontos_A</th>\n",
       "      <th>CG_A_Last_Game</th>\n",
       "      <th>Media_Odds_Geral_A</th>\n",
       "      <th>DP_Odds_Geral_A</th>\n",
       "      <th>CV_Odds_Geral_A</th>\n",
       "      <th>Saldo_Gols_A</th>\n",
       "      <th>Goals_Last_H</th>\n",
       "      <th>Goals_Last_A</th>\n",
       "      <th>Last_Odd_H</th>\n",
       "      <th>Last_Odd_A</th>\n",
       "      <th>MediaCustoGolHome</th>\n",
       "      <th>MediaCustoGolAway</th>\n",
       "      <th>CV_ML</th>\n",
       "      <th>CV_Over</th>\n",
       "      <th>CV_HA</th>\n",
       "      <th>Retornos_BH_Acu</th>\n",
       "      <th>Avg_Retornos_BH</th>\n",
       "      <th>Custo_Retorno_BH</th>\n",
       "      <th>Avg_Porc_BH_Bookie</th>\n",
       "      <th>Avg_Porc_BH_Real</th>\n",
       "      <th>Dist_Porc_BH</th>\n",
       "      <th>Retornos_BA_Acu</th>\n",
       "      <th>Avg_Retornos_BA</th>\n",
       "      <th>Custo_Retorno_BA</th>\n",
       "      <th>Avg_Porc_BA_Bookie</th>\n",
       "      <th>Avg_Porc_BA_Real</th>\n",
       "      <th>Dist_Porc_BA</th>\n",
       "    </tr>\n",
       "  </thead>\n",
       "  <tbody>\n",
       "    <tr>\n",
       "      <th>285</th>\n",
       "      <td>2024-08-12</td>\n",
       "      <td>Mundo Amistoso Internacional</td>\n",
       "      <td>16:30</td>\n",
       "      <td>Senegal</td>\n",
       "      <td>Túnisia</td>\n",
       "      <td>1.56</td>\n",
       "      <td>2.21</td>\n",
       "      <td>141.5</td>\n",
       "      <td>1.83</td>\n",
       "      <td>1.83</td>\n",
       "      <td>0.0</td>\n",
       "      <td>0.0</td>\n",
       "      <td>0.0</td>\n",
       "      <td>dlHG26H6</td>\n",
       "      <td>0.641026</td>\n",
       "      <td>0.452489</td>\n",
       "      <td>0.546448</td>\n",
       "      <td>0.546448</td>\n",
       "      <td>0.093514</td>\n",
       "      <td>0.000</td>\n",
       "      <td>0.000000</td>\n",
       "      <td>0.000000</td>\n",
       "      <td>0.0</td>\n",
       "      <td>0.000000</td>\n",
       "      <td>0.000000</td>\n",
       "      <td>0.00</td>\n",
       "      <td>0.000</td>\n",
       "      <td>0.000000</td>\n",
       "      <td>0.000000</td>\n",
       "      <td>0.0</td>\n",
       "      <td>0.000</td>\n",
       "      <td>0.000000</td>\n",
       "      <td>0.000000</td>\n",
       "      <td>0.0</td>\n",
       "      <td>0.000000</td>\n",
       "      <td>0.000000</td>\n",
       "      <td>0.00</td>\n",
       "      <td>0.000</td>\n",
       "      <td>0.000000</td>\n",
       "      <td>0.000000</td>\n",
       "      <td>0.0</td>\n",
       "      <td>0</td>\n",
       "      <td>0</td>\n",
       "      <td>0.00</td>\n",
       "      <td>0.00</td>\n",
       "      <td>0.000</td>\n",
       "      <td>0.000</td>\n",
       "      <td>0.243830</td>\n",
       "      <td>0.000000</td>\n",
       "      <td>NaN</td>\n",
       "      <td>0.00</td>\n",
       "      <td>0.000</td>\n",
       "      <td>inf</td>\n",
       "      <td>0.000000</td>\n",
       "      <td>0.0</td>\n",
       "      <td>0.000000</td>\n",
       "      <td>0.00</td>\n",
       "      <td>0.000</td>\n",
       "      <td>inf</td>\n",
       "      <td>0.000000</td>\n",
       "      <td>0.0</td>\n",
       "      <td>0.000000</td>\n",
       "    </tr>\n",
       "    <tr>\n",
       "      <th>286</th>\n",
       "      <td>2024-08-12</td>\n",
       "      <td>Venezuela Superliga</td>\n",
       "      <td>20:00</td>\n",
       "      <td>Cocodrilos</td>\n",
       "      <td>Broncos</td>\n",
       "      <td>1.25</td>\n",
       "      <td>3.43</td>\n",
       "      <td>176.5</td>\n",
       "      <td>1.84</td>\n",
       "      <td>1.82</td>\n",
       "      <td>0.0</td>\n",
       "      <td>0.0</td>\n",
       "      <td>0.0</td>\n",
       "      <td>4jYvNIt0</td>\n",
       "      <td>0.800000</td>\n",
       "      <td>0.291545</td>\n",
       "      <td>0.543478</td>\n",
       "      <td>0.549451</td>\n",
       "      <td>0.091545</td>\n",
       "      <td>114.952</td>\n",
       "      <td>12.913813</td>\n",
       "      <td>0.112341</td>\n",
       "      <td>1.2</td>\n",
       "      <td>1.643168</td>\n",
       "      <td>1.369306</td>\n",
       "      <td>117.30</td>\n",
       "      <td>1.244</td>\n",
       "      <td>0.069138</td>\n",
       "      <td>0.055577</td>\n",
       "      <td>20.0</td>\n",
       "      <td>271.636</td>\n",
       "      <td>148.240068</td>\n",
       "      <td>0.545731</td>\n",
       "      <td>1.8</td>\n",
       "      <td>1.643168</td>\n",
       "      <td>0.912871</td>\n",
       "      <td>466.96</td>\n",
       "      <td>2.866</td>\n",
       "      <td>1.388805</td>\n",
       "      <td>0.484580</td>\n",
       "      <td>-28.0</td>\n",
       "      <td>102</td>\n",
       "      <td>104</td>\n",
       "      <td>1.15</td>\n",
       "      <td>4.49</td>\n",
       "      <td>101.394</td>\n",
       "      <td>260.824</td>\n",
       "      <td>0.658758</td>\n",
       "      <td>0.007728</td>\n",
       "      <td>NaN</td>\n",
       "      <td>-1.36</td>\n",
       "      <td>-0.272</td>\n",
       "      <td>-0.919118</td>\n",
       "      <td>0.000000</td>\n",
       "      <td>0.0</td>\n",
       "      <td>0.000000</td>\n",
       "      <td>0.89</td>\n",
       "      <td>0.178</td>\n",
       "      <td>13.651685</td>\n",
       "      <td>0.483611</td>\n",
       "      <td>0.5</td>\n",
       "      <td>0.016389</td>\n",
       "    </tr>\n",
       "    <tr>\n",
       "      <th>287</th>\n",
       "      <td>2024-08-12</td>\n",
       "      <td>Bolívia Libobasquet</td>\n",
       "      <td>21:00</td>\n",
       "      <td>Atlético Nacional</td>\n",
       "      <td>Tarija Basquet</td>\n",
       "      <td>1.25</td>\n",
       "      <td>3.69</td>\n",
       "      <td>155.5</td>\n",
       "      <td>1.85</td>\n",
       "      <td>1.85</td>\n",
       "      <td>0.0</td>\n",
       "      <td>0.0</td>\n",
       "      <td>0.0</td>\n",
       "      <td>WxGeKkI0</td>\n",
       "      <td>0.800000</td>\n",
       "      <td>0.271003</td>\n",
       "      <td>0.540541</td>\n",
       "      <td>0.540541</td>\n",
       "      <td>0.071003</td>\n",
       "      <td>95.024</td>\n",
       "      <td>24.961383</td>\n",
       "      <td>0.262685</td>\n",
       "      <td>1.8</td>\n",
       "      <td>1.643168</td>\n",
       "      <td>0.912871</td>\n",
       "      <td>111.65</td>\n",
       "      <td>1.180</td>\n",
       "      <td>0.176210</td>\n",
       "      <td>0.149331</td>\n",
       "      <td>2.0</td>\n",
       "      <td>0.000</td>\n",
       "      <td>0.000000</td>\n",
       "      <td>0.000000</td>\n",
       "      <td>0.0</td>\n",
       "      <td>0.000000</td>\n",
       "      <td>0.000000</td>\n",
       "      <td>0.00</td>\n",
       "      <td>0.000</td>\n",
       "      <td>0.000000</td>\n",
       "      <td>0.000000</td>\n",
       "      <td>0.0</td>\n",
       "      <td>77</td>\n",
       "      <td>90</td>\n",
       "      <td>1.45</td>\n",
       "      <td>2.65</td>\n",
       "      <td>103.424</td>\n",
       "      <td>0.000</td>\n",
       "      <td>0.698518</td>\n",
       "      <td>0.000000</td>\n",
       "      <td>NaN</td>\n",
       "      <td>-0.18</td>\n",
       "      <td>-0.036</td>\n",
       "      <td>-6.944444</td>\n",
       "      <td>0.000000</td>\n",
       "      <td>0.0</td>\n",
       "      <td>0.000000</td>\n",
       "      <td>0.00</td>\n",
       "      <td>0.000</td>\n",
       "      <td>inf</td>\n",
       "      <td>0.000000</td>\n",
       "      <td>0.0</td>\n",
       "      <td>0.000000</td>\n",
       "    </tr>\n",
       "    <tr>\n",
       "      <th>288</th>\n",
       "      <td>2024-08-12</td>\n",
       "      <td>Venezuela Superliga</td>\n",
       "      <td>20:00</td>\n",
       "      <td>Marinos</td>\n",
       "      <td>Pioneros</td>\n",
       "      <td>1.56</td>\n",
       "      <td>2.21</td>\n",
       "      <td>143.5</td>\n",
       "      <td>1.82</td>\n",
       "      <td>1.84</td>\n",
       "      <td>0.0</td>\n",
       "      <td>0.0</td>\n",
       "      <td>0.0</td>\n",
       "      <td>Cds4Nnht</td>\n",
       "      <td>0.641026</td>\n",
       "      <td>0.452489</td>\n",
       "      <td>0.549451</td>\n",
       "      <td>0.543478</td>\n",
       "      <td>0.093514</td>\n",
       "      <td>106.252</td>\n",
       "      <td>22.768428</td>\n",
       "      <td>0.214287</td>\n",
       "      <td>1.2</td>\n",
       "      <td>1.643168</td>\n",
       "      <td>1.369306</td>\n",
       "      <td>104.88</td>\n",
       "      <td>1.486</td>\n",
       "      <td>0.258031</td>\n",
       "      <td>0.173641</td>\n",
       "      <td>-12.0</td>\n",
       "      <td>162.408</td>\n",
       "      <td>39.272055</td>\n",
       "      <td>0.241811</td>\n",
       "      <td>1.2</td>\n",
       "      <td>1.643168</td>\n",
       "      <td>1.369306</td>\n",
       "      <td>195.84</td>\n",
       "      <td>1.946</td>\n",
       "      <td>0.611416</td>\n",
       "      <td>0.314191</td>\n",
       "      <td>60.0</td>\n",
       "      <td>76</td>\n",
       "      <td>72</td>\n",
       "      <td>1.38</td>\n",
       "      <td>2.72</td>\n",
       "      <td>98.280</td>\n",
       "      <td>246.340</td>\n",
       "      <td>0.243830</td>\n",
       "      <td>0.007728</td>\n",
       "      <td>NaN</td>\n",
       "      <td>-2.44</td>\n",
       "      <td>-0.488</td>\n",
       "      <td>-1.147541</td>\n",
       "      <td>0.746675</td>\n",
       "      <td>0.6</td>\n",
       "      <td>-0.146675</td>\n",
       "      <td>3.23</td>\n",
       "      <td>0.646</td>\n",
       "      <td>1.873065</td>\n",
       "      <td>0.000000</td>\n",
       "      <td>0.0</td>\n",
       "      <td>0.000000</td>\n",
       "    </tr>\n",
       "  </tbody>\n",
       "</table>\n",
       "</div>"
      ],
      "text/plain": [
       "           Date                        League   Time               Home  \\\n",
       "285  2024-08-12  Mundo Amistoso Internacional  16:30            Senegal   \n",
       "286  2024-08-12           Venezuela Superliga  20:00         Cocodrilos   \n",
       "287  2024-08-12           Bolívia Libobasquet  21:00  Atlético Nacional   \n",
       "288  2024-08-12           Venezuela Superliga  20:00            Marinos   \n",
       "\n",
       "               Away  Odds_H  Odds_A  Over_Line  Odds_Over  Odds_Under  \\\n",
       "285         Túnisia    1.56    2.21      141.5       1.83        1.83   \n",
       "286         Broncos    1.25    3.43      176.5       1.84        1.82   \n",
       "287  Tarija Basquet    1.25    3.69      155.5       1.85        1.85   \n",
       "288        Pioneros    1.56    2.21      143.5       1.82        1.84   \n",
       "\n",
       "     HA_Line  HA_Odds_H  HA_Odds_A Fixture ID      P(H)      P(A)      P(O)  \\\n",
       "285      0.0        0.0        0.0   dlHG26H6  0.641026  0.452489  0.546448   \n",
       "286      0.0        0.0        0.0   4jYvNIt0  0.800000  0.291545  0.543478   \n",
       "287      0.0        0.0        0.0   WxGeKkI0  0.800000  0.271003  0.540541   \n",
       "288      0.0        0.0        0.0   Cds4Nnht  0.641026  0.452489  0.549451   \n",
       "\n",
       "         P(U)    P_Diff  Avg_CG_H    DP_CG_H   CV_CG_H  Avg_Pontos_H  \\\n",
       "285  0.546448  0.093514     0.000   0.000000  0.000000           0.0   \n",
       "286  0.549451  0.091545   114.952  12.913813  0.112341           1.2   \n",
       "287  0.540541  0.071003    95.024  24.961383  0.262685           1.8   \n",
       "288  0.543478  0.093514   106.252  22.768428  0.214287           1.2   \n",
       "\n",
       "     DP_Pontos_H  CV_Pontos_H  CG_H_Last_Game  Media_Odds_Geral_H  \\\n",
       "285     0.000000     0.000000            0.00               0.000   \n",
       "286     1.643168     1.369306          117.30               1.244   \n",
       "287     1.643168     0.912871          111.65               1.180   \n",
       "288     1.643168     1.369306          104.88               1.486   \n",
       "\n",
       "     DP_Odds_Geral_H  CV_Odds_Geral_H  Saldo_Gols_H  Avg_CG_A     DP_CG_A  \\\n",
       "285         0.000000         0.000000           0.0     0.000    0.000000   \n",
       "286         0.069138         0.055577          20.0   271.636  148.240068   \n",
       "287         0.176210         0.149331           2.0     0.000    0.000000   \n",
       "288         0.258031         0.173641         -12.0   162.408   39.272055   \n",
       "\n",
       "      CV_CG_A  Avg_Pontos_A  DP_Pontos_A  CV_Pontos_A  CG_A_Last_Game  \\\n",
       "285  0.000000           0.0     0.000000     0.000000            0.00   \n",
       "286  0.545731           1.8     1.643168     0.912871          466.96   \n",
       "287  0.000000           0.0     0.000000     0.000000            0.00   \n",
       "288  0.241811           1.2     1.643168     1.369306          195.84   \n",
       "\n",
       "     Media_Odds_Geral_A  DP_Odds_Geral_A  CV_Odds_Geral_A  Saldo_Gols_A  \\\n",
       "285               0.000         0.000000         0.000000           0.0   \n",
       "286               2.866         1.388805         0.484580         -28.0   \n",
       "287               0.000         0.000000         0.000000           0.0   \n",
       "288               1.946         0.611416         0.314191          60.0   \n",
       "\n",
       "     Goals_Last_H  Goals_Last_A  Last_Odd_H  Last_Odd_A  MediaCustoGolHome  \\\n",
       "285             0             0        0.00        0.00              0.000   \n",
       "286           102           104        1.15        4.49            101.394   \n",
       "287            77            90        1.45        2.65            103.424   \n",
       "288            76            72        1.38        2.72             98.280   \n",
       "\n",
       "     MediaCustoGolAway     CV_ML   CV_Over  CV_HA  Retornos_BH_Acu  \\\n",
       "285              0.000  0.243830  0.000000    NaN             0.00   \n",
       "286            260.824  0.658758  0.007728    NaN            -1.36   \n",
       "287              0.000  0.698518  0.000000    NaN            -0.18   \n",
       "288            246.340  0.243830  0.007728    NaN            -2.44   \n",
       "\n",
       "     Avg_Retornos_BH  Custo_Retorno_BH  Avg_Porc_BH_Bookie  Avg_Porc_BH_Real  \\\n",
       "285            0.000               inf            0.000000               0.0   \n",
       "286           -0.272         -0.919118            0.000000               0.0   \n",
       "287           -0.036         -6.944444            0.000000               0.0   \n",
       "288           -0.488         -1.147541            0.746675               0.6   \n",
       "\n",
       "     Dist_Porc_BH  Retornos_BA_Acu  Avg_Retornos_BA  Custo_Retorno_BA  \\\n",
       "285      0.000000             0.00            0.000               inf   \n",
       "286      0.000000             0.89            0.178         13.651685   \n",
       "287      0.000000             0.00            0.000               inf   \n",
       "288     -0.146675             3.23            0.646          1.873065   \n",
       "\n",
       "     Avg_Porc_BA_Bookie  Avg_Porc_BA_Real  Dist_Porc_BA  \n",
       "285            0.000000               0.0      0.000000  \n",
       "286            0.483611               0.5      0.016389  \n",
       "287            0.000000               0.0      0.000000  \n",
       "288            0.000000               0.0      0.000000  "
      ]
     },
     "execution_count": 8,
     "metadata": {},
     "output_type": "execute_result"
    }
   ],
   "source": [
    "jogos = games[games['Date'] == data_var]\n",
    "\n",
    "jogos = jogos.drop(columns=['Home_Pts', 'Away_Pts',\n",
    "       'Back_Home', 'PL_Home', 'Back_Away',\n",
    "       'PL_Away', 'Back_Over', 'PL_Over', 'PL_Under', 'Back_HA_H', 'PL_HA_H',\n",
    "       'PL_HA_A', ])\n",
    "\n",
    "jogos"
   ]
  },
  {
   "attachments": {},
   "cell_type": "markdown",
   "id": "0d9e7e3e",
   "metadata": {
    "papermill": {
     "duration": 0.002501,
     "end_time": "2024-08-12T11:31:44.898898",
     "exception": false,
     "start_time": "2024-08-12T11:31:44.896397",
     "status": "completed"
    },
    "tags": []
   },
   "source": [
    "## Apostas do dia"
   ]
  },
  {
   "cell_type": "markdown",
   "id": "ad6ff101",
   "metadata": {
    "papermill": {
     "duration": 0.001999,
     "end_time": "2024-08-12T11:31:44.902902",
     "exception": false,
     "start_time": "2024-08-12T11:31:44.900903",
     "status": "completed"
    },
    "tags": []
   },
   "source": [
    "### Back Home V3 (QCut)"
   ]
  },
  {
   "cell_type": "code",
   "execution_count": 9,
   "id": "8a69449a",
   "metadata": {
    "execution": {
     "iopub.execute_input": "2024-08-12T11:31:44.908403Z",
     "iopub.status.busy": "2024-08-12T11:31:44.907905Z",
     "iopub.status.idle": "2024-08-12T11:31:44.923420Z",
     "shell.execute_reply": "2024-08-12T11:31:44.922915Z"
    },
    "papermill": {
     "duration": 0.019513,
     "end_time": "2024-08-12T11:31:44.924418",
     "exception": false,
     "start_time": "2024-08-12T11:31:44.904905",
     "status": "completed"
    },
    "tags": []
   },
   "outputs": [
    {
     "name": "stdout",
     "output_type": "stream",
     "text": [
      "------------ MÉTODO BACK HOME V3 (QCUT) ------------\n",
      "\n"
     ]
    },
    {
     "data": {
      "text/html": [
       "<div>\n",
       "<style scoped>\n",
       "    .dataframe tbody tr th:only-of-type {\n",
       "        vertical-align: middle;\n",
       "    }\n",
       "\n",
       "    .dataframe tbody tr th {\n",
       "        vertical-align: top;\n",
       "    }\n",
       "\n",
       "    .dataframe thead th {\n",
       "        text-align: right;\n",
       "    }\n",
       "</style>\n",
       "<table border=\"1\" class=\"dataframe\">\n",
       "  <thead>\n",
       "    <tr style=\"text-align: right;\">\n",
       "      <th></th>\n",
       "      <th>Time</th>\n",
       "      <th>League</th>\n",
       "      <th>Home</th>\n",
       "      <th>Away</th>\n",
       "      <th>Odds_H</th>\n",
       "      <th>Bet</th>\n",
       "    </tr>\n",
       "  </thead>\n",
       "  <tbody>\n",
       "    <tr>\n",
       "      <th>288</th>\n",
       "      <td>20:00</td>\n",
       "      <td>Venezuela Superliga</td>\n",
       "      <td>Marinos</td>\n",
       "      <td>Pioneros</td>\n",
       "      <td>1.56</td>\n",
       "      <td>Back Home</td>\n",
       "    </tr>\n",
       "  </tbody>\n",
       "</table>\n",
       "</div>"
      ],
      "text/plain": [
       "      Time               League     Home      Away  Odds_H        Bet\n",
       "288  20:00  Venezuela Superliga  Marinos  Pioneros    1.56  Back Home"
      ]
     },
     "metadata": {},
     "output_type": "display_data"
    },
    {
     "name": "stdout",
     "output_type": "stream",
     "text": [
      "\n"
     ]
    }
   ],
   "source": [
    "# Duplicando o dataset\n",
    "df_bh_v3 = jogos.copy()\n",
    "\n",
    "df_bh_v3 = df_bh_v3[(df_bh_v3['P(H)'] > 0.35) & (df_bh_v3['P(H)'] < 0.65)]\n",
    "df_bh_v3 = df_bh_v3[(df_bh_v3['CG_H_Last_Game'] > 0) & (df_bh_v3['CG_H_Last_Game'] <= 170)]\n",
    "df_bh_v3 = df_bh_v3[(df_bh_v3['CG_A_Last_Game'] > 160)]\n",
    "\n",
    "df_bh_v3.replace([np.inf, -np.inf], 0, inplace=True)\n",
    "\n",
    "if not df_bh_v3.empty:\n",
    "    df_bh_v3.to_csv(f'apostas_do_dia/{data_var}/back_home_v3_{data_var}.csv', index=False)\n",
    "\n",
    "    print('------------ MÉTODO BACK HOME V3 (QCUT) ------------')\n",
    "    print()\n",
    "\n",
    "    df_bh_v3['Bet'] = 'Back Home'\n",
    "    ligs = df_bh_v3['League'].unique().tolist()\n",
    "\n",
    "    display(df_bh_v3[['Time', 'League', 'Home', 'Away', 'Odds_H', 'Bet']])\n",
    "    print()\n",
    "else: print('Sem jogos')"
   ]
  }
 ],
 "metadata": {
  "kernelspec": {
   "display_name": "modelos_futebol",
   "language": "python",
   "name": "python3"
  },
  "language_info": {
   "codemirror_mode": {
    "name": "ipython",
    "version": 3
   },
   "file_extension": ".py",
   "mimetype": "text/x-python",
   "name": "python",
   "nbconvert_exporter": "python",
   "pygments_lexer": "ipython3",
   "version": "3.10.7"
  },
  "papermill": {
   "default_parameters": {},
   "duration": 6.299588,
   "end_time": "2024-08-12T11:31:45.389277",
   "environment_variables": {},
   "exception": null,
   "input_path": "apostas_do_dia_v2.ipynb",
   "output_path": "apostas_do_dia_v2.ipynb",
   "parameters": {
    "data_var": "2024-08-12"
   },
   "start_time": "2024-08-12T11:31:39.089689",
   "version": "2.5.0"
  }
 },
 "nbformat": 4,
 "nbformat_minor": 5
}