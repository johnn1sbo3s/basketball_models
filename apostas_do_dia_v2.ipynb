{
 "cells": [
  {
   "cell_type": "code",
   "execution_count": 1,
   "id": "77b3cf65",
   "metadata": {
    "execution": {
     "iopub.execute_input": "2024-04-27T13:07:21.893750Z",
     "iopub.status.busy": "2024-04-27T13:07:21.892751Z",
     "iopub.status.idle": "2024-04-27T13:07:21.903506Z",
     "shell.execute_reply": "2024-04-27T13:07:21.902505Z"
    },
    "papermill": {
     "duration": 0.018714,
     "end_time": "2024-04-27T13:07:21.905507",
     "exception": false,
     "start_time": "2024-04-27T13:07:21.886793",
     "status": "completed"
    },
    "tags": [
     "parameters"
    ]
   },
   "outputs": [],
   "source": [
    "data_var = ''"
   ]
  },
  {
   "cell_type": "code",
   "execution_count": 2,
   "id": "cf5e7730",
   "metadata": {
    "execution": {
     "iopub.execute_input": "2024-04-27T13:07:21.917048Z",
     "iopub.status.busy": "2024-04-27T13:07:21.915538Z",
     "iopub.status.idle": "2024-04-27T13:07:21.936116Z",
     "shell.execute_reply": "2024-04-27T13:07:21.934115Z"
    },
    "papermill": {
     "duration": 0.028281,
     "end_time": "2024-04-27T13:07:21.938303",
     "exception": false,
     "start_time": "2024-04-27T13:07:21.910022",
     "status": "completed"
    },
    "tags": [
     "injected-parameters"
    ]
   },
   "outputs": [],
   "source": [
    "# Parameters\n",
    "data_var = \"2024-04-27\"\n"
   ]
  },
  {
   "cell_type": "code",
   "execution_count": 3,
   "id": "7890d95d",
   "metadata": {
    "execution": {
     "iopub.execute_input": "2024-04-27T13:07:21.948917Z",
     "iopub.status.busy": "2024-04-27T13:07:21.948917Z",
     "iopub.status.idle": "2024-04-27T13:07:25.382134Z",
     "shell.execute_reply": "2024-04-27T13:07:25.381136Z"
    },
    "papermill": {
     "duration": 3.441335,
     "end_time": "2024-04-27T13:07:25.384133",
     "exception": false,
     "start_time": "2024-04-27T13:07:21.942798",
     "status": "completed"
    },
    "tags": []
   },
   "outputs": [],
   "source": [
    "import pandas as pd; pd.set_option('display.max_columns', None)\n",
    "import os\n",
    "from pycaret.classification import *\n",
    "from scripts.PreparaDatasetV2 import *\n",
    "from scripts.TeoriaRetornos import *"
   ]
  },
  {
   "attachments": {},
   "cell_type": "markdown",
   "id": "f5f470ab",
   "metadata": {
    "papermill": {
     "duration": 0.005,
     "end_time": "2024-04-27T13:07:25.393192",
     "exception": false,
     "start_time": "2024-04-27T13:07:25.388192",
     "status": "completed"
    },
    "tags": []
   },
   "source": [
    "### Funções"
   ]
  },
  {
   "cell_type": "code",
   "execution_count": 4,
   "id": "930eac9e",
   "metadata": {
    "execution": {
     "iopub.execute_input": "2024-04-27T13:07:25.403005Z",
     "iopub.status.busy": "2024-04-27T13:07:25.402008Z",
     "iopub.status.idle": "2024-04-27T13:07:25.414049Z",
     "shell.execute_reply": "2024-04-27T13:07:25.413048Z"
    },
    "papermill": {
     "duration": 0.018364,
     "end_time": "2024-04-27T13:07:25.415556",
     "exception": false,
     "start_time": "2024-04-27T13:07:25.397192",
     "status": "completed"
    },
    "tags": []
   },
   "outputs": [],
   "source": [
    "def atualiza_dia(_jogos):\n",
    "    _jogos = prepara_df(_jogos)\n",
    "\n",
    "    _jogos = _jogos.reset_index(drop=True)\n",
    "\n",
    "    return _jogos"
   ]
  },
  {
   "attachments": {},
   "cell_type": "markdown",
   "id": "69d8ec28",
   "metadata": {
    "papermill": {
     "duration": 0.002999,
     "end_time": "2024-04-27T13:07:25.424091",
     "exception": false,
     "start_time": "2024-04-27T13:07:25.421092",
     "status": "completed"
    },
    "tags": []
   },
   "source": [
    "### Pegando os jogos do dia"
   ]
  },
  {
   "cell_type": "code",
   "execution_count": 5,
   "id": "1666c0e0",
   "metadata": {
    "execution": {
     "iopub.execute_input": "2024-04-27T13:07:25.433147Z",
     "iopub.status.busy": "2024-04-27T13:07:25.433147Z",
     "iopub.status.idle": "2024-04-27T13:07:25.445196Z",
     "shell.execute_reply": "2024-04-27T13:07:25.445196Z"
    },
    "papermill": {
     "duration": 0.019048,
     "end_time": "2024-04-27T13:07:25.447196",
     "exception": false,
     "start_time": "2024-04-27T13:07:25.428148",
     "status": "completed"
    },
    "tags": []
   },
   "outputs": [],
   "source": [
    "df_today = pd.read_csv(f'jogos_do_dia/{data_var}.csv')"
   ]
  },
  {
   "cell_type": "markdown",
   "id": "58f8e020",
   "metadata": {
    "papermill": {
     "duration": 0.004001,
     "end_time": "2024-04-27T13:07:25.455230",
     "exception": false,
     "start_time": "2024-04-27T13:07:25.451229",
     "status": "completed"
    },
    "tags": []
   },
   "source": [
    "### Atualizando os datasets que tem jogo hoje"
   ]
  },
  {
   "cell_type": "code",
   "execution_count": 6,
   "id": "33c412f2",
   "metadata": {
    "execution": {
     "iopub.execute_input": "2024-04-27T13:07:25.464313Z",
     "iopub.status.busy": "2024-04-27T13:07:25.464313Z",
     "iopub.status.idle": "2024-04-27T13:07:25.557082Z",
     "shell.execute_reply": "2024-04-27T13:07:25.556083Z"
    },
    "papermill": {
     "duration": 0.100804,
     "end_time": "2024-04-27T13:07:25.559122",
     "exception": false,
     "start_time": "2024-04-27T13:07:25.458318",
     "status": "completed"
    },
    "tags": []
   },
   "outputs": [],
   "source": [
    "temporada = pd.read_csv('data/Entire_Season.csv')\n",
    "temporada = temporada[temporada['Date'] < data_var]\n",
    "temporada = pd.concat([temporada, df_today])\n",
    "ligas = df_today['League'].unique().tolist()\n",
    "temporada = temporada[temporada['League'].isin(ligas)]\n",
    "temporada.reset_index(drop=True, inplace=True)"
   ]
  },
  {
   "cell_type": "markdown",
   "id": "87a449a8",
   "metadata": {
    "papermill": {
     "duration": 0.003995,
     "end_time": "2024-04-27T13:07:25.567119",
     "exception": false,
     "start_time": "2024-04-27T13:07:25.563124",
     "status": "completed"
    },
    "tags": []
   },
   "source": [
    "### Cria variáveis na temporada e nos jogos do dia"
   ]
  },
  {
   "cell_type": "code",
   "execution_count": 7,
   "id": "0abec198",
   "metadata": {
    "execution": {
     "iopub.execute_input": "2024-04-27T13:07:25.577186Z",
     "iopub.status.busy": "2024-04-27T13:07:25.577186Z"
    },
    "papermill": {
     "duration": 1190.115313,
     "end_time": "2024-04-27T13:27:15.686485",
     "exception": false,
     "start_time": "2024-04-27T13:07:25.571172",
     "status": "completed"
    },
    "tags": []
   },
   "outputs": [],
   "source": [
    "games = atualiza_dia(temporada)\n",
    "temporada = games[games['Date'] < data_var]\n",
    "os.makedirs(f'apostas_do_dia/{data_var}', exist_ok=True)"
   ]
  },
  {
   "cell_type": "code",
   "execution_count": null,
   "id": "3293c136",
   "metadata": {
    "execution": {
     "iopub.execute_input": "2024-04-26T13:06:45.927115Z",
     "iopub.status.busy": "2024-04-26T13:06:45.927115Z",
     "iopub.status.idle": "2024-04-26T13:06:45.973988Z",
     "shell.execute_reply": "2024-04-26T13:06:45.973988Z"
    },
    "papermill": {
     "duration": null,
     "end_time": null,
     "exception": null,
     "start_time": null,
     "status": "pending"
    },
    "tags": []
   },
   "outputs": [],
   "source": [
    "jogos = games[games['Date'] == data_var]\n",
    "\n",
    "jogos = jogos.drop(columns=['Home_Pts', 'Away_Pts',\n",
    "       'Back_Home', 'PL_Home', 'Back_Away',\n",
    "       'PL_Away', 'Back_Over', 'PL_Over', 'PL_Under', 'Back_HA_H', 'PL_HA_H',\n",
    "       'PL_HA_A', ])\n",
    "\n",
    "jogos"
   ]
  },
  {
   "attachments": {},
   "cell_type": "markdown",
   "id": "0d9e7e3e",
   "metadata": {
    "papermill": {
     "duration": null,
     "end_time": null,
     "exception": null,
     "start_time": null,
     "status": "pending"
    },
    "tags": []
   },
   "source": [
    "## Apostas do dia"
   ]
  },
  {
   "cell_type": "markdown",
   "id": "ad6ff101",
   "metadata": {
    "papermill": {
     "duration": null,
     "end_time": null,
     "exception": null,
     "start_time": null,
     "status": "pending"
    },
    "tags": []
   },
   "source": [
    "### Back Home V3 (QCut)"
   ]
  },
  {
   "cell_type": "code",
   "execution_count": null,
   "id": "8a69449a",
   "metadata": {
    "execution": {
     "iopub.execute_input": "2024-04-26T13:06:45.989608Z",
     "iopub.status.busy": "2024-04-26T13:06:45.989608Z",
     "iopub.status.idle": "2024-04-26T13:06:46.005242Z",
     "shell.execute_reply": "2024-04-26T13:06:46.005242Z"
    },
    "papermill": {
     "duration": null,
     "end_time": null,
     "exception": null,
     "start_time": null,
     "status": "pending"
    },
    "tags": []
   },
   "outputs": [],
   "source": [
    "# Duplicando o dataset\n",
    "df_bh_v3 = jogos.copy()\n",
    "\n",
    "df_bh_v3 = df_bh_v3[(df_bh_v3['P(H)'] > 0.35) & (df_bh_v3['P(H)'] < 0.65)]\n",
    "df_bh_v3 = df_bh_v3[(df_bh_v3['CG_H_Last_Game'] > 0) & (df_bh_v3['CG_H_Last_Game'] <= 170)]\n",
    "df_bh_v3 = df_bh_v3[(df_bh_v3['CG_A_Last_Game'] > 160)]\n",
    "\n",
    "df_bh_v3.replace([np.inf, -np.inf], 0, inplace=True)\n",
    "\n",
    "if not df_bh_v3.empty:\n",
    "    df_bh_v3.to_csv(f'apostas_do_dia/{data_var}/back_home_v3_{data_var}.csv', index=False)\n",
    "\n",
    "    print('------------ MÉTODO BACK HOME V3 (QCUT) ------------')\n",
    "    print()\n",
    "\n",
    "    df_bh_v3['Bet'] = 'Back Home'\n",
    "    ligs = df_bh_v3['League'].unique().tolist()\n",
    "\n",
    "    display(df_bh_v3[['Time', 'League', 'Home', 'Away', 'Odds_H', 'Bet']])\n",
    "    print()\n",
    "else: print('Sem jogos')"
   ]
  }
 ],
 "metadata": {
  "kernelspec": {
   "display_name": "modelos_futebol",
   "language": "python",
   "name": "python3"
  },
  "language_info": {
   "codemirror_mode": {
    "name": "ipython",
    "version": 3
   },
   "file_extension": ".py",
   "mimetype": "text/x-python",
   "name": "python",
   "nbconvert_exporter": "python",
   "pygments_lexer": "ipython3",
   "version": "3.10.7"
  },
  "papermill": {
   "default_parameters": {},
   "duration": null,
   "end_time": null,
   "environment_variables": {},
   "exception": null,
   "input_path": "apostas_do_dia_v2.ipynb",
   "output_path": "apostas_do_dia_v2.ipynb",
   "parameters": {
    "data_var": "2024-04-27"
   },
   "start_time": "2024-04-27T13:07:20.088873",
   "version": "2.5.0"
  }
 },
 "nbformat": 4,
 "nbformat_minor": 5
}