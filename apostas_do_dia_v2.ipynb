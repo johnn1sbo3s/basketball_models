{
 "cells": [
  {
   "cell_type": "code",
   "execution_count": 1,
   "id": "77b3cf65",
   "metadata": {
    "execution": {
     "iopub.execute_input": "2024-08-13T12:27:03.643197Z",
     "iopub.status.busy": "2024-08-13T12:27:03.642696Z",
     "iopub.status.idle": "2024-08-13T12:27:03.655682Z",
     "shell.execute_reply": "2024-08-13T12:27:03.655178Z"
    },
    "papermill": {
     "duration": 0.017482,
     "end_time": "2024-08-13T12:27:03.657179",
     "exception": false,
     "start_time": "2024-08-13T12:27:03.639697",
     "status": "completed"
    },
    "tags": [
     "parameters"
    ]
   },
   "outputs": [],
   "source": [
    "data_var = ''"
   ]
  },
  {
   "cell_type": "code",
   "execution_count": 2,
   "id": "f85524b9",
   "metadata": {
    "execution": {
     "iopub.execute_input": "2024-08-13T12:27:03.662179Z",
     "iopub.status.busy": "2024-08-13T12:27:03.661677Z",
     "iopub.status.idle": "2024-08-13T12:27:03.671189Z",
     "shell.execute_reply": "2024-08-13T12:27:03.670688Z"
    },
    "papermill": {
     "duration": 0.013518,
     "end_time": "2024-08-13T12:27:03.672694",
     "exception": false,
     "start_time": "2024-08-13T12:27:03.659176",
     "status": "completed"
    },
    "tags": [
     "injected-parameters"
    ]
   },
   "outputs": [],
   "source": [
    "# Parameters\n",
    "data_var = \"2024-08-13\"\n"
   ]
  },
  {
   "cell_type": "code",
   "execution_count": 3,
   "id": "7890d95d",
   "metadata": {
    "execution": {
     "iopub.execute_input": "2024-08-13T12:27:03.677695Z",
     "iopub.status.busy": "2024-08-13T12:27:03.677695Z",
     "iopub.status.idle": "2024-08-13T12:27:05.540541Z",
     "shell.execute_reply": "2024-08-13T12:27:05.540037Z"
    },
    "papermill": {
     "duration": 1.867343,
     "end_time": "2024-08-13T12:27:05.542038",
     "exception": false,
     "start_time": "2024-08-13T12:27:03.674695",
     "status": "completed"
    },
    "tags": []
   },
   "outputs": [],
   "source": [
    "import pandas as pd; pd.set_option('display.max_columns', None)\n",
    "import os\n",
    "from pycaret.classification import *\n",
    "from scripts.PreparaDatasetV2 import *\n",
    "from scripts.TeoriaRetornos import *"
   ]
  },
  {
   "attachments": {},
   "cell_type": "markdown",
   "id": "f5f470ab",
   "metadata": {
    "papermill": {
     "duration": 0.002499,
     "end_time": "2024-08-13T12:27:05.546537",
     "exception": false,
     "start_time": "2024-08-13T12:27:05.544038",
     "status": "completed"
    },
    "tags": []
   },
   "source": [
    "### Funções"
   ]
  },
  {
   "cell_type": "code",
   "execution_count": 4,
   "id": "930eac9e",
   "metadata": {
    "execution": {
     "iopub.execute_input": "2024-08-13T12:27:05.552042Z",
     "iopub.status.busy": "2024-08-13T12:27:05.551542Z",
     "iopub.status.idle": "2024-08-13T12:27:05.571199Z",
     "shell.execute_reply": "2024-08-13T12:27:05.570697Z"
    },
    "papermill": {
     "duration": 0.023659,
     "end_time": "2024-08-13T12:27:05.572697",
     "exception": false,
     "start_time": "2024-08-13T12:27:05.549038",
     "status": "completed"
    },
    "tags": []
   },
   "outputs": [],
   "source": [
    "def atualiza_dia(_jogos):\n",
    "    _jogos = prepara_df(_jogos)\n",
    "\n",
    "    _jogos = _jogos.reset_index(drop=True)\n",
    "\n",
    "    return _jogos"
   ]
  },
  {
   "attachments": {},
   "cell_type": "markdown",
   "id": "69d8ec28",
   "metadata": {
    "papermill": {
     "duration": 0.002001,
     "end_time": "2024-08-13T12:27:05.576698",
     "exception": false,
     "start_time": "2024-08-13T12:27:05.574697",
     "status": "completed"
    },
    "tags": []
   },
   "source": [
    "### Pegando os jogos do dia"
   ]
  },
  {
   "cell_type": "code",
   "execution_count": 5,
   "id": "1666c0e0",
   "metadata": {
    "execution": {
     "iopub.execute_input": "2024-08-13T12:27:05.581706Z",
     "iopub.status.busy": "2024-08-13T12:27:05.580697Z",
     "iopub.status.idle": "2024-08-13T12:27:05.602682Z",
     "shell.execute_reply": "2024-08-13T12:27:05.601689Z"
    },
    "papermill": {
     "duration": 0.025987,
     "end_time": "2024-08-13T12:27:05.604187",
     "exception": false,
     "start_time": "2024-08-13T12:27:05.578200",
     "status": "completed"
    },
    "tags": []
   },
   "outputs": [],
   "source": [
    "df_today = pd.read_csv(f'jogos_do_dia/{data_var}.csv')"
   ]
  },
  {
   "cell_type": "markdown",
   "id": "58f8e020",
   "metadata": {
    "papermill": {
     "duration": 0.001997,
     "end_time": "2024-08-13T12:27:05.608185",
     "exception": false,
     "start_time": "2024-08-13T12:27:05.606188",
     "status": "completed"
    },
    "tags": []
   },
   "source": [
    "### Atualizando os datasets que tem jogo hoje"
   ]
  },
  {
   "cell_type": "code",
   "execution_count": 6,
   "id": "33c412f2",
   "metadata": {
    "execution": {
     "iopub.execute_input": "2024-08-13T12:27:05.613185Z",
     "iopub.status.busy": "2024-08-13T12:27:05.613185Z",
     "iopub.status.idle": "2024-08-13T12:27:05.679626Z",
     "shell.execute_reply": "2024-08-13T12:27:05.679123Z"
    },
    "papermill": {
     "duration": 0.070436,
     "end_time": "2024-08-13T12:27:05.680622",
     "exception": false,
     "start_time": "2024-08-13T12:27:05.610186",
     "status": "completed"
    },
    "tags": []
   },
   "outputs": [],
   "source": [
    "temporada = pd.read_csv('data/Entire_Season.csv')\n",
    "temporada = temporada[temporada['Date'] < data_var]\n",
    "temporada = pd.concat([temporada, df_today])\n",
    "ligas = df_today['League'].unique().tolist()\n",
    "temporada = temporada[temporada['League'].isin(ligas)]\n",
    "temporada.reset_index(drop=True, inplace=True)"
   ]
  },
  {
   "cell_type": "markdown",
   "id": "87a449a8",
   "metadata": {
    "papermill": {
     "duration": 0.002999,
     "end_time": "2024-08-13T12:27:05.686135",
     "exception": false,
     "start_time": "2024-08-13T12:27:05.683136",
     "status": "completed"
    },
    "tags": []
   },
   "source": [
    "### Cria variáveis na temporada e nos jogos do dia"
   ]
  },
  {
   "cell_type": "code",
   "execution_count": 7,
   "id": "0abec198",
   "metadata": {
    "execution": {
     "iopub.execute_input": "2024-08-13T12:27:05.691637Z",
     "iopub.status.busy": "2024-08-13T12:27:05.691137Z",
     "iopub.status.idle": "2024-08-13T12:27:06.082277Z",
     "shell.execute_reply": "2024-08-13T12:27:06.081771Z"
    },
    "papermill": {
     "duration": 0.395645,
     "end_time": "2024-08-13T12:27:06.083781",
     "exception": false,
     "start_time": "2024-08-13T12:27:05.688136",
     "status": "completed"
    },
    "tags": []
   },
   "outputs": [],
   "source": [
    "games = atualiza_dia(temporada)\n",
    "temporada = games[games['Date'] < data_var]\n",
    "os.makedirs(f'apostas_do_dia/{data_var}', exist_ok=True)"
   ]
  },
  {
   "cell_type": "code",
   "execution_count": 8,
   "id": "3293c136",
   "metadata": {
    "execution": {
     "iopub.execute_input": "2024-08-13T12:27:06.089280Z",
     "iopub.status.busy": "2024-08-13T12:27:06.088782Z",
     "iopub.status.idle": "2024-08-13T12:27:06.128798Z",
     "shell.execute_reply": "2024-08-13T12:27:06.128293Z"
    },
    "papermill": {
     "duration": 0.044513,
     "end_time": "2024-08-13T12:27:06.130293",
     "exception": false,
     "start_time": "2024-08-13T12:27:06.085780",
     "status": "completed"
    },
    "tags": []
   },
   "outputs": [
    {
     "data": {
      "text/html": [
       "<div>\n",
       "<style scoped>\n",
       "    .dataframe tbody tr th:only-of-type {\n",
       "        vertical-align: middle;\n",
       "    }\n",
       "\n",
       "    .dataframe tbody tr th {\n",
       "        vertical-align: top;\n",
       "    }\n",
       "\n",
       "    .dataframe thead th {\n",
       "        text-align: right;\n",
       "    }\n",
       "</style>\n",
       "<table border=\"1\" class=\"dataframe\">\n",
       "  <thead>\n",
       "    <tr style=\"text-align: right;\">\n",
       "      <th></th>\n",
       "      <th>Date</th>\n",
       "      <th>League</th>\n",
       "      <th>Time</th>\n",
       "      <th>Home</th>\n",
       "      <th>Away</th>\n",
       "      <th>Odds_H</th>\n",
       "      <th>Odds_A</th>\n",
       "      <th>Over_Line</th>\n",
       "      <th>Odds_Over</th>\n",
       "      <th>Odds_Under</th>\n",
       "      <th>HA_Line</th>\n",
       "      <th>HA_Odds_H</th>\n",
       "      <th>HA_Odds_A</th>\n",
       "      <th>Fixture ID</th>\n",
       "      <th>P(H)</th>\n",
       "      <th>P(A)</th>\n",
       "      <th>P(O)</th>\n",
       "      <th>P(U)</th>\n",
       "      <th>P_Diff</th>\n",
       "      <th>Avg_CG_H</th>\n",
       "      <th>DP_CG_H</th>\n",
       "      <th>CV_CG_H</th>\n",
       "      <th>Avg_Pontos_H</th>\n",
       "      <th>DP_Pontos_H</th>\n",
       "      <th>CV_Pontos_H</th>\n",
       "      <th>CG_H_Last_Game</th>\n",
       "      <th>Media_Odds_Geral_H</th>\n",
       "      <th>DP_Odds_Geral_H</th>\n",
       "      <th>CV_Odds_Geral_H</th>\n",
       "      <th>Saldo_Gols_H</th>\n",
       "      <th>Avg_CG_A</th>\n",
       "      <th>DP_CG_A</th>\n",
       "      <th>CV_CG_A</th>\n",
       "      <th>Avg_Pontos_A</th>\n",
       "      <th>DP_Pontos_A</th>\n",
       "      <th>CV_Pontos_A</th>\n",
       "      <th>CG_A_Last_Game</th>\n",
       "      <th>Media_Odds_Geral_A</th>\n",
       "      <th>DP_Odds_Geral_A</th>\n",
       "      <th>CV_Odds_Geral_A</th>\n",
       "      <th>Saldo_Gols_A</th>\n",
       "      <th>Goals_Last_H</th>\n",
       "      <th>Goals_Last_A</th>\n",
       "      <th>Last_Odd_H</th>\n",
       "      <th>Last_Odd_A</th>\n",
       "      <th>MediaCustoGolHome</th>\n",
       "      <th>MediaCustoGolAway</th>\n",
       "      <th>CV_ML</th>\n",
       "      <th>CV_Over</th>\n",
       "      <th>CV_HA</th>\n",
       "      <th>Retornos_BH_Acu</th>\n",
       "      <th>Avg_Retornos_BH</th>\n",
       "      <th>Custo_Retorno_BH</th>\n",
       "      <th>Avg_Porc_BH_Bookie</th>\n",
       "      <th>Avg_Porc_BH_Real</th>\n",
       "      <th>Dist_Porc_BH</th>\n",
       "      <th>Retornos_BA_Acu</th>\n",
       "      <th>Avg_Retornos_BA</th>\n",
       "      <th>Custo_Retorno_BA</th>\n",
       "      <th>Avg_Porc_BA_Bookie</th>\n",
       "      <th>Avg_Porc_BA_Real</th>\n",
       "      <th>Dist_Porc_BA</th>\n",
       "    </tr>\n",
       "  </thead>\n",
       "  <tbody>\n",
       "    <tr>\n",
       "      <th>48</th>\n",
       "      <td>2024-08-13</td>\n",
       "      <td>República Dominicana Lnb</td>\n",
       "      <td>20:30</td>\n",
       "      <td>Indios</td>\n",
       "      <td>Reales de la Vega</td>\n",
       "      <td>1.66</td>\n",
       "      <td>2.03</td>\n",
       "      <td>177.5</td>\n",
       "      <td>1.83</td>\n",
       "      <td>1.83</td>\n",
       "      <td>0.0</td>\n",
       "      <td>0.0</td>\n",
       "      <td>0.0</td>\n",
       "      <td>EwiSfMv9</td>\n",
       "      <td>0.602410</td>\n",
       "      <td>0.492611</td>\n",
       "      <td>0.546448</td>\n",
       "      <td>0.546448</td>\n",
       "      <td>0.095020</td>\n",
       "      <td>151.404</td>\n",
       "      <td>15.876695</td>\n",
       "      <td>0.104863</td>\n",
       "      <td>1.2</td>\n",
       "      <td>1.643168</td>\n",
       "      <td>1.369306</td>\n",
       "      <td>178.48</td>\n",
       "      <td>1.748</td>\n",
       "      <td>0.287002</td>\n",
       "      <td>0.164189</td>\n",
       "      <td>-6.0</td>\n",
       "      <td>138.438</td>\n",
       "      <td>20.555584</td>\n",
       "      <td>0.148482</td>\n",
       "      <td>2.4</td>\n",
       "      <td>1.341641</td>\n",
       "      <td>0.559017</td>\n",
       "      <td>138.32</td>\n",
       "      <td>1.574</td>\n",
       "      <td>0.205134</td>\n",
       "      <td>0.130327</td>\n",
       "      <td>23.0</td>\n",
       "      <td>92</td>\n",
       "      <td>91</td>\n",
       "      <td>1.94</td>\n",
       "      <td>1.52</td>\n",
       "      <td>127.806</td>\n",
       "      <td>0.0</td>\n",
       "      <td>0.141805</td>\n",
       "      <td>0.000000</td>\n",
       "      <td>NaN</td>\n",
       "      <td>0.79</td>\n",
       "      <td>0.158</td>\n",
       "      <td>4.177215</td>\n",
       "      <td>0.0</td>\n",
       "      <td>0.0</td>\n",
       "      <td>0.0</td>\n",
       "      <td>0.0</td>\n",
       "      <td>0.0</td>\n",
       "      <td>inf</td>\n",
       "      <td>0.0</td>\n",
       "      <td>0.0</td>\n",
       "      <td>0.0</td>\n",
       "    </tr>\n",
       "    <tr>\n",
       "      <th>49</th>\n",
       "      <td>2024-08-13</td>\n",
       "      <td>República Dominicana Lnb</td>\n",
       "      <td>21:00</td>\n",
       "      <td>Caneros</td>\n",
       "      <td>Marineros</td>\n",
       "      <td>1.40</td>\n",
       "      <td>2.66</td>\n",
       "      <td>172.5</td>\n",
       "      <td>1.88</td>\n",
       "      <td>1.78</td>\n",
       "      <td>0.0</td>\n",
       "      <td>0.0</td>\n",
       "      <td>0.0</td>\n",
       "      <td>zguyg09L</td>\n",
       "      <td>0.714286</td>\n",
       "      <td>0.375940</td>\n",
       "      <td>0.531915</td>\n",
       "      <td>0.561798</td>\n",
       "      <td>0.090226</td>\n",
       "      <td>175.496</td>\n",
       "      <td>30.602489</td>\n",
       "      <td>0.174377</td>\n",
       "      <td>3.0</td>\n",
       "      <td>0.000000</td>\n",
       "      <td>0.000000</td>\n",
       "      <td>173.00</td>\n",
       "      <td>2.070</td>\n",
       "      <td>0.474710</td>\n",
       "      <td>0.229329</td>\n",
       "      <td>28.0</td>\n",
       "      <td>183.178</td>\n",
       "      <td>40.463816</td>\n",
       "      <td>0.220899</td>\n",
       "      <td>0.0</td>\n",
       "      <td>0.000000</td>\n",
       "      <td>NaN</td>\n",
       "      <td>196.56</td>\n",
       "      <td>2.196</td>\n",
       "      <td>0.448141</td>\n",
       "      <td>0.204071</td>\n",
       "      <td>-51.0</td>\n",
       "      <td>100</td>\n",
       "      <td>84</td>\n",
       "      <td>1.73</td>\n",
       "      <td>2.34</td>\n",
       "      <td>0.000</td>\n",
       "      <td>0.0</td>\n",
       "      <td>0.438894</td>\n",
       "      <td>0.038640</td>\n",
       "      <td>NaN</td>\n",
       "      <td>0.00</td>\n",
       "      <td>0.000</td>\n",
       "      <td>inf</td>\n",
       "      <td>0.0</td>\n",
       "      <td>0.0</td>\n",
       "      <td>0.0</td>\n",
       "      <td>0.0</td>\n",
       "      <td>0.0</td>\n",
       "      <td>inf</td>\n",
       "      <td>0.0</td>\n",
       "      <td>0.0</td>\n",
       "      <td>0.0</td>\n",
       "    </tr>\n",
       "    <tr>\n",
       "      <th>50</th>\n",
       "      <td>2024-08-13</td>\n",
       "      <td>República Dominicana Lnb</td>\n",
       "      <td>21:30</td>\n",
       "      <td>Metros de Santiago</td>\n",
       "      <td>Titanes Del Licey</td>\n",
       "      <td>1.46</td>\n",
       "      <td>2.47</td>\n",
       "      <td>174.5</td>\n",
       "      <td>1.80</td>\n",
       "      <td>1.86</td>\n",
       "      <td>0.0</td>\n",
       "      <td>0.0</td>\n",
       "      <td>0.0</td>\n",
       "      <td>Wxt6mvXr</td>\n",
       "      <td>0.684932</td>\n",
       "      <td>0.404858</td>\n",
       "      <td>0.555556</td>\n",
       "      <td>0.537634</td>\n",
       "      <td>0.089790</td>\n",
       "      <td>155.538</td>\n",
       "      <td>40.153023</td>\n",
       "      <td>0.258156</td>\n",
       "      <td>1.2</td>\n",
       "      <td>1.643168</td>\n",
       "      <td>1.369306</td>\n",
       "      <td>129.00</td>\n",
       "      <td>1.754</td>\n",
       "      <td>0.360943</td>\n",
       "      <td>0.205783</td>\n",
       "      <td>-7.0</td>\n",
       "      <td>170.222</td>\n",
       "      <td>40.055575</td>\n",
       "      <td>0.235314</td>\n",
       "      <td>1.2</td>\n",
       "      <td>1.643168</td>\n",
       "      <td>1.369306</td>\n",
       "      <td>204.70</td>\n",
       "      <td>1.904</td>\n",
       "      <td>0.358511</td>\n",
       "      <td>0.188293</td>\n",
       "      <td>9.0</td>\n",
       "      <td>86</td>\n",
       "      <td>89</td>\n",
       "      <td>1.50</td>\n",
       "      <td>2.30</td>\n",
       "      <td>0.000</td>\n",
       "      <td>0.0</td>\n",
       "      <td>0.363449</td>\n",
       "      <td>0.023184</td>\n",
       "      <td>NaN</td>\n",
       "      <td>0.00</td>\n",
       "      <td>0.000</td>\n",
       "      <td>inf</td>\n",
       "      <td>0.0</td>\n",
       "      <td>0.0</td>\n",
       "      <td>0.0</td>\n",
       "      <td>0.0</td>\n",
       "      <td>0.0</td>\n",
       "      <td>inf</td>\n",
       "      <td>0.0</td>\n",
       "      <td>0.0</td>\n",
       "      <td>0.0</td>\n",
       "    </tr>\n",
       "    <tr>\n",
       "      <th>51</th>\n",
       "      <td>2024-08-13</td>\n",
       "      <td>Vietnã Vba</td>\n",
       "      <td>09:30</td>\n",
       "      <td>Da Nang Dragons</td>\n",
       "      <td>Saigon Heat</td>\n",
       "      <td>4.20</td>\n",
       "      <td>1.17</td>\n",
       "      <td>162.5</td>\n",
       "      <td>1.82</td>\n",
       "      <td>1.84</td>\n",
       "      <td>0.0</td>\n",
       "      <td>0.0</td>\n",
       "      <td>0.0</td>\n",
       "      <td>tr8nKZgE</td>\n",
       "      <td>0.238095</td>\n",
       "      <td>0.854701</td>\n",
       "      <td>0.549451</td>\n",
       "      <td>0.543478</td>\n",
       "      <td>0.092796</td>\n",
       "      <td>408.178</td>\n",
       "      <td>331.134624</td>\n",
       "      <td>0.811251</td>\n",
       "      <td>0.6</td>\n",
       "      <td>1.341641</td>\n",
       "      <td>2.236068</td>\n",
       "      <td>254.81</td>\n",
       "      <td>5.000</td>\n",
       "      <td>3.667486</td>\n",
       "      <td>0.733497</td>\n",
       "      <td>-17.0</td>\n",
       "      <td>110.996</td>\n",
       "      <td>20.441294</td>\n",
       "      <td>0.184162</td>\n",
       "      <td>1.8</td>\n",
       "      <td>1.643168</td>\n",
       "      <td>0.912871</td>\n",
       "      <td>144.32</td>\n",
       "      <td>1.406</td>\n",
       "      <td>0.160873</td>\n",
       "      <td>0.114419</td>\n",
       "      <td>30.0</td>\n",
       "      <td>83</td>\n",
       "      <td>88</td>\n",
       "      <td>3.07</td>\n",
       "      <td>1.64</td>\n",
       "      <td>0.000</td>\n",
       "      <td>0.0</td>\n",
       "      <td>0.797964</td>\n",
       "      <td>0.007728</td>\n",
       "      <td>NaN</td>\n",
       "      <td>0.00</td>\n",
       "      <td>0.000</td>\n",
       "      <td>inf</td>\n",
       "      <td>0.0</td>\n",
       "      <td>0.0</td>\n",
       "      <td>0.0</td>\n",
       "      <td>0.0</td>\n",
       "      <td>0.0</td>\n",
       "      <td>inf</td>\n",
       "      <td>0.0</td>\n",
       "      <td>0.0</td>\n",
       "      <td>0.0</td>\n",
       "    </tr>\n",
       "  </tbody>\n",
       "</table>\n",
       "</div>"
      ],
      "text/plain": [
       "          Date                    League   Time                Home  \\\n",
       "48  2024-08-13  República Dominicana Lnb  20:30              Indios   \n",
       "49  2024-08-13  República Dominicana Lnb  21:00             Caneros   \n",
       "50  2024-08-13  República Dominicana Lnb  21:30  Metros de Santiago   \n",
       "51  2024-08-13                Vietnã Vba  09:30     Da Nang Dragons   \n",
       "\n",
       "                 Away  Odds_H  Odds_A  Over_Line  Odds_Over  Odds_Under  \\\n",
       "48  Reales de la Vega    1.66    2.03      177.5       1.83        1.83   \n",
       "49          Marineros    1.40    2.66      172.5       1.88        1.78   \n",
       "50  Titanes Del Licey    1.46    2.47      174.5       1.80        1.86   \n",
       "51        Saigon Heat    4.20    1.17      162.5       1.82        1.84   \n",
       "\n",
       "    HA_Line  HA_Odds_H  HA_Odds_A Fixture ID      P(H)      P(A)      P(O)  \\\n",
       "48      0.0        0.0        0.0   EwiSfMv9  0.602410  0.492611  0.546448   \n",
       "49      0.0        0.0        0.0   zguyg09L  0.714286  0.375940  0.531915   \n",
       "50      0.0        0.0        0.0   Wxt6mvXr  0.684932  0.404858  0.555556   \n",
       "51      0.0        0.0        0.0   tr8nKZgE  0.238095  0.854701  0.549451   \n",
       "\n",
       "        P(U)    P_Diff  Avg_CG_H     DP_CG_H   CV_CG_H  Avg_Pontos_H  \\\n",
       "48  0.546448  0.095020   151.404   15.876695  0.104863           1.2   \n",
       "49  0.561798  0.090226   175.496   30.602489  0.174377           3.0   \n",
       "50  0.537634  0.089790   155.538   40.153023  0.258156           1.2   \n",
       "51  0.543478  0.092796   408.178  331.134624  0.811251           0.6   \n",
       "\n",
       "    DP_Pontos_H  CV_Pontos_H  CG_H_Last_Game  Media_Odds_Geral_H  \\\n",
       "48     1.643168     1.369306          178.48               1.748   \n",
       "49     0.000000     0.000000          173.00               2.070   \n",
       "50     1.643168     1.369306          129.00               1.754   \n",
       "51     1.341641     2.236068          254.81               5.000   \n",
       "\n",
       "    DP_Odds_Geral_H  CV_Odds_Geral_H  Saldo_Gols_H  Avg_CG_A    DP_CG_A  \\\n",
       "48         0.287002         0.164189          -6.0   138.438  20.555584   \n",
       "49         0.474710         0.229329          28.0   183.178  40.463816   \n",
       "50         0.360943         0.205783          -7.0   170.222  40.055575   \n",
       "51         3.667486         0.733497         -17.0   110.996  20.441294   \n",
       "\n",
       "     CV_CG_A  Avg_Pontos_A  DP_Pontos_A  CV_Pontos_A  CG_A_Last_Game  \\\n",
       "48  0.148482           2.4     1.341641     0.559017          138.32   \n",
       "49  0.220899           0.0     0.000000          NaN          196.56   \n",
       "50  0.235314           1.2     1.643168     1.369306          204.70   \n",
       "51  0.184162           1.8     1.643168     0.912871          144.32   \n",
       "\n",
       "    Media_Odds_Geral_A  DP_Odds_Geral_A  CV_Odds_Geral_A  Saldo_Gols_A  \\\n",
       "48               1.574         0.205134         0.130327          23.0   \n",
       "49               2.196         0.448141         0.204071         -51.0   \n",
       "50               1.904         0.358511         0.188293           9.0   \n",
       "51               1.406         0.160873         0.114419          30.0   \n",
       "\n",
       "    Goals_Last_H  Goals_Last_A  Last_Odd_H  Last_Odd_A  MediaCustoGolHome  \\\n",
       "48            92            91        1.94        1.52            127.806   \n",
       "49           100            84        1.73        2.34              0.000   \n",
       "50            86            89        1.50        2.30              0.000   \n",
       "51            83            88        3.07        1.64              0.000   \n",
       "\n",
       "    MediaCustoGolAway     CV_ML   CV_Over  CV_HA  Retornos_BH_Acu  \\\n",
       "48                0.0  0.141805  0.000000    NaN             0.79   \n",
       "49                0.0  0.438894  0.038640    NaN             0.00   \n",
       "50                0.0  0.363449  0.023184    NaN             0.00   \n",
       "51                0.0  0.797964  0.007728    NaN             0.00   \n",
       "\n",
       "    Avg_Retornos_BH  Custo_Retorno_BH  Avg_Porc_BH_Bookie  Avg_Porc_BH_Real  \\\n",
       "48            0.158          4.177215                 0.0               0.0   \n",
       "49            0.000               inf                 0.0               0.0   \n",
       "50            0.000               inf                 0.0               0.0   \n",
       "51            0.000               inf                 0.0               0.0   \n",
       "\n",
       "    Dist_Porc_BH  Retornos_BA_Acu  Avg_Retornos_BA  Custo_Retorno_BA  \\\n",
       "48           0.0              0.0              0.0               inf   \n",
       "49           0.0              0.0              0.0               inf   \n",
       "50           0.0              0.0              0.0               inf   \n",
       "51           0.0              0.0              0.0               inf   \n",
       "\n",
       "    Avg_Porc_BA_Bookie  Avg_Porc_BA_Real  Dist_Porc_BA  \n",
       "48                 0.0               0.0           0.0  \n",
       "49                 0.0               0.0           0.0  \n",
       "50                 0.0               0.0           0.0  \n",
       "51                 0.0               0.0           0.0  "
      ]
     },
     "execution_count": 8,
     "metadata": {},
     "output_type": "execute_result"
    }
   ],
   "source": [
    "jogos = games[games['Date'] == data_var]\n",
    "\n",
    "jogos = jogos.drop(columns=['Home_Pts', 'Away_Pts',\n",
    "       'Back_Home', 'PL_Home', 'Back_Away',\n",
    "       'PL_Away', 'Back_Over', 'PL_Over', 'PL_Under', 'Back_HA_H', 'PL_HA_H',\n",
    "       'PL_HA_A', ])\n",
    "\n",
    "jogos"
   ]
  },
  {
   "attachments": {},
   "cell_type": "markdown",
   "id": "0d9e7e3e",
   "metadata": {
    "papermill": {
     "duration": 0.002496,
     "end_time": "2024-08-13T12:27:06.135292",
     "exception": false,
     "start_time": "2024-08-13T12:27:06.132796",
     "status": "completed"
    },
    "tags": []
   },
   "source": [
    "## Apostas do dia"
   ]
  },
  {
   "cell_type": "markdown",
   "id": "ad6ff101",
   "metadata": {
    "papermill": {
     "duration": 0.002,
     "end_time": "2024-08-13T12:27:06.139792",
     "exception": false,
     "start_time": "2024-08-13T12:27:06.137792",
     "status": "completed"
    },
    "tags": []
   },
   "source": [
    "### Back Home V3 (QCut)"
   ]
  },
  {
   "cell_type": "code",
   "execution_count": 9,
   "id": "8a69449a",
   "metadata": {
    "execution": {
     "iopub.execute_input": "2024-08-13T12:27:06.145797Z",
     "iopub.status.busy": "2024-08-13T12:27:06.145296Z",
     "iopub.status.idle": "2024-08-13T12:27:06.159836Z",
     "shell.execute_reply": "2024-08-13T12:27:06.159320Z"
    },
    "papermill": {
     "duration": 0.019544,
     "end_time": "2024-08-13T12:27:06.161336",
     "exception": false,
     "start_time": "2024-08-13T12:27:06.141792",
     "status": "completed"
    },
    "tags": []
   },
   "outputs": [
    {
     "name": "stdout",
     "output_type": "stream",
     "text": [
      "Sem jogos\n"
     ]
    }
   ],
   "source": [
    "# Duplicando o dataset\n",
    "df_bh_v3 = jogos.copy()\n",
    "\n",
    "df_bh_v3 = df_bh_v3[(df_bh_v3['P(H)'] > 0.35) & (df_bh_v3['P(H)'] < 0.65)]\n",
    "df_bh_v3 = df_bh_v3[(df_bh_v3['CG_H_Last_Game'] > 0) & (df_bh_v3['CG_H_Last_Game'] <= 170)]\n",
    "df_bh_v3 = df_bh_v3[(df_bh_v3['CG_A_Last_Game'] > 160)]\n",
    "\n",
    "df_bh_v3.replace([np.inf, -np.inf], 0, inplace=True)\n",
    "\n",
    "if not df_bh_v3.empty:\n",
    "    df_bh_v3.to_csv(f'apostas_do_dia/{data_var}/back_home_v3_{data_var}.csv', index=False)\n",
    "\n",
    "    print('------------ MÉTODO BACK HOME V3 (QCUT) ------------')\n",
    "    print()\n",
    "\n",
    "    df_bh_v3['Bet'] = 'Back Home'\n",
    "    ligs = df_bh_v3['League'].unique().tolist()\n",
    "\n",
    "    display(df_bh_v3[['Time', 'League', 'Home', 'Away', 'Odds_H', 'Bet']])\n",
    "    print()\n",
    "else: print('Sem jogos')"
   ]
  }
 ],
 "metadata": {
  "kernelspec": {
   "display_name": "modelos_futebol",
   "language": "python",
   "name": "python3"
  },
  "language_info": {
   "codemirror_mode": {
    "name": "ipython",
    "version": 3
   },
   "file_extension": ".py",
   "mimetype": "text/x-python",
   "name": "python",
   "nbconvert_exporter": "python",
   "pygments_lexer": "ipython3",
   "version": "3.10.7"
  },
  "papermill": {
   "default_parameters": {},
   "duration": 4.253581,
   "end_time": "2024-08-13T12:27:06.624717",
   "environment_variables": {},
   "exception": null,
   "input_path": "apostas_do_dia_v2.ipynb",
   "output_path": "apostas_do_dia_v2.ipynb",
   "parameters": {
    "data_var": "2024-08-13"
   },
   "start_time": "2024-08-13T12:27:02.371136",
   "version": "2.5.0"
  }
 },
 "nbformat": 4,
 "nbformat_minor": 5
}