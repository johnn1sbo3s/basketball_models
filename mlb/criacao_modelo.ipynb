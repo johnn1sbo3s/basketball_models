{
 "cells": [
  {
   "attachments": {},
   "cell_type": "markdown",
   "metadata": {},
   "source": [
    "### Importações de bibliotecas"
   ]
  },
  {
   "cell_type": "code",
   "execution_count": 1,
   "metadata": {},
   "outputs": [],
   "source": [
    "import pandas as pd; pd.set_option('display.max_columns', None)\n",
    "# from pycaret.classification import *\n",
    "# import random\n",
    "# import pickle\n",
    "import numpy as np\n",
    "# import statsmodels.stats.proportion as sm\n",
    "# from scipy import stats\n",
    "# import matplotlib.pyplot as plt\n",
    "# import plotly.graph_objects as go\n",
    "# import matplotlib.pyplot as plt\n",
    "# import math"
   ]
  },
  {
   "attachments": {},
   "cell_type": "markdown",
   "metadata": {},
   "source": [
    "### Informações do método e funções"
   ]
  },
  {
   "cell_type": "code",
   "execution_count": 2,
   "metadata": {},
   "outputs": [],
   "source": [
    "# Define a variável target\n",
    "target = 'Back_Over'\n",
    "\n",
    "# Cria classes do target\n",
    "def cria_alvos(df):\n",
    "    # Back Home\n",
    "    df.loc[(df['Home_Pts'] > df['Away_Pts']), 'Back_Home'] = 1\n",
    "    df.loc[(df['Home_Pts'] < df['Away_Pts']), 'Back_Home'] = 0\n",
    "    \n",
    "    df.loc[(df['Back_Home']) == 1, 'PL_Home'] = df.Odds_H - 1\n",
    "    df.loc[(df['Back_Home']) == 0, 'PL_Home'] = - 1\n",
    "    \n",
    "    # Back Away\n",
    "    df.loc[(df['Home_Pts'] < df['Away_Pts']), 'Back_Away'] = 1\n",
    "    df.loc[(df['Home_Pts'] > df['Away_Pts']), 'Back_Away'] = 0\n",
    "    \n",
    "    df.loc[(df['Back_Away']) == 1, 'PL_Home'] = df.Odds_A - 1\n",
    "    df.loc[(df['Back_Away']) == 0, 'PL_Home'] = - 1\n",
    "    \n",
    "    # Over/Under\n",
    "    df.loc[(df['Home_Pts'] + df['Away_Pts']) > df['Over_Line'], 'Back_Over'] = 1\n",
    "    df.loc[(df['Home_Pts'] + df['Away_Pts']) < df['Over_Line'], 'Back_Over'] = 0\n",
    "    \n",
    "    df.loc[(df['Back_Over']) == 1, 'PL_Over'] = df.Odds_Over - 1\n",
    "    df.loc[(df['Back_Over']) == 0, 'PL_Over'] = - 1\n",
    "\n",
    "    df.loc[(df['Back_Over']) == 0, 'PL_Under'] = df.Odds_Under - 1\n",
    "    df.loc[(df['Back_Over']) == 1, 'PL_Under'] = - 1\n",
    "    \n",
    "    # HA\n",
    "    df.loc[((df['Home_Pts'] + df['HA_Line'])) > df['Away_Pts'], 'Back_HA_H'] = 1\n",
    "    df.loc[((df['Home_Pts'] + df['HA_Line'])) < df['Away_Pts'], 'Back_HA_H'] = 0\n",
    "    df.loc[((df['Home_Pts'] + df['HA_Line'])) == df['Away_Pts'], 'Back_HA_H'] = 2\n",
    "    \n",
    "    df.loc[(df['Back_HA_H']) == 1, 'PL_HA_H'] = df.HA_Odds_H - 1\n",
    "    df.loc[(df['Back_HA_H']) == 0, 'PL_HA_H'] = - 1\n",
    "    df.loc[(df['Back_HA_H']) == 2, 'PL_HA_H'] = - 0\n",
    "\n",
    "    df.loc[(df['Back_HA_H']) == 0, 'PL_HA_A'] = df.HA_Odds_A - 1\n",
    "    df.loc[(df['Back_HA_H']) == 1, 'PL_HA_A'] = - 1\n",
    "    df.loc[(df['Back_HA_H']) == 2, 'PL_HA_A'] = - 0\n",
    "\n",
    "    return df"
   ]
  },
  {
   "attachments": {},
   "cell_type": "markdown",
   "metadata": {},
   "source": [
    "### Funções"
   ]
  },
  {
   "cell_type": "code",
   "execution_count": 3,
   "metadata": {},
   "outputs": [],
   "source": [
    "# Calcula o profit\n",
    "def calcula_profit(df):\n",
    "    stake = 1\n",
    "    green = stake * (df.Odds_Over - 1)\n",
    "    red = -stake\n",
    "\n",
    "    df.loc[(df['prediction_label'] == 1) & (df[target] == 1), 'Profit'] = green\n",
    "    df.loc[(df['prediction_label'] == 1) & (df[target] == 0), 'Profit'] = red\n",
    "    df.loc[(df['prediction_label'] != 1),'Profit'] = 0\n",
    "\n",
    "    return df"
   ]
  },
  {
   "cell_type": "code",
   "execution_count": 4,
   "metadata": {},
   "outputs": [],
   "source": [
    "# Calcula o winrate\n",
    "def calcula_wr(df):\n",
    "\n",
    "    certos = df[(df['prediction_label'] == 1) & (df[target] == 1)]\n",
    "    winrate = len(certos) / len(df)\n",
    "    winrate = round(winrate*100, 2)\n",
    "\n",
    "    return winrate"
   ]
  },
  {
   "cell_type": "code",
   "execution_count": 5,
   "metadata": {},
   "outputs": [],
   "source": [
    "def grafico_por_mes(df):\n",
    "    # Construindo o gráfico de profit acumulado\n",
    "    df['Date'] = pd.to_datetime(df['Date'])\n",
    "    df['mes'] = df['Date'].dt.month\n",
    "    df['Profit_acu'] = df['Profit'].cumsum()\n",
    "    ax = df.groupby('mes')['Profit_acu'].last().plot(kind='line', figsize=(5,3), marker='o')\n",
    "    ax.set_xlabel('Mês')\n",
    "    ax.set_ylabel('Profit Acumulado')\n",
    "    ax.set_xticks(df['mes'].unique())\n",
    "    for i,j in zip(df['mes'].unique(),df.groupby('mes')['Profit_acu'].last()):\n",
    "        ax.annotate('{:.2f}'.format(j),xy=(i,j), fontsize=9)\n",
    "\n",
    "    plt.show()"
   ]
  },
  {
   "cell_type": "code",
   "execution_count": 6,
   "metadata": {},
   "outputs": [],
   "source": [
    "def plota_grafico(df):\n",
    "    df.Profit_acu.plot(figsize=(6,5), marker='o')\n",
    "    last_x = df['Profit_acu'].index[-1]\n",
    "    last_y = df['Profit_acu'].values[-1]\n",
    "    plt.text(last_x, last_y, str(round(last_y, 2)))\n",
    "    plt.show()"
   ]
  },
  {
   "cell_type": "code",
   "execution_count": 7,
   "metadata": {},
   "outputs": [],
   "source": [
    "def risco_ruina(df, stake=1, perc_banca=1, num_blocos=5):\n",
    "     dados = df.Profit.tolist()\n",
    "     \n",
    "     if stake != 1:\n",
    "          multiplicado = []\n",
    "          for valor in dados:\n",
    "               multiplicado.append(valor * stake)\n",
    "          dados = multiplicado\n",
    "\n",
    "     blocos = np.array_split(dados, num_blocos)\n",
    "\n",
    "     medias = []\n",
    "\n",
    "     for bloco in blocos:\n",
    "          meds = np.mean(bloco)\n",
    "          medias.append(meds)\n",
    "\n",
    "     desv_pad = np.std(medias)\n",
    "     media_geral = np.mean(medias)\n",
    "\n",
    "     # Risco de ruína\n",
    "     risco = math.exp((-2 * media_geral * 1) / (desv_pad ** 2)) * 100\n",
    "\n",
    "     # Intervalo de confiança\n",
    "     margem_erro = 1.96 * (desv_pad/(num_blocos ** (1/2)))\n",
    "     margem_cima = round((media_geral + margem_erro), 2)\n",
    "     margem_baixo = round((media_geral - margem_erro), 2)\n",
    "     \n",
    "     media_por_dp = media_geral / desv_pad\n",
    "     raiz = 1.96 / (num_blocos ** (1/2))\n",
    "\n",
    "     print(f'Média: {round(media_geral,2)}')\n",
    "     print(f'Desvio padrão: {round(desv_pad,2)}')\n",
    "     print('')\n",
    "     print(f'Blocos de {len(bloco)} partidas')\n",
    "     print(f'Risco de ruína: {risco:.2f}%')\n",
    "     print('')\n",
    "     print(f\"Intervalo de confiança: ({margem_baixo}, {margem_cima})\")\n",
    "     print('')\n",
    "     print(f'Média/DP: {media_por_dp:.2f}')\n",
    "     print(f'1,96/raiz: {raiz:.2f}')"
   ]
  },
  {
   "cell_type": "code",
   "execution_count": 8,
   "metadata": {},
   "outputs": [],
   "source": [
    "def int_confianca(df):\n",
    "    dados = df.Profit.tolist()\n",
    "\n",
    "    # Nível de confiança desejado (por exemplo, 95%)\n",
    "    confianca = 0.95\n",
    "\n",
    "    # Cálculo do intervalo de confiança para a média\n",
    "    media = np.mean(dados)\n",
    "    n = len(dados)\n",
    "    erro_padrao = stats.sem(dados)\n",
    "    intervalo = stats.t.interval(confianca, df=n-1, loc=media, scale=erro_padrao)\n",
    "    intervalo = tuple(round(item, 2) for item in intervalo)\n",
    "\n",
    "    # Exibição do resultado\n",
    "    print(f'Média: {round(media,2)}')\n",
    "    print(f'Desvio padrão: {round(erro_padrao,2)}')\n",
    "    print(f\"Intervalo de confiança: {intervalo}\")"
   ]
  },
  {
   "cell_type": "code",
   "execution_count": 9,
   "metadata": {},
   "outputs": [],
   "source": [
    "def teste_variancia(df):\n",
    "    dados = df.Profit.tolist()\n",
    "\n",
    "    # Cálculo do intervalo de confiança para a média\n",
    "    media = np.mean(dados)\n",
    "    n = len(dados)\n",
    "    erro_padrao = stats.sem(dados)\n",
    "    desvio_padrao = np.std(dados)\n",
    "\n",
    "    media_por_dp = media / desvio_padrao\n",
    "    raiz = 1.96 / math.sqrt(n)\n",
    "\n",
    "    # Exibição do resultado\n",
    "    print(f'Média/DP: {media_por_dp:.2f}')\n",
    "    print(f'1,96/raiz: {raiz:.2f}')"
   ]
  },
  {
   "cell_type": "code",
   "execution_count": 10,
   "metadata": {},
   "outputs": [],
   "source": [
    "################################################################################\n",
    "# Prepara o DF\n",
    "################################################################################\n",
    "\n",
    "def prepara_df(df):\n",
    "  df = df[(df.Over_Line >= 5)]\n",
    "  df = df[(df['Home_Pts'] + df['Away_Pts']) != df['Over_Line']]\n",
    "  df = df[df['HA_Odds_A'] != 0]\n",
    "  df = df[df['Odds_H'] != 0]\n",
    "  df = df[df['Odds_A'] != 0]\n",
    "  df = df[df['Odds_Over'] != 0]\n",
    "  df = df[df['Odds_Under'] != 0]\n",
    "\n",
    "  df = cria_alvos(df)\n",
    "\n",
    "  df['P(H)'] = 1 / df['Odds_H']\n",
    "  df['P(A)'] = 1 / df['Odds_A']\n",
    "  df['P(O)'] = 1 / df['Odds_Over']\n",
    "  df['P(U)'] = 1 / df['Odds_Under']\n",
    "  \n",
    "  df['P_Diff'] = ((1 / df['Odds_H']) + (1 / df['Odds_A'])) - 1\n",
    "  df['Porc_Over_Home'] = df.groupby('Home')[target].rolling(3).mean().reset_index(level=0, drop=True)\n",
    "  df['Porc_Over_Away'] = df.groupby('Away')[target].rolling(3).mean().reset_index(level=0, drop=True)\n",
    "  df['Porc_Over_Home']  = df.groupby('Home')['Porc_Over_Home'].shift(1)\n",
    "  df['Porc_Over_Away']  = df.groupby('Away')['Porc_Over_Away'].shift(1)\n",
    "  df['Porc_Over_Home'] = df['Porc_Over_Home'].replace(np.nan, 0)\n",
    "  df['Porc_Over_Away'] = df['Porc_Over_Away'].replace(np.nan, 0)\n",
    "  df.reset_index(inplace=True, drop=True)\n",
    "\n",
    "  # Custo do gol\n",
    "  df['CustoGolHome'] = df['Home_Pts'] / (1 / df['Odds_H'])\n",
    "  df['CustoGolAway'] = df['Away_Pts'] / (1 / df['Odds_A'])\n",
    "  df['CustoGolHome'] = df['CustoGolHome'].replace(np.inf, 0)\n",
    "  df['CustoGolAway'] = df['CustoGolAway'].replace(np.inf, 0)\n",
    "  df.reset_index(drop=True, inplace=True)\n",
    "  \n",
    "  # Último custo do gol\n",
    "  df['Last_CG_H']  = df.groupby('Home')['CustoGolHome'].shift(1)\n",
    "  df['Last_CG_A']  = df.groupby('Away')['CustoGolAway'].shift(1)\n",
    "  df['Last_CG_H'] = df['Last_CG_H'].replace(np.nan, 0)\n",
    "  df['Last_CG_A'] = df['Last_CG_A'].replace(np.nan, 0)\n",
    "\n",
    "  # Média móvel do custo do gol\n",
    "  df['MediaCustoGolHome'] = df.groupby('Home')['CustoGolHome'].rolling(window=3).mean().reset_index(level=0, drop=True)\n",
    "  df['MediaCustoGolAway'] = df.groupby('Away')['CustoGolAway'].rolling(window=3).mean().reset_index(level=0, drop=True)\n",
    "\n",
    "  df['MediaCustoGolHome']  = df.groupby('Home')['MediaCustoGolHome'].shift(1)\n",
    "  df['MediaCustoGolAway']  = df.groupby('Away')['MediaCustoGolAway'].shift(1)\n",
    "\n",
    "  df['MediaCustoGolHome'] = df['MediaCustoGolHome'].replace(np.nan, 0)\n",
    "  df['MediaCustoGolAway'] = df['MediaCustoGolAway'].replace(np.nan, 0)\n",
    "\n",
    "  limit_up_h = df.CustoGolHome.mean() + df.CustoGolHome.std()\n",
    "  limit_up_a = df.CustoGolAway.mean() + df.CustoGolAway.std()\n",
    "  df.loc[(df['CustoGolHome'] > limit_up_h), 'Acima_Last_CG_H'] = 1\n",
    "  df.loc[(df['CustoGolHome'] <= limit_up_h), 'Acima_Last_CG_H'] = 0\n",
    "  df.loc[(df['CustoGolAway'] > limit_up_a), 'Acima_Last_CG_A'] = 1\n",
    "  df.loc[(df['CustoGolAway'] <= limit_up_a), 'Acima_Last_CG_A'] = 0\n",
    "  df['Acima_Last_CG_H']  = df.groupby('Home')['Acima_Last_CG_H'].shift(1)\n",
    "  df['Acima_Last_CG_A']  = df.groupby('Away')['Acima_Last_CG_A'].shift(1)\n",
    "  df['Acima_Last_CG_H'] = df['Acima_Last_CG_H'].replace(np.nan, 0)\n",
    "  df['Acima_Last_CG_A'] = df['Acima_Last_CG_A'].replace(np.nan, 0)\n",
    "\n",
    "  limit_down_h = df.CustoGolHome.mean() - df.CustoGolHome.std()\n",
    "  limit_down_a = df.CustoGolAway.mean() - df.CustoGolAway.std()\n",
    "  df.loc[(df['CustoGolHome'] < limit_down_h), 'Abaixo_Last_CG_H'] = 1\n",
    "  df.loc[(df['CustoGolHome'] >= limit_down_h), 'Abaixo_Last_CG_H'] = 0\n",
    "  df.loc[(df['CustoGolAway'] < limit_down_a), 'Abaixo_Last_CG_A'] = 1\n",
    "  df.loc[(df['CustoGolAway'] >= limit_down_a), 'Abaixo_Last_CG_A'] = 0\n",
    "  df['Abaixo_Last_CG_H']  = df.groupby('Home')['Abaixo_Last_CG_H'].shift(1)\n",
    "  df['Abaixo_Last_CG_A']  = df.groupby('Away')['Abaixo_Last_CG_A'].shift(1)\n",
    "  df['Abaixo_Last_CG_H'] = df['Abaixo_Last_CG_H'].replace(np.nan, 0)\n",
    "  df['Abaixo_Last_CG_A'] = df['Abaixo_Last_CG_A'].replace(np.nan, 0)\n",
    "\n",
    "  df['CV_ML'] = (df[['Odds_H', 'Odds_A']].std(axis=1)) / (df[['Odds_H', 'Odds_A']].mean(axis=1))\n",
    "  df['CV_Over'] = (df[['Odds_Over', 'Odds_Under']].std(axis=1)) / (df[['Odds_Over', 'Odds_Under']].mean(axis=1))\n",
    "\n",
    "  df.pop('CustoGolHome')\n",
    "  df.pop('CustoGolAway')\n",
    "  \n",
    "  return df"
   ]
  },
  {
   "attachments": {},
   "cell_type": "markdown",
   "metadata": {},
   "source": [
    "### Ajuste dos datasets de treino e teste"
   ]
  },
  {
   "cell_type": "code",
   "execution_count": 11,
   "metadata": {},
   "outputs": [],
   "source": [
    "treino0 = pd.read_csv('../data/kbo/kbo-2019.csv')\n",
    "treino1 = pd.read_csv('../data/kbo/kbo-2020.csv')\n",
    "treino2 = pd.read_csv('../data/kbo/kbo-2021.csv')\n",
    "treino3 = pd.read_csv('../data/kbo/kbo-2022.csv')\n",
    "treino4 = pd.read_csv('../data/kbo/kbo-2023.csv')\n",
    "treino = pd.concat([treino0, treino1, treino2, treino3, treino4])\n",
    "treino.sort_values('Date', inplace=True)\n",
    "flt = (treino['Home_Pts'] != treino['Away_Pts'])\n",
    "treino = treino[flt]\n",
    "treino.reset_index(inplace=True)\n",
    "\n",
    "treino = prepara_df(treino)\n",
    "treino.drop('index', axis=1, inplace=True)\n",
    "\n",
    "colunas_float = ['Home_Pts', 'Away_Pts',\n",
    "       'Odds_H', 'Odds_A', 'Over_Line', 'Odds_Over', 'Odds_Under', 'HA_Line',\n",
    "       'HA_Odds_H', 'HA_Odds_A', 'Back_Home', 'PL_Home', 'PL_Over', 'PL_Under', 'P(H)', 'P(A)', 'P(O)',\n",
    "       'P(U)', 'P_Diff', 'Porc_Over_Home', 'Porc_Over_Away', 'MediaCustoGolHome', 'MediaCustoGolAway', 'Last_CG_H', 'Last_CG_A', 'CV_ML', 'CV_Over']\n",
    "treino[colunas_float] = treino[colunas_float].astype(float)"
   ]
  },
  {
   "cell_type": "code",
   "execution_count": 18,
   "metadata": {},
   "outputs": [
    {
     "data": {
      "text/plain": [
       "Index(['Date', 'Season', 'Season_Time', 'Time', 'Home', 'Away', 'Home_Pts',\n",
       "       'Away_Pts', 'Odds_H', 'Odds_A', 'Over_Line', 'Odds_Over', 'Odds_Under',\n",
       "       'HA_Line', 'HA_Odds_H', 'HA_Odds_A', 'Back_Home', 'PL_Home',\n",
       "       'Back_Away', 'Back_Over', 'PL_Over', 'PL_Under', 'Back_HA_H', 'PL_HA_H',\n",
       "       'PL_HA_A', 'P(H)', 'P(A)', 'P(O)', 'P(U)', 'P_Diff', 'Porc_Over_Home',\n",
       "       'Porc_Over_Away', 'Last_CG_H', 'Last_CG_A', 'MediaCustoGolHome',\n",
       "       'MediaCustoGolAway', 'Acima_Last_CG_H', 'Acima_Last_CG_A',\n",
       "       'Abaixo_Last_CG_H', 'Abaixo_Last_CG_A', 'CV_ML', 'CV_Over'],\n",
       "      dtype='object')"
      ]
     },
     "execution_count": 18,
     "metadata": {},
     "output_type": "execute_result"
    }
   ],
   "source": [
    "treino.columns"
   ]
  },
  {
   "cell_type": "code",
   "execution_count": 19,
   "metadata": {},
   "outputs": [],
   "source": [
    "cor = treino[['Back_Over', 'P(H)', 'P(A)', 'P(O)', 'P(U)', 'P_Diff', 'Porc_Over_Home',\n",
    "       'Porc_Over_Away', 'Last_CG_H', 'Last_CG_A', 'MediaCustoGolHome',\n",
    "       'MediaCustoGolAway', 'Acima_Last_CG_H', 'Acima_Last_CG_A',\n",
    "       'Abaixo_Last_CG_H', 'Abaixo_Last_CG_A', 'CV_ML', 'CV_Over']]"
   ]
  },
  {
   "cell_type": "code",
   "execution_count": 21,
   "metadata": {},
   "outputs": [],
   "source": [
    "cor = cor.corr()"
   ]
  },
  {
   "cell_type": "code",
   "execution_count": 23,
   "metadata": {},
   "outputs": [
    {
     "data": {
      "text/plain": [
       "Back_Over            1.000000\n",
       "P(H)                -0.034153\n",
       "P(A)                 0.028949\n",
       "P(O)                 0.004177\n",
       "P(U)                -0.018275\n",
       "P_Diff              -0.033888\n",
       "Porc_Over_Home      -0.004316\n",
       "Porc_Over_Away      -0.028691\n",
       "Last_CG_H            0.036758\n",
       "Last_CG_A            0.009565\n",
       "MediaCustoGolHome    0.008261\n",
       "MediaCustoGolAway   -0.006936\n",
       "Acima_Last_CG_H      0.009323\n",
       "Acima_Last_CG_A     -0.010380\n",
       "Abaixo_Last_CG_H    -0.007794\n",
       "Abaixo_Last_CG_A    -0.005900\n",
       "CV_ML                0.023242\n",
       "CV_Over             -0.009710\n",
       "Name: Back_Over, dtype: float64"
      ]
     },
     "execution_count": 23,
     "metadata": {},
     "output_type": "execute_result"
    }
   ],
   "source": [
    "cor['Back_Over']"
   ]
  },
  {
   "cell_type": "code",
   "execution_count": null,
   "metadata": {},
   "outputs": [],
   "source": [
    "treino.to_excel('KBO-2019-2023.xlsx', index=False)"
   ]
  },
  {
   "cell_type": "code",
   "execution_count": null,
   "metadata": {},
   "outputs": [],
   "source": [
    "treino.to_excel('~/Desktop/MLB-2021-23.xlsx', index=False)"
   ]
  },
  {
   "attachments": {},
   "cell_type": "markdown",
   "metadata": {},
   "source": [
    "### Fatiando o DF"
   ]
  },
  {
   "cell_type": "code",
   "execution_count": null,
   "metadata": {},
   "outputs": [],
   "source": [
    "def corta_df(df):\n",
    "    corte = (df.P_Diff >= 0.03) & (df.P_Diff <= 0.1) & (df['P(O)'] >= 0.50) & (df['P(O)'] <= 0.7) & (df['Abaixo_Last_CG_H'] == 0) & (df['Porc_Over_Home'] >= 0) & (df['Porc_Over_Home'] <= 0.5)\n",
    "    df = df[corte]\n",
    "\n",
    "    return df"
   ]
  },
  {
   "cell_type": "code",
   "execution_count": null,
   "metadata": {},
   "outputs": [],
   "source": [
    "cortado = corta_df(treino)\n",
    "sns.scatterplot(data=cortado, x='Porc_Over_Home', y='MediaCustoGolHome', hue='PL')"
   ]
  },
  {
   "attachments": {},
   "cell_type": "markdown",
   "metadata": {},
   "source": [
    "### Testando modelos em diferentes seeds"
   ]
  },
  {
   "cell_type": "code",
   "execution_count": null,
   "metadata": {},
   "outputs": [],
   "source": [
    "treino.columns"
   ]
  },
  {
   "cell_type": "code",
   "execution_count": null,
   "metadata": {},
   "outputs": [],
   "source": [
    "features = ['Odds_H', 'P_Diff', 'Odds_Over', 'Porc_Over_Home']"
   ]
  },
  {
   "cell_type": "code",
   "execution_count": null,
   "metadata": {},
   "outputs": [],
   "source": [
    "modelos = ['knn', 'gbc', 'ada', 'lightgbm', 'nb', 'qda', 'rf', 'et', 'dt', 'rbfsvm', 'gpc', 'mlp']\n",
    "best_list = []\n",
    "pos = 0\n",
    "\n",
    "teste = pd.read_csv('../../data/MLB/mlb-2022.csv')\n",
    "teste = prepara_df(teste)\n",
    "teste = corta_df(teste)\n",
    "\n",
    "print(f'{len(teste)} partidas na temporada')\n",
    "\n",
    "lista = random.sample(range(1, 9999), 1) # gera números entre 1 e 9999\n",
    "\n",
    "for i in modelos:\n",
    "  print('-------------------------------------------')\n",
    "  print(f'Modelo {i}')\n",
    "  print('')\n",
    "  melhor_seed = 0\n",
    "  melhor_alvo = 0\n",
    "\n",
    "  for r in range(len(lista)):\n",
    "    resultados = pd.DataFrame()\n",
    "    \n",
    "    classificador = setup(data = cortado, target = target, session_id=lista[r], ignore_features = [x for x in cortado.columns.to_list() if x not in features and x != target], verbose=False)\n",
    "    Treino = create_model(i, verbose=False)\n",
    "    session_id = get_config('seed')\n",
    "\n",
    "    df1 = predict_model(Treino, teste, verbose=False)\n",
    "\n",
    "    df1 = calcula_profit(df1)\n",
    "\n",
    "    filtro = df1.prediction_label == 1\n",
    "    df0 = df1[filtro]\n",
    "\n",
    "    # Ajustando o Índice\n",
    "    df0.reset_index(inplace=True, drop=True)\n",
    "    # df0.index = df0.index.set_names(['Nº'])\n",
    "    df0 = df0.rename(index=lambda x: x + 1)\n",
    "\n",
    "    df0['Profit_acu'] = df0.Profit.cumsum()\n",
    "    \n",
    "    profit = df0.Profit_acu.tail(1).item()\n",
    "    ROI = (df0.Profit_acu.tail(1)/len(df0)*100).item()\n",
    "    resultados.loc[resultados.shape[0],['Modelo','Profit','ROI','Entradas']] = [i, profit, ROI, len(df0)]\n",
    "\n",
    "    resultados['Profit'] = resultados['Profit'].replace('', np.nan)\n",
    "    resultados['ROI'] = resultados['ROI'].replace('', np.nan)\n",
    "    PL_total = round(resultados['Profit'].astype(float).sum(), 2)\n",
    "    ROI_total = round((PL_total/ resultados['Entradas'].sum())*100, 2)\n",
    "    winrate = calcula_wr(df0)\n",
    "    odd_media = df0.Odds_Over.mean()\n",
    "    odd_media = round(odd_media, 2)\n",
    "    print('')\n",
    "    print(f'WR: {winrate}% | Odd média: {odd_media:.2f}')\n",
    "    print(f'PL: {PL_total}u')\n",
    "    print(f'ROI: {ROI_total}% em {len(df0)} jogos')\n",
    "    print(f'Seed: {session_id}')\n",
    "    std_total = round(resultados['ROI'].std(), 2)\n",
    "\n",
    "    if PL_total < 0:\n",
    "      alvo = PL_total * ROI_total * -1\n",
    "    else: alvo = PL_total * ROI_total\n",
    "\n",
    "    if ROI_total >= 3:\n",
    "      best_list.append(Treino)\n",
    "      print(f'Add na posição {pos}')\n",
    "      pos += 1\n",
    "\n",
    "    if alvo > melhor_alvo:\n",
    "      melhor_alvo = alvo\n",
    "      melhor_seed = session_id\n",
    "      print('**NEW BEST**')\n",
    "\n",
    "  print('')\n",
    "  print(melhor_seed)"
   ]
  },
  {
   "cell_type": "code",
   "execution_count": null,
   "metadata": {},
   "outputs": [],
   "source": [
    "len(best_list)"
   ]
  },
  {
   "attachments": {},
   "cell_type": "markdown",
   "metadata": {},
   "source": [
    "### Testando em vários anos"
   ]
  },
  {
   "cell_type": "code",
   "execution_count": null,
   "metadata": {},
   "outputs": [],
   "source": [
    "lucros = []\n",
    "anos = [2022, 2023]\n",
    "\n",
    "for indice, model in enumerate(best_list):\n",
    "    print(f'{nome_modelo} - {indice}')\n",
    "    print('')\n",
    "    df_total = pd.DataFrame()\n",
    "    for ano in anos:\n",
    "        teste = pd.read_csv(f'../data/mlb-{ano}.csv')\n",
    "        teste = prepara_df(teste)\n",
    "        teste = corta_df(teste)\n",
    "\n",
    "        df1 = predict_model(model, teste, verbose=False)\n",
    "        df1 = calcula_profit(df1)\n",
    "\n",
    "        filtro = df1.prediction_label == 1\n",
    "        df0 = df1[filtro]\n",
    "\n",
    "        # Ajustando o Índice\n",
    "        df0.reset_index(inplace=True, drop=True)\n",
    "        df0 = df0.rename(index=lambda x: x + 1)\n",
    "\n",
    "        df0['Profit_acu'] = df0.Profit.cumsum()\n",
    "    \t\n",
    "        nome_modelo = type(best_list[indice]).__name__\n",
    "        winrate = calcula_wr(df0)\n",
    "        profit = round(df0.Profit_acu.tail(1).item(),2)\n",
    "        ROI = round((df0.Profit_acu.tail(1)/len(df0)*100).item(),2)\n",
    "        print(ano)\n",
    "        print(f'WR: {winrate}% | Odd média: {odd_media:.2f}')\n",
    "        print(\"Profit:\",profit,\"stakes em\", len(df0),\"jogos\")\n",
    "        print(\"ROI:\",ROI,\"%\")\n",
    "        print('---------------------------------------------')\n",
    "\n",
    "        df_total = pd.concat([df_total, df0])\n",
    "        lucros.append(profit)\n",
    "\n",
    "    df_total.reset_index(inplace=True)\n",
    "    df_total.sort_values('Date')\n",
    "\n",
    "    df_total['Profit_acu'] = df_total.Profit.cumsum()\n",
    "\n",
    "    profit = round(df_total.Profit_acu.tail(1).item(),2)\n",
    "    ROI = round((df_total.Profit_acu.tail(1)/len(df_total)*100).item(),2)\n",
    "    print(\"Total\")\n",
    "    print(\"Profit:\",profit,\"stakes em\", len(df_total),\"jogos\")\n",
    "    print(\"ROI:\",ROI,\"%\")\n",
    "    print('')\n",
    "    int_confianca(df_total)\n",
    "    print('')\n",
    "    teste_variancia(df_total)\n",
    "    plota_grafico(df_total)\n",
    "    print('')\n",
    "    print('')\n",
    "    print('')\n",
    "    print('')"
   ]
  },
  {
   "attachments": {},
   "cell_type": "markdown",
   "metadata": {},
   "source": [
    "### Dissecando o modelo"
   ]
  },
  {
   "cell_type": "code",
   "execution_count": null,
   "metadata": {},
   "outputs": [],
   "source": [
    "modelo = best_list[1]\n",
    "modelo"
   ]
  },
  {
   "cell_type": "code",
   "execution_count": null,
   "metadata": {},
   "outputs": [],
   "source": [
    "sns.scatterplot(data=df_total, x='P(O)', y='P_Diff', hue='PL')"
   ]
  },
  {
   "cell_type": "code",
   "execution_count": null,
   "metadata": {},
   "outputs": [],
   "source": [
    "teco = load_model('MLB_over', verbose=False)"
   ]
  },
  {
   "cell_type": "code",
   "execution_count": null,
   "metadata": {},
   "outputs": [],
   "source": [
    "lucros = []\n",
    "anos = [2022, 2023]\n",
    "\n",
    "print('')\n",
    "df_total = pd.DataFrame()\n",
    "for ano in anos:\n",
    "    teste = pd.read_csv(f'../data/mlb-{ano}.csv')\n",
    "    teste = prepara_df(teste)\n",
    "    teste['CV'] = (teste[['Odds_H', 'Odds_A']].std(axis=1)) / (teste[['Odds_H', 'Odds_A']].mean(axis=1))\n",
    "    # teste = corta_df(teste)\n",
    "    corte = ((teste['Over_Line'] <= 8.5) & (teste['CV'] > 0.05 ) & (teste['CV'] < 0.25 ))\n",
    "    corte = ((teste['Over_Line'] <= 8.5) & ((teste['CV'] > 0.05 ) & (teste['CV'] < 0.25 ) | (teste['CV'] > 0.35 )))\n",
    "    teste = teste[corte]\n",
    "\n",
    "    df1 = predict_model(teco, teste, verbose=False)\n",
    "    df1 = calcula_profit(df1)\n",
    "\n",
    "    filtro = df1.prediction_label == 1\n",
    "    df0 = df1[filtro]\n",
    "\n",
    "    # Ajustando o Índice\n",
    "    df0.reset_index(inplace=True, drop=True)\n",
    "    df0 = df0.rename(index=lambda x: x + 1)\n",
    "\n",
    "    df0['Profit_acu'] = df0.Profit.cumsum()\n",
    "    \n",
    "    winrate = calcula_wr(df0)\n",
    "    profit = round(df0.Profit_acu.tail(1).item(),2)\n",
    "    ROI = round((df0.Profit_acu.tail(1)/len(df0)*100).item(),2)\n",
    "    odd_media = df0['Odds_Over'].mean()\n",
    "    print(ano)\n",
    "    print(f'WR: {winrate}% | Odd média: {odd_media:.2f}')\n",
    "    print(\"Profit:\",profit,\"stakes em\", len(df0),\"jogos\")\n",
    "    print(\"ROI:\",ROI,\"%\")\n",
    "    print('---------------------------------------------')\n",
    "\n",
    "    df_total = pd.concat([df_total, df0])\n",
    "    lucros.append(profit)\n",
    "\n",
    "df_total.reset_index(inplace=True)\n",
    "df_total.sort_values('Date')\n",
    "\n",
    "df_total['Profit_acu'] = df_total.Profit.cumsum()\n",
    "\n",
    "profit = round(df_total.Profit_acu.tail(1).item(),2)\n",
    "ROI = round((df_total.Profit_acu.tail(1)/len(df_total)*100).item(),2)\n",
    "print(\"Total\")\n",
    "print(\"Profit:\",profit,\"stakes em\", len(df_total),\"jogos\")\n",
    "print(\"ROI:\",ROI,\"%\")\n",
    "print('')\n",
    "plota_grafico(df_total)"
   ]
  },
  {
   "cell_type": "code",
   "execution_count": null,
   "metadata": {},
   "outputs": [],
   "source": [
    "risco_ruina(df_total, stake= 3, num_blocos=10)"
   ]
  },
  {
   "attachments": {},
   "cell_type": "markdown",
   "metadata": {},
   "source": [
    "### Salvando o modelo"
   ]
  },
  {
   "cell_type": "code",
   "execution_count": null,
   "metadata": {},
   "outputs": [],
   "source": [
    "with open('serie_b_back_home.pkl', 'wb') as arquivo:\n",
    "    pickle.dump(model, arquivo)"
   ]
  },
  {
   "attachments": {},
   "cell_type": "markdown",
   "metadata": {},
   "source": [
    "### Teste de modelo pronto .pkl"
   ]
  },
  {
   "cell_type": "code",
   "execution_count": null,
   "metadata": {},
   "outputs": [],
   "source": [
    "temp = 2022\n",
    "\n",
    "teste = prepara_teste(temp)\n",
    "teste = teste[teste.FT_Odds_H < teste.FT_Odds_A]\n",
    "\n",
    "# Carregando o modelo\n",
    "with open('serie_a_back_home.pkl', 'rb') as file:\n",
    "    modelo = pickle.load(file)\n",
    "\n",
    "y = teste.loc[:,'Back_Home']\n",
    "\n",
    "# Criando o df só com as variáveis para o modelo\n",
    "features_in = modelo.feature_names_in_\n",
    "teste1 = teste.loc[:, features_in]\n",
    "\n",
    "# Fazendo as predicoes do dia\n",
    "predicoes = modelo.predict(teste1)\n",
    "\n",
    "# Adicionando as previsões ao df completo\n",
    "teste['Back_Home'] = y\n",
    "teste['prediction_label'] = predicoes\n",
    "\n",
    "teste = calcula_profit(teste)\n",
    "\n",
    "filtro = teste.prediction_label == 1\n",
    "df0 = teste[filtro]\n",
    "\n",
    "# Ajustando o Índice\n",
    "df0.reset_index(inplace=True, drop=True)\n",
    "df0.index = df0.index.set_names(['Nº'])\n",
    "df0 = df0.rename(index=lambda x: x + 1)\n",
    "\n",
    "df0['Profit_acu'] = df0.Profit.cumsum()\n",
    "\n",
    "lucro_acumulado_mes_a_mes = df0.groupby('mes')['Profit_acu'].last().tolist()\n",
    "last_x = teste.Lucro_Acumulado.index[-1]\n",
    "last_y = teste.Lucro_Acumulado.values[-1]\n",
    "plt.text(last_x, last_y, str(round(last_y, 2)))\n",
    "plt.show()\n",
    "\n",
    "profit = round(df0.Profit_acu.tail(1).item(),2)\n",
    "ROI = round((df0.Profit_acu.tail(1)/len(df0)*100).item(),2)\n",
    "print(f'Temporada: {temp} ({len(teste)} jogos)')\n",
    "print(\"Profit:\",profit,\"stakes em\", len(df0),\"jogos\")\n",
    "print(\"ROI:\",ROI,\"%\")\n",
    "print('')\n",
    "\n",
    "int_confianca(df0)"
   ]
  }
 ],
 "metadata": {
  "kernelspec": {
   "display_name": "backhome",
   "language": "python",
   "name": "python3"
  },
  "language_info": {
   "codemirror_mode": {
    "name": "ipython",
    "version": 3
   },
   "file_extension": ".py",
   "mimetype": "text/x-python",
   "name": "python",
   "nbconvert_exporter": "python",
   "pygments_lexer": "ipython3",
   "version": "3.11.4"
  },
  "orig_nbformat": 4
 },
 "nbformat": 4,
 "nbformat_minor": 2
}
